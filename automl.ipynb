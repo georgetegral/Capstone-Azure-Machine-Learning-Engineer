{
  "cells": [
    {
      "cell_type": "markdown",
      "source": [
        "# Automated ML\n",
        "\n",
        "## Overview\n",
        "\n",
        "For this notebook we will be importing the dataset, creating an experiment, creating a compute cluster, cleanning and preprocessing the data before doing our train and test split, running the AutoML Experiment and selecting the best AutoML Model."
      ],
      "metadata": {}
    },
    {
      "cell_type": "markdown",
      "source": [
        "## Dependencies\n",
        "\n",
        "First we will be importing all the needed dependencies to complete the project.\n",
        "\n",
        "Warning: Install the `imblearn` library before running the rest of the notebook"
      ],
      "metadata": {
        "nteract": {
          "transient": {
            "deleting": false
          }
        }
      }
    },
    {
      "cell_type": "code",
      "source": [
        "pip install imblearn"
      ],
      "outputs": [
        {
          "output_type": "stream",
          "name": "stdout",
          "text": [
            "Collecting imblearn\n",
            "  Downloading imblearn-0.0-py2.py3-none-any.whl (1.9 kB)\n",
            "Collecting imbalanced-learn\n",
            "  Downloading imbalanced_learn-0.8.0-py3-none-any.whl (206 kB)\n",
            "\u001b[K     |████████████████████████████████| 206 kB 7.9 MB/s eta 0:00:01\n",
            "\u001b[?25hRequirement already satisfied: scipy>=0.19.1 in /anaconda/envs/azureml_py38/lib/python3.8/site-packages (from imbalanced-learn->imblearn) (1.5.2)\n",
            "Requirement already satisfied: numpy>=1.13.3 in /anaconda/envs/azureml_py38/lib/python3.8/site-packages (from imbalanced-learn->imblearn) (1.18.5)\n",
            "Requirement already satisfied: joblib>=0.11 in /anaconda/envs/azureml_py38/lib/python3.8/site-packages (from imbalanced-learn->imblearn) (0.14.1)\n",
            "Collecting scikit-learn>=0.24\n",
            "  Downloading scikit_learn-0.24.2-cp38-cp38-manylinux2010_x86_64.whl (24.9 MB)\n",
            "\u001b[K     |████████████████████████████████| 24.9 MB 11.3 MB/s eta 0:00:01\n",
            "\u001b[?25hRequirement already satisfied: threadpoolctl>=2.0.0 in /anaconda/envs/azureml_py38/lib/python3.8/site-packages (from scikit-learn>=0.24->imbalanced-learn->imblearn) (2.1.0)\n",
            "\u001b[31mERROR: raiwidgets 0.4.0 has requirement ipython==7.16.1, but you'll have ipython 7.18.1 which is incompatible.\u001b[0m\n",
            "\u001b[31mERROR: raiwidgets 0.4.0 has requirement jinja2==2.11.1, but you'll have jinja2 2.11.2 which is incompatible.\u001b[0m\n",
            "Installing collected packages: scikit-learn, imbalanced-learn, imblearn\n",
            "  Attempting uninstall: scikit-learn\n",
            "    Found existing installation: scikit-learn 0.22.2.post1\n",
            "    Uninstalling scikit-learn-0.22.2.post1:\n",
            "      Successfully uninstalled scikit-learn-0.22.2.post1\n",
            "Successfully installed imbalanced-learn-0.8.0 imblearn-0.0 scikit-learn-0.24.2\n",
            "Note: you may need to restart the kernel to use updated packages.\n"
          ]
        }
      ],
      "execution_count": 1,
      "metadata": {
        "collapsed": true,
        "jupyter": {
          "source_hidden": false,
          "outputs_hidden": false
        },
        "nteract": {
          "transient": {
            "deleting": false
          }
        },
        "gather": {
          "logged": 1620677970921
        }
      }
    },
    {
      "cell_type": "code",
      "source": [
        "import logging\n",
        "import os\n",
        "import csv\n",
        "\n",
        "from matplotlib import pyplot as plt\n",
        "import numpy as np\n",
        "import pandas as pd\n",
        "from sklearn import datasets\n",
        "import pkg_resources\n",
        "from imblearn.under_sampling import RandomUnderSampler\n",
        "from sklearn.model_selection import train_test_split\n",
        "\n",
        "import azureml.core\n",
        "from azureml.core.experiment import Experiment\n",
        "from azureml.core.workspace import Workspace\n",
        "\n",
        "from azureml.core.dataset import Dataset\n",
        "from azureml.core import Datastore\n",
        "from azureml.core.compute import ComputeTarget, AmlCompute\n",
        "from azureml.core.compute_target import ComputeTargetException\n",
        "\n",
        "from azureml.train.automl import AutoMLConfig\n",
        "\n",
        "from azureml.pipeline.steps import AutoMLStep\n",
        "\n",
        "from azureml.data.dataset_factory import TabularDatasetFactory\n",
        "\n",
        "\n",
        "# Check core SDK version number\n",
        "print(\"SDK version:\", azureml.core.VERSION)"
      ],
      "outputs": [
        {
          "output_type": "stream",
          "name": "stdout",
          "text": [
            "SDK version: 1.27.0\n"
          ]
        }
      ],
      "execution_count": 39,
      "metadata": {
        "gather": {
          "logged": 1620684892371
        },
        "jupyter": {
          "outputs_hidden": false,
          "source_hidden": false
        },
        "nteract": {
          "transient": {
            "deleting": false
          }
        }
      }
    },
    {
      "cell_type": "markdown",
      "source": [
        "## Workspace Configuration\n",
        "\n",
        "In this cell we import the workspace configuration and create an experiment that we will use later."
      ],
      "metadata": {}
    },
    {
      "cell_type": "code",
      "source": [
        "ws = Workspace.from_config()\n",
        "\n",
        "print('Workspace name: ' + ws.name, \n",
        "      'Azure region: ' + ws.location, \n",
        "      'Subscription id: ' + ws.subscription_id, \n",
        "      'Resource group: ' + ws.resource_group, sep = '\\n')\n",
        "\n",
        "# choose a name for experiment\n",
        "experiment_name = 'automatedmlcovid'\n",
        "\n",
        "experiment=Experiment(ws, experiment_name)\n",
        "experiment"
      ],
      "outputs": [
        {
          "output_type": "stream",
          "name": "stdout",
          "text": [
            "Workspace name: quick-starts-ws-144486\n",
            "Azure region: southcentralus\n",
            "Subscription id: 1b944a9b-fdae-4f97-aeb1-b7eea0beac53\n",
            "Resource group: aml-quickstarts-144486\n"
          ]
        },
        {
          "output_type": "execute_result",
          "execution_count": 41,
          "data": {
            "text/plain": "Experiment(Name: automatedmlcovid,\nWorkspace: quick-starts-ws-144486)",
            "text/html": "<table style=\"width:100%\"><tr><th>Name</th><th>Workspace</th><th>Report Page</th><th>Docs Page</th></tr><tr><td>automatedmlcovid</td><td>quick-starts-ws-144486</td><td><a href=\"https://ml.azure.com/experiments/id/c5a09841-e122-40f1-b48c-5e5476d38f8c?wsid=/subscriptions/1b944a9b-fdae-4f97-aeb1-b7eea0beac53/resourcegroups/aml-quickstarts-144486/workspaces/quick-starts-ws-144486&amp;tid=660b3398-b80e-49d2-bc5b-ac1dc93b5254\" target=\"_blank\" rel=\"noopener\">Link to Azure Machine Learning studio</a></td><td><a href=\"https://docs.microsoft.com/en-us/python/api/azureml-core/azureml.core.experiment.Experiment?view=azure-ml-py\" target=\"_blank\" rel=\"noopener\">Link to Documentation</a></td></tr></table>"
          },
          "metadata": {}
        }
      ],
      "execution_count": 41,
      "metadata": {
        "gather": {
          "logged": 1620684916364
        },
        "jupyter": {
          "outputs_hidden": false,
          "source_hidden": false
        },
        "nteract": {
          "transient": {
            "deleting": false
          }
        }
      }
    },
    {
      "cell_type": "markdown",
      "source": [
        "## Compute Cluster creation\n",
        "In this cell a cpu cluster is created for running our experiments, it checks if a compute cluster with the same name exists, if it exists then uses it, if not it creates it.\n",
        "\n",
        "If the cluster does not exists we define the configuration for it. For this project we will be using `min_nodes = 1`, in your own project this will incurr in extra costs, so consider leaving it to 0."
      ],
      "metadata": {
        "nteract": {
          "transient": {
            "deleting": false
          }
        }
      }
    },
    {
      "cell_type": "code",
      "source": [
        "compute_cluster_name = \"cpu-cluster\"\n",
        "\n",
        "try:\n",
        "    compute_target = ComputeTarget(workspace=ws, name=compute_cluster_name)\n",
        "    print(\"Found existing compute cluster...\")\n",
        "except:\n",
        "    print(\"Creating new compute cluster...\")\n",
        "    compute_config = AmlCompute.provisioning_configuration(vm_size='STANDARD_D16s_V3', max_nodes=4, min_nodes=1)\n",
        "    compute_target = ComputeTarget.create(ws, compute_cluster_name, compute_config)\n",
        "    \n",
        "compute_target.wait_for_completion(show_output=True)\n",
        "print(\"Cluster details: \", compute_target.get_status().serialize())"
      ],
      "outputs": [
        {
          "output_type": "stream",
          "name": "stdout",
          "text": [
            "Found existing compute cluster...\n",
            "Succeeded\n",
            "AmlCompute wait for completion finished\n",
            "\n",
            "Minimum number of nodes requested have been provisioned\n",
            "Cluster details:  {'currentNodeCount': 1, 'targetNodeCount': 1, 'nodeStateCounts': {'preparingNodeCount': 0, 'runningNodeCount': 0, 'idleNodeCount': 1, 'unusableNodeCount': 0, 'leavingNodeCount': 0, 'preemptedNodeCount': 0}, 'allocationState': 'Steady', 'allocationStateTransitionTime': '2021-05-10T21:05:09.841000+00:00', 'errors': None, 'creationTime': '2021-05-10T20:19:57.705745+00:00', 'modifiedTime': '2021-05-10T20:20:13.081040+00:00', 'provisioningState': 'Succeeded', 'provisioningStateTransitionTime': None, 'scaleSettings': {'minNodeCount': 1, 'maxNodeCount': 4, 'nodeIdleTimeBeforeScaleDown': 'PT120S'}, 'vmPriority': 'Dedicated', 'vmSize': 'STANDARD_D16S_V3'}\n"
          ]
        }
      ],
      "execution_count": 42,
      "metadata": {
        "collapsed": true,
        "jupyter": {
          "source_hidden": false,
          "outputs_hidden": false
        },
        "nteract": {
          "transient": {
            "deleting": false
          }
        },
        "gather": {
          "logged": 1620684924945
        }
      }
    },
    {
      "cell_type": "markdown",
      "source": [
        "## Dataset\n",
        "\n",
        "### Overview\n",
        "We are going to use the Mexican Government's COVID-19 data, once it is uploaded to ML Studio we will consume it using TabularDataset.\n",
        "\n",
        "To consume the dataset we will import it from the Datastore tab in ML Studio, this is a blob storage, then we have to specify the location of the csv to import it.\n",
        "\n",
        "Once it's imported we will we creating a Pandas Dataframe that we will need later on."
      ],
      "metadata": {
        "nteract": {
          "transient": {
            "deleting": false
          }
        }
      }
    },
    {
      "cell_type": "code",
      "source": [
        "datastore = Datastore.get(ws,'workspaceblobstore')\n",
        "ds = TabularDatasetFactory.from_delimited_files(path=(datastore, 'UI/05-10-2021_081653_UTC/210509COVID19MEXICO.csv'))\n",
        "df = ds.to_pandas_dataframe()\n",
        "\n",
        "print(df)"
      ],
      "outputs": [
        {
          "output_type": "stream",
          "name": "stdout",
          "text": [
            "        FECHA_ACTUALIZACION ID_REGISTRO  ORIGEN  SECTOR  ENTIDAD_UM  SEXO  \\\n",
            "0                2021-05-09      z482b8       1      12           9     2   \n",
            "1                2021-05-09      z49a69       1      12          23     1   \n",
            "2                2021-05-09      z23d9d       1      12          22     2   \n",
            "3                2021-05-09      z24953       1      12           9     1   \n",
            "4                2021-05-09      zz8e77       1      12           9     2   \n",
            "...                     ...         ...     ...     ...         ...   ...   \n",
            "6757355          2021-05-09      6bd21b       2      12           9     1   \n",
            "6757356          2021-05-09      d0d932       2      12          12     1   \n",
            "6757357          2021-05-09      7ceaf8       2       4           9     1   \n",
            "6757358          2021-05-09      56cd1e       2       4           5     1   \n",
            "6757359          2021-05-09      cd3ffd       2       4          15     2   \n",
            "\n",
            "         ENTIDAD_NAC  ENTIDAD_RES  MUNICIPIO_RES  TIPO_PACIENTE  ...  \\\n",
            "0                  9            9             12              1  ...   \n",
            "1                 23           23              4              2  ...   \n",
            "2                 24           22              9              1  ...   \n",
            "3                  9            9             10              1  ...   \n",
            "4                  9            9              2              1  ...   \n",
            "...              ...          ...            ...            ...  ...   \n",
            "6757355           15            9             11              1  ...   \n",
            "6757356           12           12              1              1  ...   \n",
            "6757357            9            9              7              1  ...   \n",
            "6757358            5            5             27              1  ...   \n",
            "6757359           15           15            106              1  ...   \n",
            "\n",
            "        OTRO_CASO TOMA_MUESTRA_LAB RESULTADO_LAB  TOMA_MUESTRA_ANTIGENO  \\\n",
            "0               2                2            97                      2   \n",
            "1               1                2            97                      2   \n",
            "2               2                2            97                      2   \n",
            "3               1                1             2                      2   \n",
            "4               2                2            97                      2   \n",
            "...           ...              ...           ...                    ...   \n",
            "6757355         2                2            97                      1   \n",
            "6757356         1                2            97                      1   \n",
            "6757357         2                2            97                      1   \n",
            "6757358         1                2            97                      1   \n",
            "6757359         2                2            97                      1   \n",
            "\n",
            "         RESULTADO_ANTIGENO  CLASIFICACION_FINAL  MIGRANTE  PAIS_NACIONALIDAD  \\\n",
            "0                        97                    1        99             México   \n",
            "1                        97                    2        99             México   \n",
            "2                        97                    6        99             México   \n",
            "3                        97                    7        99             México   \n",
            "4                        97                    6        99             México   \n",
            "...                     ...                  ...       ...                ...   \n",
            "6757355                   2                    7        99             México   \n",
            "6757356                   2                    7        99             México   \n",
            "6757357                   2                    7        99             México   \n",
            "6757358                   2                    7        99             México   \n",
            "6757359                   2                    7        99             México   \n",
            "\n",
            "         PAIS_ORIGEN  UCI  \n",
            "0               97.0   97  \n",
            "1               97.0    1  \n",
            "2               97.0   97  \n",
            "3               97.0   97  \n",
            "4               97.0   97  \n",
            "...              ...  ...  \n",
            "6757355         97.0   97  \n",
            "6757356         97.0   97  \n",
            "6757357         97.0   97  \n",
            "6757358         97.0   97  \n",
            "6757359         97.0   97  \n",
            "\n",
            "[6757360 rows x 40 columns]\n"
          ]
        }
      ],
      "execution_count": 43,
      "metadata": {
        "collapsed": true,
        "jupyter": {
          "source_hidden": false,
          "outputs_hidden": false
        },
        "nteract": {
          "transient": {
            "deleting": false
          }
        },
        "gather": {
          "logged": 1620684943985
        }
      }
    },
    {
      "cell_type": "markdown",
      "source": [
        "### Data Preprocessing\n",
        "\n",
        "#### Cleaning\n",
        "The objective of our project is to create a model that can get if a patient with COVID-19 will enter into an Intensive Care Unit or not.\n",
        "\n",
        "The objective variable `UCI` has a lot of values that are 97, 98, or 99, which means that we don't know if the person is or was in a Intensive Care Unit, we only need the values 1 and 2, which means that the patient was or wasn't in an Intensive Care Unit, respectively.\n",
        "\n",
        "So the next step is to trim our dataset by removing the rows that have 97, 98 or 99, leaving only 'Yes'/'No' for our objective variable."
      ],
      "metadata": {
        "nteract": {
          "transient": {
            "deleting": false
          }
        }
      }
    },
    {
      "cell_type": "code",
      "source": [
        "arr_drop = [97,98,99]\r\n",
        "for element in arr_drop:\r\n",
        "    df.drop(df.loc[df['UCI']==element].index,inplace=True)\r\n",
        "\r\n",
        "print(df)\r\n",
        "print(\"--------------------------------------\")\r\n",
        "print(\"Classes count\")\r\n",
        "classes = pd.crosstab(index=df['UCI'],columns=\"count\")\r\n",
        "print(classes)\r\n"
      ],
      "outputs": [
        {
          "output_type": "stream",
          "name": "stdout",
          "text": [
            "        FECHA_ACTUALIZACION ID_REGISTRO  ORIGEN  SECTOR  ENTIDAD_UM  SEXO  \\\n",
            "1                2021-05-09      z49a69       1      12          23     1   \n",
            "16               2021-05-09      z166d5       1      12           1     1   \n",
            "21               2021-05-09      z388cd       1      12          29     2   \n",
            "22               2021-05-09      z4533d       1      12          29     1   \n",
            "27               2021-05-09      z4494e       1      12           8     1   \n",
            "...                     ...         ...     ...     ...         ...   ...   \n",
            "6757282          2021-05-09      4b89bb       1      12          22     2   \n",
            "6757292          2021-05-09      7efdce       1       4           9     2   \n",
            "6757308          2021-05-09      d45a16       1       4          19     1   \n",
            "6757320          2021-05-09      d3d30f       2       6          28     1   \n",
            "6757347          2021-05-09      a7f5d8       1      12          18     1   \n",
            "\n",
            "         ENTIDAD_NAC  ENTIDAD_RES  MUNICIPIO_RES  TIPO_PACIENTE  ...  \\\n",
            "1                 23           23              4              2  ...   \n",
            "16                 1            1              1              2  ...   \n",
            "21                15           21            117              2  ...   \n",
            "22                21           21            117              2  ...   \n",
            "27                 8            8             37              2  ...   \n",
            "...              ...          ...            ...            ...  ...   \n",
            "6757282           22           22             14              2  ...   \n",
            "6757292            9            9             10              2  ...   \n",
            "6757308           19           19             39              2  ...   \n",
            "6757320           28           28             27              2  ...   \n",
            "6757347           18           18             17              2  ...   \n",
            "\n",
            "        OTRO_CASO TOMA_MUESTRA_LAB RESULTADO_LAB  TOMA_MUESTRA_ANTIGENO  \\\n",
            "1               1                2            97                      2   \n",
            "16              2                1             1                      2   \n",
            "21              1                2            97                      2   \n",
            "22              2                2            97                      2   \n",
            "27              1                1             1                      2   \n",
            "...           ...              ...           ...                    ...   \n",
            "6757282         2                1             1                      2   \n",
            "6757292         2                2            97                      2   \n",
            "6757308         2                1             2                      2   \n",
            "6757320         2                1             3                      2   \n",
            "6757347         2                1             3                      2   \n",
            "\n",
            "         RESULTADO_ANTIGENO  CLASIFICACION_FINAL  MIGRANTE  PAIS_NACIONALIDAD  \\\n",
            "1                        97                    2        99             México   \n",
            "16                       97                    3        99             México   \n",
            "21                       97                    1        99             México   \n",
            "22                       97                    6        99             México   \n",
            "27                       97                    3        99             México   \n",
            "...                     ...                  ...       ...                ...   \n",
            "6757282                  97                    3        99             México   \n",
            "6757292                  97                    6        99             México   \n",
            "6757308                  97                    7        99             México   \n",
            "6757320                  97                    6        99             México   \n",
            "6757347                  97                    6        99             México   \n",
            "\n",
            "         PAIS_ORIGEN  UCI  \n",
            "1               97.0    1  \n",
            "16              97.0    2  \n",
            "21              97.0    2  \n",
            "22              97.0    2  \n",
            "27              97.0    2  \n",
            "...              ...  ...  \n",
            "6757282         97.0    2  \n",
            "6757292         97.0    2  \n",
            "6757308         97.0    2  \n",
            "6757320         97.0    1  \n",
            "6757347         97.0    2  \n",
            "\n",
            "[740781 rows x 40 columns]\n",
            "--------------------------------------\n",
            "Classes count\n",
            "col_0   count\n",
            "UCI          \n",
            "1       54892\n",
            "2      685889\n"
          ]
        }
      ],
      "execution_count": 44,
      "metadata": {
        "collapsed": true,
        "jupyter": {
          "source_hidden": false,
          "outputs_hidden": false
        },
        "nteract": {
          "transient": {
            "deleting": false
          }
        },
        "gather": {
          "logged": 1620684952070
        }
      }
    },
    {
      "cell_type": "markdown",
      "source": [
        "### Defining useful features\n",
        "As we defined in our task definition in the `README.md` file, we will use only the following features: `SEXO`, `EDAD`, `NEUMONIA`, `DIABETES`, `EPOC`, `ASMA`, `INMUSUPR`, `HIPERTENSION`, `OTRA_COM`, `CARDIOVASCULAR`, `OBESIDAD`, `RENAL_CRONICA`, `TABAQUISMO`, `RESULTADO_LAB`."
      ],
      "metadata": {
        "nteract": {
          "transient": {
            "deleting": false
          }
        }
      }
    },
    {
      "cell_type": "code",
      "source": [
        "df = df[['SEXO', 'EDAD','NEUMONIA','DIABETES','EPOC','ASMA','INMUSUPR','HIPERTENSION','OTRA_COM','CARDIOVASCULAR','OBESIDAD','RENAL_CRONICA','TABAQUISMO','RESULTADO_LAB', 'UCI']]\r\n",
        "print(df)"
      ],
      "outputs": [
        {
          "output_type": "stream",
          "name": "stdout",
          "text": [
            "         SEXO  EDAD  NEUMONIA  DIABETES  EPOC  ASMA  INMUSUPR  HIPERTENSION  \\\n",
            "1           1    66         1         1     2     2         2             1   \n",
            "16          1    32         1         1     2     2         2             1   \n",
            "21          2    12         1         1     2     2         2             2   \n",
            "22          1    11         2         1     2     2         2             2   \n",
            "27          1    49         2         2     2     2         2             2   \n",
            "...       ...   ...       ...       ...   ...   ...       ...           ...   \n",
            "6757282     2    87         1         2     2     2         2             2   \n",
            "6757292     2    21         2         2     2     2         2             2   \n",
            "6757308     1    69         2         2     2     2         2             2   \n",
            "6757320     1    70         2         2     1     2         1             1   \n",
            "6757347     1    33         1         2     2     2         2             2   \n",
            "\n",
            "         OTRA_COM  CARDIOVASCULAR  OBESIDAD  RENAL_CRONICA  TABAQUISMO  \\\n",
            "1               2               2         1              2           2   \n",
            "16              2               2         2              2           2   \n",
            "21              2               2         2              2           2   \n",
            "22              2               2         1              2           2   \n",
            "27              2               2         2              2           2   \n",
            "...           ...             ...       ...            ...         ...   \n",
            "6757282         2               2         2              2           2   \n",
            "6757292         2               2         2              2           2   \n",
            "6757308         2               2         2              2           2   \n",
            "6757320         2               1         2              1           2   \n",
            "6757347         2               2         1              2           2   \n",
            "\n",
            "         RESULTADO_LAB  UCI  \n",
            "1                   97    1  \n",
            "16                   1    2  \n",
            "21                  97    2  \n",
            "22                  97    2  \n",
            "27                   1    2  \n",
            "...                ...  ...  \n",
            "6757282              1    2  \n",
            "6757292             97    2  \n",
            "6757308              2    2  \n",
            "6757320              3    1  \n",
            "6757347              3    2  \n",
            "\n",
            "[740781 rows x 15 columns]\n"
          ]
        }
      ],
      "execution_count": 45,
      "metadata": {
        "collapsed": true,
        "jupyter": {
          "source_hidden": false,
          "outputs_hidden": false
        },
        "nteract": {
          "transient": {
            "deleting": false
          }
        },
        "gather": {
          "logged": 1620684956884
        }
      }
    },
    {
      "cell_type": "markdown",
      "source": [
        "#### Handling dataset class imbalance\n",
        "\n",
        "As we can see, the rows with 1 (Yes) in the `UCI` column are a lot less than the 2 (No). we can send the dataset to training like this, but we will get a \"Class balancing warning\" alert in Azure ML, so we are going to fix it.\n",
        "\n",
        "The next step in our data preprocessing is to balance the dataset. We will need the `imblearn` library that we installed before, and we will need to divide our dataframe in X and y to use the \"RandomUnderSampler\" method.\n",
        "\n",
        "`y` has only the column `UCI` column, and `X` the rest of the columns, as we already defined the features we wanted in the previous cell"
      ],
      "metadata": {
        "nteract": {
          "transient": {
            "deleting": false
          }
        }
      }
    },
    {
      "cell_type": "code",
      "source": [
        "y = df['UCI']\n",
        "X = df.drop('UCI',1)\n",
        "\n",
        "rus = RandomUnderSampler(random_state = 42)\n",
        "X_resampled, y_resampled = rus.fit_resample(X,y)\n",
        "print(X_resampled)\n",
        "print(\"-------\")\n",
        "print(y_resampled)"
      ],
      "outputs": [
        {
          "output_type": "stream",
          "name": "stdout",
          "text": [
            "        SEXO  EDAD  NEUMONIA  DIABETES  EPOC  ASMA  INMUSUPR  HIPERTENSION  \\\n",
            "0          1    66         1         1     2     2         2             1   \n",
            "1          2    60         1         1     2     2         2             2   \n",
            "2          1    80         1         1     2     2         2             1   \n",
            "3          1     5         1         2     2     2         2             2   \n",
            "4          1    58         1         2     2     2         2             2   \n",
            "...      ...   ...       ...       ...   ...   ...       ...           ...   \n",
            "109779     2    63         2         2     2     2         2             2   \n",
            "109780     2    10         2         2     2     2         2             2   \n",
            "109781     2    45         2         2     2     2         2             2   \n",
            "109782     2    53         1         2     2     2         2             1   \n",
            "109783     2    50         1         2     2     2         2             2   \n",
            "\n",
            "        OTRA_COM  CARDIOVASCULAR  OBESIDAD  RENAL_CRONICA  TABAQUISMO  \\\n",
            "0              2               2         1              2           2   \n",
            "1              2               2         2              2           2   \n",
            "2              2               2         1              2           2   \n",
            "3              2               2         2              2           2   \n",
            "4              2               2         2              2           2   \n",
            "...          ...             ...       ...            ...         ...   \n",
            "109779         2               2         2              2           1   \n",
            "109780         2               2         2              2           2   \n",
            "109781         2               2         2              2           2   \n",
            "109782         2               2         2              2           2   \n",
            "109783         2               2         2              2           2   \n",
            "\n",
            "        RESULTADO_LAB  \n",
            "0                  97  \n",
            "1                   1  \n",
            "2                   4  \n",
            "3                  97  \n",
            "4                   2  \n",
            "...               ...  \n",
            "109779              2  \n",
            "109780              2  \n",
            "109781              2  \n",
            "109782              2  \n",
            "109783              1  \n",
            "\n",
            "[109784 rows x 14 columns]\n",
            "-------\n",
            "0         1\n",
            "1         1\n",
            "2         1\n",
            "3         1\n",
            "4         1\n",
            "         ..\n",
            "109779    2\n",
            "109780    2\n",
            "109781    2\n",
            "109782    2\n",
            "109783    2\n",
            "Name: UCI, Length: 109784, dtype: int64\n"
          ]
        }
      ],
      "execution_count": 46,
      "metadata": {
        "collapsed": true,
        "jupyter": {
          "source_hidden": false,
          "outputs_hidden": false
        },
        "nteract": {
          "transient": {
            "deleting": false
          }
        },
        "gather": {
          "logged": 1620684960724
        }
      }
    },
    {
      "cell_type": "markdown",
      "source": [
        "### Train/test split\r\n",
        "\r\n",
        "Now that we have our balanced data, we will divide X and y between train and test"
      ],
      "metadata": {
        "nteract": {
          "transient": {
            "deleting": false
          }
        }
      }
    },
    {
      "cell_type": "code",
      "source": [
        "x_train, x_test, y_train, y_test = train_test_split(X_resampled,y_resampled,test_size = 0.2, random_state = 42)\n",
        "\n",
        "train_data = pd.concat([x_train,y_train],axis=1)\n",
        "\n",
        "print(train_data)\n",
        "\n",
        "print(\"Validating that we have balanced data for training.\")\n",
        "classes = pd.crosstab(index=train_data['UCI'],columns=\"count\")\n",
        "print(classes)"
      ],
      "outputs": [
        {
          "output_type": "stream",
          "name": "stdout",
          "text": [
            "        SEXO  EDAD  NEUMONIA  DIABETES  EPOC  ASMA  INMUSUPR  HIPERTENSION  \\\n",
            "29634      1    23         1         2     2     2         2             2   \n",
            "106415     2    40         1         2     2     2         2             2   \n",
            "78580      1    63         2         1     2     2         2             1   \n",
            "45877      2    34         1         2     2     2         2             2   \n",
            "524        2    33         1         2     2     2         2             2   \n",
            "...      ...   ...       ...       ...   ...   ...       ...           ...   \n",
            "54886      1    49         2         2     2     2         2             1   \n",
            "76820      2    47         1         2     2     2         2             2   \n",
            "103694     2    64         2         2     2     2         2             2   \n",
            "860        2    46         1         2     2     2         2             2   \n",
            "15795      2    32         2         2     2     2         2             2   \n",
            "\n",
            "        OTRA_COM  CARDIOVASCULAR  OBESIDAD  RENAL_CRONICA  TABAQUISMO  \\\n",
            "29634          2               2         2              2           2   \n",
            "106415         2               2         2              1           2   \n",
            "78580          2               1         2              1           2   \n",
            "45877          2               2         2              2           2   \n",
            "524            2               2         2              2           2   \n",
            "...          ...             ...       ...            ...         ...   \n",
            "54886          2               2         2              2           2   \n",
            "76820          2               2         2              2           2   \n",
            "103694         2               1         2              2           2   \n",
            "860            2               2         2              2           2   \n",
            "15795          2               2         1              2           2   \n",
            "\n",
            "        RESULTADO_LAB  UCI  \n",
            "29634               1    1  \n",
            "106415              1    2  \n",
            "78580               2    2  \n",
            "45877               1    1  \n",
            "524                 1    1  \n",
            "...               ...  ...  \n",
            "54886               2    1  \n",
            "76820               2    2  \n",
            "103694              2    2  \n",
            "860                 1    1  \n",
            "15795               1    1  \n",
            "\n",
            "[87827 rows x 15 columns]\n",
            "Validating that we have balanced data for training.\n",
            "col_0  count\n",
            "UCI         \n",
            "1      43805\n",
            "2      44022\n"
          ]
        }
      ],
      "execution_count": 47,
      "metadata": {
        "collapsed": true,
        "jupyter": {
          "source_hidden": false,
          "outputs_hidden": false
        },
        "nteract": {
          "transient": {
            "deleting": false
          }
        },
        "gather": {
          "logged": 1620684963259
        }
      }
    },
    {
      "cell_type": "markdown",
      "source": [
        "### Converting Train Data to Tabular Dataset\r\n",
        "Since the train data is in the pandas Dataframe format, we have to convert it to Tabular Dataset to be used in AutoML\r\n",
        "\r\n",
        "Warning: don't forget to drop the dataframe index, as the csv creates another index, and it will confuse our model."
      ],
      "metadata": {
        "nteract": {
          "transient": {
            "deleting": false
          }
        }
      }
    },
    {
      "cell_type": "code",
      "source": [
        "#Convert train_data (Which are in pandas DataFrame format) to TabularDataset format.\r\n",
        "try:\r\n",
        "    os.makedirs('./data', exist_ok=True)\r\n",
        "except OSError as error:\r\n",
        "    print('New directory cannot be created')\r\n",
        "    \r\n",
        "path = 'data/traindata.csv'\r\n",
        "train_data.to_csv(path, index= False)\r\n",
        "\r\n",
        "datastore = ws.get_default_datastore()\r\n",
        "datastore.upload(src_dir='data', target_path='data')\r\n",
        "\r\n",
        "train_data = TabularDatasetFactory.from_delimited_files(path=[(datastore, ('data/traindata.csv'))])\r\n",
        "print(\"Successfully converted the dataset to TabularDataset format.\")\r\n",
        "print(type(train_data))"
      ],
      "outputs": [
        {
          "output_type": "stream",
          "name": "stdout",
          "text": [
            "Uploading an estimated of 1 files\n",
            "Target already exists. Skipping upload for data/traindata.csv\n",
            "Uploaded 0 files\n",
            "Successfully converted the dataset to TabularDataset format.\n",
            "<class 'azureml.data.tabular_dataset.TabularDataset'>\n"
          ]
        }
      ],
      "execution_count": 48,
      "metadata": {
        "collapsed": true,
        "jupyter": {
          "source_hidden": false,
          "outputs_hidden": false
        },
        "nteract": {
          "transient": {
            "deleting": false
          }
        },
        "gather": {
          "logged": 1620684967902
        }
      }
    },
    {
      "cell_type": "markdown",
      "source": [
        "## AutoML Configuration\n",
        "\n",
        "TODO: Explain why you chose the automl settings and cofiguration you used below.\n",
        "\n",
        "Since I was dealing with a large dataset, I needed to give more time to the experiment_timeout_minutes, that's why it's set to 1 hour."
      ],
      "metadata": {}
    },
    {
      "cell_type": "code",
      "source": [
        "# TODO: Put your automl settings here\n",
        "automl_settings = {\n",
        "    \"experiment_timeout_minutes\": 60,\n",
        "    \"max_concurrent_iterations\": 5,\n",
        "    \"primary_metric\" : 'accuracy'\n",
        "}\n",
        "\n",
        "# TODO: Put your automl config here\n",
        "automl_config = AutoMLConfig(\n",
        "    compute_target=compute_target,\n",
        "    task = \"classification\",\n",
        "    training_data=train_data,\n",
        "    label_column_name='UCI',   \n",
        "    enable_early_stopping= True,\n",
        "    featurization= 'auto',\n",
        "    debug_log = \"automl_errors.log\",\n",
        "    **automl_settings\n",
        ")"
      ],
      "outputs": [],
      "execution_count": 49,
      "metadata": {
        "gather": {
          "logged": 1620684979056
        },
        "jupyter": {
          "outputs_hidden": false,
          "source_hidden": false
        },
        "nteract": {
          "transient": {
            "deleting": false
          }
        }
      }
    },
    {
      "cell_type": "markdown",
      "source": [
        "## Submit the experiment with RunDetails widget\n",
        "With the `RunDetails` widget we can see important outputs and when the run is completed.\n",
        "\n",
        "In this cell we submit the experiment, with `show_output = True` to see the run logs in real time"
      ],
      "metadata": {}
    },
    {
      "cell_type": "code",
      "source": [
        "from azureml.widgets import RunDetails\n",
        "#Submit the experiment\n",
        "remote_run = experiment.submit(automl_config)\n",
        "#Show Run Details\n",
        "RunDetails(remote_run).show()\n",
        "remote_run.wait_for_completion(show_output=True)\n"
      ],
      "outputs": [
        {
          "output_type": "stream",
          "name": "stdout",
          "text": [
            "Submitting remote run.\n"
          ]
        },
        {
          "output_type": "display_data",
          "data": {
            "text/plain": "<IPython.core.display.HTML object>",
            "text/html": "<table style=\"width:100%\"><tr><th>Experiment</th><th>Id</th><th>Type</th><th>Status</th><th>Details Page</th><th>Docs Page</th></tr><tr><td>automatedmlcovid</td><td>AutoML_5aaf0531-fcc4-44f4-ad2f-413392658e1f</td><td>automl</td><td>NotStarted</td><td><a href=\"https://ml.azure.com/runs/AutoML_5aaf0531-fcc4-44f4-ad2f-413392658e1f?wsid=/subscriptions/1b944a9b-fdae-4f97-aeb1-b7eea0beac53/resourcegroups/aml-quickstarts-144486/workspaces/quick-starts-ws-144486&amp;tid=660b3398-b80e-49d2-bc5b-ac1dc93b5254\" target=\"_blank\" rel=\"noopener\">Link to Azure Machine Learning studio</a></td><td><a href=\"https://docs.microsoft.com/en-us/python/api/overview/azure/ml/intro?view=azure-ml-py\" target=\"_blank\" rel=\"noopener\">Link to Documentation</a></td></tr></table>"
          },
          "metadata": {}
        },
        {
          "output_type": "display_data",
          "data": {
            "text/plain": "_AutoMLWidget(widget_settings={'childWidgetDisplay': 'popup', 'send_telemetry': False, 'log_level': 'INFO', 's…",
            "application/vnd.jupyter.widget-view+json": {
              "version_major": 2,
              "version_minor": 0,
              "model_id": "b8a2b51b591d4f6db3056e6df7b4e8c2"
            }
          },
          "metadata": {}
        },
        {
          "output_type": "display_data",
          "data": {
            "application/aml.mini.widget.v1": "{\"status\": \"Completed\", \"workbench_run_details_uri\": \"https://ml.azure.com/runs/AutoML_5aaf0531-fcc4-44f4-ad2f-413392658e1f?wsid=/subscriptions/1b944a9b-fdae-4f97-aeb1-b7eea0beac53/resourcegroups/aml-quickstarts-144486/workspaces/quick-starts-ws-144486&tid=660b3398-b80e-49d2-bc5b-ac1dc93b5254\", \"run_id\": \"AutoML_5aaf0531-fcc4-44f4-ad2f-413392658e1f\", \"run_properties\": {\"run_id\": \"AutoML_5aaf0531-fcc4-44f4-ad2f-413392658e1f\", \"created_utc\": \"2021-05-10T22:16:26.863606Z\", \"properties\": {\"num_iterations\": \"1000\", \"training_type\": \"TrainFull\", \"acquisition_function\": \"EI\", \"primary_metric\": \"accuracy\", \"train_split\": \"0\", \"acquisition_parameter\": \"0\", \"num_cross_validation\": null, \"target\": \"cpu-cluster\", \"AMLSettingsJsonString\": \"{\\\"path\\\":null,\\\"name\\\":\\\"automatedmlcovid\\\",\\\"subscription_id\\\":\\\"1b944a9b-fdae-4f97-aeb1-b7eea0beac53\\\",\\\"resource_group\\\":\\\"aml-quickstarts-144486\\\",\\\"workspace_name\\\":\\\"quick-starts-ws-144486\\\",\\\"region\\\":\\\"southcentralus\\\",\\\"compute_target\\\":\\\"cpu-cluster\\\",\\\"spark_service\\\":null,\\\"azure_service\\\":\\\"remote\\\",\\\"many_models\\\":false,\\\"pipeline_fetch_max_batch_size\\\":1,\\\"enable_batch_run\\\":false,\\\"enable_run_restructure\\\":false,\\\"start_auxiliary_runs_before_parent_complete\\\":false,\\\"iterations\\\":1000,\\\"primary_metric\\\":\\\"accuracy\\\",\\\"task_type\\\":\\\"classification\\\",\\\"data_script\\\":null,\\\"test_size\\\":0.0,\\\"validation_size\\\":0.0,\\\"n_cross_validations\\\":null,\\\"y_min\\\":null,\\\"y_max\\\":null,\\\"num_classes\\\":null,\\\"featurization\\\":\\\"auto\\\",\\\"_ignore_package_version_incompatibilities\\\":false,\\\"is_timeseries\\\":false,\\\"max_cores_per_iteration\\\":1,\\\"max_concurrent_iterations\\\":5,\\\"iteration_timeout_minutes\\\":null,\\\"mem_in_mb\\\":null,\\\"enforce_time_on_windows\\\":false,\\\"experiment_timeout_minutes\\\":60,\\\"experiment_exit_score\\\":null,\\\"whitelist_models\\\":null,\\\"blacklist_algos\\\":[\\\"TensorFlowLinearClassifier\\\",\\\"TensorFlowDNN\\\"],\\\"supported_models\\\":[\\\"ExtremeRandomTrees\\\",\\\"XGBoostClassifier\\\",\\\"KNN\\\",\\\"SVM\\\",\\\"LinearSVM\\\",\\\"TensorFlowLinearClassifier\\\",\\\"GradientBoosting\\\",\\\"LogisticRegression\\\",\\\"BernoulliNaiveBayes\\\",\\\"LightGBM\\\",\\\"DecisionTree\\\",\\\"AveragedPerceptronClassifier\\\",\\\"RandomForest\\\",\\\"SGD\\\",\\\"TensorFlowDNN\\\",\\\"MultinomialNaiveBayes\\\"],\\\"private_models\\\":[],\\\"auto_blacklist\\\":true,\\\"blacklist_samples_reached\\\":false,\\\"exclude_nan_labels\\\":true,\\\"verbosity\\\":20,\\\"_debug_log\\\":\\\"azureml_automl.log\\\",\\\"show_warnings\\\":false,\\\"model_explainability\\\":true,\\\"service_url\\\":null,\\\"sdk_url\\\":null,\\\"sdk_packages\\\":null,\\\"enable_onnx_compatible_models\\\":false,\\\"enable_split_onnx_featurizer_estimator_models\\\":false,\\\"vm_type\\\":\\\"STANDARD_D16S_V3\\\",\\\"telemetry_verbosity\\\":20,\\\"send_telemetry\\\":true,\\\"enable_dnn\\\":false,\\\"scenario\\\":\\\"SDK-1.13.0\\\",\\\"environment_label\\\":null,\\\"save_mlflow\\\":false,\\\"force_text_dnn\\\":false,\\\"enable_feature_sweeping\\\":true,\\\"enable_early_stopping\\\":true,\\\"early_stopping_n_iters\\\":10,\\\"metrics\\\":null,\\\"enable_metric_confidence\\\":false,\\\"enable_ensembling\\\":true,\\\"enable_stack_ensembling\\\":true,\\\"ensemble_iterations\\\":15,\\\"enable_tf\\\":false,\\\"enable_subsampling\\\":null,\\\"subsample_seed\\\":null,\\\"enable_nimbusml\\\":false,\\\"enable_streaming\\\":false,\\\"force_streaming\\\":false,\\\"track_child_runs\\\":true,\\\"allowed_private_models\\\":[],\\\"label_column_name\\\":\\\"UCI\\\",\\\"weight_column_name\\\":null,\\\"cv_split_column_names\\\":null,\\\"enable_local_managed\\\":false,\\\"_local_managed_run_id\\\":null,\\\"cost_mode\\\":1,\\\"lag_length\\\":0,\\\"metric_operation\\\":\\\"maximize\\\",\\\"preprocess\\\":true}\", \"DataPrepJsonString\": \"{\\\\\\\"training_data\\\\\\\": {\\\\\\\"datasetId\\\\\\\": \\\\\\\"75a4c8c8-a776-4669-b6bd-ea0e4ede4218\\\\\\\"}, \\\\\\\"datasets\\\\\\\": 0}\", \"EnableSubsampling\": null, \"runTemplate\": \"AutoML\", \"azureml.runsource\": \"automl\", \"display_task_type\": \"classification\", \"dependencies_versions\": \"{\\\"azureml-widgets\\\": \\\"1.27.0\\\", \\\"azureml-train\\\": \\\"1.27.0\\\", \\\"azureml-train-restclients-hyperdrive\\\": \\\"1.27.0\\\", \\\"azureml-train-core\\\": \\\"1.27.0\\\", \\\"azureml-train-automl-client\\\": \\\"1.27.0\\\", \\\"azureml-tensorboard\\\": \\\"1.27.0\\\", \\\"azureml-telemetry\\\": \\\"1.27.0\\\", \\\"azureml-sdk\\\": \\\"1.27.0\\\", \\\"azureml-pipeline\\\": \\\"1.27.0\\\", \\\"azureml-pipeline-steps\\\": \\\"1.27.0\\\", \\\"azureml-pipeline-core\\\": \\\"1.27.0\\\", \\\"azureml-opendatasets\\\": \\\"1.27.0\\\", \\\"azureml-model-management-sdk\\\": \\\"1.0.1b6.post1\\\", \\\"azureml-mlflow\\\": \\\"1.27.0\\\", \\\"azureml-interpret\\\": \\\"1.27.0\\\", \\\"azureml-explain-model\\\": \\\"1.27.0\\\", \\\"azureml-defaults\\\": \\\"1.27.0\\\", \\\"azureml-dataset-runtime\\\": \\\"1.27.0\\\", \\\"azureml-dataprep\\\": \\\"2.14.2\\\", \\\"azureml-dataprep-rslex\\\": \\\"1.12.1\\\", \\\"azureml-dataprep-native\\\": \\\"33.0.0\\\", \\\"azureml-datadrift\\\": \\\"1.27.0\\\", \\\"azureml-core\\\": \\\"1.27.0\\\", \\\"azureml-contrib-services\\\": \\\"1.27.0\\\", \\\"azureml-contrib-server\\\": \\\"1.27.0\\\", \\\"azureml-contrib-reinforcementlearning\\\": \\\"1.27.0\\\", \\\"azureml-contrib-pipeline-steps\\\": \\\"1.27.0\\\", \\\"azureml-contrib-notebook\\\": \\\"1.27.0\\\", \\\"azureml-contrib-gbdt\\\": \\\"1.27.0\\\", \\\"azureml-contrib-fairness\\\": \\\"1.27.0\\\", \\\"azureml-contrib-dataset\\\": \\\"1.27.0\\\", \\\"azureml-cli-common\\\": \\\"1.27.0\\\", \\\"azureml-automl-core\\\": \\\"1.27.0\\\", \\\"azureml-accel-models\\\": \\\"1.27.0\\\"}\", \"_aml_system_scenario_identification\": \"Remote.Parent\", \"ClientType\": \"SDK\", \"environment_cpu_name\": \"AzureML-AutoML\", \"environment_cpu_label\": \"prod\", \"environment_gpu_name\": \"AzureML-AutoML-GPU\", \"environment_gpu_label\": \"prod\", \"root_attribution\": \"automl\", \"attribution\": \"AutoML\", \"Orchestrator\": \"AutoML\", \"CancelUri\": \"https://southcentralus.api.azureml.ms/jasmine/v1.0/subscriptions/1b944a9b-fdae-4f97-aeb1-b7eea0beac53/resourceGroups/aml-quickstarts-144486/providers/Microsoft.MachineLearningServices/workspaces/quick-starts-ws-144486/experimentids/c5a09841-e122-40f1-b48c-5e5476d38f8c/cancel/AutoML_5aaf0531-fcc4-44f4-ad2f-413392658e1f\", \"ClientSdkVersion\": \"1.27.0.post1\", \"snapshotId\": \"00000000-0000-0000-0000-000000000000\", \"SetupRunId\": \"AutoML_5aaf0531-fcc4-44f4-ad2f-413392658e1f_setup\", \"SetupRunContainerId\": \"dcid.AutoML_5aaf0531-fcc4-44f4-ad2f-413392658e1f_setup\", \"FeaturizationRunJsonPath\": \"featurizer_container.json\", \"FeaturizationRunId\": \"AutoML_5aaf0531-fcc4-44f4-ad2f-413392658e1f_featurize\", \"ProblemInfoJsonString\": \"{\\\"dataset_num_categorical\\\": 0, \\\"is_sparse\\\": true, \\\"subsampling\\\": false, \\\"dataset_classes\\\": 2, \\\"dataset_features\\\": 46, \\\"dataset_samples\\\": 79044, \\\"single_frequency_class_detected\\\": false}\", \"ModelExplainRunId\": \"AutoML_5aaf0531-fcc4-44f4-ad2f-413392658e1f_ModelExplain\"}, \"tags\": {\"model_explain_run\": \"best_run\", \"_aml_system_azureml.automlComponent\": \"AutoML\", \"pipeline_id\": \"\", \"score\": \"\", \"predicted_cost\": \"\", \"fit_time\": \"\", \"training_percent\": \"\", \"iteration\": \"\", \"run_preprocessor\": \"\", \"run_algorithm\": \"\", \"dynamic_whitelisting_iterations\": \"<25>;<30>;<35>;\", \"automl_best_child_run_id\": \"AutoML_5aaf0531-fcc4-44f4-ad2f-413392658e1f_38\", \"model_explain_best_run_child_id\": \"AutoML_5aaf0531-fcc4-44f4-ad2f-413392658e1f_38\"}, \"end_time_utc\": \"2021-05-10T22:34:39.001631Z\", \"status\": \"Completed\", \"log_files\": {}, \"log_groups\": [], \"run_duration\": \"0:18:12\", \"run_number\": \"1\", \"run_queued_details\": {\"status\": \"Completed\", \"details\": null}}, \"child_runs\": [{\"run_id\": \"AutoML_5aaf0531-fcc4-44f4-ad2f-413392658e1f_0\", \"run_number\": 5, \"metric\": null, \"status\": \"Completed\", \"run_type\": \"azureml.scriptrun\", \"training_percent\": \"100\", \"start_time\": \"2021-05-10T22:20:12.286195Z\", \"end_time\": \"2021-05-10T22:20:57.843958Z\", \"created_time\": \"2021-05-10T22:20:00.260249Z\", \"created_time_dt\": \"2021-05-10T22:20:00.260249Z\", \"duration\": \"0:00:57\", \"iteration\": \"0\", \"goal\": \"accuracy_max\", \"run_name\": \"MaxAbsScaler, LightGBM\", \"run_properties\": \"copy=True\", \"primary_metric\": 0.64214961, \"best_metric\": 0.64214961}, {\"run_id\": \"AutoML_5aaf0531-fcc4-44f4-ad2f-413392658e1f_1\", \"run_number\": 6, \"metric\": null, \"status\": \"Completed\", \"run_type\": \"azureml.scriptrun\", \"training_percent\": \"100\", \"start_time\": \"2021-05-10T22:23:24.994351Z\", \"end_time\": \"2021-05-10T22:25:04.60926Z\", \"created_time\": \"2021-05-10T22:20:00.282076Z\", \"created_time_dt\": \"2021-05-10T22:20:00.282076Z\", \"duration\": \"0:05:04\", \"iteration\": \"1\", \"goal\": \"accuracy_max\", \"run_name\": \"MaxAbsScaler, XGBoostClassifier\", \"run_properties\": \"copy=True\", \"primary_metric\": 0.64397131, \"best_metric\": 0.64397131}, {\"run_id\": \"AutoML_5aaf0531-fcc4-44f4-ad2f-413392658e1f_3\", \"run_number\": 7, \"metric\": null, \"status\": \"Completed\", \"run_type\": \"azureml.scriptrun\", \"training_percent\": \"100\", \"start_time\": \"2021-05-10T22:21:12.699637Z\", \"end_time\": \"2021-05-10T22:21:57.639308Z\", \"created_time\": \"2021-05-10T22:20:00.282877Z\", \"created_time_dt\": \"2021-05-10T22:20:00.282877Z\", \"duration\": \"0:01:57\", \"iteration\": \"3\", \"goal\": \"accuracy_max\", \"run_name\": \"MaxAbsScaler, RandomForest\", \"run_properties\": \"copy=True\", \"primary_metric\": 0.63315496, \"best_metric\": 0.64397131}, {\"run_id\": \"AutoML_5aaf0531-fcc4-44f4-ad2f-413392658e1f_4\", \"run_number\": 8, \"metric\": null, \"status\": \"Completed\", \"run_type\": \"azureml.scriptrun\", \"training_percent\": \"100\", \"start_time\": \"2021-05-10T22:22:13.307088Z\", \"end_time\": \"2021-05-10T22:22:57.330055Z\", \"created_time\": \"2021-05-10T22:20:00.349733Z\", \"created_time_dt\": \"2021-05-10T22:20:00.349733Z\", \"duration\": \"0:02:56\", \"iteration\": \"4\", \"goal\": \"accuracy_max\", \"run_name\": \"MaxAbsScaler, RandomForest\", \"run_properties\": \"copy=True\", \"primary_metric\": 0.64431288, \"best_metric\": 0.64431288}, {\"run_id\": \"AutoML_5aaf0531-fcc4-44f4-ad2f-413392658e1f_2\", \"run_number\": 9, \"metric\": null, \"status\": \"Completed\", \"run_type\": \"azureml.scriptrun\", \"training_percent\": \"100\", \"start_time\": \"2021-05-10T22:23:12.474884Z\", \"end_time\": \"2021-05-10T22:23:54.778962Z\", \"created_time\": \"2021-05-10T22:20:00.288411Z\", \"created_time_dt\": \"2021-05-10T22:20:00.288411Z\", \"duration\": \"0:03:54\", \"iteration\": \"2\", \"goal\": \"accuracy_max\", \"run_name\": \"MaxAbsScaler, RandomForest\", \"run_properties\": \"copy=True\", \"primary_metric\": 0.64055562, \"best_metric\": 0.64397131}, {\"run_id\": \"AutoML_5aaf0531-fcc4-44f4-ad2f-413392658e1f_5\", \"run_number\": 10, \"metric\": null, \"status\": \"Completed\", \"run_type\": \"azureml.scriptrun\", \"training_percent\": \"100\", \"start_time\": \"2021-05-10T22:23:33.658209Z\", \"end_time\": \"2021-05-10T22:24:59.96959Z\", \"created_time\": \"2021-05-10T22:20:59.379089Z\", \"created_time_dt\": \"2021-05-10T22:20:59.379089Z\", \"duration\": \"0:04:00\", \"iteration\": \"5\", \"goal\": \"accuracy_max\", \"run_name\": \"MaxAbsScaler, RandomForest\", \"run_properties\": \"copy=True\", \"primary_metric\": 0.62973927, \"best_metric\": 0.64431288}, {\"run_id\": \"AutoML_5aaf0531-fcc4-44f4-ad2f-413392658e1f_6\", \"run_number\": 11, \"metric\": null, \"status\": \"Completed\", \"run_type\": \"azureml.scriptrun\", \"training_percent\": \"100\", \"start_time\": \"2021-05-10T22:23:32.878661Z\", \"end_time\": \"2021-05-10T22:25:54.518049Z\", \"created_time\": \"2021-05-10T22:22:00.965603Z\", \"created_time_dt\": \"2021-05-10T22:22:00.965603Z\", \"duration\": \"0:03:53\", \"iteration\": \"6\", \"goal\": \"accuracy_max\", \"run_name\": \"SparseNormalizer, GradientBoosting\", \"run_properties\": \"<azureml.automl.runtime.shared.model_wrappers.SparseNormalizer object at 0x7fbcdeb787f0\", \"primary_metric\": 0.6356598, \"best_metric\": 0.64431288}, {\"run_id\": \"AutoML_5aaf0531-fcc4-44f4-ad2f-413392658e1f_7\", \"run_number\": 12, \"metric\": null, \"status\": \"Completed\", \"run_type\": \"azureml.scriptrun\", \"training_percent\": \"100\", \"start_time\": \"2021-05-10T22:24:09.756159Z\", \"end_time\": \"2021-05-10T22:25:02.752133Z\", \"created_time\": \"2021-05-10T22:23:00.31968Z\", \"created_time_dt\": \"2021-05-10T22:23:00.31968Z\", \"duration\": \"0:02:02\", \"iteration\": \"7\", \"goal\": \"accuracy_max\", \"run_name\": \"SparseNormalizer, XGBoostClassifier\", \"run_properties\": \"<azureml.automl.runtime.shared.model_wrappers.SparseNormalizer object at 0x7f7306ca87b8\", \"primary_metric\": 0.64488216, \"best_metric\": 0.64488216}, {\"run_id\": \"AutoML_5aaf0531-fcc4-44f4-ad2f-413392658e1f_8\", \"run_number\": 13, \"metric\": null, \"status\": \"Completed\", \"run_type\": \"azureml.scriptrun\", \"training_percent\": \"100\", \"start_time\": \"2021-05-10T22:25:12.331863Z\", \"end_time\": \"2021-05-10T22:25:57.935277Z\", \"created_time\": \"2021-05-10T22:23:57.192718Z\", \"created_time_dt\": \"2021-05-10T22:23:57.192718Z\", \"duration\": \"0:02:00\", \"iteration\": \"8\", \"goal\": \"accuracy_max\", \"run_name\": \"SparseNormalizer, XGBoostClassifier\", \"run_properties\": \"<azureml.automl.runtime.shared.model_wrappers.SparseNormalizer object at 0x7fc0f797c2e8\", \"primary_metric\": 0.64044176, \"best_metric\": 0.64488216}, {\"run_id\": \"AutoML_5aaf0531-fcc4-44f4-ad2f-413392658e1f_9\", \"run_number\": 14, \"metric\": null, \"status\": \"Completed\", \"run_type\": \"azureml.scriptrun\", \"training_percent\": \"100\", \"start_time\": \"2021-05-10T22:25:14.139109Z\", \"end_time\": \"2021-05-10T22:26:14.951151Z\", \"created_time\": \"2021-05-10T22:25:01.842849Z\", \"created_time_dt\": \"2021-05-10T22:25:01.842849Z\", \"duration\": \"0:01:13\", \"iteration\": \"9\", \"goal\": \"accuracy_max\", \"run_name\": \"SparseNormalizer, XGBoostClassifier\", \"run_properties\": \"<azureml.automl.runtime.shared.model_wrappers.SparseNormalizer object at 0x7f3768ce1eb8\", \"primary_metric\": 0.64408516, \"best_metric\": 0.64488216}, {\"run_id\": \"AutoML_5aaf0531-fcc4-44f4-ad2f-413392658e1f_10\", \"run_number\": 15, \"metric\": null, \"status\": \"Completed\", \"run_type\": \"azureml.scriptrun\", \"training_percent\": \"100\", \"start_time\": \"2021-05-10T22:25:19.347262Z\", \"end_time\": \"2021-05-10T22:26:05.574124Z\", \"created_time\": \"2021-05-10T22:25:05.070617Z\", \"created_time_dt\": \"2021-05-10T22:25:05.070617Z\", \"duration\": \"0:01:00\", \"iteration\": \"10\", \"goal\": \"accuracy_max\", \"run_name\": \"SparseNormalizer, XGBoostClassifier\", \"run_properties\": \"<azureml.automl.runtime.shared.model_wrappers.SparseNormalizer object at 0x7fe85f6e56a0\", \"primary_metric\": 0.64203575, \"best_metric\": 0.64488216}, {\"run_id\": \"AutoML_5aaf0531-fcc4-44f4-ad2f-413392658e1f_11\", \"run_number\": 16, \"metric\": null, \"status\": \"Completed\", \"run_type\": \"azureml.scriptrun\", \"training_percent\": \"100\", \"start_time\": \"2021-05-10T22:26:08.050995Z\", \"end_time\": \"2021-05-10T22:26:53.9432Z\", \"created_time\": \"2021-05-10T22:25:08.325422Z\", \"created_time_dt\": \"2021-05-10T22:25:08.325422Z\", \"duration\": \"0:01:45\", \"iteration\": \"11\", \"goal\": \"accuracy_max\", \"run_name\": \"MaxAbsScaler, RandomForest\", \"run_properties\": \"copy=True\", \"primary_metric\": 0.6312194, \"best_metric\": 0.64488216}, {\"run_id\": \"AutoML_5aaf0531-fcc4-44f4-ad2f-413392658e1f_12\", \"run_number\": 17, \"metric\": null, \"status\": \"Completed\", \"run_type\": \"azureml.scriptrun\", \"training_percent\": \"100\", \"start_time\": \"2021-05-10T22:26:13.499068Z\", \"end_time\": \"2021-05-10T22:27:36.229649Z\", \"created_time\": \"2021-05-10T22:25:56.345767Z\", \"created_time_dt\": \"2021-05-10T22:25:56.345767Z\", \"duration\": \"0:01:39\", \"iteration\": \"12\", \"goal\": \"accuracy_max\", \"run_name\": \"MaxAbsScaler, RandomForest\", \"run_properties\": \"copy=True\", \"primary_metric\": 0.6312194, \"best_metric\": 0.64488216}, {\"run_id\": \"AutoML_5aaf0531-fcc4-44f4-ad2f-413392658e1f_13\", \"run_number\": 18, \"metric\": null, \"status\": \"Completed\", \"run_type\": \"azureml.scriptrun\", \"training_percent\": \"100\", \"start_time\": \"2021-05-10T22:26:18.949206Z\", \"end_time\": \"2021-05-10T22:27:06.694558Z\", \"created_time\": \"2021-05-10T22:26:00.278117Z\", \"created_time_dt\": \"2021-05-10T22:26:00.278117Z\", \"duration\": \"0:01:06\", \"iteration\": \"13\", \"goal\": \"accuracy_max\", \"run_name\": \"MaxAbsScaler, LogisticRegression\", \"run_properties\": \"copy=True\", \"primary_metric\": 0.64010019, \"best_metric\": 0.64488216}, {\"run_id\": \"AutoML_5aaf0531-fcc4-44f4-ad2f-413392658e1f_14\", \"run_number\": 19, \"metric\": null, \"status\": \"Completed\", \"run_type\": \"azureml.scriptrun\", \"training_percent\": \"100\", \"start_time\": \"2021-05-10T22:26:28.093322Z\", \"end_time\": \"2021-05-10T22:27:10.571959Z\", \"created_time\": \"2021-05-10T22:26:07.312186Z\", \"created_time_dt\": \"2021-05-10T22:26:07.312186Z\", \"duration\": \"0:01:03\", \"iteration\": \"14\", \"goal\": \"accuracy_max\", \"run_name\": \"MaxAbsScaler, LightGBM\", \"run_properties\": \"copy=True\", \"primary_metric\": 0.64044176, \"best_metric\": 0.64488216}, {\"run_id\": \"AutoML_5aaf0531-fcc4-44f4-ad2f-413392658e1f_15\", \"run_number\": 20, \"metric\": null, \"status\": \"Completed\", \"run_type\": \"azureml.scriptrun\", \"training_percent\": \"100\", \"start_time\": \"2021-05-10T22:27:08.44546Z\", \"end_time\": \"2021-05-10T22:27:56.070451Z\", \"created_time\": \"2021-05-10T22:26:16.766698Z\", \"created_time_dt\": \"2021-05-10T22:26:16.766698Z\", \"duration\": \"0:01:39\", \"iteration\": \"15\", \"goal\": \"accuracy_max\", \"run_name\": \"MaxAbsScaler, ExtremeRandomTrees\", \"run_properties\": \"copy=True\", \"primary_metric\": 0.63816464, \"best_metric\": 0.64488216}, {\"run_id\": \"AutoML_5aaf0531-fcc4-44f4-ad2f-413392658e1f_16\", \"run_number\": 21, \"metric\": null, \"status\": \"Completed\", \"run_type\": \"azureml.scriptrun\", \"training_percent\": \"100\", \"start_time\": \"2021-05-10T22:27:23.818349Z\", \"end_time\": \"2021-05-10T22:28:08.318272Z\", \"created_time\": \"2021-05-10T22:26:55.857812Z\", \"created_time_dt\": \"2021-05-10T22:26:55.857812Z\", \"duration\": \"0:01:12\", \"iteration\": \"16\", \"goal\": \"accuracy_max\", \"run_name\": \"MaxAbsScaler, LightGBM\", \"run_properties\": \"copy=True\", \"primary_metric\": 0.64237732, \"best_metric\": 0.64488216}, {\"run_id\": \"AutoML_5aaf0531-fcc4-44f4-ad2f-413392658e1f_17\", \"run_number\": 22, \"metric\": null, \"status\": \"Completed\", \"run_type\": \"azureml.scriptrun\", \"training_percent\": \"100\", \"start_time\": \"2021-05-10T22:27:26.904726Z\", \"end_time\": \"2021-05-10T22:28:51.230518Z\", \"created_time\": \"2021-05-10T22:27:08.436441Z\", \"created_time_dt\": \"2021-05-10T22:27:08.436441Z\", \"duration\": \"0:01:42\", \"iteration\": \"17\", \"goal\": \"accuracy_max\", \"run_name\": \"MaxAbsScaler, ExtremeRandomTrees\", \"run_properties\": \"copy=True\", \"primary_metric\": 0.63452123, \"best_metric\": 0.64488216}, {\"run_id\": \"AutoML_5aaf0531-fcc4-44f4-ad2f-413392658e1f_18\", \"run_number\": 23, \"metric\": null, \"status\": \"Completed\", \"run_type\": \"azureml.scriptrun\", \"training_percent\": \"100\", \"start_time\": \"2021-05-10T22:27:50.272841Z\", \"end_time\": \"2021-05-10T22:28:30.993105Z\", \"created_time\": \"2021-05-10T22:27:12.287102Z\", \"created_time_dt\": \"2021-05-10T22:27:12.287102Z\", \"duration\": \"0:01:18\", \"iteration\": \"18\", \"goal\": \"accuracy_max\", \"run_name\": \"MaxAbsScaler, LightGBM\", \"run_properties\": \"copy=True\", \"primary_metric\": 0.63463509, \"best_metric\": 0.64488216}, {\"run_id\": \"AutoML_5aaf0531-fcc4-44f4-ad2f-413392658e1f_19\", \"run_number\": 24, \"metric\": null, \"status\": \"Completed\", \"run_type\": \"azureml.scriptrun\", \"training_percent\": \"100\", \"start_time\": \"2021-05-10T22:28:16.09914Z\", \"end_time\": \"2021-05-10T22:28:56.8282Z\", \"created_time\": \"2021-05-10T22:27:38.079439Z\", \"created_time_dt\": \"2021-05-10T22:27:38.079439Z\", \"duration\": \"0:01:18\", \"iteration\": \"19\", \"goal\": \"accuracy_max\", \"run_name\": \"SparseNormalizer, LightGBM\", \"run_properties\": \"<azureml.automl.runtime.shared.model_wrappers.SparseNormalizer object at 0x7f9aec4b7f28\", \"primary_metric\": 0.6356598, \"best_metric\": 0.64488216}, {\"run_id\": \"AutoML_5aaf0531-fcc4-44f4-ad2f-413392658e1f_20\", \"run_number\": 25, \"metric\": null, \"status\": \"Completed\", \"run_type\": \"azureml.scriptrun\", \"training_percent\": \"100\", \"start_time\": \"2021-05-10T22:28:24.727295Z\", \"end_time\": \"2021-05-10T22:29:05.412181Z\", \"created_time\": \"2021-05-10T22:27:57.914927Z\", \"created_time_dt\": \"2021-05-10T22:27:57.914927Z\", \"duration\": \"0:01:07\", \"iteration\": \"20\", \"goal\": \"accuracy_max\", \"run_name\": \"MaxAbsScaler, LightGBM\", \"run_properties\": \"copy=True\", \"primary_metric\": 0.62916999, \"best_metric\": 0.64488216}, {\"run_id\": \"AutoML_5aaf0531-fcc4-44f4-ad2f-413392658e1f_21\", \"run_number\": 26, \"metric\": null, \"status\": \"Completed\", \"run_type\": \"azureml.scriptrun\", \"training_percent\": \"100\", \"start_time\": \"2021-05-10T22:28:43.636532Z\", \"end_time\": \"2021-05-10T22:29:26.118837Z\", \"created_time\": \"2021-05-10T22:28:10.244503Z\", \"created_time_dt\": \"2021-05-10T22:28:10.244503Z\", \"duration\": \"0:01:15\", \"iteration\": \"21\", \"goal\": \"accuracy_max\", \"run_name\": \"MaxAbsScaler, LightGBM\", \"run_properties\": \"copy=True\", \"primary_metric\": 0.64271889, \"best_metric\": 0.64488216}, {\"run_id\": \"AutoML_5aaf0531-fcc4-44f4-ad2f-413392658e1f_22\", \"run_number\": 27, \"metric\": null, \"status\": \"Completed\", \"run_type\": \"azureml.scriptrun\", \"training_percent\": \"100\", \"start_time\": \"2021-05-10T22:29:03.205907Z\", \"end_time\": \"2021-05-10T22:29:54.400304Z\", \"created_time\": \"2021-05-10T22:28:32.757795Z\", \"created_time_dt\": \"2021-05-10T22:28:32.757795Z\", \"duration\": \"0:01:21\", \"iteration\": \"22\", \"goal\": \"accuracy_max\", \"run_name\": \"SparseNormalizer, XGBoostClassifier\", \"run_properties\": \"<azureml.automl.runtime.shared.model_wrappers.SparseNormalizer object at 0x7fc45fdb10b8\", \"primary_metric\": 0.63850621, \"best_metric\": 0.64488216}, {\"run_id\": \"AutoML_5aaf0531-fcc4-44f4-ad2f-413392658e1f_23\", \"run_number\": 28, \"metric\": null, \"status\": \"Completed\", \"run_type\": \"azureml.scriptrun\", \"training_percent\": \"100\", \"start_time\": \"2021-05-10T22:29:11.353723Z\", \"end_time\": \"2021-05-10T22:30:08.321859Z\", \"created_time\": \"2021-05-10T22:28:53.070022Z\", \"created_time_dt\": \"2021-05-10T22:28:53.070022Z\", \"duration\": \"0:01:15\", \"iteration\": \"23\", \"goal\": \"accuracy_max\", \"run_name\": \"MaxAbsScaler, ExtremeRandomTrees\", \"run_properties\": \"copy=True\", \"primary_metric\": 0.6312194, \"best_metric\": 0.64488216}, {\"run_id\": \"AutoML_5aaf0531-fcc4-44f4-ad2f-413392658e1f_24\", \"run_number\": 29, \"metric\": null, \"status\": \"Completed\", \"run_type\": \"azureml.scriptrun\", \"training_percent\": \"100\", \"start_time\": \"2021-05-10T22:29:22.451537Z\", \"end_time\": \"2021-05-10T22:30:08.682353Z\", \"created_time\": \"2021-05-10T22:28:58.746523Z\", \"created_time_dt\": \"2021-05-10T22:28:58.746523Z\", \"duration\": \"0:01:09\", \"iteration\": \"24\", \"goal\": \"accuracy_max\", \"run_name\": \"StandardScalerWrapper, LightGBM\", \"run_properties\": \"<azureml.automl.runtime.shared.model_wrappers.StandardScalerWrapper object at 0x7f760a650550\", \"primary_metric\": 0.62951156, \"best_metric\": 0.64488216}, {\"run_id\": \"AutoML_5aaf0531-fcc4-44f4-ad2f-413392658e1f_25\", \"run_number\": 30, \"metric\": null, \"status\": \"Completed\", \"run_type\": \"azureml.scriptrun\", \"training_percent\": \"100\", \"start_time\": \"2021-05-10T22:29:42.44014Z\", \"end_time\": \"2021-05-10T22:30:25.073478Z\", \"created_time\": \"2021-05-10T22:29:08.795202Z\", \"created_time_dt\": \"2021-05-10T22:29:08.795202Z\", \"duration\": \"0:01:16\", \"iteration\": \"25\", \"goal\": \"accuracy_max\", \"run_name\": \"StandardScalerWrapper, XGBoostClassifier\", \"run_properties\": \"<azureml.automl.runtime.shared.model_wrappers.StandardScalerWrapper object at 0x7f27358f8240\", \"primary_metric\": 0.50119549, \"best_metric\": 0.64488216}, {\"run_id\": \"AutoML_5aaf0531-fcc4-44f4-ad2f-413392658e1f_26\", \"run_number\": 31, \"metric\": null, \"status\": \"Completed\", \"run_type\": \"azureml.scriptrun\", \"training_percent\": \"100\", \"start_time\": \"2021-05-10T22:30:10.867859Z\", \"end_time\": \"2021-05-10T22:30:56.093378Z\", \"created_time\": \"2021-05-10T22:29:27.97961Z\", \"created_time_dt\": \"2021-05-10T22:29:27.97961Z\", \"duration\": \"0:01:28\", \"iteration\": \"26\", \"goal\": \"accuracy_max\", \"run_name\": \"MaxAbsScaler, LightGBM\", \"run_properties\": \"copy=True\", \"primary_metric\": 0.64066948, \"best_metric\": 0.64488216}, {\"run_id\": \"AutoML_5aaf0531-fcc4-44f4-ad2f-413392658e1f_27\", \"run_number\": 32, \"metric\": null, \"status\": \"Completed\", \"run_type\": \"azureml.scriptrun\", \"training_percent\": \"100\", \"start_time\": \"2021-05-10T22:30:21.509579Z\", \"end_time\": \"2021-05-10T22:31:03.274404Z\", \"created_time\": \"2021-05-10T22:29:56.291189Z\", \"created_time_dt\": \"2021-05-10T22:29:56.291189Z\", \"duration\": \"0:01:06\", \"iteration\": \"27\", \"goal\": \"accuracy_max\", \"run_name\": \"MaxAbsScaler, LightGBM\", \"run_properties\": \"copy=True\", \"primary_metric\": 0.6429466, \"best_metric\": 0.64488216}, {\"run_id\": \"AutoML_5aaf0531-fcc4-44f4-ad2f-413392658e1f_28\", \"run_number\": 33, \"metric\": null, \"status\": \"Completed\", \"run_type\": \"azureml.scriptrun\", \"training_percent\": \"100\", \"start_time\": \"2021-05-10T22:30:24.193224Z\", \"end_time\": \"2021-05-10T22:31:18.149009Z\", \"created_time\": \"2021-05-10T22:30:10.286049Z\", \"created_time_dt\": \"2021-05-10T22:30:10.286049Z\", \"duration\": \"0:01:07\", \"iteration\": \"28\", \"goal\": \"accuracy_max\", \"run_name\": \"StandardScalerWrapper, ExtremeRandomTrees\", \"run_properties\": \"<azureml.automl.runtime.shared.model_wrappers.StandardScalerWrapper object at 0x7fdf3fb8b5f8\", \"primary_metric\": 0.63736764, \"best_metric\": 0.64488216}, {\"run_id\": \"AutoML_5aaf0531-fcc4-44f4-ad2f-413392658e1f_29\", \"run_number\": 34, \"metric\": null, \"status\": \"Completed\", \"run_type\": \"azureml.scriptrun\", \"training_percent\": \"100\", \"start_time\": \"2021-05-10T22:30:39.16956Z\", \"end_time\": \"2021-05-10T22:31:26.05395Z\", \"created_time\": \"2021-05-10T22:30:10.314447Z\", \"created_time_dt\": \"2021-05-10T22:30:10.314447Z\", \"duration\": \"0:01:15\", \"iteration\": \"29\", \"goal\": \"accuracy_max\", \"run_name\": \"MaxAbsScaler, ExtremeRandomTrees\", \"run_properties\": \"copy=True\", \"primary_metric\": 0.63440738, \"best_metric\": 0.64488216}, {\"run_id\": \"AutoML_5aaf0531-fcc4-44f4-ad2f-413392658e1f_30\", \"run_number\": 35, \"metric\": null, \"status\": \"Completed\", \"run_type\": \"azureml.scriptrun\", \"training_percent\": \"100\", \"start_time\": \"2021-05-10T22:31:10.038833Z\", \"end_time\": \"2021-05-10T22:31:54.608832Z\", \"created_time\": \"2021-05-10T22:30:27.953659Z\", \"created_time_dt\": \"2021-05-10T22:30:27.953659Z\", \"duration\": \"0:01:26\", \"iteration\": \"30\", \"goal\": \"accuracy_max\", \"run_name\": \"TruncatedSVDWrapper, XGBoostClassifier\", \"run_properties\": \"n_components=0.2573684210526316, random_state=None\", \"primary_metric\": 0.50119549, \"best_metric\": 0.64488216}, {\"run_id\": \"AutoML_5aaf0531-fcc4-44f4-ad2f-413392658e1f_31\", \"run_number\": 36, \"metric\": null, \"status\": \"Completed\", \"run_type\": \"azureml.scriptrun\", \"training_percent\": \"100\", \"start_time\": \"2021-05-10T22:31:16.404004Z\", \"end_time\": \"2021-05-10T22:31:55.181114Z\", \"created_time\": \"2021-05-10T22:30:58.062442Z\", \"created_time_dt\": \"2021-05-10T22:30:58.062442Z\", \"duration\": \"0:00:57\", \"iteration\": \"31\", \"goal\": \"accuracy_max\", \"run_name\": \"MaxAbsScaler, LightGBM\", \"run_properties\": \"copy=True\", \"primary_metric\": 0.63190254, \"best_metric\": 0.64488216}, {\"run_id\": \"AutoML_5aaf0531-fcc4-44f4-ad2f-413392658e1f_32\", \"run_number\": 37, \"metric\": null, \"status\": \"Completed\", \"run_type\": \"azureml.scriptrun\", \"training_percent\": \"100\", \"start_time\": \"2021-05-10T22:31:35.489743Z\", \"end_time\": \"2021-05-10T22:32:20.764569Z\", \"created_time\": \"2021-05-10T22:31:05.204224Z\", \"created_time_dt\": \"2021-05-10T22:31:05.204224Z\", \"duration\": \"0:01:15\", \"iteration\": \"32\", \"goal\": \"accuracy_max\", \"run_name\": \"SparseNormalizer, XGBoostClassifier\", \"run_properties\": \"<azureml.automl.runtime.shared.model_wrappers.SparseNormalizer object at 0x7f94552b74a8\", \"primary_metric\": 0.64271889, \"best_metric\": 0.64488216}, {\"run_id\": \"AutoML_5aaf0531-fcc4-44f4-ad2f-413392658e1f_33\", \"run_number\": 38, \"metric\": null, \"status\": \"Completed\", \"run_type\": \"azureml.scriptrun\", \"training_percent\": \"100\", \"start_time\": \"2021-05-10T22:31:45.729879Z\", \"end_time\": \"2021-05-10T22:32:42.420316Z\", \"created_time\": \"2021-05-10T22:31:19.975947Z\", \"created_time_dt\": \"2021-05-10T22:31:19.975947Z\", \"duration\": \"0:01:22\", \"iteration\": \"33\", \"goal\": \"accuracy_max\", \"run_name\": \"SparseNormalizer, XGBoostClassifier\", \"run_properties\": \"<azureml.automl.runtime.shared.model_wrappers.SparseNormalizer object at 0x7ff3e86d2a58\", \"primary_metric\": 0.6330411, \"best_metric\": 0.64488216}, {\"run_id\": \"AutoML_5aaf0531-fcc4-44f4-ad2f-413392658e1f_34\", \"run_number\": 39, \"metric\": null, \"status\": \"Canceled\", \"run_type\": \"azureml.scriptrun\", \"training_percent\": \"100\", \"start_time\": \"2021-05-10T22:32:11.310488Z\", \"end_time\": \"2021-05-10T22:32:48.381555Z\", \"created_time\": \"2021-05-10T22:31:27.889613Z\", \"created_time_dt\": \"2021-05-10T22:31:27.889613Z\", \"duration\": \"0:01:20\", \"iteration\": \"34\", \"goal\": \"accuracy_max\", \"run_name\": \"MaxAbsScaler, LightGBM\", \"run_properties\": \"copy=True\", \"primary_metric\": 0.63417967, \"best_metric\": 0.64488216}, {\"run_id\": \"AutoML_5aaf0531-fcc4-44f4-ad2f-413392658e1f_35\", \"run_number\": 40, \"metric\": null, \"status\": \"Canceled\", \"run_type\": \"azureml.scriptrun\", \"training_percent\": \"100\", \"start_time\": \"2021-05-10T22:32:11.384463Z\", \"end_time\": \"2021-05-10T22:32:48.582461Z\", \"created_time\": \"2021-05-10T22:31:57.652408Z\", \"created_time_dt\": \"2021-05-10T22:31:57.652408Z\", \"duration\": \"0:00:50\", \"iteration\": \"35\", \"goal\": \"accuracy_max\", \"run_name\": \"StandardScalerWrapper, XGBoostClassifier\", \"run_properties\": \"<azureml.automl.runtime.shared.model_wrappers.StandardScalerWrapper object at 0x7fe3e29da160\", \"primary_metric\": 0.64180804, \"best_metric\": 0.64488216}, {\"run_id\": \"AutoML_5aaf0531-fcc4-44f4-ad2f-413392658e1f_36\", \"run_number\": 41, \"metric\": null, \"status\": \"Canceled\", \"run_type\": \"azureml.scriptrun\", \"training_percent\": \"100\", \"start_time\": \"2021-05-10T22:32:35.507482Z\", \"end_time\": \"2021-05-10T22:32:48.398506Z\", \"created_time\": \"2021-05-10T22:32:00.371025Z\", \"created_time_dt\": \"2021-05-10T22:32:00.371025Z\", \"duration\": \"0:00:48\", \"iteration\": \"36\", \"goal\": null, \"run_name\": \"Canceled\", \"run_properties\": null}, {\"run_id\": \"AutoML_5aaf0531-fcc4-44f4-ad2f-413392658e1f_37\", \"run_number\": 42, \"metric\": null, \"status\": \"Canceled\", \"run_type\": \"azureml.scriptrun\", \"training_percent\": \"100\", \"start_time\": \"2021-05-10T22:32:22.672537Z\", \"end_time\": \"2021-05-10T22:32:48.403228Z\", \"created_time\": \"2021-05-10T22:32:22.672537Z\", \"created_time_dt\": \"2021-05-10T22:32:22.672537Z\", \"duration\": \"0:00:25\", \"iteration\": \"37\", \"goal\": null, \"run_name\": \"Canceled\", \"run_properties\": null}, {\"run_id\": \"AutoML_5aaf0531-fcc4-44f4-ad2f-413392658e1f_39\", \"run_number\": 43, \"metric\": null, \"status\": \"Completed\", \"run_type\": \"azureml.scriptrun\", \"training_percent\": \"100\", \"start_time\": \"2021-05-10T22:32:56.61858Z\", \"end_time\": \"2021-05-10T22:34:35.749874Z\", \"created_time\": \"2021-05-10T22:32:49.496693Z\", \"created_time_dt\": \"2021-05-10T22:32:49.496693Z\", \"duration\": \"0:01:46\", \"iteration\": \"39\", \"goal\": \"accuracy_max\", \"run_name\": \"StackEnsemble\", \"run_properties\": \"base_learners=[('7',\\n                                        Pipeline(memory=None,\\n                                                 steps=[('sparsenormalizer',\\n                                                         <azureml.automl.runtime.shared.model_wrappers.SparseNormalizer object at 0x7f70d1a53748>\", \"primary_metric\": 0.64442673, \"best_metric\": 0.64693157}, {\"run_id\": \"AutoML_5aaf0531-fcc4-44f4-ad2f-413392658e1f_38\", \"run_number\": 44, \"metric\": null, \"status\": \"Completed\", \"run_type\": \"azureml.scriptrun\", \"training_percent\": \"100\", \"start_time\": \"2021-05-10T22:32:58.020495Z\", \"end_time\": \"2021-05-10T22:33:53.791816Z\", \"created_time\": \"2021-05-10T22:32:49.510763Z\", \"created_time_dt\": \"2021-05-10T22:32:49.510763Z\", \"duration\": \"0:01:04\", \"iteration\": \"38\", \"goal\": \"accuracy_max\", \"run_name\": \"VotingEnsemble\", \"run_properties\": \"classification_labels=None,\\n                              estimators=[('7',\\n                                           Pipeline(memory=None,\\n                                                    steps=[('sparsenormalizer',\\n                                                            <azureml.automl.runtime.shared.model_wrappers.SparseNormalizer object at 0x7f3f2848cb38>\", \"primary_metric\": 0.64693157, \"best_metric\": 0.64693157}], \"children_metrics\": {\"categories\": [0], \"series\": {\"AUC_micro\": [{\"categories\": [\"0\", \"1\", \"2\", \"3\", \"4\", \"5\", \"6\", \"7\", \"8\", \"9\", \"10\", \"11\", \"12\", \"13\", \"14\", \"15\", \"16\", \"17\", \"18\", \"19\", \"20\", \"21\", \"22\", \"23\", \"24\", \"25\", \"26\", \"27\", \"28\", \"29\", \"30\", \"31\", \"32\", \"33\", \"34\", \"35\", \"38\", \"39\"], \"mode\": \"markers\", \"name\": \"AUC_micro\", \"stepped\": false, \"type\": \"scatter\", \"data\": [0.6952065584658781, 0.695530756637361, 0.6891927206264874, 0.6820855743947303, 0.6916681069928894, 0.6753240805298977, 0.6873540118159338, 0.6967473067433623, 0.6937046351523506, 0.6948919919966388, 0.6910303275599338, 0.6783068488960532, 0.6771640467766795, 0.6917925413264518, 0.6885382574778015, 0.6876841860503162, 0.691056694830948, 0.6763784343257067, 0.6782973208998904, 0.6832927779902096, 0.6744779815073649, 0.6925034465095509, 0.6910973735410969, 0.6777174613129976, 0.6729828898319026, 0.5011954912899921, 0.6911433412613608, 0.6896486125571808, 0.685199673548814, 0.6757616035210496, 0.5011954912899921, 0.6822347037387559, 0.6951343401439406, 0.6866133948407185, 0.6850439977584448, 0.6867947767758373, 0.6969117327342891, 0.6967994449754268]}, {\"categories\": [\"0\", \"1\", \"2\", \"3\", \"4\", \"5\", \"6\", \"7\", \"8\", \"9\", \"10\", \"11\", \"12\", \"13\", \"14\", \"15\", \"16\", \"17\", \"18\", \"19\", \"20\", \"21\", \"22\", \"23\", \"24\", \"25\", \"26\", \"27\", \"28\", \"29\", \"30\", \"31\", \"32\", \"33\", \"34\", \"35\", \"38\", \"39\"], \"mode\": \"lines\", \"name\": \"AUC_micro_max\", \"stepped\": true, \"type\": \"scatter\", \"data\": [0.6952065584658781, 0.695530756637361, 0.695530756637361, 0.695530756637361, 0.695530756637361, 0.695530756637361, 0.695530756637361, 0.6967473067433623, 0.6967473067433623, 0.6967473067433623, 0.6967473067433623, 0.6967473067433623, 0.6967473067433623, 0.6967473067433623, 0.6967473067433623, 0.6967473067433623, 0.6967473067433623, 0.6967473067433623, 0.6967473067433623, 0.6967473067433623, 0.6967473067433623, 0.6967473067433623, 0.6967473067433623, 0.6967473067433623, 0.6967473067433623, 0.6967473067433623, 0.6967473067433623, 0.6967473067433623, 0.6967473067433623, 0.6967473067433623, 0.6967473067433623, 0.6967473067433623, 0.6967473067433623, 0.6967473067433623, 0.6967473067433623, 0.6967473067433623, 0.6969117327342891, 0.6969117327342891]}], \"norm_macro_recall\": [{\"categories\": [\"0\", \"1\", \"2\", \"3\", \"4\", \"5\", \"6\", \"7\", \"8\", \"9\", \"10\", \"11\", \"12\", \"13\", \"14\", \"15\", \"16\", \"17\", \"18\", \"19\", \"20\", \"21\", \"22\", \"23\", \"24\", \"25\", \"26\", \"27\", \"28\", \"29\", \"30\", \"31\", \"32\", \"33\", \"34\", \"35\", \"38\", \"39\"], \"mode\": \"markers\", \"name\": \"norm_macro_recall\", \"stepped\": false, \"type\": \"scatter\", \"data\": [0.2848314159870684, 0.2885902643700893, 0.28175122407579467, 0.26706687763369574, 0.2893218630986869, 0.25970733354482567, 0.27206569485908383, 0.2903117951511116, 0.28147831996433315, 0.2887259645524367, 0.2849831907038167, 0.2630601703008768, 0.2630601703008768, 0.28086323568347504, 0.28166016961641294, 0.2770329334023742, 0.2855917414642408, 0.2698179564164409, 0.27012026136985523, 0.27214627494443655, 0.25846259419547524, 0.2860870445371422, 0.2775663486778073, 0.2630601703008768, 0.25909074551720135, 0.0, 0.28208619663137924, 0.28667640956295837, 0.27528376479284944, 0.26948298386085634, 0.0, 0.26412917869188757, 0.2860358652937425, 0.2665783673479125, 0.269030822764154, 0.2845909202110928, 0.29447924782794166, 0.289417273238358]}, {\"categories\": [\"0\", \"1\", \"2\", \"3\", \"4\", \"5\", \"6\", \"7\", \"8\", \"9\", \"10\", \"11\", \"12\", \"13\", \"14\", \"15\", \"16\", \"17\", \"18\", \"19\", \"20\", \"21\", \"22\", \"23\", \"24\", \"25\", \"26\", \"27\", \"28\", \"29\", \"30\", \"31\", \"32\", \"33\", \"34\", \"35\", \"38\", \"39\"], \"mode\": \"lines\", \"name\": \"norm_macro_recall_max\", \"stepped\": true, \"type\": \"scatter\", \"data\": [0.2848314159870684, 0.2885902643700893, 0.2885902643700893, 0.2885902643700893, 0.2893218630986869, 0.2893218630986869, 0.2893218630986869, 0.2903117951511116, 0.2903117951511116, 0.2903117951511116, 0.2903117951511116, 0.2903117951511116, 0.2903117951511116, 0.2903117951511116, 0.2903117951511116, 0.2903117951511116, 0.2903117951511116, 0.2903117951511116, 0.2903117951511116, 0.2903117951511116, 0.2903117951511116, 0.2903117951511116, 0.2903117951511116, 0.2903117951511116, 0.2903117951511116, 0.2903117951511116, 0.2903117951511116, 0.2903117951511116, 0.2903117951511116, 0.2903117951511116, 0.2903117951511116, 0.2903117951511116, 0.2903117951511116, 0.2903117951511116, 0.2903117951511116, 0.2903117951511116, 0.29447924782794166, 0.29447924782794166]}], \"f1_score_micro\": [{\"categories\": [\"0\", \"1\", \"2\", \"3\", \"4\", \"5\", \"6\", \"7\", \"8\", \"9\", \"10\", \"11\", \"12\", \"13\", \"14\", \"15\", \"16\", \"17\", \"18\", \"19\", \"20\", \"21\", \"22\", \"23\", \"24\", \"25\", \"26\", \"27\", \"28\", \"29\", \"30\", \"31\", \"32\", \"33\", \"34\", \"35\", \"38\", \"39\"], \"mode\": \"markers\", \"name\": \"f1_score_micro\", \"stepped\": false, \"type\": \"scatter\", \"data\": [0.642149607195719, 0.6439713082090401, 0.640555618809063, 0.6331549584424456, 0.644312877149038, 0.6297392690424684, 0.6356597973357623, 0.6448821587157008, 0.6404417624957304, 0.6440851645223727, 0.6420357508823864, 0.6312194011157919, 0.6312194011157919, 0.6401001935557327, 0.6404417624957304, 0.6381646362290789, 0.6423773198223841, 0.6345212342024366, 0.634635090515769, 0.6356597973357623, 0.6291699874758055, 0.6427188887623819, 0.6385062051690766, 0.6312194011157919, 0.6295115564158033, 0.5011954912899921, 0.6406694751223956, 0.642946601389047, 0.6373676420357509, 0.634407377889104, 0.5011954912899921, 0.6319025389957873, 0.6427188887623819, 0.633041102129113, 0.6341796652624389, 0.6418080382557213, 0.6469315723556871, 0.6444267334623704]}, {\"categories\": [\"0\", \"1\", \"2\", \"3\", \"4\", \"5\", \"6\", \"7\", \"8\", \"9\", \"10\", \"11\", \"12\", \"13\", \"14\", \"15\", \"16\", \"17\", \"18\", \"19\", \"20\", \"21\", \"22\", \"23\", \"24\", \"25\", \"26\", \"27\", \"28\", \"29\", \"30\", \"31\", \"32\", \"33\", \"34\", \"35\", \"38\", \"39\"], \"mode\": \"lines\", \"name\": \"f1_score_micro_max\", \"stepped\": true, \"type\": \"scatter\", \"data\": [0.642149607195719, 0.6439713082090401, 0.6439713082090401, 0.6439713082090401, 0.644312877149038, 0.644312877149038, 0.644312877149038, 0.6448821587157008, 0.6448821587157008, 0.6448821587157008, 0.6448821587157008, 0.6448821587157008, 0.6448821587157008, 0.6448821587157008, 0.6448821587157008, 0.6448821587157008, 0.6448821587157008, 0.6448821587157008, 0.6448821587157008, 0.6448821587157008, 0.6448821587157008, 0.6448821587157008, 0.6448821587157008, 0.6448821587157008, 0.6448821587157008, 0.6448821587157008, 0.6448821587157008, 0.6448821587157008, 0.6448821587157008, 0.6448821587157008, 0.6448821587157008, 0.6448821587157008, 0.6448821587157008, 0.6448821587157008, 0.6448821587157008, 0.6448821587157008, 0.6469315723556871, 0.6469315723556871]}], \"matthews_correlation\": [{\"categories\": [\"0\", \"1\", \"2\", \"3\", \"4\", \"5\", \"6\", \"7\", \"8\", \"9\", \"10\", \"11\", \"12\", \"13\", \"14\", \"15\", \"16\", \"17\", \"18\", \"19\", \"20\", \"21\", \"22\", \"23\", \"24\", \"25\", \"26\", \"27\", \"28\", \"29\", \"30\", \"31\", \"32\", \"33\", \"34\", \"35\", \"38\", \"39\"], \"mode\": \"markers\", \"name\": \"matthews_correlation\", \"stepped\": false, \"type\": \"scatter\", \"data\": [0.2921135556250291, 0.2997367885253892, 0.29236367224685983, 0.2814850690263148, 0.3023552876002031, 0.26088826169663787, 0.28629976889693903, 0.29818450475993313, 0.29056156126312044, 0.2968017496098172, 0.30817872504909943, 0.2723718027761739, 0.2723718027761739, 0.29226135024660466, 0.29773526295070885, 0.28980758972555604, 0.30480448045916164, 0.2851701789839567, 0.28892627393559284, 0.2899586797342164, 0.2587942376721108, 0.2971961382013928, 0.2852823524761576, 0.2723718027761739, 0.2591892243920252, 0.0, 0.2968911919818364, 0.3033394383879716, 0.2827799907645134, 0.28061146550883187, 0.0, 0.2665657593156476, 0.29537317797944507, 0.27247199868887856, 0.2802567084135936, 0.31156818047814694, 0.3047110930661217, 0.29776335614218225]}, {\"categories\": [\"0\", \"1\", \"2\", \"3\", \"4\", \"5\", \"6\", \"7\", \"8\", \"9\", \"10\", \"11\", \"12\", \"13\", \"14\", \"15\", \"16\", \"17\", \"18\", \"19\", \"20\", \"21\", \"22\", \"23\", \"24\", \"25\", \"26\", \"27\", \"28\", \"29\", \"30\", \"31\", \"32\", \"33\", \"34\", \"35\", \"38\", \"39\"], \"mode\": \"lines\", \"name\": \"matthews_correlation_max\", \"stepped\": true, \"type\": \"scatter\", \"data\": [0.2921135556250291, 0.2997367885253892, 0.2997367885253892, 0.2997367885253892, 0.3023552876002031, 0.3023552876002031, 0.3023552876002031, 0.3023552876002031, 0.3023552876002031, 0.3023552876002031, 0.30817872504909943, 0.30817872504909943, 0.30817872504909943, 0.30817872504909943, 0.30817872504909943, 0.30817872504909943, 0.30817872504909943, 0.30817872504909943, 0.30817872504909943, 0.30817872504909943, 0.30817872504909943, 0.30817872504909943, 0.30817872504909943, 0.30817872504909943, 0.30817872504909943, 0.30817872504909943, 0.30817872504909943, 0.30817872504909943, 0.30817872504909943, 0.30817872504909943, 0.30817872504909943, 0.30817872504909943, 0.30817872504909943, 0.30817872504909943, 0.30817872504909943, 0.31156818047814694, 0.31156818047814694, 0.31156818047814694]}], \"average_precision_score_macro\": [{\"categories\": [\"0\", \"1\", \"2\", \"3\", \"4\", \"5\", \"6\", \"7\", \"8\", \"9\", \"10\", \"11\", \"12\", \"13\", \"14\", \"15\", \"16\", \"17\", \"18\", \"19\", \"20\", \"21\", \"22\", \"23\", \"24\", \"25\", \"26\", \"27\", \"28\", \"29\", \"30\", \"31\", \"32\", \"33\", \"34\", \"35\", \"38\", \"39\"], \"mode\": \"markers\", \"name\": \"average_precision_score_macro\", \"stepped\": false, \"type\": \"scatter\", \"data\": [0.6758599269378871, 0.6748735780577164, 0.6662101909714253, 0.6566322632057306, 0.6681014533176854, 0.6540316008558409, 0.6671903674698787, 0.6768332557457399, 0.6749995682096035, 0.6758753520530898, 0.6516733304325593, 0.6387275926388714, 0.6397729252381421, 0.669917234845916, 0.6669952727893818, 0.6605468453324432, 0.6684086017420512, 0.6448149390940657, 0.6540096618492797, 0.6569054960307323, 0.6549472535212544, 0.671143447715108, 0.6729473813341358, 0.6467038033610157, 0.6606983487880642, 0.5, 0.6685122949244899, 0.6641784566651563, 0.6643088088834022, 0.6436595507866145, 0.5, 0.6631517036278911, 0.674145172072597, 0.6675795713297774, 0.6616144285121459, 0.6323545365960188, 0.6778012591287494, 0.6776641770815887]}, {\"categories\": [\"0\", \"1\", \"2\", \"3\", \"4\", \"5\", \"6\", \"7\", \"8\", \"9\", \"10\", \"11\", \"12\", \"13\", \"14\", \"15\", \"16\", \"17\", \"18\", \"19\", \"20\", \"21\", \"22\", \"23\", \"24\", \"25\", \"26\", \"27\", \"28\", \"29\", \"30\", \"31\", \"32\", \"33\", \"34\", \"35\", \"38\", \"39\"], \"mode\": \"lines\", \"name\": \"average_precision_score_macro_max\", \"stepped\": true, \"type\": \"scatter\", \"data\": [0.6758599269378871, 0.6758599269378871, 0.6758599269378871, 0.6758599269378871, 0.6758599269378871, 0.6758599269378871, 0.6758599269378871, 0.6768332557457399, 0.6768332557457399, 0.6768332557457399, 0.6768332557457399, 0.6768332557457399, 0.6768332557457399, 0.6768332557457399, 0.6768332557457399, 0.6768332557457399, 0.6768332557457399, 0.6768332557457399, 0.6768332557457399, 0.6768332557457399, 0.6768332557457399, 0.6768332557457399, 0.6768332557457399, 0.6768332557457399, 0.6768332557457399, 0.6768332557457399, 0.6768332557457399, 0.6768332557457399, 0.6768332557457399, 0.6768332557457399, 0.6768332557457399, 0.6768332557457399, 0.6768332557457399, 0.6768332557457399, 0.6768332557457399, 0.6768332557457399, 0.6778012591287494, 0.6778012591287494]}], \"recall_score_weighted\": [{\"categories\": [\"0\", \"1\", \"2\", \"3\", \"4\", \"5\", \"6\", \"7\", \"8\", \"9\", \"10\", \"11\", \"12\", \"13\", \"14\", \"15\", \"16\", \"17\", \"18\", \"19\", \"20\", \"21\", \"22\", \"23\", \"24\", \"25\", \"26\", \"27\", \"28\", \"29\", \"30\", \"31\", \"32\", \"33\", \"34\", \"35\", \"38\", \"39\"], \"mode\": \"markers\", \"name\": \"recall_score_weighted\", \"stepped\": false, \"type\": \"scatter\", \"data\": [0.642149607195719, 0.6439713082090401, 0.640555618809063, 0.6331549584424456, 0.644312877149038, 0.6297392690424684, 0.6356597973357623, 0.6448821587157008, 0.6404417624957304, 0.6440851645223727, 0.6420357508823864, 0.6312194011157919, 0.6312194011157919, 0.6401001935557327, 0.6404417624957304, 0.6381646362290789, 0.6423773198223841, 0.6345212342024366, 0.634635090515769, 0.6356597973357623, 0.6291699874758055, 0.6427188887623819, 0.6385062051690766, 0.6312194011157919, 0.6295115564158033, 0.5011954912899921, 0.6406694751223956, 0.642946601389047, 0.6373676420357509, 0.634407377889104, 0.5011954912899921, 0.6319025389957873, 0.6427188887623819, 0.633041102129113, 0.6341796652624389, 0.6418080382557213, 0.6469315723556871, 0.6444267334623704]}, {\"categories\": [\"0\", \"1\", \"2\", \"3\", \"4\", \"5\", \"6\", \"7\", \"8\", \"9\", \"10\", \"11\", \"12\", \"13\", \"14\", \"15\", \"16\", \"17\", \"18\", \"19\", \"20\", \"21\", \"22\", \"23\", \"24\", \"25\", \"26\", \"27\", \"28\", \"29\", \"30\", \"31\", \"32\", \"33\", \"34\", \"35\", \"38\", \"39\"], \"mode\": \"lines\", \"name\": \"recall_score_weighted_max\", \"stepped\": true, \"type\": \"scatter\", \"data\": [0.642149607195719, 0.6439713082090401, 0.6439713082090401, 0.6439713082090401, 0.644312877149038, 0.644312877149038, 0.644312877149038, 0.6448821587157008, 0.6448821587157008, 0.6448821587157008, 0.6448821587157008, 0.6448821587157008, 0.6448821587157008, 0.6448821587157008, 0.6448821587157008, 0.6448821587157008, 0.6448821587157008, 0.6448821587157008, 0.6448821587157008, 0.6448821587157008, 0.6448821587157008, 0.6448821587157008, 0.6448821587157008, 0.6448821587157008, 0.6448821587157008, 0.6448821587157008, 0.6448821587157008, 0.6448821587157008, 0.6448821587157008, 0.6448821587157008, 0.6448821587157008, 0.6448821587157008, 0.6448821587157008, 0.6448821587157008, 0.6448821587157008, 0.6448821587157008, 0.6469315723556871, 0.6469315723556871]}], \"balanced_accuracy\": [{\"categories\": [\"0\", \"1\", \"2\", \"3\", \"4\", \"5\", \"6\", \"7\", \"8\", \"9\", \"10\", \"11\", \"12\", \"13\", \"14\", \"15\", \"16\", \"17\", \"18\", \"19\", \"20\", \"21\", \"22\", \"23\", \"24\", \"25\", \"26\", \"27\", \"28\", \"29\", \"30\", \"31\", \"32\", \"33\", \"34\", \"35\", \"38\", \"39\"], \"mode\": \"markers\", \"name\": \"balanced_accuracy\", \"stepped\": false, \"type\": \"scatter\", \"data\": [0.6424157079935342, 0.6442951321850446, 0.6408756120378973, 0.6335334388168479, 0.6446609315493435, 0.6298536667724128, 0.6360328474295419, 0.6451558975755558, 0.6407391599821666, 0.6443629822762184, 0.6424915953519084, 0.6315300851504384, 0.6315300851504384, 0.6404316178417375, 0.6408300848082065, 0.6385164667011871, 0.6427958707321204, 0.6349089782082205, 0.6350601306849276, 0.6360731374722183, 0.6292312970977376, 0.6430435222685711, 0.6387831743389036, 0.6315300851504384, 0.6295453727586007, 0.5, 0.6410430983156896, 0.6433382047814792, 0.6376418823964247, 0.6347414919304282, 0.5, 0.6320645893459438, 0.6430179326468712, 0.6332891836739563, 0.634515411382077, 0.6422954601055464, 0.6472396239139708, 0.644708636619179]}, {\"categories\": [\"0\", \"1\", \"2\", \"3\", \"4\", \"5\", \"6\", \"7\", \"8\", \"9\", \"10\", \"11\", \"12\", \"13\", \"14\", \"15\", \"16\", \"17\", \"18\", \"19\", \"20\", \"21\", \"22\", \"23\", \"24\", \"25\", \"26\", \"27\", \"28\", \"29\", \"30\", \"31\", \"32\", \"33\", \"34\", \"35\", \"38\", \"39\"], \"mode\": \"lines\", \"name\": \"balanced_accuracy_max\", \"stepped\": true, \"type\": \"scatter\", \"data\": [0.6424157079935342, 0.6442951321850446, 0.6442951321850446, 0.6442951321850446, 0.6446609315493435, 0.6446609315493435, 0.6446609315493435, 0.6451558975755558, 0.6451558975755558, 0.6451558975755558, 0.6451558975755558, 0.6451558975755558, 0.6451558975755558, 0.6451558975755558, 0.6451558975755558, 0.6451558975755558, 0.6451558975755558, 0.6451558975755558, 0.6451558975755558, 0.6451558975755558, 0.6451558975755558, 0.6451558975755558, 0.6451558975755558, 0.6451558975755558, 0.6451558975755558, 0.6451558975755558, 0.6451558975755558, 0.6451558975755558, 0.6451558975755558, 0.6451558975755558, 0.6451558975755558, 0.6451558975755558, 0.6451558975755558, 0.6451558975755558, 0.6451558975755558, 0.6451558975755558, 0.6472396239139708, 0.6472396239139708]}], \"weighted_accuracy\": [{\"categories\": [\"0\", \"1\", \"2\", \"3\", \"4\", \"5\", \"6\", \"7\", \"8\", \"9\", \"10\", \"11\", \"12\", \"13\", \"14\", \"15\", \"16\", \"17\", \"18\", \"19\", \"20\", \"21\", \"22\", \"23\", \"24\", \"25\", \"26\", \"27\", \"28\", \"29\", \"30\", \"31\", \"32\", \"33\", \"34\", \"35\", \"38\", \"39\"], \"mode\": \"markers\", \"name\": \"weighted_accuracy\", \"stepped\": false, \"type\": \"scatter\", \"data\": [0.6418835094403753, 0.6436474879354869, 0.6402356292388808, 0.6327764823954101, 0.6439648267282228, 0.6296248726204937, 0.635286751507262, 0.6446084229856472, 0.6401443684095973, 0.6438073499449647, 0.6415799116247759, 0.6309087206333603, 0.6309087206333603, 0.6397687730590772, 0.6400534446231492, 0.6378128097796348, 0.6419587736981622, 0.6341334946299354, 0.6342100552063201, 0.635246461925243, 0.6291086785548587, 0.6423942589678996, 0.6382292391659847, 0.6309087206333603, 0.6294777404596459, 0.5023909689112984, 0.6402958562009335, 0.6425550024740241, 0.6370934048106123, 0.6340732676678825, 0.5023909689112984, 0.6317404904984383, 0.6424198482970197, 0.6327930234207177, 0.6338439229815639, 0.6413206219788483, 0.6466235243195201, 0.6441448335287101]}, {\"categories\": [\"0\", \"1\", \"2\", \"3\", \"4\", \"5\", \"6\", \"7\", \"8\", \"9\", \"10\", \"11\", \"12\", \"13\", \"14\", \"15\", \"16\", \"17\", \"18\", \"19\", \"20\", \"21\", \"22\", \"23\", \"24\", \"25\", \"26\", \"27\", \"28\", \"29\", \"30\", \"31\", \"32\", \"33\", \"34\", \"35\", \"38\", \"39\"], \"mode\": \"lines\", \"name\": \"weighted_accuracy_max\", \"stepped\": true, \"type\": \"scatter\", \"data\": [0.6418835094403753, 0.6436474879354869, 0.6436474879354869, 0.6436474879354869, 0.6439648267282228, 0.6439648267282228, 0.6439648267282228, 0.6446084229856472, 0.6446084229856472, 0.6446084229856472, 0.6446084229856472, 0.6446084229856472, 0.6446084229856472, 0.6446084229856472, 0.6446084229856472, 0.6446084229856472, 0.6446084229856472, 0.6446084229856472, 0.6446084229856472, 0.6446084229856472, 0.6446084229856472, 0.6446084229856472, 0.6446084229856472, 0.6446084229856472, 0.6446084229856472, 0.6446084229856472, 0.6446084229856472, 0.6446084229856472, 0.6446084229856472, 0.6446084229856472, 0.6446084229856472, 0.6446084229856472, 0.6446084229856472, 0.6446084229856472, 0.6446084229856472, 0.6446084229856472, 0.6466235243195201, 0.6466235243195201]}], \"precision_score_weighted\": [{\"categories\": [\"0\", \"1\", \"2\", \"3\", \"4\", \"5\", \"6\", \"7\", \"8\", \"9\", \"10\", \"11\", \"12\", \"13\", \"14\", \"15\", \"16\", \"17\", \"18\", \"19\", \"20\", \"21\", \"22\", \"23\", \"24\", \"25\", \"26\", \"27\", \"28\", \"29\", \"30\", \"31\", \"32\", \"33\", \"34\", \"35\", \"38\", \"39\"], \"mode\": \"markers\", \"name\": \"precision_score_weighted\", \"stepped\": false, \"type\": \"scatter\", \"data\": [0.6498732704741748, 0.6557603307595472, 0.651787616859395, 0.6484557491609393, 0.6581004959735494, 0.631069924436089, 0.6507542903926655, 0.6532217961611271, 0.6500607762034007, 0.6526390786085008, 0.6667856052475234, 0.6410967844691303, 0.6410967844691303, 0.6521644217077364, 0.6574887231016531, 0.6516949413557187, 0.6627936147718553, 0.6508174499922904, 0.6546547637703283, 0.6545987814273803, 0.6295817072417724, 0.6544711376434859, 0.6466902625398628, 0.6410967844691303, 0.6296553048864871, 0.2511969204894165, 0.6563559596049666, 0.6606137905101194, 0.6453224641388432, 0.6462000139357443, 0.2511969204894165, 0.6345586595014406, 0.6526014702391062, 0.6393197003956406, 0.6460761643691839, 0.6707201914901056, 0.6577489459072148, 0.653264025813413]}, {\"categories\": [\"0\", \"1\", \"2\", \"3\", \"4\", \"5\", \"6\", \"7\", \"8\", \"9\", \"10\", \"11\", \"12\", \"13\", \"14\", \"15\", \"16\", \"17\", \"18\", \"19\", \"20\", \"21\", \"22\", \"23\", \"24\", \"25\", \"26\", \"27\", \"28\", \"29\", \"30\", \"31\", \"32\", \"33\", \"34\", \"35\", \"38\", \"39\"], \"mode\": \"lines\", \"name\": \"precision_score_weighted_max\", \"stepped\": true, \"type\": \"scatter\", \"data\": [0.6498732704741748, 0.6557603307595472, 0.6557603307595472, 0.6557603307595472, 0.6581004959735494, 0.6581004959735494, 0.6581004959735494, 0.6581004959735494, 0.6581004959735494, 0.6581004959735494, 0.6667856052475234, 0.6667856052475234, 0.6667856052475234, 0.6667856052475234, 0.6667856052475234, 0.6667856052475234, 0.6667856052475234, 0.6667856052475234, 0.6667856052475234, 0.6667856052475234, 0.6667856052475234, 0.6667856052475234, 0.6667856052475234, 0.6667856052475234, 0.6667856052475234, 0.6667856052475234, 0.6667856052475234, 0.6667856052475234, 0.6667856052475234, 0.6667856052475234, 0.6667856052475234, 0.6667856052475234, 0.6667856052475234, 0.6667856052475234, 0.6667856052475234, 0.6707201914901056, 0.6707201914901056, 0.6707201914901056]}], \"accuracy\": [{\"categories\": [\"0\", \"1\", \"2\", \"3\", \"4\", \"5\", \"6\", \"7\", \"8\", \"9\", \"10\", \"11\", \"12\", \"13\", \"14\", \"15\", \"16\", \"17\", \"18\", \"19\", \"20\", \"21\", \"22\", \"23\", \"24\", \"25\", \"26\", \"27\", \"28\", \"29\", \"30\", \"31\", \"32\", \"33\", \"34\", \"35\", \"38\", \"39\"], \"mode\": \"markers\", \"name\": \"accuracy\", \"stepped\": false, \"type\": \"scatter\", \"data\": [0.642149607195719, 0.6439713082090401, 0.640555618809063, 0.6331549584424456, 0.644312877149038, 0.6297392690424684, 0.6356597973357623, 0.6448821587157008, 0.6404417624957304, 0.6440851645223727, 0.6420357508823864, 0.6312194011157919, 0.6312194011157919, 0.6401001935557327, 0.6404417624957304, 0.6381646362290789, 0.6423773198223841, 0.6345212342024366, 0.634635090515769, 0.6356597973357623, 0.6291699874758055, 0.6427188887623819, 0.6385062051690766, 0.6312194011157919, 0.6295115564158033, 0.5011954912899921, 0.6406694751223956, 0.642946601389047, 0.6373676420357509, 0.634407377889104, 0.5011954912899921, 0.6319025389957873, 0.6427188887623819, 0.633041102129113, 0.6341796652624389, 0.6418080382557213, 0.6469315723556871, 0.6444267334623704]}, {\"categories\": [\"0\", \"1\", \"2\", \"3\", \"4\", \"5\", \"6\", \"7\", \"8\", \"9\", \"10\", \"11\", \"12\", \"13\", \"14\", \"15\", \"16\", \"17\", \"18\", \"19\", \"20\", \"21\", \"22\", \"23\", \"24\", \"25\", \"26\", \"27\", \"28\", \"29\", \"30\", \"31\", \"32\", \"33\", \"34\", \"35\", \"38\", \"39\"], \"mode\": \"lines\", \"name\": \"accuracy_max\", \"stepped\": true, \"type\": \"scatter\", \"data\": [0.642149607195719, 0.6439713082090401, 0.6439713082090401, 0.6439713082090401, 0.644312877149038, 0.644312877149038, 0.644312877149038, 0.6448821587157008, 0.6448821587157008, 0.6448821587157008, 0.6448821587157008, 0.6448821587157008, 0.6448821587157008, 0.6448821587157008, 0.6448821587157008, 0.6448821587157008, 0.6448821587157008, 0.6448821587157008, 0.6448821587157008, 0.6448821587157008, 0.6448821587157008, 0.6448821587157008, 0.6448821587157008, 0.6448821587157008, 0.6448821587157008, 0.6448821587157008, 0.6448821587157008, 0.6448821587157008, 0.6448821587157008, 0.6448821587157008, 0.6448821587157008, 0.6448821587157008, 0.6448821587157008, 0.6448821587157008, 0.6448821587157008, 0.6448821587157008, 0.6469315723556871, 0.6469315723556871]}], \"average_precision_score_micro\": [{\"categories\": [\"0\", \"1\", \"2\", \"3\", \"4\", \"5\", \"6\", \"7\", \"8\", \"9\", \"10\", \"11\", \"12\", \"13\", \"14\", \"15\", \"16\", \"17\", \"18\", \"19\", \"20\", \"21\", \"22\", \"23\", \"24\", \"25\", \"26\", \"27\", \"28\", \"29\", \"30\", \"31\", \"32\", \"33\", \"34\", \"35\", \"38\", \"39\"], \"mode\": \"markers\", \"name\": \"average_precision_score_micro\", \"stepped\": false, \"type\": \"scatter\", \"data\": [0.6841485313007459, 0.6838660661074005, 0.672520109293379, 0.6694644812817363, 0.6764563373679581, 0.6572045918871346, 0.6761250236649393, 0.685393194354388, 0.6827590319025045, 0.684278978632508, 0.6680117731945947, 0.6547697362292674, 0.6554367579872764, 0.6801413016494213, 0.6768680828907436, 0.6731665228426278, 0.6788675762785432, 0.6590231269371611, 0.6662046806191491, 0.6678614133893191, 0.6589667750014961, 0.679483099297963, 0.6812735886454206, 0.66068520544998, 0.6614028715312051, 0.5005991748444205, 0.6783064372940789, 0.676799296820794, 0.6725308735031543, 0.6598680079738671, 0.5005991748444205, 0.6707104159199029, 0.6826538205652513, 0.6753010146365515, 0.6711481179852823, 0.6521311296116943, 0.6861920932900447, 0.6856958578277526]}, {\"categories\": [\"0\", \"1\", \"2\", \"3\", \"4\", \"5\", \"6\", \"7\", \"8\", \"9\", \"10\", \"11\", \"12\", \"13\", \"14\", \"15\", \"16\", \"17\", \"18\", \"19\", \"20\", \"21\", \"22\", \"23\", \"24\", \"25\", \"26\", \"27\", \"28\", \"29\", \"30\", \"31\", \"32\", \"33\", \"34\", \"35\", \"38\", \"39\"], \"mode\": \"lines\", \"name\": \"average_precision_score_micro_max\", \"stepped\": true, \"type\": \"scatter\", \"data\": [0.6841485313007459, 0.6841485313007459, 0.6841485313007459, 0.6841485313007459, 0.6841485313007459, 0.6841485313007459, 0.6841485313007459, 0.685393194354388, 0.685393194354388, 0.685393194354388, 0.685393194354388, 0.685393194354388, 0.685393194354388, 0.685393194354388, 0.685393194354388, 0.685393194354388, 0.685393194354388, 0.685393194354388, 0.685393194354388, 0.685393194354388, 0.685393194354388, 0.685393194354388, 0.685393194354388, 0.685393194354388, 0.685393194354388, 0.685393194354388, 0.685393194354388, 0.685393194354388, 0.685393194354388, 0.685393194354388, 0.685393194354388, 0.685393194354388, 0.685393194354388, 0.685393194354388, 0.685393194354388, 0.685393194354388, 0.6861920932900447, 0.6861920932900447]}], \"recall_score_micro\": [{\"categories\": [\"0\", \"1\", \"2\", \"3\", \"4\", \"5\", \"6\", \"7\", \"8\", \"9\", \"10\", \"11\", \"12\", \"13\", \"14\", \"15\", \"16\", \"17\", \"18\", \"19\", \"20\", \"21\", \"22\", \"23\", \"24\", \"25\", \"26\", \"27\", \"28\", \"29\", \"30\", \"31\", \"32\", \"33\", \"34\", \"35\", \"38\", \"39\"], \"mode\": \"markers\", \"name\": \"recall_score_micro\", \"stepped\": false, \"type\": \"scatter\", \"data\": [0.642149607195719, 0.6439713082090401, 0.640555618809063, 0.6331549584424456, 0.644312877149038, 0.6297392690424684, 0.6356597973357623, 0.6448821587157008, 0.6404417624957304, 0.6440851645223727, 0.6420357508823864, 0.6312194011157919, 0.6312194011157919, 0.6401001935557327, 0.6404417624957304, 0.6381646362290789, 0.6423773198223841, 0.6345212342024366, 0.634635090515769, 0.6356597973357623, 0.6291699874758055, 0.6427188887623819, 0.6385062051690766, 0.6312194011157919, 0.6295115564158033, 0.5011954912899921, 0.6406694751223956, 0.642946601389047, 0.6373676420357509, 0.634407377889104, 0.5011954912899921, 0.6319025389957873, 0.6427188887623819, 0.633041102129113, 0.6341796652624389, 0.6418080382557213, 0.6469315723556871, 0.6444267334623704]}, {\"categories\": [\"0\", \"1\", \"2\", \"3\", \"4\", \"5\", \"6\", \"7\", \"8\", \"9\", \"10\", \"11\", \"12\", \"13\", \"14\", \"15\", \"16\", \"17\", \"18\", \"19\", \"20\", \"21\", \"22\", \"23\", \"24\", \"25\", \"26\", \"27\", \"28\", \"29\", \"30\", \"31\", \"32\", \"33\", \"34\", \"35\", \"38\", \"39\"], \"mode\": \"lines\", \"name\": \"recall_score_micro_max\", \"stepped\": true, \"type\": \"scatter\", \"data\": [0.642149607195719, 0.6439713082090401, 0.6439713082090401, 0.6439713082090401, 0.644312877149038, 0.644312877149038, 0.644312877149038, 0.6448821587157008, 0.6448821587157008, 0.6448821587157008, 0.6448821587157008, 0.6448821587157008, 0.6448821587157008, 0.6448821587157008, 0.6448821587157008, 0.6448821587157008, 0.6448821587157008, 0.6448821587157008, 0.6448821587157008, 0.6448821587157008, 0.6448821587157008, 0.6448821587157008, 0.6448821587157008, 0.6448821587157008, 0.6448821587157008, 0.6448821587157008, 0.6448821587157008, 0.6448821587157008, 0.6448821587157008, 0.6448821587157008, 0.6448821587157008, 0.6448821587157008, 0.6448821587157008, 0.6448821587157008, 0.6448821587157008, 0.6448821587157008, 0.6469315723556871, 0.6469315723556871]}], \"AUC_macro\": [{\"categories\": [\"0\", \"1\", \"2\", \"3\", \"4\", \"5\", \"6\", \"7\", \"8\", \"9\", \"10\", \"11\", \"12\", \"13\", \"14\", \"15\", \"16\", \"17\", \"18\", \"19\", \"20\", \"21\", \"22\", \"23\", \"24\", \"25\", \"26\", \"27\", \"28\", \"29\", \"30\", \"31\", \"32\", \"33\", \"34\", \"35\", \"38\", \"39\"], \"mode\": \"markers\", \"name\": \"AUC_macro\", \"stepped\": false, \"type\": \"scatter\", \"data\": [0.6868438802847494, 0.6860011857821054, 0.682255585926631, 0.6703798236177638, 0.6823647112738799, 0.6713989231721258, 0.6789520876205241, 0.6879304410302594, 0.6853867496679571, 0.6862585338925336, 0.6799427715463319, 0.6669916228860302, 0.664596283920249, 0.6811805884752224, 0.6778848422429637, 0.677185703703189, 0.6809511374599808, 0.6656272838154016, 0.6687846334918006, 0.672916514779601, 0.6704467403488754, 0.6839934505087384, 0.6822212849443525, 0.6669805262719597, 0.672425567386989, 0.5, 0.6817806093617467, 0.6785084304710534, 0.6784977227570087, 0.6647249839021316, 0.5, 0.6760316039865261, 0.6869439053713939, 0.6786840317960514, 0.6740138869458292, 0.6733709055697847, 0.6885062723351767, 0.6884384481706713]}, {\"categories\": [\"0\", \"1\", \"2\", \"3\", \"4\", \"5\", \"6\", \"7\", \"8\", \"9\", \"10\", \"11\", \"12\", \"13\", \"14\", \"15\", \"16\", \"17\", \"18\", \"19\", \"20\", \"21\", \"22\", \"23\", \"24\", \"25\", \"26\", \"27\", \"28\", \"29\", \"30\", \"31\", \"32\", \"33\", \"34\", \"35\", \"38\", \"39\"], \"mode\": \"lines\", \"name\": \"AUC_macro_max\", \"stepped\": true, \"type\": \"scatter\", \"data\": [0.6868438802847494, 0.6868438802847494, 0.6868438802847494, 0.6868438802847494, 0.6868438802847494, 0.6868438802847494, 0.6868438802847494, 0.6879304410302594, 0.6879304410302594, 0.6879304410302594, 0.6879304410302594, 0.6879304410302594, 0.6879304410302594, 0.6879304410302594, 0.6879304410302594, 0.6879304410302594, 0.6879304410302594, 0.6879304410302594, 0.6879304410302594, 0.6879304410302594, 0.6879304410302594, 0.6879304410302594, 0.6879304410302594, 0.6879304410302594, 0.6879304410302594, 0.6879304410302594, 0.6879304410302594, 0.6879304410302594, 0.6879304410302594, 0.6879304410302594, 0.6879304410302594, 0.6879304410302594, 0.6879304410302594, 0.6879304410302594, 0.6879304410302594, 0.6879304410302594, 0.6885062723351767, 0.6885062723351767]}], \"log_loss\": [{\"categories\": [\"0\", \"1\", \"2\", \"3\", \"4\", \"5\", \"6\", \"7\", \"8\", \"9\", \"10\", \"11\", \"12\", \"13\", \"14\", \"15\", \"16\", \"17\", \"18\", \"19\", \"20\", \"21\", \"22\", \"23\", \"24\", \"25\", \"26\", \"27\", \"28\", \"29\", \"30\", \"31\", \"32\", \"33\", \"34\", \"35\", \"38\", \"39\"], \"mode\": \"markers\", \"name\": \"log_loss\", \"stepped\": false, \"type\": \"scatter\", \"data\": [0.6318732303337913, 0.6319534280233707, 0.64216167760141, 0.6509796009298454, 0.64142316963161, 0.6601653021258569, 0.638461753975165, 0.6310037522227291, 0.633170310993836, 0.6319245247721252, 0.6509424136903277, 0.6435934115976201, 0.6442744661665097, 0.6340714286991547, 0.6474056496402462, 0.6387639579924111, 0.6477899208166938, 0.646057184973094, 0.6500510724323199, 0.6415269881291378, 0.6739842737457057, 0.6358119005351333, 0.6343966366802817, 0.6457077202913785, 0.6681060622174678, 0.6931443297403137, 0.6386865957471062, 0.6398126961058245, 0.6581411041424046, 0.6474559208326701, 0.6931443301117467, 0.6631093558685266, 0.6408637268777876, 0.6382267628436135, 0.6398740524559171, 0.6479929661117004, 0.6500476269714077, 0.6312654391019282]}, {\"categories\": [\"0\", \"1\", \"2\", \"3\", \"4\", \"5\", \"6\", \"7\", \"8\", \"9\", \"10\", \"11\", \"12\", \"13\", \"14\", \"15\", \"16\", \"17\", \"18\", \"19\", \"20\", \"21\", \"22\", \"23\", \"24\", \"25\", \"26\", \"27\", \"28\", \"29\", \"30\", \"31\", \"32\", \"33\", \"34\", \"35\", \"38\", \"39\"], \"mode\": \"lines\", \"name\": \"log_loss_min\", \"stepped\": true, \"type\": \"scatter\", \"data\": [0.6318732303337913, 0.6318732303337913, 0.6318732303337913, 0.6318732303337913, 0.6318732303337913, 0.6318732303337913, 0.6318732303337913, 0.6310037522227291, 0.6310037522227291, 0.6310037522227291, 0.6310037522227291, 0.6310037522227291, 0.6310037522227291, 0.6310037522227291, 0.6310037522227291, 0.6310037522227291, 0.6310037522227291, 0.6310037522227291, 0.6310037522227291, 0.6310037522227291, 0.6310037522227291, 0.6310037522227291, 0.6310037522227291, 0.6310037522227291, 0.6310037522227291, 0.6310037522227291, 0.6310037522227291, 0.6310037522227291, 0.6310037522227291, 0.6310037522227291, 0.6310037522227291, 0.6310037522227291, 0.6310037522227291, 0.6310037522227291, 0.6310037522227291, 0.6310037522227291, 0.6310037522227291, 0.6310037522227291]}], \"recall_score_macro\": [{\"categories\": [\"0\", \"1\", \"2\", \"3\", \"4\", \"5\", \"6\", \"7\", \"8\", \"9\", \"10\", \"11\", \"12\", \"13\", \"14\", \"15\", \"16\", \"17\", \"18\", \"19\", \"20\", \"21\", \"22\", \"23\", \"24\", \"25\", \"26\", \"27\", \"28\", \"29\", \"30\", \"31\", \"32\", \"33\", \"34\", \"35\", \"38\", \"39\"], \"mode\": \"markers\", \"name\": \"recall_score_macro\", \"stepped\": false, \"type\": \"scatter\", \"data\": [0.6424157079935342, 0.6442951321850446, 0.6408756120378973, 0.6335334388168479, 0.6446609315493435, 0.6298536667724128, 0.6360328474295419, 0.6451558975755558, 0.6407391599821666, 0.6443629822762184, 0.6424915953519084, 0.6315300851504384, 0.6315300851504384, 0.6404316178417375, 0.6408300848082065, 0.6385164667011871, 0.6427958707321204, 0.6349089782082205, 0.6350601306849276, 0.6360731374722183, 0.6292312970977376, 0.6430435222685711, 0.6387831743389036, 0.6315300851504384, 0.6295453727586007, 0.5, 0.6410430983156896, 0.6433382047814792, 0.6376418823964247, 0.6347414919304282, 0.5, 0.6320645893459438, 0.6430179326468712, 0.6332891836739563, 0.634515411382077, 0.6422954601055464, 0.6472396239139708, 0.644708636619179]}, {\"categories\": [\"0\", \"1\", \"2\", \"3\", \"4\", \"5\", \"6\", \"7\", \"8\", \"9\", \"10\", \"11\", \"12\", \"13\", \"14\", \"15\", \"16\", \"17\", \"18\", \"19\", \"20\", \"21\", \"22\", \"23\", \"24\", \"25\", \"26\", \"27\", \"28\", \"29\", \"30\", \"31\", \"32\", \"33\", \"34\", \"35\", \"38\", \"39\"], \"mode\": \"lines\", \"name\": \"recall_score_macro_max\", \"stepped\": true, \"type\": \"scatter\", \"data\": [0.6424157079935342, 0.6442951321850446, 0.6442951321850446, 0.6442951321850446, 0.6446609315493435, 0.6446609315493435, 0.6446609315493435, 0.6451558975755558, 0.6451558975755558, 0.6451558975755558, 0.6451558975755558, 0.6451558975755558, 0.6451558975755558, 0.6451558975755558, 0.6451558975755558, 0.6451558975755558, 0.6451558975755558, 0.6451558975755558, 0.6451558975755558, 0.6451558975755558, 0.6451558975755558, 0.6451558975755558, 0.6451558975755558, 0.6451558975755558, 0.6451558975755558, 0.6451558975755558, 0.6451558975755558, 0.6451558975755558, 0.6451558975755558, 0.6451558975755558, 0.6451558975755558, 0.6451558975755558, 0.6451558975755558, 0.6451558975755558, 0.6451558975755558, 0.6451558975755558, 0.6472396239139708, 0.6472396239139708]}], \"AUC_weighted\": [{\"categories\": [\"0\", \"1\", \"2\", \"3\", \"4\", \"5\", \"6\", \"7\", \"8\", \"9\", \"10\", \"11\", \"12\", \"13\", \"14\", \"15\", \"16\", \"17\", \"18\", \"19\", \"20\", \"21\", \"22\", \"23\", \"24\", \"25\", \"26\", \"27\", \"28\", \"29\", \"30\", \"31\", \"32\", \"33\", \"34\", \"35\", \"38\", \"39\"], \"mode\": \"markers\", \"name\": \"AUC_weighted\", \"stepped\": false, \"type\": \"scatter\", \"data\": [0.6868438802847494, 0.6860011857821054, 0.682255585926631, 0.6703798236177638, 0.6823647112738798, 0.6713989231721258, 0.6789520876205241, 0.6879304410302592, 0.6853867496679571, 0.6862585338925336, 0.679942771546332, 0.6669916228860302, 0.6645962839202492, 0.6811805884752226, 0.6778848422429637, 0.677185703703189, 0.6809511374599808, 0.6656272838154016, 0.6687846334918006, 0.6729165147796011, 0.6704467403488754, 0.6839934505087383, 0.6822212850063427, 0.6669805262719597, 0.672425567386989, 0.5, 0.6817806093617467, 0.6785084304710535, 0.6784977227570087, 0.6647249839021316, 0.5, 0.6760316039865261, 0.6869439053713938, 0.6786840317960514, 0.6740138869458291, 0.6733709055697846, 0.6885062723351767, 0.6884384481706713]}, {\"categories\": [\"0\", \"1\", \"2\", \"3\", \"4\", \"5\", \"6\", \"7\", \"8\", \"9\", \"10\", \"11\", \"12\", \"13\", \"14\", \"15\", \"16\", \"17\", \"18\", \"19\", \"20\", \"21\", \"22\", \"23\", \"24\", \"25\", \"26\", \"27\", \"28\", \"29\", \"30\", \"31\", \"32\", \"33\", \"34\", \"35\", \"38\", \"39\"], \"mode\": \"lines\", \"name\": \"AUC_weighted_max\", \"stepped\": true, \"type\": \"scatter\", \"data\": [0.6868438802847494, 0.6868438802847494, 0.6868438802847494, 0.6868438802847494, 0.6868438802847494, 0.6868438802847494, 0.6868438802847494, 0.6879304410302592, 0.6879304410302592, 0.6879304410302592, 0.6879304410302592, 0.6879304410302592, 0.6879304410302592, 0.6879304410302592, 0.6879304410302592, 0.6879304410302592, 0.6879304410302592, 0.6879304410302592, 0.6879304410302592, 0.6879304410302592, 0.6879304410302592, 0.6879304410302592, 0.6879304410302592, 0.6879304410302592, 0.6879304410302592, 0.6879304410302592, 0.6879304410302592, 0.6879304410302592, 0.6879304410302592, 0.6879304410302592, 0.6879304410302592, 0.6879304410302592, 0.6879304410302592, 0.6879304410302592, 0.6879304410302592, 0.6879304410302592, 0.6885062723351767, 0.6885062723351767]}], \"average_precision_score_weighted\": [{\"categories\": [\"0\", \"1\", \"2\", \"3\", \"4\", \"5\", \"6\", \"7\", \"8\", \"9\", \"10\", \"11\", \"12\", \"13\", \"14\", \"15\", \"16\", \"17\", \"18\", \"19\", \"20\", \"21\", \"22\", \"23\", \"24\", \"25\", \"26\", \"27\", \"28\", \"29\", \"30\", \"31\", \"32\", \"33\", \"34\", \"35\", \"38\", \"39\"], \"mode\": \"markers\", \"name\": \"average_precision_score_weighted\", \"stepped\": false, \"type\": \"scatter\", \"data\": [0.6759050400551954, 0.6749166852487753, 0.6662554983707217, 0.6566901501666303, 0.66814559890685, 0.6540558496284904, 0.6672399809615003, 0.6768750217982551, 0.6750399973981691, 0.6759187312972159, 0.6517181152442014, 0.6387727881044686, 0.6398174565896417, 0.6699639775513462, 0.6670443146711066, 0.6605941137130094, 0.668456285429268, 0.64486848580556, 0.6540712526739341, 0.6569514950611767, 0.6549911093179486, 0.6711849184808074, 0.6729892984156585, 0.6467562262772549, 0.6607346102136178, 0.500002858398849, 0.6685563369559733, 0.6642271780609034, 0.6643583569625234, 0.6437219081133513, 0.500002858398849, 0.6631995426048527, 0.6741875215618007, 0.6676208537958506, 0.6616604988054143, 0.632386640886766, 0.6778455220069166, 0.6777062408546117]}, {\"categories\": [\"0\", \"1\", \"2\", \"3\", \"4\", \"5\", \"6\", \"7\", \"8\", \"9\", \"10\", \"11\", \"12\", \"13\", \"14\", \"15\", \"16\", \"17\", \"18\", \"19\", \"20\", \"21\", \"22\", \"23\", \"24\", \"25\", \"26\", \"27\", \"28\", \"29\", \"30\", \"31\", \"32\", \"33\", \"34\", \"35\", \"38\", \"39\"], \"mode\": \"lines\", \"name\": \"average_precision_score_weighted_max\", \"stepped\": true, \"type\": \"scatter\", \"data\": [0.6759050400551954, 0.6759050400551954, 0.6759050400551954, 0.6759050400551954, 0.6759050400551954, 0.6759050400551954, 0.6759050400551954, 0.6768750217982551, 0.6768750217982551, 0.6768750217982551, 0.6768750217982551, 0.6768750217982551, 0.6768750217982551, 0.6768750217982551, 0.6768750217982551, 0.6768750217982551, 0.6768750217982551, 0.6768750217982551, 0.6768750217982551, 0.6768750217982551, 0.6768750217982551, 0.6768750217982551, 0.6768750217982551, 0.6768750217982551, 0.6768750217982551, 0.6768750217982551, 0.6768750217982551, 0.6768750217982551, 0.6768750217982551, 0.6768750217982551, 0.6768750217982551, 0.6768750217982551, 0.6768750217982551, 0.6768750217982551, 0.6768750217982551, 0.6768750217982551, 0.6778455220069166, 0.6778455220069166]}], \"f1_score_weighted\": [{\"categories\": [\"0\", \"1\", \"2\", \"3\", \"4\", \"5\", \"6\", \"7\", \"8\", \"9\", \"10\", \"11\", \"12\", \"13\", \"14\", \"15\", \"16\", \"17\", \"18\", \"19\", \"20\", \"21\", \"22\", \"23\", \"24\", \"25\", \"26\", \"27\", \"28\", \"29\", \"30\", \"31\", \"32\", \"33\", \"34\", \"35\", \"38\", \"39\"], \"mode\": \"markers\", \"name\": \"f1_score_weighted\", \"stepped\": false, \"type\": \"scatter\", \"data\": [0.6376910680562006, 0.6373558897306159, 0.6340362459108375, 0.6237696975575944, 0.636653072588387, 0.6289013662219081, 0.626611991733887, 0.6401963598910325, 0.634824792545966, 0.6392453386992868, 0.628590576292782, 0.6249194885450283, 0.6249194885450283, 0.6330873002470683, 0.6307464180810329, 0.630196664792949, 0.6311227362102692, 0.6246946580171404, 0.6227626545119166, 0.6244846020204106, 0.6289323942822854, 0.6360459604066054, 0.6336198496129243, 0.6249194885450283, 0.6294411754565818, 0.3346625032474092, 0.6317193092216405, 0.6331513432941457, 0.6325633249682039, 0.6271634374668577, 0.3346625032474092, 0.6302205291833345, 0.6370748774691142, 0.6290738723701284, 0.6268585863884365, 0.626339157218104, 0.6410073248902658, 0.6394459343692608]}, {\"categories\": [\"0\", \"1\", \"2\", \"3\", \"4\", \"5\", \"6\", \"7\", \"8\", \"9\", \"10\", \"11\", \"12\", \"13\", \"14\", \"15\", \"16\", \"17\", \"18\", \"19\", \"20\", \"21\", \"22\", \"23\", \"24\", \"25\", \"26\", \"27\", \"28\", \"29\", \"30\", \"31\", \"32\", \"33\", \"34\", \"35\", \"38\", \"39\"], \"mode\": \"lines\", \"name\": \"f1_score_weighted_max\", \"stepped\": true, \"type\": \"scatter\", \"data\": [0.6376910680562006, 0.6376910680562006, 0.6376910680562006, 0.6376910680562006, 0.6376910680562006, 0.6376910680562006, 0.6376910680562006, 0.6401963598910325, 0.6401963598910325, 0.6401963598910325, 0.6401963598910325, 0.6401963598910325, 0.6401963598910325, 0.6401963598910325, 0.6401963598910325, 0.6401963598910325, 0.6401963598910325, 0.6401963598910325, 0.6401963598910325, 0.6401963598910325, 0.6401963598910325, 0.6401963598910325, 0.6401963598910325, 0.6401963598910325, 0.6401963598910325, 0.6401963598910325, 0.6401963598910325, 0.6401963598910325, 0.6401963598910325, 0.6401963598910325, 0.6401963598910325, 0.6401963598910325, 0.6401963598910325, 0.6401963598910325, 0.6401963598910325, 0.6401963598910325, 0.6410073248902658, 0.6410073248902658]}], \"precision_score_macro\": [{\"categories\": [\"0\", \"1\", \"2\", \"3\", \"4\", \"5\", \"6\", \"7\", \"8\", \"9\", \"10\", \"11\", \"12\", \"13\", \"14\", \"15\", \"16\", \"17\", \"18\", \"19\", \"20\", \"21\", \"22\", \"23\", \"24\", \"25\", \"26\", \"27\", \"28\", \"29\", \"30\", \"31\", \"32\", \"33\", \"34\", \"35\", \"38\", \"39\"], \"mode\": \"markers\", \"name\": \"precision_score_macro\", \"stepped\": false, \"type\": \"scatter\", \"data\": [0.6497909370077546, 0.6556569182810339, 0.6516879245690074, 0.6483408290589763, 0.6579879221028982, 0.6310372798528343, 0.6506392742989808, 0.6531353537196888, 0.649968958345282, 0.6525517088634576, 0.6666311025894771, 0.6410065211747786, 0.6410065211747786, 0.652061014037862, 0.6573639022603963, 0.6515856581220036, 0.6626548632527813, 0.6506979595832167, 0.6545207889015119, 0.6544684673166581, 0.6295631533467396, 0.6543683054657763, 0.646606425854601, 0.6410065211747786, 0.6296438703490463, 0.25059774564499604, 0.6562366059186862, 0.6604855017924351, 0.6452401728757078, 0.646099752657615, 0.25059774564499604, 0.6345124086468645, 0.6525076482630614, 0.6392479645068501, 0.6459755090584499, 0.6705513496608726, 0.6576492247287328, 0.6531750597830335]}, {\"categories\": [\"0\", \"1\", \"2\", \"3\", \"4\", \"5\", \"6\", \"7\", \"8\", \"9\", \"10\", \"11\", \"12\", \"13\", \"14\", \"15\", \"16\", \"17\", \"18\", \"19\", \"20\", \"21\", \"22\", \"23\", \"24\", \"25\", \"26\", \"27\", \"28\", \"29\", \"30\", \"31\", \"32\", \"33\", \"34\", \"35\", \"38\", \"39\"], \"mode\": \"lines\", \"name\": \"precision_score_macro_max\", \"stepped\": true, \"type\": \"scatter\", \"data\": [0.6497909370077546, 0.6556569182810339, 0.6556569182810339, 0.6556569182810339, 0.6579879221028982, 0.6579879221028982, 0.6579879221028982, 0.6579879221028982, 0.6579879221028982, 0.6579879221028982, 0.6666311025894771, 0.6666311025894771, 0.6666311025894771, 0.6666311025894771, 0.6666311025894771, 0.6666311025894771, 0.6666311025894771, 0.6666311025894771, 0.6666311025894771, 0.6666311025894771, 0.6666311025894771, 0.6666311025894771, 0.6666311025894771, 0.6666311025894771, 0.6666311025894771, 0.6666311025894771, 0.6666311025894771, 0.6666311025894771, 0.6666311025894771, 0.6666311025894771, 0.6666311025894771, 0.6666311025894771, 0.6666311025894771, 0.6666311025894771, 0.6666311025894771, 0.6705513496608726, 0.6705513496608726, 0.6705513496608726]}], \"f1_score_macro\": [{\"categories\": [\"0\", \"1\", \"2\", \"3\", \"4\", \"5\", \"6\", \"7\", \"8\", \"9\", \"10\", \"11\", \"12\", \"13\", \"14\", \"15\", \"16\", \"17\", \"18\", \"19\", \"20\", \"21\", \"22\", \"23\", \"24\", \"25\", \"26\", \"27\", \"28\", \"29\", \"30\", \"31\", \"32\", \"33\", \"34\", \"35\", \"38\", \"39\"], \"mode\": \"markers\", \"name\": \"f1_score_macro\", \"stepped\": false, \"type\": \"scatter\", \"data\": [0.637786123205368, 0.6374719497039215, 0.6341519744238238, 0.6239106778713153, 0.6367781549334676, 0.6289424782761879, 0.6267498755638141, 0.6402934988597572, 0.6349320256086434, 0.6393442067365288, 0.628758441136053, 0.6250346305502381, 0.6250346305502381, 0.6332075212752168, 0.6308884001122105, 0.6303253781776864, 0.6312757111331523, 0.6248387628355003, 0.6229215590091002, 0.6246383891119063, 0.6289538082611006, 0.6361627366528315, 0.6337199603121235, 0.6250346305502381, 0.6294523724273671, 0.3338642396662875, 0.6318555073983911, 0.6332935980797563, 0.6326627246316705, 0.6272866137817299, 0.3338642396662875, 0.6302791066394895, 0.6371820422405055, 0.629164527239485, 0.626982472493476, 0.6265198282424589, 0.6411165515775124, 0.6395462189147597]}, {\"categories\": [\"0\", \"1\", \"2\", \"3\", \"4\", \"5\", \"6\", \"7\", \"8\", \"9\", \"10\", \"11\", \"12\", \"13\", \"14\", \"15\", \"16\", \"17\", \"18\", \"19\", \"20\", \"21\", \"22\", \"23\", \"24\", \"25\", \"26\", \"27\", \"28\", \"29\", \"30\", \"31\", \"32\", \"33\", \"34\", \"35\", \"38\", \"39\"], \"mode\": \"lines\", \"name\": \"f1_score_macro_max\", \"stepped\": true, \"type\": \"scatter\", \"data\": [0.637786123205368, 0.637786123205368, 0.637786123205368, 0.637786123205368, 0.637786123205368, 0.637786123205368, 0.637786123205368, 0.6402934988597572, 0.6402934988597572, 0.6402934988597572, 0.6402934988597572, 0.6402934988597572, 0.6402934988597572, 0.6402934988597572, 0.6402934988597572, 0.6402934988597572, 0.6402934988597572, 0.6402934988597572, 0.6402934988597572, 0.6402934988597572, 0.6402934988597572, 0.6402934988597572, 0.6402934988597572, 0.6402934988597572, 0.6402934988597572, 0.6402934988597572, 0.6402934988597572, 0.6402934988597572, 0.6402934988597572, 0.6402934988597572, 0.6402934988597572, 0.6402934988597572, 0.6402934988597572, 0.6402934988597572, 0.6402934988597572, 0.6402934988597572, 0.6411165515775124, 0.6411165515775124]}], \"precision_score_micro\": [{\"categories\": [\"0\", \"1\", \"2\", \"3\", \"4\", \"5\", \"6\", \"7\", \"8\", \"9\", \"10\", \"11\", \"12\", \"13\", \"14\", \"15\", \"16\", \"17\", \"18\", \"19\", \"20\", \"21\", \"22\", \"23\", \"24\", \"25\", \"26\", \"27\", \"28\", \"29\", \"30\", \"31\", \"32\", \"33\", \"34\", \"35\", \"38\", \"39\"], \"mode\": \"markers\", \"name\": \"precision_score_micro\", \"stepped\": false, \"type\": \"scatter\", \"data\": [0.642149607195719, 0.6439713082090401, 0.640555618809063, 0.6331549584424456, 0.644312877149038, 0.6297392690424684, 0.6356597973357623, 0.6448821587157008, 0.6404417624957304, 0.6440851645223727, 0.6420357508823864, 0.6312194011157919, 0.6312194011157919, 0.6401001935557327, 0.6404417624957304, 0.6381646362290789, 0.6423773198223841, 0.6345212342024366, 0.634635090515769, 0.6356597973357623, 0.6291699874758055, 0.6427188887623819, 0.6385062051690766, 0.6312194011157919, 0.6295115564158033, 0.5011954912899921, 0.6406694751223956, 0.642946601389047, 0.6373676420357509, 0.634407377889104, 0.5011954912899921, 0.6319025389957873, 0.6427188887623819, 0.633041102129113, 0.6341796652624389, 0.6418080382557213, 0.6469315723556871, 0.6444267334623704]}, {\"categories\": [\"0\", \"1\", \"2\", \"3\", \"4\", \"5\", \"6\", \"7\", \"8\", \"9\", \"10\", \"11\", \"12\", \"13\", \"14\", \"15\", \"16\", \"17\", \"18\", \"19\", \"20\", \"21\", \"22\", \"23\", \"24\", \"25\", \"26\", \"27\", \"28\", \"29\", \"30\", \"31\", \"32\", \"33\", \"34\", \"35\", \"38\", \"39\"], \"mode\": \"lines\", \"name\": \"precision_score_micro_max\", \"stepped\": true, \"type\": \"scatter\", \"data\": [0.642149607195719, 0.6439713082090401, 0.6439713082090401, 0.6439713082090401, 0.644312877149038, 0.644312877149038, 0.644312877149038, 0.6448821587157008, 0.6448821587157008, 0.6448821587157008, 0.6448821587157008, 0.6448821587157008, 0.6448821587157008, 0.6448821587157008, 0.6448821587157008, 0.6448821587157008, 0.6448821587157008, 0.6448821587157008, 0.6448821587157008, 0.6448821587157008, 0.6448821587157008, 0.6448821587157008, 0.6448821587157008, 0.6448821587157008, 0.6448821587157008, 0.6448821587157008, 0.6448821587157008, 0.6448821587157008, 0.6448821587157008, 0.6448821587157008, 0.6448821587157008, 0.6448821587157008, 0.6448821587157008, 0.6448821587157008, 0.6448821587157008, 0.6448821587157008, 0.6469315723556871, 0.6469315723556871]}]}, \"metricName\": null, \"primaryMetricName\": \"accuracy\", \"showLegend\": false}, \"run_metrics\": [{\"name\": \"experiment_status\", \"run_id\": \"AutoML_5aaf0531-fcc4-44f4-ad2f-413392658e1f\", \"categories\": [0, 1, 2, 3, 4, 5, 6, 7, 8, 9, 10, 11, 12], \"series\": [{\"data\": [\"DatasetEvaluation\", \"FeaturesGeneration\", \"DatasetFeaturization\", \"DatasetFeaturizationCompleted\", \"ModelSelection\", \"BestRunExplainModel\", \"ModelExplanationDataSetSetup\", \"PickSurrogateModel\", \"EngineeredFeatureExplanations\", \"EngineeredFeatureExplanations\", \"RawFeaturesExplanations\", \"RawFeaturesExplanations\", \"BestRunExplainModel\"]}]}, {\"name\": \"experiment_status_description\", \"run_id\": \"AutoML_5aaf0531-fcc4-44f4-ad2f-413392658e1f\", \"categories\": [0, 1, 2, 3, 4, 5, 6, 7, 8, 9, 10, 11, 12], \"series\": [{\"data\": [\"Gathering dataset statistics.\", \"Generating features for the dataset.\", \"Beginning to fit featurizers and featurize the dataset.\", \"Completed fit featurizers and featurizing the dataset.\", \"Beginning model selection.\", \"Best run model explanations started\", \"Model explanations data setup completed\", \"Choosing LightGBM as the surrogate model for explanations\", \"Computation of engineered features started\", \"Computation of engineered features completed\", \"Computation of raw features started\", \"Computation of raw features completed\", \"Best run model explanations completed\"]}]}, {\"name\": \"recall_score_macro\", \"run_id\": \"AutoML_5aaf0531-fcc4-44f4-ad2f-413392658e1f\", \"categories\": [0], \"series\": [{\"data\": [0.6472396239139708]}]}, {\"name\": \"balanced_accuracy\", \"run_id\": \"AutoML_5aaf0531-fcc4-44f4-ad2f-413392658e1f\", \"categories\": [0], \"series\": [{\"data\": [0.6472396239139708]}]}, {\"name\": \"accuracy\", \"run_id\": \"AutoML_5aaf0531-fcc4-44f4-ad2f-413392658e1f\", \"categories\": [0], \"series\": [{\"data\": [0.6469315723556871]}]}, {\"name\": \"f1_score_weighted\", \"run_id\": \"AutoML_5aaf0531-fcc4-44f4-ad2f-413392658e1f\", \"categories\": [0], \"series\": [{\"data\": [0.6410073248902658]}]}, {\"name\": \"AUC_macro\", \"run_id\": \"AutoML_5aaf0531-fcc4-44f4-ad2f-413392658e1f\", \"categories\": [0], \"series\": [{\"data\": [0.6885062723351767]}]}, {\"name\": \"AUC_micro\", \"run_id\": \"AutoML_5aaf0531-fcc4-44f4-ad2f-413392658e1f\", \"categories\": [0], \"series\": [{\"data\": [0.6969117327342891]}]}, {\"name\": \"log_loss\", \"run_id\": \"AutoML_5aaf0531-fcc4-44f4-ad2f-413392658e1f\", \"categories\": [0], \"series\": [{\"data\": [0.6500476269714077]}]}, {\"name\": \"precision_score_macro\", \"run_id\": \"AutoML_5aaf0531-fcc4-44f4-ad2f-413392658e1f\", \"categories\": [0], \"series\": [{\"data\": [0.6576492247287328]}]}, {\"name\": \"f1_score_micro\", \"run_id\": \"AutoML_5aaf0531-fcc4-44f4-ad2f-413392658e1f\", \"categories\": [0], \"series\": [{\"data\": [0.6469315723556871]}]}, {\"name\": \"weighted_accuracy\", \"run_id\": \"AutoML_5aaf0531-fcc4-44f4-ad2f-413392658e1f\", \"categories\": [0], \"series\": [{\"data\": [0.6466235243195201]}]}, {\"name\": \"precision_score_weighted\", \"run_id\": \"AutoML_5aaf0531-fcc4-44f4-ad2f-413392658e1f\", \"categories\": [0], \"series\": [{\"data\": [0.6577489459072148]}]}, {\"name\": \"average_precision_score_macro\", \"run_id\": \"AutoML_5aaf0531-fcc4-44f4-ad2f-413392658e1f\", \"categories\": [0], \"series\": [{\"data\": [0.6778012591287494]}]}, {\"name\": \"recall_score_micro\", \"run_id\": \"AutoML_5aaf0531-fcc4-44f4-ad2f-413392658e1f\", \"categories\": [0], \"series\": [{\"data\": [0.6469315723556871]}]}, {\"name\": \"norm_macro_recall\", \"run_id\": \"AutoML_5aaf0531-fcc4-44f4-ad2f-413392658e1f\", \"categories\": [0], \"series\": [{\"data\": [0.29447924782794166]}]}, {\"name\": \"recall_score_weighted\", \"run_id\": \"AutoML_5aaf0531-fcc4-44f4-ad2f-413392658e1f\", \"categories\": [0], \"series\": [{\"data\": [0.6469315723556871]}]}, {\"name\": \"AUC_weighted\", \"run_id\": \"AutoML_5aaf0531-fcc4-44f4-ad2f-413392658e1f\", \"categories\": [0], \"series\": [{\"data\": [0.6885062723351767]}]}, {\"name\": \"f1_score_macro\", \"run_id\": \"AutoML_5aaf0531-fcc4-44f4-ad2f-413392658e1f\", \"categories\": [0], \"series\": [{\"data\": [0.6411165515775124]}]}, {\"name\": \"matthews_correlation\", \"run_id\": \"AutoML_5aaf0531-fcc4-44f4-ad2f-413392658e1f\", \"categories\": [0], \"series\": [{\"data\": [0.3047110930661217]}]}, {\"name\": \"average_precision_score_micro\", \"run_id\": \"AutoML_5aaf0531-fcc4-44f4-ad2f-413392658e1f\", \"categories\": [0], \"series\": [{\"data\": [0.6861920932900447]}]}, {\"name\": \"precision_score_micro\", \"run_id\": \"AutoML_5aaf0531-fcc4-44f4-ad2f-413392658e1f\", \"categories\": [0], \"series\": [{\"data\": [0.6469315723556871]}]}, {\"name\": \"average_precision_score_weighted\", \"run_id\": \"AutoML_5aaf0531-fcc4-44f4-ad2f-413392658e1f\", \"categories\": [0], \"series\": [{\"data\": [0.6778455220069166]}]}], \"run_logs\": \"\\nRun is completed.\", \"graph\": {}, \"widget_settings\": {\"childWidgetDisplay\": \"popup\", \"send_telemetry\": false, \"log_level\": \"INFO\", \"sdk_version\": \"1.27.0\"}, \"loading\": false}"
          },
          "metadata": {}
        },
        {
          "output_type": "display_data",
          "data": {
            "text/plain": "<IPython.core.display.HTML object>",
            "text/html": "<table style=\"width:100%\"><tr><th>Experiment</th><th>Id</th><th>Type</th><th>Status</th><th>Details Page</th><th>Docs Page</th></tr><tr><td>automatedmlcovid</td><td>AutoML_5aaf0531-fcc4-44f4-ad2f-413392658e1f</td><td>automl</td><td>NotStarted</td><td><a href=\"https://ml.azure.com/runs/AutoML_5aaf0531-fcc4-44f4-ad2f-413392658e1f?wsid=/subscriptions/1b944a9b-fdae-4f97-aeb1-b7eea0beac53/resourcegroups/aml-quickstarts-144486/workspaces/quick-starts-ws-144486&amp;tid=660b3398-b80e-49d2-bc5b-ac1dc93b5254\" target=\"_blank\" rel=\"noopener\">Link to Azure Machine Learning studio</a></td><td><a href=\"https://docs.microsoft.com/en-us/python/api/overview/azure/ml/intro?view=azure-ml-py\" target=\"_blank\" rel=\"noopener\">Link to Documentation</a></td></tr></table>"
          },
          "metadata": {}
        },
        {
          "output_type": "stream",
          "name": "stdout",
          "text": [
            "\n",
            "Current status: FeaturesGeneration. Generating features for the dataset.\n",
            "Current status: DatasetFeaturization. Beginning to fit featurizers and featurize the dataset.\n",
            "Current status: ModelSelection. Beginning model selection.\n",
            "\n",
            "****************************************************************************************************\n",
            "DATA GUARDRAILS: \n",
            "\n",
            "TYPE:         Train-Test data split\n",
            "STATUS:       DONE\n",
            "DESCRIPTION:  Your input data has been split into a training dataset and a holdout test dataset for validation of the model. The test holdout dataset reflects the original distribution of your input data.\n",
            "              \n",
            "DETAILS:      \n",
            "+---------------------------------+---------------------------------+---------------------------------+\n",
            "|Dataset                          |Row counts                       |Percentage                       |\n",
            "+=================================+=================================+=================================+\n",
            "|train                            |79044                            |89.99965841939267                |\n",
            "|test                             |8783                             |10.00034158060733                |\n",
            "+---------------------------------+---------------------------------+---------------------------------+\n",
            "\n",
            "****************************************************************************************************\n",
            "\n",
            "TYPE:         Class balancing detection\n",
            "STATUS:       PASSED\n",
            "DESCRIPTION:  Your inputs were analyzed, and all classes are balanced in your training data.\n",
            "              Learn more about imbalanced data: https://aka.ms/AutomatedMLImbalancedData\n",
            "\n",
            "****************************************************************************************************\n",
            "\n",
            "TYPE:         Missing feature values imputation\n",
            "STATUS:       PASSED\n",
            "DESCRIPTION:  No feature missing values were detected in the training data.\n",
            "              Learn more about missing value imputation: https://aka.ms/AutomatedMLFeaturization\n",
            "\n",
            "****************************************************************************************************\n",
            "\n",
            "TYPE:         High cardinality feature detection\n",
            "STATUS:       PASSED\n",
            "DESCRIPTION:  Your inputs were analyzed, and no high cardinality features were detected.\n",
            "              Learn more about high cardinality feature handling: https://aka.ms/AutomatedMLFeaturization\n",
            "\n",
            "****************************************************************************************************\n",
            "\n",
            "****************************************************************************************************\n",
            "ITERATION: The iteration being evaluated.\n",
            "PIPELINE: A summary description of the pipeline being evaluated.\n",
            "DURATION: Time taken for the current iteration.\n",
            "METRIC: The result of computing score on the fitted pipeline.\n",
            "BEST: The best observed score thus far.\n",
            "****************************************************************************************************\n",
            "\n",
            " ITERATION   PIPELINE                                       DURATION      METRIC      BEST\n",
            "         0   MaxAbsScaler LightGBM                          0:00:46       0.6421    0.6421\n",
            "         3   MaxAbsScaler RandomForest                      0:00:45       0.6332    0.6421\n",
            "         4   MaxAbsScaler RandomForest                      0:00:44       0.6443    0.6443\n",
            "         2   MaxAbsScaler RandomForest                      0:00:42       0.6406    0.6443\n",
            "         5   MaxAbsScaler RandomForest                      0:01:26       0.6297    0.6443\n",
            "         7   SparseNormalizer XGBoostClassifier             0:00:53       0.6449    0.6449\n",
            "         1   MaxAbsScaler XGBoostClassifier                 0:01:40       0.6440    0.6449\n",
            "         6   SparseNormalizer GradientBoosting              0:02:22       0.6357    0.6449\n",
            "         8   SparseNormalizer XGBoostClassifier             0:00:46       0.6404    0.6449\n",
            "        10   SparseNormalizer XGBoostClassifier             0:00:46       0.6420    0.6449\n",
            "         9   SparseNormalizer XGBoostClassifier             0:01:01       0.6441    0.6449\n",
            "        11   MaxAbsScaler RandomForest                      0:00:46       0.6312    0.6449\n",
            "        13   MaxAbsScaler LogisticRegression                0:00:48       0.6401    0.6449\n",
            "        12   MaxAbsScaler RandomForest                      0:01:23       0.6312    0.6449\n",
            "        14   MaxAbsScaler LightGBM                          0:00:42       0.6404    0.6449\n",
            "        16   MaxAbsScaler LightGBM                          0:00:44       0.6424    0.6449\n",
            "        17   MaxAbsScaler ExtremeRandomTrees                0:01:24       0.6345    0.6449\n",
            "        15   MaxAbsScaler ExtremeRandomTrees                0:00:48       0.6382    0.6449\n",
            "        18   MaxAbsScaler LightGBM                          0:00:41       0.6346    0.6449\n",
            "        19   SparseNormalizer LightGBM                      0:00:41       0.6357    0.6449\n",
            "        20   MaxAbsScaler LightGBM                          0:00:41       0.6292    0.6449\n",
            "        21   MaxAbsScaler LightGBM                          0:00:42       0.6427    0.6449\n",
            "        22   SparseNormalizer XGBoostClassifier             0:00:51       0.6385    0.6449\n",
            "        23   MaxAbsScaler ExtremeRandomTrees                0:00:57       0.6312    0.6449\n",
            "        24   StandardScalerWrapper LightGBM                 0:00:46       0.6295    0.6449\n",
            "        25   StandardScalerWrapper XGBoostClassifier        0:00:43       0.5012    0.6449\n",
            "        26   MaxAbsScaler LightGBM                          0:00:45       0.6407    0.6449\n",
            "        27   MaxAbsScaler LightGBM                          0:00:42       0.6429    0.6449\n",
            "        28   StandardScalerWrapper ExtremeRandomTrees       0:00:54       0.6374    0.6449\n",
            "        29   MaxAbsScaler ExtremeRandomTrees                0:00:47       0.6344    0.6449\n",
            "        30   TruncatedSVDWrapper XGBoostClassifier          0:00:45       0.5012    0.6449\n",
            "        31   MaxAbsScaler LightGBM                          0:00:39       0.6319    0.6449\n",
            "        32   SparseNormalizer XGBoostClassifier             0:00:45       0.6427    0.6449\n",
            "        33   SparseNormalizer XGBoostClassifier             0:00:57       0.6330    0.6449\n",
            "        34   MaxAbsScaler LightGBM                          0:00:37       0.6342    0.6449\n",
            "        35   StandardScalerWrapper XGBoostClassifier        0:00:37       0.6418    0.6449\n",
            "        36                                                  0:00:13          nan    0.6449\n",
            "        37                                                  0:00:26          nan    0.6449\n",
            "        38    VotingEnsemble                                0:00:56       0.6469    0.6469\n",
            "        39    StackEnsemble                                 0:01:39       0.6444    0.6469\n"
          ]
        },
        {
          "output_type": "execute_result",
          "execution_count": 50,
          "data": {
            "text/plain": "{'runId': 'AutoML_5aaf0531-fcc4-44f4-ad2f-413392658e1f',\n 'target': 'cpu-cluster',\n 'status': 'Completed',\n 'startTimeUtc': '2021-05-10T22:16:40.50176Z',\n 'endTimeUtc': '2021-05-10T22:34:39.001631Z',\n 'properties': {'num_iterations': '1000',\n  'training_type': 'TrainFull',\n  'acquisition_function': 'EI',\n  'primary_metric': 'accuracy',\n  'train_split': '0',\n  'acquisition_parameter': '0',\n  'num_cross_validation': None,\n  'target': 'cpu-cluster',\n  'AMLSettingsJsonString': '{\"path\":null,\"name\":\"automatedmlcovid\",\"subscription_id\":\"1b944a9b-fdae-4f97-aeb1-b7eea0beac53\",\"resource_group\":\"aml-quickstarts-144486\",\"workspace_name\":\"quick-starts-ws-144486\",\"region\":\"southcentralus\",\"compute_target\":\"cpu-cluster\",\"spark_service\":null,\"azure_service\":\"remote\",\"many_models\":false,\"pipeline_fetch_max_batch_size\":1,\"enable_batch_run\":false,\"enable_run_restructure\":false,\"start_auxiliary_runs_before_parent_complete\":false,\"iterations\":1000,\"primary_metric\":\"accuracy\",\"task_type\":\"classification\",\"data_script\":null,\"test_size\":0.0,\"validation_size\":0.0,\"n_cross_validations\":null,\"y_min\":null,\"y_max\":null,\"num_classes\":null,\"featurization\":\"auto\",\"_ignore_package_version_incompatibilities\":false,\"is_timeseries\":false,\"max_cores_per_iteration\":1,\"max_concurrent_iterations\":5,\"iteration_timeout_minutes\":null,\"mem_in_mb\":null,\"enforce_time_on_windows\":false,\"experiment_timeout_minutes\":60,\"experiment_exit_score\":null,\"whitelist_models\":null,\"blacklist_algos\":[\"TensorFlowLinearClassifier\",\"TensorFlowDNN\"],\"supported_models\":[\"ExtremeRandomTrees\",\"XGBoostClassifier\",\"KNN\",\"SVM\",\"LinearSVM\",\"TensorFlowLinearClassifier\",\"GradientBoosting\",\"LogisticRegression\",\"BernoulliNaiveBayes\",\"LightGBM\",\"DecisionTree\",\"AveragedPerceptronClassifier\",\"RandomForest\",\"SGD\",\"TensorFlowDNN\",\"MultinomialNaiveBayes\"],\"private_models\":[],\"auto_blacklist\":true,\"blacklist_samples_reached\":false,\"exclude_nan_labels\":true,\"verbosity\":20,\"_debug_log\":\"azureml_automl.log\",\"show_warnings\":false,\"model_explainability\":true,\"service_url\":null,\"sdk_url\":null,\"sdk_packages\":null,\"enable_onnx_compatible_models\":false,\"enable_split_onnx_featurizer_estimator_models\":false,\"vm_type\":\"STANDARD_D16S_V3\",\"telemetry_verbosity\":20,\"send_telemetry\":true,\"enable_dnn\":false,\"scenario\":\"SDK-1.13.0\",\"environment_label\":null,\"save_mlflow\":false,\"force_text_dnn\":false,\"enable_feature_sweeping\":true,\"enable_early_stopping\":true,\"early_stopping_n_iters\":10,\"metrics\":null,\"enable_metric_confidence\":false,\"enable_ensembling\":true,\"enable_stack_ensembling\":true,\"ensemble_iterations\":15,\"enable_tf\":false,\"enable_subsampling\":null,\"subsample_seed\":null,\"enable_nimbusml\":false,\"enable_streaming\":false,\"force_streaming\":false,\"track_child_runs\":true,\"allowed_private_models\":[],\"label_column_name\":\"UCI\",\"weight_column_name\":null,\"cv_split_column_names\":null,\"enable_local_managed\":false,\"_local_managed_run_id\":null,\"cost_mode\":1,\"lag_length\":0,\"metric_operation\":\"maximize\",\"preprocess\":true}',\n  'DataPrepJsonString': '{\\\\\"training_data\\\\\": {\\\\\"datasetId\\\\\": \\\\\"75a4c8c8-a776-4669-b6bd-ea0e4ede4218\\\\\"}, \\\\\"datasets\\\\\": 0}',\n  'EnableSubsampling': None,\n  'runTemplate': 'AutoML',\n  'azureml.runsource': 'automl',\n  'display_task_type': 'classification',\n  'dependencies_versions': '{\"azureml-widgets\": \"1.27.0\", \"azureml-train\": \"1.27.0\", \"azureml-train-restclients-hyperdrive\": \"1.27.0\", \"azureml-train-core\": \"1.27.0\", \"azureml-train-automl-client\": \"1.27.0\", \"azureml-tensorboard\": \"1.27.0\", \"azureml-telemetry\": \"1.27.0\", \"azureml-sdk\": \"1.27.0\", \"azureml-pipeline\": \"1.27.0\", \"azureml-pipeline-steps\": \"1.27.0\", \"azureml-pipeline-core\": \"1.27.0\", \"azureml-opendatasets\": \"1.27.0\", \"azureml-model-management-sdk\": \"1.0.1b6.post1\", \"azureml-mlflow\": \"1.27.0\", \"azureml-interpret\": \"1.27.0\", \"azureml-explain-model\": \"1.27.0\", \"azureml-defaults\": \"1.27.0\", \"azureml-dataset-runtime\": \"1.27.0\", \"azureml-dataprep\": \"2.14.2\", \"azureml-dataprep-rslex\": \"1.12.1\", \"azureml-dataprep-native\": \"33.0.0\", \"azureml-datadrift\": \"1.27.0\", \"azureml-core\": \"1.27.0\", \"azureml-contrib-services\": \"1.27.0\", \"azureml-contrib-server\": \"1.27.0\", \"azureml-contrib-reinforcementlearning\": \"1.27.0\", \"azureml-contrib-pipeline-steps\": \"1.27.0\", \"azureml-contrib-notebook\": \"1.27.0\", \"azureml-contrib-gbdt\": \"1.27.0\", \"azureml-contrib-fairness\": \"1.27.0\", \"azureml-contrib-dataset\": \"1.27.0\", \"azureml-cli-common\": \"1.27.0\", \"azureml-automl-core\": \"1.27.0\", \"azureml-accel-models\": \"1.27.0\"}',\n  '_aml_system_scenario_identification': 'Remote.Parent',\n  'ClientType': 'SDK',\n  'environment_cpu_name': 'AzureML-AutoML',\n  'environment_cpu_label': 'prod',\n  'environment_gpu_name': 'AzureML-AutoML-GPU',\n  'environment_gpu_label': 'prod',\n  'root_attribution': 'automl',\n  'attribution': 'AutoML',\n  'Orchestrator': 'AutoML',\n  'CancelUri': 'https://southcentralus.api.azureml.ms/jasmine/v1.0/subscriptions/1b944a9b-fdae-4f97-aeb1-b7eea0beac53/resourceGroups/aml-quickstarts-144486/providers/Microsoft.MachineLearningServices/workspaces/quick-starts-ws-144486/experimentids/c5a09841-e122-40f1-b48c-5e5476d38f8c/cancel/AutoML_5aaf0531-fcc4-44f4-ad2f-413392658e1f',\n  'ClientSdkVersion': '1.27.0.post1',\n  'snapshotId': '00000000-0000-0000-0000-000000000000',\n  'SetupRunId': 'AutoML_5aaf0531-fcc4-44f4-ad2f-413392658e1f_setup',\n  'SetupRunContainerId': 'dcid.AutoML_5aaf0531-fcc4-44f4-ad2f-413392658e1f_setup',\n  'FeaturizationRunJsonPath': 'featurizer_container.json',\n  'FeaturizationRunId': 'AutoML_5aaf0531-fcc4-44f4-ad2f-413392658e1f_featurize',\n  'ProblemInfoJsonString': '{\"dataset_num_categorical\": 0, \"is_sparse\": true, \"subsampling\": false, \"dataset_classes\": 2, \"dataset_features\": 46, \"dataset_samples\": 79044, \"single_frequency_class_detected\": false}',\n  'ModelExplainRunId': 'AutoML_5aaf0531-fcc4-44f4-ad2f-413392658e1f_ModelExplain'},\n 'inputDatasets': [{'dataset': {'id': '75a4c8c8-a776-4669-b6bd-ea0e4ede4218'}, 'consumptionDetails': {'type': 'RunInput', 'inputName': 'training_data', 'mechanism': 'Direct'}}],\n 'outputDatasets': [],\n 'logFiles': {},\n 'submittedBy': 'ODL_User 144486'}"
          },
          "metadata": {}
        }
      ],
      "execution_count": 50,
      "metadata": {
        "gather": {
          "logged": 1620686095888
        },
        "jupyter": {
          "outputs_hidden": false,
          "source_hidden": false
        },
        "nteract": {
          "transient": {
            "deleting": false
          }
        }
      }
    },
    {
      "cell_type": "markdown",
      "source": [
        "## Best Model\n",
        "\n",
        "In the cell below we get the best model from the automl experiments and display all the properties of the model.\n",
        "\n"
      ],
      "metadata": {}
    },
    {
      "cell_type": "code",
      "source": [
        "best_run_automl, fitted_model_automl = remote_run.get_output()\r\n",
        "\r\n",
        "#Displaying properties of the AutoML Model\r\n",
        "print(\"AutoML:\")\r\n",
        "automl_best_run_metrics = best_run_automl.get_metrics()\r\n",
        "print(\"Best run Id: \",best_run_automl.id)\r\n",
        "print(\"Accuracy: \", automl_best_run_metrics['accuracy'])\r\n",
        "print(\"All metrics:\")\r\n",
        "for metric in automl_best_run_metrics:\r\n",
        "    value = automl_best_run_metrics[metric]\r\n",
        "    print(metric,value)\r\n"
      ],
      "outputs": [
        {
          "output_type": "stream",
          "name": "stderr",
          "text": [
            "WARNING:root:The model you attempted to retrieve requires 'azureml-train-automl-runtime' to be installed at '==1.27.0.post1'. Please install 'azureml-train-automl-runtime==1.27.0.post1' (e.g. `pip install azureml-train-automl-runtime==1.27.0.post1`) and then rerun the previous command.\n"
          ]
        },
        {
          "output_type": "stream",
          "name": "stdout",
          "text": [
            "AutoML:\n",
            "Best run Id:  AutoML_5aaf0531-fcc4-44f4-ad2f-413392658e1f_38\n",
            "Accuracy:  0.6469315723556871\n",
            "All metrics:\n",
            "average_precision_score_weighted 0.6778455220069166\n",
            "precision_score_micro 0.6469315723556871\n",
            "AUC_micro 0.6969117327342891\n",
            "average_precision_score_macro 0.6778012591287494\n",
            "AUC_weighted 0.6885062723351767\n",
            "log_loss 0.6500476269714077\n",
            "matthews_correlation 0.3047110930661217\n",
            "f1_score_macro 0.6411165515775124\n",
            "recall_score_macro 0.6472396239139708\n",
            "weighted_accuracy 0.6466235243195201\n",
            "precision_score_weighted 0.6577489459072148\n",
            "accuracy 0.6469315723556871\n",
            "recall_score_micro 0.6469315723556871\n",
            "f1_score_weighted 0.6410073248902658\n",
            "recall_score_weighted 0.6469315723556871\n",
            "balanced_accuracy 0.6472396239139708\n",
            "average_precision_score_micro 0.6861920932900447\n",
            "AUC_macro 0.6885062723351767\n",
            "norm_macro_recall 0.29447924782794166\n",
            "precision_score_macro 0.6576492247287328\n",
            "f1_score_micro 0.6469315723556871\n",
            "accuracy_table aml://artifactId/ExperimentRun/dcid.AutoML_5aaf0531-fcc4-44f4-ad2f-413392658e1f_38/accuracy_table\n",
            "confusion_matrix aml://artifactId/ExperimentRun/dcid.AutoML_5aaf0531-fcc4-44f4-ad2f-413392658e1f_38/confusion_matrix\n"
          ]
        }
      ],
      "execution_count": 58,
      "metadata": {
        "gather": {
          "logged": 1620686928178
        },
        "jupyter": {
          "outputs_hidden": false,
          "source_hidden": false
        },
        "nteract": {
          "transient": {
            "deleting": false
          }
        }
      }
    },
    {
      "cell_type": "code",
      "source": [
        "#Saving the best model\r\n",
        "model_automl = best_run_automl.register_model(model_path='outputs/model.pkl', model_name='model_automl')\r\n",
        "print(\"\\nModel saved successfully\")\r\n",
        "print(model_automl)"
      ],
      "outputs": [
        {
          "output_type": "stream",
          "name": "stdout",
          "text": [
            "\n",
            "Model saved successfully\n",
            "Model(workspace=Workspace.create(name='quick-starts-ws-144486', subscription_id='1b944a9b-fdae-4f97-aeb1-b7eea0beac53', resource_group='aml-quickstarts-144486'), name=model_automl, id=model_automl:1, version=1, tags={}, properties={})\n"
          ]
        }
      ],
      "execution_count": 60,
      "metadata": {
        "collapsed": true,
        "jupyter": {
          "source_hidden": false,
          "outputs_hidden": false
        },
        "nteract": {
          "transient": {
            "deleting": false
          }
        },
        "gather": {
          "logged": 1620687084246
        }
      }
    },
    {
      "cell_type": "markdown",
      "source": [
        "## Model Deployment\n",
        "\n",
        "Remember you have to deploy only one of the two models you trained.. Perform the steps in the rest of this notebook only if you wish to deploy this model.\n",
        "\n",
        "TODO: In the cell below, register the model, create an inference config and deploy the model as a web service.\n",
        "\n",
        "Before this step we have to run the `hyperparameter_tuning.ipynb`  notebook, in this case we determined that the model with the most accuracy was the one from AutoML. The next step is to deploy the model and test it.\n",
        "\n",
        "First we have to download the scoring file and the environment file, this can be obtained from the best run."
      ],
      "metadata": {}
    },
    {
      "cell_type": "code",
      "source": [
        "# Download scoring file \r\n",
        "best_run_automl.download_file('outputs/scoring_file_v_1_0_0.py', 'scoring.py')\r\n",
        "\r\n",
        "# Download environment file\r\n",
        "best_run_automl.download_file('outputs/conda_env_v_1_0_0.yml', 'environment.yml')\r\n"
      ],
      "outputs": [],
      "execution_count": 61,
      "metadata": {
        "gather": {
          "logged": 1620687121698
        },
        "jupyter": {
          "outputs_hidden": false,
          "source_hidden": false
        },
        "nteract": {
          "transient": {
            "deleting": false
          }
        }
      }
    },
    {
      "cell_type": "markdown",
      "source": [
        "Now we have to deploy the model with inference configuration"
      ],
      "metadata": {
        "nteract": {
          "transient": {
            "deleting": false
          }
        }
      }
    },
    {
      "cell_type": "code",
      "source": [
        "from azureml.core.environment import Environment\r\n",
        "from azureml.core.model import InferenceConfig\r\n",
        "from azureml.core.webservice import AciWebservice\r\n",
        "\r\n",
        "#Configuration for inference\r\n",
        "inference_config = InferenceConfig(entry_script='scoring.py',\r\n",
        "                                    environment=best_run_automl.get_environment())\r\n",
        "\r\n",
        "#Deployment configuration\r\n",
        "deployment_config = AciWebservice.deploy_configuration(cpu_cores = 1, memory_gb = 1, auth_enabled = True, enable_app_insights= True, description=\"Covid 19 ICU Prediction Model\")\r\n",
        "service = model_automl.deploy(ws, \"icuprediction\", [model_automl], inference_config, deployment_config)\r\n",
        "service.wait_for_deployment(show_output = True)"
      ],
      "outputs": [
        {
          "output_type": "stream",
          "name": "stdout",
          "text": [
            "Tips: You can try get_logs(): https://aka.ms/debugimage#dockerlog or local deployment: https://aka.ms/debugimage#debug-locally to debug if deployment takes longer than 10 minutes.\n",
            "Running\n",
            "2021-05-10 22:52:27+00:00 Creating Container Registry if not exists.\n",
            "2021-05-10 22:52:27+00:00 Registering the environment.\n",
            "2021-05-10 22:52:28+00:00 Use the existing image.\n",
            "2021-05-10 22:52:28+00:00 Generating deployment configuration.\n",
            "2021-05-10 22:52:29+00:00 Submitting deployment to compute..\n",
            "2021-05-10 22:52:33+00:00 Checking the status of deployment icuprediction..\n",
            "2021-05-10 22:55:47+00:00 Checking the status of inference endpoint icuprediction.\n",
            "Succeeded\n",
            "ACI service creation operation finished, operation \"Succeeded\"\n"
          ]
        }
      ],
      "execution_count": 62,
      "metadata": {
        "collapsed": true,
        "jupyter": {
          "source_hidden": false,
          "outputs_hidden": false
        },
        "nteract": {
          "transient": {
            "deleting": false
          }
        },
        "gather": {
          "logged": 1620687353196
        }
      }
    },
    {
      "cell_type": "markdown",
      "source": [
        "Here we check the state of the endpoint and some relevant data of it."
      ],
      "metadata": {
        "nteract": {
          "transient": {
            "deleting": false
          }
        }
      }
    },
    {
      "cell_type": "code",
      "source": [
        "print(\"Service state:\")\r\n",
        "print(service.state)\r\n",
        "print(\"Scoring URI:\")\r\n",
        "print(service.scoring_uri)\r\n",
        "print(\"Swagger URI:\")\r\n",
        "print(service.swagger_uri)\r\n",
        "print(\"Authentication key:\")\r\n",
        "print(service.get_keys()[0])"
      ],
      "outputs": [
        {
          "output_type": "stream",
          "name": "stdout",
          "text": [
            "Service state:\n",
            "Healthy\n",
            "Scoring URI:\n",
            "http://f0e76efb-c302-4cd4-87e5-b600aa4941f3.southcentralus.azurecontainer.io/score\n",
            "Swagger URI:\n",
            "http://f0e76efb-c302-4cd4-87e5-b600aa4941f3.southcentralus.azurecontainer.io/swagger.json\n",
            "Authentication key:\n",
            "bha5jolKX2cJpZwplcnZlPFpouLKTlbc\n"
          ]
        }
      ],
      "execution_count": 63,
      "metadata": {
        "collapsed": true,
        "jupyter": {
          "source_hidden": false,
          "outputs_hidden": false
        },
        "nteract": {
          "transient": {
            "deleting": false
          }
        },
        "gather": {
          "logged": 1620687358596
        }
      }
    },
    {
      "cell_type": "markdown",
      "source": [
        "In the cells below we send a request to the web service we deployed to test it."
      ],
      "metadata": {
        "collapsed": true,
        "gather": {
          "logged": 1598431657736
        },
        "jupyter": {
          "outputs_hidden": false,
          "source_hidden": false
        },
        "nteract": {
          "transient": {
            "deleting": false
          }
        }
      }
    },
    {
      "cell_type": "code",
      "source": [
        "import json\r\n",
        "\r\n",
        "#Import test data\r\n",
        "df = train_data.to_pandas_dataframe()\r\n",
        "test_df = df.sample(5)\r\n",
        "objective_df = test_df.pop('UCI')\r\n",
        "\r\n",
        "test_sample = json.dumps({'data': test_df.to_dict(orient='records')})\r\n",
        "\r\n",
        "print(test_sample)"
      ],
      "outputs": [
        {
          "output_type": "stream",
          "name": "stdout",
          "text": [
            "{\"data\": [{\"SEXO\": 2, \"EDAD\": 42, \"NEUMONIA\": 1, \"DIABETES\": 2, \"EPOC\": 2, \"ASMA\": 2, \"INMUSUPR\": 2, \"HIPERTENSION\": 2, \"OTRA_COM\": 2, \"CARDIOVASCULAR\": 2, \"OBESIDAD\": 2, \"RENAL_CRONICA\": 2, \"TABAQUISMO\": 2, \"RESULTADO_LAB\": 1}, {\"SEXO\": 2, \"EDAD\": 42, \"NEUMONIA\": 1, \"DIABETES\": 2, \"EPOC\": 2, \"ASMA\": 2, \"INMUSUPR\": 2, \"HIPERTENSION\": 2, \"OTRA_COM\": 2, \"CARDIOVASCULAR\": 2, \"OBESIDAD\": 2, \"RENAL_CRONICA\": 2, \"TABAQUISMO\": 1, \"RESULTADO_LAB\": 1}, {\"SEXO\": 1, \"EDAD\": 85, \"NEUMONIA\": 1, \"DIABETES\": 1, \"EPOC\": 2, \"ASMA\": 2, \"INMUSUPR\": 2, \"HIPERTENSION\": 1, \"OTRA_COM\": 2, \"CARDIOVASCULAR\": 2, \"OBESIDAD\": 2, \"RENAL_CRONICA\": 2, \"TABAQUISMO\": 2, \"RESULTADO_LAB\": 1}, {\"SEXO\": 2, \"EDAD\": 39, \"NEUMONIA\": 1, \"DIABETES\": 2, \"EPOC\": 2, \"ASMA\": 2, \"INMUSUPR\": 2, \"HIPERTENSION\": 1, \"OTRA_COM\": 2, \"CARDIOVASCULAR\": 2, \"OBESIDAD\": 2, \"RENAL_CRONICA\": 2, \"TABAQUISMO\": 2, \"RESULTADO_LAB\": 1}, {\"SEXO\": 1, \"EDAD\": 17, \"NEUMONIA\": 2, \"DIABETES\": 2, \"EPOC\": 2, \"ASMA\": 2, \"INMUSUPR\": 2, \"HIPERTENSION\": 2, \"OTRA_COM\": 2, \"CARDIOVASCULAR\": 2, \"OBESIDAD\": 2, \"RENAL_CRONICA\": 2, \"TABAQUISMO\": 2, \"RESULTADO_LAB\": 1}]}\n"
          ]
        }
      ],
      "execution_count": 64,
      "metadata": {
        "gather": {
          "logged": 1620687666644
        },
        "jupyter": {
          "outputs_hidden": false,
          "source_hidden": false
        },
        "nteract": {
          "transient": {
            "deleting": false
          }
        }
      }
    },
    {
      "cell_type": "code",
      "source": [
        "import requests\r\n",
        "\r\n",
        "# Set the content type\r\n",
        "headers = {'Content-Type':'application/json', 'Authorization':('Bearer '+ service.get_keys()[0])}\r\n",
        "\r\n",
        "response = requests.post(service.scoring_uri, test_sample, headers=headers)\r\n",
        "print(response.text)\r\n",
        "print(objective_df)"
      ],
      "outputs": [
        {
          "output_type": "stream",
          "name": "stdout",
          "text": [
            "\"{\\\"result\\\": [1, 1, 1, 1, 2]}\"\n",
            "36139    2\n",
            "20391    1\n",
            "3543     1\n",
            "23674    2\n",
            "2414     2\n",
            "Name: UCI, dtype: int64\n"
          ]
        }
      ],
      "execution_count": 69,
      "metadata": {
        "collapsed": true,
        "jupyter": {
          "source_hidden": false,
          "outputs_hidden": false
        },
        "nteract": {
          "transient": {
            "deleting": false
          }
        },
        "gather": {
          "logged": 1620687965647
        }
      }
    },
    {
      "cell_type": "markdown",
      "source": [
        "## Logs of the web service\r\n",
        "\r\n",
        "In the cells below, we print the logs of the web service"
      ],
      "metadata": {
        "collapsed": true,
        "gather": {
          "logged": 1598432765711
        },
        "jupyter": {
          "outputs_hidden": false,
          "source_hidden": false
        },
        "nteract": {
          "transient": {
            "deleting": false
          }
        }
      }
    },
    {
      "cell_type": "code",
      "source": [
        "print(service.get_logs())"
      ],
      "outputs": [
        {
          "output_type": "stream",
          "name": "stdout",
          "text": [
            "2021-05-10T22:55:40,063340200+00:00 - gunicorn/run \n",
            "2021-05-10T22:55:40,071734100+00:00 - iot-server/run \n",
            "2021-05-10T22:55:40,081303900+00:00 - nginx/run \n",
            "2021-05-10T22:55:40,082839300+00:00 - rsyslog/run \n",
            "/usr/sbin/nginx: /azureml-envs/azureml_98cae94c606e3ceb655a787040a8a93c/lib/libcrypto.so.1.0.0: no version information available (required by /usr/sbin/nginx)\n",
            "/usr/sbin/nginx: /azureml-envs/azureml_98cae94c606e3ceb655a787040a8a93c/lib/libcrypto.so.1.0.0: no version information available (required by /usr/sbin/nginx)\n",
            "/usr/sbin/nginx: /azureml-envs/azureml_98cae94c606e3ceb655a787040a8a93c/lib/libssl.so.1.0.0: no version information available (required by /usr/sbin/nginx)\n",
            "/usr/sbin/nginx: /azureml-envs/azureml_98cae94c606e3ceb655a787040a8a93c/lib/libssl.so.1.0.0: no version information available (required by /usr/sbin/nginx)\n",
            "/usr/sbin/nginx: /azureml-envs/azureml_98cae94c606e3ceb655a787040a8a93c/lib/libssl.so.1.0.0: no version information available (required by /usr/sbin/nginx)\n",
            "rsyslogd: /azureml-envs/azureml_98cae94c606e3ceb655a787040a8a93c/lib/libuuid.so.1: no version information available (required by rsyslogd)\n",
            "EdgeHubConnectionString and IOTEDGE_IOTHUBHOSTNAME are not set. Exiting...\n",
            "2021-05-10T22:55:40,415427900+00:00 - iot-server/finish 1 0\n",
            "2021-05-10T22:55:40,421622700+00:00 - Exit code 1 is normal. Not restarting iot-server.\n",
            "Starting gunicorn 19.9.0\n",
            "Listening at: http://127.0.0.1:31311 (69)\n",
            "Using worker: sync\n",
            "worker timeout is set to 300\n",
            "Booting worker with pid: 98\n",
            "SPARK_HOME not set. Skipping PySpark Initialization.\n",
            "Generating new fontManager, this may take some time...\n",
            "Initializing logger\n",
            "2021-05-10 22:55:42,706 | root | INFO | Starting up app insights client\n",
            "2021-05-10 22:55:42,707 | root | INFO | Starting up request id generator\n",
            "2021-05-10 22:55:42,711 | root | INFO | Starting up app insight hooks\n",
            "2021-05-10 22:55:42,712 | root | INFO | Invoking user's init function\n",
            "2021-05-10 22:55:47,800 | azureml.core | WARNING | Failure while loading azureml_run_type_providers. Failed to load entrypoint automl = azureml.train.automl.run:AutoMLRun._from_run_dto with exception cannot import name 'RunType'.\n",
            "Failure while loading azureml_run_type_providers. Failed to load entrypoint automl = azureml.train.automl.run:AutoMLRun._from_run_dto with exception cannot import name 'RunType'.\n",
            "2021-05-10 22:55:48,356 | root | INFO | Users's init has completed successfully\n",
            "2021-05-10 22:55:48,363 | root | INFO | Skipping middleware: dbg_model_info as it's not enabled.\n",
            "2021-05-10 22:55:48,383 | root | INFO | Skipping middleware: dbg_resource_usage as it's not enabled.\n",
            "2021-05-10 22:55:48,385 | root | INFO | Scoring timeout is found from os.environ: 60000 ms\n",
            "2021-05-10 22:55:48,412 | root | INFO | 200\n",
            "127.0.0.1 - - [10/May/2021:22:55:48 +0000] \"GET /swagger.json HTTP/1.0\" 200 3100 \"-\" \"Go-http-client/1.1\"\n",
            "2021-05-10 22:55:52,902 | root | INFO | 200\n",
            "127.0.0.1 - - [10/May/2021:22:55:52 +0000] \"GET /swagger.json HTTP/1.0\" 200 3100 \"-\" \"Go-http-client/1.1\"\n",
            "2021-05-10 23:01:54,119 | root | INFO | 200\n",
            "127.0.0.1 - - [10/May/2021:23:01:54 +0000] \"GET /swagger.json HTTP/1.0\" 200 3100 \"-\" \"Go-http-client/1.1\"\n",
            "2021-05-10 23:01:56,458 | root | INFO | 200\n",
            "127.0.0.1 - - [10/May/2021:23:01:56 +0000] \"GET /swagger.json HTTP/1.0\" 200 3100 \"-\" \"Go-http-client/1.1\"\n",
            "2021-05-10 23:02:02,283 | root | INFO | 200\n",
            "127.0.0.1 - - [10/May/2021:23:02:02 +0000] \"GET /swagger.json HTTP/1.0\" 200 3100 \"-\" \"Go-http-client/1.1\"\n",
            "2021-05-10 23:03:27,654 | root | INFO | Validation Request Content-Type\n",
            "2021-05-10 23:03:27,656 | root | INFO | Scoring Timer is set to 60.0 seconds\n",
            "2021-05-10 23:03:27,890 | root | INFO | 200\n",
            "127.0.0.1 - - [10/May/2021:23:03:27 +0000] \"POST /score HTTP/1.0\" 200 31 \"-\" \"python-requests/2.25.1\"\n",
            "2021-05-10 23:03:56,829 | root | INFO | Validation Request Content-Type\n",
            "2021-05-10 23:03:56,830 | root | INFO | Scoring Timer is set to 60.0 seconds\n",
            "2021-05-10 23:03:56,978 | root | INFO | 200\n",
            "127.0.0.1 - - [10/May/2021:23:03:56 +0000] \"POST /score HTTP/1.0\" 200 31 \"-\" \"python-requests/2.25.1\"\n",
            "2021-05-10 23:04:07,810 | root | INFO | Validation Request Content-Type\n",
            "2021-05-10 23:04:07,810 | root | INFO | Scoring Timer is set to 60.0 seconds\n",
            "2021-05-10 23:04:07,961 | root | INFO | 200\n",
            "127.0.0.1 - - [10/May/2021:23:04:07 +0000] \"POST /score HTTP/1.0\" 200 31 \"-\" \"python-requests/2.25.1\"\n",
            "2021-05-10 23:06:00,501 | root | INFO | Validation Request Content-Type\n",
            "2021-05-10 23:06:00,501 | root | INFO | Scoring Timer is set to 60.0 seconds\n",
            "2021-05-10 23:06:00,637 | root | INFO | 200\n",
            "127.0.0.1 - - [10/May/2021:23:06:00 +0000] \"POST /score HTTP/1.0\" 200 31 \"-\" \"python-requests/2.25.1\"\n",
            "2021-05-10 23:06:05,409 | root | INFO | Validation Request Content-Type\n",
            "2021-05-10 23:06:05,410 | root | INFO | Scoring Timer is set to 60.0 seconds\n",
            "2021-05-10 23:06:05,560 | root | INFO | 200\n",
            "127.0.0.1 - - [10/May/2021:23:06:05 +0000] \"POST /score HTTP/1.0\" 200 31 \"-\" \"python-requests/2.25.1\"\n",
            "\n"
          ]
        }
      ],
      "execution_count": 72,
      "metadata": {
        "jupyter": {
          "outputs_hidden": false,
          "source_hidden": false
        },
        "nteract": {
          "transient": {
            "deleting": false
          }
        },
        "gather": {
          "logged": 1620688727023
        }
      }
    },
    {
      "cell_type": "markdown",
      "source": [
        "Finally, we delete the service"
      ],
      "metadata": {
        "nteract": {
          "transient": {
            "deleting": false
          }
        }
      }
    },
    {
      "cell_type": "code",
      "source": [
        "service.delete()"
      ],
      "outputs": [],
      "execution_count": null,
      "metadata": {
        "collapsed": true,
        "jupyter": {
          "source_hidden": false,
          "outputs_hidden": false
        },
        "nteract": {
          "transient": {
            "deleting": false
          }
        }
      }
    }
  ],
  "metadata": {
    "kernel_info": {
      "name": "python38-azureml"
    },
    "kernelspec": {
      "name": "python38-azureml",
      "language": "python",
      "display_name": "Python 3.8 - AzureML"
    },
    "language_info": {
      "name": "python",
      "version": "3.8.1",
      "mimetype": "text/x-python",
      "codemirror_mode": {
        "name": "ipython",
        "version": 3
      },
      "pygments_lexer": "ipython3",
      "nbconvert_exporter": "python",
      "file_extension": ".py"
    },
    "nteract": {
      "version": "nteract-front-end@1.0.0"
    },
    "microsoft": {
      "host": {
        "AzureML": {
          "notebookHasBeenCompleted": true
        }
      }
    },
    "metadata": {
      "interpreter": {
        "hash": "31f2aee4e71d21fbe5cf8b01ff0e069b9275f58929596ceb00d14d90e3e16cd6"
      }
    }
  },
  "nbformat": 4,
  "nbformat_minor": 2
}