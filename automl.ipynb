{
 "cells": [
  {
   "cell_type": "markdown",
   "metadata": {},
   "source": [
    "# Automated ML\n",
    "\n",
    "## Overview\n",
    "\n",
    "For this notebook we will be importing the dataset, creating an experiment, creating a compute cluster, cleanning and preprocessing the data before doing our train and test split, running the AutoML Experiment and selecting the best AutoML Model."
   ]
  },
  {
   "cell_type": "markdown",
   "metadata": {
    "nteract": {
     "transient": {
      "deleting": false
     }
    }
   },
   "source": [
    "## Dependencies\n",
    "\n",
    "First we will be importing all the needed dependencies to complete the project.\n",
    "\n",
    "Warning: Install the `imblearn` library and update all the libraries in the cells bellow, and restart the kernel before running the rest of the notebook."
   ]
  },
  {
   "cell_type": "code",
   "execution_count": 1,
   "metadata": {
    "gather": {
     "logged": 1620691918868
    },
    "jupyter": {
     "outputs_hidden": false,
     "source_hidden": false
    },
    "nteract": {
     "transient": {
      "deleting": false
     }
    }
   },
   "outputs": [
    {
     "name": "stdout",
     "output_type": "stream",
     "text": [
      "Collecting imblearn\n",
      "  Downloading imblearn-0.0-py2.py3-none-any.whl (1.9 kB)\n",
      "Collecting imbalanced-learn\n",
      "  Downloading imbalanced_learn-0.8.0-py3-none-any.whl (206 kB)\n",
      "\u001b[K     |████████████████████████████████| 206 kB 7.8 MB/s eta 0:00:01\n",
      "\u001b[?25hCollecting scikit-learn>=0.24\n",
      "  Downloading scikit_learn-0.24.2-cp36-cp36m-manylinux2010_x86_64.whl (22.2 MB)\n",
      "\u001b[K     |████████████████████████████████| 22.2 MB 6.8 MB/s eta 0:00:01\n",
      "\u001b[?25hRequirement already satisfied: joblib>=0.11 in /anaconda/envs/azureml_py36/lib/python3.6/site-packages (from imbalanced-learn->imblearn) (0.14.1)\n",
      "Requirement already satisfied: numpy>=1.13.3 in /anaconda/envs/azureml_py36/lib/python3.6/site-packages (from imbalanced-learn->imblearn) (1.18.5)\n",
      "Requirement already satisfied: scipy>=0.19.1 in /anaconda/envs/azureml_py36/lib/python3.6/site-packages (from imbalanced-learn->imblearn) (1.5.2)\n",
      "Requirement already satisfied: threadpoolctl>=2.0.0 in /anaconda/envs/azureml_py36/lib/python3.6/site-packages (from scikit-learn>=0.24->imbalanced-learn->imblearn) (2.1.0)\n",
      "\u001b[31mERROR: raiwidgets 0.2.2 has requirement lightgbm>=3.1.1, but you'll have lightgbm 2.3.0 which is incompatible.\u001b[0m\n",
      "\u001b[31mERROR: azureml-train-automl-runtime 1.27.0 has requirement scikit-learn<0.23.0,>=0.19.0, but you'll have scikit-learn 0.24.2 which is incompatible.\u001b[0m\n",
      "\u001b[31mERROR: azureml-automl-runtime 1.27.0 has requirement scikit-learn<0.23.0,>=0.19.0, but you'll have scikit-learn 0.24.2 which is incompatible.\u001b[0m\n",
      "\u001b[31mERROR: autokeras 1.0.12 has requirement tensorflow>=2.3.0, but you'll have tensorflow 2.1.0 which is incompatible.\u001b[0m\n",
      "Installing collected packages: scikit-learn, imbalanced-learn, imblearn\n",
      "  Attempting uninstall: scikit-learn\n",
      "    Found existing installation: scikit-learn 0.22.2.post1\n",
      "    Uninstalling scikit-learn-0.22.2.post1:\n",
      "      Successfully uninstalled scikit-learn-0.22.2.post1\n",
      "Successfully installed imbalanced-learn-0.8.0 imblearn-0.0 scikit-learn-0.24.2\n",
      "Note: you may need to restart the kernel to use updated packages.\n"
     ]
    }
   ],
   "source": [
    "pip install imblearn"
   ]
  },
  {
   "cell_type": "code",
   "execution_count": 1,
   "metadata": {
    "gather": {
     "logged": 1620691941204
    },
    "jupyter": {
     "outputs_hidden": false,
     "source_hidden": false
    },
    "nteract": {
     "transient": {
      "deleting": false
     }
    }
   },
   "outputs": [
    {
     "name": "stdout",
     "output_type": "stream",
     "text": [
      "Collecting azureml-sdk[automl,contrib,notebooks]\n",
      "  Downloading azureml_sdk-1.28.0-py3-none-any.whl (4.4 kB)\n",
      "Collecting azureml-widgets\n",
      "  Downloading azureml_widgets-1.28.0-py3-none-any.whl (14.1 MB)\n",
      "\u001b[K     |████████████████████████████████| 14.1 MB 3.0 MB/s eta 0:00:01\n",
      "\u001b[?25hCollecting azureml-train~=1.28.0\n",
      "  Downloading azureml_train-1.28.0-py3-none-any.whl (3.3 kB)\n",
      "Collecting azureml-train-automl-client~=1.28.0\n",
      "  Downloading azureml_train_automl_client-1.28.0-py3-none-any.whl (120 kB)\n",
      "\u001b[K     |████████████████████████████████| 120 kB 60.1 MB/s eta 0:00:01\n",
      "\u001b[?25hCollecting azureml-pipeline~=1.28.0\n",
      "  Downloading azureml_pipeline-1.28.0-py3-none-any.whl (3.7 kB)\n",
      "Collecting azureml-core~=1.28.0\n",
      "  Downloading azureml_core-1.28.0-py3-none-any.whl (2.2 MB)\n",
      "\u001b[K     |████████████████████████████████| 2.2 MB 58.1 MB/s eta 0:00:01\n",
      "\u001b[?25hCollecting azureml-dataset-runtime[fuse]~=1.28.0\n",
      "  Downloading azureml_dataset_runtime-1.28.0-py3-none-any.whl (3.5 kB)\n",
      "Collecting azureml-train-automl~=1.28.0; extra == \"automl\"\n",
      "  Downloading azureml_train_automl-1.28.0-py3-none-any.whl (3.4 kB)\n",
      "Collecting azureml-contrib-pipeline-steps~=1.28.0; extra == \"contrib\"\n",
      "  Downloading azureml_contrib_pipeline_steps-1.28.0-py3-none-any.whl (18 kB)\n",
      "Collecting azureml-contrib-notebook~=1.28.0; extra == \"contrib\"\n",
      "  Downloading azureml_contrib_notebook-1.28.0-py3-none-any.whl (29 kB)\n",
      "Collecting azureml-contrib-services~=1.28.0; extra == \"contrib\"\n",
      "  Downloading azureml_contrib_services-1.28.0-py3-none-any.whl (5.8 kB)\n",
      "Collecting azureml-contrib-server~=1.28.0; extra == \"contrib\"\n",
      "  Downloading azureml_contrib_server-1.28.0-py3-none-any.whl (13 kB)\n",
      "Collecting azureml-telemetry~=1.28.0\n",
      "  Downloading azureml_telemetry-1.28.0-py3-none-any.whl (30 kB)\n",
      "Requirement already satisfied, skipping upgrade: ipywidgets>=7.0.0 in /anaconda/envs/azureml_py36/lib/python3.6/site-packages (from azureml-widgets) (7.6.3)\n",
      "Requirement already satisfied, skipping upgrade: azure-storage-blob>=12.6.0 in /anaconda/envs/azureml_py36/lib/python3.6/site-packages (from azureml-widgets) (12.8.0)\n",
      "Collecting azureml-train-core~=1.28.0\n",
      "  Downloading azureml_train_core-1.28.0-py3-none-any.whl (8.6 MB)\n",
      "\u001b[K     |████████████████████████████████| 8.6 MB 38.0 MB/s eta 0:00:01\n",
      "\u001b[?25hCollecting azureml-automl-core~=1.28.0\n",
      "  Downloading azureml_automl_core-1.28.0-py3-none-any.whl (207 kB)\n",
      "\u001b[K     |████████████████████████████████| 207 kB 58.9 MB/s eta 0:00:01\n",
      "\u001b[?25hCollecting azureml-pipeline-core~=1.28.0\n",
      "  Downloading azureml_pipeline_core-1.28.0-py3-none-any.whl (311 kB)\n",
      "\u001b[K     |████████████████████████████████| 311 kB 68.1 MB/s eta 0:00:01\n",
      "\u001b[?25hCollecting azureml-pipeline-steps~=1.28.0\n",
      "  Downloading azureml_pipeline_steps-1.28.0-py3-none-any.whl (69 kB)\n",
      "\u001b[K     |████████████████████████████████| 69 kB 7.8 MB/s  eta 0:00:01\n",
      "\u001b[?25hRequirement already satisfied, skipping upgrade: jmespath<1.0.0 in /anaconda/envs/azureml_py36/lib/python3.6/site-packages (from azureml-core~=1.28.0->azureml-sdk[automl,contrib,notebooks]) (0.10.0)\n",
      "Requirement already satisfied, skipping upgrade: azure-mgmt-authorization<1.0.0,>=0.40.0 in /anaconda/envs/azureml_py36/lib/python3.6/site-packages (from azureml-core~=1.28.0->azureml-sdk[automl,contrib,notebooks]) (0.61.0)\n",
      "Requirement already satisfied, skipping upgrade: ruamel.yaml<1.0.0,>=0.15.35 in /anaconda/envs/azureml_py36/lib/python3.6/site-packages (from azureml-core~=1.28.0->azureml-sdk[automl,contrib,notebooks]) (0.17.4)\n",
      "Requirement already satisfied, skipping upgrade: cryptography!=1.9,!=2.0.*,!=2.1.*,!=2.2.*,<4.0.0 in /anaconda/envs/azureml_py36/lib/python3.6/site-packages (from azureml-core~=1.28.0->azureml-sdk[automl,contrib,notebooks]) (3.4.7)\n",
      "Requirement already satisfied, skipping upgrade: adal>=1.2.0 in /anaconda/envs/azureml_py36/lib/python3.6/site-packages (from azureml-core~=1.28.0->azureml-sdk[automl,contrib,notebooks]) (1.2.7)\n",
      "Requirement already satisfied, skipping upgrade: azure-mgmt-resource<15.0.0,>=1.2.1 in /anaconda/envs/azureml_py36/lib/python3.6/site-packages (from azureml-core~=1.28.0->azureml-sdk[automl,contrib,notebooks]) (12.1.0)\n",
      "Requirement already satisfied, skipping upgrade: azure-mgmt-storage<16.0.0,>=1.5.0 in /anaconda/envs/azureml_py36/lib/python3.6/site-packages (from azureml-core~=1.28.0->azureml-sdk[automl,contrib,notebooks]) (11.2.0)\n",
      "Requirement already satisfied, skipping upgrade: pathspec<1.0.0 in /anaconda/envs/azureml_py36/lib/python3.6/site-packages (from azureml-core~=1.28.0->azureml-sdk[automl,contrib,notebooks]) (0.8.1)\n",
      "Requirement already satisfied, skipping upgrade: docker<5.0.0 in /anaconda/envs/azureml_py36/lib/python3.6/site-packages (from azureml-core~=1.28.0->azureml-sdk[automl,contrib,notebooks]) (4.4.4)\n",
      "Requirement already satisfied, skipping upgrade: backports.tempfile in /anaconda/envs/azureml_py36/lib/python3.6/site-packages (from azureml-core~=1.28.0->azureml-sdk[automl,contrib,notebooks]) (1.0)\n",
      "Requirement already satisfied, skipping upgrade: jsonpickle<3.0.0 in /anaconda/envs/azureml_py36/lib/python3.6/site-packages (from azureml-core~=1.28.0->azureml-sdk[automl,contrib,notebooks]) (2.0.0)\n",
      "Requirement already satisfied, skipping upgrade: contextlib2<1.0.0 in /anaconda/envs/azureml_py36/lib/python3.6/site-packages (from azureml-core~=1.28.0->azureml-sdk[automl,contrib,notebooks]) (0.6.0.post1)\n",
      "Requirement already satisfied, skipping upgrade: azure-mgmt-keyvault<7.0.0,>=0.40.0 in /anaconda/envs/azureml_py36/lib/python3.6/site-packages (from azureml-core~=1.28.0->azureml-sdk[automl,contrib,notebooks]) (2.2.0)\n",
      "Requirement already satisfied, skipping upgrade: SecretStorage<4.0.0 in /anaconda/envs/azureml_py36/lib/python3.6/site-packages (from azureml-core~=1.28.0->azureml-sdk[automl,contrib,notebooks]) (3.3.1)\n",
      "Requirement already satisfied, skipping upgrade: ndg-httpsclient in /anaconda/envs/azureml_py36/lib/python3.6/site-packages (from azureml-core~=1.28.0->azureml-sdk[automl,contrib,notebooks]) (0.5.1)\n",
      "Requirement already satisfied, skipping upgrade: msrest<1.0.0,>=0.5.1 in /anaconda/envs/azureml_py36/lib/python3.6/site-packages (from azureml-core~=1.28.0->azureml-sdk[automl,contrib,notebooks]) (0.6.21)\n",
      "Requirement already satisfied, skipping upgrade: requests<3.0.0,>=2.19.1 in /anaconda/envs/azureml_py36/lib/python3.6/site-packages (from azureml-core~=1.28.0->azureml-sdk[automl,contrib,notebooks]) (2.25.1)\n",
      "Requirement already satisfied, skipping upgrade: pyopenssl<21.0.0 in /anaconda/envs/azureml_py36/lib/python3.6/site-packages (from azureml-core~=1.28.0->azureml-sdk[automl,contrib,notebooks]) (20.0.1)\n",
      "Requirement already satisfied, skipping upgrade: urllib3>=1.23 in /anaconda/envs/azureml_py36/lib/python3.6/site-packages (from azureml-core~=1.28.0->azureml-sdk[automl,contrib,notebooks]) (1.25.11)\n",
      "Requirement already satisfied, skipping upgrade: azure-common<2.0.0,>=1.1.12 in /anaconda/envs/azureml_py36/lib/python3.6/site-packages (from azureml-core~=1.28.0->azureml-sdk[automl,contrib,notebooks]) (1.1.27)\n",
      "Requirement already satisfied, skipping upgrade: msrestazure>=0.4.33 in /anaconda/envs/azureml_py36/lib/python3.6/site-packages (from azureml-core~=1.28.0->azureml-sdk[automl,contrib,notebooks]) (0.6.4)\n",
      "Requirement already satisfied, skipping upgrade: PyJWT<3.0.0 in /anaconda/envs/azureml_py36/lib/python3.6/site-packages (from azureml-core~=1.28.0->azureml-sdk[automl,contrib,notebooks]) (2.0.1)\n",
      "Requirement already satisfied, skipping upgrade: pytz in /anaconda/envs/azureml_py36/lib/python3.6/site-packages (from azureml-core~=1.28.0->azureml-sdk[automl,contrib,notebooks]) (2021.1)\n",
      "Requirement already satisfied, skipping upgrade: azure-mgmt-containerregistry>=2.0.0 in /anaconda/envs/azureml_py36/lib/python3.6/site-packages (from azureml-core~=1.28.0->azureml-sdk[automl,contrib,notebooks]) (2.8.0)\n",
      "Requirement already satisfied, skipping upgrade: azure-graphrbac<1.0.0,>=0.40.0 in /anaconda/envs/azureml_py36/lib/python3.6/site-packages (from azureml-core~=1.28.0->azureml-sdk[automl,contrib,notebooks]) (0.61.1)\n",
      "Requirement already satisfied, skipping upgrade: python-dateutil<3.0.0,>=2.7.3 in /anaconda/envs/azureml_py36/lib/python3.6/site-packages (from azureml-core~=1.28.0->azureml-sdk[automl,contrib,notebooks]) (2.8.1)\n",
      "Requirement already satisfied, skipping upgrade: numpy!=1.19.3; sys_platform == \"linux\" in /anaconda/envs/azureml_py36/lib/python3.6/site-packages (from azureml-dataset-runtime[fuse]~=1.28.0->azureml-sdk[automl,contrib,notebooks]) (1.18.5)\n"
     ]
    },
    {
     "name": "stdout",
     "output_type": "stream",
     "text": [
      "Collecting azureml-dataprep<2.16.0a,>=2.15.0a\n",
      "  Downloading azureml_dataprep-2.15.0-py3-none-any.whl (39.4 MB)\n",
      "\u001b[K     |████████████████████████████████| 39.4 MB 192 kB/s  eta 0:00:01\n",
      "\u001b[?25hRequirement already satisfied, skipping upgrade: pyarrow<4.0.0,>=0.17.0 in /anaconda/envs/azureml_py36/lib/python3.6/site-packages (from azureml-dataset-runtime[fuse]~=1.28.0->azureml-sdk[automl,contrib,notebooks]) (1.0.1)\n",
      "Requirement already satisfied, skipping upgrade: fusepy<4.0.0,>=3.0.1; extra == \"fuse\" in /anaconda/envs/azureml_py36/lib/python3.6/site-packages (from azureml-dataset-runtime[fuse]~=1.28.0->azureml-sdk[automl,contrib,notebooks]) (3.0.1)\n",
      "Collecting azureml-automl-runtime~=1.28.0\n",
      "  Downloading azureml_automl_runtime-1.28.0.post1-py3-none-any.whl (2.0 MB)\n",
      "\u001b[K     |████████████████████████████████| 2.0 MB 47.4 MB/s eta 0:00:01\n",
      "\u001b[?25hCollecting azureml-train-automl-runtime~=1.28.0\n",
      "  Downloading azureml_train_automl_runtime-1.28.0-py3-none-any.whl (158 kB)\n",
      "\u001b[K     |████████████████████████████████| 158 kB 15.3 MB/s eta 0:00:01\n",
      "\u001b[?25hRequirement already satisfied, skipping upgrade: ipykernel in /anaconda/envs/azureml_py36/lib/python3.6/site-packages (from azureml-contrib-notebook~=1.28.0; extra == \"contrib\"->azureml-sdk[automl,contrib,notebooks]) (5.5.3)\n",
      "Requirement already satisfied, skipping upgrade: papermill<2 in /anaconda/envs/azureml_py36/lib/python3.6/site-packages (from azureml-contrib-notebook~=1.28.0; extra == \"contrib\"->azureml-sdk[automl,contrib,notebooks]) (1.2.1)\n",
      "Requirement already satisfied, skipping upgrade: nbconvert<6 in /anaconda/envs/azureml_py36/lib/python3.6/site-packages (from azureml-contrib-notebook~=1.28.0; extra == \"contrib\"->azureml-sdk[automl,contrib,notebooks]) (5.6.1)\n",
      "Requirement already satisfied, skipping upgrade: ipython in /anaconda/envs/azureml_py36/lib/python3.6/site-packages (from azureml-contrib-notebook~=1.28.0; extra == \"contrib\"->azureml-sdk[automl,contrib,notebooks]) (7.16.1)\n",
      "Requirement already satisfied, skipping upgrade: Flask<2.0,>=1.0 in /anaconda/envs/azureml_py36/lib/python3.6/site-packages (from azureml-contrib-services~=1.28.0; extra == \"contrib\"->azureml-sdk[automl,contrib,notebooks]) (1.0.3)\n",
      "Requirement already satisfied, skipping upgrade: applicationinsights in /anaconda/envs/azureml_py36/lib/python3.6/site-packages (from azureml-telemetry~=1.28.0->azureml-widgets) (0.11.9)\n",
      "Requirement already satisfied, skipping upgrade: widgetsnbextension~=3.5.0 in /anaconda/envs/azureml_py36/lib/python3.6/site-packages (from ipywidgets>=7.0.0->azureml-widgets) (3.5.1)\n",
      "Requirement already satisfied, skipping upgrade: traitlets>=4.3.1 in /anaconda/envs/azureml_py36/lib/python3.6/site-packages (from ipywidgets>=7.0.0->azureml-widgets) (4.3.3)\n",
      "Requirement already satisfied, skipping upgrade: nbformat>=4.2.0 in /anaconda/envs/azureml_py36/lib/python3.6/site-packages (from ipywidgets>=7.0.0->azureml-widgets) (5.1.3)\n",
      "Requirement already satisfied, skipping upgrade: jupyterlab-widgets>=1.0.0; python_version >= \"3.6\" in /anaconda/envs/azureml_py36/lib/python3.6/site-packages (from ipywidgets>=7.0.0->azureml-widgets) (1.0.0)\n",
      "Requirement already satisfied, skipping upgrade: azure-core<2.0.0,>=1.10.0 in /anaconda/envs/azureml_py36/lib/python3.6/site-packages (from azure-storage-blob>=12.6.0->azureml-widgets) (1.13.0)\n",
      "Collecting azureml-train-restclients-hyperdrive~=1.28.0\n",
      "  Downloading azureml_train_restclients_hyperdrive-1.28.0-py3-none-any.whl (19 kB)\n",
      "Requirement already satisfied, skipping upgrade: ruamel.yaml.clib>=0.1.2; platform_python_implementation == \"CPython\" and python_version < \"3.10\" in /anaconda/envs/azureml_py36/lib/python3.6/site-packages (from ruamel.yaml<1.0.0,>=0.15.35->azureml-core~=1.28.0->azureml-sdk[automl,contrib,notebooks]) (0.2.2)\n",
      "Requirement already satisfied, skipping upgrade: cffi>=1.12 in /anaconda/envs/azureml_py36/lib/python3.6/site-packages (from cryptography!=1.9,!=2.0.*,!=2.1.*,!=2.2.*,<4.0.0->azureml-core~=1.28.0->azureml-sdk[automl,contrib,notebooks]) (1.14.5)\n",
      "Requirement already satisfied, skipping upgrade: six>=1.4.0 in /anaconda/envs/azureml_py36/lib/python3.6/site-packages (from docker<5.0.0->azureml-core~=1.28.0->azureml-sdk[automl,contrib,notebooks]) (1.15.0)\n",
      "Requirement already satisfied, skipping upgrade: websocket-client>=0.32.0 in /anaconda/envs/azureml_py36/lib/python3.6/site-packages (from docker<5.0.0->azureml-core~=1.28.0->azureml-sdk[automl,contrib,notebooks]) (0.58.0)\n",
      "Requirement already satisfied, skipping upgrade: backports.weakref in /anaconda/envs/azureml_py36/lib/python3.6/site-packages (from backports.tempfile->azureml-core~=1.28.0->azureml-sdk[automl,contrib,notebooks]) (1.0.post1)\n",
      "Requirement already satisfied, skipping upgrade: importlib-metadata; python_version < \"3.8\" in /anaconda/envs/azureml_py36/lib/python3.6/site-packages (from jsonpickle<3.0.0->azureml-core~=1.28.0->azureml-sdk[automl,contrib,notebooks]) (3.10.1)\n",
      "Requirement already satisfied, skipping upgrade: jeepney>=0.6 in /anaconda/envs/azureml_py36/lib/python3.6/site-packages (from SecretStorage<4.0.0->azureml-core~=1.28.0->azureml-sdk[automl,contrib,notebooks]) (0.6.0)\n",
      "Requirement already satisfied, skipping upgrade: pyasn1>=0.1.1 in /anaconda/envs/azureml_py36/lib/python3.6/site-packages (from ndg-httpsclient->azureml-core~=1.28.0->azureml-sdk[automl,contrib,notebooks]) (0.4.8)\n",
      "Requirement already satisfied, skipping upgrade: certifi>=2017.4.17 in /anaconda/envs/azureml_py36/lib/python3.6/site-packages (from msrest<1.0.0,>=0.5.1->azureml-core~=1.28.0->azureml-sdk[automl,contrib,notebooks]) (2020.12.5)\n",
      "Requirement already satisfied, skipping upgrade: isodate>=0.6.0 in /anaconda/envs/azureml_py36/lib/python3.6/site-packages (from msrest<1.0.0,>=0.5.1->azureml-core~=1.28.0->azureml-sdk[automl,contrib,notebooks]) (0.6.0)\n",
      "Requirement already satisfied, skipping upgrade: requests-oauthlib>=0.5.0 in /anaconda/envs/azureml_py36/lib/python3.6/site-packages (from msrest<1.0.0,>=0.5.1->azureml-core~=1.28.0->azureml-sdk[automl,contrib,notebooks]) (1.3.0)\n",
      "Requirement already satisfied, skipping upgrade: chardet<5,>=3.0.2 in /anaconda/envs/azureml_py36/lib/python3.6/site-packages (from requests<3.0.0,>=2.19.1->azureml-core~=1.28.0->azureml-sdk[automl,contrib,notebooks]) (4.0.0)\n",
      "Requirement already satisfied, skipping upgrade: idna<3,>=2.5 in /anaconda/envs/azureml_py36/lib/python3.6/site-packages (from requests<3.0.0,>=2.19.1->azureml-core~=1.28.0->azureml-sdk[automl,contrib,notebooks]) (2.10)\n",
      "Collecting azureml-dataprep-rslex<1.14.0a,>=1.13.0dev0\n",
      "  Downloading azureml_dataprep_rslex-1.13.0-cp36-cp36m-manylinux1_x86_64.whl (9.8 MB)\n",
      "\u001b[K     |████████████████████████████████| 9.8 MB 59.7 MB/s eta 0:00:01\n",
      "\u001b[?25hRequirement already satisfied, skipping upgrade: azure-identity<1.5.0,>=1.2.0 in /anaconda/envs/azureml_py36/lib/python3.6/site-packages (from azureml-dataprep<2.16.0a,>=2.15.0a->azureml-dataset-runtime[fuse]~=1.28.0->azureml-sdk[automl,contrib,notebooks]) (1.4.1)\n",
      "Requirement already satisfied, skipping upgrade: cloudpickle<2.0.0,>=1.1.0 in /anaconda/envs/azureml_py36/lib/python3.6/site-packages (from azureml-dataprep<2.16.0a,>=2.15.0a->azureml-dataset-runtime[fuse]~=1.28.0->azureml-sdk[automl,contrib,notebooks]) (1.6.0)\n",
      "Requirement already satisfied, skipping upgrade: dotnetcore2<3.0.0,>=2.1.14 in /anaconda/envs/azureml_py36/lib/python3.6/site-packages (from azureml-dataprep<2.16.0a,>=2.15.0a->azureml-dataset-runtime[fuse]~=1.28.0->azureml-sdk[automl,contrib,notebooks]) (2.1.20)\n",
      "Requirement already satisfied, skipping upgrade: azureml-dataprep-native<34.0.0,>=33.0.0 in /anaconda/envs/azureml_py36/lib/python3.6/site-packages (from azureml-dataprep<2.16.0a,>=2.15.0a->azureml-dataset-runtime[fuse]~=1.28.0->azureml-sdk[automl,contrib,notebooks]) (33.0.0)\n",
      "Requirement already satisfied, skipping upgrade: scipy<=1.5.2,>=1.0.0 in /anaconda/envs/azureml_py36/lib/python3.6/site-packages (from azureml-automl-runtime~=1.28.0->azureml-train-automl~=1.28.0; extra == \"automl\"->azureml-sdk[automl,contrib,notebooks]) (1.5.2)\n",
      "Requirement already satisfied, skipping upgrade: lightgbm<=2.3.0,>=2.0.11 in /anaconda/envs/azureml_py36/lib/python3.6/site-packages (from azureml-automl-runtime~=1.28.0->azureml-train-automl~=1.28.0; extra == \"automl\"->azureml-sdk[automl,contrib,notebooks]) (2.3.0)\n",
      "Requirement already satisfied, skipping upgrade: sklearn-pandas<=1.7.0,>=1.4.0 in /anaconda/envs/azureml_py36/lib/python3.6/site-packages (from azureml-automl-runtime~=1.28.0->azureml-train-automl~=1.28.0; extra == \"automl\"->azureml-sdk[automl,contrib,notebooks]) (1.7.0)\n",
      "Requirement already satisfied, skipping upgrade: botocore<=1.18.18 in /anaconda/envs/azureml_py36/lib/python3.6/site-packages (from azureml-automl-runtime~=1.28.0->azureml-train-automl~=1.28.0; extra == \"automl\"->azureml-sdk[automl,contrib,notebooks]) (1.18.18)\n",
      "Requirement already satisfied, skipping upgrade: skl2onnx==1.4.9 in /anaconda/envs/azureml_py36/lib/python3.6/site-packages (from azureml-automl-runtime~=1.28.0->azureml-train-automl~=1.28.0; extra == \"automl\"->azureml-sdk[automl,contrib,notebooks]) (1.4.9)\n",
      "Requirement already satisfied, skipping upgrade: py-cpuinfo==5.0.0 in /anaconda/envs/azureml_py36/lib/python3.6/site-packages (from azureml-automl-runtime~=1.28.0->azureml-train-automl~=1.28.0; extra == \"automl\"->azureml-sdk[automl,contrib,notebooks]) (5.0.0)\n"
     ]
    },
    {
     "name": "stdout",
     "output_type": "stream",
     "text": [
      "Requirement already satisfied, skipping upgrade: boto3<=1.15.18 in /anaconda/envs/azureml_py36/lib/python3.6/site-packages (from azureml-automl-runtime~=1.28.0->azureml-train-automl~=1.28.0; extra == \"automl\"->azureml-sdk[automl,contrib,notebooks]) (1.15.18)\n",
      "Requirement already satisfied, skipping upgrade: gensim<3.9.0 in /anaconda/envs/azureml_py36/lib/python3.6/site-packages (from azureml-automl-runtime~=1.28.0->azureml-train-automl~=1.28.0; extra == \"automl\"->azureml-sdk[automl,contrib,notebooks]) (3.8.3)\n",
      "Requirement already satisfied, skipping upgrade: joblib==0.14.1 in /anaconda/envs/azureml_py36/lib/python3.6/site-packages (from azureml-automl-runtime~=1.28.0->azureml-train-automl~=1.28.0; extra == \"automl\"->azureml-sdk[automl,contrib,notebooks]) (0.14.1)\n",
      "Requirement already satisfied, skipping upgrade: keras2onnx<=1.6.0,>=1.4.0 in /anaconda/envs/azureml_py36/lib/python3.6/site-packages (from azureml-automl-runtime~=1.28.0->azureml-train-automl~=1.28.0; extra == \"automl\"->azureml-sdk[automl,contrib,notebooks]) (1.6.0)\n",
      "Requirement already satisfied, skipping upgrade: onnxconverter-common<=1.6.0,>=1.4.2 in /anaconda/envs/azureml_py36/lib/python3.6/site-packages (from azureml-automl-runtime~=1.28.0->azureml-train-automl~=1.28.0; extra == \"automl\"->azureml-sdk[automl,contrib,notebooks]) (1.6.0)\n",
      "Requirement already satisfied, skipping upgrade: smart-open<=1.9.0 in /anaconda/envs/azureml_py36/lib/python3.6/site-packages (from azureml-automl-runtime~=1.28.0->azureml-train-automl~=1.28.0; extra == \"automl\"->azureml-sdk[automl,contrib,notebooks]) (1.9.0)\n",
      "Requirement already satisfied, skipping upgrade: pandas<1.0.0,>=0.21.0 in /anaconda/envs/azureml_py36/lib/python3.6/site-packages (from azureml-automl-runtime~=1.28.0->azureml-train-automl~=1.28.0; extra == \"automl\"->azureml-sdk[automl,contrib,notebooks]) (0.25.3)\n",
      "Collecting scikit-learn<0.23.0,>=0.19.0\n",
      "  Downloading scikit_learn-0.22.2.post1-cp36-cp36m-manylinux1_x86_64.whl (7.1 MB)\n",
      "\u001b[K     |████████████████████████████████| 7.1 MB 1.2 MB/s eta 0:00:01\n",
      "\u001b[?25hRequirement already satisfied, skipping upgrade: nimbusml<=1.8.0,>=1.7.1 in /anaconda/envs/azureml_py36/lib/python3.6/site-packages (from azureml-automl-runtime~=1.28.0->azureml-train-automl~=1.28.0; extra == \"automl\"->azureml-sdk[automl,contrib,notebooks]) (1.8.0)\n",
      "Requirement already satisfied, skipping upgrade: dill<0.4.0,>=0.2.8 in /anaconda/envs/azureml_py36/lib/python3.6/site-packages (from azureml-automl-runtime~=1.28.0->azureml-train-automl~=1.28.0; extra == \"automl\"->azureml-sdk[automl,contrib,notebooks]) (0.3.3)\n",
      "Requirement already satisfied, skipping upgrade: psutil<6.0.0,>=5.2.2 in /anaconda/envs/azureml_py36/lib/python3.6/site-packages (from azureml-automl-runtime~=1.28.0->azureml-train-automl~=1.28.0; extra == \"automl\"->azureml-sdk[automl,contrib,notebooks]) (5.8.0)\n",
      "Requirement already satisfied, skipping upgrade: onnxmltools==1.4.1 in /anaconda/envs/azureml_py36/lib/python3.6/site-packages (from azureml-automl-runtime~=1.28.0->azureml-train-automl~=1.28.0; extra == \"automl\"->azureml-sdk[automl,contrib,notebooks]) (1.4.1)\n",
      "Requirement already satisfied, skipping upgrade: onnx<=1.7.0,>=1.5.0 in /anaconda/envs/azureml_py36/lib/python3.6/site-packages (from azureml-automl-runtime~=1.28.0->azureml-train-automl~=1.28.0; extra == \"automl\"->azureml-sdk[automl,contrib,notebooks]) (1.7.0)\n",
      "Requirement already satisfied, skipping upgrade: onnxruntime<=1.6.0,>=1.3.0 in /anaconda/envs/azureml_py36/lib/python3.6/site-packages (from azureml-automl-runtime~=1.28.0->azureml-train-automl~=1.28.0; extra == \"automl\"->azureml-sdk[automl,contrib,notebooks]) (1.6.0)\n",
      "Requirement already satisfied, skipping upgrade: pmdarima==1.1.1 in /anaconda/envs/azureml_py36/lib/python3.6/site-packages (from azureml-automl-runtime~=1.28.0->azureml-train-automl~=1.28.0; extra == \"automl\"->azureml-sdk[automl,contrib,notebooks]) (1.1.1)\n",
      "Requirement already satisfied, skipping upgrade: statsmodels<=0.10.2,>=0.9.0 in /anaconda/envs/azureml_py36/lib/python3.6/site-packages (from azureml-automl-runtime~=1.28.0->azureml-train-automl~=1.28.0; extra == \"automl\"->azureml-sdk[automl,contrib,notebooks]) (0.10.2)\n",
      "Collecting azureml-defaults~=1.28.0\n",
      "  Downloading azureml_defaults-1.28.0-py3-none-any.whl (3.1 kB)\n",
      "Collecting azureml-interpret~=1.28.0\n",
      "  Downloading azureml_interpret-1.28.0-py3-none-any.whl (52 kB)\n",
      "\u001b[K     |████████████████████████████████| 52 kB 843 kB/s  eta 0:00:01\n",
      "\u001b[?25hRequirement already satisfied, skipping upgrade: jinja2<=2.11.2 in /anaconda/envs/azureml_py36/lib/python3.6/site-packages (from azureml-train-automl-runtime~=1.28.0->azureml-train-automl~=1.28.0; extra == \"automl\"->azureml-sdk[automl,contrib,notebooks]) (2.11.1)\n",
      "Requirement already satisfied, skipping upgrade: azure-storage-queue~=12.1 in /anaconda/envs/azureml_py36/lib/python3.6/site-packages (from azureml-train-automl-runtime~=1.28.0->azureml-train-automl~=1.28.0; extra == \"automl\"->azureml-sdk[automl,contrib,notebooks]) (12.1.5)\n",
      "Requirement already satisfied, skipping upgrade: tornado>=4.2 in /anaconda/envs/azureml_py36/lib/python3.6/site-packages (from ipykernel->azureml-contrib-notebook~=1.28.0; extra == \"contrib\"->azureml-sdk[automl,contrib,notebooks]) (6.1)\n",
      "Requirement already satisfied, skipping upgrade: jupyter-client in /anaconda/envs/azureml_py36/lib/python3.6/site-packages (from ipykernel->azureml-contrib-notebook~=1.28.0; extra == \"contrib\"->azureml-sdk[automl,contrib,notebooks]) (6.1.12)\n",
      "Requirement already satisfied, skipping upgrade: tqdm>=4.32.2 in /anaconda/envs/azureml_py36/lib/python3.6/site-packages (from papermill<2->azureml-contrib-notebook~=1.28.0; extra == \"contrib\"->azureml-sdk[automl,contrib,notebooks]) (4.60.0)\n",
      "Requirement already satisfied, skipping upgrade: entrypoints in /anaconda/envs/azureml_py36/lib/python3.6/site-packages (from papermill<2->azureml-contrib-notebook~=1.28.0; extra == \"contrib\"->azureml-sdk[automl,contrib,notebooks]) (0.3)\n",
      "Requirement already satisfied, skipping upgrade: tenacity in /anaconda/envs/azureml_py36/lib/python3.6/site-packages (from papermill<2->azureml-contrib-notebook~=1.28.0; extra == \"contrib\"->azureml-sdk[automl,contrib,notebooks]) (7.0.0)\n",
      "Requirement already satisfied, skipping upgrade: future in /anaconda/envs/azureml_py36/lib/python3.6/site-packages (from papermill<2->azureml-contrib-notebook~=1.28.0; extra == \"contrib\"->azureml-sdk[automl,contrib,notebooks]) (0.18.2)\n",
      "Requirement already satisfied, skipping upgrade: pyyaml in /anaconda/envs/azureml_py36/lib/python3.6/site-packages (from papermill<2->azureml-contrib-notebook~=1.28.0; extra == \"contrib\"->azureml-sdk[automl,contrib,notebooks]) (5.4.1)\n",
      "Requirement already satisfied, skipping upgrade: click in /anaconda/envs/azureml_py36/lib/python3.6/site-packages (from papermill<2->azureml-contrib-notebook~=1.28.0; extra == \"contrib\"->azureml-sdk[automl,contrib,notebooks]) (7.1.2)\n",
      "Requirement already satisfied, skipping upgrade: ansiwrap in /anaconda/envs/azureml_py36/lib/python3.6/site-packages (from papermill<2->azureml-contrib-notebook~=1.28.0; extra == \"contrib\"->azureml-sdk[automl,contrib,notebooks]) (0.8.4)\n",
      "Requirement already satisfied, skipping upgrade: pygments in /anaconda/envs/azureml_py36/lib/python3.6/site-packages (from nbconvert<6->azureml-contrib-notebook~=1.28.0; extra == \"contrib\"->azureml-sdk[automl,contrib,notebooks]) (2.8.1)\n",
      "Requirement already satisfied, skipping upgrade: jupyter-core in /anaconda/envs/azureml_py36/lib/python3.6/site-packages (from nbconvert<6->azureml-contrib-notebook~=1.28.0; extra == \"contrib\"->azureml-sdk[automl,contrib,notebooks]) (4.7.1)\n",
      "Requirement already satisfied, skipping upgrade: pandocfilters>=1.4.1 in /anaconda/envs/azureml_py36/lib/python3.6/site-packages (from nbconvert<6->azureml-contrib-notebook~=1.28.0; extra == \"contrib\"->azureml-sdk[automl,contrib,notebooks]) (1.4.3)\n",
      "Requirement already satisfied, skipping upgrade: mistune<2,>=0.8.1 in /anaconda/envs/azureml_py36/lib/python3.6/site-packages (from nbconvert<6->azureml-contrib-notebook~=1.28.0; extra == \"contrib\"->azureml-sdk[automl,contrib,notebooks]) (0.8.4)\n",
      "Requirement already satisfied, skipping upgrade: bleach in /anaconda/envs/azureml_py36/lib/python3.6/site-packages (from nbconvert<6->azureml-contrib-notebook~=1.28.0; extra == \"contrib\"->azureml-sdk[automl,contrib,notebooks]) (3.3.0)\n",
      "Requirement already satisfied, skipping upgrade: defusedxml in /anaconda/envs/azureml_py36/lib/python3.6/site-packages (from nbconvert<6->azureml-contrib-notebook~=1.28.0; extra == \"contrib\"->azureml-sdk[automl,contrib,notebooks]) (0.7.1)\n",
      "Requirement already satisfied, skipping upgrade: testpath in /anaconda/envs/azureml_py36/lib/python3.6/site-packages (from nbconvert<6->azureml-contrib-notebook~=1.28.0; extra == \"contrib\"->azureml-sdk[automl,contrib,notebooks]) (0.4.4)\n",
      "Requirement already satisfied, skipping upgrade: prompt-toolkit!=3.0.0,!=3.0.1,<3.1.0,>=2.0.0 in /anaconda/envs/azureml_py36/lib/python3.6/site-packages (from ipython->azureml-contrib-notebook~=1.28.0; extra == \"contrib\"->azureml-sdk[automl,contrib,notebooks]) (3.0.18)\n",
      "Requirement already satisfied, skipping upgrade: pickleshare in /anaconda/envs/azureml_py36/lib/python3.6/site-packages (from ipython->azureml-contrib-notebook~=1.28.0; extra == \"contrib\"->azureml-sdk[automl,contrib,notebooks]) (0.7.5)\n",
      "Requirement already satisfied, skipping upgrade: pexpect; sys_platform != \"win32\" in /anaconda/envs/azureml_py36/lib/python3.6/site-packages (from ipython->azureml-contrib-notebook~=1.28.0; extra == \"contrib\"->azureml-sdk[automl,contrib,notebooks]) (4.8.0)\n",
      "Requirement already satisfied, skipping upgrade: backcall in /anaconda/envs/azureml_py36/lib/python3.6/site-packages (from ipython->azureml-contrib-notebook~=1.28.0; extra == \"contrib\"->azureml-sdk[automl,contrib,notebooks]) (0.2.0)\n",
      "Requirement already satisfied, skipping upgrade: decorator in /anaconda/envs/azureml_py36/lib/python3.6/site-packages (from ipython->azureml-contrib-notebook~=1.28.0; extra == \"contrib\"->azureml-sdk[automl,contrib,notebooks]) (5.0.7)\n",
      "Requirement already satisfied, skipping upgrade: jedi>=0.10 in /anaconda/envs/azureml_py36/lib/python3.6/site-packages (from ipython->azureml-contrib-notebook~=1.28.0; extra == \"contrib\"->azureml-sdk[automl,contrib,notebooks]) (0.17.2)\n",
      "Requirement already satisfied, skipping upgrade: setuptools>=18.5 in /anaconda/envs/azureml_py36/lib/python3.6/site-packages (from ipython->azureml-contrib-notebook~=1.28.0; extra == \"contrib\"->azureml-sdk[automl,contrib,notebooks]) (50.3.0)\n"
     ]
    },
    {
     "name": "stdout",
     "output_type": "stream",
     "text": [
      "Requirement already satisfied, skipping upgrade: Werkzeug>=0.14 in /anaconda/envs/azureml_py36/lib/python3.6/site-packages (from Flask<2.0,>=1.0->azureml-contrib-services~=1.28.0; extra == \"contrib\"->azureml-sdk[automl,contrib,notebooks]) (1.0.1)\n",
      "Requirement already satisfied, skipping upgrade: itsdangerous>=0.24 in /anaconda/envs/azureml_py36/lib/python3.6/site-packages (from Flask<2.0,>=1.0->azureml-contrib-services~=1.28.0; extra == \"contrib\"->azureml-sdk[automl,contrib,notebooks]) (1.1.0)\n",
      "Requirement already satisfied, skipping upgrade: notebook>=4.4.1 in /anaconda/envs/azureml_py36/lib/python3.6/site-packages (from widgetsnbextension~=3.5.0->ipywidgets>=7.0.0->azureml-widgets) (6.3.0)\n",
      "Requirement already satisfied, skipping upgrade: ipython-genutils in /anaconda/envs/azureml_py36/lib/python3.6/site-packages (from traitlets>=4.3.1->ipywidgets>=7.0.0->azureml-widgets) (0.2.0)\n",
      "Requirement already satisfied, skipping upgrade: jsonschema!=2.5.0,>=2.4 in /anaconda/envs/azureml_py36/lib/python3.6/site-packages (from nbformat>=4.2.0->ipywidgets>=7.0.0->azureml-widgets) (3.2.0)\n",
      "Requirement already satisfied, skipping upgrade: pycparser in /anaconda/envs/azureml_py36/lib/python3.6/site-packages (from cffi>=1.12->cryptography!=1.9,!=2.0.*,!=2.1.*,!=2.2.*,<4.0.0->azureml-core~=1.28.0->azureml-sdk[automl,contrib,notebooks]) (2.20)\n",
      "Requirement already satisfied, skipping upgrade: typing-extensions>=3.6.4; python_version < \"3.8\" in /anaconda/envs/azureml_py36/lib/python3.6/site-packages (from importlib-metadata; python_version < \"3.8\"->jsonpickle<3.0.0->azureml-core~=1.28.0->azureml-sdk[automl,contrib,notebooks]) (3.7.4.3)\n",
      "Requirement already satisfied, skipping upgrade: zipp>=0.5 in /anaconda/envs/azureml_py36/lib/python3.6/site-packages (from importlib-metadata; python_version < \"3.8\"->jsonpickle<3.0.0->azureml-core~=1.28.0->azureml-sdk[automl,contrib,notebooks]) (3.4.1)\n",
      "Requirement already satisfied, skipping upgrade: oauthlib>=3.0.0 in /anaconda/envs/azureml_py36/lib/python3.6/site-packages (from requests-oauthlib>=0.5.0->msrest<1.0.0,>=0.5.1->azureml-core~=1.28.0->azureml-sdk[automl,contrib,notebooks]) (3.1.0)\n",
      "Requirement already satisfied, skipping upgrade: msal<2.0.0,>=1.3.0 in /anaconda/envs/azureml_py36/lib/python3.6/site-packages (from azure-identity<1.5.0,>=1.2.0->azureml-dataprep<2.16.0a,>=2.15.0a->azureml-dataset-runtime[fuse]~=1.28.0->azureml-sdk[automl,contrib,notebooks]) (1.11.0)\n",
      "Requirement already satisfied, skipping upgrade: msal-extensions~=0.2.2 in /anaconda/envs/azureml_py36/lib/python3.6/site-packages (from azure-identity<1.5.0,>=1.2.0->azureml-dataprep<2.16.0a,>=2.15.0a->azureml-dataset-runtime[fuse]~=1.28.0->azureml-sdk[automl,contrib,notebooks]) (0.2.2)\n",
      "Requirement already satisfied, skipping upgrade: distro>=1.2.0 in /anaconda/envs/azureml_py36/lib/python3.6/site-packages (from dotnetcore2<3.0.0,>=2.1.14->azureml-dataprep<2.16.0a,>=2.15.0a->azureml-dataset-runtime[fuse]~=1.28.0->azureml-sdk[automl,contrib,notebooks]) (1.5.0)\n",
      "Requirement already satisfied, skipping upgrade: protobuf in /anaconda/envs/azureml_py36/lib/python3.6/site-packages (from skl2onnx==1.4.9->azureml-automl-runtime~=1.28.0->azureml-train-automl~=1.28.0; extra == \"automl\"->azureml-sdk[automl,contrib,notebooks]) (3.15.8)\n",
      "Requirement already satisfied, skipping upgrade: s3transfer<0.4.0,>=0.3.0 in /anaconda/envs/azureml_py36/lib/python3.6/site-packages (from boto3<=1.15.18->azureml-automl-runtime~=1.28.0->azureml-train-automl~=1.28.0; extra == \"automl\"->azureml-sdk[automl,contrib,notebooks]) (0.3.7)\n",
      "Requirement already satisfied, skipping upgrade: fire in /anaconda/envs/azureml_py36/lib/python3.6/site-packages (from keras2onnx<=1.6.0,>=1.4.0->azureml-automl-runtime~=1.28.0->azureml-train-automl~=1.28.0; extra == \"automl\"->azureml-sdk[automl,contrib,notebooks]) (0.4.0)\n",
      "Requirement already satisfied, skipping upgrade: boto>=2.32 in /anaconda/envs/azureml_py36/lib/python3.6/site-packages (from smart-open<=1.9.0->azureml-automl-runtime~=1.28.0->azureml-train-automl~=1.28.0; extra == \"automl\"->azureml-sdk[automl,contrib,notebooks]) (2.49.0)\n",
      "Requirement already satisfied, skipping upgrade: Cython>=0.29 in /anaconda/envs/azureml_py36/lib/python3.6/site-packages (from pmdarima==1.1.1->azureml-automl-runtime~=1.28.0->azureml-train-automl~=1.28.0; extra == \"automl\"->azureml-sdk[automl,contrib,notebooks]) (0.29.23)\n",
      "Requirement already satisfied, skipping upgrade: patsy>=0.4.0 in /anaconda/envs/azureml_py36/lib/python3.6/site-packages (from statsmodels<=0.10.2,>=0.9.0->azureml-automl-runtime~=1.28.0->azureml-train-automl~=1.28.0; extra == \"automl\"->azureml-sdk[automl,contrib,notebooks]) (0.5.1)\n",
      "Requirement already satisfied, skipping upgrade: azureml-model-management-sdk==1.0.1b6.post1 in /anaconda/envs/azureml_py36/lib/python3.6/site-packages (from azureml-defaults~=1.28.0->azureml-train-automl-runtime~=1.28.0->azureml-train-automl~=1.28.0; extra == \"automl\"->azureml-sdk[automl,contrib,notebooks]) (1.0.1b6.post1)\n",
      "Requirement already satisfied, skipping upgrade: configparser==3.7.4 in /anaconda/envs/azureml_py36/lib/python3.6/site-packages (from azureml-defaults~=1.28.0->azureml-train-automl-runtime~=1.28.0->azureml-train-automl~=1.28.0; extra == \"automl\"->azureml-sdk[automl,contrib,notebooks]) (3.7.4)\n",
      "Requirement already satisfied, skipping upgrade: json-logging-py==0.2 in /anaconda/envs/azureml_py36/lib/python3.6/site-packages (from azureml-defaults~=1.28.0->azureml-train-automl-runtime~=1.28.0->azureml-train-automl~=1.28.0; extra == \"automl\"->azureml-sdk[automl,contrib,notebooks]) (0.2)\n",
      "Collecting gunicorn==20.1.0\n",
      "  Downloading gunicorn-20.1.0-py3-none-any.whl (79 kB)\n",
      "\u001b[K     |████████████████████████████████| 79 kB 8.1 MB/s  eta 0:00:01\n",
      "\u001b[?25hRequirement already satisfied, skipping upgrade: interpret-community==0.17.* in /anaconda/envs/azureml_py36/lib/python3.6/site-packages (from azureml-interpret~=1.28.0->azureml-train-automl-runtime~=1.28.0->azureml-train-automl~=1.28.0; extra == \"automl\"->azureml-sdk[automl,contrib,notebooks]) (0.17.2)\n",
      "Requirement already satisfied, skipping upgrade: interpret-core[required]<=0.2.1,>=0.1.20 in /anaconda/envs/azureml_py36/lib/python3.6/site-packages (from azureml-interpret~=1.28.0->azureml-train-automl-runtime~=1.28.0->azureml-train-automl~=1.28.0; extra == \"automl\"->azureml-sdk[automl,contrib,notebooks]) (0.2.1)\n",
      "Requirement already satisfied, skipping upgrade: MarkupSafe>=0.23 in /anaconda/envs/azureml_py36/lib/python3.6/site-packages (from jinja2<=2.11.2->azureml-train-automl-runtime~=1.28.0->azureml-train-automl~=1.28.0; extra == \"automl\"->azureml-sdk[automl,contrib,notebooks]) (1.1.1)\n",
      "Requirement already satisfied, skipping upgrade: pyzmq>=13 in /anaconda/envs/azureml_py36/lib/python3.6/site-packages (from jupyter-client->ipykernel->azureml-contrib-notebook~=1.28.0; extra == \"contrib\"->azureml-sdk[automl,contrib,notebooks]) (22.0.3)\n",
      "Requirement already satisfied, skipping upgrade: textwrap3>=0.9.2 in /anaconda/envs/azureml_py36/lib/python3.6/site-packages (from ansiwrap->papermill<2->azureml-contrib-notebook~=1.28.0; extra == \"contrib\"->azureml-sdk[automl,contrib,notebooks]) (0.9.2)\n",
      "Requirement already satisfied, skipping upgrade: packaging in /anaconda/envs/azureml_py36/lib/python3.6/site-packages (from bleach->nbconvert<6->azureml-contrib-notebook~=1.28.0; extra == \"contrib\"->azureml-sdk[automl,contrib,notebooks]) (20.9)\n",
      "Requirement already satisfied, skipping upgrade: webencodings in /anaconda/envs/azureml_py36/lib/python3.6/site-packages (from bleach->nbconvert<6->azureml-contrib-notebook~=1.28.0; extra == \"contrib\"->azureml-sdk[automl,contrib,notebooks]) (0.5.1)\n",
      "Requirement already satisfied, skipping upgrade: wcwidth in /anaconda/envs/azureml_py36/lib/python3.6/site-packages (from prompt-toolkit!=3.0.0,!=3.0.1,<3.1.0,>=2.0.0->ipython->azureml-contrib-notebook~=1.28.0; extra == \"contrib\"->azureml-sdk[automl,contrib,notebooks]) (0.2.5)\n",
      "Requirement already satisfied, skipping upgrade: ptyprocess>=0.5 in /anaconda/envs/azureml_py36/lib/python3.6/site-packages (from pexpect; sys_platform != \"win32\"->ipython->azureml-contrib-notebook~=1.28.0; extra == \"contrib\"->azureml-sdk[automl,contrib,notebooks]) (0.7.0)\n",
      "Collecting parso<0.8.0,>=0.7.0\n",
      "  Downloading parso-0.7.1-py2.py3-none-any.whl (109 kB)\n",
      "\u001b[K     |████████████████████████████████| 109 kB 66.8 MB/s eta 0:00:01\n"
     ]
    },
    {
     "name": "stdout",
     "output_type": "stream",
     "text": [
      "\u001b[?25hRequirement already satisfied, skipping upgrade: Send2Trash>=1.5.0 in /anaconda/envs/azureml_py36/lib/python3.6/site-packages (from notebook>=4.4.1->widgetsnbextension~=3.5.0->ipywidgets>=7.0.0->azureml-widgets) (1.5.0)\n",
      "Requirement already satisfied, skipping upgrade: terminado>=0.8.3 in /anaconda/envs/azureml_py36/lib/python3.6/site-packages (from notebook>=4.4.1->widgetsnbextension~=3.5.0->ipywidgets>=7.0.0->azureml-widgets) (0.9.4)\n",
      "Requirement already satisfied, skipping upgrade: argon2-cffi in /anaconda/envs/azureml_py36/lib/python3.6/site-packages (from notebook>=4.4.1->widgetsnbextension~=3.5.0->ipywidgets>=7.0.0->azureml-widgets) (20.1.0)\n",
      "Requirement already satisfied, skipping upgrade: prometheus-client in /anaconda/envs/azureml_py36/lib/python3.6/site-packages (from notebook>=4.4.1->widgetsnbextension~=3.5.0->ipywidgets>=7.0.0->azureml-widgets) (0.10.1)\n",
      "Requirement already satisfied, skipping upgrade: attrs>=17.4.0 in /anaconda/envs/azureml_py36/lib/python3.6/site-packages (from jsonschema!=2.5.0,>=2.4->nbformat>=4.2.0->ipywidgets>=7.0.0->azureml-widgets) (20.3.0)\n",
      "Requirement already satisfied, skipping upgrade: pyrsistent>=0.14.0 in /anaconda/envs/azureml_py36/lib/python3.6/site-packages (from jsonschema!=2.5.0,>=2.4->nbformat>=4.2.0->ipywidgets>=7.0.0->azureml-widgets) (0.17.3)\n",
      "Requirement already satisfied, skipping upgrade: portalocker~=1.0; platform_system != \"Windows\" in /anaconda/envs/azureml_py36/lib/python3.6/site-packages (from msal-extensions~=0.2.2->azure-identity<1.5.0,>=1.2.0->azureml-dataprep<2.16.0a,>=2.15.0a->azureml-dataset-runtime[fuse]~=1.28.0->azureml-sdk[automl,contrib,notebooks]) (1.7.1)\n",
      "Requirement already satisfied, skipping upgrade: termcolor in /anaconda/envs/azureml_py36/lib/python3.6/site-packages (from fire->keras2onnx<=1.6.0,>=1.4.0->azureml-automl-runtime~=1.28.0->azureml-train-automl~=1.28.0; extra == \"automl\"->azureml-sdk[automl,contrib,notebooks]) (1.1.0)\n",
      "Requirement already satisfied, skipping upgrade: liac-arff>=2.1.1 in /anaconda/envs/azureml_py36/lib/python3.6/site-packages (from azureml-model-management-sdk==1.0.1b6.post1->azureml-defaults~=1.28.0->azureml-train-automl-runtime~=1.28.0->azureml-train-automl~=1.28.0; extra == \"automl\"->azureml-sdk[automl,contrib,notebooks]) (2.5.0)\n",
      "Requirement already satisfied, skipping upgrade: shap<=0.34.0,>=0.20.0 in /anaconda/envs/azureml_py36/lib/python3.6/site-packages (from interpret-community==0.17.*->azureml-interpret~=1.28.0->azureml-train-automl-runtime~=1.28.0->azureml-train-automl~=1.28.0; extra == \"automl\"->azureml-sdk[automl,contrib,notebooks]) (0.34.0)\n",
      "Requirement already satisfied, skipping upgrade: pyparsing>=2.0.2 in /anaconda/envs/azureml_py36/lib/python3.6/site-packages (from packaging->bleach->nbconvert<6->azureml-contrib-notebook~=1.28.0; extra == \"contrib\"->azureml-sdk[automl,contrib,notebooks]) (2.4.7)\n",
      "\u001b[31mERROR: raiwidgets 0.2.2 has requirement lightgbm>=3.1.1, but you'll have lightgbm 2.3.0 which is incompatible.\u001b[0m\n",
      "\u001b[31mERROR: imbalanced-learn 0.8.0 has requirement scikit-learn>=0.24, but you'll have scikit-learn 0.22.2.post1 which is incompatible.\u001b[0m\n",
      "\u001b[31mERROR: azureml-tensorboard 1.27.0 has requirement azureml-core~=1.27.0, but you'll have azureml-core 1.28.0 which is incompatible.\u001b[0m\n",
      "\u001b[31mERROR: azureml-opendatasets 1.27.0 has requirement azureml-core~=1.27.0, but you'll have azureml-core 1.28.0 which is incompatible.\u001b[0m\n",
      "\u001b[31mERROR: azureml-opendatasets 1.27.0 has requirement azureml-dataset-runtime[fuse,pandas]~=1.27.0, but you'll have azureml-dataset-runtime 1.28.0 which is incompatible.\u001b[0m\n",
      "\u001b[31mERROR: azureml-opendatasets 1.27.0 has requirement azureml-telemetry~=1.27.0, but you'll have azureml-telemetry 1.28.0 which is incompatible.\u001b[0m\n",
      "\u001b[31mERROR: azureml-opendatasets 1.27.0 has requirement scipy<=1.4.1,>=1.0.0, but you'll have scipy 1.5.2 which is incompatible.\u001b[0m\n",
      "\u001b[31mERROR: azureml-mlflow 1.27.0 has requirement azureml-core~=1.27.0, but you'll have azureml-core 1.28.0 which is incompatible.\u001b[0m\n",
      "\u001b[31mERROR: azureml-explain-model 1.27.0 has requirement azureml-interpret~=1.27.0, but you'll have azureml-interpret 1.28.0 which is incompatible.\u001b[0m\n",
      "\u001b[31mERROR: azureml-datadrift 1.27.0 has requirement azureml-core~=1.27.0, but you'll have azureml-core 1.28.0 which is incompatible.\u001b[0m\n",
      "\u001b[31mERROR: azureml-datadrift 1.27.0 has requirement azureml-dataset-runtime[fuse,pandas]~=1.27.0, but you'll have azureml-dataset-runtime 1.28.0 which is incompatible.\u001b[0m\n",
      "\u001b[31mERROR: azureml-datadrift 1.27.0 has requirement azureml-pipeline-core~=1.27.0, but you'll have azureml-pipeline-core 1.28.0 which is incompatible.\u001b[0m\n",
      "\u001b[31mERROR: azureml-datadrift 1.27.0 has requirement azureml-telemetry~=1.27.0, but you'll have azureml-telemetry 1.28.0 which is incompatible.\u001b[0m\n",
      "\u001b[31mERROR: azureml-contrib-reinforcementlearning 1.27.0 has requirement azureml-core~=1.27.0, but you'll have azureml-core 1.28.0 which is incompatible.\u001b[0m\n",
      "\u001b[31mERROR: azureml-contrib-reinforcementlearning 1.27.0 has requirement azureml-train-core~=1.27.0, but you'll have azureml-train-core 1.28.0 which is incompatible.\u001b[0m\n",
      "\u001b[31mERROR: azureml-contrib-gbdt 1.27.0 has requirement azureml-core~=1.27.0, but you'll have azureml-core 1.28.0 which is incompatible.\u001b[0m\n",
      "\u001b[31mERROR: azureml-contrib-gbdt 1.27.0 has requirement azureml-train-core~=1.27.0, but you'll have azureml-train-core 1.28.0 which is incompatible.\u001b[0m\n",
      "\u001b[31mERROR: azureml-contrib-fairness 1.27.0 has requirement azureml-core~=1.27.0, but you'll have azureml-core 1.28.0 which is incompatible.\u001b[0m\n",
      "\u001b[31mERROR: azureml-contrib-dataset 1.27.0 has requirement azureml-core~=1.27.0, but you'll have azureml-core 1.28.0 which is incompatible.\u001b[0m\n",
      "\u001b[31mERROR: azureml-contrib-dataset 1.27.0 has requirement azureml-dataset-runtime[fuse,pandas]~=1.27.0, but you'll have azureml-dataset-runtime 1.28.0 which is incompatible.\u001b[0m\n",
      "\u001b[31mERROR: azureml-cli-common 1.27.0 has requirement azureml-core~=1.27.0, but you'll have azureml-core 1.28.0 which is incompatible.\u001b[0m\n",
      "\u001b[31mERROR: azureml-cli-common 1.27.0 has requirement azureml-pipeline-core~=1.27.0, but you'll have azureml-pipeline-core 1.28.0 which is incompatible.\u001b[0m\n",
      "\u001b[31mERROR: azureml-cli-common 1.27.0 has requirement azureml-train-core~=1.27.0; python_version >= \"3.5\", but you'll have azureml-train-core 1.28.0 which is incompatible.\u001b[0m\n",
      "\u001b[31mERROR: azureml-automl-dnn-nlp 1.27.0 has requirement azureml-automl-core~=1.27.0, but you'll have azureml-automl-core 1.28.0 which is incompatible.\u001b[0m\n",
      "\u001b[31mERROR: azureml-automl-dnn-nlp 1.27.0 has requirement azureml-automl-runtime~=1.27.0, but you'll have azureml-automl-runtime 1.28.0.post1 which is incompatible.\u001b[0m\n",
      "\u001b[31mERROR: azureml-automl-dnn-nlp 1.27.0 has requirement azureml-core~=1.27.0, but you'll have azureml-core 1.28.0 which is incompatible.\u001b[0m\n",
      "\u001b[31mERROR: azureml-automl-dnn-nlp 1.27.0 has requirement azureml-telemetry~=1.27.0, but you'll have azureml-telemetry 1.28.0 which is incompatible.\u001b[0m\n",
      "\u001b[31mERROR: azureml-automl-dnn-nlp 1.27.0 has requirement azureml-train-automl~=1.27.0, but you'll have azureml-train-automl 1.28.0 which is incompatible.\u001b[0m\n",
      "\u001b[31mERROR: azureml-accel-models 1.27.0 has requirement azureml-core~=1.27.0, but you'll have azureml-core 1.28.0 which is incompatible.\u001b[0m\n",
      "\u001b[31mERROR: autokeras 1.0.12 has requirement tensorflow>=2.3.0, but you'll have tensorflow 2.1.0 which is incompatible.\u001b[0m\n",
      "Installing collected packages: azureml-core, azureml-telemetry, azureml-train-restclients-hyperdrive, azureml-train-core, azureml-train, azureml-dataprep-rslex, azureml-dataprep, azureml-dataset-runtime, azureml-automl-core, azureml-train-automl-client, azureml-pipeline-core, azureml-pipeline-steps, azureml-pipeline, scikit-learn, azureml-automl-runtime, gunicorn, azureml-defaults, azureml-interpret, azureml-train-automl-runtime, azureml-train-automl, azureml-contrib-pipeline-steps, azureml-contrib-notebook, azureml-contrib-services, azureml-contrib-server, azureml-widgets, azureml-sdk, parso\n",
      "  Attempting uninstall: azureml-core\n",
      "    Found existing installation: azureml-core 1.27.0\n",
      "    Uninstalling azureml-core-1.27.0:\n",
      "      Successfully uninstalled azureml-core-1.27.0\n",
      "  Attempting uninstall: azureml-telemetry\n",
      "    Found existing installation: azureml-telemetry 1.27.0\n",
      "    Uninstalling azureml-telemetry-1.27.0:\n"
     ]
    },
    {
     "name": "stdout",
     "output_type": "stream",
     "text": [
      "      Successfully uninstalled azureml-telemetry-1.27.0\n",
      "  Attempting uninstall: azureml-train-restclients-hyperdrive\n",
      "    Found existing installation: azureml-train-restclients-hyperdrive 1.27.0\n",
      "    Uninstalling azureml-train-restclients-hyperdrive-1.27.0:\n",
      "      Successfully uninstalled azureml-train-restclients-hyperdrive-1.27.0\n",
      "  Attempting uninstall: azureml-train-core\n",
      "    Found existing installation: azureml-train-core 1.27.0\n",
      "    Uninstalling azureml-train-core-1.27.0:\n",
      "      Successfully uninstalled azureml-train-core-1.27.0\n",
      "  Attempting uninstall: azureml-train\n",
      "    Found existing installation: azureml-train 1.27.0\n",
      "    Uninstalling azureml-train-1.27.0:\n",
      "      Successfully uninstalled azureml-train-1.27.0\n",
      "  Attempting uninstall: azureml-dataprep-rslex\n",
      "    Found existing installation: azureml-dataprep-rslex 1.12.1\n",
      "    Uninstalling azureml-dataprep-rslex-1.12.1:\n",
      "      Successfully uninstalled azureml-dataprep-rslex-1.12.1\n",
      "  Attempting uninstall: azureml-dataprep\n",
      "    Found existing installation: azureml-dataprep 2.14.2\n",
      "    Uninstalling azureml-dataprep-2.14.2:\n",
      "      Successfully uninstalled azureml-dataprep-2.14.2\n",
      "  Attempting uninstall: azureml-dataset-runtime\n",
      "    Found existing installation: azureml-dataset-runtime 1.27.0\n",
      "    Uninstalling azureml-dataset-runtime-1.27.0:\n",
      "      Successfully uninstalled azureml-dataset-runtime-1.27.0\n",
      "  Attempting uninstall: azureml-automl-core\n",
      "    Found existing installation: azureml-automl-core 1.27.0\n",
      "    Uninstalling azureml-automl-core-1.27.0:\n",
      "      Successfully uninstalled azureml-automl-core-1.27.0\n",
      "  Attempting uninstall: azureml-train-automl-client\n",
      "    Found existing installation: azureml-train-automl-client 1.27.0\n",
      "    Uninstalling azureml-train-automl-client-1.27.0:\n",
      "      Successfully uninstalled azureml-train-automl-client-1.27.0\n",
      "  Attempting uninstall: azureml-pipeline-core\n",
      "    Found existing installation: azureml-pipeline-core 1.27.0\n",
      "    Uninstalling azureml-pipeline-core-1.27.0:\n",
      "      Successfully uninstalled azureml-pipeline-core-1.27.0\n",
      "  Attempting uninstall: azureml-pipeline-steps\n",
      "    Found existing installation: azureml-pipeline-steps 1.27.0\n",
      "    Uninstalling azureml-pipeline-steps-1.27.0:\n",
      "      Successfully uninstalled azureml-pipeline-steps-1.27.0\n",
      "  Attempting uninstall: azureml-pipeline\n",
      "    Found existing installation: azureml-pipeline 1.27.0\n",
      "    Uninstalling azureml-pipeline-1.27.0:\n",
      "      Successfully uninstalled azureml-pipeline-1.27.0\n",
      "  Attempting uninstall: scikit-learn\n",
      "    Found existing installation: scikit-learn 0.24.2\n",
      "    Uninstalling scikit-learn-0.24.2:\n",
      "      Successfully uninstalled scikit-learn-0.24.2\n",
      "  Attempting uninstall: azureml-automl-runtime\n",
      "    Found existing installation: azureml-automl-runtime 1.27.0\n",
      "    Uninstalling azureml-automl-runtime-1.27.0:\n",
      "      Successfully uninstalled azureml-automl-runtime-1.27.0\n",
      "  Attempting uninstall: gunicorn\n",
      "    Found existing installation: gunicorn 19.9.0\n",
      "    Uninstalling gunicorn-19.9.0:\n",
      "      Successfully uninstalled gunicorn-19.9.0\n",
      "  Attempting uninstall: azureml-defaults\n",
      "    Found existing installation: azureml-defaults 1.27.0\n",
      "    Uninstalling azureml-defaults-1.27.0:\n",
      "      Successfully uninstalled azureml-defaults-1.27.0\n",
      "  Attempting uninstall: azureml-interpret\n",
      "    Found existing installation: azureml-interpret 1.27.0\n",
      "    Uninstalling azureml-interpret-1.27.0:\n",
      "      Successfully uninstalled azureml-interpret-1.27.0\n",
      "  Attempting uninstall: azureml-train-automl-runtime\n",
      "    Found existing installation: azureml-train-automl-runtime 1.27.0\n",
      "    Uninstalling azureml-train-automl-runtime-1.27.0:\n",
      "      Successfully uninstalled azureml-train-automl-runtime-1.27.0\n",
      "  Attempting uninstall: azureml-train-automl\n",
      "    Found existing installation: azureml-train-automl 1.27.0\n",
      "    Uninstalling azureml-train-automl-1.27.0:\n",
      "      Successfully uninstalled azureml-train-automl-1.27.0\n",
      "  Attempting uninstall: azureml-contrib-pipeline-steps\n",
      "    Found existing installation: azureml-contrib-pipeline-steps 1.27.0\n",
      "    Uninstalling azureml-contrib-pipeline-steps-1.27.0:\n",
      "      Successfully uninstalled azureml-contrib-pipeline-steps-1.27.0\n",
      "  Attempting uninstall: azureml-contrib-notebook\n",
      "    Found existing installation: azureml-contrib-notebook 1.27.0\n",
      "    Uninstalling azureml-contrib-notebook-1.27.0:\n",
      "      Successfully uninstalled azureml-contrib-notebook-1.27.0\n",
      "  Attempting uninstall: azureml-contrib-services\n",
      "    Found existing installation: azureml-contrib-services 1.27.0\n",
      "    Uninstalling azureml-contrib-services-1.27.0:\n",
      "      Successfully uninstalled azureml-contrib-services-1.27.0\n",
      "  Attempting uninstall: azureml-contrib-server\n",
      "    Found existing installation: azureml-contrib-server 1.27.0\n",
      "    Uninstalling azureml-contrib-server-1.27.0:\n",
      "      Successfully uninstalled azureml-contrib-server-1.27.0\n",
      "  Attempting uninstall: azureml-widgets\n",
      "    Found existing installation: azureml-widgets 1.27.0\n",
      "    Uninstalling azureml-widgets-1.27.0:\n",
      "      Successfully uninstalled azureml-widgets-1.27.0\n",
      "  Attempting uninstall: azureml-sdk\n",
      "    Found existing installation: azureml-sdk 1.27.0\n",
      "    Uninstalling azureml-sdk-1.27.0:\n",
      "      Successfully uninstalled azureml-sdk-1.27.0\n",
      "  Attempting uninstall: parso\n",
      "    Found existing installation: parso 0.8.2\n",
      "    Uninstalling parso-0.8.2:\n",
      "      Successfully uninstalled parso-0.8.2\n",
      "Successfully installed azureml-automl-core-1.28.0 azureml-automl-runtime-1.28.0.post1 azureml-contrib-notebook-1.28.0 azureml-contrib-pipeline-steps-1.28.0 azureml-contrib-server-1.28.0 azureml-contrib-services-1.28.0 azureml-core-1.28.0 azureml-dataprep-2.15.0 azureml-dataprep-rslex-1.13.0 azureml-dataset-runtime-1.28.0 azureml-defaults-1.28.0 azureml-interpret-1.28.0 azureml-pipeline-1.28.0 azureml-pipeline-core-1.28.0 azureml-pipeline-steps-1.28.0 azureml-sdk-1.28.0 azureml-telemetry-1.28.0 azureml-train-1.28.0 azureml-train-automl-1.28.0 azureml-train-automl-client-1.28.0 azureml-train-automl-runtime-1.28.0 azureml-train-core-1.28.0 azureml-train-restclients-hyperdrive-1.28.0 azureml-widgets-1.28.0 gunicorn-20.1.0 parso-0.7.1 scikit-learn-0.22.2.post1\n",
      "Note: you may need to restart the kernel to use updated packages.\n"
     ]
    }
   ],
   "source": [
    "pip install --upgrade azureml-sdk[notebooks,contrib,automl] azureml-widgets"
   ]
  },
  {
   "cell_type": "code",
   "execution_count": 2,
   "metadata": {
    "gather": {
     "logged": 1620691948228
    },
    "jupyter": {
     "outputs_hidden": false,
     "source_hidden": false
    },
    "nteract": {
     "transient": {
      "deleting": false
     }
    }
   },
   "outputs": [
    {
     "name": "stdout",
     "output_type": "stream",
     "text": [
      "Requirement already satisfied: azureml-train-automl-runtime in /anaconda/envs/azureml_py36/lib/python3.6/site-packages (1.28.0)\n",
      "Requirement already satisfied: scipy<=1.5.2,>=1.0.0 in /anaconda/envs/azureml_py36/lib/python3.6/site-packages (from azureml-train-automl-runtime) (1.5.2)\n",
      "Requirement already satisfied: pandas<1.0.0,>=0.21.0 in /anaconda/envs/azureml_py36/lib/python3.6/site-packages (from azureml-train-automl-runtime) (0.25.3)\n",
      "Requirement already satisfied: onnxruntime<=1.6.0,>=1.3.0 in /anaconda/envs/azureml_py36/lib/python3.6/site-packages (from azureml-train-automl-runtime) (1.6.0)\n",
      "Requirement already satisfied: keras2onnx<=1.6.0,>=1.4.0 in /anaconda/envs/azureml_py36/lib/python3.6/site-packages (from azureml-train-automl-runtime) (1.6.0)\n",
      "Requirement already satisfied: scikit-learn<0.23.0,>=0.19.0 in /anaconda/envs/azureml_py36/lib/python3.6/site-packages (from azureml-train-automl-runtime) (0.22.2.post1)\n",
      "Requirement already satisfied: numpy<1.19.0,>=1.16.0 in /anaconda/envs/azureml_py36/lib/python3.6/site-packages (from azureml-train-automl-runtime) (1.18.5)\n",
      "Requirement already satisfied: azureml-automl-runtime~=1.28.0 in /anaconda/envs/azureml_py36/lib/python3.6/site-packages (from azureml-train-automl-runtime) (1.28.0.post1)\n",
      "Requirement already satisfied: azureml-core~=1.28.0 in /anaconda/envs/azureml_py36/lib/python3.6/site-packages (from azureml-train-automl-runtime) (1.28.0)\n",
      "Requirement already satisfied: lightgbm<=2.3.0,>=2.0.11 in /anaconda/envs/azureml_py36/lib/python3.6/site-packages (from azureml-train-automl-runtime) (2.3.0)\n",
      "Requirement already satisfied: azureml-defaults~=1.28.0 in /anaconda/envs/azureml_py36/lib/python3.6/site-packages (from azureml-train-automl-runtime) (1.28.0)\n",
      "Requirement already satisfied: boto3<=1.15.18 in /anaconda/envs/azureml_py36/lib/python3.6/site-packages (from azureml-train-automl-runtime) (1.15.18)\n",
      "Requirement already satisfied: gensim<3.9.0 in /anaconda/envs/azureml_py36/lib/python3.6/site-packages (from azureml-train-automl-runtime) (3.8.3)\n",
      "Requirement already satisfied: statsmodels<=0.10.2,>=0.9.0 in /anaconda/envs/azureml_py36/lib/python3.6/site-packages (from azureml-train-automl-runtime) (0.10.2)\n",
      "Requirement already satisfied: onnxmltools==1.4.1 in /anaconda/envs/azureml_py36/lib/python3.6/site-packages (from azureml-train-automl-runtime) (1.4.1)\n",
      "Requirement already satisfied: jinja2<=2.11.2 in /anaconda/envs/azureml_py36/lib/python3.6/site-packages (from azureml-train-automl-runtime) (2.11.1)\n",
      "Requirement already satisfied: azureml-interpret~=1.28.0 in /anaconda/envs/azureml_py36/lib/python3.6/site-packages (from azureml-train-automl-runtime) (1.28.0)\n",
      "Requirement already satisfied: onnx<=1.7.0,>=1.5.0 in /anaconda/envs/azureml_py36/lib/python3.6/site-packages (from azureml-train-automl-runtime) (1.7.0)\n",
      "Requirement already satisfied: azureml-automl-core~=1.28.0 in /anaconda/envs/azureml_py36/lib/python3.6/site-packages (from azureml-train-automl-runtime) (1.28.0)\n",
      "Requirement already satisfied: azureml-train-automl-client~=1.28.0 in /anaconda/envs/azureml_py36/lib/python3.6/site-packages (from azureml-train-automl-runtime) (1.28.0)\n",
      "Requirement already satisfied: azure-storage-queue~=12.1 in /anaconda/envs/azureml_py36/lib/python3.6/site-packages (from azureml-train-automl-runtime) (12.1.5)\n",
      "Requirement already satisfied: skl2onnx==1.4.9 in /anaconda/envs/azureml_py36/lib/python3.6/site-packages (from azureml-train-automl-runtime) (1.4.9)\n",
      "Requirement already satisfied: smart-open<=1.9.0 in /anaconda/envs/azureml_py36/lib/python3.6/site-packages (from azureml-train-automl-runtime) (1.9.0)\n",
      "Requirement already satisfied: botocore<=1.18.18 in /anaconda/envs/azureml_py36/lib/python3.6/site-packages (from azureml-train-automl-runtime) (1.18.18)\n",
      "Requirement already satisfied: azureml-dataset-runtime[fuse,pandas]~=1.28.0 in /anaconda/envs/azureml_py36/lib/python3.6/site-packages (from azureml-train-automl-runtime) (1.28.0)\n",
      "Requirement already satisfied: sklearn-pandas<=1.7.0,>=1.4.0 in /anaconda/envs/azureml_py36/lib/python3.6/site-packages (from azureml-train-automl-runtime) (1.7.0)\n",
      "Requirement already satisfied: azureml-telemetry~=1.28.0 in /anaconda/envs/azureml_py36/lib/python3.6/site-packages (from azureml-train-automl-runtime) (1.28.0)\n",
      "Requirement already satisfied: onnxconverter-common<=1.6.0,>=1.4.2 in /anaconda/envs/azureml_py36/lib/python3.6/site-packages (from azureml-train-automl-runtime) (1.6.0)\n",
      "Requirement already satisfied: python-dateutil>=2.6.1 in /anaconda/envs/azureml_py36/lib/python3.6/site-packages (from pandas<1.0.0,>=0.21.0->azureml-train-automl-runtime) (2.8.1)\n",
      "Requirement already satisfied: pytz>=2017.2 in /anaconda/envs/azureml_py36/lib/python3.6/site-packages (from pandas<1.0.0,>=0.21.0->azureml-train-automl-runtime) (2021.1)\n",
      "Requirement already satisfied: protobuf in /anaconda/envs/azureml_py36/lib/python3.6/site-packages (from onnxruntime<=1.6.0,>=1.3.0->azureml-train-automl-runtime) (3.15.8)\n",
      "Requirement already satisfied: requests in /anaconda/envs/azureml_py36/lib/python3.6/site-packages (from keras2onnx<=1.6.0,>=1.4.0->azureml-train-automl-runtime) (2.25.1)\n",
      "Requirement already satisfied: fire in /anaconda/envs/azureml_py36/lib/python3.6/site-packages (from keras2onnx<=1.6.0,>=1.4.0->azureml-train-automl-runtime) (0.4.0)\n",
      "Requirement already satisfied: joblib>=0.11 in /anaconda/envs/azureml_py36/lib/python3.6/site-packages (from scikit-learn<0.23.0,>=0.19.0->azureml-train-automl-runtime) (0.14.1)\n",
      "Requirement already satisfied: nimbusml<=1.8.0,>=1.7.1 in /anaconda/envs/azureml_py36/lib/python3.6/site-packages (from azureml-automl-runtime~=1.28.0->azureml-train-automl-runtime) (1.8.0)\n",
      "Requirement already satisfied: py-cpuinfo==5.0.0 in /anaconda/envs/azureml_py36/lib/python3.6/site-packages (from azureml-automl-runtime~=1.28.0->azureml-train-automl-runtime) (5.0.0)\n",
      "Requirement already satisfied: dill<0.4.0,>=0.2.8 in /anaconda/envs/azureml_py36/lib/python3.6/site-packages (from azureml-automl-runtime~=1.28.0->azureml-train-automl-runtime) (0.3.3)\n",
      "Requirement already satisfied: pmdarima==1.1.1 in /anaconda/envs/azureml_py36/lib/python3.6/site-packages (from azureml-automl-runtime~=1.28.0->azureml-train-automl-runtime) (1.1.1)\n",
      "Requirement already satisfied: psutil<6.0.0,>=5.2.2 in /anaconda/envs/azureml_py36/lib/python3.6/site-packages (from azureml-automl-runtime~=1.28.0->azureml-train-automl-runtime) (5.8.0)\n",
      "Requirement already satisfied: azure-mgmt-storage<16.0.0,>=1.5.0 in /anaconda/envs/azureml_py36/lib/python3.6/site-packages (from azureml-core~=1.28.0->azureml-train-automl-runtime) (11.2.0)\n",
      "Requirement already satisfied: backports.tempfile in /anaconda/envs/azureml_py36/lib/python3.6/site-packages (from azureml-core~=1.28.0->azureml-train-automl-runtime) (1.0)\n",
      "Requirement already satisfied: pyopenssl<21.0.0 in /anaconda/envs/azureml_py36/lib/python3.6/site-packages (from azureml-core~=1.28.0->azureml-train-automl-runtime) (20.0.1)\n",
      "Requirement already satisfied: jmespath<1.0.0 in /anaconda/envs/azureml_py36/lib/python3.6/site-packages (from azureml-core~=1.28.0->azureml-train-automl-runtime) (0.10.0)\n",
      "Requirement already satisfied: cryptography!=1.9,!=2.0.*,!=2.1.*,!=2.2.*,<4.0.0 in /anaconda/envs/azureml_py36/lib/python3.6/site-packages (from azureml-core~=1.28.0->azureml-train-automl-runtime) (3.4.7)\n",
      "Requirement already satisfied: azure-mgmt-containerregistry>=2.0.0 in /anaconda/envs/azureml_py36/lib/python3.6/site-packages (from azureml-core~=1.28.0->azureml-train-automl-runtime) (2.8.0)\n",
      "Requirement already satisfied: azure-mgmt-authorization<1.0.0,>=0.40.0 in /anaconda/envs/azureml_py36/lib/python3.6/site-packages (from azureml-core~=1.28.0->azureml-train-automl-runtime) (0.61.0)\n",
      "Requirement already satisfied: azure-graphrbac<1.0.0,>=0.40.0 in /anaconda/envs/azureml_py36/lib/python3.6/site-packages (from azureml-core~=1.28.0->azureml-train-automl-runtime) (0.61.1)\n",
      "Requirement already satisfied: ndg-httpsclient in /anaconda/envs/azureml_py36/lib/python3.6/site-packages (from azureml-core~=1.28.0->azureml-train-automl-runtime) (0.5.1)\n",
      "Requirement already satisfied: contextlib2<1.0.0 in /anaconda/envs/azureml_py36/lib/python3.6/site-packages (from azureml-core~=1.28.0->azureml-train-automl-runtime) (0.6.0.post1)\n",
      "Requirement already satisfied: adal>=1.2.0 in /anaconda/envs/azureml_py36/lib/python3.6/site-packages (from azureml-core~=1.28.0->azureml-train-automl-runtime) (1.2.7)\n",
      "Requirement already satisfied: msrest<1.0.0,>=0.5.1 in /anaconda/envs/azureml_py36/lib/python3.6/site-packages (from azureml-core~=1.28.0->azureml-train-automl-runtime) (0.6.21)\n"
     ]
    },
    {
     "name": "stdout",
     "output_type": "stream",
     "text": [
      "Requirement already satisfied: msrestazure>=0.4.33 in /anaconda/envs/azureml_py36/lib/python3.6/site-packages (from azureml-core~=1.28.0->azureml-train-automl-runtime) (0.6.4)\n",
      "Requirement already satisfied: PyJWT<3.0.0 in /anaconda/envs/azureml_py36/lib/python3.6/site-packages (from azureml-core~=1.28.0->azureml-train-automl-runtime) (2.0.1)\n",
      "Requirement already satisfied: pathspec<1.0.0 in /anaconda/envs/azureml_py36/lib/python3.6/site-packages (from azureml-core~=1.28.0->azureml-train-automl-runtime) (0.8.1)\n",
      "Requirement already satisfied: docker<5.0.0 in /anaconda/envs/azureml_py36/lib/python3.6/site-packages (from azureml-core~=1.28.0->azureml-train-automl-runtime) (4.4.4)\n",
      "Requirement already satisfied: jsonpickle<3.0.0 in /anaconda/envs/azureml_py36/lib/python3.6/site-packages (from azureml-core~=1.28.0->azureml-train-automl-runtime) (2.0.0)\n",
      "Requirement already satisfied: azure-mgmt-keyvault<7.0.0,>=0.40.0 in /anaconda/envs/azureml_py36/lib/python3.6/site-packages (from azureml-core~=1.28.0->azureml-train-automl-runtime) (2.2.0)\n",
      "Requirement already satisfied: azure-common<2.0.0,>=1.1.12 in /anaconda/envs/azureml_py36/lib/python3.6/site-packages (from azureml-core~=1.28.0->azureml-train-automl-runtime) (1.1.27)\n",
      "Requirement already satisfied: urllib3>=1.23 in /anaconda/envs/azureml_py36/lib/python3.6/site-packages (from azureml-core~=1.28.0->azureml-train-automl-runtime) (1.25.11)\n",
      "Requirement already satisfied: azure-mgmt-resource<15.0.0,>=1.2.1 in /anaconda/envs/azureml_py36/lib/python3.6/site-packages (from azureml-core~=1.28.0->azureml-train-automl-runtime) (12.1.0)\n",
      "Requirement already satisfied: ruamel.yaml<1.0.0,>=0.15.35 in /anaconda/envs/azureml_py36/lib/python3.6/site-packages (from azureml-core~=1.28.0->azureml-train-automl-runtime) (0.17.4)\n",
      "Requirement already satisfied: SecretStorage<4.0.0 in /anaconda/envs/azureml_py36/lib/python3.6/site-packages (from azureml-core~=1.28.0->azureml-train-automl-runtime) (3.3.1)\n",
      "Requirement already satisfied: gunicorn==20.1.0 in /anaconda/envs/azureml_py36/lib/python3.6/site-packages (from azureml-defaults~=1.28.0->azureml-train-automl-runtime) (20.1.0)\n",
      "Requirement already satisfied: json-logging-py==0.2 in /anaconda/envs/azureml_py36/lib/python3.6/site-packages (from azureml-defaults~=1.28.0->azureml-train-automl-runtime) (0.2)\n",
      "Requirement already satisfied: configparser==3.7.4 in /anaconda/envs/azureml_py36/lib/python3.6/site-packages (from azureml-defaults~=1.28.0->azureml-train-automl-runtime) (3.7.4)\n",
      "Requirement already satisfied: azureml-model-management-sdk==1.0.1b6.post1 in /anaconda/envs/azureml_py36/lib/python3.6/site-packages (from azureml-defaults~=1.28.0->azureml-train-automl-runtime) (1.0.1b6.post1)\n",
      "Requirement already satisfied: werkzeug<=1.0.1,>=0.16.1 in /anaconda/envs/azureml_py36/lib/python3.6/site-packages (from azureml-defaults~=1.28.0->azureml-train-automl-runtime) (1.0.1)\n",
      "Requirement already satisfied: applicationinsights>=0.11.7 in /anaconda/envs/azureml_py36/lib/python3.6/site-packages (from azureml-defaults~=1.28.0->azureml-train-automl-runtime) (0.11.9)\n",
      "Requirement already satisfied: flask==1.0.3 in /anaconda/envs/azureml_py36/lib/python3.6/site-packages (from azureml-defaults~=1.28.0->azureml-train-automl-runtime) (1.0.3)\n",
      "Requirement already satisfied: s3transfer<0.4.0,>=0.3.0 in /anaconda/envs/azureml_py36/lib/python3.6/site-packages (from boto3<=1.15.18->azureml-train-automl-runtime) (0.3.7)\n",
      "Requirement already satisfied: six>=1.5.0 in /anaconda/envs/azureml_py36/lib/python3.6/site-packages (from gensim<3.9.0->azureml-train-automl-runtime) (1.15.0)\n",
      "Requirement already satisfied: patsy>=0.4.0 in /anaconda/envs/azureml_py36/lib/python3.6/site-packages (from statsmodels<=0.10.2,>=0.9.0->azureml-train-automl-runtime) (0.5.1)\n",
      "Requirement already satisfied: MarkupSafe>=0.23 in /anaconda/envs/azureml_py36/lib/python3.6/site-packages (from jinja2<=2.11.2->azureml-train-automl-runtime) (1.1.1)\n",
      "Requirement already satisfied: interpret-core[required]<=0.2.1,>=0.1.20 in /anaconda/envs/azureml_py36/lib/python3.6/site-packages (from azureml-interpret~=1.28.0->azureml-train-automl-runtime) (0.2.1)\n",
      "Requirement already satisfied: interpret-community==0.17.* in /anaconda/envs/azureml_py36/lib/python3.6/site-packages (from azureml-interpret~=1.28.0->azureml-train-automl-runtime) (0.17.2)\n",
      "Requirement already satisfied: typing-extensions>=3.6.2.1 in /anaconda/envs/azureml_py36/lib/python3.6/site-packages (from onnx<=1.7.0,>=1.5.0->azureml-train-automl-runtime) (3.7.4.3)\n",
      "Requirement already satisfied: azure-core<2.0.0,>=1.10.0 in /anaconda/envs/azureml_py36/lib/python3.6/site-packages (from azure-storage-queue~=12.1->azureml-train-automl-runtime) (1.13.0)\n",
      "Requirement already satisfied: boto>=2.32 in /anaconda/envs/azureml_py36/lib/python3.6/site-packages (from smart-open<=1.9.0->azureml-train-automl-runtime) (2.49.0)\n",
      "Requirement already satisfied: pyarrow<4.0.0,>=0.17.0 in /anaconda/envs/azureml_py36/lib/python3.6/site-packages (from azureml-dataset-runtime[fuse,pandas]~=1.28.0->azureml-train-automl-runtime) (1.0.1)\n",
      "Requirement already satisfied: azureml-dataprep<2.16.0a,>=2.15.0a in /anaconda/envs/azureml_py36/lib/python3.6/site-packages (from azureml-dataset-runtime[fuse,pandas]~=1.28.0->azureml-train-automl-runtime) (2.15.0)\n",
      "Requirement already satisfied: fusepy<4.0.0,>=3.0.1; extra == \"fuse\" in /anaconda/envs/azureml_py36/lib/python3.6/site-packages (from azureml-dataset-runtime[fuse,pandas]~=1.28.0->azureml-train-automl-runtime) (3.0.1)\n",
      "Requirement already satisfied: certifi>=2017.4.17 in /anaconda/envs/azureml_py36/lib/python3.6/site-packages (from requests->keras2onnx<=1.6.0,>=1.4.0->azureml-train-automl-runtime) (2020.12.5)\n",
      "Requirement already satisfied: idna<3,>=2.5 in /anaconda/envs/azureml_py36/lib/python3.6/site-packages (from requests->keras2onnx<=1.6.0,>=1.4.0->azureml-train-automl-runtime) (2.10)\n",
      "Requirement already satisfied: chardet<5,>=3.0.2 in /anaconda/envs/azureml_py36/lib/python3.6/site-packages (from requests->keras2onnx<=1.6.0,>=1.4.0->azureml-train-automl-runtime) (4.0.0)\n",
      "Requirement already satisfied: termcolor in /anaconda/envs/azureml_py36/lib/python3.6/site-packages (from fire->keras2onnx<=1.6.0,>=1.4.0->azureml-train-automl-runtime) (1.1.0)\n",
      "Requirement already satisfied: dotnetcore2>=2.1.2 in /anaconda/envs/azureml_py36/lib/python3.6/site-packages (from nimbusml<=1.8.0,>=1.7.1->azureml-automl-runtime~=1.28.0->azureml-train-automl-runtime) (2.1.20)\n",
      "Requirement already satisfied: Cython>=0.29 in /anaconda/envs/azureml_py36/lib/python3.6/site-packages (from pmdarima==1.1.1->azureml-automl-runtime~=1.28.0->azureml-train-automl-runtime) (0.29.23)\n",
      "Requirement already satisfied: backports.weakref in /anaconda/envs/azureml_py36/lib/python3.6/site-packages (from backports.tempfile->azureml-core~=1.28.0->azureml-train-automl-runtime) (1.0.post1)\n",
      "Requirement already satisfied: cffi>=1.12 in /anaconda/envs/azureml_py36/lib/python3.6/site-packages (from cryptography!=1.9,!=2.0.*,!=2.1.*,!=2.2.*,<4.0.0->azureml-core~=1.28.0->azureml-train-automl-runtime) (1.14.5)\n",
      "Requirement already satisfied: pyasn1>=0.1.1 in /anaconda/envs/azureml_py36/lib/python3.6/site-packages (from ndg-httpsclient->azureml-core~=1.28.0->azureml-train-automl-runtime) (0.4.8)\n",
      "Requirement already satisfied: isodate>=0.6.0 in /anaconda/envs/azureml_py36/lib/python3.6/site-packages (from msrest<1.0.0,>=0.5.1->azureml-core~=1.28.0->azureml-train-automl-runtime) (0.6.0)\n",
      "Requirement already satisfied: requests-oauthlib>=0.5.0 in /anaconda/envs/azureml_py36/lib/python3.6/site-packages (from msrest<1.0.0,>=0.5.1->azureml-core~=1.28.0->azureml-train-automl-runtime) (1.3.0)\n",
      "Requirement already satisfied: websocket-client>=0.32.0 in /anaconda/envs/azureml_py36/lib/python3.6/site-packages (from docker<5.0.0->azureml-core~=1.28.0->azureml-train-automl-runtime) (0.58.0)\n",
      "Requirement already satisfied: importlib-metadata; python_version < \"3.8\" in /anaconda/envs/azureml_py36/lib/python3.6/site-packages (from jsonpickle<3.0.0->azureml-core~=1.28.0->azureml-train-automl-runtime) (3.10.1)\n",
      "Requirement already satisfied: ruamel.yaml.clib>=0.1.2; platform_python_implementation == \"CPython\" and python_version < \"3.10\" in /anaconda/envs/azureml_py36/lib/python3.6/site-packages (from ruamel.yaml<1.0.0,>=0.15.35->azureml-core~=1.28.0->azureml-train-automl-runtime) (0.2.2)\n",
      "Requirement already satisfied: jeepney>=0.6 in /anaconda/envs/azureml_py36/lib/python3.6/site-packages (from SecretStorage<4.0.0->azureml-core~=1.28.0->azureml-train-automl-runtime) (0.6.0)\n",
      "Requirement already satisfied: setuptools>=3.0 in /anaconda/envs/azureml_py36/lib/python3.6/site-packages (from gunicorn==20.1.0->azureml-defaults~=1.28.0->azureml-train-automl-runtime) (50.3.0)\n",
      "Requirement already satisfied: liac-arff>=2.1.1 in /anaconda/envs/azureml_py36/lib/python3.6/site-packages (from azureml-model-management-sdk==1.0.1b6.post1->azureml-defaults~=1.28.0->azureml-train-automl-runtime) (2.5.0)\n",
      "Requirement already satisfied: itsdangerous>=0.24 in /anaconda/envs/azureml_py36/lib/python3.6/site-packages (from flask==1.0.3->azureml-defaults~=1.28.0->azureml-train-automl-runtime) (1.1.0)\n",
      "Requirement already satisfied: click>=5.1 in /anaconda/envs/azureml_py36/lib/python3.6/site-packages (from flask==1.0.3->azureml-defaults~=1.28.0->azureml-train-automl-runtime) (7.1.2)\n"
     ]
    },
    {
     "name": "stdout",
     "output_type": "stream",
     "text": [
      "Requirement already satisfied: packaging in /anaconda/envs/azureml_py36/lib/python3.6/site-packages (from interpret-community==0.17.*->azureml-interpret~=1.28.0->azureml-train-automl-runtime) (20.9)\n",
      "Requirement already satisfied: shap<=0.34.0,>=0.20.0 in /anaconda/envs/azureml_py36/lib/python3.6/site-packages (from interpret-community==0.17.*->azureml-interpret~=1.28.0->azureml-train-automl-runtime) (0.34.0)\n",
      "Requirement already satisfied: cloudpickle<2.0.0,>=1.1.0 in /anaconda/envs/azureml_py36/lib/python3.6/site-packages (from azureml-dataprep<2.16.0a,>=2.15.0a->azureml-dataset-runtime[fuse,pandas]~=1.28.0->azureml-train-automl-runtime) (1.6.0)\n",
      "Requirement already satisfied: azureml-dataprep-native<34.0.0,>=33.0.0 in /anaconda/envs/azureml_py36/lib/python3.6/site-packages (from azureml-dataprep<2.16.0a,>=2.15.0a->azureml-dataset-runtime[fuse,pandas]~=1.28.0->azureml-train-automl-runtime) (33.0.0)\n",
      "Requirement already satisfied: azureml-dataprep-rslex<1.14.0a,>=1.13.0dev0 in /anaconda/envs/azureml_py36/lib/python3.6/site-packages (from azureml-dataprep<2.16.0a,>=2.15.0a->azureml-dataset-runtime[fuse,pandas]~=1.28.0->azureml-train-automl-runtime) (1.13.0)\n",
      "Requirement already satisfied: azure-identity<1.5.0,>=1.2.0 in /anaconda/envs/azureml_py36/lib/python3.6/site-packages (from azureml-dataprep<2.16.0a,>=2.15.0a->azureml-dataset-runtime[fuse,pandas]~=1.28.0->azureml-train-automl-runtime) (1.4.1)\n",
      "Requirement already satisfied: distro>=1.2.0 in /anaconda/envs/azureml_py36/lib/python3.6/site-packages (from dotnetcore2>=2.1.2->nimbusml<=1.8.0,>=1.7.1->azureml-automl-runtime~=1.28.0->azureml-train-automl-runtime) (1.5.0)\n",
      "Requirement already satisfied: pycparser in /anaconda/envs/azureml_py36/lib/python3.6/site-packages (from cffi>=1.12->cryptography!=1.9,!=2.0.*,!=2.1.*,!=2.2.*,<4.0.0->azureml-core~=1.28.0->azureml-train-automl-runtime) (2.20)\n",
      "Requirement already satisfied: oauthlib>=3.0.0 in /anaconda/envs/azureml_py36/lib/python3.6/site-packages (from requests-oauthlib>=0.5.0->msrest<1.0.0,>=0.5.1->azureml-core~=1.28.0->azureml-train-automl-runtime) (3.1.0)\n",
      "Requirement already satisfied: zipp>=0.5 in /anaconda/envs/azureml_py36/lib/python3.6/site-packages (from importlib-metadata; python_version < \"3.8\"->jsonpickle<3.0.0->azureml-core~=1.28.0->azureml-train-automl-runtime) (3.4.1)\n",
      "Requirement already satisfied: pyparsing>=2.0.2 in /anaconda/envs/azureml_py36/lib/python3.6/site-packages (from packaging->interpret-community==0.17.*->azureml-interpret~=1.28.0->azureml-train-automl-runtime) (2.4.7)\n",
      "Requirement already satisfied: tqdm>4.25.0 in /anaconda/envs/azureml_py36/lib/python3.6/site-packages (from shap<=0.34.0,>=0.20.0->interpret-community==0.17.*->azureml-interpret~=1.28.0->azureml-train-automl-runtime) (4.60.0)\n",
      "Requirement already satisfied: msal<2.0.0,>=1.3.0 in /anaconda/envs/azureml_py36/lib/python3.6/site-packages (from azure-identity<1.5.0,>=1.2.0->azureml-dataprep<2.16.0a,>=2.15.0a->azureml-dataset-runtime[fuse,pandas]~=1.28.0->azureml-train-automl-runtime) (1.11.0)\n",
      "Requirement already satisfied: msal-extensions~=0.2.2 in /anaconda/envs/azureml_py36/lib/python3.6/site-packages (from azure-identity<1.5.0,>=1.2.0->azureml-dataprep<2.16.0a,>=2.15.0a->azureml-dataset-runtime[fuse,pandas]~=1.28.0->azureml-train-automl-runtime) (0.2.2)\n",
      "Requirement already satisfied: portalocker~=1.0; platform_system != \"Windows\" in /anaconda/envs/azureml_py36/lib/python3.6/site-packages (from msal-extensions~=0.2.2->azure-identity<1.5.0,>=1.2.0->azureml-dataprep<2.16.0a,>=2.15.0a->azureml-dataset-runtime[fuse,pandas]~=1.28.0->azureml-train-automl-runtime) (1.7.1)\n",
      "Note: you may need to restart the kernel to use updated packages.\n"
     ]
    }
   ],
   "source": [
    "pip install azureml-train-automl-runtime"
   ]
  },
  {
   "cell_type": "code",
   "execution_count": 3,
   "metadata": {
    "gather": {
     "logged": 1620692079854
    },
    "jupyter": {
     "outputs_hidden": false,
     "source_hidden": false
    },
    "nteract": {
     "transient": {
      "deleting": false
     }
    }
   },
   "outputs": [
    {
     "name": "stdout",
     "output_type": "stream",
     "text": [
      "Collecting scikit-learn\n",
      "  Using cached scikit_learn-0.24.2-cp36-cp36m-manylinux2010_x86_64.whl (22.2 MB)\n",
      "Requirement already satisfied, skipping upgrade: numpy>=1.13.3 in /anaconda/envs/azureml_py36/lib/python3.6/site-packages (from scikit-learn) (1.18.5)\n",
      "Requirement already satisfied, skipping upgrade: joblib>=0.11 in /anaconda/envs/azureml_py36/lib/python3.6/site-packages (from scikit-learn) (0.14.1)\n",
      "Requirement already satisfied, skipping upgrade: scipy>=0.19.1 in /anaconda/envs/azureml_py36/lib/python3.6/site-packages (from scikit-learn) (1.5.2)\n",
      "Requirement already satisfied, skipping upgrade: threadpoolctl>=2.0.0 in /anaconda/envs/azureml_py36/lib/python3.6/site-packages (from scikit-learn) (2.1.0)\n",
      "\u001b[31mERROR: raiwidgets 0.2.2 has requirement lightgbm>=3.1.1, but you'll have lightgbm 2.3.0 which is incompatible.\u001b[0m\n",
      "\u001b[31mERROR: azureml-train-automl-runtime 1.28.0 has requirement scikit-learn<0.23.0,>=0.19.0, but you'll have scikit-learn 0.24.2 which is incompatible.\u001b[0m\n",
      "\u001b[31mERROR: azureml-explain-model 1.27.0 has requirement azureml-interpret~=1.27.0, but you'll have azureml-interpret 1.28.0 which is incompatible.\u001b[0m\n",
      "\u001b[31mERROR: azureml-datadrift 1.27.0 has requirement azureml-core~=1.27.0, but you'll have azureml-core 1.28.0 which is incompatible.\u001b[0m\n",
      "\u001b[31mERROR: azureml-datadrift 1.27.0 has requirement azureml-dataset-runtime[fuse,pandas]~=1.27.0, but you'll have azureml-dataset-runtime 1.28.0 which is incompatible.\u001b[0m\n",
      "\u001b[31mERROR: azureml-datadrift 1.27.0 has requirement azureml-pipeline-core~=1.27.0, but you'll have azureml-pipeline-core 1.28.0 which is incompatible.\u001b[0m\n",
      "\u001b[31mERROR: azureml-datadrift 1.27.0 has requirement azureml-telemetry~=1.27.0, but you'll have azureml-telemetry 1.28.0 which is incompatible.\u001b[0m\n",
      "\u001b[31mERROR: azureml-automl-runtime 1.28.0.post1 has requirement scikit-learn<0.23.0,>=0.19.0, but you'll have scikit-learn 0.24.2 which is incompatible.\u001b[0m\n",
      "\u001b[31mERROR: azureml-automl-dnn-nlp 1.27.0 has requirement azureml-automl-core~=1.27.0, but you'll have azureml-automl-core 1.28.0 which is incompatible.\u001b[0m\n",
      "\u001b[31mERROR: azureml-automl-dnn-nlp 1.27.0 has requirement azureml-automl-runtime~=1.27.0, but you'll have azureml-automl-runtime 1.28.0.post1 which is incompatible.\u001b[0m\n",
      "\u001b[31mERROR: azureml-automl-dnn-nlp 1.27.0 has requirement azureml-core~=1.27.0, but you'll have azureml-core 1.28.0 which is incompatible.\u001b[0m\n",
      "\u001b[31mERROR: azureml-automl-dnn-nlp 1.27.0 has requirement azureml-telemetry~=1.27.0, but you'll have azureml-telemetry 1.28.0 which is incompatible.\u001b[0m\n",
      "\u001b[31mERROR: azureml-automl-dnn-nlp 1.27.0 has requirement azureml-train-automl~=1.27.0, but you'll have azureml-train-automl 1.28.0 which is incompatible.\u001b[0m\n",
      "\u001b[31mERROR: autokeras 1.0.12 has requirement tensorflow>=2.3.0, but you'll have tensorflow 2.1.0 which is incompatible.\u001b[0m\n",
      "Installing collected packages: scikit-learn\n",
      "  Attempting uninstall: scikit-learn\n",
      "    Found existing installation: scikit-learn 0.22.2.post1\n",
      "    Uninstalling scikit-learn-0.22.2.post1:\n",
      "      Successfully uninstalled scikit-learn-0.22.2.post1\n",
      "Successfully installed scikit-learn-0.24.2\n",
      "Note: you may need to restart the kernel to use updated packages.\n"
     ]
    }
   ],
   "source": [
    "pip install --upgrade scikit-learn"
   ]
  },
  {
   "cell_type": "markdown",
   "metadata": {},
   "source": [
    "### Imports\n",
    "\n",
    "In this cell we import all the necessary dependencies and libraries that we will need for the project."
   ]
  },
  {
   "cell_type": "code",
   "execution_count": 1,
   "metadata": {
    "gather": {
     "logged": 1620692748196
    },
    "jupyter": {
     "outputs_hidden": false,
     "source_hidden": false
    },
    "nteract": {
     "transient": {
      "deleting": false
     }
    }
   },
   "outputs": [
    {
     "name": "stdout",
     "output_type": "stream",
     "text": [
      "SDK version: 1.28.0\n"
     ]
    }
   ],
   "source": [
    "import logging\n",
    "import os\n",
    "import csv\n",
    "\n",
    "from matplotlib import pyplot as plt\n",
    "import numpy as np\n",
    "import pandas as pd\n",
    "from sklearn import datasets\n",
    "import pkg_resources\n",
    "from imblearn.under_sampling import RandomUnderSampler\n",
    "from sklearn.model_selection import train_test_split\n",
    "\n",
    "import azureml.core\n",
    "from azureml.core.experiment import Experiment\n",
    "from azureml.core.workspace import Workspace\n",
    "\n",
    "from azureml.core.dataset import Dataset\n",
    "from azureml.core import Datastore\n",
    "from azureml.core.compute import ComputeTarget, AmlCompute\n",
    "from azureml.core.compute_target import ComputeTargetException\n",
    "\n",
    "from azureml.train.automl import AutoMLConfig\n",
    "\n",
    "from azureml.pipeline.steps import AutoMLStep\n",
    "\n",
    "from azureml.data.dataset_factory import TabularDatasetFactory\n",
    "\n",
    "\n",
    "# Check core SDK version number\n",
    "print(\"SDK version:\", azureml.core.VERSION)"
   ]
  },
  {
   "cell_type": "markdown",
   "metadata": {},
   "source": [
    "## Workspace Configuration\n",
    "\n",
    "In this cell we import the workspace configuration and create an experiment that we will use later."
   ]
  },
  {
   "cell_type": "code",
   "execution_count": 2,
   "metadata": {
    "gather": {
     "logged": 1620692751469
    },
    "jupyter": {
     "outputs_hidden": false,
     "source_hidden": false
    },
    "nteract": {
     "transient": {
      "deleting": false
     }
    }
   },
   "outputs": [
    {
     "name": "stdout",
     "output_type": "stream",
     "text": [
      "Workspace name: quick-starts-ws-144503\n",
      "Azure region: southcentralus\n",
      "Subscription id: 6b4af8be-9931-443e-90f6-c4c34a1f9737\n",
      "Resource group: aml-quickstarts-144503\n"
     ]
    },
    {
     "data": {
      "text/html": [
       "<table style=\"width:100%\"><tr><th>Name</th><th>Workspace</th><th>Report Page</th><th>Docs Page</th></tr><tr><td>automlcovid</td><td>quick-starts-ws-144503</td><td><a href=\"https://ml.azure.com/experiments/id/3a516b38-9153-4f68-a4c0-a121398fda99?wsid=/subscriptions/6b4af8be-9931-443e-90f6-c4c34a1f9737/resourcegroups/aml-quickstarts-144503/workspaces/quick-starts-ws-144503&amp;tid=660b3398-b80e-49d2-bc5b-ac1dc93b5254\" target=\"_blank\" rel=\"noopener\">Link to Azure Machine Learning studio</a></td><td><a href=\"https://docs.microsoft.com/en-us/python/api/azureml-core/azureml.core.experiment.Experiment?view=azure-ml-py\" target=\"_blank\" rel=\"noopener\">Link to Documentation</a></td></tr></table>"
      ],
      "text/plain": [
       "Experiment(Name: automlcovid,\n",
       "Workspace: quick-starts-ws-144503)"
      ]
     },
     "execution_count": 2,
     "metadata": {},
     "output_type": "execute_result"
    }
   ],
   "source": [
    "ws = Workspace.from_config()\n",
    "\n",
    "print('Workspace name: ' + ws.name, \n",
    "      'Azure region: ' + ws.location, \n",
    "      'Subscription id: ' + ws.subscription_id, \n",
    "      'Resource group: ' + ws.resource_group, sep = '\\n')\n",
    "\n",
    "# choose a name for experiment\n",
    "experiment_name = 'automlcovid'\n",
    "\n",
    "experiment=Experiment(ws, experiment_name)\n",
    "experiment"
   ]
  },
  {
   "cell_type": "markdown",
   "metadata": {
    "nteract": {
     "transient": {
      "deleting": false
     }
    }
   },
   "source": [
    "## Compute Cluster creation\n",
    "In this cell a cpu cluster is created for running our experiments, it checks if a compute cluster with the same name exists, if it exists then uses it, if not it creates it.\n",
    "\n",
    "If the cluster does not exists we define the configuration for it. For this project we will be using `min_nodes = 1`, in your own project this will incurr in extra costs, so consider leaving it to 0."
   ]
  },
  {
   "cell_type": "code",
   "execution_count": 3,
   "metadata": {
    "gather": {
     "logged": 1620692755125
    },
    "jupyter": {
     "outputs_hidden": false,
     "source_hidden": false
    },
    "nteract": {
     "transient": {
      "deleting": false
     }
    }
   },
   "outputs": [
    {
     "name": "stdout",
     "output_type": "stream",
     "text": [
      "Creating new compute cluster...\n",
      "Creating...\n",
      "SucceededProvisioning operation finished, operation \"Succeeded\"\n",
      "Succeeded..................\n",
      "AmlCompute wait for completion finished\n",
      "\n",
      "Minimum number of nodes requested have been provisioned\n",
      "Cluster details:  {'currentNodeCount': 1, 'targetNodeCount': 1, 'nodeStateCounts': {'preparingNodeCount': 1, 'runningNodeCount': 0, 'idleNodeCount': 0, 'unusableNodeCount': 0, 'leavingNodeCount': 0, 'preemptedNodeCount': 0}, 'allocationState': 'Steady', 'allocationStateTransitionTime': '2021-05-11T03:11:23.969000+00:00', 'errors': None, 'creationTime': '2021-05-11T03:09:49.961593+00:00', 'modifiedTime': '2021-05-11T03:10:05.278275+00:00', 'provisioningState': 'Succeeded', 'provisioningStateTransitionTime': None, 'scaleSettings': {'minNodeCount': 1, 'maxNodeCount': 4, 'nodeIdleTimeBeforeScaleDown': 'PT120S'}, 'vmPriority': 'Dedicated', 'vmSize': 'STANDARD_D16S_V3'}\n"
     ]
    }
   ],
   "source": [
    "compute_cluster_name = \"cpu-cluster\"\n",
    "\n",
    "try:\n",
    "    compute_target = ComputeTarget(workspace=ws, name=compute_cluster_name)\n",
    "    print(\"Found existing compute cluster...\")\n",
    "except:\n",
    "    print(\"Creating new compute cluster...\")\n",
    "    compute_config = AmlCompute.provisioning_configuration(vm_size='STANDARD_D16s_V3', max_nodes=4, min_nodes=1)\n",
    "    compute_target = ComputeTarget.create(ws, compute_cluster_name, compute_config)\n",
    "    \n",
    "compute_target.wait_for_completion(show_output=True)\n",
    "print(\"Cluster details: \", compute_target.get_status().serialize())"
   ]
  },
  {
   "cell_type": "markdown",
   "metadata": {
    "nteract": {
     "transient": {
      "deleting": false
     }
    }
   },
   "source": [
    "## Dataset\n",
    "\n",
    "### Overview\n",
    "We are going to use the Mexican Government's COVID-19 data, once it is uploaded to ML Studio we will consume it using TabularDataset.\n",
    "\n",
    "To consume the dataset we will import it from the Datastore tab in ML Studio, this is a blob storage, then we have to specify the location of the csv to import it.\n",
    "\n",
    "Once it's imported we will we creating a Pandas Dataframe that we will need later on."
   ]
  },
  {
   "cell_type": "code",
   "execution_count": 4,
   "metadata": {
    "gather": {
     "logged": 1620692780241
    },
    "jupyter": {
     "outputs_hidden": false,
     "source_hidden": false
    },
    "nteract": {
     "transient": {
      "deleting": false
     }
    }
   },
   "outputs": [
    {
     "name": "stdout",
     "output_type": "stream",
     "text": [
      "        FECHA_ACTUALIZACION ID_REGISTRO  ORIGEN  SECTOR  ENTIDAD_UM  SEXO  \\\n",
      "0                2021-05-10      z482b8       1      12           9     2   \n",
      "1                2021-05-10      z49a69       1      12          23     1   \n",
      "2                2021-05-10      z23d9d       1      12          22     2   \n",
      "3                2021-05-10      z24953       1      12           9     1   \n",
      "4                2021-05-10      zz8e77       1      12           9     2   \n",
      "...                     ...         ...     ...     ...         ...   ...   \n",
      "6761174          2021-05-10      6cb3c5       1       5          16     1   \n",
      "6761175          2021-05-10      c84ef1       2       4          14     1   \n",
      "6761176          2021-05-10      4a5c2b       2       4          15     1   \n",
      "6761177          2021-05-10      6d5d7e       2       4          23     1   \n",
      "6761178          2021-05-10      ca1c74       1      12          21     2   \n",
      "\n",
      "         ENTIDAD_NAC  ENTIDAD_RES  MUNICIPIO_RES  TIPO_PACIENTE  ...  \\\n",
      "0                  9            9             12              1  ...   \n",
      "1                 23           23              4              2  ...   \n",
      "2                 24           22              9              1  ...   \n",
      "3                  9            9             10              1  ...   \n",
      "4                  9            9              2              1  ...   \n",
      "...              ...          ...            ...            ...  ...   \n",
      "6761174            9           16              9              1  ...   \n",
      "6761175           14           14            120              1  ...   \n",
      "6761176            9           15             31              1  ...   \n",
      "6761177           23           23              5              1  ...   \n",
      "6761178            9           21            114              2  ...   \n",
      "\n",
      "        OTRO_CASO TOMA_MUESTRA_LAB RESULTADO_LAB  TOMA_MUESTRA_ANTIGENO  \\\n",
      "0               2                2            97                      2   \n",
      "1               1                2            97                      2   \n",
      "2               2                2            97                      2   \n",
      "3               1                1             2                      2   \n",
      "4               2                2            97                      2   \n",
      "...           ...              ...           ...                    ...   \n",
      "6761174         1                2            97                      2   \n",
      "6761175         2                2            97                      1   \n",
      "6761176         2                2            97                      1   \n",
      "6761177         2                2            97                      1   \n",
      "6761178         2                2            97                      1   \n",
      "\n",
      "         RESULTADO_ANTIGENO  CLASIFICACION_FINAL  MIGRANTE  PAIS_NACIONALIDAD  \\\n",
      "0                        97                    1        99             México   \n",
      "1                        97                    2        99             México   \n",
      "2                        97                    6        99             México   \n",
      "3                        97                    7        99             México   \n",
      "4                        97                    6        99             México   \n",
      "...                     ...                  ...       ...                ...   \n",
      "6761174                  97                    6        99             México   \n",
      "6761175                   2                    7        99             México   \n",
      "6761176                   2                    7        99             México   \n",
      "6761177                   1                    3        99             México   \n",
      "6761178                   2                    7        99             México   \n",
      "\n",
      "         PAIS_ORIGEN  UCI  \n",
      "0               97.0   97  \n",
      "1               97.0    1  \n",
      "2               97.0   97  \n",
      "3               97.0   97  \n",
      "4               97.0   97  \n",
      "...              ...  ...  \n",
      "6761174         97.0   97  \n",
      "6761175         97.0   97  \n",
      "6761176         97.0   97  \n",
      "6761177         97.0   97  \n",
      "6761178         97.0    2  \n",
      "\n",
      "[6761179 rows x 40 columns]\n"
     ]
    }
   ],
   "source": [
    "datastore = Datastore.get(ws,'workspaceblobstore')\n",
    "ds = TabularDatasetFactory.from_delimited_files(path=(datastore, 'UI/05-11-2021_030406_UTC/210510COVID19MEXICO.csv'))\n",
    "df = ds.to_pandas_dataframe()\n",
    "\n",
    "print(df)"
   ]
  },
  {
   "cell_type": "markdown",
   "metadata": {
    "nteract": {
     "transient": {
      "deleting": false
     }
    }
   },
   "source": [
    "### Data Preprocessing\n",
    "\n",
    "#### Cleaning\n",
    "The objective of our project is to create a model that can get if a patient with COVID-19 will enter into an Intensive Care Unit or not.\n",
    "\n",
    "The objective variable `UCI` has a lot of values that are 97, 98, or 99, which means that we don't know if the person is or was in a Intensive Care Unit, we only need the values 1 and 2, which means that the patient was or wasn't in an Intensive Care Unit, respectively.\n",
    "\n",
    "So the next step is to trim our dataset by removing the rows that have 97, 98 or 99, leaving only 'Yes'/'No' for our objective variable."
   ]
  },
  {
   "cell_type": "code",
   "execution_count": 5,
   "metadata": {
    "gather": {
     "logged": 1620692788944
    },
    "jupyter": {
     "outputs_hidden": false,
     "source_hidden": false
    },
    "nteract": {
     "transient": {
      "deleting": false
     }
    }
   },
   "outputs": [
    {
     "name": "stdout",
     "output_type": "stream",
     "text": [
      "        FECHA_ACTUALIZACION ID_REGISTRO  ORIGEN  SECTOR  ENTIDAD_UM  SEXO  \\\n",
      "1                2021-05-10      z49a69       1      12          23     1   \n",
      "16               2021-05-10      z166d5       1      12           1     1   \n",
      "21               2021-05-10      z388cd       1      12          29     2   \n",
      "22               2021-05-10      z4533d       1      12          29     1   \n",
      "27               2021-05-10      z4494e       1      12           8     1   \n",
      "...                     ...         ...     ...     ...         ...   ...   \n",
      "6761081          2021-05-10      d56af0       1       4           1     2   \n",
      "6761089          2021-05-10      6baeb6       2      12           9     2   \n",
      "6761169          2021-05-10      b3c10a       1      12          23     1   \n",
      "6761171          2021-05-10      6fc6aa       2       9           9     2   \n",
      "6761178          2021-05-10      ca1c74       1      12          21     2   \n",
      "\n",
      "         ENTIDAD_NAC  ENTIDAD_RES  MUNICIPIO_RES  TIPO_PACIENTE  ...  \\\n",
      "1                 23           23              4              2  ...   \n",
      "16                 1            1              1              2  ...   \n",
      "21                15           21            117              2  ...   \n",
      "22                21           21            117              2  ...   \n",
      "27                 8            8             37              2  ...   \n",
      "...              ...          ...            ...            ...  ...   \n",
      "6761081            1            1              1              2  ...   \n",
      "6761089           15           15             33              2  ...   \n",
      "6761169           31           23              4              2  ...   \n",
      "6761171            9            9             12              2  ...   \n",
      "6761178            9           21            114              2  ...   \n",
      "\n",
      "        OTRO_CASO TOMA_MUESTRA_LAB RESULTADO_LAB  TOMA_MUESTRA_ANTIGENO  \\\n",
      "1               1                2            97                      2   \n",
      "16              2                1             1                      2   \n",
      "21              1                2            97                      2   \n",
      "22              2                2            97                      2   \n",
      "27              1                1             1                      2   \n",
      "...           ...              ...           ...                    ...   \n",
      "6761081         2                1             2                      1   \n",
      "6761089         2                1             2                      2   \n",
      "6761169         2                1             2                      2   \n",
      "6761171         2                2            97                      2   \n",
      "6761178         2                2            97                      1   \n",
      "\n",
      "         RESULTADO_ANTIGENO  CLASIFICACION_FINAL  MIGRANTE  PAIS_NACIONALIDAD  \\\n",
      "1                        97                    2        99             México   \n",
      "16                       97                    3        99             México   \n",
      "21                       97                    1        99             México   \n",
      "22                       97                    6        99             México   \n",
      "27                       97                    3        99             México   \n",
      "...                     ...                  ...       ...                ...   \n",
      "6761081                   2                    7        99             México   \n",
      "6761089                  97                    7        99             México   \n",
      "6761169                  97                    7        99             México   \n",
      "6761171                  97                    6        99             México   \n",
      "6761178                   2                    7        99             México   \n",
      "\n",
      "         PAIS_ORIGEN  UCI  \n",
      "1               97.0    1  \n",
      "16              97.0    2  \n",
      "21              97.0    2  \n",
      "22              97.0    2  \n",
      "27              97.0    2  \n",
      "...              ...  ...  \n",
      "6761081         97.0    2  \n",
      "6761089         97.0    2  \n",
      "6761169         97.0    2  \n",
      "6761171         97.0    1  \n",
      "6761178         97.0    2  \n",
      "\n",
      "[741395 rows x 40 columns]\n",
      "--------------------------------------\n",
      "Classes count\n",
      "col_0   count\n",
      "UCI          \n",
      "1       54923\n",
      "2      686472\n"
     ]
    }
   ],
   "source": [
    "arr_drop = [97,98,99]\n",
    "for element in arr_drop:\n",
    "    df.drop(df.loc[df['UCI']==element].index,inplace=True)\n",
    "\n",
    "print(df)\n",
    "print(\"--------------------------------------\")\n",
    "print(\"Classes count\")\n",
    "classes = pd.crosstab(index=df['UCI'],columns=\"count\")\n",
    "print(classes)\n"
   ]
  },
  {
   "cell_type": "markdown",
   "metadata": {
    "nteract": {
     "transient": {
      "deleting": false
     }
    }
   },
   "source": [
    "### Defining useful features\n",
    "As we defined in our task definition in the `README.md` file, we will use only the following features: `SEXO`, `EDAD`, `NEUMONIA`, `DIABETES`, `EPOC`, `ASMA`, `INMUSUPR`, `HIPERTENSION`, `OTRA_COM`, `CARDIOVASCULAR`, `OBESIDAD`, `RENAL_CRONICA`, `TABAQUISMO`, `RESULTADO_LAB`."
   ]
  },
  {
   "cell_type": "code",
   "execution_count": 6,
   "metadata": {
    "gather": {
     "logged": 1620692791799
    },
    "jupyter": {
     "outputs_hidden": false,
     "source_hidden": false
    },
    "nteract": {
     "transient": {
      "deleting": false
     }
    }
   },
   "outputs": [
    {
     "name": "stdout",
     "output_type": "stream",
     "text": [
      "         SEXO  EDAD  NEUMONIA  DIABETES  EPOC  ASMA  INMUSUPR  HIPERTENSION  \\\n",
      "1           1    66         1         1     2     2         2             1   \n",
      "16          1    32         1         1     2     2         2             1   \n",
      "21          2    12         1         1     2     2         2             2   \n",
      "22          1    11         2         1     2     2         2             2   \n",
      "27          1    49         2         2     2     2         2             2   \n",
      "...       ...   ...       ...       ...   ...   ...       ...           ...   \n",
      "6761081     2     0         2         2     2     2         2             2   \n",
      "6761089     2    49         1         2     2     2         2             2   \n",
      "6761169     1    60         1         1     2     2         2             1   \n",
      "6761171     2    54         1         2     2     2         2             1   \n",
      "6761178     2    37         2         2     2     2         2             2   \n",
      "\n",
      "         OTRA_COM  CARDIOVASCULAR  OBESIDAD  RENAL_CRONICA  TABAQUISMO  \\\n",
      "1               2               2         1              2           2   \n",
      "16              2               2         2              2           2   \n",
      "21              2               2         2              2           2   \n",
      "22              2               2         1              2           2   \n",
      "27              2               2         2              2           2   \n",
      "...           ...             ...       ...            ...         ...   \n",
      "6761081         2               2         2              2           2   \n",
      "6761089         2               2         2              2           2   \n",
      "6761169         2               2         2              2           2   \n",
      "6761171         2               2         2              2           2   \n",
      "6761178         2               2         2              2           2   \n",
      "\n",
      "         RESULTADO_LAB  UCI  \n",
      "1                   97    1  \n",
      "16                   1    2  \n",
      "21                  97    2  \n",
      "22                  97    2  \n",
      "27                   1    2  \n",
      "...                ...  ...  \n",
      "6761081              2    2  \n",
      "6761089              2    2  \n",
      "6761169              2    2  \n",
      "6761171             97    1  \n",
      "6761178             97    2  \n",
      "\n",
      "[741395 rows x 15 columns]\n"
     ]
    }
   ],
   "source": [
    "df = df[['SEXO', 'EDAD','NEUMONIA','DIABETES','EPOC','ASMA','INMUSUPR','HIPERTENSION','OTRA_COM','CARDIOVASCULAR','OBESIDAD','RENAL_CRONICA','TABAQUISMO','RESULTADO_LAB', 'UCI']]\n",
    "print(df)"
   ]
  },
  {
   "cell_type": "markdown",
   "metadata": {
    "nteract": {
     "transient": {
      "deleting": false
     }
    }
   },
   "source": [
    "#### Handling dataset class imbalance\n",
    "\n",
    "As we can see, the rows with 1 (Yes) in the `UCI` column are a lot less than the 2 (No). we can send the dataset to training like this, but we will get a \"Class balancing warning\" alert in Azure ML, so we are going to fix it.\n",
    "\n",
    "The next step in our data preprocessing is to balance the dataset. We will need the `imblearn` library that we installed before, and we will need to divide our dataframe in X and y to use the \"RandomUnderSampler\" method.\n",
    "\n",
    "`y` has only the column `UCI` column, and `X` the rest of the columns, as we already defined the features we wanted in the previous cell"
   ]
  },
  {
   "cell_type": "code",
   "execution_count": 7,
   "metadata": {
    "gather": {
     "logged": 1620692795996
    },
    "jupyter": {
     "outputs_hidden": false,
     "source_hidden": false
    },
    "nteract": {
     "transient": {
      "deleting": false
     }
    }
   },
   "outputs": [
    {
     "name": "stdout",
     "output_type": "stream",
     "text": [
      "        SEXO  EDAD  NEUMONIA  DIABETES  EPOC  ASMA  INMUSUPR  HIPERTENSION  \\\n",
      "0          1    66         1         1     2     2         2             1   \n",
      "1          2    60         1         1     2     2         2             2   \n",
      "2          1    80         1         1     2     2         2             1   \n",
      "3          1     5         1         2     2     2         2             2   \n",
      "4          2    29         1         2     2     2         2             1   \n",
      "...      ...   ...       ...       ...   ...   ...       ...           ...   \n",
      "109841     2    53         2         1     2     2         2             2   \n",
      "109842     2    41         1         2     2     2         2             2   \n",
      "109843     2    62         2         2     2     2         2             2   \n",
      "109844     2     0         1         2     2     2         2             2   \n",
      "109845     1    68         1         1     2     2         2             1   \n",
      "\n",
      "        OTRA_COM  CARDIOVASCULAR  OBESIDAD  RENAL_CRONICA  TABAQUISMO  \\\n",
      "0              2               2         1              2           2   \n",
      "1              2               2         2              2           2   \n",
      "2              2               2         1              2           2   \n",
      "3              2               2         2              2           2   \n",
      "4              2               2         2              2           2   \n",
      "...          ...             ...       ...            ...         ...   \n",
      "109841         2               2         1              2           2   \n",
      "109842         2               1         2              2           2   \n",
      "109843         2               2         1              2           2   \n",
      "109844         2               2         2              2           2   \n",
      "109845         2               2         2              1           2   \n",
      "\n",
      "        RESULTADO_LAB  \n",
      "0                  97  \n",
      "1                   1  \n",
      "2                   4  \n",
      "3                  97  \n",
      "4                  97  \n",
      "...               ...  \n",
      "109841              1  \n",
      "109842              2  \n",
      "109843             97  \n",
      "109844              2  \n",
      "109845              2  \n",
      "\n",
      "[109846 rows x 14 columns]\n",
      "-------\n",
      "0         1\n",
      "1         1\n",
      "2         1\n",
      "3         1\n",
      "4         1\n",
      "         ..\n",
      "109841    2\n",
      "109842    2\n",
      "109843    2\n",
      "109844    2\n",
      "109845    2\n",
      "Name: UCI, Length: 109846, dtype: int64\n"
     ]
    }
   ],
   "source": [
    "y = df['UCI']\n",
    "X = df.drop('UCI',1)\n",
    "\n",
    "rus = RandomUnderSampler(random_state = 42)\n",
    "X_resampled, y_resampled = rus.fit_resample(X,y)\n",
    "print(X_resampled)\n",
    "print(\"-------\")\n",
    "print(y_resampled)"
   ]
  },
  {
   "cell_type": "markdown",
   "metadata": {
    "nteract": {
     "transient": {
      "deleting": false
     }
    }
   },
   "source": [
    "### Train/test split\n",
    "\n",
    "Now that we have our balanced data, we will divide X and y between train and test"
   ]
  },
  {
   "cell_type": "code",
   "execution_count": 8,
   "metadata": {
    "gather": {
     "logged": 1620692799775
    },
    "jupyter": {
     "outputs_hidden": false,
     "source_hidden": false
    },
    "nteract": {
     "transient": {
      "deleting": false
     }
    }
   },
   "outputs": [
    {
     "name": "stdout",
     "output_type": "stream",
     "text": [
      "        SEXO  EDAD  NEUMONIA  DIABETES  EPOC  ASMA  INMUSUPR  HIPERTENSION  \\\n",
      "85908      2    71         2         2     2     2         1             1   \n",
      "92570      1    48         2         2     2     2         2             2   \n",
      "69039      2    58         1         2     2     2         2             2   \n",
      "33120      2    78         1         2     2     2         2             2   \n",
      "21247      2    53         1         2     2     2         2             1   \n",
      "...      ...   ...       ...       ...   ...   ...       ...           ...   \n",
      "54886      2    57         1         2     2     2         2             1   \n",
      "76820      2    86         1         2     2     2         2             2   \n",
      "103694     1    69         1         2     2     2         2             1   \n",
      "860        1    57         1         1     2     2         2             2   \n",
      "15795      2    61         1         2     2     2         2             1   \n",
      "\n",
      "        OTRA_COM  CARDIOVASCULAR  OBESIDAD  RENAL_CRONICA  TABAQUISMO  \\\n",
      "85908          2               2         2              2           2   \n",
      "92570          2               2         2              2           2   \n",
      "69039          2               2         2              2           2   \n",
      "33120          2               2         2              2           2   \n",
      "21247          2               2         2              2           2   \n",
      "...          ...             ...       ...            ...         ...   \n",
      "54886          2               2         1              2           2   \n",
      "76820          2               2         1              2           2   \n",
      "103694         2               2         1              2           2   \n",
      "860            2               2         2              2           2   \n",
      "15795          2               2         2              2           2   \n",
      "\n",
      "        RESULTADO_LAB  UCI  \n",
      "85908               1    2  \n",
      "92570              97    2  \n",
      "69039               1    2  \n",
      "33120               1    1  \n",
      "21247               2    1  \n",
      "...               ...  ...  \n",
      "54886               1    1  \n",
      "76820               1    2  \n",
      "103694              1    2  \n",
      "860                 2    1  \n",
      "15795               1    1  \n",
      "\n",
      "[87876 rows x 15 columns]\n",
      "Validating that we have balanced data for training.\n",
      "col_0  count\n",
      "UCI         \n",
      "1      43863\n",
      "2      44013\n"
     ]
    }
   ],
   "source": [
    "x_train, x_test, y_train, y_test = train_test_split(X_resampled,y_resampled,test_size = 0.2, random_state = 42)\n",
    "\n",
    "train_data = pd.concat([x_train,y_train],axis=1)\n",
    "\n",
    "print(train_data)\n",
    "\n",
    "print(\"Validating that we have balanced data for training.\")\n",
    "classes = pd.crosstab(index=train_data['UCI'],columns=\"count\")\n",
    "print(classes)"
   ]
  },
  {
   "cell_type": "markdown",
   "metadata": {
    "nteract": {
     "transient": {
      "deleting": false
     }
    }
   },
   "source": [
    "### Converting Train Data to Tabular Dataset\n",
    "Since the train data is in the pandas Dataframe format, we have to convert it to Tabular Dataset to be used in AutoML\n",
    "\n",
    "Warning: don't forget to drop the dataframe index, as the csv creates another index, and it will confuse our model."
   ]
  },
  {
   "cell_type": "code",
   "execution_count": 9,
   "metadata": {
    "gather": {
     "logged": 1620692805973
    },
    "jupyter": {
     "outputs_hidden": false,
     "source_hidden": false
    },
    "nteract": {
     "transient": {
      "deleting": false
     }
    }
   },
   "outputs": [
    {
     "name": "stdout",
     "output_type": "stream",
     "text": [
      "Uploading an estimated of 1 files\n",
      "Uploading data/traindata.csv\n",
      "Uploaded data/traindata.csv, 1 files out of an estimated total of 1\n",
      "Uploaded 1 files\n",
      "Successfully converted the dataset to TabularDataset format.\n",
      "<class 'azureml.data.tabular_dataset.TabularDataset'>\n"
     ]
    }
   ],
   "source": [
    "#Convert train_data (Which are in pandas DataFrame format) to TabularDataset format.\n",
    "try:\n",
    "    os.makedirs('./data', exist_ok=True)\n",
    "except OSError as error:\n",
    "    print('New directory cannot be created')\n",
    "    \n",
    "path = 'data/traindata.csv'\n",
    "train_data.to_csv(path, index= False)\n",
    "\n",
    "datastore = ws.get_default_datastore()\n",
    "datastore.upload(src_dir='data', target_path='data')\n",
    "\n",
    "train_data = TabularDatasetFactory.from_delimited_files(path=[(datastore, ('data/traindata.csv'))])\n",
    "print(\"Successfully converted the dataset to TabularDataset format.\")\n",
    "print(type(train_data))"
   ]
  },
  {
   "cell_type": "markdown",
   "metadata": {},
   "source": [
    "## AutoML Configuration\n",
    "\n",
    "This settings are for a classification problem with accuracy as the primary metric, we define a timeout of 30 minutes for the experiment, which is pretty standard, we put early stopping and concurrent iterations to make the training a little bit quicker.\n"
   ]
  },
  {
   "cell_type": "code",
   "execution_count": 11,
   "metadata": {
    "gather": {
     "logged": 1620692818641
    },
    "jupyter": {
     "outputs_hidden": false,
     "source_hidden": false
    },
    "nteract": {
     "transient": {
      "deleting": false
     }
    }
   },
   "outputs": [],
   "source": [
    "#Automl settings here\n",
    "automl_settings = {\n",
    "    \"experiment_timeout_minutes\": 30,\n",
    "    \"max_concurrent_iterations\": 5,\n",
    "    \"primary_metric\" : 'accuracy'\n",
    "}\n",
    "\n",
    "#Automl config here\n",
    "automl_config = AutoMLConfig(\n",
    "    compute_target=compute_target,\n",
    "    task = \"classification\",\n",
    "    training_data=train_data,\n",
    "    label_column_name='UCI',   \n",
    "    enable_early_stopping= True,\n",
    "    featurization= 'auto',\n",
    "    debug_log = \"automl_errors.log\",\n",
    "    **automl_settings\n",
    ")"
   ]
  },
  {
   "cell_type": "markdown",
   "metadata": {},
   "source": [
    "## Submit the experiment with RunDetails widget\n",
    "With the `RunDetails` widget we can see important outputs and when the run is completed.\n",
    "\n",
    "In this cell we submit the experiment, with `show_output = True` to see the run logs in real time"
   ]
  },
  {
   "cell_type": "code",
   "execution_count": 12,
   "metadata": {
    "gather": {
     "logged": 1620694176373
    },
    "jupyter": {
     "outputs_hidden": false,
     "source_hidden": false
    },
    "nteract": {
     "transient": {
      "deleting": false
     }
    }
   },
   "outputs": [
    {
     "name": "stdout",
     "output_type": "stream",
     "text": [
      "Submitting remote run.\n"
     ]
    },
    {
     "data": {
      "text/html": [
       "<table style=\"width:100%\"><tr><th>Experiment</th><th>Id</th><th>Type</th><th>Status</th><th>Details Page</th><th>Docs Page</th></tr><tr><td>automlcovid</td><td>AutoML_c9db7e69-7cee-41fd-8859-56cb273ff2f0</td><td>automl</td><td>NotStarted</td><td><a href=\"https://ml.azure.com/runs/AutoML_c9db7e69-7cee-41fd-8859-56cb273ff2f0?wsid=/subscriptions/6b4af8be-9931-443e-90f6-c4c34a1f9737/resourcegroups/aml-quickstarts-144503/workspaces/quick-starts-ws-144503&amp;tid=660b3398-b80e-49d2-bc5b-ac1dc93b5254\" target=\"_blank\" rel=\"noopener\">Link to Azure Machine Learning studio</a></td><td><a href=\"https://docs.microsoft.com/en-us/python/api/overview/azure/ml/intro?view=azure-ml-py\" target=\"_blank\" rel=\"noopener\">Link to Documentation</a></td></tr></table>"
      ],
      "text/plain": [
       "<IPython.core.display.HTML object>"
      ]
     },
     "metadata": {},
     "output_type": "display_data"
    },
    {
     "data": {
      "application/vnd.jupyter.widget-view+json": {
       "model_id": "1083dd5f6e6c4661b3e8540ed04d01b3",
       "version_major": 2,
       "version_minor": 0
      },
      "text/plain": [
       "_AutoMLWidget(widget_settings={'childWidgetDisplay': 'popup', 'send_telemetry': False, 'log_level': 'INFO', 's…"
      ]
     },
     "metadata": {},
     "output_type": "display_data"
    },
    {
     "data": {
      "application/aml.mini.widget.v1": "{\"status\": \"Completed\", \"workbench_run_details_uri\": \"https://ml.azure.com/runs/AutoML_c9db7e69-7cee-41fd-8859-56cb273ff2f0?wsid=/subscriptions/6b4af8be-9931-443e-90f6-c4c34a1f9737/resourcegroups/aml-quickstarts-144503/workspaces/quick-starts-ws-144503&tid=660b3398-b80e-49d2-bc5b-ac1dc93b5254\", \"run_id\": \"AutoML_c9db7e69-7cee-41fd-8859-56cb273ff2f0\", \"run_properties\": {\"run_id\": \"AutoML_c9db7e69-7cee-41fd-8859-56cb273ff2f0\", \"created_utc\": \"2021-05-11T03:13:48.84761Z\", \"properties\": {\"num_iterations\": \"1000\", \"training_type\": \"TrainFull\", \"acquisition_function\": \"EI\", \"primary_metric\": \"accuracy\", \"train_split\": \"0\", \"acquisition_parameter\": \"0\", \"num_cross_validation\": null, \"target\": \"cpu-cluster\", \"AMLSettingsJsonString\": \"{\\\"path\\\":null,\\\"name\\\":\\\"automlcovid\\\",\\\"subscription_id\\\":\\\"6b4af8be-9931-443e-90f6-c4c34a1f9737\\\",\\\"resource_group\\\":\\\"aml-quickstarts-144503\\\",\\\"workspace_name\\\":\\\"quick-starts-ws-144503\\\",\\\"region\\\":\\\"southcentralus\\\",\\\"compute_target\\\":\\\"cpu-cluster\\\",\\\"spark_service\\\":null,\\\"azure_service\\\":\\\"remote\\\",\\\"many_models\\\":false,\\\"pipeline_fetch_max_batch_size\\\":1,\\\"enable_batch_run\\\":false,\\\"enable_run_restructure\\\":false,\\\"start_auxiliary_runs_before_parent_complete\\\":false,\\\"enable_code_generation\\\":false,\\\"iterations\\\":1000,\\\"primary_metric\\\":\\\"accuracy\\\",\\\"task_type\\\":\\\"classification\\\",\\\"data_script\\\":null,\\\"test_size\\\":0.0,\\\"validation_size\\\":0.0,\\\"n_cross_validations\\\":null,\\\"y_min\\\":null,\\\"y_max\\\":null,\\\"num_classes\\\":null,\\\"featurization\\\":\\\"auto\\\",\\\"_ignore_package_version_incompatibilities\\\":false,\\\"is_timeseries\\\":false,\\\"max_cores_per_iteration\\\":1,\\\"max_concurrent_iterations\\\":5,\\\"iteration_timeout_minutes\\\":null,\\\"mem_in_mb\\\":null,\\\"enforce_time_on_windows\\\":false,\\\"experiment_timeout_minutes\\\":30,\\\"experiment_exit_score\\\":null,\\\"whitelist_models\\\":null,\\\"blacklist_algos\\\":[\\\"TensorFlowLinearClassifier\\\",\\\"TensorFlowDNN\\\"],\\\"supported_models\\\":[\\\"LightGBM\\\",\\\"GradientBoosting\\\",\\\"TensorFlowDNN\\\",\\\"SVM\\\",\\\"RandomForest\\\",\\\"SGD\\\",\\\"KNN\\\",\\\"ExtremeRandomTrees\\\",\\\"LogisticRegression\\\",\\\"DecisionTree\\\",\\\"AveragedPerceptronClassifier\\\",\\\"TensorFlowLinearClassifier\\\",\\\"MultinomialNaiveBayes\\\",\\\"BernoulliNaiveBayes\\\",\\\"LinearSVM\\\",\\\"XGBoostClassifier\\\"],\\\"private_models\\\":[],\\\"auto_blacklist\\\":true,\\\"blacklist_samples_reached\\\":false,\\\"exclude_nan_labels\\\":true,\\\"verbosity\\\":20,\\\"_debug_log\\\":\\\"azureml_automl.log\\\",\\\"show_warnings\\\":false,\\\"model_explainability\\\":true,\\\"service_url\\\":null,\\\"sdk_url\\\":null,\\\"sdk_packages\\\":null,\\\"enable_onnx_compatible_models\\\":false,\\\"enable_split_onnx_featurizer_estimator_models\\\":false,\\\"vm_type\\\":\\\"STANDARD_D16S_V3\\\",\\\"telemetry_verbosity\\\":20,\\\"send_telemetry\\\":true,\\\"enable_dnn\\\":false,\\\"scenario\\\":\\\"SDK-1.13.0\\\",\\\"environment_label\\\":null,\\\"save_mlflow\\\":false,\\\"force_text_dnn\\\":false,\\\"enable_feature_sweeping\\\":true,\\\"enable_early_stopping\\\":true,\\\"early_stopping_n_iters\\\":10,\\\"metrics\\\":null,\\\"enable_metric_confidence\\\":false,\\\"enable_ensembling\\\":true,\\\"enable_stack_ensembling\\\":true,\\\"ensemble_iterations\\\":15,\\\"enable_tf\\\":false,\\\"enable_subsampling\\\":null,\\\"subsample_seed\\\":null,\\\"enable_nimbusml\\\":false,\\\"enable_streaming\\\":false,\\\"force_streaming\\\":false,\\\"track_child_runs\\\":true,\\\"allowed_private_models\\\":[],\\\"label_column_name\\\":\\\"UCI\\\",\\\"weight_column_name\\\":null,\\\"cv_split_column_names\\\":null,\\\"enable_local_managed\\\":false,\\\"_local_managed_run_id\\\":null,\\\"cost_mode\\\":1,\\\"lag_length\\\":0,\\\"metric_operation\\\":\\\"maximize\\\",\\\"preprocess\\\":true}\", \"DataPrepJsonString\": \"{\\\\\\\"training_data\\\\\\\": {\\\\\\\"datasetId\\\\\\\": \\\\\\\"ef13a2d1-13b6-46f0-bdfd-4b1acbdb5a77\\\\\\\"}, \\\\\\\"datasets\\\\\\\": 0}\", \"EnableSubsampling\": null, \"runTemplate\": \"AutoML\", \"azureml.runsource\": \"automl\", \"display_task_type\": \"classification\", \"dependencies_versions\": \"{\\\"azureml-widgets\\\": \\\"1.28.0\\\", \\\"azureml-train\\\": \\\"1.28.0\\\", \\\"azureml-train-restclients-hyperdrive\\\": \\\"1.28.0\\\", \\\"azureml-train-core\\\": \\\"1.28.0\\\", \\\"azureml-train-automl\\\": \\\"1.28.0\\\", \\\"azureml-train-automl-runtime\\\": \\\"1.28.0\\\", \\\"azureml-train-automl-client\\\": \\\"1.28.0\\\", \\\"azureml-tensorboard\\\": \\\"1.27.0\\\", \\\"azureml-telemetry\\\": \\\"1.28.0\\\", \\\"azureml-sdk\\\": \\\"1.28.0\\\", \\\"azureml-samples\\\": \\\"0+unknown\\\", \\\"azureml-pipeline\\\": \\\"1.28.0\\\", \\\"azureml-pipeline-steps\\\": \\\"1.28.0\\\", \\\"azureml-pipeline-core\\\": \\\"1.28.0\\\", \\\"azureml-opendatasets\\\": \\\"1.27.0\\\", \\\"azureml-model-management-sdk\\\": \\\"1.0.1b6.post1\\\", \\\"azureml-mlflow\\\": \\\"1.27.0\\\", \\\"azureml-interpret\\\": \\\"1.28.0\\\", \\\"azureml-explain-model\\\": \\\"1.27.0\\\", \\\"azureml-defaults\\\": \\\"1.28.0\\\", \\\"azureml-dataset-runtime\\\": \\\"1.28.0\\\", \\\"azureml-dataprep\\\": \\\"2.15.0\\\", \\\"azureml-dataprep-rslex\\\": \\\"1.13.0\\\", \\\"azureml-dataprep-native\\\": \\\"33.0.0\\\", \\\"azureml-datadrift\\\": \\\"1.27.0\\\", \\\"azureml-core\\\": \\\"1.28.0\\\", \\\"azureml-contrib-services\\\": \\\"1.28.0\\\", \\\"azureml-contrib-server\\\": \\\"1.28.0\\\", \\\"azureml-contrib-reinforcementlearning\\\": \\\"1.27.0\\\", \\\"azureml-contrib-pipeline-steps\\\": \\\"1.28.0\\\", \\\"azureml-contrib-notebook\\\": \\\"1.28.0\\\", \\\"azureml-contrib-gbdt\\\": \\\"1.27.0\\\", \\\"azureml-contrib-fairness\\\": \\\"1.27.0\\\", \\\"azureml-contrib-dataset\\\": \\\"1.27.0\\\", \\\"azureml-cli-common\\\": \\\"1.27.0\\\", \\\"azureml-automl-runtime\\\": \\\"1.28.0.post1\\\", \\\"azureml-automl-dnn-nlp\\\": \\\"1.27.0\\\", \\\"azureml-automl-core\\\": \\\"1.28.0\\\", \\\"azureml-accel-models\\\": \\\"1.27.0\\\"}\", \"_aml_system_scenario_identification\": \"Remote.Parent\", \"ClientType\": \"SDK\", \"environment_cpu_name\": \"AzureML-AutoML\", \"environment_cpu_label\": \"prod\", \"environment_gpu_name\": \"AzureML-AutoML-GPU\", \"environment_gpu_label\": \"prod\", \"root_attribution\": \"automl\", \"attribution\": \"AutoML\", \"Orchestrator\": \"AutoML\", \"CancelUri\": \"https://southcentralus.api.azureml.ms/jasmine/v1.0/subscriptions/6b4af8be-9931-443e-90f6-c4c34a1f9737/resourceGroups/aml-quickstarts-144503/providers/Microsoft.MachineLearningServices/workspaces/quick-starts-ws-144503/experimentids/3a516b38-9153-4f68-a4c0-a121398fda99/cancel/AutoML_c9db7e69-7cee-41fd-8859-56cb273ff2f0\", \"ClientSdkVersion\": \"1.27.0.post1\", \"snapshotId\": \"00000000-0000-0000-0000-000000000000\", \"SetupRunId\": \"AutoML_c9db7e69-7cee-41fd-8859-56cb273ff2f0_setup\", \"SetupRunContainerId\": \"dcid.AutoML_c9db7e69-7cee-41fd-8859-56cb273ff2f0_setup\", \"FeaturizationRunJsonPath\": \"featurizer_container.json\", \"FeaturizationRunId\": \"AutoML_c9db7e69-7cee-41fd-8859-56cb273ff2f0_featurize\", \"ProblemInfoJsonString\": \"{\\\"dataset_num_categorical\\\": 0, \\\"is_sparse\\\": true, \\\"subsampling\\\": false, \\\"dataset_classes\\\": 2, \\\"dataset_features\\\": 38, \\\"dataset_samples\\\": 79088, \\\"single_frequency_class_detected\\\": false}\", \"ModelExplainRunId\": \"AutoML_c9db7e69-7cee-41fd-8859-56cb273ff2f0_ModelExplain\"}, \"tags\": {\"model_explain_run\": \"best_run\", \"_aml_system_azureml.automlComponent\": \"AutoML\", \"pipeline_id\": \"\", \"score\": \"\", \"predicted_cost\": \"\", \"fit_time\": \"\", \"training_percent\": \"\", \"iteration\": \"\", \"run_preprocessor\": \"\", \"run_algorithm\": \"\", \"dynamic_whitelisting_iterations\": \"<25>;<30>;<35>;\", \"automl_best_child_run_id\": \"AutoML_c9db7e69-7cee-41fd-8859-56cb273ff2f0_38\", \"model_explain_best_run_child_id\": \"AutoML_c9db7e69-7cee-41fd-8859-56cb273ff2f0_38\"}, \"end_time_utc\": \"2021-05-11T03:29:58.473611Z\", \"status\": \"Completed\", \"log_files\": {}, \"log_groups\": [], \"run_duration\": \"0:16:09\", \"run_number\": \"1\", \"run_queued_details\": {\"status\": \"Completed\", \"details\": null}}, \"child_runs\": [{\"run_id\": \"AutoML_c9db7e69-7cee-41fd-8859-56cb273ff2f0_0\", \"run_number\": 5, \"metric\": null, \"status\": \"Completed\", \"run_type\": \"azureml.scriptrun\", \"training_percent\": \"100\", \"start_time\": \"2021-05-11T03:19:09.543255Z\", \"end_time\": \"2021-05-11T03:20:44.741441Z\", \"created_time\": \"2021-05-11T03:17:07.450097Z\", \"created_time_dt\": \"2021-05-11T03:17:07.450097Z\", \"duration\": \"0:03:37\", \"iteration\": \"0\", \"goal\": \"accuracy_max\", \"run_name\": \"MaxAbsScaler, LightGBM\", \"run_properties\": \"copy=True\", \"primary_metric\": 0.64349112, \"best_metric\": 0.64349112}, {\"run_id\": \"AutoML_c9db7e69-7cee-41fd-8859-56cb273ff2f0_3\", \"run_number\": 6, \"metric\": null, \"status\": \"Completed\", \"run_type\": \"azureml.scriptrun\", \"training_percent\": \"100\", \"start_time\": \"2021-05-11T03:17:21.468501Z\", \"end_time\": \"2021-05-11T03:18:02.960883Z\", \"created_time\": \"2021-05-11T03:17:07.473623Z\", \"created_time_dt\": \"2021-05-11T03:17:07.473623Z\", \"duration\": \"0:00:55\", \"iteration\": \"3\", \"goal\": \"accuracy_max\", \"run_name\": \"MaxAbsScaler, RandomForest\", \"run_properties\": \"copy=True\", \"primary_metric\": 0.61106054, \"best_metric\": 0.64474283}, {\"run_id\": \"AutoML_c9db7e69-7cee-41fd-8859-56cb273ff2f0_4\", \"run_number\": 7, \"metric\": null, \"status\": \"Completed\", \"run_type\": \"azureml.scriptrun\", \"training_percent\": \"100\", \"start_time\": \"2021-05-11T03:18:18.134249Z\", \"end_time\": \"2021-05-11T03:18:59.383875Z\", \"created_time\": \"2021-05-11T03:17:07.491471Z\", \"created_time_dt\": \"2021-05-11T03:17:07.491471Z\", \"duration\": \"0:01:51\", \"iteration\": \"4\", \"goal\": \"accuracy_max\", \"run_name\": \"MaxAbsScaler, RandomForest\", \"run_properties\": \"copy=True\", \"primary_metric\": 0.63700501, \"best_metric\": 0.64474283}, {\"run_id\": \"AutoML_c9db7e69-7cee-41fd-8859-56cb273ff2f0_1\", \"run_number\": 8, \"metric\": null, \"status\": \"Completed\", \"run_type\": \"azureml.scriptrun\", \"training_percent\": \"100\", \"start_time\": \"2021-05-11T03:19:10.117386Z\", \"end_time\": \"2021-05-11T03:20:50.15359Z\", \"created_time\": \"2021-05-11T03:17:07.630355Z\", \"created_time_dt\": \"2021-05-11T03:17:07.630355Z\", \"duration\": \"0:03:42\", \"iteration\": \"1\", \"goal\": \"accuracy_max\", \"run_name\": \"MaxAbsScaler, XGBoostClassifier\", \"run_properties\": \"copy=True\", \"primary_metric\": 0.64474283, \"best_metric\": 0.64474283}, {\"run_id\": \"AutoML_c9db7e69-7cee-41fd-8859-56cb273ff2f0_2\", \"run_number\": 9, \"metric\": null, \"status\": \"Completed\", \"run_type\": \"azureml.scriptrun\", \"training_percent\": \"100\", \"start_time\": \"2021-05-11T03:19:10.417328Z\", \"end_time\": \"2021-05-11T03:20:49.819054Z\", \"created_time\": \"2021-05-11T03:17:07.83058Z\", \"created_time_dt\": \"2021-05-11T03:17:07.83058Z\", \"duration\": \"0:03:41\", \"iteration\": \"2\", \"goal\": \"accuracy_max\", \"run_name\": \"MaxAbsScaler, RandomForest\", \"run_properties\": \"copy=True\", \"primary_metric\": 0.63563951, \"best_metric\": 0.64474283}, {\"run_id\": \"AutoML_c9db7e69-7cee-41fd-8859-56cb273ff2f0_5\", \"run_number\": 10, \"metric\": null, \"status\": \"Completed\", \"run_type\": \"azureml.scriptrun\", \"training_percent\": \"100\", \"start_time\": \"2021-05-11T03:19:15.442719Z\", \"end_time\": \"2021-05-11T03:19:57.842771Z\", \"created_time\": \"2021-05-11T03:18:06.266272Z\", \"created_time_dt\": \"2021-05-11T03:18:06.266272Z\", \"duration\": \"0:01:51\", \"iteration\": \"5\", \"goal\": \"accuracy_max\", \"run_name\": \"MaxAbsScaler, RandomForest\", \"run_properties\": \"copy=True\", \"primary_metric\": 0.61731907, \"best_metric\": 0.64474283}, {\"run_id\": \"AutoML_c9db7e69-7cee-41fd-8859-56cb273ff2f0_6\", \"run_number\": 11, \"metric\": null, \"status\": \"Completed\", \"run_type\": \"azureml.scriptrun\", \"training_percent\": \"100\", \"start_time\": \"2021-05-11T03:20:14.875322Z\", \"end_time\": \"2021-05-11T03:21:04.23428Z\", \"created_time\": \"2021-05-11T03:19:02.378516Z\", \"created_time_dt\": \"2021-05-11T03:19:02.378516Z\", \"duration\": \"0:02:01\", \"iteration\": \"6\", \"goal\": \"accuracy_max\", \"run_name\": \"SparseNormalizer, XGBoostClassifier\", \"run_properties\": \"<azureml.automl.runtime.shared.model_wrappers.SparseNormalizer object at 0x7f5b8079fb70\", \"primary_metric\": 0.64326354, \"best_metric\": 0.64474283}, {\"run_id\": \"AutoML_c9db7e69-7cee-41fd-8859-56cb273ff2f0_7\", \"run_number\": 12, \"metric\": null, \"status\": \"Completed\", \"run_type\": \"azureml.scriptrun\", \"training_percent\": \"100\", \"start_time\": \"2021-05-11T03:21:03.223698Z\", \"end_time\": \"2021-05-11T03:21:52.932138Z\", \"created_time\": \"2021-05-11T03:20:00.499241Z\", \"created_time_dt\": \"2021-05-11T03:20:00.499241Z\", \"duration\": \"0:01:52\", \"iteration\": \"7\", \"goal\": \"accuracy_max\", \"run_name\": \"SparseNormalizer, XGBoostClassifier\", \"run_properties\": \"<azureml.automl.runtime.shared.model_wrappers.SparseNormalizer object at 0x7f86b211a0b8\", \"primary_metric\": 0.64326354, \"best_metric\": 0.64474283}, {\"run_id\": \"AutoML_c9db7e69-7cee-41fd-8859-56cb273ff2f0_8\", \"run_number\": 13, \"metric\": null, \"status\": \"Completed\", \"run_type\": \"azureml.scriptrun\", \"training_percent\": \"100\", \"start_time\": \"2021-05-11T03:21:05.461554Z\", \"end_time\": \"2021-05-11T03:22:01.896911Z\", \"created_time\": \"2021-05-11T03:20:46.726964Z\", \"created_time_dt\": \"2021-05-11T03:20:46.726964Z\", \"duration\": \"0:01:15\", \"iteration\": \"8\", \"goal\": \"accuracy_max\", \"run_name\": \"SparseNormalizer, XGBoostClassifier\", \"run_properties\": \"<azureml.automl.runtime.shared.model_wrappers.SparseNormalizer object at 0x7fe39f5daeb8\", \"primary_metric\": 0.64314975, \"best_metric\": 0.64474283}, {\"run_id\": \"AutoML_c9db7e69-7cee-41fd-8859-56cb273ff2f0_9\", \"run_number\": 14, \"metric\": null, \"status\": \"Completed\", \"run_type\": \"azureml.scriptrun\", \"training_percent\": \"100\", \"start_time\": \"2021-05-11T03:21:05.581141Z\", \"end_time\": \"2021-05-11T03:21:56.136962Z\", \"created_time\": \"2021-05-11T03:20:51.707847Z\", \"created_time_dt\": \"2021-05-11T03:20:51.707847Z\", \"duration\": \"0:01:04\", \"iteration\": \"9\", \"goal\": \"accuracy_max\", \"run_name\": \"SparseNormalizer, XGBoostClassifier\", \"run_properties\": \"<azureml.automl.runtime.shared.model_wrappers.SparseNormalizer object at 0x7f5e815a4b00\", \"primary_metric\": 0.64326354, \"best_metric\": 0.64474283}, {\"run_id\": \"AutoML_c9db7e69-7cee-41fd-8859-56cb273ff2f0_10\", \"run_number\": 15, \"metric\": null, \"status\": \"Completed\", \"run_type\": \"azureml.scriptrun\", \"training_percent\": \"100\", \"start_time\": \"2021-05-11T03:21:17.272694Z\", \"end_time\": \"2021-05-11T03:22:01.567483Z\", \"created_time\": \"2021-05-11T03:20:57.945411Z\", \"created_time_dt\": \"2021-05-11T03:20:57.945411Z\", \"duration\": \"0:01:03\", \"iteration\": \"10\", \"goal\": \"accuracy_max\", \"run_name\": \"SparseNormalizer, XGBoostClassifier\", \"run_properties\": \"<azureml.automl.runtime.shared.model_wrappers.SparseNormalizer object at 0x7ffad9481d30\", \"primary_metric\": 0.64326354, \"best_metric\": 0.64474283}, {\"run_id\": \"AutoML_c9db7e69-7cee-41fd-8859-56cb273ff2f0_11\", \"run_number\": 16, \"metric\": null, \"status\": \"Completed\", \"run_type\": \"azureml.scriptrun\", \"training_percent\": \"100\", \"start_time\": \"2021-05-11T03:22:09.128268Z\", \"end_time\": \"2021-05-11T03:22:52.574446Z\", \"created_time\": \"2021-05-11T03:21:06.088044Z\", \"created_time_dt\": \"2021-05-11T03:21:06.088044Z\", \"duration\": \"0:01:46\", \"iteration\": \"11\", \"goal\": \"accuracy_max\", \"run_name\": \"SparseNormalizer, XGBoostClassifier\", \"run_properties\": \"<azureml.automl.runtime.shared.model_wrappers.SparseNormalizer object at 0x7f4b15247e10\", \"primary_metric\": 0.63416022, \"best_metric\": 0.64474283}, {\"run_id\": \"AutoML_c9db7e69-7cee-41fd-8859-56cb273ff2f0_12\", \"run_number\": 17, \"metric\": null, \"status\": \"Completed\", \"run_type\": \"azureml.scriptrun\", \"training_percent\": \"100\", \"start_time\": \"2021-05-11T03:22:12.458844Z\", \"end_time\": \"2021-05-11T03:22:59.93018Z\", \"created_time\": \"2021-05-11T03:21:55.273735Z\", \"created_time_dt\": \"2021-05-11T03:21:55.273735Z\", \"duration\": \"0:01:04\", \"iteration\": \"12\", \"goal\": \"accuracy_max\", \"run_name\": \"MaxAbsScaler, RandomForest\", \"run_properties\": \"copy=True\", \"primary_metric\": 0.62687756, \"best_metric\": 0.64474283}, {\"run_id\": \"AutoML_c9db7e69-7cee-41fd-8859-56cb273ff2f0_13\", \"run_number\": 18, \"metric\": null, \"status\": \"Completed\", \"run_type\": \"azureml.scriptrun\", \"training_percent\": \"100\", \"start_time\": \"2021-05-11T03:22:14.964673Z\", \"end_time\": \"2021-05-11T03:22:58.89147Z\", \"created_time\": \"2021-05-11T03:21:58.086376Z\", \"created_time_dt\": \"2021-05-11T03:21:58.086376Z\", \"duration\": \"0:01:00\", \"iteration\": \"13\", \"goal\": \"accuracy_max\", \"run_name\": \"MaxAbsScaler, LogisticRegression\", \"run_properties\": \"copy=True\", \"primary_metric\": 0.63017751, \"best_metric\": 0.64474283}, {\"run_id\": \"AutoML_c9db7e69-7cee-41fd-8859-56cb273ff2f0_14\", \"run_number\": 19, \"metric\": null, \"status\": \"Completed\", \"run_type\": \"azureml.scriptrun\", \"training_percent\": \"100\", \"start_time\": \"2021-05-11T03:22:18.085332Z\", \"end_time\": \"2021-05-11T03:23:02.181949Z\", \"created_time\": \"2021-05-11T03:22:03.292022Z\", \"created_time_dt\": \"2021-05-11T03:22:03.292022Z\", \"duration\": \"0:00:58\", \"iteration\": \"14\", \"goal\": \"accuracy_max\", \"run_name\": \"MaxAbsScaler, LogisticRegression\", \"run_properties\": \"copy=True\", \"primary_metric\": 0.63017751, \"best_metric\": 0.64474283}, {\"run_id\": \"AutoML_c9db7e69-7cee-41fd-8859-56cb273ff2f0_15\", \"run_number\": 20, \"metric\": null, \"status\": \"Completed\", \"run_type\": \"azureml.scriptrun\", \"training_percent\": \"100\", \"start_time\": \"2021-05-11T03:23:09.403185Z\", \"end_time\": \"2021-05-11T03:24:22.860936Z\", \"created_time\": \"2021-05-11T03:22:06.496709Z\", \"created_time_dt\": \"2021-05-11T03:22:06.496709Z\", \"duration\": \"0:02:16\", \"iteration\": \"15\", \"goal\": \"accuracy_max\", \"run_name\": \"MaxAbsScaler, ExtremeRandomTrees\", \"run_properties\": \"copy=True\", \"primary_metric\": 0.62756031, \"best_metric\": 0.64474283}, {\"run_id\": \"AutoML_c9db7e69-7cee-41fd-8859-56cb273ff2f0_16\", \"run_number\": 21, \"metric\": null, \"status\": \"Completed\", \"run_type\": \"azureml.scriptrun\", \"training_percent\": \"100\", \"start_time\": \"2021-05-11T03:23:15.461444Z\", \"end_time\": \"2021-05-11T03:23:56.415039Z\", \"created_time\": \"2021-05-11T03:22:54.460457Z\", \"created_time_dt\": \"2021-05-11T03:22:54.460457Z\", \"duration\": \"0:01:01\", \"iteration\": \"16\", \"goal\": \"accuracy_max\", \"run_name\": \"MaxAbsScaler, LightGBM\", \"run_properties\": \"copy=True\", \"primary_metric\": 0.62733273, \"best_metric\": 0.64474283}, {\"run_id\": \"AutoML_c9db7e69-7cee-41fd-8859-56cb273ff2f0_17\", \"run_number\": 22, \"metric\": null, \"status\": \"Completed\", \"run_type\": \"azureml.scriptrun\", \"training_percent\": \"100\", \"start_time\": \"2021-05-11T03:23:15.632438Z\", \"end_time\": \"2021-05-11T03:23:57.626374Z\", \"created_time\": \"2021-05-11T03:23:00.796288Z\", \"created_time_dt\": \"2021-05-11T03:23:00.796288Z\", \"duration\": \"0:00:56\", \"iteration\": \"17\", \"goal\": \"accuracy_max\", \"run_name\": \"MaxAbsScaler, LightGBM\", \"run_properties\": \"copy=True\", \"primary_metric\": 0.64212563, \"best_metric\": 0.64474283}, {\"run_id\": \"AutoML_c9db7e69-7cee-41fd-8859-56cb273ff2f0_18\", \"run_number\": 23, \"metric\": null, \"status\": \"Completed\", \"run_type\": \"azureml.scriptrun\", \"training_percent\": \"100\", \"start_time\": \"2021-05-11T03:24:13.21197Z\", \"end_time\": \"2021-05-11T03:24:52.217254Z\", \"created_time\": \"2021-05-11T03:23:04.05518Z\", \"created_time_dt\": \"2021-05-11T03:23:04.05518Z\", \"duration\": \"0:01:48\", \"iteration\": \"18\", \"goal\": \"accuracy_max\", \"run_name\": \"MaxAbsScaler, LightGBM\", \"run_properties\": \"copy=True\", \"primary_metric\": 0.62778789, \"best_metric\": 0.64474283}, {\"run_id\": \"AutoML_c9db7e69-7cee-41fd-8859-56cb273ff2f0_19\", \"run_number\": 24, \"metric\": null, \"status\": \"Completed\", \"run_type\": \"azureml.scriptrun\", \"training_percent\": \"100\", \"start_time\": \"2021-05-11T03:23:18.850953Z\", \"end_time\": \"2021-05-11T03:24:37.599789Z\", \"created_time\": \"2021-05-11T03:23:04.061261Z\", \"created_time_dt\": \"2021-05-11T03:23:04.061261Z\", \"duration\": \"0:01:33\", \"iteration\": \"19\", \"goal\": \"accuracy_max\", \"run_name\": \"MaxAbsScaler, ExtremeRandomTrees\", \"run_properties\": \"copy=True\", \"primary_metric\": 0.62687756, \"best_metric\": 0.64474283}, {\"run_id\": \"AutoML_c9db7e69-7cee-41fd-8859-56cb273ff2f0_20\", \"run_number\": 25, \"metric\": null, \"status\": \"Completed\", \"run_type\": \"azureml.scriptrun\", \"training_percent\": \"100\", \"start_time\": \"2021-05-11T03:24:13.136498Z\", \"end_time\": \"2021-05-11T03:24:57.477232Z\", \"created_time\": \"2021-05-11T03:23:58.273577Z\", \"created_time_dt\": \"2021-05-11T03:23:58.273577Z\", \"duration\": \"0:00:59\", \"iteration\": \"20\", \"goal\": \"accuracy_max\", \"run_name\": \"SparseNormalizer, LightGBM\", \"run_properties\": \"<azureml.automl.runtime.shared.model_wrappers.SparseNormalizer object at 0x7fac3440d978\", \"primary_metric\": 0.6276741, \"best_metric\": 0.64474283}, {\"run_id\": \"AutoML_c9db7e69-7cee-41fd-8859-56cb273ff2f0_21\", \"run_number\": 26, \"metric\": null, \"status\": \"Completed\", \"run_type\": \"azureml.scriptrun\", \"training_percent\": \"100\", \"start_time\": \"2021-05-11T03:24:38.521273Z\", \"end_time\": \"2021-05-11T03:25:18.394155Z\", \"created_time\": \"2021-05-11T03:24:01.524112Z\", \"created_time_dt\": \"2021-05-11T03:24:01.524112Z\", \"duration\": \"0:01:16\", \"iteration\": \"21\", \"goal\": \"accuracy_max\", \"run_name\": \"StandardScalerWrapper, LightGBM\", \"run_properties\": \"<azureml.automl.runtime.shared.model_wrappers.StandardScalerWrapper object at 0x7fbc61de3e80\", \"primary_metric\": 0.62471552, \"best_metric\": 0.64474283}, {\"run_id\": \"AutoML_c9db7e69-7cee-41fd-8859-56cb273ff2f0_22\", \"run_number\": 27, \"metric\": null, \"status\": \"Completed\", \"run_type\": \"azureml.scriptrun\", \"training_percent\": \"100\", \"start_time\": \"2021-05-11T03:24:52.60651Z\", \"end_time\": \"2021-05-11T03:25:35.528678Z\", \"created_time\": \"2021-05-11T03:24:24.6526Z\", \"created_time_dt\": \"2021-05-11T03:24:24.6526Z\", \"duration\": \"0:01:10\", \"iteration\": \"22\", \"goal\": \"accuracy_max\", \"run_name\": \"MaxAbsScaler, LightGBM\", \"run_properties\": \"copy=True\", \"primary_metric\": 0.62812927, \"best_metric\": 0.64474283}, {\"run_id\": \"AutoML_c9db7e69-7cee-41fd-8859-56cb273ff2f0_23\", \"run_number\": 28, \"metric\": null, \"status\": \"Completed\", \"run_type\": \"azureml.scriptrun\", \"training_percent\": \"100\", \"start_time\": \"2021-05-11T03:25:07.598786Z\", \"end_time\": \"2021-05-11T03:25:51.420884Z\", \"created_time\": \"2021-05-11T03:24:39.391968Z\", \"created_time_dt\": \"2021-05-11T03:24:39.391968Z\", \"duration\": \"0:01:12\", \"iteration\": \"23\", \"goal\": \"accuracy_max\", \"run_name\": \"StandardScalerWrapper, LightGBM\", \"run_properties\": \"<azureml.automl.runtime.shared.model_wrappers.StandardScalerWrapper object at 0x7fa86c44e780\", \"primary_metric\": 0.6290396, \"best_metric\": 0.64474283}, {\"run_id\": \"AutoML_c9db7e69-7cee-41fd-8859-56cb273ff2f0_24\", \"run_number\": 29, \"metric\": null, \"status\": \"Completed\", \"run_type\": \"azureml.scriptrun\", \"training_percent\": \"100\", \"start_time\": \"2021-05-11T03:25:13.614431Z\", \"end_time\": \"2021-05-11T03:25:55.089835Z\", \"created_time\": \"2021-05-11T03:24:53.980707Z\", \"created_time_dt\": \"2021-05-11T03:24:53.980707Z\", \"duration\": \"0:01:01\", \"iteration\": \"24\", \"goal\": \"accuracy_max\", \"run_name\": \"MaxAbsScaler, LightGBM\", \"run_properties\": \"copy=True\", \"primary_metric\": 0.63222576, \"best_metric\": 0.64474283}, {\"run_id\": \"AutoML_c9db7e69-7cee-41fd-8859-56cb273ff2f0_25\", \"run_number\": 30, \"metric\": null, \"status\": \"Completed\", \"run_type\": \"azureml.scriptrun\", \"training_percent\": \"100\", \"start_time\": \"2021-05-11T03:25:33.83289Z\", \"end_time\": \"2021-05-11T03:26:14.403149Z\", \"created_time\": \"2021-05-11T03:25:00.343363Z\", \"created_time_dt\": \"2021-05-11T03:25:00.343363Z\", \"duration\": \"0:01:14\", \"iteration\": \"25\", \"goal\": \"accuracy_max\", \"run_name\": \"StandardScalerWrapper, XGBoostClassifier\", \"run_properties\": \"<azureml.automl.runtime.shared.model_wrappers.StandardScalerWrapper object at 0x7f5ded7ab9b0\", \"primary_metric\": 0.50091033, \"best_metric\": 0.64474283}, {\"run_id\": \"AutoML_c9db7e69-7cee-41fd-8859-56cb273ff2f0_26\", \"run_number\": 31, \"metric\": null, \"status\": \"Completed\", \"run_type\": \"azureml.scriptrun\", \"training_percent\": \"100\", \"start_time\": \"2021-05-11T03:25:50.06018Z\", \"end_time\": \"2021-05-11T03:26:35.891997Z\", \"created_time\": \"2021-05-11T03:25:20.175159Z\", \"created_time_dt\": \"2021-05-11T03:25:20.175159Z\", \"duration\": \"0:01:15\", \"iteration\": \"26\", \"goal\": \"accuracy_max\", \"run_name\": \"MaxAbsScaler, ExtremeRandomTrees\", \"run_properties\": \"copy=True\", \"primary_metric\": 0.62687756, \"best_metric\": 0.64474283}, {\"run_id\": \"AutoML_c9db7e69-7cee-41fd-8859-56cb273ff2f0_27\", \"run_number\": 32, \"metric\": null, \"status\": \"Completed\", \"run_type\": \"azureml.scriptrun\", \"training_percent\": \"100\", \"start_time\": \"2021-05-11T03:26:08.218562Z\", \"end_time\": \"2021-05-11T03:26:49.699752Z\", \"created_time\": \"2021-05-11T03:25:37.540604Z\", \"created_time_dt\": \"2021-05-11T03:25:37.540604Z\", \"duration\": \"0:01:12\", \"iteration\": \"27\", \"goal\": \"accuracy_max\", \"run_name\": \"StandardScalerWrapper, LightGBM\", \"run_properties\": \"<azureml.automl.runtime.shared.model_wrappers.StandardScalerWrapper object at 0x7f0396519080\", \"primary_metric\": 0.62858443, \"best_metric\": 0.64474283}, {\"run_id\": \"AutoML_c9db7e69-7cee-41fd-8859-56cb273ff2f0_28\", \"run_number\": 33, \"metric\": null, \"status\": \"Completed\", \"run_type\": \"azureml.scriptrun\", \"training_percent\": \"100\", \"start_time\": \"2021-05-11T03:26:11.100412Z\", \"end_time\": \"2021-05-11T03:26:55.582398Z\", \"created_time\": \"2021-05-11T03:25:53.288673Z\", \"created_time_dt\": \"2021-05-11T03:25:53.288673Z\", \"duration\": \"0:01:02\", \"iteration\": \"28\", \"goal\": \"accuracy_max\", \"run_name\": \"StandardScalerWrapper, XGBoostClassifier\", \"run_properties\": \"<azureml.automl.runtime.shared.model_wrappers.StandardScalerWrapper object at 0x7f9836619160\", \"primary_metric\": 0.6398498, \"best_metric\": 0.64474283}, {\"run_id\": \"AutoML_c9db7e69-7cee-41fd-8859-56cb273ff2f0_29\", \"run_number\": 34, \"metric\": null, \"status\": \"Completed\", \"run_type\": \"azureml.scriptrun\", \"training_percent\": \"100\", \"start_time\": \"2021-05-11T03:26:29.303446Z\", \"end_time\": \"2021-05-11T03:27:15.583783Z\", \"created_time\": \"2021-05-11T03:25:56.942557Z\", \"created_time_dt\": \"2021-05-11T03:25:56.942557Z\", \"duration\": \"0:01:18\", \"iteration\": \"29\", \"goal\": \"accuracy_max\", \"run_name\": \"MaxAbsScaler, RandomForest\", \"run_properties\": \"copy=True\", \"primary_metric\": 0.62175694, \"best_metric\": 0.64474283}, {\"run_id\": \"AutoML_c9db7e69-7cee-41fd-8859-56cb273ff2f0_30\", \"run_number\": 35, \"metric\": null, \"status\": \"Completed\", \"run_type\": \"azureml.scriptrun\", \"training_percent\": \"100\", \"start_time\": \"2021-05-11T03:26:53.533437Z\", \"end_time\": \"2021-05-11T03:27:39.990773Z\", \"created_time\": \"2021-05-11T03:26:17.293278Z\", \"created_time_dt\": \"2021-05-11T03:26:17.293278Z\", \"duration\": \"0:01:22\", \"iteration\": \"30\", \"goal\": \"accuracy_max\", \"run_name\": \"StandardScalerWrapper, XGBoostClassifier\", \"run_properties\": \"<azureml.automl.runtime.shared.model_wrappers.StandardScalerWrapper object at 0x7ff3c1ba1320\", \"primary_metric\": 0.63859809, \"best_metric\": 0.64474283}, {\"run_id\": \"AutoML_c9db7e69-7cee-41fd-8859-56cb273ff2f0_31\", \"run_number\": 36, \"metric\": null, \"status\": \"Completed\", \"run_type\": \"azureml.scriptrun\", \"training_percent\": \"100\", \"start_time\": \"2021-05-11T03:27:05.534981Z\", \"end_time\": \"2021-05-11T03:27:48.750739Z\", \"created_time\": \"2021-05-11T03:26:38.15265Z\", \"created_time_dt\": \"2021-05-11T03:26:38.15265Z\", \"duration\": \"0:01:10\", \"iteration\": \"31\", \"goal\": \"accuracy_max\", \"run_name\": \"SparseNormalizer, XGBoostClassifier\", \"run_properties\": \"<azureml.automl.runtime.shared.model_wrappers.SparseNormalizer object at 0x7f0744f76eb8\", \"primary_metric\": 0.64303596, \"best_metric\": 0.64474283}, {\"run_id\": \"AutoML_c9db7e69-7cee-41fd-8859-56cb273ff2f0_32\", \"run_number\": 37, \"metric\": null, \"status\": \"Completed\", \"run_type\": \"azureml.scriptrun\", \"training_percent\": \"100\", \"start_time\": \"2021-05-11T03:27:11.74636Z\", \"end_time\": \"2021-05-11T03:27:57.611038Z\", \"created_time\": \"2021-05-11T03:26:51.58108Z\", \"created_time_dt\": \"2021-05-11T03:26:51.58108Z\", \"duration\": \"0:01:06\", \"iteration\": \"32\", \"goal\": \"accuracy_max\", \"run_name\": \"MaxAbsScaler, LightGBM\", \"run_properties\": \"copy=True\", \"primary_metric\": 0.62926718, \"best_metric\": 0.64474283}, {\"run_id\": \"AutoML_c9db7e69-7cee-41fd-8859-56cb273ff2f0_33\", \"run_number\": 38, \"metric\": null, \"status\": \"Completed\", \"run_type\": \"azureml.scriptrun\", \"training_percent\": \"100\", \"start_time\": \"2021-05-11T03:27:32.707061Z\", \"end_time\": \"2021-05-11T03:28:18.335331Z\", \"created_time\": \"2021-05-11T03:26:57.376127Z\", \"created_time_dt\": \"2021-05-11T03:26:57.376127Z\", \"duration\": \"0:01:20\", \"iteration\": \"33\", \"goal\": \"accuracy_max\", \"run_name\": \"StandardScalerWrapper, XGBoostClassifier\", \"run_properties\": \"<azureml.automl.runtime.shared.model_wrappers.StandardScalerWrapper object at 0x7f02977d5518\", \"primary_metric\": 0.64212563, \"best_metric\": 0.64474283}, {\"run_id\": \"AutoML_c9db7e69-7cee-41fd-8859-56cb273ff2f0_34\", \"run_number\": 39, \"metric\": null, \"status\": \"Canceled\", \"run_type\": \"azureml.scriptrun\", \"training_percent\": \"100\", \"start_time\": \"2021-05-11T03:27:57.1137Z\", \"end_time\": \"2021-05-11T03:28:22.318511Z\", \"created_time\": \"2021-05-11T03:27:17.515372Z\", \"created_time_dt\": \"2021-05-11T03:27:17.515372Z\", \"duration\": \"0:01:04\", \"iteration\": \"34\", \"goal\": \"accuracy_max\", \"run_name\": \"SparseNormalizer, XGBoostClassifier\", \"run_properties\": \"<azureml.automl.runtime.shared.model_wrappers.SparseNormalizer object at 0x7fbeb13c7c18\", \"primary_metric\": 0.64098771, \"best_metric\": 0.64474283}, {\"run_id\": \"AutoML_c9db7e69-7cee-41fd-8859-56cb273ff2f0_35\", \"run_number\": 40, \"metric\": null, \"status\": \"Canceled\", \"run_type\": \"azureml.scriptrun\", \"training_percent\": \"100\", \"start_time\": \"2021-05-11T03:28:02.004197Z\", \"end_time\": \"2021-05-11T03:28:22.289339Z\", \"created_time\": \"2021-05-11T03:27:42.857553Z\", \"created_time_dt\": \"2021-05-11T03:27:42.857553Z\", \"duration\": \"0:00:39\", \"iteration\": \"35\", \"goal\": null, \"run_name\": \"TruncatedSVDWrapper, XGBoostClassifier\", \"run_properties\": null}, {\"run_id\": \"AutoML_c9db7e69-7cee-41fd-8859-56cb273ff2f0_36\", \"run_number\": 41, \"metric\": null, \"status\": \"Canceled\", \"run_type\": \"azureml.scriptrun\", \"training_percent\": \"100\", \"start_time\": \"2021-05-11T03:28:13.124388Z\", \"end_time\": \"2021-05-11T03:28:22.298519Z\", \"created_time\": \"2021-05-11T03:27:50.56196Z\", \"created_time_dt\": \"2021-05-11T03:27:50.56196Z\", \"duration\": \"0:00:31\", \"iteration\": \"36\", \"goal\": null, \"run_name\": \"Canceled\", \"run_properties\": null}, {\"run_id\": \"AutoML_c9db7e69-7cee-41fd-8859-56cb273ff2f0_37\", \"run_number\": 42, \"metric\": null, \"status\": \"Canceled\", \"run_type\": \"azureml.scriptrun\", \"training_percent\": \"100\", \"start_time\": \"2021-05-11T03:27:59.455208Z\", \"end_time\": \"2021-05-11T03:28:19.786643Z\", \"created_time\": \"2021-05-11T03:27:59.455208Z\", \"created_time_dt\": \"2021-05-11T03:27:59.455208Z\", \"duration\": \"0:00:20\", \"iteration\": \"37\", \"goal\": null, \"run_name\": \"Canceled\", \"run_properties\": null}, {\"run_id\": \"AutoML_c9db7e69-7cee-41fd-8859-56cb273ff2f0_38\", \"run_number\": 43, \"metric\": null, \"status\": \"Completed\", \"run_type\": \"azureml.scriptrun\", \"training_percent\": \"100\", \"start_time\": \"2021-05-11T03:28:29.317087Z\", \"end_time\": \"2021-05-11T03:29:25.277004Z\", \"created_time\": \"2021-05-11T03:28:23.255679Z\", \"created_time_dt\": \"2021-05-11T03:28:23.255679Z\", \"duration\": \"0:01:02\", \"iteration\": \"38\", \"goal\": \"accuracy_max\", \"run_name\": \"VotingEnsemble\", \"run_properties\": \"classification_labels=None,\\n                              estimators=[('1',\\n                                           Pipeline(memory=None,\\n                                                    steps=[('maxabsscaler',\\n                                                            MaxAbsScaler(copy=True\", \"primary_metric\": 0.64588075, \"best_metric\": 0.64588075}, {\"run_id\": \"AutoML_c9db7e69-7cee-41fd-8859-56cb273ff2f0_39\", \"run_number\": 44, \"metric\": null, \"status\": \"Completed\", \"run_type\": \"azureml.scriptrun\", \"training_percent\": \"100\", \"start_time\": \"2021-05-11T03:28:30.491904Z\", \"end_time\": \"2021-05-11T03:29:55.539732Z\", \"created_time\": \"2021-05-11T03:28:23.285041Z\", \"created_time_dt\": \"2021-05-11T03:28:23.285041Z\", \"duration\": \"0:01:32\", \"iteration\": \"39\", \"goal\": \"accuracy_max\", \"run_name\": \"StackEnsemble\", \"run_properties\": \"base_learners=[('1',\\n                                        Pipeline(memory=None,\\n                                                 steps=[('maxabsscaler',\\n                                                         MaxAbsScaler(copy=True\", \"primary_metric\": 0.64451525, \"best_metric\": 0.64588075}], \"children_metrics\": {\"categories\": [0], \"series\": {\"log_loss\": [{\"categories\": [\"0\", \"1\", \"2\", \"3\", \"4\", \"5\", \"6\", \"7\", \"8\", \"9\", \"10\", \"11\", \"12\", \"13\", \"14\", \"15\", \"16\", \"17\", \"18\", \"19\", \"20\", \"21\", \"22\", \"23\", \"24\", \"25\", \"26\", \"27\", \"28\", \"29\", \"30\", \"31\", \"32\", \"33\", \"34\", \"38\", \"39\"], \"mode\": \"markers\", \"name\": \"log_loss\", \"stepped\": false, \"type\": \"scatter\", \"data\": [0.6333950336057578, 0.6332222273486862, 0.6456665482816224, 0.6716573059723169, 0.6498721408242425, 0.6612439631195293, 0.6337949311420791, 0.6356117257469888, 0.6341187428770354, 0.63311557668128, 0.6433882004449532, 0.6499722715554517, 0.6457391136825938, 0.643113583197932, 0.6431104609929732, 0.6514803895375654, 0.6527902933328915, 0.6368172110173415, 0.6575781556298836, 0.6496145163055699, 0.6458200532792325, 0.6603895493255629, 0.6542400790679989, 0.6470836314638531, 0.6699605851053001, 0.6931455679800586, 0.6537196200782305, 0.6668101504700554, 0.6417173116322533, 0.684994144727904, 0.6447198965866706, 0.6437131818754463, 0.6428490757300179, 0.6408424841849257, 0.6446003402942123, 0.6428691741374158, 0.6331101548136152]}, {\"categories\": [\"0\", \"1\", \"2\", \"3\", \"4\", \"5\", \"6\", \"7\", \"8\", \"9\", \"10\", \"11\", \"12\", \"13\", \"14\", \"15\", \"16\", \"17\", \"18\", \"19\", \"20\", \"21\", \"22\", \"23\", \"24\", \"25\", \"26\", \"27\", \"28\", \"29\", \"30\", \"31\", \"32\", \"33\", \"34\", \"38\", \"39\"], \"mode\": \"lines\", \"name\": \"log_loss_min\", \"stepped\": true, \"type\": \"scatter\", \"data\": [0.6333950336057578, 0.6332222273486862, 0.6332222273486862, 0.6332222273486862, 0.6332222273486862, 0.6332222273486862, 0.6332222273486862, 0.6332222273486862, 0.6332222273486862, 0.63311557668128, 0.63311557668128, 0.63311557668128, 0.63311557668128, 0.63311557668128, 0.63311557668128, 0.63311557668128, 0.63311557668128, 0.63311557668128, 0.63311557668128, 0.63311557668128, 0.63311557668128, 0.63311557668128, 0.63311557668128, 0.63311557668128, 0.63311557668128, 0.63311557668128, 0.63311557668128, 0.63311557668128, 0.63311557668128, 0.63311557668128, 0.63311557668128, 0.63311557668128, 0.63311557668128, 0.63311557668128, 0.63311557668128, 0.63311557668128, 0.6331101548136152]}], \"f1_score_weighted\": [{\"categories\": [\"0\", \"1\", \"2\", \"3\", \"4\", \"5\", \"6\", \"7\", \"8\", \"9\", \"10\", \"11\", \"12\", \"13\", \"14\", \"15\", \"16\", \"17\", \"18\", \"19\", \"20\", \"21\", \"22\", \"23\", \"24\", \"25\", \"26\", \"27\", \"28\", \"29\", \"30\", \"31\", \"32\", \"33\", \"34\", \"38\", \"39\"], \"mode\": \"markers\", \"name\": \"f1_score_weighted\", \"stepped\": false, \"type\": \"scatter\", \"data\": [0.639498155854016, 0.6382220349039199, 0.6271010453042531, 0.6060420086571479, 0.6305248337836312, 0.6168271135483069, 0.6388557301031165, 0.6392154330196895, 0.63893141264599, 0.638632287851384, 0.6377223914458083, 0.6164061696115671, 0.620320994420635, 0.6251688100877251, 0.6251688100877251, 0.617214401801346, 0.6207841588068252, 0.6359472879610479, 0.6219196058644728, 0.6202978689433539, 0.6147481795095376, 0.6101316124043245, 0.616383525846404, 0.6175103739437255, 0.6314853848410562, 0.334345304421254, 0.620320994420635, 0.6232276682555128, 0.6305978118039409, 0.6213392222461398, 0.6289682964270658, 0.6381141889954172, 0.6228782231671303, 0.6378861664490915, 0.6368782941975333, 0.6413487506737336, 0.640076986555877]}, {\"categories\": [\"0\", \"1\", \"2\", \"3\", \"4\", \"5\", \"6\", \"7\", \"8\", \"9\", \"10\", \"11\", \"12\", \"13\", \"14\", \"15\", \"16\", \"17\", \"18\", \"19\", \"20\", \"21\", \"22\", \"23\", \"24\", \"25\", \"26\", \"27\", \"28\", \"29\", \"30\", \"31\", \"32\", \"33\", \"34\", \"38\", \"39\"], \"mode\": \"lines\", \"name\": \"f1_score_weighted_max\", \"stepped\": true, \"type\": \"scatter\", \"data\": [0.639498155854016, 0.639498155854016, 0.639498155854016, 0.639498155854016, 0.639498155854016, 0.639498155854016, 0.639498155854016, 0.639498155854016, 0.639498155854016, 0.639498155854016, 0.639498155854016, 0.639498155854016, 0.639498155854016, 0.639498155854016, 0.639498155854016, 0.639498155854016, 0.639498155854016, 0.639498155854016, 0.639498155854016, 0.639498155854016, 0.639498155854016, 0.639498155854016, 0.639498155854016, 0.639498155854016, 0.639498155854016, 0.639498155854016, 0.639498155854016, 0.639498155854016, 0.639498155854016, 0.639498155854016, 0.639498155854016, 0.639498155854016, 0.639498155854016, 0.639498155854016, 0.639498155854016, 0.6413487506737336, 0.6413487506737336]}], \"AUC_weighted\": [{\"categories\": [\"0\", \"1\", \"2\", \"3\", \"4\", \"5\", \"6\", \"7\", \"8\", \"9\", \"10\", \"11\", \"12\", \"13\", \"14\", \"15\", \"16\", \"17\", \"18\", \"19\", \"20\", \"21\", \"22\", \"23\", \"24\", \"25\", \"26\", \"27\", \"28\", \"29\", \"30\", \"31\", \"32\", \"33\", \"34\", \"38\", \"39\"], \"mode\": \"markers\", \"name\": \"AUC_weighted\", \"stepped\": false, \"type\": \"scatter\", \"data\": [0.6891015162655618, 0.6896603759473423, 0.6728446299644506, 0.6433913262905618, 0.679584146243686, 0.6687968077354882, 0.6875647296905526, 0.6846493365263435, 0.6875487772108727, 0.6892393406968147, 0.6873302832750441, 0.6745850453914223, 0.6634422172237343, 0.6726949705529116, 0.6727058991342699, 0.6593024084521545, 0.6700730174258561, 0.6833472815179767, 0.6703560987595698, 0.6615722126471967, 0.6697869579242366, 0.6653395432536675, 0.6610196459636865, 0.6699417967582202, 0.672415955065817, 0.5, 0.6592556123703668, 0.660524648560649, 0.681457206679466, 0.6695467104141404, 0.675973544960391, 0.6865162075523022, 0.6729163649653093, 0.6875425360068269, 0.6868337320452731, 0.6893232732375306, 0.6898548891572521]}, {\"categories\": [\"0\", \"1\", \"2\", \"3\", \"4\", \"5\", \"6\", \"7\", \"8\", \"9\", \"10\", \"11\", \"12\", \"13\", \"14\", \"15\", \"16\", \"17\", \"18\", \"19\", \"20\", \"21\", \"22\", \"23\", \"24\", \"25\", \"26\", \"27\", \"28\", \"29\", \"30\", \"31\", \"32\", \"33\", \"34\", \"38\", \"39\"], \"mode\": \"lines\", \"name\": \"AUC_weighted_max\", \"stepped\": true, \"type\": \"scatter\", \"data\": [0.6891015162655618, 0.6896603759473423, 0.6896603759473423, 0.6896603759473423, 0.6896603759473423, 0.6896603759473423, 0.6896603759473423, 0.6896603759473423, 0.6896603759473423, 0.6896603759473423, 0.6896603759473423, 0.6896603759473423, 0.6896603759473423, 0.6896603759473423, 0.6896603759473423, 0.6896603759473423, 0.6896603759473423, 0.6896603759473423, 0.6896603759473423, 0.6896603759473423, 0.6896603759473423, 0.6896603759473423, 0.6896603759473423, 0.6896603759473423, 0.6896603759473423, 0.6896603759473423, 0.6896603759473423, 0.6896603759473423, 0.6896603759473423, 0.6896603759473423, 0.6896603759473423, 0.6896603759473423, 0.6896603759473423, 0.6896603759473423, 0.6896603759473423, 0.6896603759473423, 0.6898548891572521]}], \"recall_score_weighted\": [{\"categories\": [\"0\", \"1\", \"2\", \"3\", \"4\", \"5\", \"6\", \"7\", \"8\", \"9\", \"10\", \"11\", \"12\", \"13\", \"14\", \"15\", \"16\", \"17\", \"18\", \"19\", \"20\", \"21\", \"22\", \"23\", \"24\", \"25\", \"26\", \"27\", \"28\", \"29\", \"30\", \"31\", \"32\", \"33\", \"34\", \"38\", \"39\"], \"mode\": \"markers\", \"name\": \"recall_score_weighted\", \"stepped\": false, \"type\": \"scatter\", \"data\": [0.643491124260355, 0.6447428311333637, 0.6356395084205735, 0.61106053709604, 0.6370050068274921, 0.6173190714610833, 0.6432635411925353, 0.6432635411925353, 0.6431497496586254, 0.6432635411925353, 0.6432635411925353, 0.6341602184797451, 0.626877560309513, 0.6301775147928994, 0.6301775147928994, 0.6275603095129723, 0.6273327264451525, 0.6421256258534365, 0.627787892580792, 0.626877560309513, 0.6276741010468821, 0.6247155211652253, 0.6281292671825216, 0.6290395994538006, 0.6322257624032772, 0.500910332271279, 0.626877560309513, 0.6285844333181612, 0.639849795175239, 0.6217569412835685, 0.6385980883022303, 0.6430359581247155, 0.6292671825216204, 0.6421256258534365, 0.6409877105143378, 0.6458807464724624, 0.6445152480655439]}, {\"categories\": [\"0\", \"1\", \"2\", \"3\", \"4\", \"5\", \"6\", \"7\", \"8\", \"9\", \"10\", \"11\", \"12\", \"13\", \"14\", \"15\", \"16\", \"17\", \"18\", \"19\", \"20\", \"21\", \"22\", \"23\", \"24\", \"25\", \"26\", \"27\", \"28\", \"29\", \"30\", \"31\", \"32\", \"33\", \"34\", \"38\", \"39\"], \"mode\": \"lines\", \"name\": \"recall_score_weighted_max\", \"stepped\": true, \"type\": \"scatter\", \"data\": [0.643491124260355, 0.6447428311333637, 0.6447428311333637, 0.6447428311333637, 0.6447428311333637, 0.6447428311333637, 0.6447428311333637, 0.6447428311333637, 0.6447428311333637, 0.6447428311333637, 0.6447428311333637, 0.6447428311333637, 0.6447428311333637, 0.6447428311333637, 0.6447428311333637, 0.6447428311333637, 0.6447428311333637, 0.6447428311333637, 0.6447428311333637, 0.6447428311333637, 0.6447428311333637, 0.6447428311333637, 0.6447428311333637, 0.6447428311333637, 0.6447428311333637, 0.6447428311333637, 0.6447428311333637, 0.6447428311333637, 0.6447428311333637, 0.6447428311333637, 0.6447428311333637, 0.6447428311333637, 0.6447428311333637, 0.6447428311333637, 0.6447428311333637, 0.6458807464724624, 0.6458807464724624]}], \"balanced_accuracy\": [{\"categories\": [\"0\", \"1\", \"2\", \"3\", \"4\", \"5\", \"6\", \"7\", \"8\", \"9\", \"10\", \"11\", \"12\", \"13\", \"14\", \"15\", \"16\", \"17\", \"18\", \"19\", \"20\", \"21\", \"22\", \"23\", \"24\", \"25\", \"26\", \"27\", \"28\", \"29\", \"30\", \"31\", \"32\", \"33\", \"34\", \"38\", \"39\"], \"mode\": \"markers\", \"name\": \"balanced_accuracy\", \"stepped\": false, \"type\": \"scatter\", \"data\": [0.6436832385395438, 0.644987779670684, 0.6359155033165913, 0.6112664247254854, 0.6372466148848728, 0.6173847210767066, 0.6434651848546229, 0.6434568977787114, 0.6433470422286599, 0.6434701571001699, 0.6434892173747662, 0.6345524347118263, 0.6271172702040464, 0.6303884380374298, 0.6303884380374298, 0.6278601029710618, 0.6275724378484845, 0.6423633145237428, 0.6280151748790553, 0.627117684557842, 0.6280080790703061, 0.6250681353022597, 0.6284483299781035, 0.6293561791442062, 0.6323078284069774, 0.5, 0.6271172702040464, 0.628801980942626, 0.6401384418184082, 0.6218178405413284, 0.6388919102186483, 0.6432487885848844, 0.6295046213914706, 0.6423231222055721, 0.6411818882641125, 0.646085920817404, 0.6447179317613165]}, {\"categories\": [\"0\", \"1\", \"2\", \"3\", \"4\", \"5\", \"6\", \"7\", \"8\", \"9\", \"10\", \"11\", \"12\", \"13\", \"14\", \"15\", \"16\", \"17\", \"18\", \"19\", \"20\", \"21\", \"22\", \"23\", \"24\", \"25\", \"26\", \"27\", \"28\", \"29\", \"30\", \"31\", \"32\", \"33\", \"34\", \"38\", \"39\"], \"mode\": \"lines\", \"name\": \"balanced_accuracy_max\", \"stepped\": true, \"type\": \"scatter\", \"data\": [0.6436832385395438, 0.644987779670684, 0.644987779670684, 0.644987779670684, 0.644987779670684, 0.644987779670684, 0.644987779670684, 0.644987779670684, 0.644987779670684, 0.644987779670684, 0.644987779670684, 0.644987779670684, 0.644987779670684, 0.644987779670684, 0.644987779670684, 0.644987779670684, 0.644987779670684, 0.644987779670684, 0.644987779670684, 0.644987779670684, 0.644987779670684, 0.644987779670684, 0.644987779670684, 0.644987779670684, 0.644987779670684, 0.644987779670684, 0.644987779670684, 0.644987779670684, 0.644987779670684, 0.644987779670684, 0.644987779670684, 0.644987779670684, 0.644987779670684, 0.644987779670684, 0.644987779670684, 0.646085920817404, 0.646085920817404]}], \"f1_score_micro\": [{\"categories\": [\"0\", \"1\", \"2\", \"3\", \"4\", \"5\", \"6\", \"7\", \"8\", \"9\", \"10\", \"11\", \"12\", \"13\", \"14\", \"15\", \"16\", \"17\", \"18\", \"19\", \"20\", \"21\", \"22\", \"23\", \"24\", \"25\", \"26\", \"27\", \"28\", \"29\", \"30\", \"31\", \"32\", \"33\", \"34\", \"38\", \"39\"], \"mode\": \"markers\", \"name\": \"f1_score_micro\", \"stepped\": false, \"type\": \"scatter\", \"data\": [0.643491124260355, 0.6447428311333637, 0.6356395084205735, 0.61106053709604, 0.6370050068274921, 0.6173190714610833, 0.6432635411925353, 0.6432635411925353, 0.6431497496586254, 0.6432635411925353, 0.6432635411925353, 0.6341602184797451, 0.626877560309513, 0.6301775147928994, 0.6301775147928994, 0.6275603095129723, 0.6273327264451525, 0.6421256258534365, 0.627787892580792, 0.626877560309513, 0.6276741010468821, 0.6247155211652253, 0.6281292671825216, 0.6290395994538006, 0.6322257624032772, 0.500910332271279, 0.626877560309513, 0.6285844333181612, 0.639849795175239, 0.6217569412835685, 0.6385980883022303, 0.6430359581247155, 0.6292671825216204, 0.6421256258534365, 0.6409877105143378, 0.6458807464724624, 0.6445152480655439]}, {\"categories\": [\"0\", \"1\", \"2\", \"3\", \"4\", \"5\", \"6\", \"7\", \"8\", \"9\", \"10\", \"11\", \"12\", \"13\", \"14\", \"15\", \"16\", \"17\", \"18\", \"19\", \"20\", \"21\", \"22\", \"23\", \"24\", \"25\", \"26\", \"27\", \"28\", \"29\", \"30\", \"31\", \"32\", \"33\", \"34\", \"38\", \"39\"], \"mode\": \"lines\", \"name\": \"f1_score_micro_max\", \"stepped\": true, \"type\": \"scatter\", \"data\": [0.643491124260355, 0.6447428311333637, 0.6447428311333637, 0.6447428311333637, 0.6447428311333637, 0.6447428311333637, 0.6447428311333637, 0.6447428311333637, 0.6447428311333637, 0.6447428311333637, 0.6447428311333637, 0.6447428311333637, 0.6447428311333637, 0.6447428311333637, 0.6447428311333637, 0.6447428311333637, 0.6447428311333637, 0.6447428311333637, 0.6447428311333637, 0.6447428311333637, 0.6447428311333637, 0.6447428311333637, 0.6447428311333637, 0.6447428311333637, 0.6447428311333637, 0.6447428311333637, 0.6447428311333637, 0.6447428311333637, 0.6447428311333637, 0.6447428311333637, 0.6447428311333637, 0.6447428311333637, 0.6447428311333637, 0.6447428311333637, 0.6447428311333637, 0.6458807464724624, 0.6458807464724624]}], \"f1_score_macro\": [{\"categories\": [\"0\", \"1\", \"2\", \"3\", \"4\", \"5\", \"6\", \"7\", \"8\", \"9\", \"10\", \"11\", \"12\", \"13\", \"14\", \"15\", \"16\", \"17\", \"18\", \"19\", \"20\", \"21\", \"22\", \"23\", \"24\", \"25\", \"26\", \"27\", \"28\", \"29\", \"30\", \"31\", \"32\", \"33\", \"34\", \"38\", \"39\"], \"mode\": \"markers\", \"name\": \"f1_score_macro\", \"stepped\": false, \"type\": \"scatter\", \"data\": [0.6395666311964613, 0.6383098570753603, 0.6272031494969744, 0.60612230511217, 0.6306133003098273, 0.6168514829805187, 0.6389277678737301, 0.6392844103687477, 0.6390018650386854, 0.6387061662695879, 0.63780335801745, 0.6165557561212516, 0.620411196530886, 0.6252470710987434, 0.6252470710987434, 0.6173283278325821, 0.6208742508809553, 0.636033023786094, 0.6220047306037848, 0.6203882338033182, 0.614876000736112, 0.6102682298166047, 0.6165050859119783, 0.6176306266217968, 0.6315148526047267, 0.33373768006065196, 0.620411196530886, 0.6233088313625226, 0.6307036243371367, 0.6213615005948026, 0.6290764963357754, 0.638190421624719, 0.6229669587137204, 0.6379568977843048, 0.63694801918276, 0.6414215538190948, 0.6401491534096926]}, {\"categories\": [\"0\", \"1\", \"2\", \"3\", \"4\", \"5\", \"6\", \"7\", \"8\", \"9\", \"10\", \"11\", \"12\", \"13\", \"14\", \"15\", \"16\", \"17\", \"18\", \"19\", \"20\", \"21\", \"22\", \"23\", \"24\", \"25\", \"26\", \"27\", \"28\", \"29\", \"30\", \"31\", \"32\", \"33\", \"34\", \"38\", \"39\"], \"mode\": \"lines\", \"name\": \"f1_score_macro_max\", \"stepped\": true, \"type\": \"scatter\", \"data\": [0.6395666311964613, 0.6395666311964613, 0.6395666311964613, 0.6395666311964613, 0.6395666311964613, 0.6395666311964613, 0.6395666311964613, 0.6395666311964613, 0.6395666311964613, 0.6395666311964613, 0.6395666311964613, 0.6395666311964613, 0.6395666311964613, 0.6395666311964613, 0.6395666311964613, 0.6395666311964613, 0.6395666311964613, 0.6395666311964613, 0.6395666311964613, 0.6395666311964613, 0.6395666311964613, 0.6395666311964613, 0.6395666311964613, 0.6395666311964613, 0.6395666311964613, 0.6395666311964613, 0.6395666311964613, 0.6395666311964613, 0.6395666311964613, 0.6395666311964613, 0.6395666311964613, 0.6395666311964613, 0.6395666311964613, 0.6395666311964613, 0.6395666311964613, 0.6414215538190948, 0.6414215538190948]}], \"precision_score_weighted\": [{\"categories\": [\"0\", \"1\", \"2\", \"3\", \"4\", \"5\", \"6\", \"7\", \"8\", \"9\", \"10\", \"11\", \"12\", \"13\", \"14\", \"15\", \"16\", \"17\", \"18\", \"19\", \"20\", \"21\", \"22\", \"23\", \"24\", \"25\", \"26\", \"27\", \"28\", \"29\", \"30\", \"31\", \"32\", \"33\", \"34\", \"38\", \"39\"], \"mode\": \"markers\", \"name\": \"precision_score_weighted\", \"stepped\": false, \"type\": \"scatter\", \"data\": [0.6504047984926371, 0.6563342456679983, 0.6497074297339037, 0.6172915571835703, 0.6476772270703194, 0.6180077751965095, 0.6508926306141848, 0.6502589291682997, 0.6504366016495648, 0.6512880633295043, 0.6529129283768819, 0.6652679362829941, 0.6366188461626172, 0.6378125766944882, 0.6378125766944882, 0.643451613269503, 0.63710803007834, 0.6528081033686934, 0.6365547608175655, 0.6366545615800633, 0.647958738859288, 0.6471892181538871, 0.6464769784981077, 0.6471920654890716, 0.6334032359859594, 0.25091116097612315, 0.6366188461626172, 0.6366314098975678, 0.6558375504369276, 0.6223742508944888, 0.6550794200005021, 0.6515579148209173, 0.6389884186601349, 0.6493775438274315, 0.6479361992500654, 0.6539292389902424, 0.6522912641834224]}, {\"categories\": [\"0\", \"1\", \"2\", \"3\", \"4\", \"5\", \"6\", \"7\", \"8\", \"9\", \"10\", \"11\", \"12\", \"13\", \"14\", \"15\", \"16\", \"17\", \"18\", \"19\", \"20\", \"21\", \"22\", \"23\", \"24\", \"25\", \"26\", \"27\", \"28\", \"29\", \"30\", \"31\", \"32\", \"33\", \"34\", \"38\", \"39\"], \"mode\": \"lines\", \"name\": \"precision_score_weighted_max\", \"stepped\": true, \"type\": \"scatter\", \"data\": [0.6504047984926371, 0.6563342456679983, 0.6563342456679983, 0.6563342456679983, 0.6563342456679983, 0.6563342456679983, 0.6563342456679983, 0.6563342456679983, 0.6563342456679983, 0.6563342456679983, 0.6563342456679983, 0.6652679362829941, 0.6652679362829941, 0.6652679362829941, 0.6652679362829941, 0.6652679362829941, 0.6652679362829941, 0.6652679362829941, 0.6652679362829941, 0.6652679362829941, 0.6652679362829941, 0.6652679362829941, 0.6652679362829941, 0.6652679362829941, 0.6652679362829941, 0.6652679362829941, 0.6652679362829941, 0.6652679362829941, 0.6652679362829941, 0.6652679362829941, 0.6652679362829941, 0.6652679362829941, 0.6652679362829941, 0.6652679362829941, 0.6652679362829941, 0.6652679362829941, 0.6652679362829941]}], \"matthews_correlation\": [{\"categories\": [\"0\", \"1\", \"2\", \"3\", \"4\", \"5\", \"6\", \"7\", \"8\", \"9\", \"10\", \"11\", \"12\", \"13\", \"14\", \"15\", \"16\", \"17\", \"18\", \"19\", \"20\", \"21\", \"22\", \"23\", \"24\", \"25\", \"26\", \"27\", \"28\", \"29\", \"30\", \"31\", \"32\", \"33\", \"34\", \"38\", \"39\"], \"mode\": \"markers\", \"name\": \"matthews_correlation\", \"stepped\": false, \"type\": \"scatter\", \"data\": [0.29395326716492376, 0.3010331403919521, 0.28520959579829397, 0.22842999620610632, 0.28466261700897405, 0.23537465849654174, 0.29420329877653895, 0.29357881401051705, 0.2936386837232288, 0.2945921894803996, 0.2961840018926435, 0.29812460660953904, 0.26350026117978637, 0.2680402140534451, 0.2680402140534451, 0.27078072979538287, 0.26444377415011283, 0.29491501270326176, 0.26437051016743696, 0.26353502233299897, 0.2751514156908416, 0.27126014065280446, 0.27424462083405504, 0.27588372466817174, 0.2656854695138711, 0.0, 0.26350026117978637, 0.26525869813952735, 0.2954726348854478, 0.24417503284758177, 0.29343767061702963, 0.294625413729953, 0.2682603203064525, 0.2915562964015025, 0.2889815881394007, 0.2998496334584875, 0.2968509913200595]}, {\"categories\": [\"0\", \"1\", \"2\", \"3\", \"4\", \"5\", \"6\", \"7\", \"8\", \"9\", \"10\", \"11\", \"12\", \"13\", \"14\", \"15\", \"16\", \"17\", \"18\", \"19\", \"20\", \"21\", \"22\", \"23\", \"24\", \"25\", \"26\", \"27\", \"28\", \"29\", \"30\", \"31\", \"32\", \"33\", \"34\", \"38\", \"39\"], \"mode\": \"lines\", \"name\": \"matthews_correlation_max\", \"stepped\": true, \"type\": \"scatter\", \"data\": [0.29395326716492376, 0.3010331403919521, 0.3010331403919521, 0.3010331403919521, 0.3010331403919521, 0.3010331403919521, 0.3010331403919521, 0.3010331403919521, 0.3010331403919521, 0.3010331403919521, 0.3010331403919521, 0.3010331403919521, 0.3010331403919521, 0.3010331403919521, 0.3010331403919521, 0.3010331403919521, 0.3010331403919521, 0.3010331403919521, 0.3010331403919521, 0.3010331403919521, 0.3010331403919521, 0.3010331403919521, 0.3010331403919521, 0.3010331403919521, 0.3010331403919521, 0.3010331403919521, 0.3010331403919521, 0.3010331403919521, 0.3010331403919521, 0.3010331403919521, 0.3010331403919521, 0.3010331403919521, 0.3010331403919521, 0.3010331403919521, 0.3010331403919521, 0.3010331403919521, 0.3010331403919521]}], \"AUC_macro\": [{\"categories\": [\"0\", \"1\", \"2\", \"3\", \"4\", \"5\", \"6\", \"7\", \"8\", \"9\", \"10\", \"11\", \"12\", \"13\", \"14\", \"15\", \"16\", \"17\", \"18\", \"19\", \"20\", \"21\", \"22\", \"23\", \"24\", \"25\", \"26\", \"27\", \"28\", \"29\", \"30\", \"31\", \"32\", \"33\", \"34\", \"38\", \"39\"], \"mode\": \"markers\", \"name\": \"AUC_macro\", \"stepped\": false, \"type\": \"scatter\", \"data\": [0.6891015162655618, 0.6896603759473423, 0.6728446299644506, 0.6433913262905618, 0.679584146243686, 0.6687968077354882, 0.6875647298320023, 0.6846493365263436, 0.6875487772108727, 0.6892393406968147, 0.6873302832750441, 0.6745850453914224, 0.6634422172237343, 0.6726949705529117, 0.6727058991342699, 0.6593024084521545, 0.6700730174258561, 0.6833472815179769, 0.6703560987595698, 0.6615722126471966, 0.6697869579242366, 0.6653395432536675, 0.6610196459636863, 0.6699417967582202, 0.6724159550658169, 0.5, 0.6592556123703668, 0.6605246485606489, 0.681457206679466, 0.6695467104141404, 0.675973544960391, 0.6865162075523024, 0.6729163649653094, 0.687542536006827, 0.6868337320452731, 0.6893232732375305, 0.689854889157252]}, {\"categories\": [\"0\", \"1\", \"2\", \"3\", \"4\", \"5\", \"6\", \"7\", \"8\", \"9\", \"10\", \"11\", \"12\", \"13\", \"14\", \"15\", \"16\", \"17\", \"18\", \"19\", \"20\", \"21\", \"22\", \"23\", \"24\", \"25\", \"26\", \"27\", \"28\", \"29\", \"30\", \"31\", \"32\", \"33\", \"34\", \"38\", \"39\"], \"mode\": \"lines\", \"name\": \"AUC_macro_max\", \"stepped\": true, \"type\": \"scatter\", \"data\": [0.6891015162655618, 0.6896603759473423, 0.6896603759473423, 0.6896603759473423, 0.6896603759473423, 0.6896603759473423, 0.6896603759473423, 0.6896603759473423, 0.6896603759473423, 0.6896603759473423, 0.6896603759473423, 0.6896603759473423, 0.6896603759473423, 0.6896603759473423, 0.6896603759473423, 0.6896603759473423, 0.6896603759473423, 0.6896603759473423, 0.6896603759473423, 0.6896603759473423, 0.6896603759473423, 0.6896603759473423, 0.6896603759473423, 0.6896603759473423, 0.6896603759473423, 0.6896603759473423, 0.6896603759473423, 0.6896603759473423, 0.6896603759473423, 0.6896603759473423, 0.6896603759473423, 0.6896603759473423, 0.6896603759473423, 0.6896603759473423, 0.6896603759473423, 0.6896603759473423, 0.689854889157252]}], \"precision_score_micro\": [{\"categories\": [\"0\", \"1\", \"2\", \"3\", \"4\", \"5\", \"6\", \"7\", \"8\", \"9\", \"10\", \"11\", \"12\", \"13\", \"14\", \"15\", \"16\", \"17\", \"18\", \"19\", \"20\", \"21\", \"22\", \"23\", \"24\", \"25\", \"26\", \"27\", \"28\", \"29\", \"30\", \"31\", \"32\", \"33\", \"34\", \"38\", \"39\"], \"mode\": \"markers\", \"name\": \"precision_score_micro\", \"stepped\": false, \"type\": \"scatter\", \"data\": [0.643491124260355, 0.6447428311333637, 0.6356395084205735, 0.61106053709604, 0.6370050068274921, 0.6173190714610833, 0.6432635411925353, 0.6432635411925353, 0.6431497496586254, 0.6432635411925353, 0.6432635411925353, 0.6341602184797451, 0.626877560309513, 0.6301775147928994, 0.6301775147928994, 0.6275603095129723, 0.6273327264451525, 0.6421256258534365, 0.627787892580792, 0.626877560309513, 0.6276741010468821, 0.6247155211652253, 0.6281292671825216, 0.6290395994538006, 0.6322257624032772, 0.500910332271279, 0.626877560309513, 0.6285844333181612, 0.639849795175239, 0.6217569412835685, 0.6385980883022303, 0.6430359581247155, 0.6292671825216204, 0.6421256258534365, 0.6409877105143378, 0.6458807464724624, 0.6445152480655439]}, {\"categories\": [\"0\", \"1\", \"2\", \"3\", \"4\", \"5\", \"6\", \"7\", \"8\", \"9\", \"10\", \"11\", \"12\", \"13\", \"14\", \"15\", \"16\", \"17\", \"18\", \"19\", \"20\", \"21\", \"22\", \"23\", \"24\", \"25\", \"26\", \"27\", \"28\", \"29\", \"30\", \"31\", \"32\", \"33\", \"34\", \"38\", \"39\"], \"mode\": \"lines\", \"name\": \"precision_score_micro_max\", \"stepped\": true, \"type\": \"scatter\", \"data\": [0.643491124260355, 0.6447428311333637, 0.6447428311333637, 0.6447428311333637, 0.6447428311333637, 0.6447428311333637, 0.6447428311333637, 0.6447428311333637, 0.6447428311333637, 0.6447428311333637, 0.6447428311333637, 0.6447428311333637, 0.6447428311333637, 0.6447428311333637, 0.6447428311333637, 0.6447428311333637, 0.6447428311333637, 0.6447428311333637, 0.6447428311333637, 0.6447428311333637, 0.6447428311333637, 0.6447428311333637, 0.6447428311333637, 0.6447428311333637, 0.6447428311333637, 0.6447428311333637, 0.6447428311333637, 0.6447428311333637, 0.6447428311333637, 0.6447428311333637, 0.6447428311333637, 0.6447428311333637, 0.6447428311333637, 0.6447428311333637, 0.6447428311333637, 0.6458807464724624, 0.6458807464724624]}], \"average_precision_score_macro\": [{\"categories\": [\"0\", \"1\", \"2\", \"3\", \"4\", \"5\", \"6\", \"7\", \"8\", \"9\", \"10\", \"11\", \"12\", \"13\", \"14\", \"15\", \"16\", \"17\", \"18\", \"19\", \"20\", \"21\", \"22\", \"23\", \"24\", \"25\", \"26\", \"27\", \"28\", \"29\", \"30\", \"31\", \"32\", \"33\", \"34\", \"38\", \"39\"], \"mode\": \"markers\", \"name\": \"average_precision_score_macro\", \"stepped\": false, \"type\": \"scatter\", \"data\": [0.6739345470968773, 0.6741008827051423, 0.6552048315353323, 0.6289115502285452, 0.6619721067695814, 0.6543957589698612, 0.6738389175055473, 0.6704624226571384, 0.6739143042815812, 0.6749338039094809, 0.6723110328381745, 0.6445922127761596, 0.633104873562664, 0.6565326554761506, 0.6565465033532798, 0.635667779277884, 0.6519427544824299, 0.6663037633146123, 0.6530906287564238, 0.6391137443898962, 0.6504182954309573, 0.6436351450389479, 0.6399712435168188, 0.6510781260608505, 0.6556800298173862, 0.5, 0.6368290518873736, 0.6418143252071549, 0.6593178856182329, 0.6526164169224584, 0.6524720844234174, 0.6713043717267996, 0.6533363302454118, 0.6704697539060296, 0.6728253743873952, 0.6746842369907016, 0.6751257440955296]}, {\"categories\": [\"0\", \"1\", \"2\", \"3\", \"4\", \"5\", \"6\", \"7\", \"8\", \"9\", \"10\", \"11\", \"12\", \"13\", \"14\", \"15\", \"16\", \"17\", \"18\", \"19\", \"20\", \"21\", \"22\", \"23\", \"24\", \"25\", \"26\", \"27\", \"28\", \"29\", \"30\", \"31\", \"32\", \"33\", \"34\", \"38\", \"39\"], \"mode\": \"lines\", \"name\": \"average_precision_score_macro_max\", \"stepped\": true, \"type\": \"scatter\", \"data\": [0.6739345470968773, 0.6741008827051423, 0.6741008827051423, 0.6741008827051423, 0.6741008827051423, 0.6741008827051423, 0.6741008827051423, 0.6741008827051423, 0.6741008827051423, 0.6749338039094809, 0.6749338039094809, 0.6749338039094809, 0.6749338039094809, 0.6749338039094809, 0.6749338039094809, 0.6749338039094809, 0.6749338039094809, 0.6749338039094809, 0.6749338039094809, 0.6749338039094809, 0.6749338039094809, 0.6749338039094809, 0.6749338039094809, 0.6749338039094809, 0.6749338039094809, 0.6749338039094809, 0.6749338039094809, 0.6749338039094809, 0.6749338039094809, 0.6749338039094809, 0.6749338039094809, 0.6749338039094809, 0.6749338039094809, 0.6749338039094809, 0.6749338039094809, 0.6749338039094809, 0.6751257440955296]}], \"weighted_accuracy\": [{\"categories\": [\"0\", \"1\", \"2\", \"3\", \"4\", \"5\", \"6\", \"7\", \"8\", \"9\", \"10\", \"11\", \"12\", \"13\", \"14\", \"15\", \"16\", \"17\", \"18\", \"19\", \"20\", \"21\", \"22\", \"23\", \"24\", \"25\", \"26\", \"27\", \"28\", \"29\", \"30\", \"31\", \"32\", \"33\", \"34\", \"38\", \"39\"], \"mode\": \"markers\", \"name\": \"weighted_accuracy\", \"stepped\": false, \"type\": \"scatter\", \"data\": [0.6432990112548103, 0.6444978842199581, 0.6353635153542959, 0.6108546508315507, 0.6367634003718801, 0.6172534222806917, 0.6430618988672677, 0.6430701858882392, 0.642952458396565, 0.643056926654685, 0.6430378665064508, 0.6337680048479072, 0.6266378520041641, 0.6299665929467092, 0.6299665929467092, 0.6272605180423984, 0.6270930166310151, 0.641887938758915, 0.6275606117893231, 0.6266374376531156, 0.6273401252376043, 0.6243629093658876, 0.6278102065022038, 0.6287230218621971, 0.632143696943643, 0.5018206585074039, 0.6266378520041641, 0.6283668871359537, 0.6395611504456864, 0.6216960424295472, 0.638304268333739, 0.642823129075531, 0.6290297452258989, 0.6419281308106259, 0.640793534051887, 0.6456755734877481, 0.6443125657134865]}, {\"categories\": [\"0\", \"1\", \"2\", \"3\", \"4\", \"5\", \"6\", \"7\", \"8\", \"9\", \"10\", \"11\", \"12\", \"13\", \"14\", \"15\", \"16\", \"17\", \"18\", \"19\", \"20\", \"21\", \"22\", \"23\", \"24\", \"25\", \"26\", \"27\", \"28\", \"29\", \"30\", \"31\", \"32\", \"33\", \"34\", \"38\", \"39\"], \"mode\": \"lines\", \"name\": \"weighted_accuracy_max\", \"stepped\": true, \"type\": \"scatter\", \"data\": [0.6432990112548103, 0.6444978842199581, 0.6444978842199581, 0.6444978842199581, 0.6444978842199581, 0.6444978842199581, 0.6444978842199581, 0.6444978842199581, 0.6444978842199581, 0.6444978842199581, 0.6444978842199581, 0.6444978842199581, 0.6444978842199581, 0.6444978842199581, 0.6444978842199581, 0.6444978842199581, 0.6444978842199581, 0.6444978842199581, 0.6444978842199581, 0.6444978842199581, 0.6444978842199581, 0.6444978842199581, 0.6444978842199581, 0.6444978842199581, 0.6444978842199581, 0.6444978842199581, 0.6444978842199581, 0.6444978842199581, 0.6444978842199581, 0.6444978842199581, 0.6444978842199581, 0.6444978842199581, 0.6444978842199581, 0.6444978842199581, 0.6444978842199581, 0.6456755734877481, 0.6456755734877481]}], \"average_precision_score_weighted\": [{\"categories\": [\"0\", \"1\", \"2\", \"3\", \"4\", \"5\", \"6\", \"7\", \"8\", \"9\", \"10\", \"11\", \"12\", \"13\", \"14\", \"15\", \"16\", \"17\", \"18\", \"19\", \"20\", \"21\", \"22\", \"23\", \"24\", \"25\", \"26\", \"27\", \"28\", \"29\", \"30\", \"31\", \"32\", \"33\", \"34\", \"38\", \"39\"], \"mode\": \"markers\", \"name\": \"average_precision_score_weighted\", \"stepped\": false, \"type\": \"scatter\", \"data\": [0.6739609688999855, 0.6741232501459508, 0.6552367916525347, 0.628935915383545, 0.6619969876862515, 0.6544140090756746, 0.6738641893861639, 0.670486768985204, 0.6739388629529471, 0.674956552964401, 0.6723367420237417, 0.6446135668585835, 0.6331381059552188, 0.656567398715526, 0.6565812353241836, 0.635697202595686, 0.6519762119087609, 0.6663294542003899, 0.6531207001822954, 0.6391435605997615, 0.6504536884743903, 0.6436729979986117, 0.6400097123289322, 0.6511143321957904, 0.655706303495814, 0.5000016574096883, 0.6368632228923937, 0.6418451862465516, 0.6593373668441616, 0.652642018554693, 0.6524918298129776, 0.6713298751097847, 0.6533713092948138, 0.6704892820271899, 0.6728511887054474, 0.67470725548463, 0.675148583228893]}, {\"categories\": [\"0\", \"1\", \"2\", \"3\", \"4\", \"5\", \"6\", \"7\", \"8\", \"9\", \"10\", \"11\", \"12\", \"13\", \"14\", \"15\", \"16\", \"17\", \"18\", \"19\", \"20\", \"21\", \"22\", \"23\", \"24\", \"25\", \"26\", \"27\", \"28\", \"29\", \"30\", \"31\", \"32\", \"33\", \"34\", \"38\", \"39\"], \"mode\": \"lines\", \"name\": \"average_precision_score_weighted_max\", \"stepped\": true, \"type\": \"scatter\", \"data\": [0.6739609688999855, 0.6741232501459508, 0.6741232501459508, 0.6741232501459508, 0.6741232501459508, 0.6741232501459508, 0.6741232501459508, 0.6741232501459508, 0.6741232501459508, 0.674956552964401, 0.674956552964401, 0.674956552964401, 0.674956552964401, 0.674956552964401, 0.674956552964401, 0.674956552964401, 0.674956552964401, 0.674956552964401, 0.674956552964401, 0.674956552964401, 0.674956552964401, 0.674956552964401, 0.674956552964401, 0.674956552964401, 0.674956552964401, 0.674956552964401, 0.674956552964401, 0.674956552964401, 0.674956552964401, 0.674956552964401, 0.674956552964401, 0.674956552964401, 0.674956552964401, 0.674956552964401, 0.674956552964401, 0.674956552964401, 0.675148583228893]}], \"precision_score_macro\": [{\"categories\": [\"0\", \"1\", \"2\", \"3\", \"4\", \"5\", \"6\", \"7\", \"8\", \"9\", \"10\", \"11\", \"12\", \"13\", \"14\", \"15\", \"16\", \"17\", \"18\", \"19\", \"20\", \"21\", \"22\", \"23\", \"24\", \"25\", \"26\", \"27\", \"28\", \"29\", \"30\", \"31\", \"32\", \"33\", \"34\", \"38\", \"39\"], \"mode\": \"markers\", \"name\": \"precision_score_macro\", \"stepped\": false, \"type\": \"scatter\", \"data\": [0.6503455172559187, 0.6562561890044654, 0.6496233166019855, 0.6172417090228701, 0.6476043791505732, 0.6179907175188519, 0.650830288719013, 0.6501993305486979, 0.6503757511110184, 0.6512240591649023, 0.6528424305709688, 0.665136887445487, 0.6365518381773851, 0.637752927773382, 0.637752927773382, 0.6433641181352618, 0.6370407880929012, 0.652733983836931, 0.6364911751911881, 0.6365874233739135, 0.6478584439875332, 0.6470839549361416, 0.6463820356193725, 0.6470973981303478, 0.6333798036758562, 0.2504551661356395, 0.6365518381773851, 0.6365704479537844, 0.6557461265326434, 0.6223577893048642, 0.6549868282493883, 0.6514919170923892, 0.6389209100758397, 0.6493170481613295, 0.6478772513074506, 0.653864592463995, 0.6522280445401876]}, {\"categories\": [\"0\", \"1\", \"2\", \"3\", \"4\", \"5\", \"6\", \"7\", \"8\", \"9\", \"10\", \"11\", \"12\", \"13\", \"14\", \"15\", \"16\", \"17\", \"18\", \"19\", \"20\", \"21\", \"22\", \"23\", \"24\", \"25\", \"26\", \"27\", \"28\", \"29\", \"30\", \"31\", \"32\", \"33\", \"34\", \"38\", \"39\"], \"mode\": \"lines\", \"name\": \"precision_score_macro_max\", \"stepped\": true, \"type\": \"scatter\", \"data\": [0.6503455172559187, 0.6562561890044654, 0.6562561890044654, 0.6562561890044654, 0.6562561890044654, 0.6562561890044654, 0.6562561890044654, 0.6562561890044654, 0.6562561890044654, 0.6562561890044654, 0.6562561890044654, 0.665136887445487, 0.665136887445487, 0.665136887445487, 0.665136887445487, 0.665136887445487, 0.665136887445487, 0.665136887445487, 0.665136887445487, 0.665136887445487, 0.665136887445487, 0.665136887445487, 0.665136887445487, 0.665136887445487, 0.665136887445487, 0.665136887445487, 0.665136887445487, 0.665136887445487, 0.665136887445487, 0.665136887445487, 0.665136887445487, 0.665136887445487, 0.665136887445487, 0.665136887445487, 0.665136887445487, 0.665136887445487, 0.665136887445487]}], \"average_precision_score_micro\": [{\"categories\": [\"0\", \"1\", \"2\", \"3\", \"4\", \"5\", \"6\", \"7\", \"8\", \"9\", \"10\", \"11\", \"12\", \"13\", \"14\", \"15\", \"16\", \"17\", \"18\", \"19\", \"20\", \"21\", \"22\", \"23\", \"24\", \"25\", \"26\", \"27\", \"28\", \"29\", \"30\", \"31\", \"32\", \"33\", \"34\", \"38\", \"39\"], \"mode\": \"markers\", \"name\": \"average_precision_score_micro\", \"stepped\": false, \"type\": \"scatter\", \"data\": [0.6797294865676715, 0.6796835598722519, 0.6639822451381084, 0.6307668045491458, 0.6684877702740959, 0.659693891013182, 0.680259986591928, 0.6767614111529033, 0.6797138304442968, 0.6801977344322565, 0.6787615098362376, 0.656717057417045, 0.6494271451991865, 0.6640501559388428, 0.6640636689827478, 0.6454255318551193, 0.6629358270140011, 0.6727587606183374, 0.6614818975857695, 0.6484230412631495, 0.6589533020106898, 0.6549468809148762, 0.6500553378682604, 0.661036967001791, 0.6583159389635888, 0.5004559948404836, 0.6458719912408956, 0.6478949839261697, 0.6683511522855173, 0.6559070010009656, 0.663419069839774, 0.6771738420948477, 0.6635542217873496, 0.6762893593110771, 0.6793917601378553, 0.6801003544328377, 0.6800826131056725]}, {\"categories\": [\"0\", \"1\", \"2\", \"3\", \"4\", \"5\", \"6\", \"7\", \"8\", \"9\", \"10\", \"11\", \"12\", \"13\", \"14\", \"15\", \"16\", \"17\", \"18\", \"19\", \"20\", \"21\", \"22\", \"23\", \"24\", \"25\", \"26\", \"27\", \"28\", \"29\", \"30\", \"31\", \"32\", \"33\", \"34\", \"38\", \"39\"], \"mode\": \"lines\", \"name\": \"average_precision_score_micro_max\", \"stepped\": true, \"type\": \"scatter\", \"data\": [0.6797294865676715, 0.6797294865676715, 0.6797294865676715, 0.6797294865676715, 0.6797294865676715, 0.6797294865676715, 0.680259986591928, 0.680259986591928, 0.680259986591928, 0.680259986591928, 0.680259986591928, 0.680259986591928, 0.680259986591928, 0.680259986591928, 0.680259986591928, 0.680259986591928, 0.680259986591928, 0.680259986591928, 0.680259986591928, 0.680259986591928, 0.680259986591928, 0.680259986591928, 0.680259986591928, 0.680259986591928, 0.680259986591928, 0.680259986591928, 0.680259986591928, 0.680259986591928, 0.680259986591928, 0.680259986591928, 0.680259986591928, 0.680259986591928, 0.680259986591928, 0.680259986591928, 0.680259986591928, 0.680259986591928, 0.680259986591928]}], \"recall_score_micro\": [{\"categories\": [\"0\", \"1\", \"2\", \"3\", \"4\", \"5\", \"6\", \"7\", \"8\", \"9\", \"10\", \"11\", \"12\", \"13\", \"14\", \"15\", \"16\", \"17\", \"18\", \"19\", \"20\", \"21\", \"22\", \"23\", \"24\", \"25\", \"26\", \"27\", \"28\", \"29\", \"30\", \"31\", \"32\", \"33\", \"34\", \"38\", \"39\"], \"mode\": \"markers\", \"name\": \"recall_score_micro\", \"stepped\": false, \"type\": \"scatter\", \"data\": [0.643491124260355, 0.6447428311333637, 0.6356395084205735, 0.61106053709604, 0.6370050068274921, 0.6173190714610833, 0.6432635411925353, 0.6432635411925353, 0.6431497496586254, 0.6432635411925353, 0.6432635411925353, 0.6341602184797451, 0.626877560309513, 0.6301775147928994, 0.6301775147928994, 0.6275603095129723, 0.6273327264451525, 0.6421256258534365, 0.627787892580792, 0.626877560309513, 0.6276741010468821, 0.6247155211652253, 0.6281292671825216, 0.6290395994538006, 0.6322257624032772, 0.500910332271279, 0.626877560309513, 0.6285844333181612, 0.639849795175239, 0.6217569412835685, 0.6385980883022303, 0.6430359581247155, 0.6292671825216204, 0.6421256258534365, 0.6409877105143378, 0.6458807464724624, 0.6445152480655439]}, {\"categories\": [\"0\", \"1\", \"2\", \"3\", \"4\", \"5\", \"6\", \"7\", \"8\", \"9\", \"10\", \"11\", \"12\", \"13\", \"14\", \"15\", \"16\", \"17\", \"18\", \"19\", \"20\", \"21\", \"22\", \"23\", \"24\", \"25\", \"26\", \"27\", \"28\", \"29\", \"30\", \"31\", \"32\", \"33\", \"34\", \"38\", \"39\"], \"mode\": \"lines\", \"name\": \"recall_score_micro_max\", \"stepped\": true, \"type\": \"scatter\", \"data\": [0.643491124260355, 0.6447428311333637, 0.6447428311333637, 0.6447428311333637, 0.6447428311333637, 0.6447428311333637, 0.6447428311333637, 0.6447428311333637, 0.6447428311333637, 0.6447428311333637, 0.6447428311333637, 0.6447428311333637, 0.6447428311333637, 0.6447428311333637, 0.6447428311333637, 0.6447428311333637, 0.6447428311333637, 0.6447428311333637, 0.6447428311333637, 0.6447428311333637, 0.6447428311333637, 0.6447428311333637, 0.6447428311333637, 0.6447428311333637, 0.6447428311333637, 0.6447428311333637, 0.6447428311333637, 0.6447428311333637, 0.6447428311333637, 0.6447428311333637, 0.6447428311333637, 0.6447428311333637, 0.6447428311333637, 0.6447428311333637, 0.6447428311333637, 0.6458807464724624, 0.6458807464724624]}], \"accuracy\": [{\"categories\": [\"0\", \"1\", \"2\", \"3\", \"4\", \"5\", \"6\", \"7\", \"8\", \"9\", \"10\", \"11\", \"12\", \"13\", \"14\", \"15\", \"16\", \"17\", \"18\", \"19\", \"20\", \"21\", \"22\", \"23\", \"24\", \"25\", \"26\", \"27\", \"28\", \"29\", \"30\", \"31\", \"32\", \"33\", \"34\", \"38\", \"39\"], \"mode\": \"markers\", \"name\": \"accuracy\", \"stepped\": false, \"type\": \"scatter\", \"data\": [0.643491124260355, 0.6447428311333637, 0.6356395084205735, 0.61106053709604, 0.6370050068274921, 0.6173190714610833, 0.6432635411925353, 0.6432635411925353, 0.6431497496586254, 0.6432635411925353, 0.6432635411925353, 0.6341602184797451, 0.626877560309513, 0.6301775147928994, 0.6301775147928994, 0.6275603095129723, 0.6273327264451525, 0.6421256258534365, 0.627787892580792, 0.626877560309513, 0.6276741010468821, 0.6247155211652253, 0.6281292671825216, 0.6290395994538006, 0.6322257624032772, 0.500910332271279, 0.626877560309513, 0.6285844333181612, 0.639849795175239, 0.6217569412835685, 0.6385980883022303, 0.6430359581247155, 0.6292671825216204, 0.6421256258534365, 0.6409877105143378, 0.6458807464724624, 0.6445152480655439]}, {\"categories\": [\"0\", \"1\", \"2\", \"3\", \"4\", \"5\", \"6\", \"7\", \"8\", \"9\", \"10\", \"11\", \"12\", \"13\", \"14\", \"15\", \"16\", \"17\", \"18\", \"19\", \"20\", \"21\", \"22\", \"23\", \"24\", \"25\", \"26\", \"27\", \"28\", \"29\", \"30\", \"31\", \"32\", \"33\", \"34\", \"38\", \"39\"], \"mode\": \"lines\", \"name\": \"accuracy_max\", \"stepped\": true, \"type\": \"scatter\", \"data\": [0.643491124260355, 0.6447428311333637, 0.6447428311333637, 0.6447428311333637, 0.6447428311333637, 0.6447428311333637, 0.6447428311333637, 0.6447428311333637, 0.6447428311333637, 0.6447428311333637, 0.6447428311333637, 0.6447428311333637, 0.6447428311333637, 0.6447428311333637, 0.6447428311333637, 0.6447428311333637, 0.6447428311333637, 0.6447428311333637, 0.6447428311333637, 0.6447428311333637, 0.6447428311333637, 0.6447428311333637, 0.6447428311333637, 0.6447428311333637, 0.6447428311333637, 0.6447428311333637, 0.6447428311333637, 0.6447428311333637, 0.6447428311333637, 0.6447428311333637, 0.6447428311333637, 0.6447428311333637, 0.6447428311333637, 0.6447428311333637, 0.6447428311333637, 0.6458807464724624, 0.6458807464724624]}], \"recall_score_macro\": [{\"categories\": [\"0\", \"1\", \"2\", \"3\", \"4\", \"5\", \"6\", \"7\", \"8\", \"9\", \"10\", \"11\", \"12\", \"13\", \"14\", \"15\", \"16\", \"17\", \"18\", \"19\", \"20\", \"21\", \"22\", \"23\", \"24\", \"25\", \"26\", \"27\", \"28\", \"29\", \"30\", \"31\", \"32\", \"33\", \"34\", \"38\", \"39\"], \"mode\": \"markers\", \"name\": \"recall_score_macro\", \"stepped\": false, \"type\": \"scatter\", \"data\": [0.6436832385395438, 0.644987779670684, 0.6359155033165913, 0.6112664247254854, 0.6372466148848728, 0.6173847210767066, 0.6434651848546229, 0.6434568977787114, 0.6433470422286599, 0.6434701571001699, 0.6434892173747662, 0.6345524347118263, 0.6271172702040464, 0.6303884380374298, 0.6303884380374298, 0.6278601029710618, 0.6275724378484845, 0.6423633145237428, 0.6280151748790553, 0.627117684557842, 0.6280080790703061, 0.6250681353022597, 0.6284483299781035, 0.6293561791442062, 0.6323078284069774, 0.5, 0.6271172702040464, 0.628801980942626, 0.6401384418184082, 0.6218178405413284, 0.6388919102186483, 0.6432487885848844, 0.6295046213914706, 0.6423231222055721, 0.6411818882641125, 0.646085920817404, 0.6447179317613165]}, {\"categories\": [\"0\", \"1\", \"2\", \"3\", \"4\", \"5\", \"6\", \"7\", \"8\", \"9\", \"10\", \"11\", \"12\", \"13\", \"14\", \"15\", \"16\", \"17\", \"18\", \"19\", \"20\", \"21\", \"22\", \"23\", \"24\", \"25\", \"26\", \"27\", \"28\", \"29\", \"30\", \"31\", \"32\", \"33\", \"34\", \"38\", \"39\"], \"mode\": \"lines\", \"name\": \"recall_score_macro_max\", \"stepped\": true, \"type\": \"scatter\", \"data\": [0.6436832385395438, 0.644987779670684, 0.644987779670684, 0.644987779670684, 0.644987779670684, 0.644987779670684, 0.644987779670684, 0.644987779670684, 0.644987779670684, 0.644987779670684, 0.644987779670684, 0.644987779670684, 0.644987779670684, 0.644987779670684, 0.644987779670684, 0.644987779670684, 0.644987779670684, 0.644987779670684, 0.644987779670684, 0.644987779670684, 0.644987779670684, 0.644987779670684, 0.644987779670684, 0.644987779670684, 0.644987779670684, 0.644987779670684, 0.644987779670684, 0.644987779670684, 0.644987779670684, 0.644987779670684, 0.644987779670684, 0.644987779670684, 0.644987779670684, 0.644987779670684, 0.644987779670684, 0.646085920817404, 0.646085920817404]}], \"AUC_micro\": [{\"categories\": [\"0\", \"1\", \"2\", \"3\", \"4\", \"5\", \"6\", \"7\", \"8\", \"9\", \"10\", \"11\", \"12\", \"13\", \"14\", \"15\", \"16\", \"17\", \"18\", \"19\", \"20\", \"21\", \"22\", \"23\", \"24\", \"25\", \"26\", \"27\", \"28\", \"29\", \"30\", \"31\", \"32\", \"33\", \"34\", \"38\", \"39\"], \"mode\": \"markers\", \"name\": \"AUC_micro\", \"stepped\": false, \"type\": \"scatter\", \"data\": [0.6946884318397517, 0.6947317057708312, 0.6813208788663483, 0.6435081904007388, 0.685361773171468, 0.6730577981229421, 0.6936523436083757, 0.6909208159054978, 0.6933857855158554, 0.6948413537805205, 0.6935397821832188, 0.6836833609948105, 0.6741515331350381, 0.6781935151152657, 0.6782009475618365, 0.6665311000497429, 0.6796244553078442, 0.6895480792797063, 0.677756179082288, 0.6683135794269051, 0.6744415150879183, 0.6718827076024763, 0.6672417274020994, 0.6769498104234081, 0.6744235813971506, 0.500910332271279, 0.6654544700235705, 0.6651158146096106, 0.6888277275939445, 0.6709275346300215, 0.6851794969512984, 0.692355291042177, 0.6795948938522324, 0.6927482913659935, 0.6930646235432146, 0.6947363154415267, 0.6949932139432076]}, {\"categories\": [\"0\", \"1\", \"2\", \"3\", \"4\", \"5\", \"6\", \"7\", \"8\", \"9\", \"10\", \"11\", \"12\", \"13\", \"14\", \"15\", \"16\", \"17\", \"18\", \"19\", \"20\", \"21\", \"22\", \"23\", \"24\", \"25\", \"26\", \"27\", \"28\", \"29\", \"30\", \"31\", \"32\", \"33\", \"34\", \"38\", \"39\"], \"mode\": \"lines\", \"name\": \"AUC_micro_max\", \"stepped\": true, \"type\": \"scatter\", \"data\": [0.6946884318397517, 0.6947317057708312, 0.6947317057708312, 0.6947317057708312, 0.6947317057708312, 0.6947317057708312, 0.6947317057708312, 0.6947317057708312, 0.6947317057708312, 0.6948413537805205, 0.6948413537805205, 0.6948413537805205, 0.6948413537805205, 0.6948413537805205, 0.6948413537805205, 0.6948413537805205, 0.6948413537805205, 0.6948413537805205, 0.6948413537805205, 0.6948413537805205, 0.6948413537805205, 0.6948413537805205, 0.6948413537805205, 0.6948413537805205, 0.6948413537805205, 0.6948413537805205, 0.6948413537805205, 0.6948413537805205, 0.6948413537805205, 0.6948413537805205, 0.6948413537805205, 0.6948413537805205, 0.6948413537805205, 0.6948413537805205, 0.6948413537805205, 0.6948413537805205, 0.6949932139432076]}], \"norm_macro_recall\": [{\"categories\": [\"0\", \"1\", \"2\", \"3\", \"4\", \"5\", \"6\", \"7\", \"8\", \"9\", \"10\", \"11\", \"12\", \"13\", \"14\", \"15\", \"16\", \"17\", \"18\", \"19\", \"20\", \"21\", \"22\", \"23\", \"24\", \"25\", \"26\", \"27\", \"28\", \"29\", \"30\", \"31\", \"32\", \"33\", \"34\", \"38\", \"39\"], \"mode\": \"markers\", \"name\": \"norm_macro_recall\", \"stepped\": false, \"type\": \"scatter\", \"data\": [0.2873664770790876, 0.289975559341368, 0.2718310066331826, 0.22253284945097085, 0.27449322976974555, 0.23476944215341322, 0.2869303697092458, 0.2869137955574228, 0.2866940844573198, 0.2869403142003397, 0.28697843474953233, 0.26910486942365264, 0.2542345404080928, 0.26077687607485966, 0.26077687607485966, 0.2557202059421235, 0.255144875696969, 0.2847266290474857, 0.2560303497581107, 0.254235369115684, 0.2560161581406122, 0.2501362706045194, 0.25689665995620703, 0.2587123582884123, 0.2646156568139548, 0.0, 0.2542345404080928, 0.2576039618852519, 0.28027688363681635, 0.24363568108265676, 0.27778382043729666, 0.28649757716976887, 0.25900924278294113, 0.28464624441114417, 0.282363776528225, 0.292171841634808, 0.28943586352263306]}, {\"categories\": [\"0\", \"1\", \"2\", \"3\", \"4\", \"5\", \"6\", \"7\", \"8\", \"9\", \"10\", \"11\", \"12\", \"13\", \"14\", \"15\", \"16\", \"17\", \"18\", \"19\", \"20\", \"21\", \"22\", \"23\", \"24\", \"25\", \"26\", \"27\", \"28\", \"29\", \"30\", \"31\", \"32\", \"33\", \"34\", \"38\", \"39\"], \"mode\": \"lines\", \"name\": \"norm_macro_recall_max\", \"stepped\": true, \"type\": \"scatter\", \"data\": [0.2873664770790876, 0.289975559341368, 0.289975559341368, 0.289975559341368, 0.289975559341368, 0.289975559341368, 0.289975559341368, 0.289975559341368, 0.289975559341368, 0.289975559341368, 0.289975559341368, 0.289975559341368, 0.289975559341368, 0.289975559341368, 0.289975559341368, 0.289975559341368, 0.289975559341368, 0.289975559341368, 0.289975559341368, 0.289975559341368, 0.289975559341368, 0.289975559341368, 0.289975559341368, 0.289975559341368, 0.289975559341368, 0.289975559341368, 0.289975559341368, 0.289975559341368, 0.289975559341368, 0.289975559341368, 0.289975559341368, 0.289975559341368, 0.289975559341368, 0.289975559341368, 0.289975559341368, 0.292171841634808, 0.292171841634808]}]}, \"metricName\": null, \"primaryMetricName\": \"accuracy\", \"showLegend\": false}, \"run_metrics\": [{\"name\": \"experiment_status\", \"run_id\": \"AutoML_c9db7e69-7cee-41fd-8859-56cb273ff2f0\", \"categories\": [0, 1, 2, 3, 4, 5, 6, 7, 8, 9, 10, 11, 12], \"series\": [{\"data\": [\"DatasetEvaluation\", \"FeaturesGeneration\", \"DatasetFeaturization\", \"DatasetFeaturizationCompleted\", \"ModelSelection\", \"BestRunExplainModel\", \"ModelExplanationDataSetSetup\", \"PickSurrogateModel\", \"EngineeredFeatureExplanations\", \"EngineeredFeatureExplanations\", \"RawFeaturesExplanations\", \"RawFeaturesExplanations\", \"BestRunExplainModel\"]}]}, {\"name\": \"experiment_status_description\", \"run_id\": \"AutoML_c9db7e69-7cee-41fd-8859-56cb273ff2f0\", \"categories\": [0, 1, 2, 3, 4, 5, 6, 7, 8, 9, 10, 11, 12], \"series\": [{\"data\": [\"Gathering dataset statistics.\", \"Generating features for the dataset.\", \"Beginning to fit featurizers and featurize the dataset.\", \"Completed fit featurizers and featurizing the dataset.\", \"Beginning model selection.\", \"Best run model explanations started\", \"Model explanations data setup completed\", \"Choosing LightGBM as the surrogate model for explanations\", \"Computation of engineered features started\", \"Computation of engineered features completed\", \"Computation of raw features started\", \"Computation of raw features completed\", \"Best run model explanations completed\"]}]}, {\"name\": \"AUC_weighted\", \"run_id\": \"AutoML_c9db7e69-7cee-41fd-8859-56cb273ff2f0\", \"categories\": [0], \"series\": [{\"data\": [0.6893232732375306]}]}, {\"name\": \"recall_score_weighted\", \"run_id\": \"AutoML_c9db7e69-7cee-41fd-8859-56cb273ff2f0\", \"categories\": [0], \"series\": [{\"data\": [0.6458807464724624]}]}, {\"name\": \"log_loss\", \"run_id\": \"AutoML_c9db7e69-7cee-41fd-8859-56cb273ff2f0\", \"categories\": [0], \"series\": [{\"data\": [0.6428691741374158]}]}, {\"name\": \"weighted_accuracy\", \"run_id\": \"AutoML_c9db7e69-7cee-41fd-8859-56cb273ff2f0\", \"categories\": [0], \"series\": [{\"data\": [0.6456755734877481]}]}, {\"name\": \"precision_score_macro\", \"run_id\": \"AutoML_c9db7e69-7cee-41fd-8859-56cb273ff2f0\", \"categories\": [0], \"series\": [{\"data\": [0.653864592463995]}]}, {\"name\": \"recall_score_micro\", \"run_id\": \"AutoML_c9db7e69-7cee-41fd-8859-56cb273ff2f0\", \"categories\": [0], \"series\": [{\"data\": [0.6458807464724624]}]}, {\"name\": \"balanced_accuracy\", \"run_id\": \"AutoML_c9db7e69-7cee-41fd-8859-56cb273ff2f0\", \"categories\": [0], \"series\": [{\"data\": [0.646085920817404]}]}, {\"name\": \"average_precision_score_micro\", \"run_id\": \"AutoML_c9db7e69-7cee-41fd-8859-56cb273ff2f0\", \"categories\": [0], \"series\": [{\"data\": [0.6801003544328377]}]}, {\"name\": \"precision_score_weighted\", \"run_id\": \"AutoML_c9db7e69-7cee-41fd-8859-56cb273ff2f0\", \"categories\": [0], \"series\": [{\"data\": [0.6539292389902424]}]}, {\"name\": \"f1_score_macro\", \"run_id\": \"AutoML_c9db7e69-7cee-41fd-8859-56cb273ff2f0\", \"categories\": [0], \"series\": [{\"data\": [0.6414215538190948]}]}, {\"name\": \"precision_score_micro\", \"run_id\": \"AutoML_c9db7e69-7cee-41fd-8859-56cb273ff2f0\", \"categories\": [0], \"series\": [{\"data\": [0.6458807464724624]}]}, {\"name\": \"AUC_micro\", \"run_id\": \"AutoML_c9db7e69-7cee-41fd-8859-56cb273ff2f0\", \"categories\": [0], \"series\": [{\"data\": [0.6947363154415267]}]}, {\"name\": \"f1_score_weighted\", \"run_id\": \"AutoML_c9db7e69-7cee-41fd-8859-56cb273ff2f0\", \"categories\": [0], \"series\": [{\"data\": [0.6413487506737336]}]}, {\"name\": \"AUC_macro\", \"run_id\": \"AutoML_c9db7e69-7cee-41fd-8859-56cb273ff2f0\", \"categories\": [0], \"series\": [{\"data\": [0.6893232732375305]}]}, {\"name\": \"average_precision_score_macro\", \"run_id\": \"AutoML_c9db7e69-7cee-41fd-8859-56cb273ff2f0\", \"categories\": [0], \"series\": [{\"data\": [0.6746842369907016]}]}, {\"name\": \"recall_score_macro\", \"run_id\": \"AutoML_c9db7e69-7cee-41fd-8859-56cb273ff2f0\", \"categories\": [0], \"series\": [{\"data\": [0.646085920817404]}]}, {\"name\": \"average_precision_score_weighted\", \"run_id\": \"AutoML_c9db7e69-7cee-41fd-8859-56cb273ff2f0\", \"categories\": [0], \"series\": [{\"data\": [0.67470725548463]}]}, {\"name\": \"matthews_correlation\", \"run_id\": \"AutoML_c9db7e69-7cee-41fd-8859-56cb273ff2f0\", \"categories\": [0], \"series\": [{\"data\": [0.2998496334584875]}]}, {\"name\": \"accuracy\", \"run_id\": \"AutoML_c9db7e69-7cee-41fd-8859-56cb273ff2f0\", \"categories\": [0], \"series\": [{\"data\": [0.6458807464724624]}]}, {\"name\": \"norm_macro_recall\", \"run_id\": \"AutoML_c9db7e69-7cee-41fd-8859-56cb273ff2f0\", \"categories\": [0], \"series\": [{\"data\": [0.292171841634808]}]}, {\"name\": \"f1_score_micro\", \"run_id\": \"AutoML_c9db7e69-7cee-41fd-8859-56cb273ff2f0\", \"categories\": [0], \"series\": [{\"data\": [0.6458807464724624]}]}], \"run_logs\": \"\\nRun is completed.\", \"graph\": {}, \"widget_settings\": {\"childWidgetDisplay\": \"popup\", \"send_telemetry\": false, \"log_level\": \"INFO\", \"sdk_version\": \"1.28.0\"}, \"loading\": false}"
     },
     "metadata": {},
     "output_type": "display_data"
    },
    {
     "data": {
      "text/html": [
       "<table style=\"width:100%\"><tr><th>Experiment</th><th>Id</th><th>Type</th><th>Status</th><th>Details Page</th><th>Docs Page</th></tr><tr><td>automlcovid</td><td>AutoML_c9db7e69-7cee-41fd-8859-56cb273ff2f0</td><td>automl</td><td>NotStarted</td><td><a href=\"https://ml.azure.com/runs/AutoML_c9db7e69-7cee-41fd-8859-56cb273ff2f0?wsid=/subscriptions/6b4af8be-9931-443e-90f6-c4c34a1f9737/resourcegroups/aml-quickstarts-144503/workspaces/quick-starts-ws-144503&amp;tid=660b3398-b80e-49d2-bc5b-ac1dc93b5254\" target=\"_blank\" rel=\"noopener\">Link to Azure Machine Learning studio</a></td><td><a href=\"https://docs.microsoft.com/en-us/python/api/overview/azure/ml/intro?view=azure-ml-py\" target=\"_blank\" rel=\"noopener\">Link to Documentation</a></td></tr></table>"
      ],
      "text/plain": [
       "<IPython.core.display.HTML object>"
      ]
     },
     "metadata": {},
     "output_type": "display_data"
    },
    {
     "name": "stdout",
     "output_type": "stream",
     "text": [
      "\n",
      "Current status: FeaturesGeneration. Generating features for the dataset.\n",
      "Current status: DatasetFeaturization. Beginning to fit featurizers and featurize the dataset.\n",
      "Current status: ModelSelection. Beginning model selection.\n",
      "\n",
      "****************************************************************************************************\n",
      "DATA GUARDRAILS: \n",
      "\n",
      "TYPE:         Train-Test data split\n",
      "STATUS:       DONE\n",
      "DESCRIPTION:  Your input data has been split into a training dataset and a holdout test dataset for validation of the model. The test holdout dataset reflects the original distribution of your input data.\n",
      "              \n",
      "DETAILS:      \n",
      "+---------------------------------+---------------------------------+---------------------------------+\n",
      "|Dataset                          |Row counts                       |Percentage                       |\n",
      "+=================================+=================================+=================================+\n",
      "|train                            |79088                            |89.9995448131458                 |\n",
      "|test                             |8788                             |10.000455186854204               |\n",
      "+---------------------------------+---------------------------------+---------------------------------+\n",
      "\n",
      "****************************************************************************************************\n",
      "\n",
      "TYPE:         Class balancing detection\n",
      "STATUS:       PASSED\n",
      "DESCRIPTION:  Your inputs were analyzed, and all classes are balanced in your training data.\n",
      "              Learn more about imbalanced data: https://aka.ms/AutomatedMLImbalancedData\n",
      "\n",
      "****************************************************************************************************\n",
      "\n",
      "TYPE:         Missing feature values imputation\n",
      "STATUS:       PASSED\n",
      "DESCRIPTION:  No feature missing values were detected in the training data.\n",
      "              Learn more about missing value imputation: https://aka.ms/AutomatedMLFeaturization\n",
      "\n",
      "****************************************************************************************************\n",
      "\n",
      "TYPE:         High cardinality feature detection\n",
      "STATUS:       PASSED\n",
      "DESCRIPTION:  Your inputs were analyzed, and no high cardinality features were detected.\n",
      "              Learn more about high cardinality feature handling: https://aka.ms/AutomatedMLFeaturization\n",
      "\n",
      "****************************************************************************************************\n",
      "\n",
      "****************************************************************************************************\n",
      "ITERATION: The iteration being evaluated.\n",
      "PIPELINE: A summary description of the pipeline being evaluated.\n",
      "DURATION: Time taken for the current iteration.\n",
      "METRIC: The result of computing score on the fitted pipeline.\n",
      "BEST: The best observed score thus far.\n",
      "****************************************************************************************************\n",
      "\n",
      " ITERATION   PIPELINE                                       DURATION      METRIC      BEST\n",
      "         3   MaxAbsScaler RandomForest                      0:00:41       0.6111    0.6111\n",
      "         4   MaxAbsScaler RandomForest                      0:00:41       0.6370    0.6370\n",
      "         5   MaxAbsScaler RandomForest                      0:00:42       0.6173    0.6370\n",
      "         0   MaxAbsScaler LightGBM                          0:01:35       0.6435    0.6435\n",
      "         1   MaxAbsScaler XGBoostClassifier                 0:01:40       0.6447    0.6447\n",
      "         2   MaxAbsScaler RandomForest                      0:01:39       0.6356    0.6447\n",
      "         6   SparseNormalizer XGBoostClassifier             0:00:49       0.6433    0.6447\n",
      "         7   SparseNormalizer XGBoostClassifier             0:00:50       0.6433    0.6447\n",
      "        10   SparseNormalizer XGBoostClassifier             0:00:44       0.6433    0.6447\n",
      "         8   SparseNormalizer XGBoostClassifier             0:00:56       0.6431    0.6447\n",
      "         9   SparseNormalizer XGBoostClassifier             0:00:51       0.6433    0.6447\n",
      "        11   SparseNormalizer XGBoostClassifier             0:00:43       0.6342    0.6447\n",
      "        12   MaxAbsScaler RandomForest                      0:00:47       0.6269    0.6447\n",
      "        13   MaxAbsScaler LogisticRegression                0:00:44       0.6302    0.6447\n",
      "        14   MaxAbsScaler LogisticRegression                0:00:44       0.6302    0.6447\n",
      "        16   MaxAbsScaler LightGBM                          0:00:41       0.6273    0.6447\n",
      "        17   MaxAbsScaler LightGBM                          0:00:42       0.6421    0.6447\n",
      "        15   MaxAbsScaler ExtremeRandomTrees                0:01:13       0.6276    0.6447\n",
      "        19   MaxAbsScaler ExtremeRandomTrees                0:01:19       0.6269    0.6447\n",
      "        18   MaxAbsScaler LightGBM                          0:00:39       0.6278    0.6447\n",
      "        20   SparseNormalizer LightGBM                      0:00:44       0.6277    0.6447\n",
      "        21   StandardScalerWrapper LightGBM                 0:00:40       0.6247    0.6447\n",
      "        22   MaxAbsScaler LightGBM                          0:00:43       0.6281    0.6447\n",
      "        23   StandardScalerWrapper LightGBM                 0:00:44       0.6290    0.6447\n",
      "        24   MaxAbsScaler LightGBM                          0:00:41       0.6322    0.6447\n",
      "        25   StandardScalerWrapper XGBoostClassifier        0:00:41       0.5009    0.6447\n",
      "        26   MaxAbsScaler ExtremeRandomTrees                0:00:46       0.6269    0.6447\n",
      "        27   StandardScalerWrapper LightGBM                 0:00:41       0.6286    0.6447\n",
      "        28   StandardScalerWrapper XGBoostClassifier        0:00:44       0.6398    0.6447\n",
      "        29   MaxAbsScaler RandomForest                      0:00:46       0.6218    0.6447\n",
      "        30   StandardScalerWrapper XGBoostClassifier        0:00:46       0.6386    0.6447\n",
      "        31   SparseNormalizer XGBoostClassifier             0:00:43       0.6430    0.6447\n",
      "        32   MaxAbsScaler LightGBM                          0:00:46       0.6293    0.6447\n",
      "        33   StandardScalerWrapper XGBoostClassifier        0:00:46       0.6421    0.6447\n",
      "        37                                                  0:00:20          nan    0.6447\n",
      "        34   SparseNormalizer XGBoostClassifier             0:00:25       0.6410    0.6447\n",
      "        35   TruncatedSVDWrapper XGBoostClassifier          0:00:20          nan    0.6447\n",
      "        36                                                  0:00:09          nan    0.6447\n",
      "        38    VotingEnsemble                                0:00:56       0.6459    0.6459\n",
      "        39    StackEnsemble                                 0:01:25       0.6445    0.6459\n"
     ]
    },
    {
     "data": {
      "text/plain": [
       "{'runId': 'AutoML_c9db7e69-7cee-41fd-8859-56cb273ff2f0',\n",
       " 'target': 'cpu-cluster',\n",
       " 'status': 'Completed',\n",
       " 'startTimeUtc': '2021-05-11T03:14:03.485439Z',\n",
       " 'endTimeUtc': '2021-05-11T03:29:58.473611Z',\n",
       " 'properties': {'num_iterations': '1000',\n",
       "  'training_type': 'TrainFull',\n",
       "  'acquisition_function': 'EI',\n",
       "  'primary_metric': 'accuracy',\n",
       "  'train_split': '0',\n",
       "  'acquisition_parameter': '0',\n",
       "  'num_cross_validation': None,\n",
       "  'target': 'cpu-cluster',\n",
       "  'AMLSettingsJsonString': '{\"path\":null,\"name\":\"automlcovid\",\"subscription_id\":\"6b4af8be-9931-443e-90f6-c4c34a1f9737\",\"resource_group\":\"aml-quickstarts-144503\",\"workspace_name\":\"quick-starts-ws-144503\",\"region\":\"southcentralus\",\"compute_target\":\"cpu-cluster\",\"spark_service\":null,\"azure_service\":\"remote\",\"many_models\":false,\"pipeline_fetch_max_batch_size\":1,\"enable_batch_run\":false,\"enable_run_restructure\":false,\"start_auxiliary_runs_before_parent_complete\":false,\"enable_code_generation\":false,\"iterations\":1000,\"primary_metric\":\"accuracy\",\"task_type\":\"classification\",\"data_script\":null,\"test_size\":0.0,\"validation_size\":0.0,\"n_cross_validations\":null,\"y_min\":null,\"y_max\":null,\"num_classes\":null,\"featurization\":\"auto\",\"_ignore_package_version_incompatibilities\":false,\"is_timeseries\":false,\"max_cores_per_iteration\":1,\"max_concurrent_iterations\":5,\"iteration_timeout_minutes\":null,\"mem_in_mb\":null,\"enforce_time_on_windows\":false,\"experiment_timeout_minutes\":30,\"experiment_exit_score\":null,\"whitelist_models\":null,\"blacklist_algos\":[\"TensorFlowLinearClassifier\",\"TensorFlowDNN\"],\"supported_models\":[\"LightGBM\",\"GradientBoosting\",\"TensorFlowDNN\",\"SVM\",\"RandomForest\",\"SGD\",\"KNN\",\"ExtremeRandomTrees\",\"LogisticRegression\",\"DecisionTree\",\"AveragedPerceptronClassifier\",\"TensorFlowLinearClassifier\",\"MultinomialNaiveBayes\",\"BernoulliNaiveBayes\",\"LinearSVM\",\"XGBoostClassifier\"],\"private_models\":[],\"auto_blacklist\":true,\"blacklist_samples_reached\":false,\"exclude_nan_labels\":true,\"verbosity\":20,\"_debug_log\":\"azureml_automl.log\",\"show_warnings\":false,\"model_explainability\":true,\"service_url\":null,\"sdk_url\":null,\"sdk_packages\":null,\"enable_onnx_compatible_models\":false,\"enable_split_onnx_featurizer_estimator_models\":false,\"vm_type\":\"STANDARD_D16S_V3\",\"telemetry_verbosity\":20,\"send_telemetry\":true,\"enable_dnn\":false,\"scenario\":\"SDK-1.13.0\",\"environment_label\":null,\"save_mlflow\":false,\"force_text_dnn\":false,\"enable_feature_sweeping\":true,\"enable_early_stopping\":true,\"early_stopping_n_iters\":10,\"metrics\":null,\"enable_metric_confidence\":false,\"enable_ensembling\":true,\"enable_stack_ensembling\":true,\"ensemble_iterations\":15,\"enable_tf\":false,\"enable_subsampling\":null,\"subsample_seed\":null,\"enable_nimbusml\":false,\"enable_streaming\":false,\"force_streaming\":false,\"track_child_runs\":true,\"allowed_private_models\":[],\"label_column_name\":\"UCI\",\"weight_column_name\":null,\"cv_split_column_names\":null,\"enable_local_managed\":false,\"_local_managed_run_id\":null,\"cost_mode\":1,\"lag_length\":0,\"metric_operation\":\"maximize\",\"preprocess\":true}',\n",
       "  'DataPrepJsonString': '{\\\\\"training_data\\\\\": {\\\\\"datasetId\\\\\": \\\\\"ef13a2d1-13b6-46f0-bdfd-4b1acbdb5a77\\\\\"}, \\\\\"datasets\\\\\": 0}',\n",
       "  'EnableSubsampling': None,\n",
       "  'runTemplate': 'AutoML',\n",
       "  'azureml.runsource': 'automl',\n",
       "  'display_task_type': 'classification',\n",
       "  'dependencies_versions': '{\"azureml-widgets\": \"1.28.0\", \"azureml-train\": \"1.28.0\", \"azureml-train-restclients-hyperdrive\": \"1.28.0\", \"azureml-train-core\": \"1.28.0\", \"azureml-train-automl\": \"1.28.0\", \"azureml-train-automl-runtime\": \"1.28.0\", \"azureml-train-automl-client\": \"1.28.0\", \"azureml-tensorboard\": \"1.27.0\", \"azureml-telemetry\": \"1.28.0\", \"azureml-sdk\": \"1.28.0\", \"azureml-samples\": \"0+unknown\", \"azureml-pipeline\": \"1.28.0\", \"azureml-pipeline-steps\": \"1.28.0\", \"azureml-pipeline-core\": \"1.28.0\", \"azureml-opendatasets\": \"1.27.0\", \"azureml-model-management-sdk\": \"1.0.1b6.post1\", \"azureml-mlflow\": \"1.27.0\", \"azureml-interpret\": \"1.28.0\", \"azureml-explain-model\": \"1.27.0\", \"azureml-defaults\": \"1.28.0\", \"azureml-dataset-runtime\": \"1.28.0\", \"azureml-dataprep\": \"2.15.0\", \"azureml-dataprep-rslex\": \"1.13.0\", \"azureml-dataprep-native\": \"33.0.0\", \"azureml-datadrift\": \"1.27.0\", \"azureml-core\": \"1.28.0\", \"azureml-contrib-services\": \"1.28.0\", \"azureml-contrib-server\": \"1.28.0\", \"azureml-contrib-reinforcementlearning\": \"1.27.0\", \"azureml-contrib-pipeline-steps\": \"1.28.0\", \"azureml-contrib-notebook\": \"1.28.0\", \"azureml-contrib-gbdt\": \"1.27.0\", \"azureml-contrib-fairness\": \"1.27.0\", \"azureml-contrib-dataset\": \"1.27.0\", \"azureml-cli-common\": \"1.27.0\", \"azureml-automl-runtime\": \"1.28.0.post1\", \"azureml-automl-dnn-nlp\": \"1.27.0\", \"azureml-automl-core\": \"1.28.0\", \"azureml-accel-models\": \"1.27.0\"}',\n",
       "  '_aml_system_scenario_identification': 'Remote.Parent',\n",
       "  'ClientType': 'SDK',\n",
       "  'environment_cpu_name': 'AzureML-AutoML',\n",
       "  'environment_cpu_label': 'prod',\n",
       "  'environment_gpu_name': 'AzureML-AutoML-GPU',\n",
       "  'environment_gpu_label': 'prod',\n",
       "  'root_attribution': 'automl',\n",
       "  'attribution': 'AutoML',\n",
       "  'Orchestrator': 'AutoML',\n",
       "  'CancelUri': 'https://southcentralus.api.azureml.ms/jasmine/v1.0/subscriptions/6b4af8be-9931-443e-90f6-c4c34a1f9737/resourceGroups/aml-quickstarts-144503/providers/Microsoft.MachineLearningServices/workspaces/quick-starts-ws-144503/experimentids/3a516b38-9153-4f68-a4c0-a121398fda99/cancel/AutoML_c9db7e69-7cee-41fd-8859-56cb273ff2f0',\n",
       "  'ClientSdkVersion': '1.27.0.post1',\n",
       "  'snapshotId': '00000000-0000-0000-0000-000000000000',\n",
       "  'SetupRunId': 'AutoML_c9db7e69-7cee-41fd-8859-56cb273ff2f0_setup',\n",
       "  'SetupRunContainerId': 'dcid.AutoML_c9db7e69-7cee-41fd-8859-56cb273ff2f0_setup',\n",
       "  'FeaturizationRunJsonPath': 'featurizer_container.json',\n",
       "  'FeaturizationRunId': 'AutoML_c9db7e69-7cee-41fd-8859-56cb273ff2f0_featurize',\n",
       "  'ProblemInfoJsonString': '{\"dataset_num_categorical\": 0, \"is_sparse\": true, \"subsampling\": false, \"dataset_classes\": 2, \"dataset_features\": 38, \"dataset_samples\": 79088, \"single_frequency_class_detected\": false}',\n",
       "  'ModelExplainRunId': 'AutoML_c9db7e69-7cee-41fd-8859-56cb273ff2f0_ModelExplain'},\n",
       " 'inputDatasets': [{'dataset': {'id': 'ef13a2d1-13b6-46f0-bdfd-4b1acbdb5a77'}, 'consumptionDetails': {'type': 'RunInput', 'inputName': 'training_data', 'mechanism': 'Direct'}}],\n",
       " 'outputDatasets': [],\n",
       " 'logFiles': {},\n",
       " 'submittedBy': 'ODL_User 144503'}"
      ]
     },
     "execution_count": 12,
     "metadata": {},
     "output_type": "execute_result"
    }
   ],
   "source": [
    "from azureml.widgets import RunDetails\n",
    "#Submit the experiment\n",
    "remote_run = experiment.submit(automl_config)\n",
    "#Show Run Details\n",
    "RunDetails(remote_run).show()\n",
    "remote_run.wait_for_completion(show_output=True)\n"
   ]
  },
  {
   "cell_type": "markdown",
   "metadata": {},
   "source": [
    "## Best Model\n",
    "\n",
    "In the cells below we get the best model from the automl experiments and display all the properties of the model.\n"
   ]
  },
  {
   "cell_type": "code",
   "execution_count": 13,
   "metadata": {
    "gather": {
     "logged": 1620694516076
    },
    "jupyter": {
     "outputs_hidden": false,
     "source_hidden": false
    },
    "nteract": {
     "transient": {
      "deleting": false
     }
    },
    "scrolled": true
   },
   "outputs": [
    {
     "name": "stdout",
     "output_type": "stream",
     "text": [
      "AutoML:\n",
      "Best run Id:  AutoML_c9db7e69-7cee-41fd-8859-56cb273ff2f0_38\n",
      "Accuracy:  0.6458807464724624\n",
      "All metrics:\n",
      "norm_macro_recall 0.292171841634808\n",
      "f1_score_micro 0.6458807464724624\n",
      "accuracy 0.6458807464724624\n",
      "matthews_correlation 0.2998496334584875\n",
      "recall_score_macro 0.646085920817404\n",
      "average_precision_score_weighted 0.67470725548463\n",
      "weighted_accuracy 0.6456755734877481\n",
      "AUC_weighted 0.6893232732375306\n",
      "average_precision_score_macro 0.6746842369907016\n",
      "AUC_macro 0.6893232732375305\n",
      "AUC_micro 0.6947363154415267\n",
      "precision_score_micro 0.6458807464724624\n",
      "f1_score_macro 0.6414215538190948\n",
      "log_loss 0.6428691741374158\n",
      "precision_score_macro 0.653864592463995\n",
      "balanced_accuracy 0.646085920817404\n",
      "recall_score_micro 0.6458807464724624\n",
      "recall_score_weighted 0.6458807464724624\n",
      "precision_score_weighted 0.6539292389902424\n",
      "average_precision_score_micro 0.6801003544328377\n",
      "f1_score_weighted 0.6413487506737336\n",
      "confusion_matrix aml://artifactId/ExperimentRun/dcid.AutoML_c9db7e69-7cee-41fd-8859-56cb273ff2f0_38/confusion_matrix\n",
      "accuracy_table aml://artifactId/ExperimentRun/dcid.AutoML_c9db7e69-7cee-41fd-8859-56cb273ff2f0_38/accuracy_table\n"
     ]
    }
   ],
   "source": [
    "best_run_automl, fitted_model_automl = remote_run.get_output()\n",
    "\n",
    "#Displaying properties of the AutoML Model\n",
    "print(\"AutoML:\")\n",
    "automl_best_run_metrics = best_run_automl.get_metrics()\n",
    "print(\"Best run Id: \",best_run_automl.id)\n",
    "print(\"Accuracy: \", automl_best_run_metrics['accuracy'])\n",
    "print(\"All metrics:\")\n",
    "for metric in automl_best_run_metrics:\n",
    "    value = automl_best_run_metrics[metric]\n",
    "    print(metric,value)"
   ]
  },
  {
   "cell_type": "markdown",
   "metadata": {},
   "source": [
    "## Printing the model parameters\n",
    "In the cell below we can see all the parameters for the selected model"
   ]
  },
  {
   "cell_type": "code",
   "execution_count": 14,
   "metadata": {
    "gather": {
     "logged": 1620694765103
    },
    "jupyter": {
     "outputs_hidden": false,
     "source_hidden": false
    },
    "nteract": {
     "transient": {
      "deleting": false
     }
    }
   },
   "outputs": [
    {
     "name": "stdout",
     "output_type": "stream",
     "text": [
      "datatransformer\n",
      "{'enable_dnn': False,\n",
      " 'enable_feature_sweeping': True,\n",
      " 'feature_sweeping_config': {},\n",
      " 'feature_sweeping_timeout': 86400,\n",
      " 'featurization_config': None,\n",
      " 'force_text_dnn': False,\n",
      " 'is_cross_validation': False,\n",
      " 'is_onnx_compatible': False,\n",
      " 'observer': None,\n",
      " 'task': 'classification',\n",
      " 'working_dir': '/mnt/batch/tasks/shared/LS_root/mounts/clusters/notebook144503/code/Users/odl_user_144503'}\n",
      "\n",
      "prefittedsoftvotingclassifier\n",
      "{'estimators': ['1', '0', '10', '9', '7', '25', '31', '33', '24', '29'],\n",
      " 'weights': [0.07692307692307693,\n",
      "             0.15384615384615385,\n",
      "             0.07692307692307693,\n",
      "             0.07692307692307693,\n",
      "             0.15384615384615385,\n",
      "             0.15384615384615385,\n",
      "             0.07692307692307693,\n",
      "             0.07692307692307693,\n",
      "             0.07692307692307693,\n",
      "             0.07692307692307693]}\n",
      "\n",
      "1 - maxabsscaler\n",
      "{'copy': True}\n",
      "\n",
      "1 - xgboostclassifier\n",
      "{'base_score': 0.5,\n",
      " 'booster': 'gbtree',\n",
      " 'colsample_bylevel': 1,\n",
      " 'colsample_bynode': 1,\n",
      " 'colsample_bytree': 1,\n",
      " 'gamma': 0,\n",
      " 'learning_rate': 0.1,\n",
      " 'max_delta_step': 0,\n",
      " 'max_depth': 3,\n",
      " 'min_child_weight': 1,\n",
      " 'missing': nan,\n",
      " 'n_estimators': 100,\n",
      " 'n_jobs': 1,\n",
      " 'nthread': None,\n",
      " 'objective': 'binary:logistic',\n",
      " 'random_state': 0,\n",
      " 'reg_alpha': 0,\n",
      " 'reg_lambda': 1,\n",
      " 'scale_pos_weight': 1,\n",
      " 'seed': None,\n",
      " 'silent': None,\n",
      " 'subsample': 1,\n",
      " 'tree_method': 'auto',\n",
      " 'verbose': -10,\n",
      " 'verbosity': 0}\n",
      "\n",
      "0 - maxabsscaler\n",
      "{'copy': True}\n",
      "\n",
      "0 - lightgbmclassifier\n",
      "{'n_jobs': 1,\n",
      " 'problem_info': ProblemInfo(\n",
      "    dataset_samples=79088,\n",
      "    dataset_features=38,\n",
      "    dataset_classes=2,\n",
      "    dataset_num_categorical=0,\n",
      "    dataset_categoricals=None,\n",
      "    pipeline_categoricals=None,\n",
      "    dataset_y_std=None,\n",
      "    dataset_uid=None,\n",
      "    subsampling=False,\n",
      "    task='classification',\n",
      "    metric=None,\n",
      "    num_threads=1,\n",
      "    pipeline_profile='none',\n",
      "    is_sparse=True,\n",
      "    runtime_constraints={'mem_in_mb': None, 'wall_time_in_s': None, 'total_wall_time_in_s': 31449600, 'cpu_time_in_s': None, 'num_processes': None, 'grace_period_in_s': None},\n",
      "    constraint_mode=1,\n",
      "    cost_mode=1,\n",
      "    training_percent=None,\n",
      "    num_recommendations=1,\n",
      "    model_names_whitelisted=None,\n",
      "    model_names_blacklisted=None,\n",
      "    kernel='linear',\n",
      "    subsampling_treatment='linear',\n",
      "    subsampling_schedule='hyperband_clip',\n",
      "    cost_mode_param=None,\n",
      "    iteration_timeout_mode=0,\n",
      "    iteration_timeout_param=None,\n",
      "    feature_column_names=None,\n",
      "    label_column_name=None,\n",
      "    weight_column_name=None,\n",
      "    cv_split_column_names=None,\n",
      "    enable_streaming=None,\n",
      "    timeseries_param_dict=None,\n",
      "    gpu_training_param_dict={'processing_unit_type': 'cpu'}\n",
      "),\n",
      " 'random_state': None}\n",
      "\n",
      "10 - sparsenormalizer\n",
      "{'copy': True, 'norm': 'l1'}\n",
      "\n",
      "10 - xgboostclassifier\n",
      "{'base_score': 0.5,\n",
      " 'booster': 'gbtree',\n",
      " 'colsample_bylevel': 1,\n",
      " 'colsample_bynode': 1,\n",
      " 'colsample_bytree': 0.7,\n",
      " 'eta': 0.2,\n",
      " 'gamma': 0,\n",
      " 'learning_rate': 0.1,\n",
      " 'max_delta_step': 0,\n",
      " 'max_depth': 7,\n",
      " 'max_leaves': 31,\n",
      " 'min_child_weight': 1,\n",
      " 'missing': nan,\n",
      " 'n_estimators': 10,\n",
      " 'n_jobs': 1,\n",
      " 'nthread': None,\n",
      " 'objective': 'reg:logistic',\n",
      " 'random_state': 0,\n",
      " 'reg_alpha': 0,\n",
      " 'reg_lambda': 0.625,\n",
      " 'scale_pos_weight': 1,\n",
      " 'seed': None,\n",
      " 'silent': None,\n",
      " 'subsample': 1,\n",
      " 'tree_method': 'auto',\n",
      " 'verbose': -10,\n",
      " 'verbosity': 0}\n",
      "\n",
      "9 - sparsenormalizer\n",
      "{'copy': True, 'norm': 'max'}\n",
      "\n",
      "9 - xgboostclassifier\n",
      "{'base_score': 0.5,\n",
      " 'booster': 'gbtree',\n",
      " 'colsample_bylevel': 1,\n",
      " 'colsample_bynode': 1,\n",
      " 'colsample_bytree': 0.7,\n",
      " 'eta': 0.001,\n",
      " 'gamma': 0,\n",
      " 'learning_rate': 0.1,\n",
      " 'max_delta_step': 0,\n",
      " 'max_depth': 4,\n",
      " 'max_leaves': 7,\n",
      " 'min_child_weight': 1,\n",
      " 'missing': nan,\n",
      " 'n_estimators': 100,\n",
      " 'n_jobs': 1,\n",
      " 'nthread': None,\n",
      " 'objective': 'reg:logistic',\n",
      " 'random_state': 0,\n",
      " 'reg_alpha': 0.3125,\n",
      " 'reg_lambda': 1.875,\n",
      " 'scale_pos_weight': 1,\n",
      " 'seed': None,\n",
      " 'silent': None,\n",
      " 'subsample': 1,\n",
      " 'tree_method': 'auto',\n",
      " 'verbose': -10,\n",
      " 'verbosity': 0}\n",
      "\n",
      "7 - sparsenormalizer\n",
      "{'copy': True, 'norm': 'l2'}\n",
      "\n",
      "7 - xgboostclassifier\n",
      "{'base_score': 0.5,\n",
      " 'booster': 'gbtree',\n",
      " 'colsample_bylevel': 1,\n",
      " 'colsample_bynode': 1,\n",
      " 'colsample_bytree': 0.9,\n",
      " 'eta': 0.3,\n",
      " 'gamma': 0,\n",
      " 'learning_rate': 0.1,\n",
      " 'max_delta_step': 0,\n",
      " 'max_depth': 9,\n",
      " 'max_leaves': 0,\n",
      " 'min_child_weight': 1,\n",
      " 'missing': nan,\n",
      " 'n_estimators': 25,\n",
      " 'n_jobs': 1,\n",
      " 'nthread': None,\n",
      " 'objective': 'reg:logistic',\n",
      " 'random_state': 0,\n",
      " 'reg_alpha': 0,\n",
      " 'reg_lambda': 0.7291666666666667,\n",
      " 'scale_pos_weight': 1,\n",
      " 'seed': None,\n",
      " 'silent': None,\n",
      " 'subsample': 0.9,\n",
      " 'tree_method': 'auto',\n",
      " 'verbose': -10,\n",
      " 'verbosity': 0}\n",
      "\n",
      "25 - standardscalerwrapper\n",
      "{'class_name': 'StandardScaler',\n",
      " 'copy': True,\n",
      " 'module_name': 'sklearn.preprocessing._data',\n",
      " 'with_mean': False,\n",
      " 'with_std': False}\n",
      "\n",
      "25 - xgboostclassifier\n",
      "{'base_score': 0.5,\n",
      " 'booster': 'gbtree',\n",
      " 'colsample_bylevel': 1,\n",
      " 'colsample_bynode': 1,\n",
      " 'colsample_bytree': 0.9,\n",
      " 'eta': 0.3,\n",
      " 'gamma': 5,\n",
      " 'learning_rate': 0.1,\n",
      " 'max_delta_step': 0,\n",
      " 'max_depth': 0,\n",
      " 'max_leaves': 255,\n",
      " 'min_child_weight': 1,\n",
      " 'missing': nan,\n",
      " 'n_estimators': 25,\n",
      " 'n_jobs': 1,\n",
      " 'nthread': None,\n",
      " 'objective': 'reg:logistic',\n",
      " 'random_state': 0,\n",
      " 'reg_alpha': 2.1875,\n",
      " 'reg_lambda': 2.291666666666667,\n",
      " 'scale_pos_weight': 1,\n",
      " 'seed': None,\n",
      " 'silent': None,\n",
      " 'subsample': 1,\n",
      " 'tree_method': 'auto',\n",
      " 'verbose': -10,\n",
      " 'verbosity': 0}\n",
      "\n",
      "31 - sparsenormalizer\n",
      "{'copy': True, 'norm': 'l2'}\n",
      "\n",
      "31 - xgboostclassifier\n",
      "{'base_score': 0.5,\n",
      " 'booster': 'gbtree',\n",
      " 'colsample_bylevel': 1,\n",
      " 'colsample_bynode': 1,\n",
      " 'colsample_bytree': 0.6,\n",
      " 'eta': 0.1,\n",
      " 'gamma': 0.01,\n",
      " 'learning_rate': 0.1,\n",
      " 'max_delta_step': 0,\n",
      " 'max_depth': 9,\n",
      " 'max_leaves': 511,\n",
      " 'min_child_weight': 1,\n",
      " 'missing': nan,\n",
      " 'n_estimators': 10,\n",
      " 'n_jobs': 1,\n",
      " 'nthread': None,\n",
      " 'objective': 'reg:logistic',\n",
      " 'random_state': 0,\n",
      " 'reg_alpha': 0,\n",
      " 'reg_lambda': 1.4583333333333335,\n",
      " 'scale_pos_weight': 1,\n",
      " 'seed': None,\n",
      " 'silent': None,\n",
      " 'subsample': 1,\n",
      " 'tree_method': 'auto',\n",
      " 'verbose': -10,\n",
      " 'verbosity': 0}\n",
      "\n",
      "33 - standardscalerwrapper\n",
      "{'class_name': 'StandardScaler',\n",
      " 'copy': True,\n",
      " 'module_name': 'sklearn.preprocessing._data',\n",
      " 'with_mean': False,\n",
      " 'with_std': False}\n",
      "\n",
      "33 - xgboostclassifier\n",
      "{'base_score': 0.5,\n",
      " 'booster': 'gbtree',\n",
      " 'colsample_bylevel': 1,\n",
      " 'colsample_bynode': 1,\n",
      " 'colsample_bytree': 0.5,\n",
      " 'eta': 0.4,\n",
      " 'gamma': 0,\n",
      " 'learning_rate': 0.1,\n",
      " 'max_delta_step': 0,\n",
      " 'max_depth': 5,\n",
      " 'max_leaves': 0,\n",
      " 'min_child_weight': 1,\n",
      " 'missing': nan,\n",
      " 'n_estimators': 25,\n",
      " 'n_jobs': 1,\n",
      " 'nthread': None,\n",
      " 'objective': 'reg:logistic',\n",
      " 'random_state': 0,\n",
      " 'reg_alpha': 0.7291666666666667,\n",
      " 'reg_lambda': 2.3958333333333335,\n",
      " 'scale_pos_weight': 1,\n",
      " 'seed': None,\n",
      " 'silent': None,\n",
      " 'subsample': 0.9,\n",
      " 'tree_method': 'auto',\n",
      " 'verbose': -10,\n",
      " 'verbosity': 0}\n",
      "\n",
      "24 - maxabsscaler\n",
      "{'copy': True}\n",
      "\n",
      "24 - lightgbmclassifier\n",
      "{'n_jobs': 1,\n",
      " 'problem_info': ProblemInfo(\n",
      "    dataset_samples=79088,\n",
      "    dataset_features=38,\n",
      "    dataset_classes=2,\n",
      "    dataset_num_categorical=0,\n",
      "    dataset_categoricals=None,\n",
      "    pipeline_categoricals=None,\n",
      "    dataset_y_std=None,\n",
      "    dataset_uid=None,\n",
      "    subsampling=False,\n",
      "    task='classification',\n",
      "    metric=None,\n",
      "    num_threads=1,\n",
      "    pipeline_profile='none',\n",
      "    is_sparse=True,\n",
      "    runtime_constraints={'mem_in_mb': None, 'wall_time_in_s': None, 'total_wall_time_in_s': 31449600, 'cpu_time_in_s': None, 'num_processes': None, 'grace_period_in_s': None},\n",
      "    constraint_mode=1,\n",
      "    cost_mode=1,\n",
      "    training_percent=None,\n",
      "    num_recommendations=1,\n",
      "    model_names_whitelisted=None,\n",
      "    model_names_blacklisted=None,\n",
      "    kernel='linear',\n",
      "    subsampling_treatment='linear',\n",
      "    subsampling_schedule='hyperband_clip',\n",
      "    cost_mode_param=None,\n",
      "    iteration_timeout_mode=0,\n",
      "    iteration_timeout_param=None,\n",
      "    feature_column_names=None,\n",
      "    label_column_name=None,\n",
      "    weight_column_name=None,\n",
      "    cv_split_column_names=None,\n",
      "    enable_streaming=None,\n",
      "    timeseries_param_dict=None,\n",
      "    gpu_training_param_dict={'processing_unit_type': 'cpu'}\n",
      "),\n",
      " 'random_state': None}\n",
      "\n",
      "29 - maxabsscaler\n",
      "{'copy': True}\n",
      "\n",
      "29 - randomforestclassifier\n",
      "{'bootstrap': False,\n",
      " 'ccp_alpha': 0.0,\n",
      " 'class_weight': None,\n",
      " 'criterion': 'gini',\n",
      " 'max_depth': None,\n",
      " 'max_features': 0.05,\n",
      " 'max_leaf_nodes': None,\n",
      " 'max_samples': None,\n",
      " 'min_impurity_decrease': 0.0,\n",
      " 'min_impurity_split': None,\n",
      " 'min_samples_leaf': 0.01,\n",
      " 'min_samples_split': 0.01,\n",
      " 'min_weight_fraction_leaf': 0.0,\n",
      " 'n_estimators': 400,\n",
      " 'n_jobs': 1,\n",
      " 'oob_score': False,\n",
      " 'random_state': None,\n",
      " 'verbose': 0,\n",
      " 'warm_start': False}\n",
      "\n"
     ]
    }
   ],
   "source": [
    "from pprint import pprint\n",
    "\n",
    "# Function to list parameters \n",
    "\n",
    "def print_model(model, prefix=\"\"):\n",
    "    for step in model.steps:\n",
    "        print(prefix + step[0])\n",
    "        \n",
    "        if hasattr(step[1], 'estimators') and hasattr(step[1], 'weights'):\n",
    "            pprint({'estimators' : list(e[0] for e in step[1].estimators), 'weights' : step[1].weights})\n",
    "            print()\n",
    "\n",
    "            for estimator in step[1].estimators:\n",
    "                print_model(estimator[1], estimator[0] + ' - ')\n",
    "        \n",
    "        else:\n",
    "            pprint(step[1].get_params())\n",
    "            print()\n",
    "        \n",
    "print_model(fitted_model_automl)"
   ]
  },
  {
   "cell_type": "markdown",
   "metadata": {},
   "source": [
    "## Saving the best model\n",
    "\n",
    "In this cell we save the best AutoML Model"
   ]
  },
  {
   "cell_type": "code",
   "execution_count": 15,
   "metadata": {
    "gather": {
     "logged": 1620694782017
    },
    "jupyter": {
     "outputs_hidden": false,
     "source_hidden": false
    },
    "nteract": {
     "transient": {
      "deleting": false
     }
    }
   },
   "outputs": [
    {
     "name": "stdout",
     "output_type": "stream",
     "text": [
      "\n",
      "Model saved successfully\n",
      "Model(workspace=Workspace.create(name='quick-starts-ws-144503', subscription_id='6b4af8be-9931-443e-90f6-c4c34a1f9737', resource_group='aml-quickstarts-144503'), name=model_automl, id=model_automl:1, version=1, tags={}, properties={})\n"
     ]
    }
   ],
   "source": [
    "#Saving the best model\n",
    "model_automl = best_run_automl.register_model(model_path='outputs/model.pkl', model_name='model_automl')\n",
    "print(\"\\nModel saved successfully\")\n",
    "print(model_automl)"
   ]
  },
  {
   "cell_type": "markdown",
   "metadata": {},
   "source": [
    "## Model Deployment\n",
    "\n",
    "We have to deploy only one of the two models we trained.\n",
    "\n",
    "Before this step we have to run the `hyperparameter_tuning.ipynb`  notebook, in this case we determined that the model with the most accuracy was the one from AutoML. The next step is to deploy the model and test it.\n",
    "\n",
    "First we have to download the scoring file and the environment file, this can be obtained from the best run."
   ]
  },
  {
   "cell_type": "code",
   "execution_count": 16,
   "metadata": {
    "gather": {
     "logged": 1620694815817
    },
    "jupyter": {
     "outputs_hidden": false,
     "source_hidden": false
    },
    "nteract": {
     "transient": {
      "deleting": false
     }
    }
   },
   "outputs": [],
   "source": [
    "# Download scoring file \n",
    "best_run_automl.download_file('outputs/scoring_file_v_1_0_0.py', 'scoring.py')\n",
    "\n",
    "# Download environment file\n",
    "best_run_automl.download_file('outputs/conda_env_v_1_0_0.yml', 'environment.yml')\n"
   ]
  },
  {
   "cell_type": "markdown",
   "metadata": {
    "nteract": {
     "transient": {
      "deleting": false
     }
    }
   },
   "source": [
    "Now we have to deploy the model with inference configuration"
   ]
  },
  {
   "cell_type": "code",
   "execution_count": 17,
   "metadata": {
    "gather": {
     "logged": 1620695128557
    },
    "jupyter": {
     "outputs_hidden": false,
     "source_hidden": false
    },
    "nteract": {
     "transient": {
      "deleting": false
     }
    }
   },
   "outputs": [
    {
     "name": "stdout",
     "output_type": "stream",
     "text": [
      "Tips: You can try get_logs(): https://aka.ms/debugimage#dockerlog or local deployment: https://aka.ms/debugimage#debug-locally to debug if deployment takes longer than 10 minutes.\n",
      "Running\n",
      "2021-05-11 03:59:21+00:00 Creating Container Registry if not exists..\n",
      "2021-05-11 03:59:32+00:00 Registering the environment..\n",
      "2021-05-11 03:59:34+00:00 Use the existing image.\n",
      "2021-05-11 03:59:34+00:00 Generating deployment configuration.\n",
      "2021-05-11 03:59:35+00:00 Submitting deployment to compute..\n",
      "2021-05-11 03:59:38+00:00 Checking the status of deployment icuservice..\n",
      "2021-05-11 04:03:42+00:00 Checking the status of inference endpoint icuservice.\n",
      "Succeeded\n",
      "ACI service creation operation finished, operation \"Succeeded\"\n"
     ]
    }
   ],
   "source": [
    "from azureml.core.environment import Environment\n",
    "from azureml.core.model import InferenceConfig\n",
    "from azureml.core.webservice import AciWebservice\n",
    "\n",
    "#Configuration for inference\n",
    "inference_config = InferenceConfig(entry_script='scoring.py',\n",
    "                                    environment=best_run_automl.get_environment())\n",
    "\n",
    "#Deployment configuration\n",
    "deployment_config = AciWebservice.deploy_configuration(cpu_cores = 1, memory_gb = 1, auth_enabled = True, enable_app_insights= True, description=\"Covid 19 ICU Prediction Model\")\n",
    "service = model_automl.deploy(ws, \"icuservice\", [model_automl], inference_config, deployment_config)\n",
    "service.wait_for_deployment(show_output = True)"
   ]
  },
  {
   "cell_type": "markdown",
   "metadata": {
    "nteract": {
     "transient": {
      "deleting": false
     }
    }
   },
   "source": [
    "Here we check the state of the endpoint and some relevant data of it."
   ]
  },
  {
   "cell_type": "code",
   "execution_count": 23,
   "metadata": {
    "gather": {
     "logged": 1620695133502
    },
    "jupyter": {
     "outputs_hidden": false,
     "source_hidden": false
    },
    "nteract": {
     "transient": {
      "deleting": false
     }
    }
   },
   "outputs": [
    {
     "name": "stdout",
     "output_type": "stream",
     "text": [
      "Service state:\n",
      "Healthy\n",
      "Scoring URI:\n",
      "http://1ac333bc-63c8-4f97-bae6-d4102cea2f03.southcentralus.azurecontainer.io/score\n",
      "Swagger URI:\n",
      "http://1ac333bc-63c8-4f97-bae6-d4102cea2f03.southcentralus.azurecontainer.io/swagger.json\n",
      "Authentication key:\n",
      "jWjBleaoF5nr1gQcTtL0CH3gP7YBXmdM\n"
     ]
    }
   ],
   "source": [
    "print(\"Service state:\")\n",
    "print(service.state)\n",
    "print(\"Scoring URI:\")\n",
    "print(service.scoring_uri)\n",
    "print(\"Swagger URI:\")\n",
    "print(service.swagger_uri)\n",
    "print(\"Authentication key:\")\n",
    "print(service.get_keys()[0])"
   ]
  },
  {
   "cell_type": "markdown",
   "metadata": {
    "collapsed": true,
    "gather": {
     "logged": 1598431657736
    },
    "jupyter": {
     "outputs_hidden": false,
     "source_hidden": false
    },
    "nteract": {
     "transient": {
      "deleting": false
     }
    }
   },
   "source": [
    "In the cells below we send a request to the web service we deployed to test it."
   ]
  },
  {
   "cell_type": "code",
   "execution_count": 24,
   "metadata": {
    "gather": {
     "logged": 1620695136820
    },
    "jupyter": {
     "outputs_hidden": false,
     "source_hidden": false
    },
    "nteract": {
     "transient": {
      "deleting": false
     }
    }
   },
   "outputs": [
    {
     "name": "stdout",
     "output_type": "stream",
     "text": [
      "{\"data\": [{\"SEXO\": 1, \"EDAD\": 68, \"NEUMONIA\": 1, \"DIABETES\": 1, \"EPOC\": 2, \"ASMA\": 2, \"INMUSUPR\": 2, \"HIPERTENSION\": 1, \"OTRA_COM\": 2, \"CARDIOVASCULAR\": 1, \"OBESIDAD\": 2, \"RENAL_CRONICA\": 2, \"TABAQUISMO\": 2, \"RESULTADO_LAB\": 97}, {\"SEXO\": 1, \"EDAD\": 41, \"NEUMONIA\": 1, \"DIABETES\": 2, \"EPOC\": 2, \"ASMA\": 2, \"INMUSUPR\": 2, \"HIPERTENSION\": 2, \"OTRA_COM\": 2, \"CARDIOVASCULAR\": 2, \"OBESIDAD\": 2, \"RENAL_CRONICA\": 2, \"TABAQUISMO\": 2, \"RESULTADO_LAB\": 2}, {\"SEXO\": 2, \"EDAD\": 1, \"NEUMONIA\": 1, \"DIABETES\": 2, \"EPOC\": 2, \"ASMA\": 2, \"INMUSUPR\": 2, \"HIPERTENSION\": 2, \"OTRA_COM\": 2, \"CARDIOVASCULAR\": 2, \"OBESIDAD\": 2, \"RENAL_CRONICA\": 2, \"TABAQUISMO\": 2, \"RESULTADO_LAB\": 2}, {\"SEXO\": 2, \"EDAD\": 50, \"NEUMONIA\": 1, \"DIABETES\": 1, \"EPOC\": 2, \"ASMA\": 2, \"INMUSUPR\": 2, \"HIPERTENSION\": 1, \"OTRA_COM\": 2, \"CARDIOVASCULAR\": 2, \"OBESIDAD\": 2, \"RENAL_CRONICA\": 2, \"TABAQUISMO\": 2, \"RESULTADO_LAB\": 1}, {\"SEXO\": 2, \"EDAD\": 65, \"NEUMONIA\": 1, \"DIABETES\": 2, \"EPOC\": 2, \"ASMA\": 2, \"INMUSUPR\": 2, \"HIPERTENSION\": 2, \"OTRA_COM\": 2, \"CARDIOVASCULAR\": 2, \"OBESIDAD\": 2, \"RENAL_CRONICA\": 2, \"TABAQUISMO\": 2, \"RESULTADO_LAB\": 1}]}\n"
     ]
    }
   ],
   "source": [
    "import json\n",
    "\n",
    "#Import test data\n",
    "df = train_data.to_pandas_dataframe()\n",
    "test_df = df.sample(5)\n",
    "objective_df = test_df.pop('UCI')\n",
    "\n",
    "test_sample = json.dumps({'data': test_df.to_dict(orient='records')})\n",
    "\n",
    "print(test_sample)"
   ]
  },
  {
   "cell_type": "code",
   "execution_count": 25,
   "metadata": {
    "gather": {
     "logged": 1620695140397
    },
    "jupyter": {
     "outputs_hidden": false,
     "source_hidden": false
    },
    "nteract": {
     "transient": {
      "deleting": false
     }
    }
   },
   "outputs": [
    {
     "name": "stdout",
     "output_type": "stream",
     "text": [
      "\"{\\\"result\\\": [2, 1, 1, 1, 1]}\"\n",
      "71189    2\n",
      "54539    1\n",
      "87213    1\n",
      "20035    2\n",
      "52190    2\n",
      "Name: UCI, dtype: int64\n"
     ]
    }
   ],
   "source": [
    "import requests\n",
    "\n",
    "# Set the content type\n",
    "headers = {'Content-Type':'application/json', 'Authorization':('Bearer '+ service.get_keys()[0])}\n",
    "\n",
    "response = requests.post(service.scoring_uri, test_sample, headers=headers)\n",
    "print(response.text)\n",
    "print(objective_df)"
   ]
  },
  {
   "cell_type": "markdown",
   "metadata": {
    "collapsed": true,
    "gather": {
     "logged": 1598432765711
    },
    "jupyter": {
     "outputs_hidden": false,
     "source_hidden": false
    },
    "nteract": {
     "transient": {
      "deleting": false
     }
    }
   },
   "source": [
    "## Logs of the web service\n",
    "\n",
    "In the cells below, we print the logs of the web service"
   ]
  },
  {
   "cell_type": "code",
   "execution_count": 26,
   "metadata": {
    "gather": {
     "logged": 1620695168472
    },
    "jupyter": {
     "outputs_hidden": false,
     "source_hidden": false
    },
    "nteract": {
     "transient": {
      "deleting": false
     }
    }
   },
   "outputs": [
    {
     "name": "stdout",
     "output_type": "stream",
     "text": [
      "2021-05-11T04:03:39,402793600+00:00 - nginx/run \n",
      "2021-05-11T04:03:39,404954500+00:00 - iot-server/run \n",
      "2021-05-11T04:03:39,402773200+00:00 - gunicorn/run \n",
      "2021-05-11T04:03:39,407564100+00:00 - rsyslog/run \n",
      "/usr/sbin/nginx: /azureml-envs/azureml_98cae94c606e3ceb655a787040a8a93c/lib/libcrypto.so.1.0.0: no version information available (required by /usr/sbin/nginx)\n",
      "/usr/sbin/nginx: /azureml-envs/azureml_98cae94c606e3ceb655a787040a8a93c/lib/libcrypto.so.1.0.0: no version information available (required by /usr/sbin/nginx)\n",
      "/usr/sbin/nginx: /azureml-envs/azureml_98cae94c606e3ceb655a787040a8a93c/lib/libssl.so.1.0.0: no version information available (required by /usr/sbin/nginx)\n",
      "/usr/sbin/nginx: /azureml-envs/azureml_98cae94c606e3ceb655a787040a8a93c/lib/libssl.so.1.0.0: no version information available (required by /usr/sbin/nginx)\n",
      "/usr/sbin/nginx: /azureml-envs/azureml_98cae94c606e3ceb655a787040a8a93c/lib/libssl.so.1.0.0: no version information available (required by /usr/sbin/nginx)\n",
      "rsyslogd: /azureml-envs/azureml_98cae94c606e3ceb655a787040a8a93c/lib/libuuid.so.1: no version information available (required by rsyslogd)\n",
      "EdgeHubConnectionString and IOTEDGE_IOTHUBHOSTNAME are not set. Exiting...\n",
      "2021-05-11T04:03:39,828224600+00:00 - iot-server/finish 1 0\n",
      "2021-05-11T04:03:39,832328500+00:00 - Exit code 1 is normal. Not restarting iot-server.\n",
      "Starting gunicorn 19.9.0\n",
      "Listening at: http://127.0.0.1:31311 (69)\n",
      "Using worker: sync\n",
      "worker timeout is set to 300\n",
      "Booting worker with pid: 97\n",
      "SPARK_HOME not set. Skipping PySpark Initialization.\n",
      "Generating new fontManager, this may take some time...\n",
      "Initializing logger\n",
      "2021-05-11 04:03:42,579 | root | INFO | Starting up app insights client\n",
      "2021-05-11 04:03:42,583 | root | INFO | Starting up request id generator\n",
      "2021-05-11 04:03:42,584 | root | INFO | Starting up app insight hooks\n",
      "2021-05-11 04:03:42,584 | root | INFO | Invoking user's init function\n",
      "2021-05-11 04:03:47,796 | azureml.core | WARNING | Failure while loading azureml_run_type_providers. Failed to load entrypoint automl = azureml.train.automl.run:AutoMLRun._from_run_dto with exception cannot import name 'RunType'.\n",
      "Failure while loading azureml_run_type_providers. Failed to load entrypoint automl = azureml.train.automl.run:AutoMLRun._from_run_dto with exception cannot import name 'RunType'.\n",
      "2021-05-11 04:03:48,630 | root | INFO | Users's init has completed successfully\n",
      "2021-05-11 04:03:48,657 | root | INFO | Skipping middleware: dbg_model_info as it's not enabled.\n",
      "2021-05-11 04:03:48,658 | root | INFO | Skipping middleware: dbg_resource_usage as it's not enabled.\n",
      "2021-05-11 04:03:48,661 | root | INFO | Scoring timeout is found from os.environ: 60000 ms\n",
      "2021-05-11 04:03:48,675 | root | INFO | 200\n",
      "127.0.0.1 - - [11/May/2021:04:03:48 +0000] \"GET /swagger.json HTTP/1.0\" 200 3094 \"-\" \"Go-http-client/1.1\"\n",
      "2021-05-11 04:03:50,061 | root | INFO | 200\n",
      "127.0.0.1 - - [11/May/2021:04:03:50 +0000] \"GET /swagger.json HTTP/1.0\" 200 3094 \"-\" \"Go-http-client/1.1\"\n",
      "2021-05-11 04:10:52,286 | root | INFO | Validation Request Content-Type\n",
      "2021-05-11 04:10:52,290 | root | INFO | Scoring Timer is set to 60.0 seconds\n",
      "2021-05-11 04:10:52,609 | root | INFO | 200\n",
      "127.0.0.1 - - [11/May/2021:04:10:52 +0000] \"POST /score HTTP/1.0\" 200 31 \"-\" \"python-requests/2.25.1\"\n",
      "2021-05-11 04:12:36,469 | root | INFO | 200\n",
      "127.0.0.1 - - [11/May/2021:04:12:36 +0000] \"GET /swagger.json HTTP/1.0\" 200 3094 \"-\" \"Go-http-client/1.1\"\n",
      "2021-05-11 04:13:32,865 | root | INFO | 200\n",
      "127.0.0.1 - - [11/May/2021:04:13:32 +0000] \"GET /swagger.json HTTP/1.0\" 200 3094 \"-\" \"Go-http-client/1.1\"\n",
      "2021-05-11 04:42:34,150 | root | INFO | 200\n",
      "127.0.0.1 - - [11/May/2021:04:42:34 +0000] \"GET /swagger.json HTTP/1.0\" 200 3094 \"-\" \"Go-http-client/1.1\"\n",
      "2021-05-11 04:42:50,531 | root | INFO | 200\n",
      "127.0.0.1 - - [11/May/2021:04:42:50 +0000] \"GET /swagger.json HTTP/1.0\" 200 3094 \"-\" \"Go-http-client/1.1\"\n",
      "2021-05-11 04:43:21,663 | root | INFO | Validation Request Content-Type\n",
      "2021-05-11 04:43:21,665 | root | INFO | Scoring Timer is set to 60.0 seconds\n",
      "2021-05-11 04:43:22,008 | root | INFO | 200\n",
      "127.0.0.1 - - [11/May/2021:04:43:22 +0000] \"POST /score HTTP/1.0\" 200 31 \"-\" \"python-requests/2.25.1\"\n",
      "\n"
     ]
    }
   ],
   "source": [
    "print(service.get_logs())"
   ]
  },
  {
   "cell_type": "markdown",
   "metadata": {
    "nteract": {
     "transient": {
      "deleting": false
     }
    }
   },
   "source": [
    "Finally, we delete the service"
   ]
  },
  {
   "cell_type": "code",
   "execution_count": 27,
   "metadata": {
    "gather": {
     "logged": 1620695180123
    },
    "jupyter": {
     "outputs_hidden": false,
     "source_hidden": false
    },
    "nteract": {
     "transient": {
      "deleting": false
     }
    }
   },
   "outputs": [],
   "source": [
    "service.delete()"
   ]
  },
  {
   "cell_type": "code",
   "execution_count": null,
   "metadata": {},
   "outputs": [],
   "source": []
  }
 ],
 "metadata": {
  "kernel_info": {
   "name": "python3-azureml"
  },
  "kernelspec": {
   "display_name": "Python 3.6 - AzureML",
   "language": "python",
   "name": "python3-azureml"
  },
  "language_info": {
   "codemirror_mode": {
    "name": "ipython",
    "version": 3
   },
   "file_extension": ".py",
   "mimetype": "text/x-python",
   "name": "python",
   "nbconvert_exporter": "python",
   "pygments_lexer": "ipython3",
   "version": "3.6.9"
  },
  "metadata": {
   "interpreter": {
    "hash": "31f2aee4e71d21fbe5cf8b01ff0e069b9275f58929596ceb00d14d90e3e16cd6"
   }
  },
  "microsoft": {
   "host": {
    "AzureML": {
     "notebookHasBeenCompleted": true
    }
   }
  },
  "nteract": {
   "version": "nteract-front-end@1.0.0"
  }
 },
 "nbformat": 4,
 "nbformat_minor": 2
}
