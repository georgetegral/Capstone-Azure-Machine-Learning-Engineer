{
  "cells": [
    {
      "cell_type": "markdown",
      "source": [
        "# Automated ML\n",
        "\n",
        "## Overview\n",
        "\n",
        "For this notebook we will be importing the dataset, creating an experiment, creating a compute cluster, cleanning and preprocessing the data before doing our train and test split, running the AutoML Experiment and selecting the best AutoML Model."
      ],
      "metadata": {}
    },
    {
      "cell_type": "markdown",
      "source": [
        "## Dependencies\n",
        "\n",
        "First we will be importing all the needed dependencies to complete the project.\n",
        "\n",
        "Warning: Install the `imblearn` library before running the rest of the notebook"
      ],
      "metadata": {
        "nteract": {
          "transient": {
            "deleting": false
          }
        }
      }
    },
    {
      "cell_type": "code",
      "source": [
        "pip install imblearn"
      ],
      "outputs": [
        {
          "output_type": "stream",
          "name": "stdout",
          "text": [
            "Collecting imblearn\n",
            "  Using cached imblearn-0.0-py2.py3-none-any.whl (1.9 kB)\n",
            "Collecting imbalanced-learn\n",
            "  Using cached imbalanced_learn-0.8.0-py3-none-any.whl (206 kB)\n",
            "Requirement already satisfied: joblib>=0.11 in /anaconda/envs/azureml_py36/lib/python3.6/site-packages (from imbalanced-learn->imblearn) (0.14.1)\n",
            "Requirement already satisfied: scipy>=0.19.1 in /anaconda/envs/azureml_py36/lib/python3.6/site-packages (from imbalanced-learn->imblearn) (1.5.2)\n",
            "Collecting scikit-learn>=0.24\n",
            "  Downloading scikit_learn-0.24.2-cp36-cp36m-manylinux2010_x86_64.whl (22.2 MB)\n",
            "\u001b[K     |████████████████████████████████| 22.2 MB 6.4 MB/s eta 0:00:01\n",
            "\u001b[?25hRequirement already satisfied: numpy>=1.13.3 in /anaconda/envs/azureml_py36/lib/python3.6/site-packages (from imbalanced-learn->imblearn) (1.18.5)\n",
            "Requirement already satisfied: threadpoolctl>=2.0.0 in /anaconda/envs/azureml_py36/lib/python3.6/site-packages (from scikit-learn>=0.24->imbalanced-learn->imblearn) (2.1.0)\n",
            "\u001b[31mERROR: raiwidgets 0.2.2 has requirement lightgbm>=3.1.1, but you'll have lightgbm 2.3.0 which is incompatible.\u001b[0m\n",
            "\u001b[31mERROR: azureml-train-automl-runtime 1.27.0 has requirement scikit-learn<0.23.0,>=0.19.0, but you'll have scikit-learn 0.24.2 which is incompatible.\u001b[0m\n",
            "\u001b[31mERROR: azureml-automl-runtime 1.27.0 has requirement scikit-learn<0.23.0,>=0.19.0, but you'll have scikit-learn 0.24.2 which is incompatible.\u001b[0m\n",
            "\u001b[31mERROR: autokeras 1.0.12 has requirement tensorflow>=2.3.0, but you'll have tensorflow 2.1.0 which is incompatible.\u001b[0m\n",
            "Installing collected packages: scikit-learn, imbalanced-learn, imblearn\n",
            "  Attempting uninstall: scikit-learn\n",
            "    Found existing installation: scikit-learn 0.22.2.post1\n",
            "    Uninstalling scikit-learn-0.22.2.post1:\n",
            "      Successfully uninstalled scikit-learn-0.22.2.post1\n",
            "Successfully installed imbalanced-learn-0.8.0 imblearn-0.0 scikit-learn-0.24.2\n",
            "Note: you may need to restart the kernel to use updated packages.\n"
          ]
        }
      ],
      "execution_count": 1,
      "metadata": {
        "collapsed": true,
        "jupyter": {
          "source_hidden": false,
          "outputs_hidden": false
        },
        "nteract": {
          "transient": {
            "deleting": false
          }
        },
        "gather": {
          "logged": 1620691918868
        }
      }
    },
    {
      "cell_type": "code",
      "source": [
        "pip install --upgrade azureml-sdk[notebooks,contrib,automl] azureml-widgets"
      ],
      "outputs": [
        {
          "output_type": "stream",
          "name": "stdout",
          "text": [
            "Collecting azureml-sdk[automl,contrib,notebooks]\n",
            "  Using cached azureml_sdk-1.28.0-py3-none-any.whl (4.4 kB)\n",
            "Collecting azureml-widgets\n",
            "  Using cached azureml_widgets-1.28.0-py3-none-any.whl (14.1 MB)\n",
            "Collecting azureml-dataset-runtime[fuse]~=1.28.0\n",
            "  Using cached azureml_dataset_runtime-1.28.0-py3-none-any.whl (3.5 kB)\n",
            "Collecting azureml-pipeline~=1.28.0\n",
            "  Using cached azureml_pipeline-1.28.0-py3-none-any.whl (3.7 kB)\n",
            "Collecting azureml-train-automl-client~=1.28.0\n",
            "  Using cached azureml_train_automl_client-1.28.0-py3-none-any.whl (120 kB)\n",
            "Collecting azureml-core~=1.28.0\n",
            "  Using cached azureml_core-1.28.0-py3-none-any.whl (2.2 MB)\n",
            "Collecting azureml-train~=1.28.0\n",
            "  Using cached azureml_train-1.28.0-py3-none-any.whl (3.3 kB)\n",
            "Collecting azureml-train-automl~=1.28.0; extra == \"automl\"\n",
            "  Using cached azureml_train_automl-1.28.0-py3-none-any.whl (3.4 kB)\n",
            "Collecting azureml-contrib-server~=1.28.0; extra == \"contrib\"\n",
            "  Using cached azureml_contrib_server-1.28.0-py3-none-any.whl (13 kB)\n",
            "Collecting azureml-contrib-services~=1.28.0; extra == \"contrib\"\n",
            "  Using cached azureml_contrib_services-1.28.0-py3-none-any.whl (5.8 kB)\n",
            "Collecting azureml-contrib-pipeline-steps~=1.28.0; extra == \"contrib\"\n",
            "  Using cached azureml_contrib_pipeline_steps-1.28.0-py3-none-any.whl (18 kB)\n",
            "Collecting azureml-contrib-notebook~=1.28.0; extra == \"contrib\"\n",
            "  Using cached azureml_contrib_notebook-1.28.0-py3-none-any.whl (29 kB)\n",
            "Collecting azureml-telemetry~=1.28.0\n",
            "  Using cached azureml_telemetry-1.28.0-py3-none-any.whl (30 kB)\n",
            "Requirement already satisfied, skipping upgrade: ipywidgets>=7.0.0 in /anaconda/envs/azureml_py36/lib/python3.6/site-packages (from azureml-widgets) (7.6.3)\n",
            "Requirement already satisfied, skipping upgrade: azure-storage-blob>=12.6.0 in /anaconda/envs/azureml_py36/lib/python3.6/site-packages (from azureml-widgets) (12.8.0)\n",
            "Requirement already satisfied, skipping upgrade: numpy!=1.19.3; sys_platform == \"linux\" in /anaconda/envs/azureml_py36/lib/python3.6/site-packages (from azureml-dataset-runtime[fuse]~=1.28.0->azureml-sdk[automl,contrib,notebooks]) (1.18.5)\n",
            "Requirement already satisfied, skipping upgrade: pyarrow<4.0.0,>=0.17.0 in /anaconda/envs/azureml_py36/lib/python3.6/site-packages (from azureml-dataset-runtime[fuse]~=1.28.0->azureml-sdk[automl,contrib,notebooks]) (1.0.1)\n",
            "Collecting azureml-dataprep<2.16.0a,>=2.15.0a\n",
            "  Using cached azureml_dataprep-2.15.0-py3-none-any.whl (39.4 MB)\n",
            "Requirement already satisfied, skipping upgrade: fusepy<4.0.0,>=3.0.1; extra == \"fuse\" in /anaconda/envs/azureml_py36/lib/python3.6/site-packages (from azureml-dataset-runtime[fuse]~=1.28.0->azureml-sdk[automl,contrib,notebooks]) (3.0.1)\n",
            "Collecting azureml-pipeline-steps~=1.28.0\n",
            "  Using cached azureml_pipeline_steps-1.28.0-py3-none-any.whl (69 kB)\n",
            "Collecting azureml-pipeline-core~=1.28.0\n",
            "  Using cached azureml_pipeline_core-1.28.0-py3-none-any.whl (311 kB)\n",
            "Collecting azureml-automl-core~=1.28.0\n",
            "  Using cached azureml_automl_core-1.28.0-py3-none-any.whl (207 kB)\n",
            "Requirement already satisfied, skipping upgrade: backports.tempfile in /anaconda/envs/azureml_py36/lib/python3.6/site-packages (from azureml-core~=1.28.0->azureml-sdk[automl,contrib,notebooks]) (1.0)\n",
            "Requirement already satisfied, skipping upgrade: ndg-httpsclient in /anaconda/envs/azureml_py36/lib/python3.6/site-packages (from azureml-core~=1.28.0->azureml-sdk[automl,contrib,notebooks]) (0.5.1)\n",
            "Requirement already satisfied, skipping upgrade: PyJWT<3.0.0 in /anaconda/envs/azureml_py36/lib/python3.6/site-packages (from azureml-core~=1.28.0->azureml-sdk[automl,contrib,notebooks]) (2.0.1)\n",
            "Requirement already satisfied, skipping upgrade: azure-mgmt-authorization<1.0.0,>=0.40.0 in /anaconda/envs/azureml_py36/lib/python3.6/site-packages (from azureml-core~=1.28.0->azureml-sdk[automl,contrib,notebooks]) (0.61.0)\n",
            "Requirement already satisfied, skipping upgrade: python-dateutil<3.0.0,>=2.7.3 in /anaconda/envs/azureml_py36/lib/python3.6/site-packages (from azureml-core~=1.28.0->azureml-sdk[automl,contrib,notebooks]) (2.8.1)\n",
            "Requirement already satisfied, skipping upgrade: pyopenssl<21.0.0 in /anaconda/envs/azureml_py36/lib/python3.6/site-packages (from azureml-core~=1.28.0->azureml-sdk[automl,contrib,notebooks]) (20.0.1)\n",
            "Requirement already satisfied, skipping upgrade: cryptography!=1.9,!=2.0.*,!=2.1.*,!=2.2.*,<4.0.0 in /anaconda/envs/azureml_py36/lib/python3.6/site-packages (from azureml-core~=1.28.0->azureml-sdk[automl,contrib,notebooks]) (3.4.7)\n",
            "Requirement already satisfied, skipping upgrade: pathspec<1.0.0 in /anaconda/envs/azureml_py36/lib/python3.6/site-packages (from azureml-core~=1.28.0->azureml-sdk[automl,contrib,notebooks]) (0.8.1)\n",
            "Requirement already satisfied, skipping upgrade: ruamel.yaml<1.0.0,>=0.15.35 in /anaconda/envs/azureml_py36/lib/python3.6/site-packages (from azureml-core~=1.28.0->azureml-sdk[automl,contrib,notebooks]) (0.17.4)\n",
            "Requirement already satisfied, skipping upgrade: azure-graphrbac<1.0.0,>=0.40.0 in /anaconda/envs/azureml_py36/lib/python3.6/site-packages (from azureml-core~=1.28.0->azureml-sdk[automl,contrib,notebooks]) (0.61.1)\n",
            "Requirement already satisfied, skipping upgrade: pytz in /anaconda/envs/azureml_py36/lib/python3.6/site-packages (from azureml-core~=1.28.0->azureml-sdk[automl,contrib,notebooks]) (2021.1)\n",
            "Requirement already satisfied, skipping upgrade: azure-mgmt-storage<16.0.0,>=1.5.0 in /anaconda/envs/azureml_py36/lib/python3.6/site-packages (from azureml-core~=1.28.0->azureml-sdk[automl,contrib,notebooks]) (11.2.0)\n",
            "Requirement already satisfied, skipping upgrade: msrest<1.0.0,>=0.5.1 in /anaconda/envs/azureml_py36/lib/python3.6/site-packages (from azureml-core~=1.28.0->azureml-sdk[automl,contrib,notebooks]) (0.6.21)\n",
            "Requirement already satisfied, skipping upgrade: contextlib2<1.0.0 in /anaconda/envs/azureml_py36/lib/python3.6/site-packages (from azureml-core~=1.28.0->azureml-sdk[automl,contrib,notebooks]) (0.6.0.post1)\n",
            "Requirement already satisfied, skipping upgrade: azure-mgmt-containerregistry>=2.0.0 in /anaconda/envs/azureml_py36/lib/python3.6/site-packages (from azureml-core~=1.28.0->azureml-sdk[automl,contrib,notebooks]) (2.8.0)\n",
            "Requirement already satisfied, skipping upgrade: SecretStorage<4.0.0 in /anaconda/envs/azureml_py36/lib/python3.6/site-packages (from azureml-core~=1.28.0->azureml-sdk[automl,contrib,notebooks]) (3.3.1)\n",
            "Requirement already satisfied, skipping upgrade: azure-mgmt-resource<15.0.0,>=1.2.1 in /anaconda/envs/azureml_py36/lib/python3.6/site-packages (from azureml-core~=1.28.0->azureml-sdk[automl,contrib,notebooks]) (12.1.0)\n",
            "Requirement already satisfied, skipping upgrade: urllib3>=1.23 in /anaconda/envs/azureml_py36/lib/python3.6/site-packages (from azureml-core~=1.28.0->azureml-sdk[automl,contrib,notebooks]) (1.25.11)\n",
            "Requirement already satisfied, skipping upgrade: adal>=1.2.0 in /anaconda/envs/azureml_py36/lib/python3.6/site-packages (from azureml-core~=1.28.0->azureml-sdk[automl,contrib,notebooks]) (1.2.7)\n",
            "Requirement already satisfied, skipping upgrade: jmespath<1.0.0 in /anaconda/envs/azureml_py36/lib/python3.6/site-packages (from azureml-core~=1.28.0->azureml-sdk[automl,contrib,notebooks]) (0.10.0)\n",
            "Requirement already satisfied, skipping upgrade: requests<3.0.0,>=2.19.1 in /anaconda/envs/azureml_py36/lib/python3.6/site-packages (from azureml-core~=1.28.0->azureml-sdk[automl,contrib,notebooks]) (2.25.1)\n",
            "Requirement already satisfied, skipping upgrade: azure-common<2.0.0,>=1.1.12 in /anaconda/envs/azureml_py36/lib/python3.6/site-packages (from azureml-core~=1.28.0->azureml-sdk[automl,contrib,notebooks]) (1.1.27)\n",
            "Requirement already satisfied, skipping upgrade: msrestazure>=0.4.33 in /anaconda/envs/azureml_py36/lib/python3.6/site-packages (from azureml-core~=1.28.0->azureml-sdk[automl,contrib,notebooks]) (0.6.4)\n",
            "Requirement already satisfied, skipping upgrade: docker<5.0.0 in /anaconda/envs/azureml_py36/lib/python3.6/site-packages (from azureml-core~=1.28.0->azureml-sdk[automl,contrib,notebooks]) (4.4.4)\n",
            "Requirement already satisfied, skipping upgrade: jsonpickle<3.0.0 in /anaconda/envs/azureml_py36/lib/python3.6/site-packages (from azureml-core~=1.28.0->azureml-sdk[automl,contrib,notebooks]) (2.0.0)\n",
            "Requirement already satisfied, skipping upgrade: azure-mgmt-keyvault<7.0.0,>=0.40.0 in /anaconda/envs/azureml_py36/lib/python3.6/site-packages (from azureml-core~=1.28.0->azureml-sdk[automl,contrib,notebooks]) (2.2.0)\n",
            "Collecting azureml-train-core~=1.28.0\n",
            "  Using cached azureml_train_core-1.28.0-py3-none-any.whl (8.6 MB)\n",
            "Collecting azureml-train-automl-runtime~=1.28.0\n",
            "  Downloading azureml_train_automl_runtime-1.28.0-py3-none-any.whl (158 kB)\n",
            "\u001b[K     |████████████████████████████████| 158 kB 7.9 MB/s eta 0:00:01\n",
            "\u001b[?25hCollecting azureml-automl-runtime~=1.28.0\n",
            "  Downloading azureml_automl_runtime-1.28.0.post1-py3-none-any.whl (2.0 MB)\n",
            "\u001b[K     |████████████████████████████████| 2.0 MB 12.8 MB/s eta 0:00:01\n",
            "\u001b[?25hRequirement already satisfied, skipping upgrade: Flask<2.0,>=1.0 in /anaconda/envs/azureml_py36/lib/python3.6/site-packages (from azureml-contrib-services~=1.28.0; extra == \"contrib\"->azureml-sdk[automl,contrib,notebooks]) (1.0.3)\n",
            "Requirement already satisfied, skipping upgrade: ipykernel in /anaconda/envs/azureml_py36/lib/python3.6/site-packages (from azureml-contrib-notebook~=1.28.0; extra == \"contrib\"->azureml-sdk[automl,contrib,notebooks]) (5.5.3)\n",
            "Requirement already satisfied, skipping upgrade: nbconvert<6 in /anaconda/envs/azureml_py36/lib/python3.6/site-packages (from azureml-contrib-notebook~=1.28.0; extra == \"contrib\"->azureml-sdk[automl,contrib,notebooks]) (5.6.1)\n",
            "Requirement already satisfied, skipping upgrade: papermill<2 in /anaconda/envs/azureml_py36/lib/python3.6/site-packages (from azureml-contrib-notebook~=1.28.0; extra == \"contrib\"->azureml-sdk[automl,contrib,notebooks]) (1.2.1)\n",
            "Requirement already satisfied, skipping upgrade: ipython in /anaconda/envs/azureml_py36/lib/python3.6/site-packages (from azureml-contrib-notebook~=1.28.0; extra == \"contrib\"->azureml-sdk[automl,contrib,notebooks]) (7.16.1)\n",
            "Requirement already satisfied, skipping upgrade: applicationinsights in /anaconda/envs/azureml_py36/lib/python3.6/site-packages (from azureml-telemetry~=1.28.0->azureml-widgets) (0.11.9)\n",
            "Requirement already satisfied, skipping upgrade: traitlets>=4.3.1 in /anaconda/envs/azureml_py36/lib/python3.6/site-packages (from ipywidgets>=7.0.0->azureml-widgets) (4.3.3)\n",
            "Requirement already satisfied, skipping upgrade: widgetsnbextension~=3.5.0 in /anaconda/envs/azureml_py36/lib/python3.6/site-packages (from ipywidgets>=7.0.0->azureml-widgets) (3.5.1)\n",
            "Requirement already satisfied, skipping upgrade: nbformat>=4.2.0 in /anaconda/envs/azureml_py36/lib/python3.6/site-packages (from ipywidgets>=7.0.0->azureml-widgets) (5.1.3)\n",
            "Requirement already satisfied, skipping upgrade: jupyterlab-widgets>=1.0.0; python_version >= \"3.6\" in /anaconda/envs/azureml_py36/lib/python3.6/site-packages (from ipywidgets>=7.0.0->azureml-widgets) (1.0.0)\n",
            "Requirement already satisfied, skipping upgrade: azure-core<2.0.0,>=1.10.0 in /anaconda/envs/azureml_py36/lib/python3.6/site-packages (from azure-storage-blob>=12.6.0->azureml-widgets) (1.13.0)\n",
            "Collecting azureml-dataprep-rslex<1.14.0a,>=1.13.0dev0\n",
            "  Downloading azureml_dataprep_rslex-1.13.0-cp36-cp36m-manylinux1_x86_64.whl (9.8 MB)\n",
            "\u001b[K     |████████████████████████████████| 9.8 MB 41.3 MB/s eta 0:00:01\n",
            "\u001b[?25hRequirement already satisfied, skipping upgrade: dotnetcore2<3.0.0,>=2.1.14 in /anaconda/envs/azureml_py36/lib/python3.6/site-packages (from azureml-dataprep<2.16.0a,>=2.15.0a->azureml-dataset-runtime[fuse]~=1.28.0->azureml-sdk[automl,contrib,notebooks]) (2.1.20)\n",
            "Requirement already satisfied, skipping upgrade: cloudpickle<2.0.0,>=1.1.0 in /anaconda/envs/azureml_py36/lib/python3.6/site-packages (from azureml-dataprep<2.16.0a,>=2.15.0a->azureml-dataset-runtime[fuse]~=1.28.0->azureml-sdk[automl,contrib,notebooks]) (1.6.0)\n",
            "Requirement already satisfied, skipping upgrade: azure-identity<1.5.0,>=1.2.0 in /anaconda/envs/azureml_py36/lib/python3.6/site-packages (from azureml-dataprep<2.16.0a,>=2.15.0a->azureml-dataset-runtime[fuse]~=1.28.0->azureml-sdk[automl,contrib,notebooks]) (1.4.1)\n",
            "Requirement already satisfied, skipping upgrade: azureml-dataprep-native<34.0.0,>=33.0.0 in /anaconda/envs/azureml_py36/lib/python3.6/site-packages (from azureml-dataprep<2.16.0a,>=2.15.0a->azureml-dataset-runtime[fuse]~=1.28.0->azureml-sdk[automl,contrib,notebooks]) (33.0.0)\n",
            "Requirement already satisfied, skipping upgrade: backports.weakref in /anaconda/envs/azureml_py36/lib/python3.6/site-packages (from backports.tempfile->azureml-core~=1.28.0->azureml-sdk[automl,contrib,notebooks]) (1.0.post1)\n",
            "Requirement already satisfied, skipping upgrade: pyasn1>=0.1.1 in /anaconda/envs/azureml_py36/lib/python3.6/site-packages (from ndg-httpsclient->azureml-core~=1.28.0->azureml-sdk[automl,contrib,notebooks]) (0.4.8)\n",
            "Requirement already satisfied, skipping upgrade: six>=1.5 in /anaconda/envs/azureml_py36/lib/python3.6/site-packages (from python-dateutil<3.0.0,>=2.7.3->azureml-core~=1.28.0->azureml-sdk[automl,contrib,notebooks]) (1.15.0)\n",
            "Requirement already satisfied, skipping upgrade: cffi>=1.12 in /anaconda/envs/azureml_py36/lib/python3.6/site-packages (from cryptography!=1.9,!=2.0.*,!=2.1.*,!=2.2.*,<4.0.0->azureml-core~=1.28.0->azureml-sdk[automl,contrib,notebooks]) (1.14.5)\n",
            "Requirement already satisfied, skipping upgrade: ruamel.yaml.clib>=0.1.2; platform_python_implementation == \"CPython\" and python_version < \"3.10\" in /anaconda/envs/azureml_py36/lib/python3.6/site-packages (from ruamel.yaml<1.0.0,>=0.15.35->azureml-core~=1.28.0->azureml-sdk[automl,contrib,notebooks]) (0.2.2)\n",
            "Requirement already satisfied, skipping upgrade: isodate>=0.6.0 in /anaconda/envs/azureml_py36/lib/python3.6/site-packages (from msrest<1.0.0,>=0.5.1->azureml-core~=1.28.0->azureml-sdk[automl,contrib,notebooks]) (0.6.0)\n",
            "Requirement already satisfied, skipping upgrade: requests-oauthlib>=0.5.0 in /anaconda/envs/azureml_py36/lib/python3.6/site-packages (from msrest<1.0.0,>=0.5.1->azureml-core~=1.28.0->azureml-sdk[automl,contrib,notebooks]) (1.3.0)\n",
            "Requirement already satisfied, skipping upgrade: certifi>=2017.4.17 in /anaconda/envs/azureml_py36/lib/python3.6/site-packages (from msrest<1.0.0,>=0.5.1->azureml-core~=1.28.0->azureml-sdk[automl,contrib,notebooks]) (2020.12.5)\n",
            "Requirement already satisfied, skipping upgrade: jeepney>=0.6 in /anaconda/envs/azureml_py36/lib/python3.6/site-packages (from SecretStorage<4.0.0->azureml-core~=1.28.0->azureml-sdk[automl,contrib,notebooks]) (0.6.0)\n",
            "Requirement already satisfied, skipping upgrade: chardet<5,>=3.0.2 in /anaconda/envs/azureml_py36/lib/python3.6/site-packages (from requests<3.0.0,>=2.19.1->azureml-core~=1.28.0->azureml-sdk[automl,contrib,notebooks]) (4.0.0)\n",
            "Requirement already satisfied, skipping upgrade: idna<3,>=2.5 in /anaconda/envs/azureml_py36/lib/python3.6/site-packages (from requests<3.0.0,>=2.19.1->azureml-core~=1.28.0->azureml-sdk[automl,contrib,notebooks]) (2.10)\n",
            "Requirement already satisfied, skipping upgrade: websocket-client>=0.32.0 in /anaconda/envs/azureml_py36/lib/python3.6/site-packages (from docker<5.0.0->azureml-core~=1.28.0->azureml-sdk[automl,contrib,notebooks]) (0.58.0)\n",
            "Requirement already satisfied, skipping upgrade: importlib-metadata; python_version < \"3.8\" in /anaconda/envs/azureml_py36/lib/python3.6/site-packages (from jsonpickle<3.0.0->azureml-core~=1.28.0->azureml-sdk[automl,contrib,notebooks]) (3.10.1)\n",
            "Collecting azureml-train-restclients-hyperdrive~=1.28.0\n",
            "  Downloading azureml_train_restclients_hyperdrive-1.28.0-py3-none-any.whl (19 kB)\n",
            "Requirement already satisfied, skipping upgrade: onnxconverter-common<=1.6.0,>=1.4.2 in /anaconda/envs/azureml_py36/lib/python3.6/site-packages (from azureml-train-automl-runtime~=1.28.0->azureml-train-automl~=1.28.0; extra == \"automl\"->azureml-sdk[automl,contrib,notebooks]) (1.6.0)\n",
            "Requirement already satisfied, skipping upgrade: statsmodels<=0.10.2,>=0.9.0 in /anaconda/envs/azureml_py36/lib/python3.6/site-packages (from azureml-train-automl-runtime~=1.28.0->azureml-train-automl~=1.28.0; extra == \"automl\"->azureml-sdk[automl,contrib,notebooks]) (0.10.2)\n",
            "Requirement already satisfied, skipping upgrade: botocore<=1.18.18 in /anaconda/envs/azureml_py36/lib/python3.6/site-packages (from azureml-train-automl-runtime~=1.28.0->azureml-train-automl~=1.28.0; extra == \"automl\"->azureml-sdk[automl,contrib,notebooks]) (1.18.18)\n",
            "Requirement already satisfied, skipping upgrade: onnx<=1.7.0,>=1.5.0 in /anaconda/envs/azureml_py36/lib/python3.6/site-packages (from azureml-train-automl-runtime~=1.28.0->azureml-train-automl~=1.28.0; extra == \"automl\"->azureml-sdk[automl,contrib,notebooks]) (1.7.0)\n",
            "Collecting azureml-defaults~=1.28.0\n",
            "  Downloading azureml_defaults-1.28.0-py3-none-any.whl (3.1 kB)\n",
            "Requirement already satisfied, skipping upgrade: keras2onnx<=1.6.0,>=1.4.0 in /anaconda/envs/azureml_py36/lib/python3.6/site-packages (from azureml-train-automl-runtime~=1.28.0->azureml-train-automl~=1.28.0; extra == \"automl\"->azureml-sdk[automl,contrib,notebooks]) (1.6.0)\n",
            "Requirement already satisfied, skipping upgrade: onnxmltools==1.4.1 in /anaconda/envs/azureml_py36/lib/python3.6/site-packages (from azureml-train-automl-runtime~=1.28.0->azureml-train-automl~=1.28.0; extra == \"automl\"->azureml-sdk[automl,contrib,notebooks]) (1.4.1)\n",
            "Requirement already satisfied, skipping upgrade: scipy<=1.5.2,>=1.0.0 in /anaconda/envs/azureml_py36/lib/python3.6/site-packages (from azureml-train-automl-runtime~=1.28.0->azureml-train-automl~=1.28.0; extra == \"automl\"->azureml-sdk[automl,contrib,notebooks]) (1.5.2)\n",
            "Collecting scikit-learn<0.23.0,>=0.19.0\n",
            "  Downloading scikit_learn-0.22.2.post1-cp36-cp36m-manylinux1_x86_64.whl (7.1 MB)\n",
            "\u001b[K     |████████████████████████████████| 7.1 MB 58.7 MB/s eta 0:00:01\n",
            "\u001b[?25hRequirement already satisfied, skipping upgrade: boto3<=1.15.18 in /anaconda/envs/azureml_py36/lib/python3.6/site-packages (from azureml-train-automl-runtime~=1.28.0->azureml-train-automl~=1.28.0; extra == \"automl\"->azureml-sdk[automl,contrib,notebooks]) (1.15.18)\n",
            "Requirement already satisfied, skipping upgrade: onnxruntime<=1.6.0,>=1.3.0 in /anaconda/envs/azureml_py36/lib/python3.6/site-packages (from azureml-train-automl-runtime~=1.28.0->azureml-train-automl~=1.28.0; extra == \"automl\"->azureml-sdk[automl,contrib,notebooks]) (1.6.0)\n",
            "Requirement already satisfied, skipping upgrade: skl2onnx==1.4.9 in /anaconda/envs/azureml_py36/lib/python3.6/site-packages (from azureml-train-automl-runtime~=1.28.0->azureml-train-automl~=1.28.0; extra == \"automl\"->azureml-sdk[automl,contrib,notebooks]) (1.4.9)\n",
            "Requirement already satisfied, skipping upgrade: jinja2<=2.11.2 in /anaconda/envs/azureml_py36/lib/python3.6/site-packages (from azureml-train-automl-runtime~=1.28.0->azureml-train-automl~=1.28.0; extra == \"automl\"->azureml-sdk[automl,contrib,notebooks]) (2.11.1)\n",
            "Requirement already satisfied, skipping upgrade: smart-open<=1.9.0 in /anaconda/envs/azureml_py36/lib/python3.6/site-packages (from azureml-train-automl-runtime~=1.28.0->azureml-train-automl~=1.28.0; extra == \"automl\"->azureml-sdk[automl,contrib,notebooks]) (1.9.0)\n",
            "Requirement already satisfied, skipping upgrade: gensim<3.9.0 in /anaconda/envs/azureml_py36/lib/python3.6/site-packages (from azureml-train-automl-runtime~=1.28.0->azureml-train-automl~=1.28.0; extra == \"automl\"->azureml-sdk[automl,contrib,notebooks]) (3.8.3)\n",
            "Requirement already satisfied, skipping upgrade: sklearn-pandas<=1.7.0,>=1.4.0 in /anaconda/envs/azureml_py36/lib/python3.6/site-packages (from azureml-train-automl-runtime~=1.28.0->azureml-train-automl~=1.28.0; extra == \"automl\"->azureml-sdk[automl,contrib,notebooks]) (1.7.0)\n",
            "Requirement already satisfied, skipping upgrade: pandas<1.0.0,>=0.21.0 in /anaconda/envs/azureml_py36/lib/python3.6/site-packages (from azureml-train-automl-runtime~=1.28.0->azureml-train-automl~=1.28.0; extra == \"automl\"->azureml-sdk[automl,contrib,notebooks]) (0.25.3)\n",
            "Collecting azureml-interpret~=1.28.0\n",
            "  Downloading azureml_interpret-1.28.0-py3-none-any.whl (52 kB)\n",
            "\u001b[K     |████████████████████████████████| 52 kB 307 kB/s  eta 0:00:01\n",
            "\u001b[?25hRequirement already satisfied, skipping upgrade: azure-storage-queue~=12.1 in /anaconda/envs/azureml_py36/lib/python3.6/site-packages (from azureml-train-automl-runtime~=1.28.0->azureml-train-automl~=1.28.0; extra == \"automl\"->azureml-sdk[automl,contrib,notebooks]) (12.1.5)\n",
            "Requirement already satisfied, skipping upgrade: lightgbm<=2.3.0,>=2.0.11 in /anaconda/envs/azureml_py36/lib/python3.6/site-packages (from azureml-train-automl-runtime~=1.28.0->azureml-train-automl~=1.28.0; extra == \"automl\"->azureml-sdk[automl,contrib,notebooks]) (2.3.0)\n",
            "Requirement already satisfied, skipping upgrade: joblib==0.14.1 in /anaconda/envs/azureml_py36/lib/python3.6/site-packages (from azureml-automl-runtime~=1.28.0->azureml-train-automl~=1.28.0; extra == \"automl\"->azureml-sdk[automl,contrib,notebooks]) (0.14.1)\n",
            "Requirement already satisfied, skipping upgrade: dill<0.4.0,>=0.2.8 in /anaconda/envs/azureml_py36/lib/python3.6/site-packages (from azureml-automl-runtime~=1.28.0->azureml-train-automl~=1.28.0; extra == \"automl\"->azureml-sdk[automl,contrib,notebooks]) (0.3.3)\n",
            "Requirement already satisfied, skipping upgrade: py-cpuinfo==5.0.0 in /anaconda/envs/azureml_py36/lib/python3.6/site-packages (from azureml-automl-runtime~=1.28.0->azureml-train-automl~=1.28.0; extra == \"automl\"->azureml-sdk[automl,contrib,notebooks]) (5.0.0)\n",
            "Requirement already satisfied, skipping upgrade: pmdarima==1.1.1 in /anaconda/envs/azureml_py36/lib/python3.6/site-packages (from azureml-automl-runtime~=1.28.0->azureml-train-automl~=1.28.0; extra == \"automl\"->azureml-sdk[automl,contrib,notebooks]) (1.1.1)\n",
            "Requirement already satisfied, skipping upgrade: nimbusml<=1.8.0,>=1.7.1 in /anaconda/envs/azureml_py36/lib/python3.6/site-packages (from azureml-automl-runtime~=1.28.0->azureml-train-automl~=1.28.0; extra == \"automl\"->azureml-sdk[automl,contrib,notebooks]) (1.8.0)\n",
            "Requirement already satisfied, skipping upgrade: psutil<6.0.0,>=5.2.2 in /anaconda/envs/azureml_py36/lib/python3.6/site-packages (from azureml-automl-runtime~=1.28.0->azureml-train-automl~=1.28.0; extra == \"automl\"->azureml-sdk[automl,contrib,notebooks]) (5.8.0)\n",
            "Requirement already satisfied, skipping upgrade: click>=5.1 in /anaconda/envs/azureml_py36/lib/python3.6/site-packages (from Flask<2.0,>=1.0->azureml-contrib-services~=1.28.0; extra == \"contrib\"->azureml-sdk[automl,contrib,notebooks]) (7.1.2)\n",
            "Requirement already satisfied, skipping upgrade: itsdangerous>=0.24 in /anaconda/envs/azureml_py36/lib/python3.6/site-packages (from Flask<2.0,>=1.0->azureml-contrib-services~=1.28.0; extra == \"contrib\"->azureml-sdk[automl,contrib,notebooks]) (1.1.0)\n",
            "Requirement already satisfied, skipping upgrade: Werkzeug>=0.14 in /anaconda/envs/azureml_py36/lib/python3.6/site-packages (from Flask<2.0,>=1.0->azureml-contrib-services~=1.28.0; extra == \"contrib\"->azureml-sdk[automl,contrib,notebooks]) (1.0.1)\n",
            "Requirement already satisfied, skipping upgrade: jupyter-client in /anaconda/envs/azureml_py36/lib/python3.6/site-packages (from ipykernel->azureml-contrib-notebook~=1.28.0; extra == \"contrib\"->azureml-sdk[automl,contrib,notebooks]) (6.1.12)\n",
            "Requirement already satisfied, skipping upgrade: tornado>=4.2 in /anaconda/envs/azureml_py36/lib/python3.6/site-packages (from ipykernel->azureml-contrib-notebook~=1.28.0; extra == \"contrib\"->azureml-sdk[automl,contrib,notebooks]) (6.1)\n",
            "Requirement already satisfied, skipping upgrade: mistune<2,>=0.8.1 in /anaconda/envs/azureml_py36/lib/python3.6/site-packages (from nbconvert<6->azureml-contrib-notebook~=1.28.0; extra == \"contrib\"->azureml-sdk[automl,contrib,notebooks]) (0.8.4)\n",
            "Requirement already satisfied, skipping upgrade: defusedxml in /anaconda/envs/azureml_py36/lib/python3.6/site-packages (from nbconvert<6->azureml-contrib-notebook~=1.28.0; extra == \"contrib\"->azureml-sdk[automl,contrib,notebooks]) (0.7.1)\n",
            "Requirement already satisfied, skipping upgrade: testpath in /anaconda/envs/azureml_py36/lib/python3.6/site-packages (from nbconvert<6->azureml-contrib-notebook~=1.28.0; extra == \"contrib\"->azureml-sdk[automl,contrib,notebooks]) (0.4.4)\n",
            "Requirement already satisfied, skipping upgrade: pygments in /anaconda/envs/azureml_py36/lib/python3.6/site-packages (from nbconvert<6->azureml-contrib-notebook~=1.28.0; extra == \"contrib\"->azureml-sdk[automl,contrib,notebooks]) (2.8.1)\n",
            "Requirement already satisfied, skipping upgrade: jupyter-core in /anaconda/envs/azureml_py36/lib/python3.6/site-packages (from nbconvert<6->azureml-contrib-notebook~=1.28.0; extra == \"contrib\"->azureml-sdk[automl,contrib,notebooks]) (4.7.1)\n",
            "Requirement already satisfied, skipping upgrade: entrypoints>=0.2.2 in /anaconda/envs/azureml_py36/lib/python3.6/site-packages (from nbconvert<6->azureml-contrib-notebook~=1.28.0; extra == \"contrib\"->azureml-sdk[automl,contrib,notebooks]) (0.3)\n",
            "Requirement already satisfied, skipping upgrade: bleach in /anaconda/envs/azureml_py36/lib/python3.6/site-packages (from nbconvert<6->azureml-contrib-notebook~=1.28.0; extra == \"contrib\"->azureml-sdk[automl,contrib,notebooks]) (3.3.0)\n",
            "Requirement already satisfied, skipping upgrade: pandocfilters>=1.4.1 in /anaconda/envs/azureml_py36/lib/python3.6/site-packages (from nbconvert<6->azureml-contrib-notebook~=1.28.0; extra == \"contrib\"->azureml-sdk[automl,contrib,notebooks]) (1.4.3)\n",
            "Requirement already satisfied, skipping upgrade: tqdm>=4.32.2 in /anaconda/envs/azureml_py36/lib/python3.6/site-packages (from papermill<2->azureml-contrib-notebook~=1.28.0; extra == \"contrib\"->azureml-sdk[automl,contrib,notebooks]) (4.60.0)\n",
            "Requirement already satisfied, skipping upgrade: future in /anaconda/envs/azureml_py36/lib/python3.6/site-packages (from papermill<2->azureml-contrib-notebook~=1.28.0; extra == \"contrib\"->azureml-sdk[automl,contrib,notebooks]) (0.18.2)\n",
            "Requirement already satisfied, skipping upgrade: tenacity in /anaconda/envs/azureml_py36/lib/python3.6/site-packages (from papermill<2->azureml-contrib-notebook~=1.28.0; extra == \"contrib\"->azureml-sdk[automl,contrib,notebooks]) (7.0.0)\n",
            "Requirement already satisfied, skipping upgrade: ansiwrap in /anaconda/envs/azureml_py36/lib/python3.6/site-packages (from papermill<2->azureml-contrib-notebook~=1.28.0; extra == \"contrib\"->azureml-sdk[automl,contrib,notebooks]) (0.8.4)\n",
            "Requirement already satisfied, skipping upgrade: pyyaml in /anaconda/envs/azureml_py36/lib/python3.6/site-packages (from papermill<2->azureml-contrib-notebook~=1.28.0; extra == \"contrib\"->azureml-sdk[automl,contrib,notebooks]) (5.4.1)\n",
            "Requirement already satisfied, skipping upgrade: prompt-toolkit!=3.0.0,!=3.0.1,<3.1.0,>=2.0.0 in /anaconda/envs/azureml_py36/lib/python3.6/site-packages (from ipython->azureml-contrib-notebook~=1.28.0; extra == \"contrib\"->azureml-sdk[automl,contrib,notebooks]) (3.0.18)\n",
            "Requirement already satisfied, skipping upgrade: backcall in /anaconda/envs/azureml_py36/lib/python3.6/site-packages (from ipython->azureml-contrib-notebook~=1.28.0; extra == \"contrib\"->azureml-sdk[automl,contrib,notebooks]) (0.2.0)\n",
            "Requirement already satisfied, skipping upgrade: jedi>=0.10 in /anaconda/envs/azureml_py36/lib/python3.6/site-packages (from ipython->azureml-contrib-notebook~=1.28.0; extra == \"contrib\"->azureml-sdk[automl,contrib,notebooks]) (0.17.2)\n",
            "Requirement already satisfied, skipping upgrade: decorator in /anaconda/envs/azureml_py36/lib/python3.6/site-packages (from ipython->azureml-contrib-notebook~=1.28.0; extra == \"contrib\"->azureml-sdk[automl,contrib,notebooks]) (5.0.7)\n",
            "Requirement already satisfied, skipping upgrade: setuptools>=18.5 in /anaconda/envs/azureml_py36/lib/python3.6/site-packages (from ipython->azureml-contrib-notebook~=1.28.0; extra == \"contrib\"->azureml-sdk[automl,contrib,notebooks]) (50.3.0)\n",
            "Requirement already satisfied, skipping upgrade: pickleshare in /anaconda/envs/azureml_py36/lib/python3.6/site-packages (from ipython->azureml-contrib-notebook~=1.28.0; extra == \"contrib\"->azureml-sdk[automl,contrib,notebooks]) (0.7.5)\n",
            "Requirement already satisfied, skipping upgrade: pexpect; sys_platform != \"win32\" in /anaconda/envs/azureml_py36/lib/python3.6/site-packages (from ipython->azureml-contrib-notebook~=1.28.0; extra == \"contrib\"->azureml-sdk[automl,contrib,notebooks]) (4.8.0)\n",
            "Requirement already satisfied, skipping upgrade: ipython-genutils in /anaconda/envs/azureml_py36/lib/python3.6/site-packages (from traitlets>=4.3.1->ipywidgets>=7.0.0->azureml-widgets) (0.2.0)\n",
            "Requirement already satisfied, skipping upgrade: notebook>=4.4.1 in /anaconda/envs/azureml_py36/lib/python3.6/site-packages (from widgetsnbextension~=3.5.0->ipywidgets>=7.0.0->azureml-widgets) (6.3.0)\n",
            "Requirement already satisfied, skipping upgrade: jsonschema!=2.5.0,>=2.4 in /anaconda/envs/azureml_py36/lib/python3.6/site-packages (from nbformat>=4.2.0->ipywidgets>=7.0.0->azureml-widgets) (3.2.0)\n",
            "Requirement already satisfied, skipping upgrade: distro>=1.2.0 in /anaconda/envs/azureml_py36/lib/python3.6/site-packages (from dotnetcore2<3.0.0,>=2.1.14->azureml-dataprep<2.16.0a,>=2.15.0a->azureml-dataset-runtime[fuse]~=1.28.0->azureml-sdk[automl,contrib,notebooks]) (1.5.0)\n",
            "Requirement already satisfied, skipping upgrade: msal-extensions~=0.2.2 in /anaconda/envs/azureml_py36/lib/python3.6/site-packages (from azure-identity<1.5.0,>=1.2.0->azureml-dataprep<2.16.0a,>=2.15.0a->azureml-dataset-runtime[fuse]~=1.28.0->azureml-sdk[automl,contrib,notebooks]) (0.2.2)\n",
            "Requirement already satisfied, skipping upgrade: msal<2.0.0,>=1.3.0 in /anaconda/envs/azureml_py36/lib/python3.6/site-packages (from azure-identity<1.5.0,>=1.2.0->azureml-dataprep<2.16.0a,>=2.15.0a->azureml-dataset-runtime[fuse]~=1.28.0->azureml-sdk[automl,contrib,notebooks]) (1.11.0)\n",
            "Requirement already satisfied, skipping upgrade: pycparser in /anaconda/envs/azureml_py36/lib/python3.6/site-packages (from cffi>=1.12->cryptography!=1.9,!=2.0.*,!=2.1.*,!=2.2.*,<4.0.0->azureml-core~=1.28.0->azureml-sdk[automl,contrib,notebooks]) (2.20)\n",
            "Requirement already satisfied, skipping upgrade: oauthlib>=3.0.0 in /anaconda/envs/azureml_py36/lib/python3.6/site-packages (from requests-oauthlib>=0.5.0->msrest<1.0.0,>=0.5.1->azureml-core~=1.28.0->azureml-sdk[automl,contrib,notebooks]) (3.1.0)\n",
            "Requirement already satisfied, skipping upgrade: typing-extensions>=3.6.4; python_version < \"3.8\" in /anaconda/envs/azureml_py36/lib/python3.6/site-packages (from importlib-metadata; python_version < \"3.8\"->jsonpickle<3.0.0->azureml-core~=1.28.0->azureml-sdk[automl,contrib,notebooks]) (3.7.4.3)\n",
            "Requirement already satisfied, skipping upgrade: zipp>=0.5 in /anaconda/envs/azureml_py36/lib/python3.6/site-packages (from importlib-metadata; python_version < \"3.8\"->jsonpickle<3.0.0->azureml-core~=1.28.0->azureml-sdk[automl,contrib,notebooks]) (3.4.1)\n",
            "Requirement already satisfied, skipping upgrade: protobuf in /anaconda/envs/azureml_py36/lib/python3.6/site-packages (from onnxconverter-common<=1.6.0,>=1.4.2->azureml-train-automl-runtime~=1.28.0->azureml-train-automl~=1.28.0; extra == \"automl\"->azureml-sdk[automl,contrib,notebooks]) (3.15.8)\n",
            "Requirement already satisfied, skipping upgrade: patsy>=0.4.0 in /anaconda/envs/azureml_py36/lib/python3.6/site-packages (from statsmodels<=0.10.2,>=0.9.0->azureml-train-automl-runtime~=1.28.0->azureml-train-automl~=1.28.0; extra == \"automl\"->azureml-sdk[automl,contrib,notebooks]) (0.5.1)\n",
            "Requirement already satisfied, skipping upgrade: configparser==3.7.4 in /anaconda/envs/azureml_py36/lib/python3.6/site-packages (from azureml-defaults~=1.28.0->azureml-train-automl-runtime~=1.28.0->azureml-train-automl~=1.28.0; extra == \"automl\"->azureml-sdk[automl,contrib,notebooks]) (3.7.4)\n",
            "Collecting gunicorn==20.1.0\n",
            "  Downloading gunicorn-20.1.0-py3-none-any.whl (79 kB)\n",
            "\u001b[K     |████████████████████████████████| 79 kB 8.5 MB/s  eta 0:00:01\n",
            "\u001b[?25hRequirement already satisfied, skipping upgrade: json-logging-py==0.2 in /anaconda/envs/azureml_py36/lib/python3.6/site-packages (from azureml-defaults~=1.28.0->azureml-train-automl-runtime~=1.28.0->azureml-train-automl~=1.28.0; extra == \"automl\"->azureml-sdk[automl,contrib,notebooks]) (0.2)\n",
            "Requirement already satisfied, skipping upgrade: azureml-model-management-sdk==1.0.1b6.post1 in /anaconda/envs/azureml_py36/lib/python3.6/site-packages (from azureml-defaults~=1.28.0->azureml-train-automl-runtime~=1.28.0->azureml-train-automl~=1.28.0; extra == \"automl\"->azureml-sdk[automl,contrib,notebooks]) (1.0.1b6.post1)\n",
            "Requirement already satisfied, skipping upgrade: fire in /anaconda/envs/azureml_py36/lib/python3.6/site-packages (from keras2onnx<=1.6.0,>=1.4.0->azureml-train-automl-runtime~=1.28.0->azureml-train-automl~=1.28.0; extra == \"automl\"->azureml-sdk[automl,contrib,notebooks]) (0.4.0)\n",
            "Requirement already satisfied, skipping upgrade: s3transfer<0.4.0,>=0.3.0 in /anaconda/envs/azureml_py36/lib/python3.6/site-packages (from boto3<=1.15.18->azureml-train-automl-runtime~=1.28.0->azureml-train-automl~=1.28.0; extra == \"automl\"->azureml-sdk[automl,contrib,notebooks]) (0.3.7)\n",
            "Requirement already satisfied, skipping upgrade: MarkupSafe>=0.23 in /anaconda/envs/azureml_py36/lib/python3.6/site-packages (from jinja2<=2.11.2->azureml-train-automl-runtime~=1.28.0->azureml-train-automl~=1.28.0; extra == \"automl\"->azureml-sdk[automl,contrib,notebooks]) (1.1.1)\n",
            "Requirement already satisfied, skipping upgrade: boto>=2.32 in /anaconda/envs/azureml_py36/lib/python3.6/site-packages (from smart-open<=1.9.0->azureml-train-automl-runtime~=1.28.0->azureml-train-automl~=1.28.0; extra == \"automl\"->azureml-sdk[automl,contrib,notebooks]) (2.49.0)\n",
            "Requirement already satisfied, skipping upgrade: interpret-core[required]<=0.2.1,>=0.1.20 in /anaconda/envs/azureml_py36/lib/python3.6/site-packages (from azureml-interpret~=1.28.0->azureml-train-automl-runtime~=1.28.0->azureml-train-automl~=1.28.0; extra == \"automl\"->azureml-sdk[automl,contrib,notebooks]) (0.2.1)\n",
            "Requirement already satisfied, skipping upgrade: interpret-community==0.17.* in /anaconda/envs/azureml_py36/lib/python3.6/site-packages (from azureml-interpret~=1.28.0->azureml-train-automl-runtime~=1.28.0->azureml-train-automl~=1.28.0; extra == \"automl\"->azureml-sdk[automl,contrib,notebooks]) (0.17.2)\n",
            "Requirement already satisfied, skipping upgrade: Cython>=0.29 in /anaconda/envs/azureml_py36/lib/python3.6/site-packages (from pmdarima==1.1.1->azureml-automl-runtime~=1.28.0->azureml-train-automl~=1.28.0; extra == \"automl\"->azureml-sdk[automl,contrib,notebooks]) (0.29.23)\n",
            "Requirement already satisfied, skipping upgrade: pyzmq>=13 in /anaconda/envs/azureml_py36/lib/python3.6/site-packages (from jupyter-client->ipykernel->azureml-contrib-notebook~=1.28.0; extra == \"contrib\"->azureml-sdk[automl,contrib,notebooks]) (22.0.3)\n",
            "Requirement already satisfied, skipping upgrade: packaging in /anaconda/envs/azureml_py36/lib/python3.6/site-packages (from bleach->nbconvert<6->azureml-contrib-notebook~=1.28.0; extra == \"contrib\"->azureml-sdk[automl,contrib,notebooks]) (20.9)\n",
            "Requirement already satisfied, skipping upgrade: webencodings in /anaconda/envs/azureml_py36/lib/python3.6/site-packages (from bleach->nbconvert<6->azureml-contrib-notebook~=1.28.0; extra == \"contrib\"->azureml-sdk[automl,contrib,notebooks]) (0.5.1)\n",
            "Requirement already satisfied, skipping upgrade: textwrap3>=0.9.2 in /anaconda/envs/azureml_py36/lib/python3.6/site-packages (from ansiwrap->papermill<2->azureml-contrib-notebook~=1.28.0; extra == \"contrib\"->azureml-sdk[automl,contrib,notebooks]) (0.9.2)\n",
            "Requirement already satisfied, skipping upgrade: wcwidth in /anaconda/envs/azureml_py36/lib/python3.6/site-packages (from prompt-toolkit!=3.0.0,!=3.0.1,<3.1.0,>=2.0.0->ipython->azureml-contrib-notebook~=1.28.0; extra == \"contrib\"->azureml-sdk[automl,contrib,notebooks]) (0.2.5)\n",
            "Collecting parso<0.8.0,>=0.7.0\n",
            "  Downloading parso-0.7.1-py2.py3-none-any.whl (109 kB)\n",
            "\u001b[K     |████████████████████████████████| 109 kB 71.3 MB/s eta 0:00:01\n",
            "\u001b[?25hRequirement already satisfied, skipping upgrade: ptyprocess>=0.5 in /anaconda/envs/azureml_py36/lib/python3.6/site-packages (from pexpect; sys_platform != \"win32\"->ipython->azureml-contrib-notebook~=1.28.0; extra == \"contrib\"->azureml-sdk[automl,contrib,notebooks]) (0.7.0)\n",
            "Requirement already satisfied, skipping upgrade: prometheus-client in /anaconda/envs/azureml_py36/lib/python3.6/site-packages (from notebook>=4.4.1->widgetsnbextension~=3.5.0->ipywidgets>=7.0.0->azureml-widgets) (0.10.1)\n",
            "Requirement already satisfied, skipping upgrade: terminado>=0.8.3 in /anaconda/envs/azureml_py36/lib/python3.6/site-packages (from notebook>=4.4.1->widgetsnbextension~=3.5.0->ipywidgets>=7.0.0->azureml-widgets) (0.9.4)\n",
            "Requirement already satisfied, skipping upgrade: Send2Trash>=1.5.0 in /anaconda/envs/azureml_py36/lib/python3.6/site-packages (from notebook>=4.4.1->widgetsnbextension~=3.5.0->ipywidgets>=7.0.0->azureml-widgets) (1.5.0)\n",
            "Requirement already satisfied, skipping upgrade: argon2-cffi in /anaconda/envs/azureml_py36/lib/python3.6/site-packages (from notebook>=4.4.1->widgetsnbextension~=3.5.0->ipywidgets>=7.0.0->azureml-widgets) (20.1.0)\n",
            "Requirement already satisfied, skipping upgrade: pyrsistent>=0.14.0 in /anaconda/envs/azureml_py36/lib/python3.6/site-packages (from jsonschema!=2.5.0,>=2.4->nbformat>=4.2.0->ipywidgets>=7.0.0->azureml-widgets) (0.17.3)\n",
            "Requirement already satisfied, skipping upgrade: attrs>=17.4.0 in /anaconda/envs/azureml_py36/lib/python3.6/site-packages (from jsonschema!=2.5.0,>=2.4->nbformat>=4.2.0->ipywidgets>=7.0.0->azureml-widgets) (20.3.0)\n",
            "Requirement already satisfied, skipping upgrade: portalocker~=1.0; platform_system != \"Windows\" in /anaconda/envs/azureml_py36/lib/python3.6/site-packages (from msal-extensions~=0.2.2->azure-identity<1.5.0,>=1.2.0->azureml-dataprep<2.16.0a,>=2.15.0a->azureml-dataset-runtime[fuse]~=1.28.0->azureml-sdk[automl,contrib,notebooks]) (1.7.1)\n",
            "Requirement already satisfied, skipping upgrade: liac-arff>=2.1.1 in /anaconda/envs/azureml_py36/lib/python3.6/site-packages (from azureml-model-management-sdk==1.0.1b6.post1->azureml-defaults~=1.28.0->azureml-train-automl-runtime~=1.28.0->azureml-train-automl~=1.28.0; extra == \"automl\"->azureml-sdk[automl,contrib,notebooks]) (2.5.0)\n",
            "Requirement already satisfied, skipping upgrade: termcolor in /anaconda/envs/azureml_py36/lib/python3.6/site-packages (from fire->keras2onnx<=1.6.0,>=1.4.0->azureml-train-automl-runtime~=1.28.0->azureml-train-automl~=1.28.0; extra == \"automl\"->azureml-sdk[automl,contrib,notebooks]) (1.1.0)\n",
            "Requirement already satisfied, skipping upgrade: shap<=0.34.0,>=0.20.0 in /anaconda/envs/azureml_py36/lib/python3.6/site-packages (from interpret-community==0.17.*->azureml-interpret~=1.28.0->azureml-train-automl-runtime~=1.28.0->azureml-train-automl~=1.28.0; extra == \"automl\"->azureml-sdk[automl,contrib,notebooks]) (0.34.0)\n",
            "Requirement already satisfied, skipping upgrade: pyparsing>=2.0.2 in /anaconda/envs/azureml_py36/lib/python3.6/site-packages (from packaging->bleach->nbconvert<6->azureml-contrib-notebook~=1.28.0; extra == \"contrib\"->azureml-sdk[automl,contrib,notebooks]) (2.4.7)\n",
            "\u001b[31mERROR: raiwidgets 0.2.2 has requirement lightgbm>=3.1.1, but you'll have lightgbm 2.3.0 which is incompatible.\u001b[0m\n",
            "\u001b[31mERROR: imbalanced-learn 0.8.0 has requirement scikit-learn>=0.24, but you'll have scikit-learn 0.22.2.post1 which is incompatible.\u001b[0m\n",
            "\u001b[31mERROR: azureml-tensorboard 1.27.0 has requirement azureml-core~=1.27.0, but you'll have azureml-core 1.28.0 which is incompatible.\u001b[0m\n",
            "\u001b[31mERROR: azureml-opendatasets 1.27.0 has requirement azureml-core~=1.27.0, but you'll have azureml-core 1.28.0 which is incompatible.\u001b[0m\n",
            "\u001b[31mERROR: azureml-opendatasets 1.27.0 has requirement azureml-dataset-runtime[fuse,pandas]~=1.27.0, but you'll have azureml-dataset-runtime 1.28.0 which is incompatible.\u001b[0m\n",
            "\u001b[31mERROR: azureml-opendatasets 1.27.0 has requirement azureml-telemetry~=1.27.0, but you'll have azureml-telemetry 1.28.0 which is incompatible.\u001b[0m\n",
            "\u001b[31mERROR: azureml-opendatasets 1.27.0 has requirement scipy<=1.4.1,>=1.0.0, but you'll have scipy 1.5.2 which is incompatible.\u001b[0m\n",
            "\u001b[31mERROR: azureml-mlflow 1.27.0 has requirement azureml-core~=1.27.0, but you'll have azureml-core 1.28.0 which is incompatible.\u001b[0m\n",
            "\u001b[31mERROR: azureml-explain-model 1.27.0 has requirement azureml-interpret~=1.27.0, but you'll have azureml-interpret 1.28.0 which is incompatible.\u001b[0m\n",
            "\u001b[31mERROR: azureml-datadrift 1.27.0 has requirement azureml-core~=1.27.0, but you'll have azureml-core 1.28.0 which is incompatible.\u001b[0m\n",
            "\u001b[31mERROR: azureml-datadrift 1.27.0 has requirement azureml-dataset-runtime[fuse,pandas]~=1.27.0, but you'll have azureml-dataset-runtime 1.28.0 which is incompatible.\u001b[0m\n",
            "\u001b[31mERROR: azureml-datadrift 1.27.0 has requirement azureml-pipeline-core~=1.27.0, but you'll have azureml-pipeline-core 1.28.0 which is incompatible.\u001b[0m\n",
            "\u001b[31mERROR: azureml-datadrift 1.27.0 has requirement azureml-telemetry~=1.27.0, but you'll have azureml-telemetry 1.28.0 which is incompatible.\u001b[0m\n",
            "\u001b[31mERROR: azureml-contrib-reinforcementlearning 1.27.0 has requirement azureml-core~=1.27.0, but you'll have azureml-core 1.28.0 which is incompatible.\u001b[0m\n",
            "\u001b[31mERROR: azureml-contrib-reinforcementlearning 1.27.0 has requirement azureml-train-core~=1.27.0, but you'll have azureml-train-core 1.28.0 which is incompatible.\u001b[0m\n",
            "\u001b[31mERROR: azureml-contrib-gbdt 1.27.0 has requirement azureml-core~=1.27.0, but you'll have azureml-core 1.28.0 which is incompatible.\u001b[0m\n",
            "\u001b[31mERROR: azureml-contrib-gbdt 1.27.0 has requirement azureml-train-core~=1.27.0, but you'll have azureml-train-core 1.28.0 which is incompatible.\u001b[0m\n",
            "\u001b[31mERROR: azureml-contrib-fairness 1.27.0 has requirement azureml-core~=1.27.0, but you'll have azureml-core 1.28.0 which is incompatible.\u001b[0m\n",
            "\u001b[31mERROR: azureml-contrib-dataset 1.27.0 has requirement azureml-core~=1.27.0, but you'll have azureml-core 1.28.0 which is incompatible.\u001b[0m\n",
            "\u001b[31mERROR: azureml-contrib-dataset 1.27.0 has requirement azureml-dataset-runtime[fuse,pandas]~=1.27.0, but you'll have azureml-dataset-runtime 1.28.0 which is incompatible.\u001b[0m\n",
            "\u001b[31mERROR: azureml-cli-common 1.27.0 has requirement azureml-core~=1.27.0, but you'll have azureml-core 1.28.0 which is incompatible.\u001b[0m\n",
            "\u001b[31mERROR: azureml-cli-common 1.27.0 has requirement azureml-pipeline-core~=1.27.0, but you'll have azureml-pipeline-core 1.28.0 which is incompatible.\u001b[0m\n",
            "\u001b[31mERROR: azureml-cli-common 1.27.0 has requirement azureml-train-core~=1.27.0; python_version >= \"3.5\", but you'll have azureml-train-core 1.28.0 which is incompatible.\u001b[0m\n",
            "\u001b[31mERROR: azureml-automl-dnn-nlp 1.27.0 has requirement azureml-automl-core~=1.27.0, but you'll have azureml-automl-core 1.28.0 which is incompatible.\u001b[0m\n",
            "\u001b[31mERROR: azureml-automl-dnn-nlp 1.27.0 has requirement azureml-automl-runtime~=1.27.0, but you'll have azureml-automl-runtime 1.28.0.post1 which is incompatible.\u001b[0m\n",
            "\u001b[31mERROR: azureml-automl-dnn-nlp 1.27.0 has requirement azureml-core~=1.27.0, but you'll have azureml-core 1.28.0 which is incompatible.\u001b[0m\n",
            "\u001b[31mERROR: azureml-automl-dnn-nlp 1.27.0 has requirement azureml-telemetry~=1.27.0, but you'll have azureml-telemetry 1.28.0 which is incompatible.\u001b[0m\n",
            "\u001b[31mERROR: azureml-automl-dnn-nlp 1.27.0 has requirement azureml-train-automl~=1.27.0, but you'll have azureml-train-automl 1.28.0 which is incompatible.\u001b[0m\n",
            "\u001b[31mERROR: azureml-accel-models 1.27.0 has requirement azureml-core~=1.27.0, but you'll have azureml-core 1.28.0 which is incompatible.\u001b[0m\n",
            "\u001b[31mERROR: autokeras 1.0.12 has requirement tensorflow>=2.3.0, but you'll have tensorflow 2.1.0 which is incompatible.\u001b[0m\n",
            "Installing collected packages: azureml-dataprep-rslex, azureml-dataprep, azureml-dataset-runtime, azureml-core, azureml-telemetry, azureml-automl-core, azureml-train-automl-client, azureml-train-restclients-hyperdrive, azureml-train-core, azureml-pipeline-core, azureml-pipeline-steps, azureml-pipeline, azureml-train, gunicorn, azureml-defaults, scikit-learn, azureml-automl-runtime, azureml-interpret, azureml-train-automl-runtime, azureml-train-automl, azureml-contrib-server, azureml-contrib-services, azureml-contrib-pipeline-steps, azureml-contrib-notebook, azureml-widgets, azureml-sdk, parso\n",
            "  Attempting uninstall: azureml-dataprep-rslex\n",
            "    Found existing installation: azureml-dataprep-rslex 1.12.1\n",
            "    Uninstalling azureml-dataprep-rslex-1.12.1:\n",
            "      Successfully uninstalled azureml-dataprep-rslex-1.12.1\n",
            "  Attempting uninstall: azureml-dataprep\n",
            "    Found existing installation: azureml-dataprep 2.14.2\n",
            "    Uninstalling azureml-dataprep-2.14.2:\n",
            "      Successfully uninstalled azureml-dataprep-2.14.2\n",
            "  Attempting uninstall: azureml-dataset-runtime\n",
            "    Found existing installation: azureml-dataset-runtime 1.27.0\n",
            "    Uninstalling azureml-dataset-runtime-1.27.0:\n",
            "      Successfully uninstalled azureml-dataset-runtime-1.27.0\n",
            "  Attempting uninstall: azureml-core\n",
            "    Found existing installation: azureml-core 1.27.0\n",
            "    Uninstalling azureml-core-1.27.0:\n",
            "      Successfully uninstalled azureml-core-1.27.0\n",
            "  Attempting uninstall: azureml-telemetry\n",
            "    Found existing installation: azureml-telemetry 1.27.0\n",
            "    Uninstalling azureml-telemetry-1.27.0:\n",
            "      Successfully uninstalled azureml-telemetry-1.27.0\n",
            "  Attempting uninstall: azureml-automl-core\n",
            "    Found existing installation: azureml-automl-core 1.27.0\n",
            "    Uninstalling azureml-automl-core-1.27.0:\n",
            "      Successfully uninstalled azureml-automl-core-1.27.0\n",
            "  Attempting uninstall: azureml-train-automl-client\n",
            "    Found existing installation: azureml-train-automl-client 1.27.0\n",
            "    Uninstalling azureml-train-automl-client-1.27.0:\n",
            "      Successfully uninstalled azureml-train-automl-client-1.27.0\n",
            "  Attempting uninstall: azureml-train-restclients-hyperdrive\n",
            "    Found existing installation: azureml-train-restclients-hyperdrive 1.27.0\n",
            "    Uninstalling azureml-train-restclients-hyperdrive-1.27.0:\n",
            "      Successfully uninstalled azureml-train-restclients-hyperdrive-1.27.0\n",
            "  Attempting uninstall: azureml-train-core\n",
            "    Found existing installation: azureml-train-core 1.27.0\n",
            "    Uninstalling azureml-train-core-1.27.0:\n",
            "      Successfully uninstalled azureml-train-core-1.27.0\n",
            "  Attempting uninstall: azureml-pipeline-core\n",
            "    Found existing installation: azureml-pipeline-core 1.27.0\n",
            "    Uninstalling azureml-pipeline-core-1.27.0:\n",
            "      Successfully uninstalled azureml-pipeline-core-1.27.0\n",
            "  Attempting uninstall: azureml-pipeline-steps\n",
            "    Found existing installation: azureml-pipeline-steps 1.27.0\n",
            "    Uninstalling azureml-pipeline-steps-1.27.0:\n",
            "      Successfully uninstalled azureml-pipeline-steps-1.27.0\n",
            "  Attempting uninstall: azureml-pipeline\n",
            "    Found existing installation: azureml-pipeline 1.27.0\n",
            "    Uninstalling azureml-pipeline-1.27.0:\n",
            "      Successfully uninstalled azureml-pipeline-1.27.0\n",
            "  Attempting uninstall: azureml-train\n",
            "    Found existing installation: azureml-train 1.27.0\n",
            "    Uninstalling azureml-train-1.27.0:\n",
            "      Successfully uninstalled azureml-train-1.27.0\n",
            "  Attempting uninstall: gunicorn\n",
            "    Found existing installation: gunicorn 19.9.0\n",
            "    Uninstalling gunicorn-19.9.0:\n",
            "      Successfully uninstalled gunicorn-19.9.0\n",
            "  Attempting uninstall: azureml-defaults\n",
            "    Found existing installation: azureml-defaults 1.27.0\n",
            "    Uninstalling azureml-defaults-1.27.0:\n",
            "      Successfully uninstalled azureml-defaults-1.27.0\n",
            "  Attempting uninstall: scikit-learn\n",
            "    Found existing installation: scikit-learn 0.24.2\n",
            "    Uninstalling scikit-learn-0.24.2:\n",
            "      Successfully uninstalled scikit-learn-0.24.2\n",
            "  Attempting uninstall: azureml-automl-runtime\n",
            "    Found existing installation: azureml-automl-runtime 1.27.0\n",
            "    Uninstalling azureml-automl-runtime-1.27.0:\n",
            "      Successfully uninstalled azureml-automl-runtime-1.27.0\n",
            "  Attempting uninstall: azureml-interpret\n",
            "    Found existing installation: azureml-interpret 1.27.0\n",
            "    Uninstalling azureml-interpret-1.27.0:\n",
            "      Successfully uninstalled azureml-interpret-1.27.0\n",
            "  Attempting uninstall: azureml-train-automl-runtime\n",
            "    Found existing installation: azureml-train-automl-runtime 1.27.0\n",
            "    Uninstalling azureml-train-automl-runtime-1.27.0:\n",
            "      Successfully uninstalled azureml-train-automl-runtime-1.27.0\n",
            "  Attempting uninstall: azureml-train-automl\n",
            "    Found existing installation: azureml-train-automl 1.27.0\n",
            "    Uninstalling azureml-train-automl-1.27.0:\n",
            "      Successfully uninstalled azureml-train-automl-1.27.0\n",
            "  Attempting uninstall: azureml-contrib-server\n",
            "    Found existing installation: azureml-contrib-server 1.27.0\n",
            "    Uninstalling azureml-contrib-server-1.27.0:\n",
            "      Successfully uninstalled azureml-contrib-server-1.27.0\n",
            "  Attempting uninstall: azureml-contrib-services\n",
            "    Found existing installation: azureml-contrib-services 1.27.0\n",
            "    Uninstalling azureml-contrib-services-1.27.0:\n",
            "      Successfully uninstalled azureml-contrib-services-1.27.0\n",
            "  Attempting uninstall: azureml-contrib-pipeline-steps\n",
            "    Found existing installation: azureml-contrib-pipeline-steps 1.27.0\n",
            "    Uninstalling azureml-contrib-pipeline-steps-1.27.0:\n",
            "      Successfully uninstalled azureml-contrib-pipeline-steps-1.27.0\n",
            "  Attempting uninstall: azureml-contrib-notebook\n",
            "    Found existing installation: azureml-contrib-notebook 1.27.0\n",
            "    Uninstalling azureml-contrib-notebook-1.27.0:\n",
            "      Successfully uninstalled azureml-contrib-notebook-1.27.0\n",
            "  Attempting uninstall: azureml-widgets\n",
            "    Found existing installation: azureml-widgets 1.27.0\n",
            "    Uninstalling azureml-widgets-1.27.0:\n",
            "      Successfully uninstalled azureml-widgets-1.27.0\n",
            "  Attempting uninstall: azureml-sdk\n",
            "    Found existing installation: azureml-sdk 1.27.0\n",
            "    Uninstalling azureml-sdk-1.27.0:\n",
            "      Successfully uninstalled azureml-sdk-1.27.0\n",
            "  Attempting uninstall: parso\n",
            "    Found existing installation: parso 0.8.2\n",
            "    Uninstalling parso-0.8.2:\n",
            "      Successfully uninstalled parso-0.8.2\n",
            "Successfully installed azureml-automl-core-1.28.0 azureml-automl-runtime-1.28.0.post1 azureml-contrib-notebook-1.28.0 azureml-contrib-pipeline-steps-1.28.0 azureml-contrib-server-1.28.0 azureml-contrib-services-1.28.0 azureml-core-1.28.0 azureml-dataprep-2.15.0 azureml-dataprep-rslex-1.13.0 azureml-dataset-runtime-1.28.0 azureml-defaults-1.28.0 azureml-interpret-1.28.0 azureml-pipeline-1.28.0 azureml-pipeline-core-1.28.0 azureml-pipeline-steps-1.28.0 azureml-sdk-1.28.0 azureml-telemetry-1.28.0 azureml-train-1.28.0 azureml-train-automl-1.28.0 azureml-train-automl-client-1.28.0 azureml-train-automl-runtime-1.28.0 azureml-train-core-1.28.0 azureml-train-restclients-hyperdrive-1.28.0 azureml-widgets-1.28.0 gunicorn-20.1.0 parso-0.7.1 scikit-learn-0.22.2.post1\n",
            "Note: you may need to restart the kernel to use updated packages.\n"
          ]
        }
      ],
      "execution_count": 2,
      "metadata": {
        "collapsed": true,
        "jupyter": {
          "source_hidden": false,
          "outputs_hidden": false
        },
        "nteract": {
          "transient": {
            "deleting": false
          }
        },
        "gather": {
          "logged": 1620691941204
        }
      }
    },
    {
      "cell_type": "code",
      "source": [
        "pip install azureml-train-automl-runtime"
      ],
      "outputs": [
        {
          "output_type": "stream",
          "name": "stdout",
          "text": [
            "Requirement already satisfied: azureml-train-automl-runtime in /anaconda/envs/azureml_py36/lib/python3.6/site-packages (1.28.0)\n",
            "Requirement already satisfied: statsmodels<=0.10.2,>=0.9.0 in /anaconda/envs/azureml_py36/lib/python3.6/site-packages (from azureml-train-automl-runtime) (0.10.2)\n",
            "Requirement already satisfied: azureml-core~=1.28.0 in /anaconda/envs/azureml_py36/lib/python3.6/site-packages (from azureml-train-automl-runtime) (1.28.0)\n",
            "Requirement already satisfied: jinja2<=2.11.2 in /anaconda/envs/azureml_py36/lib/python3.6/site-packages (from azureml-train-automl-runtime) (2.11.1)\n",
            "Requirement already satisfied: azure-storage-queue~=12.1 in /anaconda/envs/azureml_py36/lib/python3.6/site-packages (from azureml-train-automl-runtime) (12.1.5)\n",
            "Requirement already satisfied: sklearn-pandas<=1.7.0,>=1.4.0 in /anaconda/envs/azureml_py36/lib/python3.6/site-packages (from azureml-train-automl-runtime) (1.7.0)\n",
            "Requirement already satisfied: scikit-learn<0.23.0,>=0.19.0 in /anaconda/envs/azureml_py36/lib/python3.6/site-packages (from azureml-train-automl-runtime) (0.22.2.post1)\n",
            "Requirement already satisfied: numpy<1.19.0,>=1.16.0 in /anaconda/envs/azureml_py36/lib/python3.6/site-packages (from azureml-train-automl-runtime) (1.18.5)\n",
            "Requirement already satisfied: azureml-defaults~=1.28.0 in /anaconda/envs/azureml_py36/lib/python3.6/site-packages (from azureml-train-automl-runtime) (1.28.0)\n",
            "Requirement already satisfied: azureml-automl-runtime~=1.28.0 in /anaconda/envs/azureml_py36/lib/python3.6/site-packages (from azureml-train-automl-runtime) (1.28.0.post1)\n",
            "Requirement already satisfied: onnxconverter-common<=1.6.0,>=1.4.2 in /anaconda/envs/azureml_py36/lib/python3.6/site-packages (from azureml-train-automl-runtime) (1.6.0)\n",
            "Requirement already satisfied: azureml-train-automl-client~=1.28.0 in /anaconda/envs/azureml_py36/lib/python3.6/site-packages (from azureml-train-automl-runtime) (1.28.0)\n",
            "Requirement already satisfied: pandas<1.0.0,>=0.21.0 in /anaconda/envs/azureml_py36/lib/python3.6/site-packages (from azureml-train-automl-runtime) (0.25.3)\n",
            "Requirement already satisfied: boto3<=1.15.18 in /anaconda/envs/azureml_py36/lib/python3.6/site-packages (from azureml-train-automl-runtime) (1.15.18)\n",
            "Requirement already satisfied: azureml-automl-core~=1.28.0 in /anaconda/envs/azureml_py36/lib/python3.6/site-packages (from azureml-train-automl-runtime) (1.28.0)\n",
            "Requirement already satisfied: lightgbm<=2.3.0,>=2.0.11 in /anaconda/envs/azureml_py36/lib/python3.6/site-packages (from azureml-train-automl-runtime) (2.3.0)\n",
            "Requirement already satisfied: gensim<3.9.0 in /anaconda/envs/azureml_py36/lib/python3.6/site-packages (from azureml-train-automl-runtime) (3.8.3)\n",
            "Requirement already satisfied: scipy<=1.5.2,>=1.0.0 in /anaconda/envs/azureml_py36/lib/python3.6/site-packages (from azureml-train-automl-runtime) (1.5.2)\n",
            "Requirement already satisfied: onnx<=1.7.0,>=1.5.0 in /anaconda/envs/azureml_py36/lib/python3.6/site-packages (from azureml-train-automl-runtime) (1.7.0)\n",
            "Requirement already satisfied: azureml-interpret~=1.28.0 in /anaconda/envs/azureml_py36/lib/python3.6/site-packages (from azureml-train-automl-runtime) (1.28.0)\n",
            "Requirement already satisfied: onnxruntime<=1.6.0,>=1.3.0 in /anaconda/envs/azureml_py36/lib/python3.6/site-packages (from azureml-train-automl-runtime) (1.6.0)\n",
            "Requirement already satisfied: azureml-dataset-runtime[fuse,pandas]~=1.28.0 in /anaconda/envs/azureml_py36/lib/python3.6/site-packages (from azureml-train-automl-runtime) (1.28.0)\n",
            "Requirement already satisfied: skl2onnx==1.4.9 in /anaconda/envs/azureml_py36/lib/python3.6/site-packages (from azureml-train-automl-runtime) (1.4.9)\n",
            "Requirement already satisfied: onnxmltools==1.4.1 in /anaconda/envs/azureml_py36/lib/python3.6/site-packages (from azureml-train-automl-runtime) (1.4.1)\n",
            "Requirement already satisfied: botocore<=1.18.18 in /anaconda/envs/azureml_py36/lib/python3.6/site-packages (from azureml-train-automl-runtime) (1.18.18)\n",
            "Requirement already satisfied: keras2onnx<=1.6.0,>=1.4.0 in /anaconda/envs/azureml_py36/lib/python3.6/site-packages (from azureml-train-automl-runtime) (1.6.0)\n",
            "Requirement already satisfied: azureml-telemetry~=1.28.0 in /anaconda/envs/azureml_py36/lib/python3.6/site-packages (from azureml-train-automl-runtime) (1.28.0)\n",
            "Requirement already satisfied: smart-open<=1.9.0 in /anaconda/envs/azureml_py36/lib/python3.6/site-packages (from azureml-train-automl-runtime) (1.9.0)\n",
            "Requirement already satisfied: patsy>=0.4.0 in /anaconda/envs/azureml_py36/lib/python3.6/site-packages (from statsmodels<=0.10.2,>=0.9.0->azureml-train-automl-runtime) (0.5.1)\n",
            "Requirement already satisfied: msrestazure>=0.4.33 in /anaconda/envs/azureml_py36/lib/python3.6/site-packages (from azureml-core~=1.28.0->azureml-train-automl-runtime) (0.6.4)\n",
            "Requirement already satisfied: PyJWT<3.0.0 in /anaconda/envs/azureml_py36/lib/python3.6/site-packages (from azureml-core~=1.28.0->azureml-train-automl-runtime) (2.0.1)\n",
            "Requirement already satisfied: urllib3>=1.23 in /anaconda/envs/azureml_py36/lib/python3.6/site-packages (from azureml-core~=1.28.0->azureml-train-automl-runtime) (1.25.11)\n",
            "Requirement already satisfied: azure-mgmt-resource<15.0.0,>=1.2.1 in /anaconda/envs/azureml_py36/lib/python3.6/site-packages (from azureml-core~=1.28.0->azureml-train-automl-runtime) (12.1.0)\n",
            "Requirement already satisfied: pytz in /anaconda/envs/azureml_py36/lib/python3.6/site-packages (from azureml-core~=1.28.0->azureml-train-automl-runtime) (2021.1)\n",
            "Requirement already satisfied: azure-mgmt-containerregistry>=2.0.0 in /anaconda/envs/azureml_py36/lib/python3.6/site-packages (from azureml-core~=1.28.0->azureml-train-automl-runtime) (2.8.0)\n",
            "Requirement already satisfied: adal>=1.2.0 in /anaconda/envs/azureml_py36/lib/python3.6/site-packages (from azureml-core~=1.28.0->azureml-train-automl-runtime) (1.2.7)\n",
            "Requirement already satisfied: cryptography!=1.9,!=2.0.*,!=2.1.*,!=2.2.*,<4.0.0 in /anaconda/envs/azureml_py36/lib/python3.6/site-packages (from azureml-core~=1.28.0->azureml-train-automl-runtime) (3.4.7)\n",
            "Requirement already satisfied: azure-mgmt-storage<16.0.0,>=1.5.0 in /anaconda/envs/azureml_py36/lib/python3.6/site-packages (from azureml-core~=1.28.0->azureml-train-automl-runtime) (11.2.0)\n",
            "Requirement already satisfied: pyopenssl<21.0.0 in /anaconda/envs/azureml_py36/lib/python3.6/site-packages (from azureml-core~=1.28.0->azureml-train-automl-runtime) (20.0.1)\n",
            "Requirement already satisfied: azure-common<2.0.0,>=1.1.12 in /anaconda/envs/azureml_py36/lib/python3.6/site-packages (from azureml-core~=1.28.0->azureml-train-automl-runtime) (1.1.27)\n",
            "Requirement already satisfied: jmespath<1.0.0 in /anaconda/envs/azureml_py36/lib/python3.6/site-packages (from azureml-core~=1.28.0->azureml-train-automl-runtime) (0.10.0)\n",
            "Requirement already satisfied: azure-graphrbac<1.0.0,>=0.40.0 in /anaconda/envs/azureml_py36/lib/python3.6/site-packages (from azureml-core~=1.28.0->azureml-train-automl-runtime) (0.61.1)\n",
            "Requirement already satisfied: requests<3.0.0,>=2.19.1 in /anaconda/envs/azureml_py36/lib/python3.6/site-packages (from azureml-core~=1.28.0->azureml-train-automl-runtime) (2.25.1)\n",
            "Requirement already satisfied: ndg-httpsclient in /anaconda/envs/azureml_py36/lib/python3.6/site-packages (from azureml-core~=1.28.0->azureml-train-automl-runtime) (0.5.1)\n",
            "Requirement already satisfied: docker<5.0.0 in /anaconda/envs/azureml_py36/lib/python3.6/site-packages (from azureml-core~=1.28.0->azureml-train-automl-runtime) (4.4.4)\n",
            "Requirement already satisfied: ruamel.yaml<1.0.0,>=0.15.35 in /anaconda/envs/azureml_py36/lib/python3.6/site-packages (from azureml-core~=1.28.0->azureml-train-automl-runtime) (0.17.4)\n",
            "Requirement already satisfied: azure-mgmt-authorization<1.0.0,>=0.40.0 in /anaconda/envs/azureml_py36/lib/python3.6/site-packages (from azureml-core~=1.28.0->azureml-train-automl-runtime) (0.61.0)\n",
            "Requirement already satisfied: python-dateutil<3.0.0,>=2.7.3 in /anaconda/envs/azureml_py36/lib/python3.6/site-packages (from azureml-core~=1.28.0->azureml-train-automl-runtime) (2.8.1)\n",
            "Requirement already satisfied: azure-mgmt-keyvault<7.0.0,>=0.40.0 in /anaconda/envs/azureml_py36/lib/python3.6/site-packages (from azureml-core~=1.28.0->azureml-train-automl-runtime) (2.2.0)\n",
            "Requirement already satisfied: pathspec<1.0.0 in /anaconda/envs/azureml_py36/lib/python3.6/site-packages (from azureml-core~=1.28.0->azureml-train-automl-runtime) (0.8.1)\n",
            "Requirement already satisfied: contextlib2<1.0.0 in /anaconda/envs/azureml_py36/lib/python3.6/site-packages (from azureml-core~=1.28.0->azureml-train-automl-runtime) (0.6.0.post1)\n",
            "Requirement already satisfied: SecretStorage<4.0.0 in /anaconda/envs/azureml_py36/lib/python3.6/site-packages (from azureml-core~=1.28.0->azureml-train-automl-runtime) (3.3.1)\n",
            "Requirement already satisfied: backports.tempfile in /anaconda/envs/azureml_py36/lib/python3.6/site-packages (from azureml-core~=1.28.0->azureml-train-automl-runtime) (1.0)\n",
            "Requirement already satisfied: msrest<1.0.0,>=0.5.1 in /anaconda/envs/azureml_py36/lib/python3.6/site-packages (from azureml-core~=1.28.0->azureml-train-automl-runtime) (0.6.21)\n",
            "Requirement already satisfied: jsonpickle<3.0.0 in /anaconda/envs/azureml_py36/lib/python3.6/site-packages (from azureml-core~=1.28.0->azureml-train-automl-runtime) (2.0.0)\n",
            "Requirement already satisfied: MarkupSafe>=0.23 in /anaconda/envs/azureml_py36/lib/python3.6/site-packages (from jinja2<=2.11.2->azureml-train-automl-runtime) (1.1.1)\n",
            "Requirement already satisfied: azure-core<2.0.0,>=1.10.0 in /anaconda/envs/azureml_py36/lib/python3.6/site-packages (from azure-storage-queue~=12.1->azureml-train-automl-runtime) (1.13.0)\n",
            "Requirement already satisfied: joblib>=0.11 in /anaconda/envs/azureml_py36/lib/python3.6/site-packages (from scikit-learn<0.23.0,>=0.19.0->azureml-train-automl-runtime) (0.14.1)\n",
            "Requirement already satisfied: applicationinsights>=0.11.7 in /anaconda/envs/azureml_py36/lib/python3.6/site-packages (from azureml-defaults~=1.28.0->azureml-train-automl-runtime) (0.11.9)\n",
            "Requirement already satisfied: gunicorn==20.1.0 in /anaconda/envs/azureml_py36/lib/python3.6/site-packages (from azureml-defaults~=1.28.0->azureml-train-automl-runtime) (20.1.0)\n",
            "Requirement already satisfied: json-logging-py==0.2 in /anaconda/envs/azureml_py36/lib/python3.6/site-packages (from azureml-defaults~=1.28.0->azureml-train-automl-runtime) (0.2)\n",
            "Requirement already satisfied: flask==1.0.3 in /anaconda/envs/azureml_py36/lib/python3.6/site-packages (from azureml-defaults~=1.28.0->azureml-train-automl-runtime) (1.0.3)\n",
            "Requirement already satisfied: configparser==3.7.4 in /anaconda/envs/azureml_py36/lib/python3.6/site-packages (from azureml-defaults~=1.28.0->azureml-train-automl-runtime) (3.7.4)\n",
            "Requirement already satisfied: werkzeug<=1.0.1,>=0.16.1 in /anaconda/envs/azureml_py36/lib/python3.6/site-packages (from azureml-defaults~=1.28.0->azureml-train-automl-runtime) (1.0.1)\n",
            "Requirement already satisfied: azureml-model-management-sdk==1.0.1b6.post1 in /anaconda/envs/azureml_py36/lib/python3.6/site-packages (from azureml-defaults~=1.28.0->azureml-train-automl-runtime) (1.0.1b6.post1)\n",
            "Requirement already satisfied: psutil<6.0.0,>=5.2.2 in /anaconda/envs/azureml_py36/lib/python3.6/site-packages (from azureml-automl-runtime~=1.28.0->azureml-train-automl-runtime) (5.8.0)\n",
            "Requirement already satisfied: py-cpuinfo==5.0.0 in /anaconda/envs/azureml_py36/lib/python3.6/site-packages (from azureml-automl-runtime~=1.28.0->azureml-train-automl-runtime) (5.0.0)\n",
            "Requirement already satisfied: dill<0.4.0,>=0.2.8 in /anaconda/envs/azureml_py36/lib/python3.6/site-packages (from azureml-automl-runtime~=1.28.0->azureml-train-automl-runtime) (0.3.3)\n",
            "Requirement already satisfied: nimbusml<=1.8.0,>=1.7.1 in /anaconda/envs/azureml_py36/lib/python3.6/site-packages (from azureml-automl-runtime~=1.28.0->azureml-train-automl-runtime) (1.8.0)\n",
            "Requirement already satisfied: pmdarima==1.1.1 in /anaconda/envs/azureml_py36/lib/python3.6/site-packages (from azureml-automl-runtime~=1.28.0->azureml-train-automl-runtime) (1.1.1)\n",
            "Requirement already satisfied: protobuf in /anaconda/envs/azureml_py36/lib/python3.6/site-packages (from onnxconverter-common<=1.6.0,>=1.4.2->azureml-train-automl-runtime) (3.15.8)\n",
            "Requirement already satisfied: six in /anaconda/envs/azureml_py36/lib/python3.6/site-packages (from onnxconverter-common<=1.6.0,>=1.4.2->azureml-train-automl-runtime) (1.15.0)\n",
            "Requirement already satisfied: s3transfer<0.4.0,>=0.3.0 in /anaconda/envs/azureml_py36/lib/python3.6/site-packages (from boto3<=1.15.18->azureml-train-automl-runtime) (0.3.7)\n",
            "Requirement already satisfied: typing-extensions>=3.6.2.1 in /anaconda/envs/azureml_py36/lib/python3.6/site-packages (from onnx<=1.7.0,>=1.5.0->azureml-train-automl-runtime) (3.7.4.3)\n",
            "Requirement already satisfied: interpret-community==0.17.* in /anaconda/envs/azureml_py36/lib/python3.6/site-packages (from azureml-interpret~=1.28.0->azureml-train-automl-runtime) (0.17.2)\n",
            "Requirement already satisfied: interpret-core[required]<=0.2.1,>=0.1.20 in /anaconda/envs/azureml_py36/lib/python3.6/site-packages (from azureml-interpret~=1.28.0->azureml-train-automl-runtime) (0.2.1)\n",
            "Requirement already satisfied: azureml-dataprep<2.16.0a,>=2.15.0a in /anaconda/envs/azureml_py36/lib/python3.6/site-packages (from azureml-dataset-runtime[fuse,pandas]~=1.28.0->azureml-train-automl-runtime) (2.15.0)\n",
            "Requirement already satisfied: pyarrow<4.0.0,>=0.17.0 in /anaconda/envs/azureml_py36/lib/python3.6/site-packages (from azureml-dataset-runtime[fuse,pandas]~=1.28.0->azureml-train-automl-runtime) (1.0.1)\n",
            "Requirement already satisfied: fusepy<4.0.0,>=3.0.1; extra == \"fuse\" in /anaconda/envs/azureml_py36/lib/python3.6/site-packages (from azureml-dataset-runtime[fuse,pandas]~=1.28.0->azureml-train-automl-runtime) (3.0.1)\n",
            "Requirement already satisfied: fire in /anaconda/envs/azureml_py36/lib/python3.6/site-packages (from keras2onnx<=1.6.0,>=1.4.0->azureml-train-automl-runtime) (0.4.0)\n",
            "Requirement already satisfied: boto>=2.32 in /anaconda/envs/azureml_py36/lib/python3.6/site-packages (from smart-open<=1.9.0->azureml-train-automl-runtime) (2.49.0)\n",
            "Requirement already satisfied: cffi>=1.12 in /anaconda/envs/azureml_py36/lib/python3.6/site-packages (from cryptography!=1.9,!=2.0.*,!=2.1.*,!=2.2.*,<4.0.0->azureml-core~=1.28.0->azureml-train-automl-runtime) (1.14.5)\n",
            "Requirement already satisfied: chardet<5,>=3.0.2 in /anaconda/envs/azureml_py36/lib/python3.6/site-packages (from requests<3.0.0,>=2.19.1->azureml-core~=1.28.0->azureml-train-automl-runtime) (4.0.0)\n",
            "Requirement already satisfied: certifi>=2017.4.17 in /anaconda/envs/azureml_py36/lib/python3.6/site-packages (from requests<3.0.0,>=2.19.1->azureml-core~=1.28.0->azureml-train-automl-runtime) (2020.12.5)\n",
            "Requirement already satisfied: idna<3,>=2.5 in /anaconda/envs/azureml_py36/lib/python3.6/site-packages (from requests<3.0.0,>=2.19.1->azureml-core~=1.28.0->azureml-train-automl-runtime) (2.10)\n",
            "Requirement already satisfied: pyasn1>=0.1.1 in /anaconda/envs/azureml_py36/lib/python3.6/site-packages (from ndg-httpsclient->azureml-core~=1.28.0->azureml-train-automl-runtime) (0.4.8)\n",
            "Requirement already satisfied: websocket-client>=0.32.0 in /anaconda/envs/azureml_py36/lib/python3.6/site-packages (from docker<5.0.0->azureml-core~=1.28.0->azureml-train-automl-runtime) (0.58.0)\n",
            "Requirement already satisfied: ruamel.yaml.clib>=0.1.2; platform_python_implementation == \"CPython\" and python_version < \"3.10\" in /anaconda/envs/azureml_py36/lib/python3.6/site-packages (from ruamel.yaml<1.0.0,>=0.15.35->azureml-core~=1.28.0->azureml-train-automl-runtime) (0.2.2)\n",
            "Requirement already satisfied: jeepney>=0.6 in /anaconda/envs/azureml_py36/lib/python3.6/site-packages (from SecretStorage<4.0.0->azureml-core~=1.28.0->azureml-train-automl-runtime) (0.6.0)\n",
            "Requirement already satisfied: backports.weakref in /anaconda/envs/azureml_py36/lib/python3.6/site-packages (from backports.tempfile->azureml-core~=1.28.0->azureml-train-automl-runtime) (1.0.post1)\n",
            "Requirement already satisfied: isodate>=0.6.0 in /anaconda/envs/azureml_py36/lib/python3.6/site-packages (from msrest<1.0.0,>=0.5.1->azureml-core~=1.28.0->azureml-train-automl-runtime) (0.6.0)\n",
            "Requirement already satisfied: requests-oauthlib>=0.5.0 in /anaconda/envs/azureml_py36/lib/python3.6/site-packages (from msrest<1.0.0,>=0.5.1->azureml-core~=1.28.0->azureml-train-automl-runtime) (1.3.0)\n",
            "Requirement already satisfied: importlib-metadata; python_version < \"3.8\" in /anaconda/envs/azureml_py36/lib/python3.6/site-packages (from jsonpickle<3.0.0->azureml-core~=1.28.0->azureml-train-automl-runtime) (3.10.1)\n",
            "Requirement already satisfied: setuptools>=3.0 in /anaconda/envs/azureml_py36/lib/python3.6/site-packages (from gunicorn==20.1.0->azureml-defaults~=1.28.0->azureml-train-automl-runtime) (50.3.0)\n",
            "Requirement already satisfied: itsdangerous>=0.24 in /anaconda/envs/azureml_py36/lib/python3.6/site-packages (from flask==1.0.3->azureml-defaults~=1.28.0->azureml-train-automl-runtime) (1.1.0)\n",
            "Requirement already satisfied: click>=5.1 in /anaconda/envs/azureml_py36/lib/python3.6/site-packages (from flask==1.0.3->azureml-defaults~=1.28.0->azureml-train-automl-runtime) (7.1.2)\n",
            "Requirement already satisfied: liac-arff>=2.1.1 in /anaconda/envs/azureml_py36/lib/python3.6/site-packages (from azureml-model-management-sdk==1.0.1b6.post1->azureml-defaults~=1.28.0->azureml-train-automl-runtime) (2.5.0)\n",
            "Requirement already satisfied: dotnetcore2>=2.1.2 in /anaconda/envs/azureml_py36/lib/python3.6/site-packages (from nimbusml<=1.8.0,>=1.7.1->azureml-automl-runtime~=1.28.0->azureml-train-automl-runtime) (2.1.20)\n",
            "Requirement already satisfied: Cython>=0.29 in /anaconda/envs/azureml_py36/lib/python3.6/site-packages (from pmdarima==1.1.1->azureml-automl-runtime~=1.28.0->azureml-train-automl-runtime) (0.29.23)\n",
            "Requirement already satisfied: shap<=0.34.0,>=0.20.0 in /anaconda/envs/azureml_py36/lib/python3.6/site-packages (from interpret-community==0.17.*->azureml-interpret~=1.28.0->azureml-train-automl-runtime) (0.34.0)\n",
            "Requirement already satisfied: packaging in /anaconda/envs/azureml_py36/lib/python3.6/site-packages (from interpret-community==0.17.*->azureml-interpret~=1.28.0->azureml-train-automl-runtime) (20.9)\n",
            "Requirement already satisfied: azureml-dataprep-rslex<1.14.0a,>=1.13.0dev0 in /anaconda/envs/azureml_py36/lib/python3.6/site-packages (from azureml-dataprep<2.16.0a,>=2.15.0a->azureml-dataset-runtime[fuse,pandas]~=1.28.0->azureml-train-automl-runtime) (1.13.0)\n",
            "Requirement already satisfied: azure-identity<1.5.0,>=1.2.0 in /anaconda/envs/azureml_py36/lib/python3.6/site-packages (from azureml-dataprep<2.16.0a,>=2.15.0a->azureml-dataset-runtime[fuse,pandas]~=1.28.0->azureml-train-automl-runtime) (1.4.1)\n",
            "Requirement already satisfied: azureml-dataprep-native<34.0.0,>=33.0.0 in /anaconda/envs/azureml_py36/lib/python3.6/site-packages (from azureml-dataprep<2.16.0a,>=2.15.0a->azureml-dataset-runtime[fuse,pandas]~=1.28.0->azureml-train-automl-runtime) (33.0.0)\n",
            "Requirement already satisfied: cloudpickle<2.0.0,>=1.1.0 in /anaconda/envs/azureml_py36/lib/python3.6/site-packages (from azureml-dataprep<2.16.0a,>=2.15.0a->azureml-dataset-runtime[fuse,pandas]~=1.28.0->azureml-train-automl-runtime) (1.6.0)\n",
            "Requirement already satisfied: termcolor in /anaconda/envs/azureml_py36/lib/python3.6/site-packages (from fire->keras2onnx<=1.6.0,>=1.4.0->azureml-train-automl-runtime) (1.1.0)\n",
            "Requirement already satisfied: pycparser in /anaconda/envs/azureml_py36/lib/python3.6/site-packages (from cffi>=1.12->cryptography!=1.9,!=2.0.*,!=2.1.*,!=2.2.*,<4.0.0->azureml-core~=1.28.0->azureml-train-automl-runtime) (2.20)\n",
            "Requirement already satisfied: oauthlib>=3.0.0 in /anaconda/envs/azureml_py36/lib/python3.6/site-packages (from requests-oauthlib>=0.5.0->msrest<1.0.0,>=0.5.1->azureml-core~=1.28.0->azureml-train-automl-runtime) (3.1.0)\n",
            "Requirement already satisfied: zipp>=0.5 in /anaconda/envs/azureml_py36/lib/python3.6/site-packages (from importlib-metadata; python_version < \"3.8\"->jsonpickle<3.0.0->azureml-core~=1.28.0->azureml-train-automl-runtime) (3.4.1)\n",
            "Requirement already satisfied: distro>=1.2.0 in /anaconda/envs/azureml_py36/lib/python3.6/site-packages (from dotnetcore2>=2.1.2->nimbusml<=1.8.0,>=1.7.1->azureml-automl-runtime~=1.28.0->azureml-train-automl-runtime) (1.5.0)\n",
            "Requirement already satisfied: tqdm>4.25.0 in /anaconda/envs/azureml_py36/lib/python3.6/site-packages (from shap<=0.34.0,>=0.20.0->interpret-community==0.17.*->azureml-interpret~=1.28.0->azureml-train-automl-runtime) (4.60.0)\n",
            "Requirement already satisfied: pyparsing>=2.0.2 in /anaconda/envs/azureml_py36/lib/python3.6/site-packages (from packaging->interpret-community==0.17.*->azureml-interpret~=1.28.0->azureml-train-automl-runtime) (2.4.7)\n",
            "Requirement already satisfied: msal-extensions~=0.2.2 in /anaconda/envs/azureml_py36/lib/python3.6/site-packages (from azure-identity<1.5.0,>=1.2.0->azureml-dataprep<2.16.0a,>=2.15.0a->azureml-dataset-runtime[fuse,pandas]~=1.28.0->azureml-train-automl-runtime) (0.2.2)\n",
            "Requirement already satisfied: msal<2.0.0,>=1.3.0 in /anaconda/envs/azureml_py36/lib/python3.6/site-packages (from azure-identity<1.5.0,>=1.2.0->azureml-dataprep<2.16.0a,>=2.15.0a->azureml-dataset-runtime[fuse,pandas]~=1.28.0->azureml-train-automl-runtime) (1.11.0)\n",
            "Requirement already satisfied: portalocker~=1.0; platform_system != \"Windows\" in /anaconda/envs/azureml_py36/lib/python3.6/site-packages (from msal-extensions~=0.2.2->azure-identity<1.5.0,>=1.2.0->azureml-dataprep<2.16.0a,>=2.15.0a->azureml-dataset-runtime[fuse,pandas]~=1.28.0->azureml-train-automl-runtime) (1.7.1)\n",
            "Note: you may need to restart the kernel to use updated packages.\n"
          ]
        }
      ],
      "execution_count": 3,
      "metadata": {
        "collapsed": true,
        "jupyter": {
          "source_hidden": false,
          "outputs_hidden": false
        },
        "nteract": {
          "transient": {
            "deleting": false
          }
        },
        "gather": {
          "logged": 1620691948228
        }
      }
    },
    {
      "cell_type": "code",
      "source": [
        "pip install --upgrade scikit-learn"
      ],
      "outputs": [
        {
          "output_type": "stream",
          "name": "stdout",
          "text": [
            "Collecting scikit-learn\n",
            "  Using cached scikit_learn-0.24.2-cp36-cp36m-manylinux2010_x86_64.whl (22.2 MB)\n",
            "Requirement already satisfied, skipping upgrade: threadpoolctl>=2.0.0 in /anaconda/envs/azureml_py36/lib/python3.6/site-packages (from scikit-learn) (2.1.0)\n",
            "Requirement already satisfied, skipping upgrade: scipy>=0.19.1 in /anaconda/envs/azureml_py36/lib/python3.6/site-packages (from scikit-learn) (1.5.2)\n",
            "Requirement already satisfied, skipping upgrade: joblib>=0.11 in /anaconda/envs/azureml_py36/lib/python3.6/site-packages (from scikit-learn) (0.14.1)\n",
            "Requirement already satisfied, skipping upgrade: numpy>=1.13.3 in /anaconda/envs/azureml_py36/lib/python3.6/site-packages (from scikit-learn) (1.18.5)\n",
            "\u001b[31mERROR: raiwidgets 0.2.2 has requirement lightgbm>=3.1.1, but you'll have lightgbm 2.3.0 which is incompatible.\u001b[0m\n",
            "\u001b[31mERROR: azureml-train-automl-runtime 1.28.0 has requirement scikit-learn<0.23.0,>=0.19.0, but you'll have scikit-learn 0.24.2 which is incompatible.\u001b[0m\n",
            "\u001b[31mERROR: azureml-explain-model 1.27.0 has requirement azureml-interpret~=1.27.0, but you'll have azureml-interpret 1.28.0 which is incompatible.\u001b[0m\n",
            "\u001b[31mERROR: azureml-datadrift 1.27.0 has requirement azureml-core~=1.27.0, but you'll have azureml-core 1.28.0 which is incompatible.\u001b[0m\n",
            "\u001b[31mERROR: azureml-datadrift 1.27.0 has requirement azureml-dataset-runtime[fuse,pandas]~=1.27.0, but you'll have azureml-dataset-runtime 1.28.0 which is incompatible.\u001b[0m\n",
            "\u001b[31mERROR: azureml-datadrift 1.27.0 has requirement azureml-pipeline-core~=1.27.0, but you'll have azureml-pipeline-core 1.28.0 which is incompatible.\u001b[0m\n",
            "\u001b[31mERROR: azureml-datadrift 1.27.0 has requirement azureml-telemetry~=1.27.0, but you'll have azureml-telemetry 1.28.0 which is incompatible.\u001b[0m\n",
            "\u001b[31mERROR: azureml-automl-runtime 1.28.0.post1 has requirement scikit-learn<0.23.0,>=0.19.0, but you'll have scikit-learn 0.24.2 which is incompatible.\u001b[0m\n",
            "\u001b[31mERROR: azureml-automl-dnn-nlp 1.27.0 has requirement azureml-automl-core~=1.27.0, but you'll have azureml-automl-core 1.28.0 which is incompatible.\u001b[0m\n",
            "\u001b[31mERROR: azureml-automl-dnn-nlp 1.27.0 has requirement azureml-automl-runtime~=1.27.0, but you'll have azureml-automl-runtime 1.28.0.post1 which is incompatible.\u001b[0m\n",
            "\u001b[31mERROR: azureml-automl-dnn-nlp 1.27.0 has requirement azureml-core~=1.27.0, but you'll have azureml-core 1.28.0 which is incompatible.\u001b[0m\n",
            "\u001b[31mERROR: azureml-automl-dnn-nlp 1.27.0 has requirement azureml-telemetry~=1.27.0, but you'll have azureml-telemetry 1.28.0 which is incompatible.\u001b[0m\n",
            "\u001b[31mERROR: azureml-automl-dnn-nlp 1.27.0 has requirement azureml-train-automl~=1.27.0, but you'll have azureml-train-automl 1.28.0 which is incompatible.\u001b[0m\n",
            "\u001b[31mERROR: autokeras 1.0.12 has requirement tensorflow>=2.3.0, but you'll have tensorflow 2.1.0 which is incompatible.\u001b[0m\n",
            "Installing collected packages: scikit-learn\n",
            "  Attempting uninstall: scikit-learn\n",
            "    Found existing installation: scikit-learn 0.22.2.post1\n",
            "    Uninstalling scikit-learn-0.22.2.post1:\n",
            "      Successfully uninstalled scikit-learn-0.22.2.post1\n",
            "Successfully installed scikit-learn-0.24.2\n",
            "Note: you may need to restart the kernel to use updated packages.\n"
          ]
        }
      ],
      "execution_count": 11,
      "metadata": {
        "collapsed": true,
        "jupyter": {
          "source_hidden": false,
          "outputs_hidden": false
        },
        "nteract": {
          "transient": {
            "deleting": false
          }
        },
        "gather": {
          "logged": 1620692079854
        }
      }
    },
    {
      "cell_type": "code",
      "source": [
        "import logging\n",
        "import os\n",
        "import csv\n",
        "\n",
        "from matplotlib import pyplot as plt\n",
        "import numpy as np\n",
        "import pandas as pd\n",
        "from sklearn import datasets\n",
        "import pkg_resources\n",
        "from imblearn.under_sampling import RandomUnderSampler\n",
        "from sklearn.model_selection import train_test_split\n",
        "\n",
        "import azureml.core\n",
        "from azureml.core.experiment import Experiment\n",
        "from azureml.core.workspace import Workspace\n",
        "\n",
        "from azureml.core.dataset import Dataset\n",
        "from azureml.core import Datastore\n",
        "from azureml.core.compute import ComputeTarget, AmlCompute\n",
        "from azureml.core.compute_target import ComputeTargetException\n",
        "\n",
        "from azureml.train.automl import AutoMLConfig\n",
        "\n",
        "from azureml.pipeline.steps import AutoMLStep\n",
        "\n",
        "from azureml.data.dataset_factory import TabularDatasetFactory\n",
        "\n",
        "\n",
        "# Check core SDK version number\n",
        "print(\"SDK version:\", azureml.core.VERSION)"
      ],
      "outputs": [
        {
          "output_type": "stream",
          "name": "stdout",
          "text": [
            "SDK version: 1.28.0\n"
          ]
        }
      ],
      "execution_count": 1,
      "metadata": {
        "gather": {
          "logged": 1620692748196
        },
        "jupyter": {
          "outputs_hidden": false,
          "source_hidden": false
        },
        "nteract": {
          "transient": {
            "deleting": false
          }
        }
      }
    },
    {
      "cell_type": "markdown",
      "source": [
        "## Workspace Configuration\n",
        "\n",
        "In this cell we import the workspace configuration and create an experiment that we will use later."
      ],
      "metadata": {}
    },
    {
      "cell_type": "code",
      "source": [
        "ws = Workspace.from_config()\n",
        "\n",
        "print('Workspace name: ' + ws.name, \n",
        "      'Azure region: ' + ws.location, \n",
        "      'Subscription id: ' + ws.subscription_id, \n",
        "      'Resource group: ' + ws.resource_group, sep = '\\n')\n",
        "\n",
        "# choose a name for experiment\n",
        "experiment_name = 'automlcovid'\n",
        "\n",
        "experiment=Experiment(ws, experiment_name)\n",
        "experiment"
      ],
      "outputs": [
        {
          "output_type": "stream",
          "name": "stdout",
          "text": [
            "Workspace name: quick-starts-ws-144486\n",
            "Azure region: southcentralus\n",
            "Subscription id: 1b944a9b-fdae-4f97-aeb1-b7eea0beac53\n",
            "Resource group: aml-quickstarts-144486\n"
          ]
        },
        {
          "output_type": "execute_result",
          "execution_count": 2,
          "data": {
            "text/plain": "Experiment(Name: automatedmlcovid,\nWorkspace: quick-starts-ws-144486)",
            "text/html": "<table style=\"width:100%\"><tr><th>Name</th><th>Workspace</th><th>Report Page</th><th>Docs Page</th></tr><tr><td>automatedmlcovid</td><td>quick-starts-ws-144486</td><td><a href=\"https://ml.azure.com/experiments/id/c5a09841-e122-40f1-b48c-5e5476d38f8c?wsid=/subscriptions/1b944a9b-fdae-4f97-aeb1-b7eea0beac53/resourcegroups/aml-quickstarts-144486/workspaces/quick-starts-ws-144486&amp;tid=660b3398-b80e-49d2-bc5b-ac1dc93b5254\" target=\"_blank\" rel=\"noopener\">Link to Azure Machine Learning studio</a></td><td><a href=\"https://docs.microsoft.com/en-us/python/api/azureml-core/azureml.core.experiment.Experiment?view=azure-ml-py\" target=\"_blank\" rel=\"noopener\">Link to Documentation</a></td></tr></table>"
          },
          "metadata": {}
        }
      ],
      "execution_count": 2,
      "metadata": {
        "gather": {
          "logged": 1620692751469
        },
        "jupyter": {
          "outputs_hidden": false,
          "source_hidden": false
        },
        "nteract": {
          "transient": {
            "deleting": false
          }
        }
      }
    },
    {
      "cell_type": "markdown",
      "source": [
        "## Compute Cluster creation\n",
        "In this cell a cpu cluster is created for running our experiments, it checks if a compute cluster with the same name exists, if it exists then uses it, if not it creates it.\n",
        "\n",
        "If the cluster does not exists we define the configuration for it. For this project we will be using `min_nodes = 1`, in your own project this will incurr in extra costs, so consider leaving it to 0."
      ],
      "metadata": {
        "nteract": {
          "transient": {
            "deleting": false
          }
        }
      }
    },
    {
      "cell_type": "code",
      "source": [
        "compute_cluster_name = \"cpu-cluster\"\n",
        "\n",
        "try:\n",
        "    compute_target = ComputeTarget(workspace=ws, name=compute_cluster_name)\n",
        "    print(\"Found existing compute cluster...\")\n",
        "except:\n",
        "    print(\"Creating new compute cluster...\")\n",
        "    compute_config = AmlCompute.provisioning_configuration(vm_size='STANDARD_D16s_V3', max_nodes=4, min_nodes=1)\n",
        "    compute_target = ComputeTarget.create(ws, compute_cluster_name, compute_config)\n",
        "    \n",
        "compute_target.wait_for_completion(show_output=True)\n",
        "print(\"Cluster details: \", compute_target.get_status().serialize())"
      ],
      "outputs": [
        {
          "output_type": "stream",
          "name": "stdout",
          "text": [
            "Found existing compute cluster...\n",
            "Succeeded\n",
            "AmlCompute wait for completion finished\n",
            "\n",
            "Minimum number of nodes requested have been provisioned\n",
            "Cluster details:  {'currentNodeCount': 4, 'targetNodeCount': 4, 'nodeStateCounts': {'preparingNodeCount': 0, 'runningNodeCount': 0, 'idleNodeCount': 4, 'unusableNodeCount': 0, 'leavingNodeCount': 0, 'preemptedNodeCount': 0}, 'allocationState': 'Steady', 'allocationStateTransitionTime': '2021-05-11T00:20:59.808000+00:00', 'errors': None, 'creationTime': '2021-05-10T20:19:57.705745+00:00', 'modifiedTime': '2021-05-10T20:20:13.081040+00:00', 'provisioningState': 'Succeeded', 'provisioningStateTransitionTime': None, 'scaleSettings': {'minNodeCount': 1, 'maxNodeCount': 4, 'nodeIdleTimeBeforeScaleDown': 'PT120S'}, 'vmPriority': 'Dedicated', 'vmSize': 'STANDARD_D16S_V3'}\n"
          ]
        }
      ],
      "execution_count": 3,
      "metadata": {
        "collapsed": true,
        "jupyter": {
          "source_hidden": false,
          "outputs_hidden": false
        },
        "nteract": {
          "transient": {
            "deleting": false
          }
        },
        "gather": {
          "logged": 1620692755125
        }
      }
    },
    {
      "cell_type": "markdown",
      "source": [
        "## Dataset\n",
        "\n",
        "### Overview\n",
        "We are going to use the Mexican Government's COVID-19 data, once it is uploaded to ML Studio we will consume it using TabularDataset.\n",
        "\n",
        "To consume the dataset we will import it from the Datastore tab in ML Studio, this is a blob storage, then we have to specify the location of the csv to import it.\n",
        "\n",
        "Once it's imported we will we creating a Pandas Dataframe that we will need later on."
      ],
      "metadata": {
        "nteract": {
          "transient": {
            "deleting": false
          }
        }
      }
    },
    {
      "cell_type": "code",
      "source": [
        "datastore = Datastore.get(ws,'workspaceblobstore')\n",
        "ds = TabularDatasetFactory.from_delimited_files(path=(datastore, 'UI/05-10-2021_081653_UTC/210509COVID19MEXICO.csv'))\n",
        "df = ds.to_pandas_dataframe()\n",
        "\n",
        "print(df)"
      ],
      "outputs": [
        {
          "output_type": "stream",
          "name": "stdout",
          "text": [
            "        FECHA_ACTUALIZACION ID_REGISTRO  ORIGEN  SECTOR  ENTIDAD_UM  SEXO  \\\n",
            "0                2021-05-09      z482b8       1      12           9     2   \n",
            "1                2021-05-09      z49a69       1      12          23     1   \n",
            "2                2021-05-09      z23d9d       1      12          22     2   \n",
            "3                2021-05-09      z24953       1      12           9     1   \n",
            "4                2021-05-09      zz8e77       1      12           9     2   \n",
            "...                     ...         ...     ...     ...         ...   ...   \n",
            "6757355          2021-05-09      6bd21b       2      12           9     1   \n",
            "6757356          2021-05-09      d0d932       2      12          12     1   \n",
            "6757357          2021-05-09      7ceaf8       2       4           9     1   \n",
            "6757358          2021-05-09      56cd1e       2       4           5     1   \n",
            "6757359          2021-05-09      cd3ffd       2       4          15     2   \n",
            "\n",
            "         ENTIDAD_NAC  ENTIDAD_RES  MUNICIPIO_RES  TIPO_PACIENTE  ...  \\\n",
            "0                  9            9             12              1  ...   \n",
            "1                 23           23              4              2  ...   \n",
            "2                 24           22              9              1  ...   \n",
            "3                  9            9             10              1  ...   \n",
            "4                  9            9              2              1  ...   \n",
            "...              ...          ...            ...            ...  ...   \n",
            "6757355           15            9             11              1  ...   \n",
            "6757356           12           12              1              1  ...   \n",
            "6757357            9            9              7              1  ...   \n",
            "6757358            5            5             27              1  ...   \n",
            "6757359           15           15            106              1  ...   \n",
            "\n",
            "        OTRO_CASO TOMA_MUESTRA_LAB RESULTADO_LAB  TOMA_MUESTRA_ANTIGENO  \\\n",
            "0               2                2            97                      2   \n",
            "1               1                2            97                      2   \n",
            "2               2                2            97                      2   \n",
            "3               1                1             2                      2   \n",
            "4               2                2            97                      2   \n",
            "...           ...              ...           ...                    ...   \n",
            "6757355         2                2            97                      1   \n",
            "6757356         1                2            97                      1   \n",
            "6757357         2                2            97                      1   \n",
            "6757358         1                2            97                      1   \n",
            "6757359         2                2            97                      1   \n",
            "\n",
            "         RESULTADO_ANTIGENO  CLASIFICACION_FINAL  MIGRANTE  PAIS_NACIONALIDAD  \\\n",
            "0                        97                    1        99             México   \n",
            "1                        97                    2        99             México   \n",
            "2                        97                    6        99             México   \n",
            "3                        97                    7        99             México   \n",
            "4                        97                    6        99             México   \n",
            "...                     ...                  ...       ...                ...   \n",
            "6757355                   2                    7        99             México   \n",
            "6757356                   2                    7        99             México   \n",
            "6757357                   2                    7        99             México   \n",
            "6757358                   2                    7        99             México   \n",
            "6757359                   2                    7        99             México   \n",
            "\n",
            "         PAIS_ORIGEN  UCI  \n",
            "0               97.0   97  \n",
            "1               97.0    1  \n",
            "2               97.0   97  \n",
            "3               97.0   97  \n",
            "4               97.0   97  \n",
            "...              ...  ...  \n",
            "6757355         97.0   97  \n",
            "6757356         97.0   97  \n",
            "6757357         97.0   97  \n",
            "6757358         97.0   97  \n",
            "6757359         97.0   97  \n",
            "\n",
            "[6757360 rows x 40 columns]\n"
          ]
        }
      ],
      "execution_count": 4,
      "metadata": {
        "collapsed": true,
        "jupyter": {
          "source_hidden": false,
          "outputs_hidden": false
        },
        "nteract": {
          "transient": {
            "deleting": false
          }
        },
        "gather": {
          "logged": 1620692780241
        }
      }
    },
    {
      "cell_type": "markdown",
      "source": [
        "### Data Preprocessing\n",
        "\n",
        "#### Cleaning\n",
        "The objective of our project is to create a model that can get if a patient with COVID-19 will enter into an Intensive Care Unit or not.\n",
        "\n",
        "The objective variable `UCI` has a lot of values that are 97, 98, or 99, which means that we don't know if the person is or was in a Intensive Care Unit, we only need the values 1 and 2, which means that the patient was or wasn't in an Intensive Care Unit, respectively.\n",
        "\n",
        "So the next step is to trim our dataset by removing the rows that have 97, 98 or 99, leaving only 'Yes'/'No' for our objective variable."
      ],
      "metadata": {
        "nteract": {
          "transient": {
            "deleting": false
          }
        }
      }
    },
    {
      "cell_type": "code",
      "source": [
        "arr_drop = [97,98,99]\r\n",
        "for element in arr_drop:\r\n",
        "    df.drop(df.loc[df['UCI']==element].index,inplace=True)\r\n",
        "\r\n",
        "print(df)\r\n",
        "print(\"--------------------------------------\")\r\n",
        "print(\"Classes count\")\r\n",
        "classes = pd.crosstab(index=df['UCI'],columns=\"count\")\r\n",
        "print(classes)\r\n"
      ],
      "outputs": [
        {
          "output_type": "stream",
          "name": "stdout",
          "text": [
            "        FECHA_ACTUALIZACION ID_REGISTRO  ORIGEN  SECTOR  ENTIDAD_UM  SEXO  \\\n",
            "1                2021-05-09      z49a69       1      12          23     1   \n",
            "16               2021-05-09      z166d5       1      12           1     1   \n",
            "21               2021-05-09      z388cd       1      12          29     2   \n",
            "22               2021-05-09      z4533d       1      12          29     1   \n",
            "27               2021-05-09      z4494e       1      12           8     1   \n",
            "...                     ...         ...     ...     ...         ...   ...   \n",
            "6757282          2021-05-09      4b89bb       1      12          22     2   \n",
            "6757292          2021-05-09      7efdce       1       4           9     2   \n",
            "6757308          2021-05-09      d45a16       1       4          19     1   \n",
            "6757320          2021-05-09      d3d30f       2       6          28     1   \n",
            "6757347          2021-05-09      a7f5d8       1      12          18     1   \n",
            "\n",
            "         ENTIDAD_NAC  ENTIDAD_RES  MUNICIPIO_RES  TIPO_PACIENTE  ...  \\\n",
            "1                 23           23              4              2  ...   \n",
            "16                 1            1              1              2  ...   \n",
            "21                15           21            117              2  ...   \n",
            "22                21           21            117              2  ...   \n",
            "27                 8            8             37              2  ...   \n",
            "...              ...          ...            ...            ...  ...   \n",
            "6757282           22           22             14              2  ...   \n",
            "6757292            9            9             10              2  ...   \n",
            "6757308           19           19             39              2  ...   \n",
            "6757320           28           28             27              2  ...   \n",
            "6757347           18           18             17              2  ...   \n",
            "\n",
            "        OTRO_CASO TOMA_MUESTRA_LAB RESULTADO_LAB  TOMA_MUESTRA_ANTIGENO  \\\n",
            "1               1                2            97                      2   \n",
            "16              2                1             1                      2   \n",
            "21              1                2            97                      2   \n",
            "22              2                2            97                      2   \n",
            "27              1                1             1                      2   \n",
            "...           ...              ...           ...                    ...   \n",
            "6757282         2                1             1                      2   \n",
            "6757292         2                2            97                      2   \n",
            "6757308         2                1             2                      2   \n",
            "6757320         2                1             3                      2   \n",
            "6757347         2                1             3                      2   \n",
            "\n",
            "         RESULTADO_ANTIGENO  CLASIFICACION_FINAL  MIGRANTE  PAIS_NACIONALIDAD  \\\n",
            "1                        97                    2        99             México   \n",
            "16                       97                    3        99             México   \n",
            "21                       97                    1        99             México   \n",
            "22                       97                    6        99             México   \n",
            "27                       97                    3        99             México   \n",
            "...                     ...                  ...       ...                ...   \n",
            "6757282                  97                    3        99             México   \n",
            "6757292                  97                    6        99             México   \n",
            "6757308                  97                    7        99             México   \n",
            "6757320                  97                    6        99             México   \n",
            "6757347                  97                    6        99             México   \n",
            "\n",
            "         PAIS_ORIGEN  UCI  \n",
            "1               97.0    1  \n",
            "16              97.0    2  \n",
            "21              97.0    2  \n",
            "22              97.0    2  \n",
            "27              97.0    2  \n",
            "...              ...  ...  \n",
            "6757282         97.0    2  \n",
            "6757292         97.0    2  \n",
            "6757308         97.0    2  \n",
            "6757320         97.0    1  \n",
            "6757347         97.0    2  \n",
            "\n",
            "[740781 rows x 40 columns]\n",
            "--------------------------------------\n",
            "Classes count\n",
            "col_0   count\n",
            "UCI          \n",
            "1       54892\n",
            "2      685889\n"
          ]
        }
      ],
      "execution_count": 5,
      "metadata": {
        "collapsed": true,
        "jupyter": {
          "source_hidden": false,
          "outputs_hidden": false
        },
        "nteract": {
          "transient": {
            "deleting": false
          }
        },
        "gather": {
          "logged": 1620692788944
        }
      }
    },
    {
      "cell_type": "markdown",
      "source": [
        "### Defining useful features\n",
        "As we defined in our task definition in the `README.md` file, we will use only the following features: `SEXO`, `EDAD`, `NEUMONIA`, `DIABETES`, `EPOC`, `ASMA`, `INMUSUPR`, `HIPERTENSION`, `OTRA_COM`, `CARDIOVASCULAR`, `OBESIDAD`, `RENAL_CRONICA`, `TABAQUISMO`, `RESULTADO_LAB`."
      ],
      "metadata": {
        "nteract": {
          "transient": {
            "deleting": false
          }
        }
      }
    },
    {
      "cell_type": "code",
      "source": [
        "df = df[['SEXO', 'EDAD','NEUMONIA','DIABETES','EPOC','ASMA','INMUSUPR','HIPERTENSION','OTRA_COM','CARDIOVASCULAR','OBESIDAD','RENAL_CRONICA','TABAQUISMO','RESULTADO_LAB', 'UCI']]\r\n",
        "print(df)"
      ],
      "outputs": [
        {
          "output_type": "stream",
          "name": "stdout",
          "text": [
            "         SEXO  EDAD  NEUMONIA  DIABETES  EPOC  ASMA  INMUSUPR  HIPERTENSION  \\\n",
            "1           1    66         1         1     2     2         2             1   \n",
            "16          1    32         1         1     2     2         2             1   \n",
            "21          2    12         1         1     2     2         2             2   \n",
            "22          1    11         2         1     2     2         2             2   \n",
            "27          1    49         2         2     2     2         2             2   \n",
            "...       ...   ...       ...       ...   ...   ...       ...           ...   \n",
            "6757282     2    87         1         2     2     2         2             2   \n",
            "6757292     2    21         2         2     2     2         2             2   \n",
            "6757308     1    69         2         2     2     2         2             2   \n",
            "6757320     1    70         2         2     1     2         1             1   \n",
            "6757347     1    33         1         2     2     2         2             2   \n",
            "\n",
            "         OTRA_COM  CARDIOVASCULAR  OBESIDAD  RENAL_CRONICA  TABAQUISMO  \\\n",
            "1               2               2         1              2           2   \n",
            "16              2               2         2              2           2   \n",
            "21              2               2         2              2           2   \n",
            "22              2               2         1              2           2   \n",
            "27              2               2         2              2           2   \n",
            "...           ...             ...       ...            ...         ...   \n",
            "6757282         2               2         2              2           2   \n",
            "6757292         2               2         2              2           2   \n",
            "6757308         2               2         2              2           2   \n",
            "6757320         2               1         2              1           2   \n",
            "6757347         2               2         1              2           2   \n",
            "\n",
            "         RESULTADO_LAB  UCI  \n",
            "1                   97    1  \n",
            "16                   1    2  \n",
            "21                  97    2  \n",
            "22                  97    2  \n",
            "27                   1    2  \n",
            "...                ...  ...  \n",
            "6757282              1    2  \n",
            "6757292             97    2  \n",
            "6757308              2    2  \n",
            "6757320              3    1  \n",
            "6757347              3    2  \n",
            "\n",
            "[740781 rows x 15 columns]\n"
          ]
        }
      ],
      "execution_count": 6,
      "metadata": {
        "collapsed": true,
        "jupyter": {
          "source_hidden": false,
          "outputs_hidden": false
        },
        "nteract": {
          "transient": {
            "deleting": false
          }
        },
        "gather": {
          "logged": 1620692791799
        }
      }
    },
    {
      "cell_type": "markdown",
      "source": [
        "#### Handling dataset class imbalance\n",
        "\n",
        "As we can see, the rows with 1 (Yes) in the `UCI` column are a lot less than the 2 (No). we can send the dataset to training like this, but we will get a \"Class balancing warning\" alert in Azure ML, so we are going to fix it.\n",
        "\n",
        "The next step in our data preprocessing is to balance the dataset. We will need the `imblearn` library that we installed before, and we will need to divide our dataframe in X and y to use the \"RandomUnderSampler\" method.\n",
        "\n",
        "`y` has only the column `UCI` column, and `X` the rest of the columns, as we already defined the features we wanted in the previous cell"
      ],
      "metadata": {
        "nteract": {
          "transient": {
            "deleting": false
          }
        }
      }
    },
    {
      "cell_type": "code",
      "source": [
        "y = df['UCI']\n",
        "X = df.drop('UCI',1)\n",
        "\n",
        "rus = RandomUnderSampler(random_state = 42)\n",
        "X_resampled, y_resampled = rus.fit_resample(X,y)\n",
        "print(X_resampled)\n",
        "print(\"-------\")\n",
        "print(y_resampled)"
      ],
      "outputs": [
        {
          "output_type": "stream",
          "name": "stdout",
          "text": [
            "        SEXO  EDAD  NEUMONIA  DIABETES  EPOC  ASMA  INMUSUPR  HIPERTENSION  \\\n",
            "0          1    66         1         1     2     2         2             1   \n",
            "1          2    60         1         1     2     2         2             2   \n",
            "2          1    80         1         1     2     2         2             1   \n",
            "3          1     5         1         2     2     2         2             2   \n",
            "4          1    58         1         2     2     2         2             2   \n",
            "...      ...   ...       ...       ...   ...   ...       ...           ...   \n",
            "109779     2    63         2         2     2     2         2             2   \n",
            "109780     2    10         2         2     2     2         2             2   \n",
            "109781     2    45         2         2     2     2         2             2   \n",
            "109782     2    53         1         2     2     2         2             1   \n",
            "109783     2    50         1         2     2     2         2             2   \n",
            "\n",
            "        OTRA_COM  CARDIOVASCULAR  OBESIDAD  RENAL_CRONICA  TABAQUISMO  \\\n",
            "0              2               2         1              2           2   \n",
            "1              2               2         2              2           2   \n",
            "2              2               2         1              2           2   \n",
            "3              2               2         2              2           2   \n",
            "4              2               2         2              2           2   \n",
            "...          ...             ...       ...            ...         ...   \n",
            "109779         2               2         2              2           1   \n",
            "109780         2               2         2              2           2   \n",
            "109781         2               2         2              2           2   \n",
            "109782         2               2         2              2           2   \n",
            "109783         2               2         2              2           2   \n",
            "\n",
            "        RESULTADO_LAB  \n",
            "0                  97  \n",
            "1                   1  \n",
            "2                   4  \n",
            "3                  97  \n",
            "4                   2  \n",
            "...               ...  \n",
            "109779              2  \n",
            "109780              2  \n",
            "109781              2  \n",
            "109782              2  \n",
            "109783              1  \n",
            "\n",
            "[109784 rows x 14 columns]\n",
            "-------\n",
            "0         1\n",
            "1         1\n",
            "2         1\n",
            "3         1\n",
            "4         1\n",
            "         ..\n",
            "109779    2\n",
            "109780    2\n",
            "109781    2\n",
            "109782    2\n",
            "109783    2\n",
            "Name: UCI, Length: 109784, dtype: int64\n"
          ]
        }
      ],
      "execution_count": 7,
      "metadata": {
        "collapsed": true,
        "jupyter": {
          "source_hidden": false,
          "outputs_hidden": false
        },
        "nteract": {
          "transient": {
            "deleting": false
          }
        },
        "gather": {
          "logged": 1620692795996
        }
      }
    },
    {
      "cell_type": "markdown",
      "source": [
        "### Train/test split\r\n",
        "\r\n",
        "Now that we have our balanced data, we will divide X and y between train and test"
      ],
      "metadata": {
        "nteract": {
          "transient": {
            "deleting": false
          }
        }
      }
    },
    {
      "cell_type": "code",
      "source": [
        "x_train, x_test, y_train, y_test = train_test_split(X_resampled,y_resampled,test_size = 0.2, random_state = 42)\n",
        "\n",
        "train_data = pd.concat([x_train,y_train],axis=1)\n",
        "\n",
        "print(train_data)\n",
        "\n",
        "print(\"Validating that we have balanced data for training.\")\n",
        "classes = pd.crosstab(index=train_data['UCI'],columns=\"count\")\n",
        "print(classes)"
      ],
      "outputs": [
        {
          "output_type": "stream",
          "name": "stdout",
          "text": [
            "        SEXO  EDAD  NEUMONIA  DIABETES  EPOC  ASMA  INMUSUPR  HIPERTENSION  \\\n",
            "29634      1    23         1         2     2     2         2             2   \n",
            "106415     2    40         1         2     2     2         2             2   \n",
            "78580      1    63         2         1     2     2         2             1   \n",
            "45877      2    34         1         2     2     2         2             2   \n",
            "524        2    33         1         2     2     2         2             2   \n",
            "...      ...   ...       ...       ...   ...   ...       ...           ...   \n",
            "54886      1    49         2         2     2     2         2             1   \n",
            "76820      2    47         1         2     2     2         2             2   \n",
            "103694     2    64         2         2     2     2         2             2   \n",
            "860        2    46         1         2     2     2         2             2   \n",
            "15795      2    32         2         2     2     2         2             2   \n",
            "\n",
            "        OTRA_COM  CARDIOVASCULAR  OBESIDAD  RENAL_CRONICA  TABAQUISMO  \\\n",
            "29634          2               2         2              2           2   \n",
            "106415         2               2         2              1           2   \n",
            "78580          2               1         2              1           2   \n",
            "45877          2               2         2              2           2   \n",
            "524            2               2         2              2           2   \n",
            "...          ...             ...       ...            ...         ...   \n",
            "54886          2               2         2              2           2   \n",
            "76820          2               2         2              2           2   \n",
            "103694         2               1         2              2           2   \n",
            "860            2               2         2              2           2   \n",
            "15795          2               2         1              2           2   \n",
            "\n",
            "        RESULTADO_LAB  UCI  \n",
            "29634               1    1  \n",
            "106415              1    2  \n",
            "78580               2    2  \n",
            "45877               1    1  \n",
            "524                 1    1  \n",
            "...               ...  ...  \n",
            "54886               2    1  \n",
            "76820               2    2  \n",
            "103694              2    2  \n",
            "860                 1    1  \n",
            "15795               1    1  \n",
            "\n",
            "[87827 rows x 15 columns]\n",
            "Validating that we have balanced data for training.\n",
            "col_0  count\n",
            "UCI         \n",
            "1      43805\n",
            "2      44022\n"
          ]
        }
      ],
      "execution_count": 8,
      "metadata": {
        "collapsed": true,
        "jupyter": {
          "source_hidden": false,
          "outputs_hidden": false
        },
        "nteract": {
          "transient": {
            "deleting": false
          }
        },
        "gather": {
          "logged": 1620692799775
        }
      }
    },
    {
      "cell_type": "markdown",
      "source": [
        "### Converting Train Data to Tabular Dataset\r\n",
        "Since the train data is in the pandas Dataframe format, we have to convert it to Tabular Dataset to be used in AutoML\r\n",
        "\r\n",
        "Warning: don't forget to drop the dataframe index, as the csv creates another index, and it will confuse our model."
      ],
      "metadata": {
        "nteract": {
          "transient": {
            "deleting": false
          }
        }
      }
    },
    {
      "cell_type": "code",
      "source": [
        "#Convert train_data (Which are in pandas DataFrame format) to TabularDataset format.\r\n",
        "try:\r\n",
        "    os.makedirs('./data', exist_ok=True)\r\n",
        "except OSError as error:\r\n",
        "    print('New directory cannot be created')\r\n",
        "    \r\n",
        "path = 'data/traindata.csv'\r\n",
        "train_data.to_csv(path, index= False)\r\n",
        "\r\n",
        "datastore = ws.get_default_datastore()\r\n",
        "datastore.upload(src_dir='data', target_path='data')\r\n",
        "\r\n",
        "train_data = TabularDatasetFactory.from_delimited_files(path=[(datastore, ('data/traindata.csv'))])\r\n",
        "print(\"Successfully converted the dataset to TabularDataset format.\")\r\n",
        "print(type(train_data))"
      ],
      "outputs": [
        {
          "output_type": "stream",
          "name": "stdout",
          "text": [
            "Uploading an estimated of 1 files\n",
            "Target already exists. Skipping upload for data/traindata.csv\n",
            "Uploaded 0 files\n",
            "Successfully converted the dataset to TabularDataset format.\n",
            "<class 'azureml.data.tabular_dataset.TabularDataset'>\n"
          ]
        }
      ],
      "execution_count": 9,
      "metadata": {
        "collapsed": true,
        "jupyter": {
          "source_hidden": false,
          "outputs_hidden": false
        },
        "nteract": {
          "transient": {
            "deleting": false
          }
        },
        "gather": {
          "logged": 1620692805973
        }
      }
    },
    {
      "cell_type": "markdown",
      "source": [
        "## AutoML Configuration\n",
        "\n",
        "TODO: Explain why you chose the automl settings and cofiguration you used below.\n",
        "\n",
        "Since I was dealing with a large dataset, I needed to give more time to the experiment_timeout_minutes, that's why it's set to 1 hour."
      ],
      "metadata": {}
    },
    {
      "cell_type": "code",
      "source": [
        "# TODO: Put your automl settings here\n",
        "automl_settings = {\n",
        "    \"experiment_timeout_minutes\": 60,\n",
        "    \"max_concurrent_iterations\": 5,\n",
        "    \"primary_metric\" : 'accuracy'\n",
        "}\n",
        "\n",
        "# TODO: Put your automl config here\n",
        "automl_config = AutoMLConfig(\n",
        "    compute_target=compute_target,\n",
        "    task = \"classification\",\n",
        "    training_data=train_data,\n",
        "    label_column_name='UCI',   \n",
        "    enable_early_stopping= True,\n",
        "    featurization= 'auto',\n",
        "    debug_log = \"automl_errors.log\",\n",
        "    **automl_settings\n",
        ")"
      ],
      "outputs": [],
      "execution_count": 10,
      "metadata": {
        "gather": {
          "logged": 1620692818641
        },
        "jupyter": {
          "outputs_hidden": false,
          "source_hidden": false
        },
        "nteract": {
          "transient": {
            "deleting": false
          }
        }
      }
    },
    {
      "cell_type": "markdown",
      "source": [
        "## Submit the experiment with RunDetails widget\n",
        "With the `RunDetails` widget we can see important outputs and when the run is completed.\n",
        "\n",
        "In this cell we submit the experiment, with `show_output = True` to see the run logs in real time"
      ],
      "metadata": {}
    },
    {
      "cell_type": "code",
      "source": [
        "from azureml.widgets import RunDetails\n",
        "#Submit the experiment\n",
        "remote_run = experiment.submit(automl_config)\n",
        "#Show Run Details\n",
        "RunDetails(remote_run).show()\n",
        "remote_run.wait_for_completion(show_output=True)\n"
      ],
      "outputs": [
        {
          "output_type": "stream",
          "name": "stdout",
          "text": [
            "Submitting remote run.\n"
          ]
        },
        {
          "output_type": "display_data",
          "data": {
            "text/plain": "<IPython.core.display.HTML object>",
            "text/html": "<table style=\"width:100%\"><tr><th>Experiment</th><th>Id</th><th>Type</th><th>Status</th><th>Details Page</th><th>Docs Page</th></tr><tr><td>automatedmlcovid</td><td>AutoML_8d3c1dfb-f26f-45ac-a7b6-c0af7bbb4fef</td><td>automl</td><td>NotStarted</td><td><a href=\"https://ml.azure.com/runs/AutoML_8d3c1dfb-f26f-45ac-a7b6-c0af7bbb4fef?wsid=/subscriptions/1b944a9b-fdae-4f97-aeb1-b7eea0beac53/resourcegroups/aml-quickstarts-144486/workspaces/quick-starts-ws-144486&amp;tid=660b3398-b80e-49d2-bc5b-ac1dc93b5254\" target=\"_blank\" rel=\"noopener\">Link to Azure Machine Learning studio</a></td><td><a href=\"https://docs.microsoft.com/en-us/python/api/overview/azure/ml/intro?view=azure-ml-py\" target=\"_blank\" rel=\"noopener\">Link to Documentation</a></td></tr></table>"
          },
          "metadata": {}
        },
        {
          "output_type": "display_data",
          "data": {
            "text/plain": "_AutoMLWidget(widget_settings={'childWidgetDisplay': 'popup', 'send_telemetry': False, 'log_level': 'INFO', 's…",
            "application/vnd.jupyter.widget-view+json": {
              "version_major": 2,
              "version_minor": 0,
              "model_id": "a2ebd7938cfb449bb44326afaa5c28dd"
            }
          },
          "metadata": {}
        },
        {
          "output_type": "display_data",
          "data": {
            "application/aml.mini.widget.v1": "{\"status\": \"Completed\", \"workbench_run_details_uri\": \"https://ml.azure.com/runs/AutoML_8d3c1dfb-f26f-45ac-a7b6-c0af7bbb4fef?wsid=/subscriptions/1b944a9b-fdae-4f97-aeb1-b7eea0beac53/resourcegroups/aml-quickstarts-144486/workspaces/quick-starts-ws-144486&tid=660b3398-b80e-49d2-bc5b-ac1dc93b5254\", \"run_id\": \"AutoML_8d3c1dfb-f26f-45ac-a7b6-c0af7bbb4fef\", \"run_properties\": {\"run_id\": \"AutoML_8d3c1dfb-f26f-45ac-a7b6-c0af7bbb4fef\", \"created_utc\": \"2021-05-11T00:27:06.071218Z\", \"properties\": {\"num_iterations\": \"1000\", \"training_type\": \"TrainFull\", \"acquisition_function\": \"EI\", \"primary_metric\": \"accuracy\", \"train_split\": \"0\", \"acquisition_parameter\": \"0\", \"num_cross_validation\": \"5\", \"target\": \"cpu-cluster\", \"AMLSettingsJsonString\": \"{\\\"path\\\":null,\\\"name\\\":\\\"automatedmlcovid\\\",\\\"subscription_id\\\":\\\"1b944a9b-fdae-4f97-aeb1-b7eea0beac53\\\",\\\"resource_group\\\":\\\"aml-quickstarts-144486\\\",\\\"workspace_name\\\":\\\"quick-starts-ws-144486\\\",\\\"region\\\":\\\"southcentralus\\\",\\\"compute_target\\\":\\\"cpu-cluster\\\",\\\"spark_service\\\":null,\\\"azure_service\\\":\\\"remote\\\",\\\"many_models\\\":false,\\\"pipeline_fetch_max_batch_size\\\":1,\\\"enable_batch_run\\\":false,\\\"enable_run_restructure\\\":false,\\\"start_auxiliary_runs_before_parent_complete\\\":false,\\\"enable_code_generation\\\":false,\\\"iterations\\\":1000,\\\"primary_metric\\\":\\\"accuracy\\\",\\\"task_type\\\":\\\"classification\\\",\\\"data_script\\\":null,\\\"test_size\\\":0.0,\\\"validation_size\\\":0.0,\\\"n_cross_validations\\\":5,\\\"y_min\\\":null,\\\"y_max\\\":null,\\\"num_classes\\\":null,\\\"featurization\\\":\\\"auto\\\",\\\"_ignore_package_version_incompatibilities\\\":false,\\\"is_timeseries\\\":false,\\\"max_cores_per_iteration\\\":1,\\\"max_concurrent_iterations\\\":5,\\\"iteration_timeout_minutes\\\":null,\\\"mem_in_mb\\\":null,\\\"enforce_time_on_windows\\\":false,\\\"experiment_timeout_minutes\\\":60,\\\"experiment_exit_score\\\":null,\\\"whitelist_models\\\":null,\\\"blacklist_algos\\\":[\\\"TensorFlowLinearClassifier\\\",\\\"TensorFlowDNN\\\"],\\\"supported_models\\\":[\\\"BernoulliNaiveBayes\\\",\\\"ExtremeRandomTrees\\\",\\\"SGD\\\",\\\"LogisticRegression\\\",\\\"MultinomialNaiveBayes\\\",\\\"LightGBM\\\",\\\"SVM\\\",\\\"LinearSVM\\\",\\\"GradientBoosting\\\",\\\"TensorFlowDNN\\\",\\\"XGBoostClassifier\\\",\\\"KNN\\\",\\\"TensorFlowLinearClassifier\\\",\\\"AveragedPerceptronClassifier\\\",\\\"RandomForest\\\",\\\"DecisionTree\\\"],\\\"private_models\\\":[],\\\"auto_blacklist\\\":true,\\\"blacklist_samples_reached\\\":false,\\\"exclude_nan_labels\\\":true,\\\"verbosity\\\":20,\\\"_debug_log\\\":\\\"azureml_automl.log\\\",\\\"show_warnings\\\":false,\\\"model_explainability\\\":true,\\\"service_url\\\":null,\\\"sdk_url\\\":null,\\\"sdk_packages\\\":null,\\\"enable_onnx_compatible_models\\\":false,\\\"enable_split_onnx_featurizer_estimator_models\\\":false,\\\"vm_type\\\":\\\"STANDARD_D16S_V3\\\",\\\"telemetry_verbosity\\\":20,\\\"send_telemetry\\\":true,\\\"enable_dnn\\\":false,\\\"scenario\\\":\\\"SDK-1.13.0\\\",\\\"environment_label\\\":null,\\\"save_mlflow\\\":false,\\\"force_text_dnn\\\":false,\\\"enable_feature_sweeping\\\":true,\\\"enable_early_stopping\\\":true,\\\"early_stopping_n_iters\\\":10,\\\"metrics\\\":null,\\\"enable_metric_confidence\\\":false,\\\"enable_ensembling\\\":true,\\\"enable_stack_ensembling\\\":true,\\\"ensemble_iterations\\\":15,\\\"enable_tf\\\":false,\\\"enable_subsampling\\\":null,\\\"subsample_seed\\\":null,\\\"enable_nimbusml\\\":false,\\\"enable_streaming\\\":false,\\\"force_streaming\\\":false,\\\"track_child_runs\\\":true,\\\"allowed_private_models\\\":[],\\\"label_column_name\\\":\\\"UCI\\\",\\\"weight_column_name\\\":null,\\\"cv_split_column_names\\\":null,\\\"enable_local_managed\\\":false,\\\"_local_managed_run_id\\\":null,\\\"cost_mode\\\":1,\\\"lag_length\\\":0,\\\"metric_operation\\\":\\\"maximize\\\",\\\"preprocess\\\":true}\", \"DataPrepJsonString\": \"{\\\\\\\"training_data\\\\\\\": {\\\\\\\"datasetId\\\\\\\": \\\\\\\"75a4c8c8-a776-4669-b6bd-ea0e4ede4218\\\\\\\"}, \\\\\\\"datasets\\\\\\\": 0}\", \"EnableSubsampling\": null, \"runTemplate\": \"AutoML\", \"azureml.runsource\": \"automl\", \"display_task_type\": \"classification\", \"dependencies_versions\": \"{\\\"azureml-widgets\\\": \\\"1.28.0\\\", \\\"azureml-train\\\": \\\"1.28.0\\\", \\\"azureml-train-restclients-hyperdrive\\\": \\\"1.28.0\\\", \\\"azureml-train-core\\\": \\\"1.28.0\\\", \\\"azureml-train-automl\\\": \\\"1.28.0\\\", \\\"azureml-train-automl-runtime\\\": \\\"1.28.0\\\", \\\"azureml-train-automl-client\\\": \\\"1.28.0\\\", \\\"azureml-tensorboard\\\": \\\"1.27.0\\\", \\\"azureml-telemetry\\\": \\\"1.28.0\\\", \\\"azureml-sdk\\\": \\\"1.28.0\\\", \\\"azureml-samples\\\": \\\"0+unknown\\\", \\\"azureml-pipeline\\\": \\\"1.28.0\\\", \\\"azureml-pipeline-steps\\\": \\\"1.28.0\\\", \\\"azureml-pipeline-core\\\": \\\"1.28.0\\\", \\\"azureml-opendatasets\\\": \\\"1.27.0\\\", \\\"azureml-model-management-sdk\\\": \\\"1.0.1b6.post1\\\", \\\"azureml-mlflow\\\": \\\"1.27.0\\\", \\\"azureml-interpret\\\": \\\"1.28.0\\\", \\\"azureml-explain-model\\\": \\\"1.27.0\\\", \\\"azureml-defaults\\\": \\\"1.28.0\\\", \\\"azureml-dataset-runtime\\\": \\\"1.28.0\\\", \\\"azureml-dataprep\\\": \\\"2.15.0\\\", \\\"azureml-dataprep-rslex\\\": \\\"1.13.0\\\", \\\"azureml-dataprep-native\\\": \\\"33.0.0\\\", \\\"azureml-datadrift\\\": \\\"1.27.0\\\", \\\"azureml-core\\\": \\\"1.28.0\\\", \\\"azureml-contrib-services\\\": \\\"1.28.0\\\", \\\"azureml-contrib-server\\\": \\\"1.28.0\\\", \\\"azureml-contrib-reinforcementlearning\\\": \\\"1.27.0\\\", \\\"azureml-contrib-pipeline-steps\\\": \\\"1.28.0\\\", \\\"azureml-contrib-notebook\\\": \\\"1.28.0\\\", \\\"azureml-contrib-gbdt\\\": \\\"1.27.0\\\", \\\"azureml-contrib-fairness\\\": \\\"1.27.0\\\", \\\"azureml-contrib-dataset\\\": \\\"1.27.0\\\", \\\"azureml-cli-common\\\": \\\"1.27.0\\\", \\\"azureml-automl-runtime\\\": \\\"1.28.0.post1\\\", \\\"azureml-automl-dnn-nlp\\\": \\\"1.27.0\\\", \\\"azureml-automl-core\\\": \\\"1.28.0\\\", \\\"azureml-accel-models\\\": \\\"1.27.0\\\"}\", \"_aml_system_scenario_identification\": \"Remote.Parent\", \"ClientType\": \"SDK\", \"environment_cpu_name\": \"AzureML-AutoML\", \"environment_cpu_label\": \"prod\", \"environment_gpu_name\": \"AzureML-AutoML-GPU\", \"environment_gpu_label\": \"prod\", \"root_attribution\": \"automl\", \"attribution\": \"AutoML\", \"Orchestrator\": \"AutoML\", \"CancelUri\": \"https://southcentralus.api.azureml.ms/jasmine/v1.0/subscriptions/1b944a9b-fdae-4f97-aeb1-b7eea0beac53/resourceGroups/aml-quickstarts-144486/providers/Microsoft.MachineLearningServices/workspaces/quick-starts-ws-144486/experimentids/c5a09841-e122-40f1-b48c-5e5476d38f8c/cancel/AutoML_8d3c1dfb-f26f-45ac-a7b6-c0af7bbb4fef\", \"ClientSdkVersion\": \"1.27.0.post1\", \"snapshotId\": \"00000000-0000-0000-0000-000000000000\", \"SetupRunId\": \"AutoML_8d3c1dfb-f26f-45ac-a7b6-c0af7bbb4fef_setup\", \"SetupRunContainerId\": \"dcid.AutoML_8d3c1dfb-f26f-45ac-a7b6-c0af7bbb4fef_setup\", \"FeaturizationRunJsonPath\": \"featurizer_container.json\", \"FeaturizationRunId\": \"AutoML_8d3c1dfb-f26f-45ac-a7b6-c0af7bbb4fef_featurize\", \"ProblemInfoJsonString\": \"{\\\"dataset_num_categorical\\\": 0, \\\"is_sparse\\\": true, \\\"subsampling\\\": false, \\\"dataset_classes\\\": 2, \\\"dataset_features\\\": 38, \\\"dataset_samples\\\": 87827, \\\"single_frequency_class_detected\\\": false}\", \"ModelExplainRunId\": \"AutoML_8d3c1dfb-f26f-45ac-a7b6-c0af7bbb4fef_ModelExplain\"}, \"tags\": {\"model_explain_run\": \"best_run\", \"_aml_system_azureml.automlComponent\": \"AutoML\", \"pipeline_id\": \"\", \"score\": \"\", \"predicted_cost\": \"\", \"fit_time\": \"\", \"training_percent\": \"\", \"iteration\": \"\", \"run_preprocessor\": \"\", \"run_algorithm\": \"\", \"dynamic_whitelisting_iterations\": \"<25>;<30>;<35>;\", \"automl_best_child_run_id\": \"AutoML_8d3c1dfb-f26f-45ac-a7b6-c0af7bbb4fef_40\", \"model_explain_best_run_child_id\": \"AutoML_8d3c1dfb-f26f-45ac-a7b6-c0af7bbb4fef_40\"}, \"end_time_utc\": \"2021-05-11T00:49:17.079127Z\", \"status\": \"Completed\", \"log_files\": {}, \"log_groups\": [], \"run_duration\": \"0:22:11\", \"run_number\": \"63\", \"run_queued_details\": {\"status\": \"Completed\", \"details\": null}}, \"child_runs\": [{\"run_id\": \"AutoML_8d3c1dfb-f26f-45ac-a7b6-c0af7bbb4fef_0\", \"run_number\": 67, \"metric\": null, \"status\": \"Completed\", \"run_type\": \"azureml.scriptrun\", \"training_percent\": \"100\", \"start_time\": \"2021-05-11T00:32:50.862196Z\", \"end_time\": \"2021-05-11T00:33:44.457248Z\", \"created_time\": \"2021-05-11T00:30:18.849364Z\", \"created_time_dt\": \"2021-05-11T00:30:18.849364Z\", \"duration\": \"0:03:25\", \"iteration\": \"0\", \"goal\": \"accuracy_max\", \"run_name\": \"MaxAbsScaler, LightGBM\", \"run_properties\": \"copy=True\", \"primary_metric\": 0.64400474, \"best_metric\": 0.64400474}, {\"run_id\": \"AutoML_8d3c1dfb-f26f-45ac-a7b6-c0af7bbb4fef_2\", \"run_number\": 68, \"metric\": null, \"status\": \"Completed\", \"run_type\": \"azureml.scriptrun\", \"training_percent\": \"100\", \"start_time\": \"2021-05-11T00:30:34.143849Z\", \"end_time\": \"2021-05-11T00:31:22.407151Z\", \"created_time\": \"2021-05-11T00:30:18.873899Z\", \"created_time_dt\": \"2021-05-11T00:30:18.873899Z\", \"duration\": \"0:01:03\", \"iteration\": \"2\", \"goal\": \"accuracy_max\", \"run_name\": \"MaxAbsScaler, RandomForest\", \"run_properties\": \"copy=True\", \"primary_metric\": 0.63923389, \"best_metric\": 0.64400474}, {\"run_id\": \"AutoML_8d3c1dfb-f26f-45ac-a7b6-c0af7bbb4fef_4\", \"run_number\": 69, \"metric\": null, \"status\": \"Completed\", \"run_type\": \"azureml.scriptrun\", \"training_percent\": \"100\", \"start_time\": \"2021-05-11T00:31:37.635203Z\", \"end_time\": \"2021-05-11T00:32:31.067894Z\", \"created_time\": \"2021-05-11T00:30:18.880632Z\", \"created_time_dt\": \"2021-05-11T00:30:18.880632Z\", \"duration\": \"0:02:12\", \"iteration\": \"4\", \"goal\": \"accuracy_max\", \"run_name\": \"MaxAbsScaler, RandomForest\", \"run_properties\": \"copy=True\", \"primary_metric\": 0.64027009, \"best_metric\": 0.64400474}, {\"run_id\": \"AutoML_8d3c1dfb-f26f-45ac-a7b6-c0af7bbb4fef_1\", \"run_number\": 70, \"metric\": null, \"status\": \"Completed\", \"run_type\": \"azureml.scriptrun\", \"training_percent\": \"100\", \"start_time\": \"2021-05-11T00:33:47.951487Z\", \"end_time\": \"2021-05-11T00:35:48.722178Z\", \"created_time\": \"2021-05-11T00:30:18.88172Z\", \"created_time_dt\": \"2021-05-11T00:30:18.88172Z\", \"duration\": \"0:05:29\", \"iteration\": \"1\", \"goal\": \"accuracy_max\", \"run_name\": \"MaxAbsScaler, XGBoostClassifier\", \"run_properties\": \"copy=True\", \"primary_metric\": 0.64389088, \"best_metric\": 0.64400474}, {\"run_id\": \"AutoML_8d3c1dfb-f26f-45ac-a7b6-c0af7bbb4fef_3\", \"run_number\": 71, \"metric\": null, \"status\": \"Completed\", \"run_type\": \"azureml.scriptrun\", \"training_percent\": \"100\", \"start_time\": \"2021-05-11T00:33:48.456776Z\", \"end_time\": \"2021-05-11T00:35:39.268738Z\", \"created_time\": \"2021-05-11T00:30:18.87735Z\", \"created_time_dt\": \"2021-05-11T00:30:18.87735Z\", \"duration\": \"0:05:20\", \"iteration\": \"3\", \"goal\": \"accuracy_max\", \"run_name\": \"MaxAbsScaler, RandomForest\", \"run_properties\": \"copy=True\", \"primary_metric\": 0.62758598, \"best_metric\": 0.64400474}, {\"run_id\": \"AutoML_8d3c1dfb-f26f-45ac-a7b6-c0af7bbb4fef_5\", \"run_number\": 72, \"metric\": null, \"status\": \"Completed\", \"run_type\": \"azureml.scriptrun\", \"training_percent\": \"100\", \"start_time\": \"2021-05-11T00:33:48.239083Z\", \"end_time\": \"2021-05-11T00:35:32.041343Z\", \"created_time\": \"2021-05-11T00:31:25.74312Z\", \"created_time_dt\": \"2021-05-11T00:31:25.74312Z\", \"duration\": \"0:04:06\", \"iteration\": \"5\", \"goal\": \"accuracy_max\", \"run_name\": \"MaxAbsScaler, RandomForest\", \"run_properties\": \"copy=True\", \"primary_metric\": 0.63288048, \"best_metric\": 0.64400474}, {\"run_id\": \"AutoML_8d3c1dfb-f26f-45ac-a7b6-c0af7bbb4fef_6\", \"run_number\": 73, \"metric\": null, \"status\": \"Completed\", \"run_type\": \"azureml.scriptrun\", \"training_percent\": \"100\", \"start_time\": \"2021-05-11T00:33:58.669484Z\", \"end_time\": \"2021-05-11T00:35:22.987787Z\", \"created_time\": \"2021-05-11T00:32:33.686918Z\", \"created_time_dt\": \"2021-05-11T00:32:33.686918Z\", \"duration\": \"0:02:49\", \"iteration\": \"6\", \"goal\": \"accuracy_max\", \"run_name\": \"SparseNormalizer, XGBoostClassifier\", \"run_properties\": \"<azureml.automl.runtime.shared.model_wrappers.SparseNormalizer object at 0x7f71cef17eb8\", \"primary_metric\": 0.64360623, \"best_metric\": 0.64400474}, {\"run_id\": \"AutoML_8d3c1dfb-f26f-45ac-a7b6-c0af7bbb4fef_7\", \"run_number\": 74, \"metric\": null, \"status\": \"Completed\", \"run_type\": \"azureml.scriptrun\", \"training_percent\": \"100\", \"start_time\": \"2021-05-11T00:35:39.600575Z\", \"end_time\": \"2021-05-11T00:36:53.53547Z\", \"created_time\": \"2021-05-11T00:33:46.914649Z\", \"created_time_dt\": \"2021-05-11T00:33:46.914649Z\", \"duration\": \"0:03:06\", \"iteration\": \"7\", \"goal\": \"accuracy_max\", \"run_name\": \"SparseNormalizer, XGBoostClassifier\", \"run_properties\": \"<azureml.automl.runtime.shared.model_wrappers.SparseNormalizer object at 0x7fdf2cbe1e80\", \"primary_metric\": 0.64218299, \"best_metric\": 0.64400474}, {\"run_id\": \"AutoML_8d3c1dfb-f26f-45ac-a7b6-c0af7bbb4fef_8\", \"run_number\": 75, \"metric\": null, \"status\": \"Completed\", \"run_type\": \"azureml.scriptrun\", \"training_percent\": \"100\", \"start_time\": \"2021-05-11T00:35:48.666331Z\", \"end_time\": \"2021-05-11T00:36:46.307158Z\", \"created_time\": \"2021-05-11T00:35:26.216485Z\", \"created_time_dt\": \"2021-05-11T00:35:26.216485Z\", \"duration\": \"0:01:20\", \"iteration\": \"8\", \"goal\": \"accuracy_max\", \"run_name\": \"MaxAbsScaler, RandomForest\", \"run_properties\": \"copy=True\", \"primary_metric\": 0.63126378, \"best_metric\": 0.64400474}, {\"run_id\": \"AutoML_8d3c1dfb-f26f-45ac-a7b6-c0af7bbb4fef_9\", \"run_number\": 76, \"metric\": null, \"status\": \"Completed\", \"run_type\": \"azureml.scriptrun\", \"training_percent\": \"100\", \"start_time\": \"2021-05-11T00:35:54.553057Z\", \"end_time\": \"2021-05-11T00:36:44.754685Z\", \"created_time\": \"2021-05-11T00:35:34.503774Z\", \"created_time_dt\": \"2021-05-11T00:35:34.503774Z\", \"duration\": \"0:01:10\", \"iteration\": \"9\", \"goal\": \"accuracy_max\", \"run_name\": \"SparseNormalizer, XGBoostClassifier\", \"run_properties\": \"<azureml.automl.runtime.shared.model_wrappers.SparseNormalizer object at 0x7f8a33e1f438\", \"primary_metric\": 0.63692265, \"best_metric\": 0.64400474}, {\"run_id\": \"AutoML_8d3c1dfb-f26f-45ac-a7b6-c0af7bbb4fef_10\", \"run_number\": 77, \"metric\": null, \"status\": \"Completed\", \"run_type\": \"azureml.scriptrun\", \"training_percent\": \"100\", \"start_time\": \"2021-05-11T00:36:03.762637Z\", \"end_time\": \"2021-05-11T00:36:56.823766Z\", \"created_time\": \"2021-05-11T00:35:42.138979Z\", \"created_time_dt\": \"2021-05-11T00:35:42.138979Z\", \"duration\": \"0:01:14\", \"iteration\": \"10\", \"goal\": \"accuracy_max\", \"run_name\": \"StandardScalerWrapper, RandomForest\", \"run_properties\": \"<azureml.automl.runtime.shared.model_wrappers.StandardScalerWrapper object at 0x7f06a5b76cf8\", \"primary_metric\": 0.64205775, \"best_metric\": 0.64400474}, {\"run_id\": \"AutoML_8d3c1dfb-f26f-45ac-a7b6-c0af7bbb4fef_11\", \"run_number\": 78, \"metric\": null, \"status\": \"Completed\", \"run_type\": \"azureml.scriptrun\", \"training_percent\": \"100\", \"start_time\": \"2021-05-11T00:37:01.127058Z\", \"end_time\": \"2021-05-11T00:37:53.463621Z\", \"created_time\": \"2021-05-11T00:35:50.784224Z\", \"created_time_dt\": \"2021-05-11T00:35:50.784224Z\", \"duration\": \"0:02:02\", \"iteration\": \"11\", \"goal\": \"accuracy_max\", \"run_name\": \"MaxAbsScaler, LightGBM\", \"run_properties\": \"copy=True\", \"primary_metric\": 0.63385977, \"best_metric\": 0.64400474}, {\"run_id\": \"AutoML_8d3c1dfb-f26f-45ac-a7b6-c0af7bbb4fef_12\", \"run_number\": 79, \"metric\": null, \"status\": \"Completed\", \"run_type\": \"azureml.scriptrun\", \"training_percent\": \"100\", \"start_time\": \"2021-05-11T00:37:01.728924Z\", \"end_time\": \"2021-05-11T00:39:31.990288Z\", \"created_time\": \"2021-05-11T00:36:46.664901Z\", \"created_time_dt\": \"2021-05-11T00:36:46.664901Z\", \"duration\": \"0:02:45\", \"iteration\": \"12\", \"goal\": \"accuracy_max\", \"run_name\": \"MaxAbsScaler, RandomForest\", \"run_properties\": \"copy=True\", \"primary_metric\": 0.63158259, \"best_metric\": 0.64400474}, {\"run_id\": \"AutoML_8d3c1dfb-f26f-45ac-a7b6-c0af7bbb4fef_13\", \"run_number\": 80, \"metric\": null, \"status\": \"Completed\", \"run_type\": \"azureml.scriptrun\", \"training_percent\": \"100\", \"start_time\": \"2021-05-11T00:37:10.135462Z\", \"end_time\": \"2021-05-11T00:38:01.264499Z\", \"created_time\": \"2021-05-11T00:36:50.27865Z\", \"created_time_dt\": \"2021-05-11T00:36:50.27865Z\", \"duration\": \"0:01:10\", \"iteration\": \"13\", \"goal\": \"accuracy_max\", \"run_name\": \"MaxAbsScaler, LogisticRegression\", \"run_properties\": \"copy=True\", \"primary_metric\": 0.6334385, \"best_metric\": 0.64400474}, {\"run_id\": \"AutoML_8d3c1dfb-f26f-45ac-a7b6-c0af7bbb4fef_14\", \"run_number\": 81, \"metric\": null, \"status\": \"Completed\", \"run_type\": \"azureml.scriptrun\", \"training_percent\": \"100\", \"start_time\": \"2021-05-11T00:37:13.354134Z\", \"end_time\": \"2021-05-11T00:38:00.02148Z\", \"created_time\": \"2021-05-11T00:36:55.40922Z\", \"created_time_dt\": \"2021-05-11T00:36:55.40922Z\", \"duration\": \"0:01:04\", \"iteration\": \"14\", \"goal\": \"accuracy_max\", \"run_name\": \"MaxAbsScaler, LightGBM\", \"run_properties\": \"copy=True\", \"primary_metric\": 0.63337017, \"best_metric\": 0.64400474}, {\"run_id\": \"AutoML_8d3c1dfb-f26f-45ac-a7b6-c0af7bbb4fef_15\", \"run_number\": 82, \"metric\": null, \"status\": \"Completed\", \"run_type\": \"azureml.scriptrun\", \"training_percent\": \"100\", \"start_time\": \"2021-05-11T00:38:12.197249Z\", \"end_time\": \"2021-05-11T00:39:20.139298Z\", \"created_time\": \"2021-05-11T00:36:58.789845Z\", \"created_time_dt\": \"2021-05-11T00:36:58.789845Z\", \"duration\": \"0:02:21\", \"iteration\": \"15\", \"goal\": \"accuracy_max\", \"run_name\": \"MaxAbsScaler, LogisticRegression\", \"run_properties\": \"copy=True\", \"primary_metric\": 0.63343851, \"best_metric\": 0.64400474}, {\"run_id\": \"AutoML_8d3c1dfb-f26f-45ac-a7b6-c0af7bbb4fef_16\", \"run_number\": 83, \"metric\": null, \"status\": \"Completed\", \"run_type\": \"azureml.scriptrun\", \"training_percent\": \"100\", \"start_time\": \"2021-05-11T00:38:16.427552Z\", \"end_time\": \"2021-05-11T00:39:06.126016Z\", \"created_time\": \"2021-05-11T00:37:55.267037Z\", \"created_time_dt\": \"2021-05-11T00:37:55.267037Z\", \"duration\": \"0:01:10\", \"iteration\": \"16\", \"goal\": \"accuracy_max\", \"run_name\": \"MaxAbsScaler, LogisticRegression\", \"run_properties\": \"copy=True\", \"primary_metric\": 0.63342712, \"best_metric\": 0.64400474}, {\"run_id\": \"AutoML_8d3c1dfb-f26f-45ac-a7b6-c0af7bbb4fef_17\", \"run_number\": 84, \"metric\": null, \"status\": \"Completed\", \"run_type\": \"azureml.scriptrun\", \"training_percent\": \"100\", \"start_time\": \"2021-05-11T00:38:16.809508Z\", \"end_time\": \"2021-05-11T00:39:24.279591Z\", \"created_time\": \"2021-05-11T00:38:01.822254Z\", \"created_time_dt\": \"2021-05-11T00:38:01.822254Z\", \"duration\": \"0:01:22\", \"iteration\": \"17\", \"goal\": \"accuracy_max\", \"run_name\": \"MaxAbsScaler, LogisticRegression\", \"run_properties\": \"copy=True\", \"primary_metric\": 0.63343851, \"best_metric\": 0.64400474}, {\"run_id\": \"AutoML_8d3c1dfb-f26f-45ac-a7b6-c0af7bbb4fef_18\", \"run_number\": 85, \"metric\": null, \"status\": \"Completed\", \"run_type\": \"azureml.scriptrun\", \"training_percent\": \"100\", \"start_time\": \"2021-05-11T00:39:23.320106Z\", \"end_time\": \"2021-05-11T00:41:00.280823Z\", \"created_time\": \"2021-05-11T00:38:04.746653Z\", \"created_time_dt\": \"2021-05-11T00:38:04.746653Z\", \"duration\": \"0:02:55\", \"iteration\": \"18\", \"goal\": \"accuracy_max\", \"run_name\": \"SparseNormalizer, XGBoostClassifier\", \"run_properties\": \"<azureml.automl.runtime.shared.model_wrappers.SparseNormalizer object at 0x7ff74b6fda58\", \"primary_metric\": 0.64574681, \"best_metric\": 0.64574681}, {\"run_id\": \"AutoML_8d3c1dfb-f26f-45ac-a7b6-c0af7bbb4fef_19\", \"run_number\": 86, \"metric\": null, \"status\": \"Completed\", \"run_type\": \"azureml.scriptrun\", \"training_percent\": \"100\", \"start_time\": \"2021-05-11T00:39:35.308387Z\", \"end_time\": \"2021-05-11T00:40:26.934157Z\", \"created_time\": \"2021-05-11T00:39:08.164236Z\", \"created_time_dt\": \"2021-05-11T00:39:08.164236Z\", \"duration\": \"0:01:18\", \"iteration\": \"19\", \"goal\": \"accuracy_max\", \"run_name\": \"MaxAbsScaler, LightGBM\", \"run_properties\": \"copy=True\", \"primary_metric\": 0.63135486, \"best_metric\": 0.64574681}, {\"run_id\": \"AutoML_8d3c1dfb-f26f-45ac-a7b6-c0af7bbb4fef_20\", \"run_number\": 87, \"metric\": null, \"status\": \"Completed\", \"run_type\": \"azureml.scriptrun\", \"training_percent\": \"100\", \"start_time\": \"2021-05-11T00:39:41.402512Z\", \"end_time\": \"2021-05-11T00:40:55.371692Z\", \"created_time\": \"2021-05-11T00:39:21.953501Z\", \"created_time_dt\": \"2021-05-11T00:39:21.953501Z\", \"duration\": \"0:01:33\", \"iteration\": \"20\", \"goal\": \"accuracy_max\", \"run_name\": \"SparseNormalizer, XGBoostClassifier\", \"run_properties\": \"<azureml.automl.runtime.shared.model_wrappers.SparseNormalizer object at 0x7f824eea62e8\", \"primary_metric\": 0.64205773, \"best_metric\": 0.64574681}, {\"run_id\": \"AutoML_8d3c1dfb-f26f-45ac-a7b6-c0af7bbb4fef_21\", \"run_number\": 88, \"metric\": null, \"status\": \"Completed\", \"run_type\": \"azureml.scriptrun\", \"training_percent\": \"100\", \"start_time\": \"2021-05-11T00:39:50.479461Z\", \"end_time\": \"2021-05-11T00:40:36.084436Z\", \"created_time\": \"2021-05-11T00:39:26.255771Z\", \"created_time_dt\": \"2021-05-11T00:39:26.255771Z\", \"duration\": \"0:01:09\", \"iteration\": \"21\", \"goal\": \"accuracy_max\", \"run_name\": \"StandardScalerWrapper, LightGBM\", \"run_properties\": \"<azureml.automl.runtime.shared.model_wrappers.StandardScalerWrapper object at 0x7f3464450518\", \"primary_metric\": 0.63162809, \"best_metric\": 0.64574681}, {\"run_id\": \"AutoML_8d3c1dfb-f26f-45ac-a7b6-c0af7bbb4fef_22\", \"run_number\": 89, \"metric\": null, \"status\": \"Completed\", \"run_type\": \"azureml.scriptrun\", \"training_percent\": \"100\", \"start_time\": \"2021-05-11T00:40:42.066455Z\", \"end_time\": \"2021-05-11T00:44:41.442589Z\", \"created_time\": \"2021-05-11T00:39:33.722732Z\", \"created_time_dt\": \"2021-05-11T00:39:33.722732Z\", \"duration\": \"0:05:07\", \"iteration\": \"22\", \"goal\": \"accuracy_max\", \"run_name\": \"MaxAbsScaler, ExtremeRandomTrees\", \"run_properties\": \"copy=True\", \"primary_metric\": 0.63128655, \"best_metric\": 0.64574681}, {\"run_id\": \"AutoML_8d3c1dfb-f26f-45ac-a7b6-c0af7bbb4fef_23\", \"run_number\": 90, \"metric\": null, \"status\": \"Completed\", \"run_type\": \"azureml.scriptrun\", \"training_percent\": \"100\", \"start_time\": \"2021-05-11T00:40:51.118759Z\", \"end_time\": \"2021-05-11T00:42:34.000353Z\", \"created_time\": \"2021-05-11T00:40:28.687178Z\", \"created_time_dt\": \"2021-05-11T00:40:28.687178Z\", \"duration\": \"0:02:05\", \"iteration\": \"23\", \"goal\": \"accuracy_max\", \"run_name\": \"MaxAbsScaler, ExtremeRandomTrees\", \"run_properties\": \"copy=True\", \"primary_metric\": 0.63208356, \"best_metric\": 0.64574681}, {\"run_id\": \"AutoML_8d3c1dfb-f26f-45ac-a7b6-c0af7bbb4fef_24\", \"run_number\": 91, \"metric\": null, \"status\": \"Completed\", \"run_type\": \"azureml.scriptrun\", \"training_percent\": \"100\", \"start_time\": \"2021-05-11T00:41:12.91623Z\", \"end_time\": \"2021-05-11T00:41:59.17465Z\", \"created_time\": \"2021-05-11T00:40:37.914773Z\", \"created_time_dt\": \"2021-05-11T00:40:37.914773Z\", \"duration\": \"0:01:21\", \"iteration\": \"24\", \"goal\": \"accuracy_max\", \"run_name\": \"StandardScalerWrapper, RandomForest\", \"run_properties\": \"<azureml.automl.runtime.shared.model_wrappers.StandardScalerWrapper object at 0x7fab6ac5edd8\", \"primary_metric\": 0.61084831, \"best_metric\": 0.64574681}, {\"run_id\": \"AutoML_8d3c1dfb-f26f-45ac-a7b6-c0af7bbb4fef_25\", \"run_number\": 92, \"metric\": null, \"status\": \"Completed\", \"run_type\": \"azureml.scriptrun\", \"training_percent\": \"100\", \"start_time\": \"2021-05-11T00:41:16.11492Z\", \"end_time\": \"2021-05-11T00:42:00.424567Z\", \"created_time\": \"2021-05-11T00:40:58.266681Z\", \"created_time_dt\": \"2021-05-11T00:40:58.266681Z\", \"duration\": \"0:01:02\", \"iteration\": \"25\", \"goal\": \"accuracy_max\", \"run_name\": \"MaxAbsScaler, LightGBM\", \"run_properties\": \"copy=True\", \"primary_metric\": 0.62847421, \"best_metric\": 0.64574681}, {\"run_id\": \"AutoML_8d3c1dfb-f26f-45ac-a7b6-c0af7bbb4fef_26\", \"run_number\": 93, \"metric\": null, \"status\": \"Completed\", \"run_type\": \"azureml.scriptrun\", \"training_percent\": \"100\", \"start_time\": \"2021-05-11T00:42:15.042327Z\", \"end_time\": \"2021-05-11T00:43:03.787446Z\", \"created_time\": \"2021-05-11T00:41:02.003046Z\", \"created_time_dt\": \"2021-05-11T00:41:02.003046Z\", \"duration\": \"0:02:01\", \"iteration\": \"26\", \"goal\": \"accuracy_max\", \"run_name\": \"MaxAbsScaler, LightGBM\", \"run_properties\": \"copy=True\", \"primary_metric\": 0.64171613, \"best_metric\": 0.64574681}, {\"run_id\": \"AutoML_8d3c1dfb-f26f-45ac-a7b6-c0af7bbb4fef_27\", \"run_number\": 94, \"metric\": null, \"status\": \"Completed\", \"run_type\": \"azureml.scriptrun\", \"training_percent\": \"100\", \"start_time\": \"2021-05-11T00:42:16.20332Z\", \"end_time\": \"2021-05-11T00:43:03.919527Z\", \"created_time\": \"2021-05-11T00:42:01.491049Z\", \"created_time_dt\": \"2021-05-11T00:42:01.491049Z\", \"duration\": \"0:01:02\", \"iteration\": \"27\", \"goal\": \"accuracy_max\", \"run_name\": \"SparseNormalizer, LightGBM\", \"run_properties\": \"<azureml.automl.runtime.shared.model_wrappers.SparseNormalizer object at 0x7fca302dad68\", \"primary_metric\": 0.63779936, \"best_metric\": 0.64574681}, {\"run_id\": \"AutoML_8d3c1dfb-f26f-45ac-a7b6-c0af7bbb4fef_28\", \"run_number\": 95, \"metric\": null, \"status\": \"Completed\", \"run_type\": \"azureml.scriptrun\", \"training_percent\": \"100\", \"start_time\": \"2021-05-11T00:42:52.189136Z\", \"end_time\": \"2021-05-11T00:44:31.209907Z\", \"created_time\": \"2021-05-11T00:42:04.389517Z\", \"created_time_dt\": \"2021-05-11T00:42:04.389517Z\", \"duration\": \"0:02:26\", \"iteration\": \"28\", \"goal\": \"accuracy_max\", \"run_name\": \"StandardScalerWrapper, ExtremeRandomTrees\", \"run_properties\": \"<azureml.automl.runtime.shared.model_wrappers.StandardScalerWrapper object at 0x7f7fa6598438\", \"primary_metric\": 0.63211773, \"best_metric\": 0.64574681}, {\"run_id\": \"AutoML_8d3c1dfb-f26f-45ac-a7b6-c0af7bbb4fef_29\", \"run_number\": 96, \"metric\": null, \"status\": \"Completed\", \"run_type\": \"azureml.scriptrun\", \"training_percent\": \"100\", \"start_time\": \"2021-05-11T00:43:19.679011Z\", \"end_time\": \"2021-05-11T00:44:08.589569Z\", \"created_time\": \"2021-05-11T00:42:35.765238Z\", \"created_time_dt\": \"2021-05-11T00:42:35.765238Z\", \"duration\": \"0:01:32\", \"iteration\": \"29\", \"goal\": \"accuracy_max\", \"run_name\": \"StandardScalerWrapper, LightGBM\", \"run_properties\": \"<azureml.automl.runtime.shared.model_wrappers.StandardScalerWrapper object at 0x7fba81c97978\", \"primary_metric\": 0.63170779, \"best_metric\": 0.64574681}, {\"run_id\": \"AutoML_8d3c1dfb-f26f-45ac-a7b6-c0af7bbb4fef_30\", \"run_number\": 97, \"metric\": null, \"status\": \"Completed\", \"run_type\": \"azureml.scriptrun\", \"training_percent\": \"100\", \"start_time\": \"2021-05-11T00:43:20.427515Z\", \"end_time\": \"2021-05-11T00:44:10.013501Z\", \"created_time\": \"2021-05-11T00:43:06.60039Z\", \"created_time_dt\": \"2021-05-11T00:43:06.60039Z\", \"duration\": \"0:01:03\", \"iteration\": \"30\", \"goal\": \"accuracy_max\", \"run_name\": \"StandardScalerWrapper, XGBoostClassifier\", \"run_properties\": \"<azureml.automl.runtime.shared.model_wrappers.StandardScalerWrapper object at 0x7ff1ea2c12b0\", \"primary_metric\": 0.49622559, \"best_metric\": 0.64574681}, {\"run_id\": \"AutoML_8d3c1dfb-f26f-45ac-a7b6-c0af7bbb4fef_31\", \"run_number\": 98, \"metric\": null, \"status\": \"Completed\", \"run_type\": \"azureml.scriptrun\", \"training_percent\": \"100\", \"start_time\": \"2021-05-11T00:44:23.960207Z\", \"end_time\": \"2021-05-11T00:45:10.306787Z\", \"created_time\": \"2021-05-11T00:43:06.623028Z\", \"created_time_dt\": \"2021-05-11T00:43:06.623028Z\", \"duration\": \"0:02:03\", \"iteration\": \"31\", \"goal\": \"accuracy_max\", \"run_name\": \"StandardScalerWrapper, LightGBM\", \"run_properties\": \"<azureml.automl.runtime.shared.model_wrappers.StandardScalerWrapper object at 0x7efbe25ba400\", \"primary_metric\": 0.63119546, \"best_metric\": 0.64574681}, {\"run_id\": \"AutoML_8d3c1dfb-f26f-45ac-a7b6-c0af7bbb4fef_32\", \"run_number\": 99, \"metric\": null, \"status\": \"Completed\", \"run_type\": \"azureml.scriptrun\", \"training_percent\": \"100\", \"start_time\": \"2021-05-11T00:44:26.041301Z\", \"end_time\": \"2021-05-11T00:45:15.856469Z\", \"created_time\": \"2021-05-11T00:44:10.54206Z\", \"created_time_dt\": \"2021-05-11T00:44:10.54206Z\", \"duration\": \"0:01:05\", \"iteration\": \"32\", \"goal\": \"accuracy_max\", \"run_name\": \"StandardScalerWrapper, XGBoostClassifier\", \"run_properties\": \"<azureml.automl.runtime.shared.model_wrappers.StandardScalerWrapper object at 0x7f70bd899080\", \"primary_metric\": 0.63760581, \"best_metric\": 0.64574681}, {\"run_id\": \"AutoML_8d3c1dfb-f26f-45ac-a7b6-c0af7bbb4fef_33\", \"run_number\": 100, \"metric\": null, \"status\": \"Completed\", \"run_type\": \"azureml.scriptrun\", \"training_percent\": \"100\", \"start_time\": \"2021-05-11T00:44:47.367193Z\", \"end_time\": \"2021-05-11T00:45:40.226149Z\", \"created_time\": \"2021-05-11T00:44:13.487726Z\", \"created_time_dt\": \"2021-05-11T00:44:13.487726Z\", \"duration\": \"0:01:26\", \"iteration\": \"33\", \"goal\": \"accuracy_max\", \"run_name\": \"StandardScalerWrapper, ExtremeRandomTrees\", \"run_properties\": \"<azureml.automl.runtime.shared.model_wrappers.StandardScalerWrapper object at 0x7f2a1ef45d68\", \"primary_metric\": 0.63125236, \"best_metric\": 0.64574681}, {\"run_id\": \"AutoML_8d3c1dfb-f26f-45ac-a7b6-c0af7bbb4fef_34\", \"run_number\": 101, \"metric\": null, \"status\": \"Completed\", \"run_type\": \"azureml.scriptrun\", \"training_percent\": \"100\", \"start_time\": \"2021-05-11T00:44:56.686629Z\", \"end_time\": \"2021-05-11T00:45:52.023736Z\", \"created_time\": \"2021-05-11T00:44:33.573171Z\", \"created_time_dt\": \"2021-05-11T00:44:33.573171Z\", \"duration\": \"0:01:18\", \"iteration\": \"34\", \"goal\": \"accuracy_max\", \"run_name\": \"MaxAbsScaler, ExtremeRandomTrees\", \"run_properties\": \"copy=True\", \"primary_metric\": 0.62847421, \"best_metric\": 0.64574681}, {\"run_id\": \"AutoML_8d3c1dfb-f26f-45ac-a7b6-c0af7bbb4fef_35\", \"run_number\": 102, \"metric\": null, \"status\": \"Completed\", \"run_type\": \"azureml.scriptrun\", \"training_percent\": \"100\", \"start_time\": \"2021-05-11T00:45:26.943058Z\", \"end_time\": \"2021-05-11T00:46:21.763784Z\", \"created_time\": \"2021-05-11T00:44:44.289111Z\", \"created_time_dt\": \"2021-05-11T00:44:44.289111Z\", \"duration\": \"0:01:37\", \"iteration\": \"35\", \"goal\": \"accuracy_max\", \"run_name\": \"TruncatedSVDWrapper, XGBoostClassifier\", \"run_properties\": \"n_components=0.2573684210526316, random_state=None\", \"primary_metric\": 0.49841163, \"best_metric\": 0.64574681}, {\"run_id\": \"AutoML_8d3c1dfb-f26f-45ac-a7b6-c0af7bbb4fef_36\", \"run_number\": 103, \"metric\": null, \"status\": \"Canceled\", \"run_type\": \"azureml.scriptrun\", \"training_percent\": \"100\", \"start_time\": \"2021-05-11T00:45:31.784163Z\", \"end_time\": \"2021-05-11T00:46:24.155839Z\", \"created_time\": \"2021-05-11T00:45:12.219824Z\", \"created_time_dt\": \"2021-05-11T00:45:12.219824Z\", \"duration\": \"0:01:11\", \"iteration\": \"36\", \"goal\": \"accuracy_max\", \"run_name\": \"StandardScalerWrapper, LogisticRegression\", \"run_properties\": \"<azureml.automl.runtime.shared.model_wrappers.StandardScalerWrapper object at 0x7f144331b3c8\", \"primary_metric\": 0.63322217, \"best_metric\": 0.64574681}, {\"run_id\": \"AutoML_8d3c1dfb-f26f-45ac-a7b6-c0af7bbb4fef_37\", \"run_number\": 104, \"metric\": null, \"status\": \"Canceled\", \"run_type\": \"azureml.scriptrun\", \"training_percent\": \"100\", \"start_time\": \"2021-05-11T00:45:56.176592Z\", \"end_time\": \"2021-05-11T00:46:25.507702Z\", \"created_time\": \"2021-05-11T00:45:18.185632Z\", \"created_time_dt\": \"2021-05-11T00:45:18.185632Z\", \"duration\": \"0:01:07\", \"iteration\": \"37\", \"goal\": null, \"run_name\": \"TruncatedSVDWrapper, XGBoostClassifier\", \"run_properties\": null}, {\"run_id\": \"AutoML_8d3c1dfb-f26f-45ac-a7b6-c0af7bbb4fef_38\", \"run_number\": 105, \"metric\": null, \"status\": \"Canceled\", \"run_type\": \"azureml.scriptrun\", \"training_percent\": \"100\", \"start_time\": \"2021-05-11T00:46:09.284073Z\", \"end_time\": \"2021-05-11T00:46:25.523029Z\", \"created_time\": \"2021-05-11T00:45:42.286136Z\", \"created_time_dt\": \"2021-05-11T00:45:42.286136Z\", \"duration\": \"0:00:43\", \"iteration\": \"38\", \"goal\": null, \"run_name\": \"Canceled\", \"run_properties\": null}, {\"run_id\": \"AutoML_8d3c1dfb-f26f-45ac-a7b6-c0af7bbb4fef_39\", \"run_number\": 106, \"metric\": null, \"status\": \"Canceled\", \"run_type\": \"azureml.scriptrun\", \"training_percent\": \"100\", \"start_time\": \"2021-05-11T00:45:54.302849Z\", \"end_time\": \"2021-05-11T00:46:22.974261Z\", \"created_time\": \"2021-05-11T00:45:54.302849Z\", \"created_time_dt\": \"2021-05-11T00:45:54.302849Z\", \"duration\": \"0:00:28\", \"iteration\": \"39\", \"goal\": null, \"run_name\": \"Canceled\", \"run_properties\": null}, {\"run_id\": \"AutoML_8d3c1dfb-f26f-45ac-a7b6-c0af7bbb4fef_40\", \"run_number\": 107, \"metric\": null, \"status\": \"Completed\", \"run_type\": \"azureml.scriptrun\", \"training_percent\": \"100\", \"start_time\": \"2021-05-11T00:46:31.335852Z\", \"end_time\": \"2021-05-11T00:48:14.740665Z\", \"created_time\": \"2021-05-11T00:46:26.307384Z\", \"created_time_dt\": \"2021-05-11T00:46:26.307384Z\", \"duration\": \"0:01:48\", \"iteration\": \"40\", \"goal\": \"accuracy_max\", \"run_name\": \"VotingEnsemble\", \"run_properties\": \"classification_labels=None,\\n                              estimators=[('18',\\n                                           Pipeline(memory=None,\\n                                                    steps=[('sparsenormalizer',\\n                                                            <azureml.automl.runtime.shared.model_wrappers.SparseNormalizer object at 0x7f25b0436fd0>\", \"primary_metric\": 0.64598592, \"best_metric\": 0.64598592}, {\"run_id\": \"AutoML_8d3c1dfb-f26f-45ac-a7b6-c0af7bbb4fef_41\", \"run_number\": 108, \"metric\": null, \"status\": \"Completed\", \"run_type\": \"azureml.scriptrun\", \"training_percent\": \"100\", \"start_time\": \"2021-05-11T00:46:31.385094Z\", \"end_time\": \"2021-05-11T00:49:14.057538Z\", \"created_time\": \"2021-05-11T00:46:26.392571Z\", \"created_time_dt\": \"2021-05-11T00:46:26.392571Z\", \"duration\": \"0:02:47\", \"iteration\": \"41\", \"goal\": \"accuracy_max\", \"run_name\": \"StackEnsemble\", \"run_properties\": \"base_learners=[('18',\\n                                        Pipeline(memory=None,\\n                                                 steps=[('sparsenormalizer',\\n                                                         <azureml.automl.runtime.shared.model_wrappers.SparseNormalizer object at 0x7f7280243f60>\", \"primary_metric\": 0.64489286, \"best_metric\": 0.64598592}], \"children_metrics\": {\"categories\": [0], \"series\": {\"average_precision_score_weighted\": [{\"categories\": [\"0\", \"1\", \"2\", \"3\", \"4\", \"5\", \"6\", \"7\", \"8\", \"9\", \"10\", \"11\", \"12\", \"13\", \"14\", \"15\", \"16\", \"17\", \"18\", \"19\", \"20\", \"21\", \"22\", \"23\", \"24\", \"25\", \"26\", \"27\", \"28\", \"29\", \"30\", \"31\", \"32\", \"33\", \"34\", \"35\", \"36\", \"40\", \"41\"], \"mode\": \"markers\", \"name\": \"average_precision_score_weighted\", \"stepped\": false, \"type\": \"scatter\", \"data\": [0.6753246556373897, 0.6759667652354382, 0.6591894000579346, 0.6447741262716394, 0.6626734288644389, 0.6514121294268801, 0.6752805440138312, 0.6724069839505806, 0.6359174506657805, 0.6470876819171799, 0.665890543604416, 0.661359507629479, 0.6380959036361072, 0.6598538271223167, 0.6568400596070232, 0.659843818863615, 0.6598431371888097, 0.6598453831292075, 0.6766546572506466, 0.6460817458773519, 0.6730215769810636, 0.6477393095294153, 0.6426518690327957, 0.6523079516072539, 0.6227998509803918, 0.6168315863055949, 0.6658313651452656, 0.6659244232526121, 0.651638818431595, 0.6571089815489797, 0.5000477127573575, 0.6412611252368012, 0.6291634639101908, 0.6339456377530709, 0.6336305939464413, 0.5000477127573575, 0.6599753381723856, 0.6766319783075331, 0.6773048094623982]}, {\"categories\": [\"0\", \"1\", \"2\", \"3\", \"4\", \"5\", \"6\", \"7\", \"8\", \"9\", \"10\", \"11\", \"12\", \"13\", \"14\", \"15\", \"16\", \"17\", \"18\", \"19\", \"20\", \"21\", \"22\", \"23\", \"24\", \"25\", \"26\", \"27\", \"28\", \"29\", \"30\", \"31\", \"32\", \"33\", \"34\", \"35\", \"36\", \"40\", \"41\"], \"mode\": \"lines\", \"name\": \"average_precision_score_weighted_max\", \"stepped\": true, \"type\": \"scatter\", \"data\": [0.6753246556373897, 0.6759667652354382, 0.6759667652354382, 0.6759667652354382, 0.6759667652354382, 0.6759667652354382, 0.6759667652354382, 0.6759667652354382, 0.6759667652354382, 0.6759667652354382, 0.6759667652354382, 0.6759667652354382, 0.6759667652354382, 0.6759667652354382, 0.6759667652354382, 0.6759667652354382, 0.6759667652354382, 0.6759667652354382, 0.6766546572506466, 0.6766546572506466, 0.6766546572506466, 0.6766546572506466, 0.6766546572506466, 0.6766546572506466, 0.6766546572506466, 0.6766546572506466, 0.6766546572506466, 0.6766546572506466, 0.6766546572506466, 0.6766546572506466, 0.6766546572506466, 0.6766546572506466, 0.6766546572506466, 0.6766546572506466, 0.6766546572506466, 0.6766546572506466, 0.6766546572506466, 0.6766546572506466, 0.6773048094623982]}], \"AUC_macro\": [{\"categories\": [\"0\", \"1\", \"2\", \"3\", \"4\", \"5\", \"6\", \"7\", \"8\", \"9\", \"10\", \"11\", \"12\", \"13\", \"14\", \"15\", \"16\", \"17\", \"18\", \"19\", \"20\", \"21\", \"22\", \"23\", \"24\", \"25\", \"26\", \"27\", \"28\", \"29\", \"30\", \"31\", \"32\", \"33\", \"34\", \"35\", \"36\", \"40\", \"41\"], \"mode\": \"markers\", \"name\": \"AUC_macro\", \"stepped\": false, \"type\": \"scatter\", \"data\": [0.6889697967925786, 0.6891592429811975, 0.6775049775379646, 0.6630715628692786, 0.6791010752696188, 0.6705966873319223, 0.6888546294117057, 0.6863302408190235, 0.6646789330548153, 0.6768581678984027, 0.6824901376331907, 0.677069578125187, 0.6631862302384638, 0.6742911956446653, 0.6736245718508611, 0.6742845080880928, 0.6742842358220044, 0.6742852290028181, 0.689839678031775, 0.6636781206101838, 0.6867677941752779, 0.6656917783377907, 0.6638773866261237, 0.6698958317632485, 0.6433098049830391, 0.6530973224988752, 0.6833936864067646, 0.6801755029540979, 0.6677300847532168, 0.6740021033814144, 0.5, 0.6597637569186929, 0.67098582337106, 0.6540852553676741, 0.654194328494754, 0.5, 0.674340079945109, 0.6898458481949576, 0.6901461181276951]}, {\"categories\": [\"0\", \"1\", \"2\", \"3\", \"4\", \"5\", \"6\", \"7\", \"8\", \"9\", \"10\", \"11\", \"12\", \"13\", \"14\", \"15\", \"16\", \"17\", \"18\", \"19\", \"20\", \"21\", \"22\", \"23\", \"24\", \"25\", \"26\", \"27\", \"28\", \"29\", \"30\", \"31\", \"32\", \"33\", \"34\", \"35\", \"36\", \"40\", \"41\"], \"mode\": \"lines\", \"name\": \"AUC_macro_max\", \"stepped\": true, \"type\": \"scatter\", \"data\": [0.6889697967925786, 0.6891592429811975, 0.6891592429811975, 0.6891592429811975, 0.6891592429811975, 0.6891592429811975, 0.6891592429811975, 0.6891592429811975, 0.6891592429811975, 0.6891592429811975, 0.6891592429811975, 0.6891592429811975, 0.6891592429811975, 0.6891592429811975, 0.6891592429811975, 0.6891592429811975, 0.6891592429811975, 0.6891592429811975, 0.689839678031775, 0.689839678031775, 0.689839678031775, 0.689839678031775, 0.689839678031775, 0.689839678031775, 0.689839678031775, 0.689839678031775, 0.689839678031775, 0.689839678031775, 0.689839678031775, 0.689839678031775, 0.689839678031775, 0.689839678031775, 0.689839678031775, 0.689839678031775, 0.689839678031775, 0.689839678031775, 0.689839678031775, 0.6898458481949576, 0.6901461181276951]}], \"f1_score_micro\": [{\"categories\": [\"0\", \"1\", \"2\", \"3\", \"4\", \"5\", \"6\", \"7\", \"8\", \"9\", \"10\", \"11\", \"12\", \"13\", \"14\", \"15\", \"16\", \"17\", \"18\", \"19\", \"20\", \"21\", \"22\", \"23\", \"24\", \"25\", \"26\", \"27\", \"28\", \"29\", \"30\", \"31\", \"32\", \"33\", \"34\", \"35\", \"36\", \"40\", \"41\"], \"mode\": \"markers\", \"name\": \"f1_score_micro\", \"stepped\": false, \"type\": \"scatter\", \"data\": [0.644004741063746, 0.6438908776202144, 0.6392338886429509, 0.6275859768302888, 0.6402700880472618, 0.6328804827300261, 0.6436062251692847, 0.6421829907872321, 0.6312637788258953, 0.6369226502080932, 0.6420577456015667, 0.6338597662934689, 0.6315825901154246, 0.6334385044161372, 0.6333701731267404, 0.6334385063607371, 0.6334271200812039, 0.6334385057125371, 0.6457468107187244, 0.6313548593391621, 0.6420577313411687, 0.6316280872667643, 0.6312865500885618, 0.6320835553012883, 0.610848309262916, 0.6284742096976604, 0.6417161332321752, 0.6377993600257517, 0.6321177296966856, 0.6317077918716963, 0.49622559093873575, 0.6311954579076968, 0.637605806885886, 0.6312523601363671, 0.6284742096976604, 0.4984116321547211, 0.6332221715870062, 0.6459859174033216, 0.6448928566069347]}, {\"categories\": [\"0\", \"1\", \"2\", \"3\", \"4\", \"5\", \"6\", \"7\", \"8\", \"9\", \"10\", \"11\", \"12\", \"13\", \"14\", \"15\", \"16\", \"17\", \"18\", \"19\", \"20\", \"21\", \"22\", \"23\", \"24\", \"25\", \"26\", \"27\", \"28\", \"29\", \"30\", \"31\", \"32\", \"33\", \"34\", \"35\", \"36\", \"40\", \"41\"], \"mode\": \"lines\", \"name\": \"f1_score_micro_max\", \"stepped\": true, \"type\": \"scatter\", \"data\": [0.644004741063746, 0.644004741063746, 0.644004741063746, 0.644004741063746, 0.644004741063746, 0.644004741063746, 0.644004741063746, 0.644004741063746, 0.644004741063746, 0.644004741063746, 0.644004741063746, 0.644004741063746, 0.644004741063746, 0.644004741063746, 0.644004741063746, 0.644004741063746, 0.644004741063746, 0.644004741063746, 0.6457468107187244, 0.6457468107187244, 0.6457468107187244, 0.6457468107187244, 0.6457468107187244, 0.6457468107187244, 0.6457468107187244, 0.6457468107187244, 0.6457468107187244, 0.6457468107187244, 0.6457468107187244, 0.6457468107187244, 0.6457468107187244, 0.6457468107187244, 0.6457468107187244, 0.6457468107187244, 0.6457468107187244, 0.6457468107187244, 0.6457468107187244, 0.6459859174033216, 0.6459859174033216]}], \"precision_score_macro\": [{\"categories\": [\"0\", \"1\", \"2\", \"3\", \"4\", \"5\", \"6\", \"7\", \"8\", \"9\", \"10\", \"11\", \"12\", \"13\", \"14\", \"15\", \"16\", \"17\", \"18\", \"19\", \"20\", \"21\", \"22\", \"23\", \"24\", \"25\", \"26\", \"27\", \"28\", \"29\", \"30\", \"31\", \"32\", \"33\", \"34\", \"35\", \"36\", \"40\", \"41\"], \"mode\": \"markers\", \"name\": \"precision_score_macro\", \"stepped\": false, \"type\": \"scatter\", \"data\": [0.6524128772372751, 0.6547195024988, 0.6494040938502454, 0.6358435653096496, 0.6507454953777911, 0.6413638938773762, 0.6524764459498553, 0.6516584002403824, 0.6407498460277556, 0.6658765838728347, 0.6534186537992724, 0.6399336564233918, 0.641256788399154, 0.6405013823127617, 0.6411301093699387, 0.6404923072070416, 0.6404843169423444, 0.6404978927189701, 0.6552451963598195, 0.6485983606078167, 0.6525016363146652, 0.6413151176244186, 0.6403428341653019, 0.642389760397273, 0.6142562554370994, 0.6492493435681206, 0.6501906462350159, 0.6452047070176959, 0.6369008124610438, 0.6371540295118646, 0.24811279546936787, 0.6478735228492439, 0.6653844985276263, 0.6417338018176556, 0.6492493435681206, 0.24920581607736056, 0.6403998869560761, 0.6560988374132936, 0.6537463610506267]}, {\"categories\": [\"0\", \"1\", \"2\", \"3\", \"4\", \"5\", \"6\", \"7\", \"8\", \"9\", \"10\", \"11\", \"12\", \"13\", \"14\", \"15\", \"16\", \"17\", \"18\", \"19\", \"20\", \"21\", \"22\", \"23\", \"24\", \"25\", \"26\", \"27\", \"28\", \"29\", \"30\", \"31\", \"32\", \"33\", \"34\", \"35\", \"36\", \"40\", \"41\"], \"mode\": \"lines\", \"name\": \"precision_score_macro_max\", \"stepped\": true, \"type\": \"scatter\", \"data\": [0.6524128772372751, 0.6547195024988, 0.6547195024988, 0.6547195024988, 0.6547195024988, 0.6547195024988, 0.6547195024988, 0.6547195024988, 0.6547195024988, 0.6658765838728347, 0.6658765838728347, 0.6658765838728347, 0.6658765838728347, 0.6658765838728347, 0.6658765838728347, 0.6658765838728347, 0.6658765838728347, 0.6658765838728347, 0.6658765838728347, 0.6658765838728347, 0.6658765838728347, 0.6658765838728347, 0.6658765838728347, 0.6658765838728347, 0.6658765838728347, 0.6658765838728347, 0.6658765838728347, 0.6658765838728347, 0.6658765838728347, 0.6658765838728347, 0.6658765838728347, 0.6658765838728347, 0.6658765838728347, 0.6658765838728347, 0.6658765838728347, 0.6658765838728347, 0.6658765838728347, 0.6658765838728347, 0.6658765838728347]}], \"f1_score_macro\": [{\"categories\": [\"0\", \"1\", \"2\", \"3\", \"4\", \"5\", \"6\", \"7\", \"8\", \"9\", \"10\", \"11\", \"12\", \"13\", \"14\", \"15\", \"16\", \"17\", \"18\", \"19\", \"20\", \"21\", \"22\", \"23\", \"24\", \"25\", \"26\", \"27\", \"28\", \"29\", \"30\", \"31\", \"32\", \"33\", \"34\", \"35\", \"36\", \"40\", \"41\"], \"mode\": \"markers\", \"name\": \"f1_score_macro\", \"stepped\": false, \"type\": \"scatter\", \"data\": [0.6393179422299204, 0.6378771916002527, 0.6334694845690049, 0.622363178330297, 0.6343589152865393, 0.6280280088184671, 0.6386381652047706, 0.6368296277693577, 0.6253278261330413, 0.6208525011134547, 0.6356080512201578, 0.630143252192158, 0.6255162298390967, 0.6290608139199173, 0.6285966315972599, 0.6290664137318006, 0.6290520534386304, 0.6290626663775748, 0.6405459365503072, 0.6207748212846408, 0.6361572252098193, 0.6256190879940011, 0.6255817710625825, 0.6256719838342194, 0.6087877939671567, 0.615555169570827, 0.6369178172432417, 0.6333897961324944, 0.629194712456737, 0.628400461186405, 0.3316487229846468, 0.620930742470026, 0.6222069005501693, 0.6247936504046012, 0.615555169570827, 0.3326203097556285, 0.628768907682072, 0.6404632389588126, 0.6399845918191776]}, {\"categories\": [\"0\", \"1\", \"2\", \"3\", \"4\", \"5\", \"6\", \"7\", \"8\", \"9\", \"10\", \"11\", \"12\", \"13\", \"14\", \"15\", \"16\", \"17\", \"18\", \"19\", \"20\", \"21\", \"22\", \"23\", \"24\", \"25\", \"26\", \"27\", \"28\", \"29\", \"30\", \"31\", \"32\", \"33\", \"34\", \"35\", \"36\", \"40\", \"41\"], \"mode\": \"lines\", \"name\": \"f1_score_macro_max\", \"stepped\": true, \"type\": \"scatter\", \"data\": [0.6393179422299204, 0.6393179422299204, 0.6393179422299204, 0.6393179422299204, 0.6393179422299204, 0.6393179422299204, 0.6393179422299204, 0.6393179422299204, 0.6393179422299204, 0.6393179422299204, 0.6393179422299204, 0.6393179422299204, 0.6393179422299204, 0.6393179422299204, 0.6393179422299204, 0.6393179422299204, 0.6393179422299204, 0.6393179422299204, 0.6405459365503072, 0.6405459365503072, 0.6405459365503072, 0.6405459365503072, 0.6405459365503072, 0.6405459365503072, 0.6405459365503072, 0.6405459365503072, 0.6405459365503072, 0.6405459365503072, 0.6405459365503072, 0.6405459365503072, 0.6405459365503072, 0.6405459365503072, 0.6405459365503072, 0.6405459365503072, 0.6405459365503072, 0.6405459365503072, 0.6405459365503072, 0.6405459365503072, 0.6405459365503072]}], \"accuracy\": [{\"categories\": [\"0\", \"1\", \"2\", \"3\", \"4\", \"5\", \"6\", \"7\", \"8\", \"9\", \"10\", \"11\", \"12\", \"13\", \"14\", \"15\", \"16\", \"17\", \"18\", \"19\", \"20\", \"21\", \"22\", \"23\", \"24\", \"25\", \"26\", \"27\", \"28\", \"29\", \"30\", \"31\", \"32\", \"33\", \"34\", \"35\", \"36\", \"40\", \"41\"], \"mode\": \"markers\", \"name\": \"accuracy\", \"stepped\": false, \"type\": \"scatter\", \"data\": [0.644004741063746, 0.6438908776202144, 0.6392338886429509, 0.6275859768302888, 0.6402700880472618, 0.6328804827300261, 0.6436062251692847, 0.6421829907872321, 0.6312637788258953, 0.6369226502080932, 0.6420577456015667, 0.6338597662934689, 0.6315825901154246, 0.6334385044161372, 0.6333701731267404, 0.6334385063607371, 0.6334271200812039, 0.6334385057125371, 0.6457468107187244, 0.6313548593391621, 0.6420577313411687, 0.6316280872667643, 0.6312865500885618, 0.6320835553012883, 0.610848309262916, 0.6284742096976604, 0.6417161332321752, 0.6377993600257517, 0.6321177296966856, 0.6317077918716963, 0.49622559093873575, 0.6311954579076968, 0.637605806885886, 0.6312523601363671, 0.6284742096976604, 0.4984116321547211, 0.6332221715870062, 0.6459859174033216, 0.6448928566069347]}, {\"categories\": [\"0\", \"1\", \"2\", \"3\", \"4\", \"5\", \"6\", \"7\", \"8\", \"9\", \"10\", \"11\", \"12\", \"13\", \"14\", \"15\", \"16\", \"17\", \"18\", \"19\", \"20\", \"21\", \"22\", \"23\", \"24\", \"25\", \"26\", \"27\", \"28\", \"29\", \"30\", \"31\", \"32\", \"33\", \"34\", \"35\", \"36\", \"40\", \"41\"], \"mode\": \"lines\", \"name\": \"accuracy_max\", \"stepped\": true, \"type\": \"scatter\", \"data\": [0.644004741063746, 0.644004741063746, 0.644004741063746, 0.644004741063746, 0.644004741063746, 0.644004741063746, 0.644004741063746, 0.644004741063746, 0.644004741063746, 0.644004741063746, 0.644004741063746, 0.644004741063746, 0.644004741063746, 0.644004741063746, 0.644004741063746, 0.644004741063746, 0.644004741063746, 0.644004741063746, 0.6457468107187244, 0.6457468107187244, 0.6457468107187244, 0.6457468107187244, 0.6457468107187244, 0.6457468107187244, 0.6457468107187244, 0.6457468107187244, 0.6457468107187244, 0.6457468107187244, 0.6457468107187244, 0.6457468107187244, 0.6457468107187244, 0.6457468107187244, 0.6457468107187244, 0.6457468107187244, 0.6457468107187244, 0.6457468107187244, 0.6457468107187244, 0.6459859174033216, 0.6459859174033216]}], \"recall_score_weighted\": [{\"categories\": [\"0\", \"1\", \"2\", \"3\", \"4\", \"5\", \"6\", \"7\", \"8\", \"9\", \"10\", \"11\", \"12\", \"13\", \"14\", \"15\", \"16\", \"17\", \"18\", \"19\", \"20\", \"21\", \"22\", \"23\", \"24\", \"25\", \"26\", \"27\", \"28\", \"29\", \"30\", \"31\", \"32\", \"33\", \"34\", \"35\", \"36\", \"40\", \"41\"], \"mode\": \"markers\", \"name\": \"recall_score_weighted\", \"stepped\": false, \"type\": \"scatter\", \"data\": [0.644004741063746, 0.6438908776202144, 0.6392338886429509, 0.6275859768302888, 0.6402700880472618, 0.6328804827300261, 0.6436062251692847, 0.6421829907872321, 0.6312637788258953, 0.6369226502080932, 0.6420577456015667, 0.6338597662934689, 0.6315825901154246, 0.6334385044161372, 0.6333701731267404, 0.6334385063607371, 0.6334271200812039, 0.6334385057125371, 0.6457468107187244, 0.6313548593391621, 0.6420577313411687, 0.6316280872667643, 0.6312865500885618, 0.6320835553012883, 0.610848309262916, 0.6284742096976604, 0.6417161332321752, 0.6377993600257517, 0.6321177296966856, 0.6317077918716963, 0.49622559093873575, 0.6311954579076968, 0.637605806885886, 0.6312523601363671, 0.6284742096976604, 0.4984116321547211, 0.6332221715870062, 0.6459859174033216, 0.6448928566069347]}, {\"categories\": [\"0\", \"1\", \"2\", \"3\", \"4\", \"5\", \"6\", \"7\", \"8\", \"9\", \"10\", \"11\", \"12\", \"13\", \"14\", \"15\", \"16\", \"17\", \"18\", \"19\", \"20\", \"21\", \"22\", \"23\", \"24\", \"25\", \"26\", \"27\", \"28\", \"29\", \"30\", \"31\", \"32\", \"33\", \"34\", \"35\", \"36\", \"40\", \"41\"], \"mode\": \"lines\", \"name\": \"recall_score_weighted_max\", \"stepped\": true, \"type\": \"scatter\", \"data\": [0.644004741063746, 0.644004741063746, 0.644004741063746, 0.644004741063746, 0.644004741063746, 0.644004741063746, 0.644004741063746, 0.644004741063746, 0.644004741063746, 0.644004741063746, 0.644004741063746, 0.644004741063746, 0.644004741063746, 0.644004741063746, 0.644004741063746, 0.644004741063746, 0.644004741063746, 0.644004741063746, 0.6457468107187244, 0.6457468107187244, 0.6457468107187244, 0.6457468107187244, 0.6457468107187244, 0.6457468107187244, 0.6457468107187244, 0.6457468107187244, 0.6457468107187244, 0.6457468107187244, 0.6457468107187244, 0.6457468107187244, 0.6457468107187244, 0.6457468107187244, 0.6457468107187244, 0.6457468107187244, 0.6457468107187244, 0.6457468107187244, 0.6457468107187244, 0.6459859174033216, 0.6459859174033216]}], \"balanced_accuracy\": [{\"categories\": [\"0\", \"1\", \"2\", \"3\", \"4\", \"5\", \"6\", \"7\", \"8\", \"9\", \"10\", \"11\", \"12\", \"13\", \"14\", \"15\", \"16\", \"17\", \"18\", \"19\", \"20\", \"21\", \"22\", \"23\", \"24\", \"25\", \"26\", \"27\", \"28\", \"29\", \"30\", \"31\", \"32\", \"33\", \"34\", \"35\", \"36\", \"40\", \"41\"], \"mode\": \"markers\", \"name\": \"balanced_accuracy\", \"stepped\": false, \"type\": \"scatter\", \"data\": [0.6443323763911059, 0.6442626455705229, 0.6396841790124287, 0.6280043947210159, 0.6406837331938611, 0.633496542691497, 0.6439345599979281, 0.6425467279486695, 0.6316379448004164, 0.6374382987592881, 0.64238049002813, 0.6341702003760086, 0.6319215558765624, 0.633736986653914, 0.6337136474385812, 0.6337367650982887, 0.6337250294968382, 0.633736540950735, 0.6460893353672764, 0.6317919221448494, 0.6424280986934856, 0.63202558715224, 0.6316276006496919, 0.63245226774977, 0.6112637074853231, 0.6289392954429538, 0.6420797016281005, 0.638086415641964, 0.6324268924069201, 0.6320855117085307, 0.5, 0.6316397212050082, 0.6381124470768873, 0.631690425699799, 0.6289392954429538, 0.5, 0.6335283651834126, 0.6463376282851019, 0.6452148053052869]}, {\"categories\": [\"0\", \"1\", \"2\", \"3\", \"4\", \"5\", \"6\", \"7\", \"8\", \"9\", \"10\", \"11\", \"12\", \"13\", \"14\", \"15\", \"16\", \"17\", \"18\", \"19\", \"20\", \"21\", \"22\", \"23\", \"24\", \"25\", \"26\", \"27\", \"28\", \"29\", \"30\", \"31\", \"32\", \"33\", \"34\", \"35\", \"36\", \"40\", \"41\"], \"mode\": \"lines\", \"name\": \"balanced_accuracy_max\", \"stepped\": true, \"type\": \"scatter\", \"data\": [0.6443323763911059, 0.6443323763911059, 0.6443323763911059, 0.6443323763911059, 0.6443323763911059, 0.6443323763911059, 0.6443323763911059, 0.6443323763911059, 0.6443323763911059, 0.6443323763911059, 0.6443323763911059, 0.6443323763911059, 0.6443323763911059, 0.6443323763911059, 0.6443323763911059, 0.6443323763911059, 0.6443323763911059, 0.6443323763911059, 0.6460893353672764, 0.6460893353672764, 0.6460893353672764, 0.6460893353672764, 0.6460893353672764, 0.6460893353672764, 0.6460893353672764, 0.6460893353672764, 0.6460893353672764, 0.6460893353672764, 0.6460893353672764, 0.6460893353672764, 0.6460893353672764, 0.6460893353672764, 0.6460893353672764, 0.6460893353672764, 0.6460893353672764, 0.6460893353672764, 0.6460893353672764, 0.6463376282851019, 0.6463376282851019]}], \"weighted_accuracy\": [{\"categories\": [\"0\", \"1\", \"2\", \"3\", \"4\", \"5\", \"6\", \"7\", \"8\", \"9\", \"10\", \"11\", \"12\", \"13\", \"14\", \"15\", \"16\", \"17\", \"18\", \"19\", \"20\", \"21\", \"22\", \"23\", \"24\", \"25\", \"26\", \"27\", \"28\", \"29\", \"30\", \"31\", \"32\", \"33\", \"34\", \"35\", \"36\", \"40\", \"41\"], \"mode\": \"markers\", \"name\": \"weighted_accuracy\", \"stepped\": false, \"type\": \"scatter\", \"data\": [0.6436772464562383, 0.6435192701589305, 0.6387837811768476, 0.6271677405805537, 0.6398566180470321, 0.6322646282360906, 0.6432780306497837, 0.6418194101109032, 0.6308897786020775, 0.636407239704246, 0.6417351522781418, 0.6335494615244865, 0.6312437804345056, 0.6331401534262184, 0.6330268462899556, 0.6331403787933709, 0.6331293417632079, 0.6331406016020379, 0.6454044368936099, 0.6309179945243046, 0.641687522668847, 0.6312307473458962, 0.6309456520794329, 0.6317150045844586, 0.6104330665777321, 0.6280093372930603, 0.6413527043018631, 0.6375124321211387, 0.6318086832580466, 0.6313302139860639, 0.4924522567269188, 0.6307513904064803, 0.6370994005831029, 0.6308144693822303, 0.6280093372930603, 0.4968238168911981, 0.6329161115130285, 0.6456343591223622, 0.6445710472943511]}, {\"categories\": [\"0\", \"1\", \"2\", \"3\", \"4\", \"5\", \"6\", \"7\", \"8\", \"9\", \"10\", \"11\", \"12\", \"13\", \"14\", \"15\", \"16\", \"17\", \"18\", \"19\", \"20\", \"21\", \"22\", \"23\", \"24\", \"25\", \"26\", \"27\", \"28\", \"29\", \"30\", \"31\", \"32\", \"33\", \"34\", \"35\", \"36\", \"40\", \"41\"], \"mode\": \"lines\", \"name\": \"weighted_accuracy_max\", \"stepped\": true, \"type\": \"scatter\", \"data\": [0.6436772464562383, 0.6436772464562383, 0.6436772464562383, 0.6436772464562383, 0.6436772464562383, 0.6436772464562383, 0.6436772464562383, 0.6436772464562383, 0.6436772464562383, 0.6436772464562383, 0.6436772464562383, 0.6436772464562383, 0.6436772464562383, 0.6436772464562383, 0.6436772464562383, 0.6436772464562383, 0.6436772464562383, 0.6436772464562383, 0.6454044368936099, 0.6454044368936099, 0.6454044368936099, 0.6454044368936099, 0.6454044368936099, 0.6454044368936099, 0.6454044368936099, 0.6454044368936099, 0.6454044368936099, 0.6454044368936099, 0.6454044368936099, 0.6454044368936099, 0.6454044368936099, 0.6454044368936099, 0.6454044368936099, 0.6454044368936099, 0.6454044368936099, 0.6454044368936099, 0.6454044368936099, 0.6456343591223622, 0.6456343591223622]}], \"recall_score_micro\": [{\"categories\": [\"0\", \"1\", \"2\", \"3\", \"4\", \"5\", \"6\", \"7\", \"8\", \"9\", \"10\", \"11\", \"12\", \"13\", \"14\", \"15\", \"16\", \"17\", \"18\", \"19\", \"20\", \"21\", \"22\", \"23\", \"24\", \"25\", \"26\", \"27\", \"28\", \"29\", \"30\", \"31\", \"32\", \"33\", \"34\", \"35\", \"36\", \"40\", \"41\"], \"mode\": \"markers\", \"name\": \"recall_score_micro\", \"stepped\": false, \"type\": \"scatter\", \"data\": [0.644004741063746, 0.6438908776202144, 0.6392338886429509, 0.6275859768302888, 0.6402700880472618, 0.6328804827300261, 0.6436062251692847, 0.6421829907872321, 0.6312637788258953, 0.6369226502080932, 0.6420577456015667, 0.6338597662934689, 0.6315825901154246, 0.6334385044161372, 0.6333701731267404, 0.6334385063607371, 0.6334271200812039, 0.6334385057125371, 0.6457468107187244, 0.6313548593391621, 0.6420577313411687, 0.6316280872667643, 0.6312865500885618, 0.6320835553012883, 0.610848309262916, 0.6284742096976604, 0.6417161332321752, 0.6377993600257517, 0.6321177296966856, 0.6317077918716963, 0.49622559093873575, 0.6311954579076968, 0.637605806885886, 0.6312523601363671, 0.6284742096976604, 0.4984116321547211, 0.6332221715870062, 0.6459859174033216, 0.6448928566069347]}, {\"categories\": [\"0\", \"1\", \"2\", \"3\", \"4\", \"5\", \"6\", \"7\", \"8\", \"9\", \"10\", \"11\", \"12\", \"13\", \"14\", \"15\", \"16\", \"17\", \"18\", \"19\", \"20\", \"21\", \"22\", \"23\", \"24\", \"25\", \"26\", \"27\", \"28\", \"29\", \"30\", \"31\", \"32\", \"33\", \"34\", \"35\", \"36\", \"40\", \"41\"], \"mode\": \"lines\", \"name\": \"recall_score_micro_max\", \"stepped\": true, \"type\": \"scatter\", \"data\": [0.644004741063746, 0.644004741063746, 0.644004741063746, 0.644004741063746, 0.644004741063746, 0.644004741063746, 0.644004741063746, 0.644004741063746, 0.644004741063746, 0.644004741063746, 0.644004741063746, 0.644004741063746, 0.644004741063746, 0.644004741063746, 0.644004741063746, 0.644004741063746, 0.644004741063746, 0.644004741063746, 0.6457468107187244, 0.6457468107187244, 0.6457468107187244, 0.6457468107187244, 0.6457468107187244, 0.6457468107187244, 0.6457468107187244, 0.6457468107187244, 0.6457468107187244, 0.6457468107187244, 0.6457468107187244, 0.6457468107187244, 0.6457468107187244, 0.6457468107187244, 0.6457468107187244, 0.6457468107187244, 0.6457468107187244, 0.6457468107187244, 0.6457468107187244, 0.6459859174033216, 0.6459859174033216]}], \"precision_score_micro\": [{\"categories\": [\"0\", \"1\", \"2\", \"3\", \"4\", \"5\", \"6\", \"7\", \"8\", \"9\", \"10\", \"11\", \"12\", \"13\", \"14\", \"15\", \"16\", \"17\", \"18\", \"19\", \"20\", \"21\", \"22\", \"23\", \"24\", \"25\", \"26\", \"27\", \"28\", \"29\", \"30\", \"31\", \"32\", \"33\", \"34\", \"35\", \"36\", \"40\", \"41\"], \"mode\": \"markers\", \"name\": \"precision_score_micro\", \"stepped\": false, \"type\": \"scatter\", \"data\": [0.644004741063746, 0.6438908776202144, 0.6392338886429509, 0.6275859768302888, 0.6402700880472618, 0.6328804827300261, 0.6436062251692847, 0.6421829907872321, 0.6312637788258953, 0.6369226502080932, 0.6420577456015667, 0.6338597662934689, 0.6315825901154246, 0.6334385044161372, 0.6333701731267404, 0.6334385063607371, 0.6334271200812039, 0.6334385057125371, 0.6457468107187244, 0.6313548593391621, 0.6420577313411687, 0.6316280872667643, 0.6312865500885618, 0.6320835553012883, 0.610848309262916, 0.6284742096976604, 0.6417161332321752, 0.6377993600257517, 0.6321177296966856, 0.6317077918716963, 0.49622559093873575, 0.6311954579076968, 0.637605806885886, 0.6312523601363671, 0.6284742096976604, 0.4984116321547211, 0.6332221715870062, 0.6459859174033216, 0.6448928566069347]}, {\"categories\": [\"0\", \"1\", \"2\", \"3\", \"4\", \"5\", \"6\", \"7\", \"8\", \"9\", \"10\", \"11\", \"12\", \"13\", \"14\", \"15\", \"16\", \"17\", \"18\", \"19\", \"20\", \"21\", \"22\", \"23\", \"24\", \"25\", \"26\", \"27\", \"28\", \"29\", \"30\", \"31\", \"32\", \"33\", \"34\", \"35\", \"36\", \"40\", \"41\"], \"mode\": \"lines\", \"name\": \"precision_score_micro_max\", \"stepped\": true, \"type\": \"scatter\", \"data\": [0.644004741063746, 0.644004741063746, 0.644004741063746, 0.644004741063746, 0.644004741063746, 0.644004741063746, 0.644004741063746, 0.644004741063746, 0.644004741063746, 0.644004741063746, 0.644004741063746, 0.644004741063746, 0.644004741063746, 0.644004741063746, 0.644004741063746, 0.644004741063746, 0.644004741063746, 0.644004741063746, 0.6457468107187244, 0.6457468107187244, 0.6457468107187244, 0.6457468107187244, 0.6457468107187244, 0.6457468107187244, 0.6457468107187244, 0.6457468107187244, 0.6457468107187244, 0.6457468107187244, 0.6457468107187244, 0.6457468107187244, 0.6457468107187244, 0.6457468107187244, 0.6457468107187244, 0.6457468107187244, 0.6457468107187244, 0.6457468107187244, 0.6457468107187244, 0.6459859174033216, 0.6459859174033216]}], \"log_loss\": [{\"categories\": [\"0\", \"1\", \"2\", \"3\", \"4\", \"5\", \"6\", \"7\", \"8\", \"9\", \"10\", \"11\", \"12\", \"13\", \"14\", \"15\", \"16\", \"17\", \"18\", \"19\", \"20\", \"21\", \"22\", \"23\", \"24\", \"25\", \"26\", \"27\", \"28\", \"29\", \"30\", \"31\", \"32\", \"33\", \"34\", \"35\", \"36\", \"40\", \"41\"], \"mode\": \"markers\", \"name\": \"log_loss\", \"stepped\": false, \"type\": \"scatter\", \"data\": [0.6327743898612662, 0.6325545273785286, 0.6445019854622649, 0.6627984337969247, 0.648638317182449, 0.6553206805683371, 0.6330114756887182, 0.6345873143529122, 0.6454386518460458, 0.6491320926735274, 0.6427910870528868, 0.6536997551123842, 0.6471851823063375, 0.6417915007205116, 0.656476806911136, 0.641794352114648, 0.6417939525164007, 0.6417930190562168, 0.6321645167016674, 0.6527248740489882, 0.6343603416982987, 0.6624766179083892, 0.6481912371443438, 0.6468127040053138, 0.6793041633088018, 0.6619092568369066, 0.6511869777730068, 0.6402446260443331, 0.6669858645094331, 0.6738895086531381, 0.6931606879118709, 0.6577864524496169, 0.6491293820049432, 0.6699222528118891, 0.6527353514233896, 0.6931675181805053, 0.6417564645570313, 0.636956005701102, 0.6408321178759628]}, {\"categories\": [\"0\", \"1\", \"2\", \"3\", \"4\", \"5\", \"6\", \"7\", \"8\", \"9\", \"10\", \"11\", \"12\", \"13\", \"14\", \"15\", \"16\", \"17\", \"18\", \"19\", \"20\", \"21\", \"22\", \"23\", \"24\", \"25\", \"26\", \"27\", \"28\", \"29\", \"30\", \"31\", \"32\", \"33\", \"34\", \"35\", \"36\", \"40\", \"41\"], \"mode\": \"lines\", \"name\": \"log_loss_min\", \"stepped\": true, \"type\": \"scatter\", \"data\": [0.6327743898612662, 0.6325545273785286, 0.6325545273785286, 0.6325545273785286, 0.6325545273785286, 0.6325545273785286, 0.6325545273785286, 0.6325545273785286, 0.6325545273785286, 0.6325545273785286, 0.6325545273785286, 0.6325545273785286, 0.6325545273785286, 0.6325545273785286, 0.6325545273785286, 0.6325545273785286, 0.6325545273785286, 0.6325545273785286, 0.6321645167016674, 0.6321645167016674, 0.6321645167016674, 0.6321645167016674, 0.6321645167016674, 0.6321645167016674, 0.6321645167016674, 0.6321645167016674, 0.6321645167016674, 0.6321645167016674, 0.6321645167016674, 0.6321645167016674, 0.6321645167016674, 0.6321645167016674, 0.6321645167016674, 0.6321645167016674, 0.6321645167016674, 0.6321645167016674, 0.6321645167016674, 0.6321645167016674, 0.6321645167016674]}], \"norm_macro_recall\": [{\"categories\": [\"0\", \"1\", \"2\", \"3\", \"4\", \"5\", \"6\", \"7\", \"8\", \"9\", \"10\", \"11\", \"12\", \"13\", \"14\", \"15\", \"16\", \"17\", \"18\", \"19\", \"20\", \"21\", \"22\", \"23\", \"24\", \"25\", \"26\", \"27\", \"28\", \"29\", \"30\", \"31\", \"32\", \"33\", \"34\", \"35\", \"36\", \"40\", \"41\"], \"mode\": \"markers\", \"name\": \"norm_macro_recall\", \"stepped\": false, \"type\": \"scatter\", \"data\": [0.28866475278221165, 0.28852529114104597, 0.2793683580248575, 0.25600878944203176, 0.28136746638772214, 0.26699308538299404, 0.28786911999585657, 0.2850934558973391, 0.26327588960083265, 0.2748765975185762, 0.28476098005626005, 0.2683404007520173, 0.26384311175312475, 0.2674739733078279, 0.26742729487716227, 0.2674735301965774, 0.26745005899367646, 0.2674730819014698, 0.29217867073455284, 0.26358384428969883, 0.28485619738697115, 0.2640511743044799, 0.2632552012993838, 0.2649045354995402, 0.22252741497064607, 0.2578785908859075, 0.28415940325620087, 0.2761728312839281, 0.2648537848138401, 0.2641710234170614, 0.0, 0.2632794424100163, 0.2762248941537745, 0.26338085139959805, 0.2578785908859075, 0.0, 0.26705673036682515, 0.29267525657020377, 0.2904296106105738]}, {\"categories\": [\"0\", \"1\", \"2\", \"3\", \"4\", \"5\", \"6\", \"7\", \"8\", \"9\", \"10\", \"11\", \"12\", \"13\", \"14\", \"15\", \"16\", \"17\", \"18\", \"19\", \"20\", \"21\", \"22\", \"23\", \"24\", \"25\", \"26\", \"27\", \"28\", \"29\", \"30\", \"31\", \"32\", \"33\", \"34\", \"35\", \"36\", \"40\", \"41\"], \"mode\": \"lines\", \"name\": \"norm_macro_recall_max\", \"stepped\": true, \"type\": \"scatter\", \"data\": [0.28866475278221165, 0.28866475278221165, 0.28866475278221165, 0.28866475278221165, 0.28866475278221165, 0.28866475278221165, 0.28866475278221165, 0.28866475278221165, 0.28866475278221165, 0.28866475278221165, 0.28866475278221165, 0.28866475278221165, 0.28866475278221165, 0.28866475278221165, 0.28866475278221165, 0.28866475278221165, 0.28866475278221165, 0.28866475278221165, 0.29217867073455284, 0.29217867073455284, 0.29217867073455284, 0.29217867073455284, 0.29217867073455284, 0.29217867073455284, 0.29217867073455284, 0.29217867073455284, 0.29217867073455284, 0.29217867073455284, 0.29217867073455284, 0.29217867073455284, 0.29217867073455284, 0.29217867073455284, 0.29217867073455284, 0.29217867073455284, 0.29217867073455284, 0.29217867073455284, 0.29217867073455284, 0.29267525657020377, 0.29267525657020377]}], \"average_precision_score_micro\": [{\"categories\": [\"0\", \"1\", \"2\", \"3\", \"4\", \"5\", \"6\", \"7\", \"8\", \"9\", \"10\", \"11\", \"12\", \"13\", \"14\", \"15\", \"16\", \"17\", \"18\", \"19\", \"20\", \"21\", \"22\", \"23\", \"24\", \"25\", \"26\", \"27\", \"28\", \"29\", \"30\", \"31\", \"32\", \"33\", \"34\", \"35\", \"36\", \"40\", \"41\"], \"mode\": \"markers\", \"name\": \"average_precision_score_micro\", \"stepped\": false, \"type\": \"scatter\", \"data\": [0.6812683683867891, 0.6820394593708698, 0.6673063371840247, 0.6531484848925497, 0.6713300702367239, 0.6605015808410067, 0.6810784458547117, 0.6785780693331096, 0.6509457996007382, 0.6607040434325736, 0.672973069282297, 0.6696844235160413, 0.6499373176054489, 0.6670079361080181, 0.6668721832591938, 0.666999081766211, 0.6669993057390605, 0.6669993726832569, 0.6825337633000661, 0.6560423180610677, 0.679027727723254, 0.6573633388590662, 0.6526131520552734, 0.6609181294144274, 0.6313405158589193, 0.6363878843145099, 0.6739381120331975, 0.673387449093978, 0.6575001984273592, 0.6659543157979304, 0.4981366518480465, 0.6519397215397005, 0.6467744905101471, 0.6436278372263067, 0.6465485055060649, 0.4992296724560393, 0.6671006848068133, 0.6825863157135152, 0.6829356728220233]}, {\"categories\": [\"0\", \"1\", \"2\", \"3\", \"4\", \"5\", \"6\", \"7\", \"8\", \"9\", \"10\", \"11\", \"12\", \"13\", \"14\", \"15\", \"16\", \"17\", \"18\", \"19\", \"20\", \"21\", \"22\", \"23\", \"24\", \"25\", \"26\", \"27\", \"28\", \"29\", \"30\", \"31\", \"32\", \"33\", \"34\", \"35\", \"36\", \"40\", \"41\"], \"mode\": \"lines\", \"name\": \"average_precision_score_micro_max\", \"stepped\": true, \"type\": \"scatter\", \"data\": [0.6812683683867891, 0.6820394593708698, 0.6820394593708698, 0.6820394593708698, 0.6820394593708698, 0.6820394593708698, 0.6820394593708698, 0.6820394593708698, 0.6820394593708698, 0.6820394593708698, 0.6820394593708698, 0.6820394593708698, 0.6820394593708698, 0.6820394593708698, 0.6820394593708698, 0.6820394593708698, 0.6820394593708698, 0.6820394593708698, 0.6825337633000661, 0.6825337633000661, 0.6825337633000661, 0.6825337633000661, 0.6825337633000661, 0.6825337633000661, 0.6825337633000661, 0.6825337633000661, 0.6825337633000661, 0.6825337633000661, 0.6825337633000661, 0.6825337633000661, 0.6825337633000661, 0.6825337633000661, 0.6825337633000661, 0.6825337633000661, 0.6825337633000661, 0.6825337633000661, 0.6825337633000661, 0.6825863157135152, 0.6829356728220233]}], \"AUC_weighted\": [{\"categories\": [\"0\", \"1\", \"2\", \"3\", \"4\", \"5\", \"6\", \"7\", \"8\", \"9\", \"10\", \"11\", \"12\", \"13\", \"14\", \"15\", \"16\", \"17\", \"18\", \"19\", \"20\", \"21\", \"22\", \"23\", \"24\", \"25\", \"26\", \"27\", \"28\", \"29\", \"30\", \"31\", \"32\", \"33\", \"34\", \"35\", \"36\", \"40\", \"41\"], \"mode\": \"markers\", \"name\": \"AUC_weighted\", \"stepped\": false, \"type\": \"scatter\", \"data\": [0.6889697967925786, 0.6891592429888302, 0.6775049775379646, 0.6630715628692786, 0.6791010752696188, 0.6705966873319223, 0.6888546294100817, 0.6863302408331943, 0.6646789330548153, 0.6768581678984029, 0.6824901376331906, 0.677069578125187, 0.6631862302384637, 0.6742911956446653, 0.6736245718508613, 0.6742845080880928, 0.6742842358220044, 0.6742852290028181, 0.6898396780648086, 0.6636781206101838, 0.686767794195098, 0.6656917783377907, 0.6638773866261237, 0.6698958317632485, 0.643309804983039, 0.6530973224988752, 0.6833936864067646, 0.6801755029540979, 0.6677300847532168, 0.6740021033814144, 0.5, 0.6597637569186927, 0.67098582337106, 0.6540852553676741, 0.654194328494754, 0.5, 0.674340079945109, 0.689845848199903, 0.6901461181276952]}, {\"categories\": [\"0\", \"1\", \"2\", \"3\", \"4\", \"5\", \"6\", \"7\", \"8\", \"9\", \"10\", \"11\", \"12\", \"13\", \"14\", \"15\", \"16\", \"17\", \"18\", \"19\", \"20\", \"21\", \"22\", \"23\", \"24\", \"25\", \"26\", \"27\", \"28\", \"29\", \"30\", \"31\", \"32\", \"33\", \"34\", \"35\", \"36\", \"40\", \"41\"], \"mode\": \"lines\", \"name\": \"AUC_weighted_max\", \"stepped\": true, \"type\": \"scatter\", \"data\": [0.6889697967925786, 0.6891592429888302, 0.6891592429888302, 0.6891592429888302, 0.6891592429888302, 0.6891592429888302, 0.6891592429888302, 0.6891592429888302, 0.6891592429888302, 0.6891592429888302, 0.6891592429888302, 0.6891592429888302, 0.6891592429888302, 0.6891592429888302, 0.6891592429888302, 0.6891592429888302, 0.6891592429888302, 0.6891592429888302, 0.6898396780648086, 0.6898396780648086, 0.6898396780648086, 0.6898396780648086, 0.6898396780648086, 0.6898396780648086, 0.6898396780648086, 0.6898396780648086, 0.6898396780648086, 0.6898396780648086, 0.6898396780648086, 0.6898396780648086, 0.6898396780648086, 0.6898396780648086, 0.6898396780648086, 0.6898396780648086, 0.6898396780648086, 0.6898396780648086, 0.6898396780648086, 0.689845848199903, 0.6901461181276952]}], \"f1_score_weighted\": [{\"categories\": [\"0\", \"1\", \"2\", \"3\", \"4\", \"5\", \"6\", \"7\", \"8\", \"9\", \"10\", \"11\", \"12\", \"13\", \"14\", \"15\", \"16\", \"17\", \"18\", \"19\", \"20\", \"21\", \"22\", \"23\", \"24\", \"25\", \"26\", \"27\", \"28\", \"29\", \"30\", \"31\", \"32\", \"33\", \"34\", \"35\", \"36\", \"40\", \"41\"], \"mode\": \"markers\", \"name\": \"f1_score_weighted\", \"stepped\": false, \"type\": \"scatter\", \"data\": [0.6392188058736524, 0.6377612598529939, 0.6333284530743823, 0.6222293664451002, 0.6342284083660317, 0.6278211360401247, 0.6385392287523699, 0.6367159582324698, 0.6252072000922999, 0.6206753272085928, 0.6355086120319235, 0.6300494781511328, 0.625409002537624, 0.6289704480721717, 0.6284894205688482, 0.6289760686366155, 0.6289618528018328, 0.6289724315648039, 0.6404411736342739, 0.6206286779162282, 0.6360415560787956, 0.625491598695747, 0.6254740315536162, 0.6255539515077011, 0.6086517188988381, 0.6153965554004108, 0.6368052774109764, 0.6333045454747808, 0.6291005239982475, 0.6282814980886742, 0.32915373590817787, 0.6207819168935041, 0.6220340515541268, 0.6246493804167846, 0.6153965554004108, 0.33158264479818544, 0.6286754491169225, 0.6403549722166326, 0.6398873285095197]}, {\"categories\": [\"0\", \"1\", \"2\", \"3\", \"4\", \"5\", \"6\", \"7\", \"8\", \"9\", \"10\", \"11\", \"12\", \"13\", \"14\", \"15\", \"16\", \"17\", \"18\", \"19\", \"20\", \"21\", \"22\", \"23\", \"24\", \"25\", \"26\", \"27\", \"28\", \"29\", \"30\", \"31\", \"32\", \"33\", \"34\", \"35\", \"36\", \"40\", \"41\"], \"mode\": \"lines\", \"name\": \"f1_score_weighted_max\", \"stepped\": true, \"type\": \"scatter\", \"data\": [0.6392188058736524, 0.6392188058736524, 0.6392188058736524, 0.6392188058736524, 0.6392188058736524, 0.6392188058736524, 0.6392188058736524, 0.6392188058736524, 0.6392188058736524, 0.6392188058736524, 0.6392188058736524, 0.6392188058736524, 0.6392188058736524, 0.6392188058736524, 0.6392188058736524, 0.6392188058736524, 0.6392188058736524, 0.6392188058736524, 0.6404411736342739, 0.6404411736342739, 0.6404411736342739, 0.6404411736342739, 0.6404411736342739, 0.6404411736342739, 0.6404411736342739, 0.6404411736342739, 0.6404411736342739, 0.6404411736342739, 0.6404411736342739, 0.6404411736342739, 0.6404411736342739, 0.6404411736342739, 0.6404411736342739, 0.6404411736342739, 0.6404411736342739, 0.6404411736342739, 0.6404411736342739, 0.6404411736342739, 0.6404411736342739]}], \"AUC_micro\": [{\"categories\": [\"0\", \"1\", \"2\", \"3\", \"4\", \"5\", \"6\", \"7\", \"8\", \"9\", \"10\", \"11\", \"12\", \"13\", \"14\", \"15\", \"16\", \"17\", \"18\", \"19\", \"20\", \"21\", \"22\", \"23\", \"24\", \"25\", \"26\", \"27\", \"28\", \"29\", \"30\", \"31\", \"32\", \"33\", \"34\", \"35\", \"36\", \"40\", \"41\"], \"mode\": \"markers\", \"name\": \"AUC_micro\", \"stepped\": false, \"type\": \"scatter\", \"data\": [0.6949012053752455, 0.6952229993431184, 0.6845144887849399, 0.6678825833262486, 0.6862774045140098, 0.6768214243713853, 0.6946551138640571, 0.6923043150126034, 0.6745772533901728, 0.6857799907180477, 0.6886340872816105, 0.6835892082219752, 0.6719281786514597, 0.6800360852425076, 0.6811127977959986, 0.6800303058012919, 0.6800306980641213, 0.6800287762137267, 0.6956584357631075, 0.670227678796272, 0.6925334748163182, 0.6722057440930823, 0.6710681228909217, 0.675201185432412, 0.6494701256957642, 0.6662636633009225, 0.6898063742199557, 0.6866248703190595, 0.6711453556495824, 0.6801704815776898, 0.49622559093873575, 0.6683146513193806, 0.6826237195047967, 0.662619928431553, 0.6652960951208232, 0.49841163215472123, 0.6800905355924931, 0.6955804682976401, 0.6957892468991933]}, {\"categories\": [\"0\", \"1\", \"2\", \"3\", \"4\", \"5\", \"6\", \"7\", \"8\", \"9\", \"10\", \"11\", \"12\", \"13\", \"14\", \"15\", \"16\", \"17\", \"18\", \"19\", \"20\", \"21\", \"22\", \"23\", \"24\", \"25\", \"26\", \"27\", \"28\", \"29\", \"30\", \"31\", \"32\", \"33\", \"34\", \"35\", \"36\", \"40\", \"41\"], \"mode\": \"lines\", \"name\": \"AUC_micro_max\", \"stepped\": true, \"type\": \"scatter\", \"data\": [0.6949012053752455, 0.6952229993431184, 0.6952229993431184, 0.6952229993431184, 0.6952229993431184, 0.6952229993431184, 0.6952229993431184, 0.6952229993431184, 0.6952229993431184, 0.6952229993431184, 0.6952229993431184, 0.6952229993431184, 0.6952229993431184, 0.6952229993431184, 0.6952229993431184, 0.6952229993431184, 0.6952229993431184, 0.6952229993431184, 0.6956584357631075, 0.6956584357631075, 0.6956584357631075, 0.6956584357631075, 0.6956584357631075, 0.6956584357631075, 0.6956584357631075, 0.6956584357631075, 0.6956584357631075, 0.6956584357631075, 0.6956584357631075, 0.6956584357631075, 0.6956584357631075, 0.6956584357631075, 0.6956584357631075, 0.6956584357631075, 0.6956584357631075, 0.6956584357631075, 0.6956584357631075, 0.6956584357631075, 0.6957892468991933]}], \"recall_score_macro\": [{\"categories\": [\"0\", \"1\", \"2\", \"3\", \"4\", \"5\", \"6\", \"7\", \"8\", \"9\", \"10\", \"11\", \"12\", \"13\", \"14\", \"15\", \"16\", \"17\", \"18\", \"19\", \"20\", \"21\", \"22\", \"23\", \"24\", \"25\", \"26\", \"27\", \"28\", \"29\", \"30\", \"31\", \"32\", \"33\", \"34\", \"35\", \"36\", \"40\", \"41\"], \"mode\": \"markers\", \"name\": \"recall_score_macro\", \"stepped\": false, \"type\": \"scatter\", \"data\": [0.6443323763911059, 0.6442626455705229, 0.6396841790124287, 0.6280043947210159, 0.6406837331938611, 0.633496542691497, 0.6439345599979281, 0.6425467279486695, 0.6316379448004164, 0.6374382987592881, 0.64238049002813, 0.6341702003760086, 0.6319215558765624, 0.633736986653914, 0.6337136474385812, 0.6337367650982887, 0.6337250294968382, 0.633736540950735, 0.6460893353672764, 0.6317919221448494, 0.6424280986934856, 0.63202558715224, 0.6316276006496919, 0.63245226774977, 0.6112637074853231, 0.6289392954429538, 0.6420797016281005, 0.638086415641964, 0.6324268924069201, 0.6320855117085307, 0.5, 0.6316397212050082, 0.6381124470768873, 0.631690425699799, 0.6289392954429538, 0.5, 0.6335283651834126, 0.6463376282851019, 0.6452148053052869]}, {\"categories\": [\"0\", \"1\", \"2\", \"3\", \"4\", \"5\", \"6\", \"7\", \"8\", \"9\", \"10\", \"11\", \"12\", \"13\", \"14\", \"15\", \"16\", \"17\", \"18\", \"19\", \"20\", \"21\", \"22\", \"23\", \"24\", \"25\", \"26\", \"27\", \"28\", \"29\", \"30\", \"31\", \"32\", \"33\", \"34\", \"35\", \"36\", \"40\", \"41\"], \"mode\": \"lines\", \"name\": \"recall_score_macro_max\", \"stepped\": true, \"type\": \"scatter\", \"data\": [0.6443323763911059, 0.6443323763911059, 0.6443323763911059, 0.6443323763911059, 0.6443323763911059, 0.6443323763911059, 0.6443323763911059, 0.6443323763911059, 0.6443323763911059, 0.6443323763911059, 0.6443323763911059, 0.6443323763911059, 0.6443323763911059, 0.6443323763911059, 0.6443323763911059, 0.6443323763911059, 0.6443323763911059, 0.6443323763911059, 0.6460893353672764, 0.6460893353672764, 0.6460893353672764, 0.6460893353672764, 0.6460893353672764, 0.6460893353672764, 0.6460893353672764, 0.6460893353672764, 0.6460893353672764, 0.6460893353672764, 0.6460893353672764, 0.6460893353672764, 0.6460893353672764, 0.6460893353672764, 0.6460893353672764, 0.6460893353672764, 0.6460893353672764, 0.6460893353672764, 0.6460893353672764, 0.6463376282851019, 0.6463376282851019]}], \"average_precision_score_macro\": [{\"categories\": [\"0\", \"1\", \"2\", \"3\", \"4\", \"5\", \"6\", \"7\", \"8\", \"9\", \"10\", \"11\", \"12\", \"13\", \"14\", \"15\", \"16\", \"17\", \"18\", \"19\", \"20\", \"21\", \"22\", \"23\", \"24\", \"25\", \"26\", \"27\", \"28\", \"29\", \"30\", \"31\", \"32\", \"33\", \"34\", \"35\", \"36\", \"40\", \"41\"], \"mode\": \"markers\", \"name\": \"average_precision_score_macro\", \"stepped\": false, \"type\": \"scatter\", \"data\": [0.6752475236403768, 0.6758883431877101, 0.6591203755246072, 0.6446658100651959, 0.6625884376897965, 0.6513145281824329, 0.675206106075929, 0.672335375737655, 0.6358312019638119, 0.6470055285714236, 0.665806239285828, 0.6612592921744314, 0.6380160001535948, 0.6597660738651421, 0.6567385629469863, 0.6597560787553387, 0.659755391267255, 0.6597576347825159, 0.6765755490395282, 0.6459744885718204, 0.6729462551019736, 0.6476290097573559, 0.6425580792647019, 0.652205349386173, 0.6226984415866884, 0.6167526758741104, 0.6657473728165716, 0.6658342119463219, 0.6515425918200113, 0.6570035723522498, 0.5, 0.641155264773946, 0.6290959681044542, 0.6338454115996995, 0.6335271177925644, 0.5, 0.6598869000241026, 0.6765515511633552, 0.6772280685317658]}, {\"categories\": [\"0\", \"1\", \"2\", \"3\", \"4\", \"5\", \"6\", \"7\", \"8\", \"9\", \"10\", \"11\", \"12\", \"13\", \"14\", \"15\", \"16\", \"17\", \"18\", \"19\", \"20\", \"21\", \"22\", \"23\", \"24\", \"25\", \"26\", \"27\", \"28\", \"29\", \"30\", \"31\", \"32\", \"33\", \"34\", \"35\", \"36\", \"40\", \"41\"], \"mode\": \"lines\", \"name\": \"average_precision_score_macro_max\", \"stepped\": true, \"type\": \"scatter\", \"data\": [0.6752475236403768, 0.6758883431877101, 0.6758883431877101, 0.6758883431877101, 0.6758883431877101, 0.6758883431877101, 0.6758883431877101, 0.6758883431877101, 0.6758883431877101, 0.6758883431877101, 0.6758883431877101, 0.6758883431877101, 0.6758883431877101, 0.6758883431877101, 0.6758883431877101, 0.6758883431877101, 0.6758883431877101, 0.6758883431877101, 0.6765755490395282, 0.6765755490395282, 0.6765755490395282, 0.6765755490395282, 0.6765755490395282, 0.6765755490395282, 0.6765755490395282, 0.6765755490395282, 0.6765755490395282, 0.6765755490395282, 0.6765755490395282, 0.6765755490395282, 0.6765755490395282, 0.6765755490395282, 0.6765755490395282, 0.6765755490395282, 0.6765755490395282, 0.6765755490395282, 0.6765755490395282, 0.6765755490395282, 0.6772280685317658]}], \"matthews_correlation\": [{\"categories\": [\"0\", \"1\", \"2\", \"3\", \"4\", \"5\", \"6\", \"7\", \"8\", \"9\", \"10\", \"11\", \"12\", \"13\", \"14\", \"15\", \"16\", \"17\", \"18\", \"19\", \"20\", \"21\", \"22\", \"23\", \"24\", \"25\", \"26\", \"27\", \"28\", \"29\", \"30\", \"31\", \"32\", \"33\", \"34\", \"35\", \"36\", \"40\", \"41\"], \"mode\": \"markers\", \"name\": \"matthews_correlation\", \"stepped\": false, \"type\": \"scatter\", \"data\": [0.29663452683145347, 0.2987978288952776, 0.28891645941970473, 0.26369659452965605, 0.29124557873333456, 0.2747169240202975, 0.2962866211092533, 0.29406239022179453, 0.27223274195825403, 0.3019783032671542, 0.29559214704890646, 0.2740423830296633, 0.27301713898336805, 0.2741546639600524, 0.2747419228775062, 0.2741455821135583, 0.27412576501037983, 0.2741508085970367, 0.3011949935263257, 0.279885775090548, 0.294756022648862, 0.27317527803640573, 0.27183032366470955, 0.2746611169076988, 0.22548713637084744, 0.2774459748530619, 0.2921487115991533, 0.2832013010140967, 0.2692869932220674, 0.26918751195121116, 0.0, 0.27903937840716, 0.30226872928310133, 0.27322844773149846, 0.2774459748530619, 0.0, 0.2738416973759378, 0.30227817574417126, 0.2988383140009546]}, {\"categories\": [\"0\", \"1\", \"2\", \"3\", \"4\", \"5\", \"6\", \"7\", \"8\", \"9\", \"10\", \"11\", \"12\", \"13\", \"14\", \"15\", \"16\", \"17\", \"18\", \"19\", \"20\", \"21\", \"22\", \"23\", \"24\", \"25\", \"26\", \"27\", \"28\", \"29\", \"30\", \"31\", \"32\", \"33\", \"34\", \"35\", \"36\", \"40\", \"41\"], \"mode\": \"lines\", \"name\": \"matthews_correlation_max\", \"stepped\": true, \"type\": \"scatter\", \"data\": [0.29663452683145347, 0.2987978288952776, 0.2987978288952776, 0.2987978288952776, 0.2987978288952776, 0.2987978288952776, 0.2987978288952776, 0.2987978288952776, 0.2987978288952776, 0.3019783032671542, 0.3019783032671542, 0.3019783032671542, 0.3019783032671542, 0.3019783032671542, 0.3019783032671542, 0.3019783032671542, 0.3019783032671542, 0.3019783032671542, 0.3019783032671542, 0.3019783032671542, 0.3019783032671542, 0.3019783032671542, 0.3019783032671542, 0.3019783032671542, 0.3019783032671542, 0.3019783032671542, 0.3019783032671542, 0.3019783032671542, 0.3019783032671542, 0.3019783032671542, 0.3019783032671542, 0.3019783032671542, 0.30226872928310133, 0.30226872928310133, 0.30226872928310133, 0.30226872928310133, 0.30226872928310133, 0.30227817574417126, 0.30227817574417126]}], \"precision_score_weighted\": [{\"categories\": [\"0\", \"1\", \"2\", \"3\", \"4\", \"5\", \"6\", \"7\", \"8\", \"9\", \"10\", \"11\", \"12\", \"13\", \"14\", \"15\", \"16\", \"17\", \"18\", \"19\", \"20\", \"21\", \"22\", \"23\", \"24\", \"25\", \"26\", \"27\", \"28\", \"29\", \"30\", \"31\", \"32\", \"33\", \"34\", \"35\", \"36\", \"40\", \"41\"], \"mode\": \"markers\", \"name\": \"precision_score_weighted\", \"stepped\": false, \"type\": \"scatter\", \"data\": [0.6525528551656821, 0.6548750276791097, 0.6495951269661429, 0.6360192498672987, 0.6509171266145947, 0.641591393603196, 0.6526178235594152, 0.6518090476285614, 0.640898531257162, 0.6660838481249556, 0.6535528447686584, 0.6400648680172554, 0.6413934310941549, 0.640627120747699, 0.6412705581924152, 0.6406178405597994, 0.6406097689962551, 0.6406234122976573, 0.6553904904499422, 0.6487696948616796, 0.6526560009034277, 0.6414760638781486, 0.6404804448615653, 0.6425375021363718, 0.614411322250398, 0.649429583129904, 0.6503430347998627, 0.6453285536203703, 0.6370292522378402, 0.6373049546821676, 0.24624944731741447, 0.6480477574894086, 0.665588984073095, 0.641905636839173, 0.649429583129904, 0.24843548853339986, 0.6405277119446444, 0.6562473256050456, 0.6538840531769109]}, {\"categories\": [\"0\", \"1\", \"2\", \"3\", \"4\", \"5\", \"6\", \"7\", \"8\", \"9\", \"10\", \"11\", \"12\", \"13\", \"14\", \"15\", \"16\", \"17\", \"18\", \"19\", \"20\", \"21\", \"22\", \"23\", \"24\", \"25\", \"26\", \"27\", \"28\", \"29\", \"30\", \"31\", \"32\", \"33\", \"34\", \"35\", \"36\", \"40\", \"41\"], \"mode\": \"lines\", \"name\": \"precision_score_weighted_max\", \"stepped\": true, \"type\": \"scatter\", \"data\": [0.6525528551656821, 0.6548750276791097, 0.6548750276791097, 0.6548750276791097, 0.6548750276791097, 0.6548750276791097, 0.6548750276791097, 0.6548750276791097, 0.6548750276791097, 0.6660838481249556, 0.6660838481249556, 0.6660838481249556, 0.6660838481249556, 0.6660838481249556, 0.6660838481249556, 0.6660838481249556, 0.6660838481249556, 0.6660838481249556, 0.6660838481249556, 0.6660838481249556, 0.6660838481249556, 0.6660838481249556, 0.6660838481249556, 0.6660838481249556, 0.6660838481249556, 0.6660838481249556, 0.6660838481249556, 0.6660838481249556, 0.6660838481249556, 0.6660838481249556, 0.6660838481249556, 0.6660838481249556, 0.6660838481249556, 0.6660838481249556, 0.6660838481249556, 0.6660838481249556, 0.6660838481249556, 0.6660838481249556, 0.6660838481249556]}]}, \"metricName\": null, \"primaryMetricName\": \"accuracy\", \"showLegend\": false}, \"run_metrics\": [{\"name\": \"experiment_status\", \"run_id\": \"AutoML_8d3c1dfb-f26f-45ac-a7b6-c0af7bbb4fef\", \"categories\": [0, 1, 2, 3, 4, 5, 6, 7, 8, 9, 10, 11, 12, 13], \"series\": [{\"data\": [\"DatasetEvaluation\", \"FeaturesGeneration\", \"DatasetFeaturization\", \"DatasetFeaturizationCompleted\", \"DatasetCrossValidationSplit\", \"ModelSelection\", \"BestRunExplainModel\", \"ModelExplanationDataSetSetup\", \"PickSurrogateModel\", \"EngineeredFeatureExplanations\", \"EngineeredFeatureExplanations\", \"RawFeaturesExplanations\", \"RawFeaturesExplanations\", \"BestRunExplainModel\"]}]}, {\"name\": \"experiment_status_description\", \"run_id\": \"AutoML_8d3c1dfb-f26f-45ac-a7b6-c0af7bbb4fef\", \"categories\": [0, 1, 2, 3, 4, 5, 6, 7, 8, 9, 10, 11, 12, 13], \"series\": [{\"data\": [\"Gathering dataset statistics.\", \"Generating features for the dataset.\", \"Beginning to fit featurizers and featurize the dataset.\", \"Completed fit featurizers and featurizing the dataset.\", \"Generating individually featurized CV splits.\", \"Beginning model selection.\", \"Best run model explanations started\", \"Model explanations data setup completed\", \"Choosing LightGBM as the surrogate model for explanations\", \"Computation of engineered features started\", \"Computation of engineered features completed\", \"Computation of raw features started\", \"Computation of raw features completed\", \"Best run model explanations completed\"]}]}, {\"name\": \"AUC_micro\", \"run_id\": \"AutoML_8d3c1dfb-f26f-45ac-a7b6-c0af7bbb4fef\", \"categories\": [0], \"series\": [{\"data\": [0.6955804682976401]}]}, {\"name\": \"f1_score_micro\", \"run_id\": \"AutoML_8d3c1dfb-f26f-45ac-a7b6-c0af7bbb4fef\", \"categories\": [0], \"series\": [{\"data\": [0.6459859174033216]}]}, {\"name\": \"precision_score_macro\", \"run_id\": \"AutoML_8d3c1dfb-f26f-45ac-a7b6-c0af7bbb4fef\", \"categories\": [0], \"series\": [{\"data\": [0.6560988374132936]}]}, {\"name\": \"recall_score_macro\", \"run_id\": \"AutoML_8d3c1dfb-f26f-45ac-a7b6-c0af7bbb4fef\", \"categories\": [0], \"series\": [{\"data\": [0.6463376282851019]}]}, {\"name\": \"log_loss\", \"run_id\": \"AutoML_8d3c1dfb-f26f-45ac-a7b6-c0af7bbb4fef\", \"categories\": [0], \"series\": [{\"data\": [0.636956005701102]}]}, {\"name\": \"weighted_accuracy\", \"run_id\": \"AutoML_8d3c1dfb-f26f-45ac-a7b6-c0af7bbb4fef\", \"categories\": [0], \"series\": [{\"data\": [0.6456343591223622]}]}, {\"name\": \"recall_score_micro\", \"run_id\": \"AutoML_8d3c1dfb-f26f-45ac-a7b6-c0af7bbb4fef\", \"categories\": [0], \"series\": [{\"data\": [0.6459859174033216]}]}, {\"name\": \"accuracy\", \"run_id\": \"AutoML_8d3c1dfb-f26f-45ac-a7b6-c0af7bbb4fef\", \"categories\": [0], \"series\": [{\"data\": [0.6459859174033216]}]}, {\"name\": \"balanced_accuracy\", \"run_id\": \"AutoML_8d3c1dfb-f26f-45ac-a7b6-c0af7bbb4fef\", \"categories\": [0], \"series\": [{\"data\": [0.6463376282851019]}]}, {\"name\": \"f1_score_weighted\", \"run_id\": \"AutoML_8d3c1dfb-f26f-45ac-a7b6-c0af7bbb4fef\", \"categories\": [0], \"series\": [{\"data\": [0.6403549722166326]}]}, {\"name\": \"norm_macro_recall\", \"run_id\": \"AutoML_8d3c1dfb-f26f-45ac-a7b6-c0af7bbb4fef\", \"categories\": [0], \"series\": [{\"data\": [0.29267525657020377]}]}, {\"name\": \"AUC_macro\", \"run_id\": \"AutoML_8d3c1dfb-f26f-45ac-a7b6-c0af7bbb4fef\", \"categories\": [0], \"series\": [{\"data\": [0.6898458481949576]}]}, {\"name\": \"average_precision_score_macro\", \"run_id\": \"AutoML_8d3c1dfb-f26f-45ac-a7b6-c0af7bbb4fef\", \"categories\": [0], \"series\": [{\"data\": [0.6765515511633552]}]}, {\"name\": \"average_precision_score_weighted\", \"run_id\": \"AutoML_8d3c1dfb-f26f-45ac-a7b6-c0af7bbb4fef\", \"categories\": [0], \"series\": [{\"data\": [0.6766319783075331]}]}, {\"name\": \"recall_score_weighted\", \"run_id\": \"AutoML_8d3c1dfb-f26f-45ac-a7b6-c0af7bbb4fef\", \"categories\": [0], \"series\": [{\"data\": [0.6459859174033216]}]}, {\"name\": \"f1_score_macro\", \"run_id\": \"AutoML_8d3c1dfb-f26f-45ac-a7b6-c0af7bbb4fef\", \"categories\": [0], \"series\": [{\"data\": [0.6404632389588126]}]}, {\"name\": \"AUC_weighted\", \"run_id\": \"AutoML_8d3c1dfb-f26f-45ac-a7b6-c0af7bbb4fef\", \"categories\": [0], \"series\": [{\"data\": [0.689845848199903]}]}, {\"name\": \"average_precision_score_micro\", \"run_id\": \"AutoML_8d3c1dfb-f26f-45ac-a7b6-c0af7bbb4fef\", \"categories\": [0], \"series\": [{\"data\": [0.6825863157135152]}]}, {\"name\": \"precision_score_weighted\", \"run_id\": \"AutoML_8d3c1dfb-f26f-45ac-a7b6-c0af7bbb4fef\", \"categories\": [0], \"series\": [{\"data\": [0.6562473256050456]}]}, {\"name\": \"matthews_correlation\", \"run_id\": \"AutoML_8d3c1dfb-f26f-45ac-a7b6-c0af7bbb4fef\", \"categories\": [0], \"series\": [{\"data\": [0.30227817574417126]}]}, {\"name\": \"precision_score_micro\", \"run_id\": \"AutoML_8d3c1dfb-f26f-45ac-a7b6-c0af7bbb4fef\", \"categories\": [0], \"series\": [{\"data\": [0.6459859174033216]}]}], \"run_logs\": \"\\nRun is completed.\", \"graph\": {}, \"widget_settings\": {\"childWidgetDisplay\": \"popup\", \"send_telemetry\": false, \"log_level\": \"INFO\", \"sdk_version\": \"1.28.0\"}, \"loading\": false}"
          },
          "metadata": {}
        },
        {
          "output_type": "display_data",
          "data": {
            "text/plain": "<IPython.core.display.HTML object>",
            "text/html": "<table style=\"width:100%\"><tr><th>Experiment</th><th>Id</th><th>Type</th><th>Status</th><th>Details Page</th><th>Docs Page</th></tr><tr><td>automatedmlcovid</td><td>AutoML_8d3c1dfb-f26f-45ac-a7b6-c0af7bbb4fef</td><td>automl</td><td>NotStarted</td><td><a href=\"https://ml.azure.com/runs/AutoML_8d3c1dfb-f26f-45ac-a7b6-c0af7bbb4fef?wsid=/subscriptions/1b944a9b-fdae-4f97-aeb1-b7eea0beac53/resourcegroups/aml-quickstarts-144486/workspaces/quick-starts-ws-144486&amp;tid=660b3398-b80e-49d2-bc5b-ac1dc93b5254\" target=\"_blank\" rel=\"noopener\">Link to Azure Machine Learning studio</a></td><td><a href=\"https://docs.microsoft.com/en-us/python/api/overview/azure/ml/intro?view=azure-ml-py\" target=\"_blank\" rel=\"noopener\">Link to Documentation</a></td></tr></table>"
          },
          "metadata": {}
        },
        {
          "output_type": "stream",
          "name": "stdout",
          "text": [
            "\n",
            "Current status: FeaturesGeneration. Generating features for the dataset.\n",
            "Current status: DatasetFeaturization. Beginning to fit featurizers and featurize the dataset.\n",
            "Current status: DatasetCrossValidationSplit. Generating individually featurized CV splits.\n",
            "Current status: ModelSelection. Beginning model selection.\n",
            "\n",
            "****************************************************************************************************\n",
            "DATA GUARDRAILS: \n",
            "\n",
            "TYPE:         Class balancing detection\n",
            "STATUS:       PASSED\n",
            "DESCRIPTION:  Your inputs were analyzed, and all classes are balanced in your training data.\n",
            "              Learn more about imbalanced data: https://aka.ms/AutomatedMLImbalancedData\n",
            "\n",
            "****************************************************************************************************\n",
            "\n",
            "TYPE:         Missing feature values imputation\n",
            "STATUS:       PASSED\n",
            "DESCRIPTION:  No feature missing values were detected in the training data.\n",
            "              Learn more about missing value imputation: https://aka.ms/AutomatedMLFeaturization\n",
            "\n",
            "****************************************************************************************************\n",
            "\n",
            "TYPE:         High cardinality feature detection\n",
            "STATUS:       PASSED\n",
            "DESCRIPTION:  Your inputs were analyzed, and no high cardinality features were detected.\n",
            "              Learn more about high cardinality feature handling: https://aka.ms/AutomatedMLFeaturization\n",
            "\n",
            "****************************************************************************************************\n",
            "\n",
            "****************************************************************************************************\n",
            "ITERATION: The iteration being evaluated.\n",
            "PIPELINE: A summary description of the pipeline being evaluated.\n",
            "DURATION: Time taken for the current iteration.\n",
            "METRIC: The result of computing score on the fitted pipeline.\n",
            "BEST: The best observed score thus far.\n",
            "****************************************************************************************************\n",
            "\n",
            " ITERATION   PIPELINE                                       DURATION      METRIC      BEST\n",
            "         2   MaxAbsScaler RandomForest                      0:00:48       0.6392    0.6392\n",
            "         4   MaxAbsScaler RandomForest                      0:00:53       0.6403    0.6403\n",
            "         0   MaxAbsScaler LightGBM                          0:00:54       0.6440    0.6440\n",
            "         6   SparseNormalizer XGBoostClassifier             0:01:24       0.6436    0.6440\n",
            "         5   MaxAbsScaler RandomForest                      0:01:44       0.6329    0.6440\n",
            "         1   MaxAbsScaler XGBoostClassifier                 0:02:01       0.6439    0.6440\n",
            "         3   MaxAbsScaler RandomForest                      0:01:51       0.6276    0.6440\n",
            "         9   SparseNormalizer XGBoostClassifier             0:00:50       0.6369    0.6440\n",
            "        10   StandardScalerWrapper RandomForest             0:00:53       0.6421    0.6440\n",
            "         7   SparseNormalizer XGBoostClassifier             0:01:14       0.6422    0.6440\n",
            "         8   MaxAbsScaler RandomForest                      0:00:58       0.6313    0.6440\n",
            "        11   MaxAbsScaler LightGBM                          0:00:52       0.6339    0.6440\n",
            "        13   MaxAbsScaler LogisticRegression                0:00:51       0.6334    0.6440\n",
            "        14   MaxAbsScaler LightGBM                          0:00:47       0.6334    0.6440\n",
            "        16   MaxAbsScaler LogisticRegression                0:00:50       0.6334    0.6440\n",
            "        15   MaxAbsScaler LogisticRegression                0:01:08       0.6334    0.6440\n",
            "        17   MaxAbsScaler LogisticRegression                0:01:07       0.6334    0.6440\n",
            "        12   MaxAbsScaler RandomForest                      0:02:30       0.6316    0.6440\n",
            "        19   MaxAbsScaler LightGBM                          0:00:52       0.6314    0.6440\n",
            "        21   StandardScalerWrapper LightGBM                 0:00:46       0.6316    0.6440\n",
            "        18   SparseNormalizer XGBoostClassifier             0:01:37       0.6457    0.6457\n",
            "        20   SparseNormalizer XGBoostClassifier             0:01:14       0.6421    0.6457\n",
            "        24   StandardScalerWrapper RandomForest             0:00:46       0.6108    0.6457\n",
            "        25   MaxAbsScaler LightGBM                          0:00:44       0.6285    0.6457\n",
            "        23   MaxAbsScaler ExtremeRandomTrees                0:01:43       0.6321    0.6457\n",
            "        26   MaxAbsScaler LightGBM                          0:00:49       0.6417    0.6457\n",
            "        27   SparseNormalizer LightGBM                      0:00:48       0.6378    0.6457\n",
            "        29   StandardScalerWrapper LightGBM                 0:00:49       0.6317    0.6457\n",
            "        30   StandardScalerWrapper XGBoostClassifier        0:00:50       0.4962    0.6457\n",
            "        28   StandardScalerWrapper ExtremeRandomTrees       0:01:39       0.6321    0.6457\n",
            "        22   MaxAbsScaler ExtremeRandomTrees                0:03:59       0.6313    0.6457\n",
            "        31   StandardScalerWrapper LightGBM                 0:00:46       0.6312    0.6457\n",
            "        32   StandardScalerWrapper XGBoostClassifier        0:00:50       0.6376    0.6457\n",
            "        33   StandardScalerWrapper ExtremeRandomTrees       0:00:53       0.6313    0.6457\n",
            "        34   MaxAbsScaler ExtremeRandomTrees                0:00:55       0.6285    0.6457\n",
            "        35   TruncatedSVDWrapper XGBoostClassifier          0:00:55       0.4984    0.6457\n",
            "        36   StandardScalerWrapper LogisticRegression       0:00:52       0.6332    0.6457\n",
            "        37   TruncatedSVDWrapper XGBoostClassifier          0:00:29          nan    0.6457\n",
            "        38                                                  0:00:16          nan    0.6457\n",
            "        39                                                  0:00:29          nan    0.6457\n",
            "        40    VotingEnsemble                                0:01:43       0.6460    0.6460\n",
            "        41    StackEnsemble                                 0:02:43       0.6449    0.6460\n"
          ]
        },
        {
          "output_type": "execute_result",
          "execution_count": 11,
          "data": {
            "text/plain": "{'runId': 'AutoML_8d3c1dfb-f26f-45ac-a7b6-c0af7bbb4fef',\n 'target': 'cpu-cluster',\n 'status': 'Completed',\n 'startTimeUtc': '2021-05-11T00:27:19.601718Z',\n 'endTimeUtc': '2021-05-11T00:49:17.079127Z',\n 'properties': {'num_iterations': '1000',\n  'training_type': 'TrainFull',\n  'acquisition_function': 'EI',\n  'primary_metric': 'accuracy',\n  'train_split': '0',\n  'acquisition_parameter': '0',\n  'num_cross_validation': '5',\n  'target': 'cpu-cluster',\n  'AMLSettingsJsonString': '{\"path\":null,\"name\":\"automatedmlcovid\",\"subscription_id\":\"1b944a9b-fdae-4f97-aeb1-b7eea0beac53\",\"resource_group\":\"aml-quickstarts-144486\",\"workspace_name\":\"quick-starts-ws-144486\",\"region\":\"southcentralus\",\"compute_target\":\"cpu-cluster\",\"spark_service\":null,\"azure_service\":\"remote\",\"many_models\":false,\"pipeline_fetch_max_batch_size\":1,\"enable_batch_run\":false,\"enable_run_restructure\":false,\"start_auxiliary_runs_before_parent_complete\":false,\"enable_code_generation\":false,\"iterations\":1000,\"primary_metric\":\"accuracy\",\"task_type\":\"classification\",\"data_script\":null,\"test_size\":0.0,\"validation_size\":0.0,\"n_cross_validations\":5,\"y_min\":null,\"y_max\":null,\"num_classes\":null,\"featurization\":\"auto\",\"_ignore_package_version_incompatibilities\":false,\"is_timeseries\":false,\"max_cores_per_iteration\":1,\"max_concurrent_iterations\":5,\"iteration_timeout_minutes\":null,\"mem_in_mb\":null,\"enforce_time_on_windows\":false,\"experiment_timeout_minutes\":60,\"experiment_exit_score\":null,\"whitelist_models\":null,\"blacklist_algos\":[\"TensorFlowLinearClassifier\",\"TensorFlowDNN\"],\"supported_models\":[\"BernoulliNaiveBayes\",\"ExtremeRandomTrees\",\"SGD\",\"LogisticRegression\",\"MultinomialNaiveBayes\",\"LightGBM\",\"SVM\",\"LinearSVM\",\"GradientBoosting\",\"TensorFlowDNN\",\"XGBoostClassifier\",\"KNN\",\"TensorFlowLinearClassifier\",\"AveragedPerceptronClassifier\",\"RandomForest\",\"DecisionTree\"],\"private_models\":[],\"auto_blacklist\":true,\"blacklist_samples_reached\":false,\"exclude_nan_labels\":true,\"verbosity\":20,\"_debug_log\":\"azureml_automl.log\",\"show_warnings\":false,\"model_explainability\":true,\"service_url\":null,\"sdk_url\":null,\"sdk_packages\":null,\"enable_onnx_compatible_models\":false,\"enable_split_onnx_featurizer_estimator_models\":false,\"vm_type\":\"STANDARD_D16S_V3\",\"telemetry_verbosity\":20,\"send_telemetry\":true,\"enable_dnn\":false,\"scenario\":\"SDK-1.13.0\",\"environment_label\":null,\"save_mlflow\":false,\"force_text_dnn\":false,\"enable_feature_sweeping\":true,\"enable_early_stopping\":true,\"early_stopping_n_iters\":10,\"metrics\":null,\"enable_metric_confidence\":false,\"enable_ensembling\":true,\"enable_stack_ensembling\":true,\"ensemble_iterations\":15,\"enable_tf\":false,\"enable_subsampling\":null,\"subsample_seed\":null,\"enable_nimbusml\":false,\"enable_streaming\":false,\"force_streaming\":false,\"track_child_runs\":true,\"allowed_private_models\":[],\"label_column_name\":\"UCI\",\"weight_column_name\":null,\"cv_split_column_names\":null,\"enable_local_managed\":false,\"_local_managed_run_id\":null,\"cost_mode\":1,\"lag_length\":0,\"metric_operation\":\"maximize\",\"preprocess\":true}',\n  'DataPrepJsonString': '{\\\\\"training_data\\\\\": {\\\\\"datasetId\\\\\": \\\\\"75a4c8c8-a776-4669-b6bd-ea0e4ede4218\\\\\"}, \\\\\"datasets\\\\\": 0}',\n  'EnableSubsampling': None,\n  'runTemplate': 'AutoML',\n  'azureml.runsource': 'automl',\n  'display_task_type': 'classification',\n  'dependencies_versions': '{\"azureml-widgets\": \"1.28.0\", \"azureml-train\": \"1.28.0\", \"azureml-train-restclients-hyperdrive\": \"1.28.0\", \"azureml-train-core\": \"1.28.0\", \"azureml-train-automl\": \"1.28.0\", \"azureml-train-automl-runtime\": \"1.28.0\", \"azureml-train-automl-client\": \"1.28.0\", \"azureml-tensorboard\": \"1.27.0\", \"azureml-telemetry\": \"1.28.0\", \"azureml-sdk\": \"1.28.0\", \"azureml-samples\": \"0+unknown\", \"azureml-pipeline\": \"1.28.0\", \"azureml-pipeline-steps\": \"1.28.0\", \"azureml-pipeline-core\": \"1.28.0\", \"azureml-opendatasets\": \"1.27.0\", \"azureml-model-management-sdk\": \"1.0.1b6.post1\", \"azureml-mlflow\": \"1.27.0\", \"azureml-interpret\": \"1.28.0\", \"azureml-explain-model\": \"1.27.0\", \"azureml-defaults\": \"1.28.0\", \"azureml-dataset-runtime\": \"1.28.0\", \"azureml-dataprep\": \"2.15.0\", \"azureml-dataprep-rslex\": \"1.13.0\", \"azureml-dataprep-native\": \"33.0.0\", \"azureml-datadrift\": \"1.27.0\", \"azureml-core\": \"1.28.0\", \"azureml-contrib-services\": \"1.28.0\", \"azureml-contrib-server\": \"1.28.0\", \"azureml-contrib-reinforcementlearning\": \"1.27.0\", \"azureml-contrib-pipeline-steps\": \"1.28.0\", \"azureml-contrib-notebook\": \"1.28.0\", \"azureml-contrib-gbdt\": \"1.27.0\", \"azureml-contrib-fairness\": \"1.27.0\", \"azureml-contrib-dataset\": \"1.27.0\", \"azureml-cli-common\": \"1.27.0\", \"azureml-automl-runtime\": \"1.28.0.post1\", \"azureml-automl-dnn-nlp\": \"1.27.0\", \"azureml-automl-core\": \"1.28.0\", \"azureml-accel-models\": \"1.27.0\"}',\n  '_aml_system_scenario_identification': 'Remote.Parent',\n  'ClientType': 'SDK',\n  'environment_cpu_name': 'AzureML-AutoML',\n  'environment_cpu_label': 'prod',\n  'environment_gpu_name': 'AzureML-AutoML-GPU',\n  'environment_gpu_label': 'prod',\n  'root_attribution': 'automl',\n  'attribution': 'AutoML',\n  'Orchestrator': 'AutoML',\n  'CancelUri': 'https://southcentralus.api.azureml.ms/jasmine/v1.0/subscriptions/1b944a9b-fdae-4f97-aeb1-b7eea0beac53/resourceGroups/aml-quickstarts-144486/providers/Microsoft.MachineLearningServices/workspaces/quick-starts-ws-144486/experimentids/c5a09841-e122-40f1-b48c-5e5476d38f8c/cancel/AutoML_8d3c1dfb-f26f-45ac-a7b6-c0af7bbb4fef',\n  'ClientSdkVersion': '1.27.0.post1',\n  'snapshotId': '00000000-0000-0000-0000-000000000000',\n  'SetupRunId': 'AutoML_8d3c1dfb-f26f-45ac-a7b6-c0af7bbb4fef_setup',\n  'SetupRunContainerId': 'dcid.AutoML_8d3c1dfb-f26f-45ac-a7b6-c0af7bbb4fef_setup',\n  'FeaturizationRunJsonPath': 'featurizer_container.json',\n  'FeaturizationRunId': 'AutoML_8d3c1dfb-f26f-45ac-a7b6-c0af7bbb4fef_featurize',\n  'ProblemInfoJsonString': '{\"dataset_num_categorical\": 0, \"is_sparse\": true, \"subsampling\": false, \"dataset_classes\": 2, \"dataset_features\": 38, \"dataset_samples\": 87827, \"single_frequency_class_detected\": false}',\n  'ModelExplainRunId': 'AutoML_8d3c1dfb-f26f-45ac-a7b6-c0af7bbb4fef_ModelExplain'},\n 'inputDatasets': [{'dataset': {'id': '75a4c8c8-a776-4669-b6bd-ea0e4ede4218'}, 'consumptionDetails': {'type': 'RunInput', 'inputName': 'training_data', 'mechanism': 'Direct'}}],\n 'outputDatasets': [],\n 'logFiles': {},\n 'submittedBy': 'ODL_User 144486'}"
          },
          "metadata": {}
        }
      ],
      "execution_count": 11,
      "metadata": {
        "gather": {
          "logged": 1620694176373
        },
        "jupyter": {
          "outputs_hidden": false,
          "source_hidden": false
        },
        "nteract": {
          "transient": {
            "deleting": false
          }
        }
      }
    },
    {
      "cell_type": "markdown",
      "source": [
        "## Best Model\n",
        "\n",
        "In the cell below we get the best model from the automl experiments and display all the properties of the model.\n",
        "\n"
      ],
      "metadata": {}
    },
    {
      "cell_type": "code",
      "source": [
        "best_run_automl, fitted_model_automl = remote_run.get_output()\r\n",
        "\r\n",
        "#Displaying properties of the AutoML Model\r\n",
        "print(\"AutoML:\")\r\n",
        "automl_best_run_metrics = best_run_automl.get_metrics()\r\n",
        "print(\"Best run Id: \",best_run_automl.id)\r\n",
        "print(\"Accuracy: \", automl_best_run_metrics['accuracy'])\r\n",
        "print(\"All metrics:\")\r\n",
        "for metric in automl_best_run_metrics:\r\n",
        "    value = automl_best_run_metrics[metric]\r\n",
        "    print(metric,value)"
      ],
      "outputs": [
        {
          "output_type": "stream",
          "name": "stdout",
          "text": [
            "AutoML:\n",
            "Best run Id:  AutoML_8d3c1dfb-f26f-45ac-a7b6-c0af7bbb4fef_40\n",
            "Accuracy:  0.6459859174033216\n",
            "All metrics:\n",
            "recall_score_weighted 0.6459859174033216\n",
            "AUC_weighted 0.689845848199903\n",
            "f1_score_macro 0.6404632389588126\n",
            "precision_score_micro 0.6459859174033216\n",
            "recall_score_macro 0.6463376282851019\n",
            "AUC_macro 0.6898458481949576\n",
            "balanced_accuracy 0.6463376282851019\n",
            "precision_score_weighted 0.6562473256050456\n",
            "accuracy 0.6459859174033216\n",
            "matthews_correlation 0.30227817574417126\n",
            "log_loss 0.636956005701102\n",
            "f1_score_micro 0.6459859174033216\n",
            "recall_score_micro 0.6459859174033216\n",
            "average_precision_score_weighted 0.6766319783075331\n",
            "f1_score_weighted 0.6403549722166326\n",
            "norm_macro_recall 0.29267525657020377\n",
            "average_precision_score_micro 0.6825863157135152\n",
            "weighted_accuracy 0.6456343591223622\n",
            "average_precision_score_macro 0.6765515511633552\n",
            "precision_score_macro 0.6560988374132936\n",
            "AUC_micro 0.6955804682976401\n",
            "accuracy_table aml://artifactId/ExperimentRun/dcid.AutoML_8d3c1dfb-f26f-45ac-a7b6-c0af7bbb4fef_40/accuracy_table\n",
            "confusion_matrix aml://artifactId/ExperimentRun/dcid.AutoML_8d3c1dfb-f26f-45ac-a7b6-c0af7bbb4fef_40/confusion_matrix\n"
          ]
        }
      ],
      "execution_count": 14,
      "metadata": {
        "gather": {
          "logged": 1620694516076
        },
        "jupyter": {
          "outputs_hidden": false,
          "source_hidden": false
        },
        "nteract": {
          "transient": {
            "deleting": false
          }
        }
      }
    },
    {
      "cell_type": "code",
      "source": [
        "from pprint import pprint\r\n",
        "\r\n",
        "# Function to list the hyperparameters \r\n",
        "\r\n",
        "def print_model(model, prefix=\"\"):\r\n",
        "    for step in model.steps:\r\n",
        "        print(prefix + step[0])\r\n",
        "        \r\n",
        "        if hasattr(step[1], 'estimators') and hasattr(step[1], 'weights'):\r\n",
        "            pprint({'estimators' : list(e[0] for e in step[1].estimators), 'weights' : step[1].weights})\r\n",
        "            print()\r\n",
        "\r\n",
        "            for estimator in step[1].estimators:\r\n",
        "                print_model(estimator[1], estimator[0] + ' - ')\r\n",
        "        \r\n",
        "        else:\r\n",
        "            pprint(step[1].get_params())\r\n",
        "            print()\r\n",
        "        \r\n",
        "print_model(fitted_model_automl)"
      ],
      "outputs": [
        {
          "output_type": "stream",
          "name": "stdout",
          "text": [
            "datatransformer\n",
            "{'enable_dnn': False,\n",
            " 'enable_feature_sweeping': True,\n",
            " 'feature_sweeping_config': {},\n",
            " 'feature_sweeping_timeout': 86400,\n",
            " 'featurization_config': None,\n",
            " 'force_text_dnn': False,\n",
            " 'is_cross_validation': True,\n",
            " 'is_onnx_compatible': False,\n",
            " 'observer': None,\n",
            " 'task': 'classification',\n",
            " 'working_dir': '/mnt/batch/tasks/shared/LS_root/mounts/clusters/notebook144486/code/Users/odl_user_144486'}\n",
            "\n",
            "prefittedsoftvotingclassifier\n",
            "{'estimators': ['18', '0', '1', '6', '7', '35', '11', '15', '29', '21'],\n",
            " 'weights': [0.23076923076923078,\n",
            "             0.07692307692307693,\n",
            "             0.15384615384615385,\n",
            "             0.07692307692307693,\n",
            "             0.07692307692307693,\n",
            "             0.07692307692307693,\n",
            "             0.07692307692307693,\n",
            "             0.07692307692307693,\n",
            "             0.07692307692307693,\n",
            "             0.07692307692307693]}\n",
            "\n",
            "18 - sparsenormalizer\n",
            "{'copy': True, 'norm': 'l1'}\n",
            "\n",
            "18 - xgboostclassifier\n",
            "{'base_score': 0.5,\n",
            " 'booster': 'gbtree',\n",
            " 'colsample_bylevel': 1,\n",
            " 'colsample_bynode': 1,\n",
            " 'colsample_bytree': 0.7,\n",
            " 'eta': 0.2,\n",
            " 'gamma': 0,\n",
            " 'learning_rate': 0.1,\n",
            " 'max_delta_step': 0,\n",
            " 'max_depth': 2,\n",
            " 'max_leaves': 0,\n",
            " 'min_child_weight': 1,\n",
            " 'missing': nan,\n",
            " 'n_estimators': 200,\n",
            " 'n_jobs': 1,\n",
            " 'nthread': None,\n",
            " 'objective': 'reg:logistic',\n",
            " 'random_state': 0,\n",
            " 'reg_alpha': 1.9791666666666667,\n",
            " 'reg_lambda': 0.5208333333333334,\n",
            " 'scale_pos_weight': 1,\n",
            " 'seed': None,\n",
            " 'silent': None,\n",
            " 'subsample': 0.8,\n",
            " 'tree_method': 'auto',\n",
            " 'verbose': -10,\n",
            " 'verbosity': 0}\n",
            "\n",
            "0 - maxabsscaler\n",
            "{'copy': True}\n",
            "\n",
            "0 - lightgbmclassifier\n",
            "{'n_jobs': 1,\n",
            " 'problem_info': ProblemInfo(\n",
            "    dataset_samples=87827,\n",
            "    dataset_features=38,\n",
            "    dataset_classes=2,\n",
            "    dataset_num_categorical=0,\n",
            "    dataset_categoricals=None,\n",
            "    pipeline_categoricals=None,\n",
            "    dataset_y_std=None,\n",
            "    dataset_uid=None,\n",
            "    subsampling=False,\n",
            "    task='classification',\n",
            "    metric=None,\n",
            "    num_threads=1,\n",
            "    pipeline_profile='none',\n",
            "    is_sparse=True,\n",
            "    runtime_constraints={'mem_in_mb': None, 'wall_time_in_s': None, 'total_wall_time_in_s': 31449600, 'cpu_time_in_s': None, 'num_processes': None, 'grace_period_in_s': None},\n",
            "    constraint_mode=1,\n",
            "    cost_mode=1,\n",
            "    training_percent=None,\n",
            "    num_recommendations=1,\n",
            "    model_names_whitelisted=None,\n",
            "    model_names_blacklisted=None,\n",
            "    kernel='linear',\n",
            "    subsampling_treatment='linear',\n",
            "    subsampling_schedule='hyperband_clip',\n",
            "    cost_mode_param=None,\n",
            "    iteration_timeout_mode=0,\n",
            "    iteration_timeout_param=None,\n",
            "    feature_column_names=None,\n",
            "    label_column_name=None,\n",
            "    weight_column_name=None,\n",
            "    cv_split_column_names=None,\n",
            "    enable_streaming=None,\n",
            "    timeseries_param_dict=None,\n",
            "    gpu_training_param_dict={'processing_unit_type': 'cpu'}\n",
            "),\n",
            " 'random_state': None}\n",
            "\n",
            "1 - maxabsscaler\n",
            "{'copy': True}\n",
            "\n",
            "1 - xgboostclassifier\n",
            "{'base_score': 0.5,\n",
            " 'booster': 'gbtree',\n",
            " 'colsample_bylevel': 1,\n",
            " 'colsample_bynode': 1,\n",
            " 'colsample_bytree': 1,\n",
            " 'gamma': 0,\n",
            " 'learning_rate': 0.1,\n",
            " 'max_delta_step': 0,\n",
            " 'max_depth': 3,\n",
            " 'min_child_weight': 1,\n",
            " 'missing': nan,\n",
            " 'n_estimators': 100,\n",
            " 'n_jobs': 1,\n",
            " 'nthread': None,\n",
            " 'objective': 'binary:logistic',\n",
            " 'random_state': 0,\n",
            " 'reg_alpha': 0,\n",
            " 'reg_lambda': 1,\n",
            " 'scale_pos_weight': 1,\n",
            " 'seed': None,\n",
            " 'silent': None,\n",
            " 'subsample': 1,\n",
            " 'tree_method': 'auto',\n",
            " 'verbose': -10,\n",
            " 'verbosity': 0}\n",
            "\n",
            "6 - sparsenormalizer\n",
            "{'copy': True, 'norm': 'l2'}\n",
            "\n",
            "6 - xgboostclassifier\n",
            "{'base_score': 0.5,\n",
            " 'booster': 'gbtree',\n",
            " 'colsample_bylevel': 1,\n",
            " 'colsample_bynode': 1,\n",
            " 'colsample_bytree': 0.5,\n",
            " 'eta': 0.1,\n",
            " 'gamma': 0,\n",
            " 'learning_rate': 0.1,\n",
            " 'max_delta_step': 0,\n",
            " 'max_depth': 6,\n",
            " 'max_leaves': 15,\n",
            " 'min_child_weight': 1,\n",
            " 'missing': nan,\n",
            " 'n_estimators': 100,\n",
            " 'n_jobs': 1,\n",
            " 'nthread': None,\n",
            " 'objective': 'reg:logistic',\n",
            " 'random_state': 0,\n",
            " 'reg_alpha': 0,\n",
            " 'reg_lambda': 2.0833333333333335,\n",
            " 'scale_pos_weight': 1,\n",
            " 'seed': None,\n",
            " 'silent': None,\n",
            " 'subsample': 1,\n",
            " 'tree_method': 'auto',\n",
            " 'verbose': -10,\n",
            " 'verbosity': 0}\n",
            "\n",
            "7 - sparsenormalizer\n",
            "{'copy': True, 'norm': 'l2'}\n",
            "\n",
            "7 - xgboostclassifier\n",
            "{'base_score': 0.5,\n",
            " 'booster': 'gbtree',\n",
            " 'colsample_bylevel': 1,\n",
            " 'colsample_bynode': 1,\n",
            " 'colsample_bytree': 0.9,\n",
            " 'eta': 0.3,\n",
            " 'gamma': 0,\n",
            " 'learning_rate': 0.1,\n",
            " 'max_delta_step': 0,\n",
            " 'max_depth': 9,\n",
            " 'max_leaves': 0,\n",
            " 'min_child_weight': 1,\n",
            " 'missing': nan,\n",
            " 'n_estimators': 25,\n",
            " 'n_jobs': 1,\n",
            " 'nthread': None,\n",
            " 'objective': 'reg:logistic',\n",
            " 'random_state': 0,\n",
            " 'reg_alpha': 0,\n",
            " 'reg_lambda': 0.7291666666666667,\n",
            " 'scale_pos_weight': 1,\n",
            " 'seed': None,\n",
            " 'silent': None,\n",
            " 'subsample': 0.9,\n",
            " 'tree_method': 'auto',\n",
            " 'verbose': -10,\n",
            " 'verbosity': 0}\n",
            "\n",
            "35 - truncatedsvdwrapper\n",
            "{'n_components': 0.2573684210526316, 'random_state': None}\n",
            "\n",
            "35 - xgboostclassifier\n",
            "{'base_score': 0.5,\n",
            " 'booster': 'gbtree',\n",
            " 'colsample_bylevel': 1,\n",
            " 'colsample_bynode': 1,\n",
            " 'colsample_bytree': 0.5,\n",
            " 'eta': 0.3,\n",
            " 'gamma': 0,\n",
            " 'learning_rate': 0.1,\n",
            " 'max_delta_step': 0,\n",
            " 'max_depth': 0,\n",
            " 'max_leaves': 255,\n",
            " 'min_child_weight': 1,\n",
            " 'missing': nan,\n",
            " 'n_estimators': 100,\n",
            " 'n_jobs': 1,\n",
            " 'nthread': None,\n",
            " 'objective': 'reg:logistic',\n",
            " 'random_state': 0,\n",
            " 'reg_alpha': 0,\n",
            " 'reg_lambda': 1.1458333333333335,\n",
            " 'scale_pos_weight': 1,\n",
            " 'seed': None,\n",
            " 'silent': None,\n",
            " 'subsample': 0.7,\n",
            " 'tree_method': 'auto',\n",
            " 'verbose': -10,\n",
            " 'verbosity': 0}\n",
            "\n",
            "11 - maxabsscaler\n",
            "{'copy': True}\n",
            "\n",
            "11 - lightgbmclassifier\n",
            "{'n_jobs': 1,\n",
            " 'problem_info': ProblemInfo(\n",
            "    dataset_samples=87827,\n",
            "    dataset_features=38,\n",
            "    dataset_classes=2,\n",
            "    dataset_num_categorical=0,\n",
            "    dataset_categoricals=None,\n",
            "    pipeline_categoricals=None,\n",
            "    dataset_y_std=None,\n",
            "    dataset_uid=None,\n",
            "    subsampling=False,\n",
            "    task='classification',\n",
            "    metric=None,\n",
            "    num_threads=1,\n",
            "    pipeline_profile='none',\n",
            "    is_sparse=True,\n",
            "    runtime_constraints={'mem_in_mb': None, 'wall_time_in_s': None, 'total_wall_time_in_s': 31449600, 'cpu_time_in_s': None, 'num_processes': None, 'grace_period_in_s': None},\n",
            "    constraint_mode=1,\n",
            "    cost_mode=1,\n",
            "    training_percent=None,\n",
            "    num_recommendations=1,\n",
            "    model_names_whitelisted=None,\n",
            "    model_names_blacklisted=None,\n",
            "    kernel='linear',\n",
            "    subsampling_treatment='linear',\n",
            "    subsampling_schedule='hyperband_clip',\n",
            "    cost_mode_param=None,\n",
            "    iteration_timeout_mode=0,\n",
            "    iteration_timeout_param=None,\n",
            "    feature_column_names=None,\n",
            "    label_column_name=None,\n",
            "    weight_column_name=None,\n",
            "    cv_split_column_names=None,\n",
            "    enable_streaming=None,\n",
            "    timeseries_param_dict=None,\n",
            "    gpu_training_param_dict={'processing_unit_type': 'cpu'}\n",
            "),\n",
            " 'random_state': None}\n",
            "\n",
            "15 - maxabsscaler\n",
            "{'copy': True}\n",
            "\n",
            "15 - logisticregression\n",
            "{'C': 109.85411419875572,\n",
            " 'class_weight': None,\n",
            " 'dual': False,\n",
            " 'fit_intercept': True,\n",
            " 'intercept_scaling': 1,\n",
            " 'l1_ratio': None,\n",
            " 'max_iter': 100,\n",
            " 'multi_class': 'ovr',\n",
            " 'n_jobs': 1,\n",
            " 'penalty': 'l1',\n",
            " 'random_state': None,\n",
            " 'solver': 'saga',\n",
            " 'tol': 0.0001,\n",
            " 'verbose': 0,\n",
            " 'warm_start': False}\n",
            "\n",
            "29 - standardscalerwrapper\n",
            "{'class_name': 'StandardScaler',\n",
            " 'copy': True,\n",
            " 'module_name': 'sklearn.preprocessing._data',\n",
            " 'with_mean': False,\n",
            " 'with_std': False}\n",
            "\n",
            "29 - lightgbmclassifier\n",
            "{'n_jobs': 1,\n",
            " 'problem_info': ProblemInfo(\n",
            "    dataset_samples=87827,\n",
            "    dataset_features=38,\n",
            "    dataset_classes=2,\n",
            "    dataset_num_categorical=0,\n",
            "    dataset_categoricals=None,\n",
            "    pipeline_categoricals=None,\n",
            "    dataset_y_std=None,\n",
            "    dataset_uid=None,\n",
            "    subsampling=False,\n",
            "    task='classification',\n",
            "    metric=None,\n",
            "    num_threads=1,\n",
            "    pipeline_profile='none',\n",
            "    is_sparse=True,\n",
            "    runtime_constraints={'mem_in_mb': None, 'wall_time_in_s': None, 'total_wall_time_in_s': 31449600, 'cpu_time_in_s': None, 'num_processes': None, 'grace_period_in_s': None},\n",
            "    constraint_mode=1,\n",
            "    cost_mode=1,\n",
            "    training_percent=None,\n",
            "    num_recommendations=1,\n",
            "    model_names_whitelisted=None,\n",
            "    model_names_blacklisted=None,\n",
            "    kernel='linear',\n",
            "    subsampling_treatment='linear',\n",
            "    subsampling_schedule='hyperband_clip',\n",
            "    cost_mode_param=None,\n",
            "    iteration_timeout_mode=0,\n",
            "    iteration_timeout_param=None,\n",
            "    feature_column_names=None,\n",
            "    label_column_name=None,\n",
            "    weight_column_name=None,\n",
            "    cv_split_column_names=None,\n",
            "    enable_streaming=None,\n",
            "    timeseries_param_dict=None,\n",
            "    gpu_training_param_dict={'processing_unit_type': 'cpu'}\n",
            "),\n",
            " 'random_state': None}\n",
            "\n",
            "21 - standardscalerwrapper\n",
            "{'class_name': 'StandardScaler',\n",
            " 'copy': True,\n",
            " 'module_name': 'sklearn.preprocessing._data',\n",
            " 'with_mean': False,\n",
            " 'with_std': True}\n",
            "\n",
            "21 - lightgbmclassifier\n",
            "{'n_jobs': 1,\n",
            " 'problem_info': ProblemInfo(\n",
            "    dataset_samples=87827,\n",
            "    dataset_features=38,\n",
            "    dataset_classes=2,\n",
            "    dataset_num_categorical=0,\n",
            "    dataset_categoricals=None,\n",
            "    pipeline_categoricals=None,\n",
            "    dataset_y_std=None,\n",
            "    dataset_uid=None,\n",
            "    subsampling=False,\n",
            "    task='classification',\n",
            "    metric=None,\n",
            "    num_threads=1,\n",
            "    pipeline_profile='none',\n",
            "    is_sparse=True,\n",
            "    runtime_constraints={'mem_in_mb': None, 'wall_time_in_s': None, 'total_wall_time_in_s': 31449600, 'cpu_time_in_s': None, 'num_processes': None, 'grace_period_in_s': None},\n",
            "    constraint_mode=1,\n",
            "    cost_mode=1,\n",
            "    training_percent=None,\n",
            "    num_recommendations=1,\n",
            "    model_names_whitelisted=None,\n",
            "    model_names_blacklisted=None,\n",
            "    kernel='linear',\n",
            "    subsampling_treatment='linear',\n",
            "    subsampling_schedule='hyperband_clip',\n",
            "    cost_mode_param=None,\n",
            "    iteration_timeout_mode=0,\n",
            "    iteration_timeout_param=None,\n",
            "    feature_column_names=None,\n",
            "    label_column_name=None,\n",
            "    weight_column_name=None,\n",
            "    cv_split_column_names=None,\n",
            "    enable_streaming=None,\n",
            "    timeseries_param_dict=None,\n",
            "    gpu_training_param_dict={'processing_unit_type': 'cpu'}\n",
            "),\n",
            " 'random_state': None}\n",
            "\n"
          ]
        }
      ],
      "execution_count": 18,
      "metadata": {
        "collapsed": true,
        "jupyter": {
          "source_hidden": false,
          "outputs_hidden": false
        },
        "nteract": {
          "transient": {
            "deleting": false
          }
        },
        "gather": {
          "logged": 1620694765103
        }
      }
    },
    {
      "cell_type": "code",
      "source": [
        "#Saving the best model\r\n",
        "model_automl = best_run_automl.register_model(model_path='outputs/model.pkl', model_name='model_automl')\r\n",
        "print(\"\\nModel saved successfully\")\r\n",
        "print(model_automl)"
      ],
      "outputs": [
        {
          "output_type": "stream",
          "name": "stdout",
          "text": [
            "\n",
            "Model saved successfully\n",
            "Model(workspace=Workspace.create(name='quick-starts-ws-144486', subscription_id='1b944a9b-fdae-4f97-aeb1-b7eea0beac53', resource_group='aml-quickstarts-144486'), name=model_automl, id=model_automl:2, version=2, tags={}, properties={})\n"
          ]
        }
      ],
      "execution_count": 19,
      "metadata": {
        "collapsed": true,
        "jupyter": {
          "source_hidden": false,
          "outputs_hidden": false
        },
        "nteract": {
          "transient": {
            "deleting": false
          }
        },
        "gather": {
          "logged": 1620694782017
        }
      }
    },
    {
      "cell_type": "markdown",
      "source": [
        "## Model Deployment\n",
        "\n",
        "Remember you have to deploy only one of the two models you trained.. Perform the steps in the rest of this notebook only if you wish to deploy this model.\n",
        "\n",
        "TODO: In the cell below, register the model, create an inference config and deploy the model as a web service.\n",
        "\n",
        "Before this step we have to run the `hyperparameter_tuning.ipynb`  notebook, in this case we determined that the model with the most accuracy was the one from AutoML. The next step is to deploy the model and test it.\n",
        "\n",
        "First we have to download the scoring file and the environment file, this can be obtained from the best run."
      ],
      "metadata": {}
    },
    {
      "cell_type": "code",
      "source": [
        "# Download scoring file \r\n",
        "best_run_automl.download_file('outputs/scoring_file_v_1_0_0.py', 'scoring.py')\r\n",
        "\r\n",
        "# Download environment file\r\n",
        "best_run_automl.download_file('outputs/conda_env_v_1_0_0.yml', 'environment.yml')\r\n"
      ],
      "outputs": [],
      "execution_count": 20,
      "metadata": {
        "gather": {
          "logged": 1620694815817
        },
        "jupyter": {
          "outputs_hidden": false,
          "source_hidden": false
        },
        "nteract": {
          "transient": {
            "deleting": false
          }
        }
      }
    },
    {
      "cell_type": "markdown",
      "source": [
        "Now we have to deploy the model with inference configuration"
      ],
      "metadata": {
        "nteract": {
          "transient": {
            "deleting": false
          }
        }
      }
    },
    {
      "cell_type": "code",
      "source": [
        "from azureml.core.environment import Environment\r\n",
        "from azureml.core.model import InferenceConfig\r\n",
        "from azureml.core.webservice import AciWebservice\r\n",
        "\r\n",
        "#Configuration for inference\r\n",
        "inference_config = InferenceConfig(entry_script='scoring.py',\r\n",
        "                                    environment=best_run_automl.get_environment())\r\n",
        "\r\n",
        "#Deployment configuration\r\n",
        "deployment_config = AciWebservice.deploy_configuration(cpu_cores = 1, memory_gb = 1, auth_enabled = True, enable_app_insights= True, description=\"Covid 19 ICU Prediction Model\")\r\n",
        "service = model_automl.deploy(ws, \"icuservice\", [model_automl], inference_config, deployment_config)\r\n",
        "service.wait_for_deployment(show_output = True)"
      ],
      "outputs": [
        {
          "output_type": "stream",
          "name": "stdout",
          "text": [
            "Tips: You can try get_logs(): https://aka.ms/debugimage#dockerlog or local deployment: https://aka.ms/debugimage#debug-locally to debug if deployment takes longer than 10 minutes.\n",
            "Running\n",
            "2021-05-11 01:00:45+00:00 Creating Container Registry if not exists.\n",
            "2021-05-11 01:00:45+00:00 Registering the environment.\n",
            "2021-05-11 01:00:46+00:00 Use the existing image.\n",
            "2021-05-11 01:00:46+00:00 Generating deployment configuration.\n",
            "2021-05-11 01:00:47+00:00 Submitting deployment to compute..\n",
            "2021-05-11 01:00:55+00:00 Checking the status of deployment icuservice..\n",
            "2021-05-11 01:05:23+00:00 Checking the status of inference endpoint icuservice.\n",
            "Succeeded\n",
            "ACI service creation operation finished, operation \"Succeeded\"\n"
          ]
        }
      ],
      "execution_count": 22,
      "metadata": {
        "collapsed": true,
        "jupyter": {
          "source_hidden": false,
          "outputs_hidden": false
        },
        "nteract": {
          "transient": {
            "deleting": false
          }
        },
        "gather": {
          "logged": 1620695128557
        }
      }
    },
    {
      "cell_type": "markdown",
      "source": [
        "Here we check the state of the endpoint and some relevant data of it."
      ],
      "metadata": {
        "nteract": {
          "transient": {
            "deleting": false
          }
        }
      }
    },
    {
      "cell_type": "code",
      "source": [
        "print(\"Service state:\")\r\n",
        "print(service.state)\r\n",
        "print(\"Scoring URI:\")\r\n",
        "print(service.scoring_uri)\r\n",
        "print(\"Swagger URI:\")\r\n",
        "print(service.swagger_uri)\r\n",
        "print(\"Authentication key:\")\r\n",
        "print(service.get_keys()[0])"
      ],
      "outputs": [
        {
          "output_type": "stream",
          "name": "stdout",
          "text": [
            "Service state:\n",
            "Healthy\n",
            "Scoring URI:\n",
            "http://9311c453-9c2c-4e06-95bd-604f3cf53b7b.southcentralus.azurecontainer.io/score\n",
            "Swagger URI:\n",
            "http://9311c453-9c2c-4e06-95bd-604f3cf53b7b.southcentralus.azurecontainer.io/swagger.json\n",
            "Authentication key:\n",
            "nhJo7mSPydWh8MCQqNvMWpYTAoiVrMwI\n"
          ]
        }
      ],
      "execution_count": 23,
      "metadata": {
        "collapsed": true,
        "jupyter": {
          "source_hidden": false,
          "outputs_hidden": false
        },
        "nteract": {
          "transient": {
            "deleting": false
          }
        },
        "gather": {
          "logged": 1620695133502
        }
      }
    },
    {
      "cell_type": "markdown",
      "source": [
        "In the cells below we send a request to the web service we deployed to test it."
      ],
      "metadata": {
        "collapsed": true,
        "gather": {
          "logged": 1598431657736
        },
        "jupyter": {
          "outputs_hidden": false,
          "source_hidden": false
        },
        "nteract": {
          "transient": {
            "deleting": false
          }
        }
      }
    },
    {
      "cell_type": "code",
      "source": [
        "import json\r\n",
        "\r\n",
        "#Import test data\r\n",
        "df = train_data.to_pandas_dataframe()\r\n",
        "test_df = df.sample(5)\r\n",
        "objective_df = test_df.pop('UCI')\r\n",
        "\r\n",
        "test_sample = json.dumps({'data': test_df.to_dict(orient='records')})\r\n",
        "\r\n",
        "print(test_sample)"
      ],
      "outputs": [
        {
          "output_type": "stream",
          "name": "stdout",
          "text": [
            "{\"data\": [{\"SEXO\": 1, \"EDAD\": 57, \"NEUMONIA\": 1, \"DIABETES\": 1, \"EPOC\": 1, \"ASMA\": 2, \"INMUSUPR\": 2, \"HIPERTENSION\": 1, \"OTRA_COM\": 2, \"CARDIOVASCULAR\": 2, \"OBESIDAD\": 2, \"RENAL_CRONICA\": 1, \"TABAQUISMO\": 2, \"RESULTADO_LAB\": 2}, {\"SEXO\": 1, \"EDAD\": 69, \"NEUMONIA\": 1, \"DIABETES\": 2, \"EPOC\": 2, \"ASMA\": 2, \"INMUSUPR\": 2, \"HIPERTENSION\": 2, \"OTRA_COM\": 2, \"CARDIOVASCULAR\": 2, \"OBESIDAD\": 2, \"RENAL_CRONICA\": 2, \"TABAQUISMO\": 2, \"RESULTADO_LAB\": 1}, {\"SEXO\": 1, \"EDAD\": 91, \"NEUMONIA\": 1, \"DIABETES\": 2, \"EPOC\": 2, \"ASMA\": 2, \"INMUSUPR\": 2, \"HIPERTENSION\": 2, \"OTRA_COM\": 2, \"CARDIOVASCULAR\": 2, \"OBESIDAD\": 2, \"RENAL_CRONICA\": 2, \"TABAQUISMO\": 2, \"RESULTADO_LAB\": 2}, {\"SEXO\": 1, \"EDAD\": 85, \"NEUMONIA\": 2, \"DIABETES\": 2, \"EPOC\": 2, \"ASMA\": 2, \"INMUSUPR\": 2, \"HIPERTENSION\": 1, \"OTRA_COM\": 2, \"CARDIOVASCULAR\": 2, \"OBESIDAD\": 2, \"RENAL_CRONICA\": 1, \"TABAQUISMO\": 2, \"RESULTADO_LAB\": 97}, {\"SEXO\": 2, \"EDAD\": 21, \"NEUMONIA\": 1, \"DIABETES\": 2, \"EPOC\": 2, \"ASMA\": 2, \"INMUSUPR\": 2, \"HIPERTENSION\": 2, \"OTRA_COM\": 2, \"CARDIOVASCULAR\": 2, \"OBESIDAD\": 2, \"RENAL_CRONICA\": 2, \"TABAQUISMO\": 2, \"RESULTADO_LAB\": 1}]}\n"
          ]
        }
      ],
      "execution_count": 24,
      "metadata": {
        "gather": {
          "logged": 1620695136820
        },
        "jupyter": {
          "outputs_hidden": false,
          "source_hidden": false
        },
        "nteract": {
          "transient": {
            "deleting": false
          }
        }
      }
    },
    {
      "cell_type": "code",
      "source": [
        "import requests\r\n",
        "\r\n",
        "# Set the content type\r\n",
        "headers = {'Content-Type':'application/json', 'Authorization':('Bearer '+ service.get_keys()[0])}\r\n",
        "\r\n",
        "response = requests.post(service.scoring_uri, test_sample, headers=headers)\r\n",
        "print(response.text)\r\n",
        "print(objective_df)"
      ],
      "outputs": [
        {
          "output_type": "stream",
          "name": "stdout",
          "text": [
            "\"{\\\"result\\\": [2, 1, 2, 2, 1]}\"\n",
            "2862     2\n",
            "19451    1\n",
            "79363    2\n",
            "64269    2\n",
            "42854    2\n",
            "Name: UCI, dtype: int64\n"
          ]
        }
      ],
      "execution_count": 25,
      "metadata": {
        "collapsed": true,
        "jupyter": {
          "source_hidden": false,
          "outputs_hidden": false
        },
        "nteract": {
          "transient": {
            "deleting": false
          }
        },
        "gather": {
          "logged": 1620695140397
        }
      }
    },
    {
      "cell_type": "markdown",
      "source": [
        "## ONIX Model"
      ],
      "metadata": {
        "nteract": {
          "transient": {
            "deleting": false
          }
        }
      }
    },
    {
      "cell_type": "code",
      "source": [
        "from azureml.automl.runtime.onnx_convert import OnnxConverter\r\n",
        "\r\n",
        "automl_best_run_onnx, automl_fitted_model_onnx = remote_run.get_output(return_onnx_model=True)\r\n",
        "\r\n",
        "OnnxConverter.save_onnx_model(automl_fitted_model_onnx, './output/best_automl_model.onnx')"
      ],
      "outputs": [
        {
          "output_type": "error",
          "ename": "OnnxConvertException",
          "evalue": "OnnxConvertException:\n\tMessage: Requested an ONNX compatible model but the run has ONNX compatibility disabled.\n\tInnerException: None\n\tErrorResponse \n{\n    \"error\": {\n        \"code\": \"UserError\",\n        \"message\": \"Requested an ONNX compatible model but the run has ONNX compatibility disabled.\",\n        \"target\": \"onnx_compatible\",\n        \"inner_error\": {\n            \"code\": \"BadArgument\",\n            \"inner_error\": {\n                \"code\": \"ArgumentInvalid\"\n            }\n        }\n    }\n}",
          "traceback": [
            "\u001b[0;31m---------------------------------------------------------------------------\u001b[0m",
            "\u001b[0;31mOnnxConvertException\u001b[0m                      Traceback (most recent call last)",
            "\u001b[0;32m<ipython-input-26-1e769b7ddd3b>\u001b[0m in \u001b[0;36m<module>\u001b[0;34m\u001b[0m\n\u001b[1;32m      1\u001b[0m \u001b[0;32mfrom\u001b[0m \u001b[0mazureml\u001b[0m\u001b[0;34m.\u001b[0m\u001b[0mautoml\u001b[0m\u001b[0;34m.\u001b[0m\u001b[0mruntime\u001b[0m\u001b[0;34m.\u001b[0m\u001b[0monnx_convert\u001b[0m \u001b[0;32mimport\u001b[0m \u001b[0mOnnxConverter\u001b[0m\u001b[0;34m\u001b[0m\u001b[0;34m\u001b[0m\u001b[0m\n\u001b[1;32m      2\u001b[0m \u001b[0;34m\u001b[0m\u001b[0m\n\u001b[0;32m----> 3\u001b[0;31m \u001b[0mautoml_best_run_onnx\u001b[0m\u001b[0;34m,\u001b[0m \u001b[0mautoml_fitted_model_onnx\u001b[0m \u001b[0;34m=\u001b[0m \u001b[0mremote_run\u001b[0m\u001b[0;34m.\u001b[0m\u001b[0mget_output\u001b[0m\u001b[0;34m(\u001b[0m\u001b[0mreturn_onnx_model\u001b[0m\u001b[0;34m=\u001b[0m\u001b[0;32mTrue\u001b[0m\u001b[0;34m)\u001b[0m\u001b[0;34m\u001b[0m\u001b[0;34m\u001b[0m\u001b[0m\n\u001b[0m\u001b[1;32m      4\u001b[0m \u001b[0;34m\u001b[0m\u001b[0m\n\u001b[1;32m      5\u001b[0m \u001b[0mOnnxConverter\u001b[0m\u001b[0;34m.\u001b[0m\u001b[0msave_onnx_model\u001b[0m\u001b[0;34m(\u001b[0m\u001b[0mautoml_fitted_model_onnx\u001b[0m\u001b[0;34m,\u001b[0m \u001b[0;34m'./output/best_automl_model.onnx'\u001b[0m\u001b[0;34m)\u001b[0m\u001b[0;34m\u001b[0m\u001b[0;34m\u001b[0m\u001b[0m\n",
            "\u001b[0;32m/anaconda/envs/azureml_py36/lib/python3.6/site-packages/azureml/train/automl/run.py\u001b[0m in \u001b[0;36mget_output\u001b[0;34m(self, iteration, metric, return_onnx_model, return_split_onnx_model, **kwargs)\u001b[0m\n\u001b[1;32m    706\u001b[0m                     \u001b[0monnx_compatible\u001b[0m\u001b[0;34m=\u001b[0m\u001b[0mreturn_onnx_model\u001b[0m\u001b[0;34m,\u001b[0m\u001b[0;34m\u001b[0m\u001b[0;34m\u001b[0m\u001b[0m\n\u001b[1;32m    707\u001b[0m                     \u001b[0msplit_onnx_model_name\u001b[0m\u001b[0;34m=\u001b[0m\u001b[0mreturn_split_onnx_model\u001b[0m\u001b[0;34m,\u001b[0m\u001b[0;34m\u001b[0m\u001b[0;34m\u001b[0m\u001b[0m\n\u001b[0;32m--> 708\u001b[0;31m                     \u001b[0mactivity_name\u001b[0m\u001b[0;34m=\u001b[0m\u001b[0mautoml_shared_constants\u001b[0m\u001b[0;34m.\u001b[0m\u001b[0mTelemetryConstants\u001b[0m\u001b[0;34m.\u001b[0m\u001b[0mGET_OUTPUT\u001b[0m\u001b[0;34m\u001b[0m\u001b[0;34m\u001b[0m\u001b[0m\n\u001b[0m\u001b[1;32m    709\u001b[0m                 )\n\u001b[1;32m    710\u001b[0m \u001b[0;34m\u001b[0m\u001b[0m\n",
            "\u001b[0;32m/anaconda/envs/azureml_py36/lib/python3.6/site-packages/azureml/train/automl/run.py\u001b[0m in \u001b[0;36m_get_best_child_run\u001b[0;34m(self, iteration, metric, onnx_compatible, split_onnx_model_name, activity_name)\u001b[0m\n\u001b[1;32m    618\u001b[0m                         raise OnnxConvertException._with_error(\n\u001b[1;32m    619\u001b[0m                             AzureMLError.create(\n\u001b[0;32m--> 620\u001b[0;31m                                 OnnxNotEnabled, target=\"onnx_compatible\")\n\u001b[0m\u001b[1;32m    621\u001b[0m                         )\n\u001b[1;32m    622\u001b[0m                     \u001b[0;32mif\u001b[0m \u001b[0msplit_onnx_model_name\u001b[0m \u001b[0;32mand\u001b[0m \u001b[0;32mnot\u001b[0m \u001b[0mautoml_settings\u001b[0m\u001b[0;34m.\u001b[0m\u001b[0menable_split_onnx_featurizer_estimator_models\u001b[0m\u001b[0;34m:\u001b[0m\u001b[0;34m\u001b[0m\u001b[0;34m\u001b[0m\u001b[0m\n",
            "\u001b[0;31mOnnxConvertException\u001b[0m: OnnxConvertException:\n\tMessage: Requested an ONNX compatible model but the run has ONNX compatibility disabled.\n\tInnerException: None\n\tErrorResponse \n{\n    \"error\": {\n        \"code\": \"UserError\",\n        \"message\": \"Requested an ONNX compatible model but the run has ONNX compatibility disabled.\",\n        \"target\": \"onnx_compatible\",\n        \"inner_error\": {\n            \"code\": \"BadArgument\",\n            \"inner_error\": {\n                \"code\": \"ArgumentInvalid\"\n            }\n        }\n    }\n}"
          ]
        }
      ],
      "execution_count": 26,
      "metadata": {
        "collapsed": true,
        "jupyter": {
          "source_hidden": false,
          "outputs_hidden": false
        },
        "nteract": {
          "transient": {
            "deleting": false
          }
        }
      }
    },
    {
      "cell_type": "markdown",
      "source": [
        "## Logs of the web service\r\n",
        "\r\n",
        "In the cells below, we print the logs of the web service"
      ],
      "metadata": {
        "collapsed": true,
        "gather": {
          "logged": 1598432765711
        },
        "jupyter": {
          "outputs_hidden": false,
          "source_hidden": false
        },
        "nteract": {
          "transient": {
            "deleting": false
          }
        }
      }
    },
    {
      "cell_type": "code",
      "source": [
        "print(service.get_logs())"
      ],
      "outputs": [
        {
          "output_type": "stream",
          "name": "stdout",
          "text": [
            "2021-05-11T01:05:13,042549800+00:00 - gunicorn/run \n",
            "2021-05-11T01:05:13,051873800+00:00 - iot-server/run \n",
            "2021-05-11T01:05:13,064085200+00:00 - rsyslog/run \n",
            "2021-05-11T01:05:13,105365800+00:00 - nginx/run \n",
            "/usr/sbin/nginx: /azureml-envs/azureml_98cae94c606e3ceb655a787040a8a93c/lib/libcrypto.so.1.0.0: no version information available (required by /usr/sbin/nginx)\n",
            "/usr/sbin/nginx: /azureml-envs/azureml_98cae94c606e3ceb655a787040a8a93c/lib/libcrypto.so.1.0.0: no version information available (required by /usr/sbin/nginx)\n",
            "/usr/sbin/nginx: /azureml-envs/azureml_98cae94c606e3ceb655a787040a8a93c/lib/libssl.so.1.0.0: no version information available (required by /usr/sbin/nginx)\n",
            "/usr/sbin/nginx: /azureml-envs/azureml_98cae94c606e3ceb655a787040a8a93c/lib/libssl.so.1.0.0: no version information available (required by /usr/sbin/nginx)\n",
            "/usr/sbin/nginx: /azureml-envs/azureml_98cae94c606e3ceb655a787040a8a93c/lib/libssl.so.1.0.0: no version information available (required by /usr/sbin/nginx)\n",
            "rsyslogd: /azureml-envs/azureml_98cae94c606e3ceb655a787040a8a93c/lib/libuuid.so.1: no version information available (required by rsyslogd)\n",
            "EdgeHubConnectionString and IOTEDGE_IOTHUBHOSTNAME are not set. Exiting...\n",
            "2021-05-11T01:05:13,500633500+00:00 - iot-server/finish 1 0\n",
            "2021-05-11T01:05:13,506063100+00:00 - Exit code 1 is normal. Not restarting iot-server.\n",
            "Starting gunicorn 19.9.0\n",
            "Listening at: http://127.0.0.1:31311 (71)\n",
            "Using worker: sync\n",
            "worker timeout is set to 300\n",
            "Booting worker with pid: 97\n",
            "SPARK_HOME not set. Skipping PySpark Initialization.\n",
            "Generating new fontManager, this may take some time...\n",
            "Initializing logger\n",
            "2021-05-11 01:05:18,272 | root | INFO | Starting up app insights client\n",
            "2021-05-11 01:05:18,276 | root | INFO | Starting up request id generator\n",
            "2021-05-11 01:05:18,276 | root | INFO | Starting up app insight hooks\n",
            "2021-05-11 01:05:18,276 | root | INFO | Invoking user's init function\n",
            "2021-05-11 01:05:23,172 | azureml.core | WARNING | Failure while loading azureml_run_type_providers. Failed to load entrypoint automl = azureml.train.automl.run:AutoMLRun._from_run_dto with exception cannot import name 'RunType'.\n",
            "Failure while loading azureml_run_type_providers. Failed to load entrypoint automl = azureml.train.automl.run:AutoMLRun._from_run_dto with exception cannot import name 'RunType'.\n",
            "2021-05-11 01:05:23,735 | root | INFO | Users's init has completed successfully\n",
            "2021-05-11 01:05:23,742 | root | INFO | Skipping middleware: dbg_model_info as it's not enabled.\n",
            "2021-05-11 01:05:23,771 | root | INFO | Skipping middleware: dbg_resource_usage as it's not enabled.\n",
            "2021-05-11 01:05:23,775 | root | INFO | Scoring timeout is found from os.environ: 60000 ms\n",
            "2021-05-11 01:05:24,168 | root | INFO | 200\n",
            "127.0.0.1 - - [11/May/2021:01:05:24 +0000] \"GET /swagger.json HTTP/1.0\" 200 3094 \"-\" \"Go-http-client/1.1\"\n",
            "2021-05-11 01:05:28,189 | root | INFO | 200\n",
            "127.0.0.1 - - [11/May/2021:01:05:28 +0000] \"GET /swagger.json HTTP/1.0\" 200 3094 \"-\" \"Go-http-client/1.1\"\n",
            "2021-05-11 01:05:40,190 | root | INFO | Validation Request Content-Type\n",
            "2021-05-11 01:05:40,191 | root | INFO | Scoring Timer is set to 60.0 seconds\n",
            "2021-05-11 01:05:40,308 | root | INFO | 200\n",
            "127.0.0.1 - - [11/May/2021:01:05:40 +0000] \"POST /score HTTP/1.0\" 200 31 \"-\" \"python-requests/2.25.1\"\n",
            "\n"
          ]
        }
      ],
      "execution_count": 27,
      "metadata": {
        "jupyter": {
          "outputs_hidden": false,
          "source_hidden": false
        },
        "nteract": {
          "transient": {
            "deleting": false
          }
        },
        "gather": {
          "logged": 1620695168472
        }
      }
    },
    {
      "cell_type": "markdown",
      "source": [
        "Finally, we delete the service"
      ],
      "metadata": {
        "nteract": {
          "transient": {
            "deleting": false
          }
        }
      }
    },
    {
      "cell_type": "code",
      "source": [
        "service.delete()"
      ],
      "outputs": [],
      "execution_count": 28,
      "metadata": {
        "collapsed": true,
        "jupyter": {
          "source_hidden": false,
          "outputs_hidden": false
        },
        "nteract": {
          "transient": {
            "deleting": false
          }
        },
        "gather": {
          "logged": 1620695180123
        }
      }
    }
  ],
  "metadata": {
    "kernel_info": {
      "name": "python3-azureml"
    },
    "kernelspec": {
      "name": "python3-azureml",
      "language": "python",
      "display_name": "Python 3.6 - AzureML"
    },
    "language_info": {
      "name": "python",
      "version": "3.6.9",
      "mimetype": "text/x-python",
      "codemirror_mode": {
        "name": "ipython",
        "version": 3
      },
      "pygments_lexer": "ipython3",
      "nbconvert_exporter": "python",
      "file_extension": ".py"
    },
    "nteract": {
      "version": "nteract-front-end@1.0.0"
    },
    "microsoft": {
      "host": {
        "AzureML": {
          "notebookHasBeenCompleted": true
        }
      }
    },
    "metadata": {
      "interpreter": {
        "hash": "31f2aee4e71d21fbe5cf8b01ff0e069b9275f58929596ceb00d14d90e3e16cd6"
      }
    }
  },
  "nbformat": 4,
  "nbformat_minor": 2
}