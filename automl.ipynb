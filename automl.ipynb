{
  "cells": [
    {
      "cell_type": "markdown",
      "source": [
        "# Automated ML\n",
        "\n",
        "## Overview\n",
        "\n",
        "For this notebook we will be importing the dataset, creating an experiment, creating a compute cluster, cleanning and preprocessing the data before doing our train and test split, running the AutoML Experiment and selecting the best AutoML Model."
      ],
      "metadata": {}
    },
    {
      "cell_type": "markdown",
      "source": [
        "## Dependencies\n",
        "\n",
        "First we will be importing all the needed dependencies to complete the project.\n",
        "\n",
        "Warning: Install the `imblearn` library before running the rest of the notebook"
      ],
      "metadata": {
        "nteract": {
          "transient": {
            "deleting": false
          }
        }
      }
    },
    {
      "cell_type": "code",
      "source": [
        "pip install imblearn"
      ],
      "outputs": [
        {
          "output_type": "stream",
          "name": "stdout",
          "text": [
            "Requirement already satisfied: imblearn in /anaconda/envs/azureml_py38/lib/python3.8/site-packages (0.0)\n",
            "Requirement already satisfied: imbalanced-learn in /anaconda/envs/azureml_py38/lib/python3.8/site-packages (from imblearn) (0.8.0)\n",
            "Requirement already satisfied: scikit-learn>=0.24 in /anaconda/envs/azureml_py38/lib/python3.8/site-packages (from imbalanced-learn->imblearn) (0.24.2)\n",
            "Requirement already satisfied: joblib>=0.11 in /anaconda/envs/azureml_py38/lib/python3.8/site-packages (from imbalanced-learn->imblearn) (0.14.1)\n",
            "Requirement already satisfied: numpy>=1.13.3 in /anaconda/envs/azureml_py38/lib/python3.8/site-packages (from imbalanced-learn->imblearn) (1.18.5)\n",
            "Requirement already satisfied: scipy>=0.19.1 in /anaconda/envs/azureml_py38/lib/python3.8/site-packages (from imbalanced-learn->imblearn) (1.5.2)\n",
            "Requirement already satisfied: threadpoolctl>=2.0.0 in /anaconda/envs/azureml_py38/lib/python3.8/site-packages (from scikit-learn>=0.24->imbalanced-learn->imblearn) (2.1.0)\n",
            "Note: you may need to restart the kernel to use updated packages.\n"
          ]
        }
      ],
      "execution_count": 2,
      "metadata": {
        "collapsed": true,
        "jupyter": {
          "source_hidden": false,
          "outputs_hidden": false
        },
        "nteract": {
          "transient": {
            "deleting": false
          }
        },
        "gather": {
          "logged": 1620610889162
        }
      }
    },
    {
      "cell_type": "code",
      "source": [
        "import logging\n",
        "import os\n",
        "import csv\n",
        "\n",
        "from matplotlib import pyplot as plt\n",
        "import numpy as np\n",
        "import pandas as pd\n",
        "from sklearn import datasets\n",
        "import pkg_resources\n",
        "from imblearn.under_sampling import RandomUnderSampler\n",
        "from sklearn.model_selection import train_test_split\n",
        "\n",
        "import azureml.core\n",
        "from azureml.core.experiment import Experiment\n",
        "from azureml.core.workspace import Workspace\n",
        "\n",
        "from azureml.core.dataset import Dataset\n",
        "from azureml.core import Datastore\n",
        "from azureml.core.compute import ComputeTarget, AmlCompute\n",
        "from azureml.core.compute_target import ComputeTargetException\n",
        "\n",
        "from azureml.train.automl import AutoMLConfig\n",
        "\n",
        "from azureml.pipeline.steps import AutoMLStep\n",
        "\n",
        "from azureml.data.dataset_factory import TabularDatasetFactory\n",
        "\n",
        "\n",
        "# Check core SDK version number\n",
        "print(\"SDK version:\", azureml.core.VERSION)"
      ],
      "outputs": [
        {
          "output_type": "stream",
          "name": "stdout",
          "text": [
            "SDK version: 1.27.0\n"
          ]
        }
      ],
      "execution_count": 1,
      "metadata": {
        "gather": {
          "logged": 1620619118589
        },
        "jupyter": {
          "outputs_hidden": false,
          "source_hidden": false
        },
        "nteract": {
          "transient": {
            "deleting": false
          }
        }
      }
    },
    {
      "cell_type": "markdown",
      "source": [
        "## Workspace Configuration\n",
        "\n",
        "In this cell we import the workspace configuration and create an experiment that we will use later."
      ],
      "metadata": {}
    },
    {
      "cell_type": "code",
      "source": [
        "ws = Workspace.from_config()\n",
        "\n",
        "print('Workspace name: ' + ws.name, \n",
        "      'Azure region: ' + ws.location, \n",
        "      'Subscription id: ' + ws.subscription_id, \n",
        "      'Resource group: ' + ws.resource_group, sep = '\\n')\n",
        "\n",
        "# choose a name for experiment\n",
        "experiment_name = 'automlcovid'\n",
        "\n",
        "experiment=Experiment(ws, experiment_name)\n",
        "experiment"
      ],
      "outputs": [
        {
          "output_type": "stream",
          "name": "stdout",
          "text": [
            "Workspace name: quick-starts-ws-144339\n",
            "Azure region: southcentralus\n",
            "Subscription id: 9b72f9e6-56c5-4c16-991b-19c652994860\n",
            "Resource group: aml-quickstarts-144339\n"
          ]
        },
        {
          "output_type": "execute_result",
          "execution_count": 2,
          "data": {
            "text/plain": "Experiment(Name: automlcovid,\nWorkspace: quick-starts-ws-144339)",
            "text/html": "<table style=\"width:100%\"><tr><th>Name</th><th>Workspace</th><th>Report Page</th><th>Docs Page</th></tr><tr><td>automlcovid</td><td>quick-starts-ws-144339</td><td><a href=\"https://ml.azure.com/experiments/id/c13f55dc-d30a-458e-a073-56cb7a9ee877?wsid=/subscriptions/9b72f9e6-56c5-4c16-991b-19c652994860/resourcegroups/aml-quickstarts-144339/workspaces/quick-starts-ws-144339&amp;tid=660b3398-b80e-49d2-bc5b-ac1dc93b5254\" target=\"_blank\" rel=\"noopener\">Link to Azure Machine Learning studio</a></td><td><a href=\"https://docs.microsoft.com/en-us/python/api/azureml-core/azureml.core.experiment.Experiment?view=azure-ml-py\" target=\"_blank\" rel=\"noopener\">Link to Documentation</a></td></tr></table>"
          },
          "metadata": {}
        }
      ],
      "execution_count": 2,
      "metadata": {
        "gather": {
          "logged": 1620619122322
        },
        "jupyter": {
          "outputs_hidden": false,
          "source_hidden": false
        },
        "nteract": {
          "transient": {
            "deleting": false
          }
        }
      }
    },
    {
      "cell_type": "markdown",
      "source": [
        "## Compute Cluster creation\n",
        "In this cell a cpu cluster is created for running our experiments, it checks if a compute cluster with the same name exists, if it exists then uses it, if not it creates it.\n",
        "\n",
        "If the cluster does not exists we define the configuration for it. For this project we will be using `min_nodes = 1`, in your own project this will incurr in extra costs, so consider leaving it to 0."
      ],
      "metadata": {
        "nteract": {
          "transient": {
            "deleting": false
          }
        }
      }
    },
    {
      "cell_type": "code",
      "source": [
        "compute_cluster_name = \"cpu-cluster\"\n",
        "\n",
        "try:\n",
        "    compute_target = ComputeTarget(workspace=ws, name=compute_cluster_name)\n",
        "    print(\"Found existing compute cluster...\")\n",
        "except:\n",
        "    print(\"Creating new compute cluster...\")\n",
        "    compute_config = AmlCompute.provisioning_configuration(vm_size='STANDARD_D16s_V3', max_nodes=4, min_nodes=1)\n",
        "    compute_target = ComputeTarget.create(ws, compute_cluster_name, compute_config)\n",
        "    \n",
        "compute_target.wait_for_completion(show_output=True)\n",
        "print(\"Cluster details: \", compute_target.get_status().serialize())"
      ],
      "outputs": [
        {
          "output_type": "stream",
          "name": "stdout",
          "text": [
            "Found existing compute cluster...\n",
            "Succeeded\n",
            "AmlCompute wait for completion finished\n",
            "\n",
            "Minimum number of nodes requested have been provisioned\n",
            "Cluster details:  {'currentNodeCount': 4, 'targetNodeCount': 4, 'nodeStateCounts': {'preparingNodeCount': 0, 'runningNodeCount': 4, 'idleNodeCount': 0, 'unusableNodeCount': 0, 'leavingNodeCount': 0, 'preemptedNodeCount': 0}, 'allocationState': 'Steady', 'allocationStateTransitionTime': '2021-05-10T03:36:42.954000+00:00', 'errors': None, 'creationTime': '2021-05-10T01:43:20.670500+00:00', 'modifiedTime': '2021-05-10T01:43:36.013311+00:00', 'provisioningState': 'Succeeded', 'provisioningStateTransitionTime': None, 'scaleSettings': {'minNodeCount': 1, 'maxNodeCount': 4, 'nodeIdleTimeBeforeScaleDown': 'PT120S'}, 'vmPriority': 'Dedicated', 'vmSize': 'STANDARD_D16S_V3'}\n"
          ]
        }
      ],
      "execution_count": 3,
      "metadata": {
        "collapsed": true,
        "jupyter": {
          "source_hidden": false,
          "outputs_hidden": false
        },
        "nteract": {
          "transient": {
            "deleting": false
          }
        },
        "gather": {
          "logged": 1620619124261
        }
      }
    },
    {
      "cell_type": "markdown",
      "source": [
        "## Dataset\n",
        "\n",
        "### Overview\n",
        "We are going to use the Mexican Government's COVID-19 data, once it is uploaded to ML Studio we will consume it using TabularDataset.\n",
        "\n",
        "To consume the dataset we will import it from the Datastore tab in ML Studio, this is a blob storage, then we have to specify the location of the csv to import it.\n",
        "\n",
        "Once it's imported we will we creating a Pandas Dataframe that we will need later on."
      ],
      "metadata": {
        "nteract": {
          "transient": {
            "deleting": false
          }
        }
      }
    },
    {
      "cell_type": "code",
      "source": [
        "datastore = Datastore.get(ws,'workspaceblobstore')\n",
        "ds = TabularDatasetFactory.from_delimited_files(path=(datastore, 'UI/05-10-2021_013755_UTC/210509COVID19MEXICO.csv'))\n",
        "df = ds.to_pandas_dataframe()\n",
        "\n",
        "print(df)"
      ],
      "outputs": [
        {
          "output_type": "stream",
          "name": "stdout",
          "text": [
            "        FECHA_ACTUALIZACION ID_REGISTRO  ORIGEN  SECTOR  ENTIDAD_UM  SEXO  \\\n",
            "0                2021-05-09      z482b8       1      12           9     2   \n",
            "1                2021-05-09      z49a69       1      12          23     1   \n",
            "2                2021-05-09      z23d9d       1      12          22     2   \n",
            "3                2021-05-09      z24953       1      12           9     1   \n",
            "4                2021-05-09      zz8e77       1      12           9     2   \n",
            "...                     ...         ...     ...     ...         ...   ...   \n",
            "6757355          2021-05-09      6bd21b       2      12           9     1   \n",
            "6757356          2021-05-09      d0d932       2      12          12     1   \n",
            "6757357          2021-05-09      7ceaf8       2       4           9     1   \n",
            "6757358          2021-05-09      56cd1e       2       4           5     1   \n",
            "6757359          2021-05-09      cd3ffd       2       4          15     2   \n",
            "\n",
            "         ENTIDAD_NAC  ENTIDAD_RES  MUNICIPIO_RES  TIPO_PACIENTE  ...  \\\n",
            "0                  9            9             12              1  ...   \n",
            "1                 23           23              4              2  ...   \n",
            "2                 24           22              9              1  ...   \n",
            "3                  9            9             10              1  ...   \n",
            "4                  9            9              2              1  ...   \n",
            "...              ...          ...            ...            ...  ...   \n",
            "6757355           15            9             11              1  ...   \n",
            "6757356           12           12              1              1  ...   \n",
            "6757357            9            9              7              1  ...   \n",
            "6757358            5            5             27              1  ...   \n",
            "6757359           15           15            106              1  ...   \n",
            "\n",
            "        OTRO_CASO TOMA_MUESTRA_LAB RESULTADO_LAB  TOMA_MUESTRA_ANTIGENO  \\\n",
            "0               2                2            97                      2   \n",
            "1               1                2            97                      2   \n",
            "2               2                2            97                      2   \n",
            "3               1                1             2                      2   \n",
            "4               2                2            97                      2   \n",
            "...           ...              ...           ...                    ...   \n",
            "6757355         2                2            97                      1   \n",
            "6757356         1                2            97                      1   \n",
            "6757357         2                2            97                      1   \n",
            "6757358         1                2            97                      1   \n",
            "6757359         2                2            97                      1   \n",
            "\n",
            "         RESULTADO_ANTIGENO  CLASIFICACION_FINAL  MIGRANTE  PAIS_NACIONALIDAD  \\\n",
            "0                        97                    1        99             México   \n",
            "1                        97                    2        99             México   \n",
            "2                        97                    6        99             México   \n",
            "3                        97                    7        99             México   \n",
            "4                        97                    6        99             México   \n",
            "...                     ...                  ...       ...                ...   \n",
            "6757355                   2                    7        99             México   \n",
            "6757356                   2                    7        99             México   \n",
            "6757357                   2                    7        99             México   \n",
            "6757358                   2                    7        99             México   \n",
            "6757359                   2                    7        99             México   \n",
            "\n",
            "         PAIS_ORIGEN  UCI  \n",
            "0               97.0   97  \n",
            "1               97.0    1  \n",
            "2               97.0   97  \n",
            "3               97.0   97  \n",
            "4               97.0   97  \n",
            "...              ...  ...  \n",
            "6757355         97.0   97  \n",
            "6757356         97.0   97  \n",
            "6757357         97.0   97  \n",
            "6757358         97.0   97  \n",
            "6757359         97.0   97  \n",
            "\n",
            "[6757360 rows x 40 columns]\n"
          ]
        }
      ],
      "execution_count": 4,
      "metadata": {
        "collapsed": true,
        "jupyter": {
          "source_hidden": false,
          "outputs_hidden": false
        },
        "nteract": {
          "transient": {
            "deleting": false
          }
        },
        "gather": {
          "logged": 1620619146207
        }
      }
    },
    {
      "cell_type": "markdown",
      "source": [
        "### Data Preprocessing\n",
        "\n",
        "#### Cleaning\n",
        "The objective of our project is to create a model that can get if a patient with COVID-19 will enter into an Intensive Care Unit or not.\n",
        "\n",
        "The objective variable `UCI` has a lot of values that are 97, 98, or 99, which means that we don't know if the person is or was in a Intensive Care Unit, we only need the values 1 and 2, which means that the patient was or wasn't in an Intensive Care Unit, respectively.\n",
        "\n",
        "So the next step is to trim our dataset by removing the rows that have 97, 98 or 99, leaving only 'Yes'/'No' for our objective variable."
      ],
      "metadata": {
        "nteract": {
          "transient": {
            "deleting": false
          }
        }
      }
    },
    {
      "cell_type": "code",
      "source": [
        "arr_drop = [97,98,99]\r\n",
        "for element in arr_drop:\r\n",
        "    df.drop(df.loc[df['UCI']==element].index,inplace=True)\r\n",
        "\r\n",
        "print(df)\r\n",
        "print(\"--------------------------------------\")\r\n",
        "print(\"Classes count\")\r\n",
        "classes = pd.crosstab(index=df['UCI'],columns=\"count\")\r\n",
        "print(classes)\r\n"
      ],
      "outputs": [
        {
          "output_type": "stream",
          "name": "stdout",
          "text": [
            "        FECHA_ACTUALIZACION ID_REGISTRO  ORIGEN  SECTOR  ENTIDAD_UM  SEXO  \\\n",
            "1                2021-05-09      z49a69       1      12          23     1   \n",
            "16               2021-05-09      z166d5       1      12           1     1   \n",
            "21               2021-05-09      z388cd       1      12          29     2   \n",
            "22               2021-05-09      z4533d       1      12          29     1   \n",
            "27               2021-05-09      z4494e       1      12           8     1   \n",
            "...                     ...         ...     ...     ...         ...   ...   \n",
            "6757282          2021-05-09      4b89bb       1      12          22     2   \n",
            "6757292          2021-05-09      7efdce       1       4           9     2   \n",
            "6757308          2021-05-09      d45a16       1       4          19     1   \n",
            "6757320          2021-05-09      d3d30f       2       6          28     1   \n",
            "6757347          2021-05-09      a7f5d8       1      12          18     1   \n",
            "\n",
            "         ENTIDAD_NAC  ENTIDAD_RES  MUNICIPIO_RES  TIPO_PACIENTE  ...  \\\n",
            "1                 23           23              4              2  ...   \n",
            "16                 1            1              1              2  ...   \n",
            "21                15           21            117              2  ...   \n",
            "22                21           21            117              2  ...   \n",
            "27                 8            8             37              2  ...   \n",
            "...              ...          ...            ...            ...  ...   \n",
            "6757282           22           22             14              2  ...   \n",
            "6757292            9            9             10              2  ...   \n",
            "6757308           19           19             39              2  ...   \n",
            "6757320           28           28             27              2  ...   \n",
            "6757347           18           18             17              2  ...   \n",
            "\n",
            "        OTRO_CASO TOMA_MUESTRA_LAB RESULTADO_LAB  TOMA_MUESTRA_ANTIGENO  \\\n",
            "1               1                2            97                      2   \n",
            "16              2                1             1                      2   \n",
            "21              1                2            97                      2   \n",
            "22              2                2            97                      2   \n",
            "27              1                1             1                      2   \n",
            "...           ...              ...           ...                    ...   \n",
            "6757282         2                1             1                      2   \n",
            "6757292         2                2            97                      2   \n",
            "6757308         2                1             2                      2   \n",
            "6757320         2                1             3                      2   \n",
            "6757347         2                1             3                      2   \n",
            "\n",
            "         RESULTADO_ANTIGENO  CLASIFICACION_FINAL  MIGRANTE  PAIS_NACIONALIDAD  \\\n",
            "1                        97                    2        99             México   \n",
            "16                       97                    3        99             México   \n",
            "21                       97                    1        99             México   \n",
            "22                       97                    6        99             México   \n",
            "27                       97                    3        99             México   \n",
            "...                     ...                  ...       ...                ...   \n",
            "6757282                  97                    3        99             México   \n",
            "6757292                  97                    6        99             México   \n",
            "6757308                  97                    7        99             México   \n",
            "6757320                  97                    6        99             México   \n",
            "6757347                  97                    6        99             México   \n",
            "\n",
            "         PAIS_ORIGEN  UCI  \n",
            "1               97.0    1  \n",
            "16              97.0    2  \n",
            "21              97.0    2  \n",
            "22              97.0    2  \n",
            "27              97.0    2  \n",
            "...              ...  ...  \n",
            "6757282         97.0    2  \n",
            "6757292         97.0    2  \n",
            "6757308         97.0    2  \n",
            "6757320         97.0    1  \n",
            "6757347         97.0    2  \n",
            "\n",
            "[740781 rows x 40 columns]\n",
            "--------------------------------------\n",
            "Classes count\n",
            "col_0   count\n",
            "UCI          \n",
            "1       54892\n",
            "2      685889\n"
          ]
        }
      ],
      "execution_count": 5,
      "metadata": {
        "collapsed": true,
        "jupyter": {
          "source_hidden": false,
          "outputs_hidden": false
        },
        "nteract": {
          "transient": {
            "deleting": false
          }
        },
        "gather": {
          "logged": 1620619155236
        }
      }
    },
    {
      "cell_type": "markdown",
      "source": [
        "### Defining useful features\r\n",
        "As we defined in our task definition in the `README.md` file, we will use only the following features: `SEXO`, `EDAD`, `NEUMONIA`, `DIABETES`, `EPOC`, `ASMA`, `INMUSUPR`, `HIPERTENSION`, `OTRA_COM`, `CARDIOVASCULAR`, `OBESIDAD`, `RENAL_CRONICA`, `TABAQUISMO`, `RESULTADO_LAB`,"
      ],
      "metadata": {
        "nteract": {
          "transient": {
            "deleting": false
          }
        }
      }
    },
    {
      "cell_type": "code",
      "source": [
        "df = df[['SEXO', 'EDAD','NEUMONIA','DIABETES','EPOC','ASMA','INMUSUPR','HIPERTENSION','OTRA_COM','CARDIOVASCULAR','OBESIDAD','RENAL_CRONICA','TABAQUISMO','RESULTADO_LAB', 'UCI']]\r\n",
        "print(df)"
      ],
      "outputs": [
        {
          "output_type": "stream",
          "name": "stdout",
          "text": [
            "         SEXO  EDAD  NEUMONIA  DIABETES  EPOC  ASMA  INMUSUPR  HIPERTENSION  \\\n",
            "1           1    66         1         1     2     2         2             1   \n",
            "16          1    32         1         1     2     2         2             1   \n",
            "21          2    12         1         1     2     2         2             2   \n",
            "22          1    11         2         1     2     2         2             2   \n",
            "27          1    49         2         2     2     2         2             2   \n",
            "...       ...   ...       ...       ...   ...   ...       ...           ...   \n",
            "6757282     2    87         1         2     2     2         2             2   \n",
            "6757292     2    21         2         2     2     2         2             2   \n",
            "6757308     1    69         2         2     2     2         2             2   \n",
            "6757320     1    70         2         2     1     2         1             1   \n",
            "6757347     1    33         1         2     2     2         2             2   \n",
            "\n",
            "         OTRA_COM  CARDIOVASCULAR  OBESIDAD  RENAL_CRONICA  TABAQUISMO  \\\n",
            "1               2               2         1              2           2   \n",
            "16              2               2         2              2           2   \n",
            "21              2               2         2              2           2   \n",
            "22              2               2         1              2           2   \n",
            "27              2               2         2              2           2   \n",
            "...           ...             ...       ...            ...         ...   \n",
            "6757282         2               2         2              2           2   \n",
            "6757292         2               2         2              2           2   \n",
            "6757308         2               2         2              2           2   \n",
            "6757320         2               1         2              1           2   \n",
            "6757347         2               2         1              2           2   \n",
            "\n",
            "         RESULTADO_LAB  UCI  \n",
            "1                   97    1  \n",
            "16                   1    2  \n",
            "21                  97    2  \n",
            "22                  97    2  \n",
            "27                   1    2  \n",
            "...                ...  ...  \n",
            "6757282              1    2  \n",
            "6757292             97    2  \n",
            "6757308              2    2  \n",
            "6757320              3    1  \n",
            "6757347              3    2  \n",
            "\n",
            "[740781 rows x 15 columns]\n"
          ]
        }
      ],
      "execution_count": 6,
      "metadata": {
        "collapsed": true,
        "jupyter": {
          "source_hidden": false,
          "outputs_hidden": false
        },
        "nteract": {
          "transient": {
            "deleting": false
          }
        },
        "gather": {
          "logged": 1620619161658
        }
      }
    },
    {
      "cell_type": "markdown",
      "source": [
        "#### Handling dataset class imbalance\n",
        "\n",
        "As we can see, the rows with 1 (Yes) in the `UCI` column are a lot less than the 2 (No). we can send the dataset to training like this, but we will get a \"Class balancing warning\" alert in Azure ML, so we are going to fix it.\n",
        "\n",
        "The next step in our data preprocessing is to balance the dataset. We will need the `imblearn` library that we installed before, and we will need to divide our dataframe in X and y to use the \"RandomUnderSampler\" method.\n",
        "\n",
        "`y` has only the column `UCI` column, and `X` the rest of the columns, as we already defined the features we wanted in the previous cell"
      ],
      "metadata": {
        "nteract": {
          "transient": {
            "deleting": false
          }
        }
      }
    },
    {
      "cell_type": "code",
      "source": [
        "y = df['UCI']\n",
        "X = df.drop('UCI',1)\n",
        "\n",
        "rus = RandomUnderSampler(random_state = 42)\n",
        "X_resampled, y_resampled = rus.fit_resample(X,y)\n",
        "print(X_resampled)\n",
        "print(\"-------\")\n",
        "print(y_resampled)"
      ],
      "outputs": [
        {
          "output_type": "stream",
          "name": "stdout",
          "text": [
            "        SEXO  EDAD  NEUMONIA  DIABETES  EPOC  ASMA  INMUSUPR  HIPERTENSION  \\\n",
            "0          1    66         1         1     2     2         2             1   \n",
            "1          2    60         1         1     2     2         2             2   \n",
            "2          1    80         1         1     2     2         2             1   \n",
            "3          1     5         1         2     2     2         2             2   \n",
            "4          1    58         1         2     2     2         2             2   \n",
            "...      ...   ...       ...       ...   ...   ...       ...           ...   \n",
            "109779     2    15         2         2     2     2         2             2   \n",
            "109780     2    86         2         2     2     2         2             1   \n",
            "109781     2    61         1         1     2     2         2             1   \n",
            "109782     2    63         1         2     2     2         2             1   \n",
            "109783     1    49         1         2     2     2         2             2   \n",
            "\n",
            "        OTRA_COM  CARDIOVASCULAR  OBESIDAD  RENAL_CRONICA  TABAQUISMO  \\\n",
            "0              2               2         1              2           2   \n",
            "1              2               2         2              2           2   \n",
            "2              2               2         1              2           2   \n",
            "3              2               2         2              2           2   \n",
            "4              2               2         2              2           2   \n",
            "...          ...             ...       ...            ...         ...   \n",
            "109779         1               2         2              2           2   \n",
            "109780         2               2         2              2           2   \n",
            "109781         2               2         2              2           2   \n",
            "109782         2               2         1              2           2   \n",
            "109783         2               2         2              2           2   \n",
            "\n",
            "        RESULTADO_LAB  \n",
            "0                  97  \n",
            "1                   1  \n",
            "2                   4  \n",
            "3                  97  \n",
            "4                   2  \n",
            "...               ...  \n",
            "109779              2  \n",
            "109780             97  \n",
            "109781              4  \n",
            "109782              1  \n",
            "109783              1  \n",
            "\n",
            "[109784 rows x 14 columns]\n",
            "-------\n",
            "0         1\n",
            "1         1\n",
            "2         1\n",
            "3         1\n",
            "4         1\n",
            "         ..\n",
            "109779    2\n",
            "109780    2\n",
            "109781    2\n",
            "109782    2\n",
            "109783    2\n",
            "Name: UCI, Length: 109784, dtype: int64\n"
          ]
        }
      ],
      "execution_count": 7,
      "metadata": {
        "collapsed": true,
        "jupyter": {
          "source_hidden": false,
          "outputs_hidden": false
        },
        "nteract": {
          "transient": {
            "deleting": false
          }
        },
        "gather": {
          "logged": 1620619176623
        }
      }
    },
    {
      "cell_type": "markdown",
      "source": [
        "### Train/test split\r\n",
        "\r\n",
        "Now that we have our balanced data, we will divide X and y between train and test"
      ],
      "metadata": {
        "nteract": {
          "transient": {
            "deleting": false
          }
        }
      }
    },
    {
      "cell_type": "code",
      "source": [
        "x_train, x_test, y_train, y_test = train_test_split(X_resampled,y_resampled,test_size = 0.2, random_state = 42)\n",
        "\n",
        "train_data = pd.concat([x_train,y_train],axis=1)\n",
        "\n",
        "print(train_data)\n",
        "\n",
        "print(\"Validating that we have balanced data for training.\")\n",
        "classes = pd.crosstab(index=train_data['UCI'],columns=\"count\")\n",
        "print(classes)"
      ],
      "outputs": [
        {
          "output_type": "stream",
          "name": "stdout",
          "text": [
            "        SEXO  EDAD  NEUMONIA  DIABETES  EPOC  ASMA  INMUSUPR  HIPERTENSION  \\\n",
            "29634      1    23         1         2     2     2         2             2   \n",
            "106415     2    74         1         1     2     2         2             1   \n",
            "78580      1    71         2         1     2     2         2             1   \n",
            "45877      2    34         1         2     2     2         2             2   \n",
            "524        2    33         1         2     2     2         2             2   \n",
            "...      ...   ...       ...       ...   ...   ...       ...           ...   \n",
            "54886      1    49         2         2     2     2         2             1   \n",
            "76820      2    63         2         2     2     2         2             2   \n",
            "103694     2    56         2         1     2     2         2             1   \n",
            "860        2    46         1         2     2     2         2             2   \n",
            "15795      2    32         2         2     2     2         2             2   \n",
            "\n",
            "        OTRA_COM  CARDIOVASCULAR  OBESIDAD  RENAL_CRONICA  TABAQUISMO  \\\n",
            "29634          2               2         2              2           2   \n",
            "106415         2               1         2              2           1   \n",
            "78580          2               2         2              2           2   \n",
            "45877          2               2         2              2           2   \n",
            "524            2               2         2              2           2   \n",
            "...          ...             ...       ...            ...         ...   \n",
            "54886          2               2         2              2           2   \n",
            "76820          2               2         2              2           2   \n",
            "103694         2               2         2              1           2   \n",
            "860            2               2         2              2           2   \n",
            "15795          2               2         1              2           2   \n",
            "\n",
            "        RESULTADO_LAB  UCI  \n",
            "29634               1    1  \n",
            "106415              2    2  \n",
            "78580              97    2  \n",
            "45877               1    1  \n",
            "524                 1    1  \n",
            "...               ...  ...  \n",
            "54886               2    1  \n",
            "76820              97    2  \n",
            "103694              4    2  \n",
            "860                 1    1  \n",
            "15795               1    1  \n",
            "\n",
            "[87827 rows x 15 columns]\n",
            "Validating that we have balanced data for training.\n",
            "col_0  count\n",
            "UCI         \n",
            "1      43805\n",
            "2      44022\n"
          ]
        }
      ],
      "execution_count": 11,
      "metadata": {
        "collapsed": true,
        "jupyter": {
          "source_hidden": false,
          "outputs_hidden": false
        },
        "nteract": {
          "transient": {
            "deleting": false
          }
        },
        "gather": {
          "logged": 1620619498051
        }
      }
    },
    {
      "cell_type": "markdown",
      "source": [
        "### Converting Train Data to Tabular Dataset\r\n",
        "Since the train data is in the pandas Dataframe format, we have to convert it to Tabular Dataset to be used in AutoML\r\n",
        "\r\n",
        "Warning: don't forget to drop the dataframe index, as the csv creates another index, and it will confuse our model."
      ],
      "metadata": {
        "nteract": {
          "transient": {
            "deleting": false
          }
        }
      }
    },
    {
      "cell_type": "code",
      "source": [
        "#Convert train_data (Which are in pandas DataFrame format) to TabularDataset format.\r\n",
        "try:\r\n",
        "    os.makedirs('./data', exist_ok=True)\r\n",
        "except OSError as error:\r\n",
        "    print('New directory cannot be created')\r\n",
        "    \r\n",
        "path = 'data/traindata.csv'\r\n",
        "train_data.to_csv(path, index= False)\r\n",
        "\r\n",
        "datastore = ws.get_default_datastore()\r\n",
        "datastore.upload(src_dir='data', target_path='data')\r\n",
        "\r\n",
        "train_data = TabularDatasetFactory.from_delimited_files(path=[(datastore, ('data/traindata.csv'))])\r\n",
        "print(\"Successfully converted the dataset to TabularDataset format.\")\r\n",
        "print(type(train_data))"
      ],
      "outputs": [
        {
          "output_type": "stream",
          "name": "stdout",
          "text": [
            "Uploading an estimated of 5 files\n",
            "Target already exists. Skipping upload for data/train.csv\n",
            "Target already exists. Skipping upload for data/train2.csv\n",
            "Target already exists. Skipping upload for data/train3.csv\n",
            "Target already exists. Skipping upload for data/trainBalanced.csv\n",
            "Uploading data/traindata.csv\n",
            "Uploaded data/traindata.csv, 1 files out of an estimated total of 1\n",
            "Uploaded 1 files\n",
            "Successfully converted the dataset to TabularDataset format.\n",
            "<class 'azureml.data.tabular_dataset.TabularDataset'>\n"
          ]
        }
      ],
      "execution_count": 12,
      "metadata": {
        "collapsed": true,
        "jupyter": {
          "source_hidden": false,
          "outputs_hidden": false
        },
        "nteract": {
          "transient": {
            "deleting": false
          }
        },
        "gather": {
          "logged": 1620619541339
        }
      }
    },
    {
      "cell_type": "markdown",
      "source": [
        "## AutoML Configuration\n",
        "\n",
        "TODO: Explain why you chose the automl settings and cofiguration you used below.\n",
        "\n",
        "Since I was dealing with a large dataset, I needed to give more time to the experiment_timeout_minutes, that's why it's set to 1 hour."
      ],
      "metadata": {}
    },
    {
      "cell_type": "code",
      "source": [
        "# TODO: Put your automl settings here\n",
        "automl_settings = {\n",
        "    \"experiment_timeout_minutes\": 60,\n",
        "    \"max_concurrent_iterations\": 5,\n",
        "    \"primary_metric\" : 'accuracy'\n",
        "}\n",
        "\n",
        "# TODO: Put your automl config here\n",
        "automl_config = AutoMLConfig(\n",
        "    compute_target=compute_target,\n",
        "    task = \"classification\",\n",
        "    training_data=train_data,\n",
        "    label_column_name='UCI',   \n",
        "    enable_early_stopping= True,\n",
        "    featurization= 'auto',\n",
        "    debug_log = \"automl_errors.log\",\n",
        "    **automl_settings\n",
        ")"
      ],
      "outputs": [],
      "execution_count": 15,
      "metadata": {
        "gather": {
          "logged": 1620620087165
        },
        "jupyter": {
          "outputs_hidden": false,
          "source_hidden": false
        },
        "nteract": {
          "transient": {
            "deleting": false
          }
        }
      }
    },
    {
      "cell_type": "markdown",
      "source": [
        "## Submit the experiment\n",
        "In this cell we submit the experiment, with `show_output = True` to see the run logs in real time"
      ],
      "metadata": {}
    },
    {
      "cell_type": "code",
      "source": [
        "#Submit the experiment\n",
        "remote_run = experiment.submit(automl_config, show_output = True)"
      ],
      "outputs": [
        {
          "output_type": "stream",
          "name": "stdout",
          "text": [
            "Submitting remote run.\n",
            "No run_configuration provided, running on cpu-cluster with default configuration\n",
            "Running on remote compute: cpu-cluster\n"
          ]
        },
        {
          "output_type": "display_data",
          "data": {
            "text/plain": "<IPython.core.display.HTML object>",
            "text/html": "<table style=\"width:100%\"><tr><th>Experiment</th><th>Id</th><th>Type</th><th>Status</th><th>Details Page</th><th>Docs Page</th></tr><tr><td>automlcovid</td><td>AutoML_de361d0a-2f6f-4000-90b9-4cd588c5c22f</td><td>automl</td><td>NotStarted</td><td><a href=\"https://ml.azure.com/runs/AutoML_de361d0a-2f6f-4000-90b9-4cd588c5c22f?wsid=/subscriptions/9b72f9e6-56c5-4c16-991b-19c652994860/resourcegroups/aml-quickstarts-144339/workspaces/quick-starts-ws-144339&amp;tid=660b3398-b80e-49d2-bc5b-ac1dc93b5254\" target=\"_blank\" rel=\"noopener\">Link to Azure Machine Learning studio</a></td><td><a href=\"https://docs.microsoft.com/en-us/python/api/overview/azure/ml/intro?view=azure-ml-py\" target=\"_blank\" rel=\"noopener\">Link to Documentation</a></td></tr></table>"
          },
          "metadata": {}
        },
        {
          "output_type": "stream",
          "name": "stdout",
          "text": [
            "\n",
            "Current status: FeaturesGeneration. Generating features for the dataset.\n",
            "Current status: DatasetFeaturization. Beginning to fit featurizers and featurize the dataset.\n",
            "Current status: ModelSelection. Beginning model selection.\n",
            "\n",
            "****************************************************************************************************\n",
            "DATA GUARDRAILS: \n",
            "\n",
            "TYPE:         Train-Test data split\n",
            "STATUS:       DONE\n",
            "DESCRIPTION:  Your input data has been split into a training dataset and a holdout test dataset for validation of the model. The test holdout dataset reflects the original distribution of your input data.\n",
            "              \n",
            "DETAILS:      \n",
            "+---------------------------------+---------------------------------+---------------------------------+\n",
            "|Dataset                          |Row counts                       |Percentage                       |\n",
            "+=================================+=================================+=================================+\n",
            "|train                            |79044                            |89.99965841939267                |\n",
            "|test                             |8783                             |10.00034158060733                |\n",
            "+---------------------------------+---------------------------------+---------------------------------+\n",
            "\n",
            "****************************************************************************************************\n",
            "\n",
            "TYPE:         Class balancing detection\n",
            "STATUS:       PASSED\n",
            "DESCRIPTION:  Your inputs were analyzed, and all classes are balanced in your training data.\n",
            "              Learn more about imbalanced data: https://aka.ms/AutomatedMLImbalancedData\n",
            "\n",
            "****************************************************************************************************\n",
            "\n",
            "TYPE:         Missing feature values imputation\n",
            "STATUS:       PASSED\n",
            "DESCRIPTION:  No feature missing values were detected in the training data.\n",
            "              Learn more about missing value imputation: https://aka.ms/AutomatedMLFeaturization\n",
            "\n",
            "****************************************************************************************************\n",
            "\n",
            "TYPE:         High cardinality feature detection\n",
            "STATUS:       PASSED\n",
            "DESCRIPTION:  Your inputs were analyzed, and no high cardinality features were detected.\n",
            "              Learn more about high cardinality feature handling: https://aka.ms/AutomatedMLFeaturization\n",
            "\n",
            "****************************************************************************************************\n",
            "\n",
            "****************************************************************************************************\n",
            "ITERATION: The iteration being evaluated.\n",
            "PIPELINE: A summary description of the pipeline being evaluated.\n",
            "DURATION: Time taken for the current iteration.\n",
            "METRIC: The result of computing score on the fitted pipeline.\n",
            "BEST: The best observed score thus far.\n",
            "****************************************************************************************************\n",
            "\n",
            " ITERATION   PIPELINE                                       DURATION      METRIC      BEST\n",
            "         0   MaxAbsScaler LightGBM                          0:00:47       0.6399    0.6399\n",
            "         4   MaxAbsScaler RandomForest                      0:00:51       0.6402    0.6402\n",
            "         1   MaxAbsScaler XGBoostClassifier                 0:00:56       0.6409    0.6409\n",
            "         2   MaxAbsScaler RandomForest                      0:00:46       0.6379    0.6409\n",
            "         3   MaxAbsScaler RandomForest                      0:01:33       0.6235    0.6409\n",
            "         6   StandardScalerWrapper XGBoostClassifier        0:01:46       0.6371    0.6409\n",
            "         5   MaxAbsScaler RandomForest                      0:01:52       0.6368    0.6409\n",
            "         8   SparseNormalizer XGBoostClassifier             0:00:54       0.6384    0.6409\n",
            "         9   SparseNormalizer XGBoostClassifier             0:00:55       0.6383    0.6409\n",
            "        10   SparseNormalizer XGBoostClassifier             0:00:51       0.6391    0.6409\n",
            "         7   MaxAbsScaler RandomForest                      0:02:11       0.6384    0.6409\n",
            "        11   SparseNormalizer XGBoostClassifier             0:00:52       0.6382    0.6409\n",
            "        12   MaxAbsScaler RandomForest                      0:00:51       0.6310    0.6409\n",
            "        13   MaxAbsScaler LightGBM                          0:00:48       0.6365    0.6409\n",
            "        14   MaxAbsScaler LightGBM                          0:00:52       0.6360    0.6409\n",
            "        16   MaxAbsScaler LightGBM                          0:00:42       0.6381    0.6409\n",
            "        18   SparseNormalizer XGBoostClassifier             0:00:47       0.6387    0.6409\n",
            "        15   MaxAbsScaler ExtremeRandomTrees                0:01:24       0.6280    0.6409\n",
            "        17   MaxAbsScaler ExtremeRandomTrees                0:01:39       0.6310    0.6409\n",
            "        19   MaxAbsScaler RandomForest                      0:00:51       0.6297    0.6409\n",
            "        20   MaxAbsScaler LightGBM                          0:00:45       0.6279    0.6409\n",
            "        21   StandardScalerWrapper LightGBM                 0:00:49       0.6330    0.6409\n",
            "        22   SparseNormalizer LightGBM                      0:00:43       0.6281    0.6409\n",
            "        24   StandardScalerWrapper LightGBM                 0:00:46       0.6283    0.6409\n",
            "        25   StandardScalerWrapper XGBoostClassifier        0:00:44       0.5012    0.6409\n",
            "        23   MaxAbsScaler ExtremeRandomTrees                0:01:20       0.6318    0.6409\n",
            "        26   MaxAbsScaler ExtremeRandomTrees                0:00:52       0.6279    0.6409\n",
            "        27   SparseNormalizer LightGBM                      0:00:48       0.6321    0.6409\n",
            "        28   MaxAbsScaler LogisticRegression                0:00:48       0.6403    0.6409\n",
            "        29   MaxAbsScaler LogisticRegression                0:00:54       0.6403    0.6409\n",
            "        30   SparseNormalizer XGBoostClassifier             0:01:01       0.6359    0.6409\n",
            "        31   MaxAbsScaler LogisticRegression                0:00:54       0.6403    0.6409\n",
            "        32   MaxAbsScaler LogisticRegression                0:00:50       0.6403    0.6409\n",
            "        33   MaxAbsScaler LogisticRegression                0:00:51       0.6396    0.6409\n",
            "        34   StandardScalerWrapper XGBoostClassifier        0:00:26          nan    0.6409\n",
            "        35   SparseNormalizer XGBoostClassifier             0:00:21          nan    0.6409\n",
            "        36                                                  0:00:34          nan    0.6409\n",
            "        37                                                  0:00:15          nan    0.6409\n",
            "        38    VotingEnsemble                                0:00:59       0.6420    0.6420\n",
            "        39    StackEnsemble                                 0:01:32       0.6399    0.6420\n"
          ]
        }
      ],
      "execution_count": 17,
      "metadata": {
        "gather": {
          "logged": 1620621245591
        },
        "jupyter": {
          "outputs_hidden": false,
          "source_hidden": false
        },
        "nteract": {
          "transient": {
            "deleting": false
          }
        }
      }
    },
    {
      "cell_type": "markdown",
      "source": [
        "## Run Details\r\n",
        "With the `RunDetails` widget we can see that the run is completed."
      ],
      "metadata": {
        "nteract": {
          "transient": {
            "deleting": false
          }
        }
      }
    },
    {
      "cell_type": "code",
      "source": [
        "from azureml.widgets import RunDetails\r\n",
        "RunDetails(remote_run).show()"
      ],
      "outputs": [
        {
          "output_type": "display_data",
          "data": {
            "text/plain": "_AutoMLWidget(widget_settings={'childWidgetDisplay': 'popup', 'send_telemetry': False, 'log_level': 'INFO', 's…",
            "application/vnd.jupyter.widget-view+json": {
              "version_major": 2,
              "version_minor": 0,
              "model_id": "e884fee8c09348b894ccfb4146733d12"
            }
          },
          "metadata": {}
        },
        {
          "output_type": "display_data",
          "data": {
            "application/aml.mini.widget.v1": "{\"status\": \"Completed\", \"workbench_run_details_uri\": \"https://ml.azure.com/runs/AutoML_de361d0a-2f6f-4000-90b9-4cd588c5c22f?wsid=/subscriptions/9b72f9e6-56c5-4c16-991b-19c652994860/resourcegroups/aml-quickstarts-144339/workspaces/quick-starts-ws-144339&tid=660b3398-b80e-49d2-bc5b-ac1dc93b5254\", \"run_id\": \"AutoML_de361d0a-2f6f-4000-90b9-4cd588c5c22f\", \"run_properties\": {\"run_id\": \"AutoML_de361d0a-2f6f-4000-90b9-4cd588c5c22f\", \"created_utc\": \"2021-05-10T04:15:24.822326Z\", \"properties\": {\"num_iterations\": \"1000\", \"training_type\": \"TrainFull\", \"acquisition_function\": \"EI\", \"primary_metric\": \"accuracy\", \"train_split\": \"0\", \"acquisition_parameter\": \"0\", \"num_cross_validation\": null, \"target\": \"cpu-cluster\", \"AMLSettingsJsonString\": \"{\\\"path\\\":null,\\\"name\\\":\\\"automlcovid\\\",\\\"subscription_id\\\":\\\"9b72f9e6-56c5-4c16-991b-19c652994860\\\",\\\"resource_group\\\":\\\"aml-quickstarts-144339\\\",\\\"workspace_name\\\":\\\"quick-starts-ws-144339\\\",\\\"region\\\":\\\"southcentralus\\\",\\\"compute_target\\\":\\\"cpu-cluster\\\",\\\"spark_service\\\":null,\\\"azure_service\\\":\\\"remote\\\",\\\"many_models\\\":false,\\\"pipeline_fetch_max_batch_size\\\":1,\\\"enable_batch_run\\\":false,\\\"enable_run_restructure\\\":false,\\\"start_auxiliary_runs_before_parent_complete\\\":false,\\\"iterations\\\":1000,\\\"primary_metric\\\":\\\"accuracy\\\",\\\"task_type\\\":\\\"classification\\\",\\\"data_script\\\":null,\\\"test_size\\\":0.0,\\\"validation_size\\\":0.0,\\\"n_cross_validations\\\":null,\\\"y_min\\\":null,\\\"y_max\\\":null,\\\"num_classes\\\":null,\\\"featurization\\\":\\\"auto\\\",\\\"_ignore_package_version_incompatibilities\\\":false,\\\"is_timeseries\\\":false,\\\"max_cores_per_iteration\\\":1,\\\"max_concurrent_iterations\\\":5,\\\"iteration_timeout_minutes\\\":null,\\\"mem_in_mb\\\":null,\\\"enforce_time_on_windows\\\":false,\\\"experiment_timeout_minutes\\\":60,\\\"experiment_exit_score\\\":null,\\\"whitelist_models\\\":null,\\\"blacklist_algos\\\":[\\\"TensorFlowLinearClassifier\\\",\\\"TensorFlowDNN\\\"],\\\"supported_models\\\":[\\\"TensorFlowLinearClassifier\\\",\\\"LogisticRegression\\\",\\\"TensorFlowDNN\\\",\\\"SVM\\\",\\\"DecisionTree\\\",\\\"LightGBM\\\",\\\"GradientBoosting\\\",\\\"LinearSVM\\\",\\\"RandomForest\\\",\\\"KNN\\\",\\\"ExtremeRandomTrees\\\",\\\"MultinomialNaiveBayes\\\",\\\"BernoulliNaiveBayes\\\",\\\"SGD\\\",\\\"AveragedPerceptronClassifier\\\",\\\"XGBoostClassifier\\\"],\\\"private_models\\\":[],\\\"auto_blacklist\\\":true,\\\"blacklist_samples_reached\\\":false,\\\"exclude_nan_labels\\\":true,\\\"verbosity\\\":20,\\\"_debug_log\\\":\\\"azureml_automl.log\\\",\\\"show_warnings\\\":false,\\\"model_explainability\\\":true,\\\"service_url\\\":null,\\\"sdk_url\\\":null,\\\"sdk_packages\\\":null,\\\"enable_onnx_compatible_models\\\":false,\\\"enable_split_onnx_featurizer_estimator_models\\\":false,\\\"vm_type\\\":\\\"STANDARD_D16S_V3\\\",\\\"telemetry_verbosity\\\":20,\\\"send_telemetry\\\":true,\\\"enable_dnn\\\":false,\\\"scenario\\\":\\\"SDK-1.13.0\\\",\\\"environment_label\\\":null,\\\"save_mlflow\\\":false,\\\"force_text_dnn\\\":false,\\\"enable_feature_sweeping\\\":true,\\\"enable_early_stopping\\\":true,\\\"early_stopping_n_iters\\\":10,\\\"metrics\\\":null,\\\"enable_metric_confidence\\\":false,\\\"enable_ensembling\\\":true,\\\"enable_stack_ensembling\\\":true,\\\"ensemble_iterations\\\":15,\\\"enable_tf\\\":false,\\\"enable_subsampling\\\":null,\\\"subsample_seed\\\":null,\\\"enable_nimbusml\\\":false,\\\"enable_streaming\\\":false,\\\"force_streaming\\\":false,\\\"track_child_runs\\\":true,\\\"allowed_private_models\\\":[],\\\"label_column_name\\\":\\\"UCI\\\",\\\"weight_column_name\\\":null,\\\"cv_split_column_names\\\":null,\\\"enable_local_managed\\\":false,\\\"_local_managed_run_id\\\":null,\\\"cost_mode\\\":1,\\\"lag_length\\\":0,\\\"metric_operation\\\":\\\"maximize\\\",\\\"preprocess\\\":true}\", \"DataPrepJsonString\": \"{\\\\\\\"training_data\\\\\\\": {\\\\\\\"datasetId\\\\\\\": \\\\\\\"ad339109-b806-4ba0-8707-138b50386b7c\\\\\\\"}, \\\\\\\"datasets\\\\\\\": 0}\", \"EnableSubsampling\": null, \"runTemplate\": \"AutoML\", \"azureml.runsource\": \"automl\", \"display_task_type\": \"classification\", \"dependencies_versions\": \"{\\\"azureml-widgets\\\": \\\"1.27.0\\\", \\\"azureml-train\\\": \\\"1.27.0\\\", \\\"azureml-train-restclients-hyperdrive\\\": \\\"1.27.0\\\", \\\"azureml-train-core\\\": \\\"1.27.0\\\", \\\"azureml-train-automl-client\\\": \\\"1.27.0\\\", \\\"azureml-tensorboard\\\": \\\"1.27.0\\\", \\\"azureml-telemetry\\\": \\\"1.27.0\\\", \\\"azureml-sdk\\\": \\\"1.27.0\\\", \\\"azureml-pipeline\\\": \\\"1.27.0\\\", \\\"azureml-pipeline-steps\\\": \\\"1.27.0\\\", \\\"azureml-pipeline-core\\\": \\\"1.27.0\\\", \\\"azureml-opendatasets\\\": \\\"1.27.0\\\", \\\"azureml-model-management-sdk\\\": \\\"1.0.1b6.post1\\\", \\\"azureml-mlflow\\\": \\\"1.27.0\\\", \\\"azureml-interpret\\\": \\\"1.27.0\\\", \\\"azureml-explain-model\\\": \\\"1.27.0\\\", \\\"azureml-defaults\\\": \\\"1.27.0\\\", \\\"azureml-dataset-runtime\\\": \\\"1.27.0\\\", \\\"azureml-dataprep\\\": \\\"2.14.2\\\", \\\"azureml-dataprep-rslex\\\": \\\"1.12.1\\\", \\\"azureml-dataprep-native\\\": \\\"33.0.0\\\", \\\"azureml-datadrift\\\": \\\"1.27.0\\\", \\\"azureml-core\\\": \\\"1.27.0\\\", \\\"azureml-contrib-services\\\": \\\"1.27.0\\\", \\\"azureml-contrib-server\\\": \\\"1.27.0\\\", \\\"azureml-contrib-reinforcementlearning\\\": \\\"1.27.0\\\", \\\"azureml-contrib-pipeline-steps\\\": \\\"1.27.0\\\", \\\"azureml-contrib-notebook\\\": \\\"1.27.0\\\", \\\"azureml-contrib-gbdt\\\": \\\"1.27.0\\\", \\\"azureml-contrib-fairness\\\": \\\"1.27.0\\\", \\\"azureml-contrib-dataset\\\": \\\"1.27.0\\\", \\\"azureml-cli-common\\\": \\\"1.27.0\\\", \\\"azureml-automl-core\\\": \\\"1.27.0\\\", \\\"azureml-accel-models\\\": \\\"1.27.0\\\"}\", \"_aml_system_scenario_identification\": \"Remote.Parent\", \"ClientType\": \"SDK\", \"environment_cpu_name\": \"AzureML-AutoML\", \"environment_cpu_label\": \"prod\", \"environment_gpu_name\": \"AzureML-AutoML-GPU\", \"environment_gpu_label\": \"prod\", \"root_attribution\": \"automl\", \"attribution\": \"AutoML\", \"Orchestrator\": \"AutoML\", \"CancelUri\": \"https://southcentralus.api.azureml.ms/jasmine/v1.0/subscriptions/9b72f9e6-56c5-4c16-991b-19c652994860/resourceGroups/aml-quickstarts-144339/providers/Microsoft.MachineLearningServices/workspaces/quick-starts-ws-144339/experimentids/c13f55dc-d30a-458e-a073-56cb7a9ee877/cancel/AutoML_de361d0a-2f6f-4000-90b9-4cd588c5c22f\", \"ClientSdkVersion\": \"1.27.0.post1\", \"snapshotId\": \"00000000-0000-0000-0000-000000000000\", \"SetupRunId\": \"AutoML_de361d0a-2f6f-4000-90b9-4cd588c5c22f_setup\", \"SetupRunContainerId\": \"dcid.AutoML_de361d0a-2f6f-4000-90b9-4cd588c5c22f_setup\", \"FeaturizationRunJsonPath\": \"featurizer_container.json\", \"FeaturizationRunId\": \"AutoML_de361d0a-2f6f-4000-90b9-4cd588c5c22f_featurize\", \"ProblemInfoJsonString\": \"{\\\"dataset_num_categorical\\\": 0, \\\"is_sparse\\\": true, \\\"subsampling\\\": false, \\\"dataset_classes\\\": 2, \\\"dataset_features\\\": 46, \\\"dataset_samples\\\": 79044, \\\"single_frequency_class_detected\\\": false}\", \"ModelExplainRunId\": \"AutoML_de361d0a-2f6f-4000-90b9-4cd588c5c22f_ModelExplain\"}, \"tags\": {\"model_explain_run\": \"best_run\", \"_aml_system_azureml.automlComponent\": \"AutoML\", \"pipeline_id\": \"\", \"score\": \"\", \"predicted_cost\": \"\", \"fit_time\": \"\", \"training_percent\": \"\", \"iteration\": \"\", \"run_preprocessor\": \"\", \"run_algorithm\": \"\", \"dynamic_whitelisting_iterations\": \"<25>;<30>;<35>;\", \"automl_best_child_run_id\": \"AutoML_de361d0a-2f6f-4000-90b9-4cd588c5c22f_38\", \"model_explain_best_run_child_id\": \"AutoML_de361d0a-2f6f-4000-90b9-4cd588c5c22f_38\"}, \"end_time_utc\": \"2021-05-10T04:33:47.684594Z\", \"status\": \"Completed\", \"log_files\": {}, \"log_groups\": [], \"run_duration\": \"0:18:22\", \"run_number\": \"126\", \"run_queued_details\": {\"status\": \"Completed\", \"details\": null}}, \"child_runs\": [{\"run_id\": \"AutoML_de361d0a-2f6f-4000-90b9-4cd588c5c22f_0\", \"run_number\": 130, \"metric\": null, \"status\": \"Completed\", \"run_type\": \"azureml.scriptrun\", \"training_percent\": \"100\", \"start_time\": \"2021-05-10T04:18:27.57937Z\", \"end_time\": \"2021-05-10T04:19:14.457914Z\", \"created_time\": \"2021-05-10T04:18:11.474218Z\", \"created_time_dt\": \"2021-05-10T04:18:11.474218Z\", \"duration\": \"0:01:02\", \"iteration\": \"0\", \"goal\": \"accuracy_max\", \"run_name\": \"MaxAbsScaler, LightGBM\", \"run_properties\": \"copy=True\", \"primary_metric\": 0.63987248, \"best_metric\": 0.63987248}, {\"run_id\": \"AutoML_de361d0a-2f6f-4000-90b9-4cd588c5c22f_1\", \"run_number\": 131, \"metric\": null, \"status\": \"Completed\", \"run_type\": \"azureml.scriptrun\", \"training_percent\": \"100\", \"start_time\": \"2021-05-10T04:20:36.944641Z\", \"end_time\": \"2021-05-10T04:21:32.920781Z\", \"created_time\": \"2021-05-10T04:18:11.481421Z\", \"created_time_dt\": \"2021-05-10T04:18:11.481421Z\", \"duration\": \"0:03:21\", \"iteration\": \"1\", \"goal\": \"accuracy_max\", \"run_name\": \"MaxAbsScaler, XGBoostClassifier\", \"run_properties\": \"copy=True\", \"primary_metric\": 0.64089719, \"best_metric\": 0.64089719}, {\"run_id\": \"AutoML_de361d0a-2f6f-4000-90b9-4cd588c5c22f_4\", \"run_number\": 132, \"metric\": null, \"status\": \"Completed\", \"run_type\": \"azureml.scriptrun\", \"training_percent\": \"100\", \"start_time\": \"2021-05-10T04:19:33.134623Z\", \"end_time\": \"2021-05-10T04:20:24.189678Z\", \"created_time\": \"2021-05-10T04:18:11.497463Z\", \"created_time_dt\": \"2021-05-10T04:18:11.497463Z\", \"duration\": \"0:02:12\", \"iteration\": \"4\", \"goal\": \"accuracy_max\", \"run_name\": \"MaxAbsScaler, RandomForest\", \"run_properties\": \"copy=True\", \"primary_metric\": 0.64021405, \"best_metric\": 0.64089719}, {\"run_id\": \"AutoML_de361d0a-2f6f-4000-90b9-4cd588c5c22f_2\", \"run_number\": 133, \"metric\": null, \"status\": \"Completed\", \"run_type\": \"azureml.scriptrun\", \"training_percent\": \"100\", \"start_time\": \"2021-05-10T04:21:49.31861Z\", \"end_time\": \"2021-05-10T04:22:34.964151Z\", \"created_time\": \"2021-05-10T04:18:11.495221Z\", \"created_time_dt\": \"2021-05-10T04:18:11.495221Z\", \"duration\": \"0:04:23\", \"iteration\": \"2\", \"goal\": \"accuracy_max\", \"run_name\": \"MaxAbsScaler, RandomForest\", \"run_properties\": \"copy=True\", \"primary_metric\": 0.63793692, \"best_metric\": 0.64089719}, {\"run_id\": \"AutoML_de361d0a-2f6f-4000-90b9-4cd588c5c22f_3\", \"run_number\": 134, \"metric\": null, \"status\": \"Completed\", \"run_type\": \"azureml.scriptrun\", \"training_percent\": \"100\", \"start_time\": \"2021-05-10T04:22:02.515454Z\", \"end_time\": \"2021-05-10T04:23:35.871838Z\", \"created_time\": \"2021-05-10T04:18:11.492256Z\", \"created_time_dt\": \"2021-05-10T04:18:11.492256Z\", \"duration\": \"0:05:24\", \"iteration\": \"3\", \"goal\": \"accuracy_max\", \"run_name\": \"MaxAbsScaler, RandomForest\", \"run_properties\": \"copy=True\", \"primary_metric\": 0.62347717, \"best_metric\": 0.64089719}, {\"run_id\": \"AutoML_de361d0a-2f6f-4000-90b9-4cd588c5c22f_5\", \"run_number\": 135, \"metric\": null, \"status\": \"Completed\", \"run_type\": \"azureml.scriptrun\", \"training_percent\": \"100\", \"start_time\": \"2021-05-10T04:22:03.996747Z\", \"end_time\": \"2021-05-10T04:23:56.1125Z\", \"created_time\": \"2021-05-10T04:19:16.488432Z\", \"created_time_dt\": \"2021-05-10T04:19:16.488432Z\", \"duration\": \"0:04:39\", \"iteration\": \"5\", \"goal\": \"accuracy_max\", \"run_name\": \"MaxAbsScaler, RandomForest\", \"run_properties\": \"copy=True\", \"primary_metric\": 0.63679836, \"best_metric\": 0.64089719}, {\"run_id\": \"AutoML_de361d0a-2f6f-4000-90b9-4cd588c5c22f_6\", \"run_number\": 136, \"metric\": null, \"status\": \"Completed\", \"run_type\": \"azureml.scriptrun\", \"training_percent\": \"100\", \"start_time\": \"2021-05-10T04:22:03.092641Z\", \"end_time\": \"2021-05-10T04:23:49.395961Z\", \"created_time\": \"2021-05-10T04:20:27.606337Z\", \"created_time_dt\": \"2021-05-10T04:20:27.606337Z\", \"duration\": \"0:03:21\", \"iteration\": \"6\", \"goal\": \"accuracy_max\", \"run_name\": \"StandardScalerWrapper, XGBoostClassifier\", \"run_properties\": \"<azureml.automl.runtime.shared.model_wrappers.StandardScalerWrapper object at 0x7f464836ea58\", \"primary_metric\": 0.63713993, \"best_metric\": 0.64089719}, {\"run_id\": \"AutoML_de361d0a-2f6f-4000-90b9-4cd588c5c22f_7\", \"run_number\": 137, \"metric\": null, \"status\": \"Completed\", \"run_type\": \"azureml.scriptrun\", \"training_percent\": \"100\", \"start_time\": \"2021-05-10T04:22:51.476967Z\", \"end_time\": \"2021-05-10T04:25:02.771877Z\", \"created_time\": \"2021-05-10T04:21:36.150287Z\", \"created_time_dt\": \"2021-05-10T04:21:36.150287Z\", \"duration\": \"0:03:26\", \"iteration\": \"7\", \"goal\": \"accuracy_max\", \"run_name\": \"MaxAbsScaler, RandomForest\", \"run_properties\": \"copy=True\", \"primary_metric\": 0.63839235, \"best_metric\": 0.64089719}, {\"run_id\": \"AutoML_de361d0a-2f6f-4000-90b9-4cd588c5c22f_8\", \"run_number\": 138, \"metric\": null, \"status\": \"Completed\", \"run_type\": \"azureml.scriptrun\", \"training_percent\": \"100\", \"start_time\": \"2021-05-10T04:23:55.757056Z\", \"end_time\": \"2021-05-10T04:24:50.212462Z\", \"created_time\": \"2021-05-10T04:22:37.314403Z\", \"created_time_dt\": \"2021-05-10T04:22:37.314403Z\", \"duration\": \"0:02:12\", \"iteration\": \"8\", \"goal\": \"accuracy_max\", \"run_name\": \"SparseNormalizer, XGBoostClassifier\", \"run_properties\": \"<azureml.automl.runtime.shared.model_wrappers.SparseNormalizer object at 0x7f885b940630\", \"primary_metric\": 0.63839235, \"best_metric\": 0.64089719}, {\"run_id\": \"AutoML_de361d0a-2f6f-4000-90b9-4cd588c5c22f_9\", \"run_number\": 139, \"metric\": null, \"status\": \"Completed\", \"run_type\": \"azureml.scriptrun\", \"training_percent\": \"100\", \"start_time\": \"2021-05-10T04:24:01.011266Z\", \"end_time\": \"2021-05-10T04:24:56.473756Z\", \"created_time\": \"2021-05-10T04:23:37.891697Z\", \"created_time_dt\": \"2021-05-10T04:23:37.891697Z\", \"duration\": \"0:01:18\", \"iteration\": \"9\", \"goal\": \"accuracy_max\", \"run_name\": \"SparseNormalizer, XGBoostClassifier\", \"run_properties\": \"<azureml.automl.runtime.shared.model_wrappers.SparseNormalizer object at 0x7fa9882e2b00\", \"primary_metric\": 0.63827849, \"best_metric\": 0.64089719}, {\"run_id\": \"AutoML_de361d0a-2f6f-4000-90b9-4cd588c5c22f_10\", \"run_number\": 140, \"metric\": null, \"status\": \"Completed\", \"run_type\": \"azureml.scriptrun\", \"training_percent\": \"100\", \"start_time\": \"2021-05-10T04:24:12.663676Z\", \"end_time\": \"2021-05-10T04:25:04.080218Z\", \"created_time\": \"2021-05-10T04:23:51.555806Z\", \"created_time_dt\": \"2021-05-10T04:23:51.555806Z\", \"duration\": \"0:01:12\", \"iteration\": \"10\", \"goal\": \"accuracy_max\", \"run_name\": \"SparseNormalizer, XGBoostClassifier\", \"run_properties\": \"<azureml.automl.runtime.shared.model_wrappers.SparseNormalizer object at 0x7f343f53dbe0\", \"primary_metric\": 0.63907549, \"best_metric\": 0.64089719}, {\"run_id\": \"AutoML_de361d0a-2f6f-4000-90b9-4cd588c5c22f_11\", \"run_number\": 141, \"metric\": null, \"status\": \"Completed\", \"run_type\": \"azureml.scriptrun\", \"training_percent\": \"100\", \"start_time\": \"2021-05-10T04:25:07.04711Z\", \"end_time\": \"2021-05-10T04:25:58.905337Z\", \"created_time\": \"2021-05-10T04:23:58.239171Z\", \"created_time_dt\": \"2021-05-10T04:23:58.239171Z\", \"duration\": \"0:02:00\", \"iteration\": \"11\", \"goal\": \"accuracy_max\", \"run_name\": \"SparseNormalizer, XGBoostClassifier\", \"run_properties\": \"<azureml.automl.runtime.shared.model_wrappers.SparseNormalizer object at 0x7effd250da58\", \"primary_metric\": 0.63816464, \"best_metric\": 0.64089719}, {\"run_id\": \"AutoML_de361d0a-2f6f-4000-90b9-4cd588c5c22f_12\", \"run_number\": 142, \"metric\": null, \"status\": \"Completed\", \"run_type\": \"azureml.scriptrun\", \"training_percent\": \"100\", \"start_time\": \"2021-05-10T04:25:12.75254Z\", \"end_time\": \"2021-05-10T04:26:04.235013Z\", \"created_time\": \"2021-05-10T04:24:52.305119Z\", \"created_time_dt\": \"2021-05-10T04:24:52.305119Z\", \"duration\": \"0:01:11\", \"iteration\": \"12\", \"goal\": \"accuracy_max\", \"run_name\": \"MaxAbsScaler, RandomForest\", \"run_properties\": \"copy=True\", \"primary_metric\": 0.63099169, \"best_metric\": 0.64089719}, {\"run_id\": \"AutoML_de361d0a-2f6f-4000-90b9-4cd588c5c22f_13\", \"run_number\": 143, \"metric\": null, \"status\": \"Completed\", \"run_type\": \"azureml.scriptrun\", \"training_percent\": \"100\", \"start_time\": \"2021-05-10T04:25:16.927011Z\", \"end_time\": \"2021-05-10T04:26:04.547812Z\", \"created_time\": \"2021-05-10T04:24:58.39697Z\", \"created_time_dt\": \"2021-05-10T04:24:58.39697Z\", \"duration\": \"0:01:06\", \"iteration\": \"13\", \"goal\": \"accuracy_max\", \"run_name\": \"MaxAbsScaler, LightGBM\", \"run_properties\": \"copy=True\", \"primary_metric\": 0.63645679, \"best_metric\": 0.64089719}, {\"run_id\": \"AutoML_de361d0a-2f6f-4000-90b9-4cd588c5c22f_14\", \"run_number\": 144, \"metric\": null, \"status\": \"Completed\", \"run_type\": \"azureml.scriptrun\", \"training_percent\": \"100\", \"start_time\": \"2021-05-10T04:25:18.960991Z\", \"end_time\": \"2021-05-10T04:26:11.089282Z\", \"created_time\": \"2021-05-10T04:25:04.652153Z\", \"created_time_dt\": \"2021-05-10T04:25:04.652153Z\", \"duration\": \"0:01:06\", \"iteration\": \"14\", \"goal\": \"accuracy_max\", \"run_name\": \"MaxAbsScaler, LightGBM\", \"run_properties\": \"copy=True\", \"primary_metric\": 0.63600137, \"best_metric\": 0.64089719}, {\"run_id\": \"AutoML_de361d0a-2f6f-4000-90b9-4cd588c5c22f_15\", \"run_number\": 145, \"metric\": null, \"status\": \"Completed\", \"run_type\": \"azureml.scriptrun\", \"training_percent\": \"100\", \"start_time\": \"2021-05-10T04:26:13.853391Z\", \"end_time\": \"2021-05-10T04:27:37.400513Z\", \"created_time\": \"2021-05-10T04:25:07.94094Z\", \"created_time_dt\": \"2021-05-10T04:25:07.94094Z\", \"duration\": \"0:02:29\", \"iteration\": \"15\", \"goal\": \"accuracy_max\", \"run_name\": \"MaxAbsScaler, ExtremeRandomTrees\", \"run_properties\": \"copy=True\", \"primary_metric\": 0.62803142, \"best_metric\": 0.64089719}, {\"run_id\": \"AutoML_de361d0a-2f6f-4000-90b9-4cd588c5c22f_16\", \"run_number\": 146, \"metric\": null, \"status\": \"Completed\", \"run_type\": \"azureml.scriptrun\", \"training_percent\": \"100\", \"start_time\": \"2021-05-10T04:26:22.421757Z\", \"end_time\": \"2021-05-10T04:27:04.717045Z\", \"created_time\": \"2021-05-10T04:26:01.432514Z\", \"created_time_dt\": \"2021-05-10T04:26:01.432514Z\", \"duration\": \"0:01:03\", \"iteration\": \"16\", \"goal\": \"accuracy_max\", \"run_name\": \"MaxAbsScaler, LightGBM\", \"run_properties\": \"copy=True\", \"primary_metric\": 0.63805078, \"best_metric\": 0.64089719}, {\"run_id\": \"AutoML_de361d0a-2f6f-4000-90b9-4cd588c5c22f_17\", \"run_number\": 147, \"metric\": null, \"status\": \"Completed\", \"run_type\": \"azureml.scriptrun\", \"training_percent\": \"100\", \"start_time\": \"2021-05-10T04:26:20.163533Z\", \"end_time\": \"2021-05-10T04:27:59.542509Z\", \"created_time\": \"2021-05-10T04:26:06.000224Z\", \"created_time_dt\": \"2021-05-10T04:26:06.000224Z\", \"duration\": \"0:01:53\", \"iteration\": \"17\", \"goal\": \"accuracy_max\", \"run_name\": \"MaxAbsScaler, ExtremeRandomTrees\", \"run_properties\": \"copy=True\", \"primary_metric\": 0.63099169, \"best_metric\": 0.64089719}, {\"run_id\": \"AutoML_de361d0a-2f6f-4000-90b9-4cd588c5c22f_18\", \"run_number\": 148, \"metric\": null, \"status\": \"Completed\", \"run_type\": \"azureml.scriptrun\", \"training_percent\": \"100\", \"start_time\": \"2021-05-10T04:26:25.455799Z\", \"end_time\": \"2021-05-10T04:27:12.365679Z\", \"created_time\": \"2021-05-10T04:26:09.278969Z\", \"created_time_dt\": \"2021-05-10T04:26:09.278969Z\", \"duration\": \"0:01:03\", \"iteration\": \"18\", \"goal\": \"accuracy_max\", \"run_name\": \"SparseNormalizer, XGBoostClassifier\", \"run_properties\": \"<azureml.automl.runtime.shared.model_wrappers.SparseNormalizer object at 0x7f6180ff5ac8\", \"primary_metric\": 0.63873392, \"best_metric\": 0.64089719}, {\"run_id\": \"AutoML_de361d0a-2f6f-4000-90b9-4cd588c5c22f_19\", \"run_number\": 149, \"metric\": null, \"status\": \"Completed\", \"run_type\": \"azureml.scriptrun\", \"training_percent\": \"100\", \"start_time\": \"2021-05-10T04:27:19.32547Z\", \"end_time\": \"2021-05-10T04:28:10.465997Z\", \"created_time\": \"2021-05-10T04:26:13.240478Z\", \"created_time_dt\": \"2021-05-10T04:26:13.240478Z\", \"duration\": \"0:01:57\", \"iteration\": \"19\", \"goal\": \"accuracy_max\", \"run_name\": \"MaxAbsScaler, RandomForest\", \"run_properties\": \"copy=True\", \"primary_metric\": 0.62973927, \"best_metric\": 0.64089719}, {\"run_id\": \"AutoML_de361d0a-2f6f-4000-90b9-4cd588c5c22f_20\", \"run_number\": 150, \"metric\": null, \"status\": \"Completed\", \"run_type\": \"azureml.scriptrun\", \"training_percent\": \"100\", \"start_time\": \"2021-05-10T04:27:27.212706Z\", \"end_time\": \"2021-05-10T04:28:12.467133Z\", \"created_time\": \"2021-05-10T04:27:06.508859Z\", \"created_time_dt\": \"2021-05-10T04:27:06.508859Z\", \"duration\": \"0:01:05\", \"iteration\": \"20\", \"goal\": \"accuracy_max\", \"run_name\": \"MaxAbsScaler, LightGBM\", \"run_properties\": \"copy=True\", \"primary_metric\": 0.62791757, \"best_metric\": 0.64089719}, {\"run_id\": \"AutoML_de361d0a-2f6f-4000-90b9-4cd588c5c22f_21\", \"run_number\": 151, \"metric\": null, \"status\": \"Completed\", \"run_type\": \"azureml.scriptrun\", \"training_percent\": \"100\", \"start_time\": \"2021-05-10T04:27:48.676608Z\", \"end_time\": \"2021-05-10T04:28:37.695522Z\", \"created_time\": \"2021-05-10T04:27:14.153381Z\", \"created_time_dt\": \"2021-05-10T04:27:14.153381Z\", \"duration\": \"0:01:23\", \"iteration\": \"21\", \"goal\": \"accuracy_max\", \"run_name\": \"StandardScalerWrapper, LightGBM\", \"run_properties\": \"<azureml.automl.runtime.shared.model_wrappers.StandardScalerWrapper object at 0x7f1d18e09860\", \"primary_metric\": 0.6330411, \"best_metric\": 0.64089719}, {\"run_id\": \"AutoML_de361d0a-2f6f-4000-90b9-4cd588c5c22f_22\", \"run_number\": 152, \"metric\": null, \"status\": \"Completed\", \"run_type\": \"azureml.scriptrun\", \"training_percent\": \"100\", \"start_time\": \"2021-05-10T04:28:14.487923Z\", \"end_time\": \"2021-05-10T04:28:57.615023Z\", \"created_time\": \"2021-05-10T04:27:39.241427Z\", \"created_time_dt\": \"2021-05-10T04:27:39.241427Z\", \"duration\": \"0:01:18\", \"iteration\": \"22\", \"goal\": \"accuracy_max\", \"run_name\": \"SparseNormalizer, LightGBM\", \"run_properties\": \"<azureml.automl.runtime.shared.model_wrappers.SparseNormalizer object at 0x7f1abc3d68d0\", \"primary_metric\": 0.62814528, \"best_metric\": 0.64089719}, {\"run_id\": \"AutoML_de361d0a-2f6f-4000-90b9-4cd588c5c22f_23\", \"run_number\": 153, \"metric\": null, \"status\": \"Completed\", \"run_type\": \"azureml.scriptrun\", \"training_percent\": \"100\", \"start_time\": \"2021-05-10T04:28:27.132129Z\", \"end_time\": \"2021-05-10T04:29:47.551835Z\", \"created_time\": \"2021-05-10T04:28:01.764554Z\", \"created_time_dt\": \"2021-05-10T04:28:01.764554Z\", \"duration\": \"0:01:45\", \"iteration\": \"23\", \"goal\": \"accuracy_max\", \"run_name\": \"MaxAbsScaler, ExtremeRandomTrees\", \"run_properties\": \"copy=True\", \"primary_metric\": 0.63178868, \"best_metric\": 0.64089719}, {\"run_id\": \"AutoML_de361d0a-2f6f-4000-90b9-4cd588c5c22f_24\", \"run_number\": 154, \"metric\": null, \"status\": \"Completed\", \"run_type\": \"azureml.scriptrun\", \"training_percent\": \"100\", \"start_time\": \"2021-05-10T04:28:26.810481Z\", \"end_time\": \"2021-05-10T04:29:12.990507Z\", \"created_time\": \"2021-05-10T04:28:12.309087Z\", \"created_time_dt\": \"2021-05-10T04:28:12.309087Z\", \"duration\": \"0:01:00\", \"iteration\": \"24\", \"goal\": \"accuracy_max\", \"run_name\": \"StandardScalerWrapper, LightGBM\", \"run_properties\": \"<azureml.automl.runtime.shared.model_wrappers.StandardScalerWrapper object at 0x7facdd379438\", \"primary_metric\": 0.62825914, \"best_metric\": 0.64089719}, {\"run_id\": \"AutoML_de361d0a-2f6f-4000-90b9-4cd588c5c22f_25\", \"run_number\": 155, \"metric\": null, \"status\": \"Completed\", \"run_type\": \"azureml.scriptrun\", \"training_percent\": \"100\", \"start_time\": \"2021-05-10T04:28:54.980763Z\", \"end_time\": \"2021-05-10T04:29:39.086633Z\", \"created_time\": \"2021-05-10T04:28:17.10765Z\", \"created_time_dt\": \"2021-05-10T04:28:17.10765Z\", \"duration\": \"0:01:21\", \"iteration\": \"25\", \"goal\": \"accuracy_max\", \"run_name\": \"StandardScalerWrapper, XGBoostClassifier\", \"run_properties\": \"<azureml.automl.runtime.shared.model_wrappers.StandardScalerWrapper object at 0x7f07c20544a8\", \"primary_metric\": 0.50119549, \"best_metric\": 0.64089719}, {\"run_id\": \"AutoML_de361d0a-2f6f-4000-90b9-4cd588c5c22f_26\", \"run_number\": 156, \"metric\": null, \"status\": \"Completed\", \"run_type\": \"azureml.scriptrun\", \"training_percent\": \"100\", \"start_time\": \"2021-05-10T04:29:12.556225Z\", \"end_time\": \"2021-05-10T04:30:04.741564Z\", \"created_time\": \"2021-05-10T04:28:39.699697Z\", \"created_time_dt\": \"2021-05-10T04:28:39.699697Z\", \"duration\": \"0:01:25\", \"iteration\": \"26\", \"goal\": \"accuracy_max\", \"run_name\": \"MaxAbsScaler, ExtremeRandomTrees\", \"run_properties\": \"copy=True\", \"primary_metric\": 0.62791757, \"best_metric\": 0.64089719}, {\"run_id\": \"AutoML_de361d0a-2f6f-4000-90b9-4cd588c5c22f_27\", \"run_number\": 157, \"metric\": null, \"status\": \"Completed\", \"run_type\": \"azureml.scriptrun\", \"training_percent\": \"100\", \"start_time\": \"2021-05-10T04:29:30.973404Z\", \"end_time\": \"2021-05-10T04:30:19.0664Z\", \"created_time\": \"2021-05-10T04:28:59.504245Z\", \"created_time_dt\": \"2021-05-10T04:28:59.504245Z\", \"duration\": \"0:01:19\", \"iteration\": \"27\", \"goal\": \"accuracy_max\", \"run_name\": \"SparseNormalizer, LightGBM\", \"run_properties\": \"<azureml.automl.runtime.shared.model_wrappers.SparseNormalizer object at 0x7f82ecf201d0\", \"primary_metric\": 0.63213025, \"best_metric\": 0.64089719}, {\"run_id\": \"AutoML_de361d0a-2f6f-4000-90b9-4cd588c5c22f_28\", \"run_number\": 158, \"metric\": null, \"status\": \"Completed\", \"run_type\": \"azureml.scriptrun\", \"training_percent\": \"100\", \"start_time\": \"2021-05-10T04:29:55.659927Z\", \"end_time\": \"2021-05-10T04:30:43.49637Z\", \"created_time\": \"2021-05-10T04:29:14.772482Z\", \"created_time_dt\": \"2021-05-10T04:29:14.772482Z\", \"duration\": \"0:01:28\", \"iteration\": \"28\", \"goal\": \"accuracy_max\", \"run_name\": \"MaxAbsScaler, LogisticRegression\", \"run_properties\": \"copy=True\", \"primary_metric\": 0.64032791, \"best_metric\": 0.64089719}, {\"run_id\": \"AutoML_de361d0a-2f6f-4000-90b9-4cd588c5c22f_29\", \"run_number\": 159, \"metric\": null, \"status\": \"Completed\", \"run_type\": \"azureml.scriptrun\", \"training_percent\": \"100\", \"start_time\": \"2021-05-10T04:29:59.383731Z\", \"end_time\": \"2021-05-10T04:30:53.10361Z\", \"created_time\": \"2021-05-10T04:29:40.966325Z\", \"created_time_dt\": \"2021-05-10T04:29:40.966325Z\", \"duration\": \"0:01:12\", \"iteration\": \"29\", \"goal\": \"accuracy_max\", \"run_name\": \"MaxAbsScaler, LogisticRegression\", \"run_properties\": \"copy=True\", \"primary_metric\": 0.64032791, \"best_metric\": 0.64089719}, {\"run_id\": \"AutoML_de361d0a-2f6f-4000-90b9-4cd588c5c22f_30\", \"run_number\": 160, \"metric\": null, \"status\": \"Completed\", \"run_type\": \"azureml.scriptrun\", \"training_percent\": \"100\", \"start_time\": \"2021-05-10T04:30:21.294168Z\", \"end_time\": \"2021-05-10T04:31:22.656247Z\", \"created_time\": \"2021-05-10T04:29:50.678783Z\", \"created_time_dt\": \"2021-05-10T04:29:50.678783Z\", \"duration\": \"0:01:31\", \"iteration\": \"30\", \"goal\": \"accuracy_max\", \"run_name\": \"SparseNormalizer, XGBoostClassifier\", \"run_properties\": \"<azureml.automl.runtime.shared.model_wrappers.SparseNormalizer object at 0x7f8fafdff0f0\", \"primary_metric\": 0.63588751, \"best_metric\": 0.64089719}, {\"run_id\": \"AutoML_de361d0a-2f6f-4000-90b9-4cd588c5c22f_31\", \"run_number\": 161, \"metric\": null, \"status\": \"Completed\", \"run_type\": \"azureml.scriptrun\", \"training_percent\": \"100\", \"start_time\": \"2021-05-10T04:30:34.139252Z\", \"end_time\": \"2021-05-10T04:31:27.923601Z\", \"created_time\": \"2021-05-10T04:30:06.52284Z\", \"created_time_dt\": \"2021-05-10T04:30:06.52284Z\", \"duration\": \"0:01:21\", \"iteration\": \"31\", \"goal\": \"accuracy_max\", \"run_name\": \"MaxAbsScaler, LogisticRegression\", \"run_properties\": \"copy=True\", \"primary_metric\": 0.64032791, \"best_metric\": 0.64089719}, {\"run_id\": \"AutoML_de361d0a-2f6f-4000-90b9-4cd588c5c22f_32\", \"run_number\": 162, \"metric\": null, \"status\": \"Completed\", \"run_type\": \"azureml.scriptrun\", \"training_percent\": \"100\", \"start_time\": \"2021-05-10T04:30:57.518182Z\", \"end_time\": \"2021-05-10T04:31:47.247554Z\", \"created_time\": \"2021-05-10T04:30:20.914208Z\", \"created_time_dt\": \"2021-05-10T04:30:20.914208Z\", \"duration\": \"0:01:26\", \"iteration\": \"32\", \"goal\": \"accuracy_max\", \"run_name\": \"MaxAbsScaler, LogisticRegression\", \"run_properties\": \"copy=True\", \"primary_metric\": 0.64032791, \"best_metric\": 0.64089719}, {\"run_id\": \"AutoML_de361d0a-2f6f-4000-90b9-4cd588c5c22f_33\", \"run_number\": 163, \"metric\": null, \"status\": \"Completed\", \"run_type\": \"azureml.scriptrun\", \"training_percent\": \"100\", \"start_time\": \"2021-05-10T04:31:06.600141Z\", \"end_time\": \"2021-05-10T04:31:58.03301Z\", \"created_time\": \"2021-05-10T04:30:45.35218Z\", \"created_time_dt\": \"2021-05-10T04:30:45.35218Z\", \"duration\": \"0:01:12\", \"iteration\": \"33\", \"goal\": \"accuracy_max\", \"run_name\": \"MaxAbsScaler, LogisticRegression\", \"run_properties\": \"copy=True\", \"primary_metric\": 0.63964477, \"best_metric\": 0.64089719}, {\"run_id\": \"AutoML_de361d0a-2f6f-4000-90b9-4cd588c5c22f_34\", \"run_number\": 164, \"metric\": null, \"status\": \"Canceled\", \"run_type\": \"azureml.scriptrun\", \"training_percent\": \"100\", \"start_time\": \"2021-05-10T04:31:38.061174Z\", \"end_time\": \"2021-05-10T04:32:04.059032Z\", \"created_time\": \"2021-05-10T04:30:55.024895Z\", \"created_time_dt\": \"2021-05-10T04:30:55.024895Z\", \"duration\": \"0:01:09\", \"iteration\": \"34\", \"goal\": null, \"run_name\": \"StandardScalerWrapper, XGBoostClassifier\", \"run_properties\": null}, {\"run_id\": \"AutoML_de361d0a-2f6f-4000-90b9-4cd588c5c22f_35\", \"run_number\": 165, \"metric\": null, \"status\": \"Canceled\", \"run_type\": \"azureml.scriptrun\", \"training_percent\": \"100\", \"start_time\": \"2021-05-10T04:31:43.488954Z\", \"end_time\": \"2021-05-10T04:32:04.127838Z\", \"created_time\": \"2021-05-10T04:31:25.658982Z\", \"created_time_dt\": \"2021-05-10T04:31:25.658982Z\", \"duration\": \"0:00:38\", \"iteration\": \"35\", \"goal\": null, \"run_name\": \"SparseNormalizer, XGBoostClassifier\", \"run_properties\": null}, {\"run_id\": \"AutoML_de361d0a-2f6f-4000-90b9-4cd588c5c22f_36\", \"run_number\": 166, \"metric\": null, \"status\": \"Canceled\", \"run_type\": \"azureml.scriptrun\", \"training_percent\": \"100\", \"start_time\": \"2021-05-10T04:31:30.269541Z\", \"end_time\": \"2021-05-10T04:32:04.067774Z\", \"created_time\": \"2021-05-10T04:31:30.269541Z\", \"created_time_dt\": \"2021-05-10T04:31:30.269541Z\", \"duration\": \"0:00:33\", \"iteration\": \"36\", \"goal\": null, \"run_name\": \"Canceled\", \"run_properties\": null}, {\"run_id\": \"AutoML_de361d0a-2f6f-4000-90b9-4cd588c5c22f_37\", \"run_number\": 167, \"metric\": null, \"status\": \"Canceled\", \"run_type\": \"azureml.scriptrun\", \"training_percent\": \"100\", \"start_time\": \"2021-05-10T04:31:49.04225Z\", \"end_time\": \"2021-05-10T04:32:04.051889Z\", \"created_time\": \"2021-05-10T04:31:49.04225Z\", \"created_time_dt\": \"2021-05-10T04:31:49.04225Z\", \"duration\": \"0:00:15\", \"iteration\": \"37\", \"goal\": null, \"run_name\": \"Canceled\", \"run_properties\": null}, {\"run_id\": \"AutoML_de361d0a-2f6f-4000-90b9-4cd588c5c22f_38\", \"run_number\": 168, \"metric\": null, \"status\": \"Completed\", \"run_type\": \"azureml.scriptrun\", \"training_percent\": \"100\", \"start_time\": \"2021-05-10T04:32:12.84687Z\", \"end_time\": \"2021-05-10T04:33:11.468233Z\", \"created_time\": \"2021-05-10T04:32:05.034589Z\", \"created_time_dt\": \"2021-05-10T04:32:05.034589Z\", \"duration\": \"0:01:06\", \"iteration\": \"38\", \"goal\": \"accuracy_max\", \"run_name\": \"VotingEnsemble\", \"run_properties\": \"classification_labels=None,\\n                              estimators=[('1',\\n                                           Pipeline(memory=None,\\n                                                    steps=[('maxabsscaler',\\n                                                            MaxAbsScaler(copy=True\", \"primary_metric\": 0.64203575, \"best_metric\": 0.64203575}, {\"run_id\": \"AutoML_de361d0a-2f6f-4000-90b9-4cd588c5c22f_39\", \"run_number\": 169, \"metric\": null, \"status\": \"Completed\", \"run_type\": \"azureml.scriptrun\", \"training_percent\": \"100\", \"start_time\": \"2021-05-10T04:32:13.049509Z\", \"end_time\": \"2021-05-10T04:33:44.696416Z\", \"created_time\": \"2021-05-10T04:32:05.057974Z\", \"created_time_dt\": \"2021-05-10T04:32:05.057974Z\", \"duration\": \"0:01:39\", \"iteration\": \"39\", \"goal\": \"accuracy_max\", \"run_name\": \"StackEnsemble\", \"run_properties\": \"base_learners=[('1',\\n                                        Pipeline(memory=None,\\n                                                 steps=[('maxabsscaler',\\n                                                         MaxAbsScaler(copy=True\", \"primary_metric\": 0.63987248, \"best_metric\": 0.64203575}], \"children_metrics\": {\"categories\": [0], \"series\": {\"average_precision_score_macro\": [{\"categories\": [\"0\", \"1\", \"2\", \"3\", \"4\", \"5\", \"6\", \"7\", \"8\", \"9\", \"10\", \"11\", \"12\", \"13\", \"14\", \"15\", \"16\", \"17\", \"18\", \"19\", \"20\", \"21\", \"22\", \"23\", \"24\", \"25\", \"26\", \"27\", \"28\", \"29\", \"30\", \"31\", \"32\", \"33\", \"38\", \"39\"], \"mode\": \"markers\", \"name\": \"average_precision_score_macro\", \"stepped\": false, \"type\": \"scatter\", \"data\": [0.679797631382502, 0.6773950289817934, 0.6615480329991187, 0.6508292800812454, 0.662524157612554, 0.6601196030997192, 0.6735653930433481, 0.6666957680117731, 0.6762951305915682, 0.6745425592380596, 0.6737345866639798, 0.6777898395658166, 0.6351412655403224, 0.658679652894579, 0.6674615165432738, 0.6378944768158541, 0.6647629905590312, 0.6438346850083181, 0.6738557099861242, 0.6553990774163803, 0.6483526636447615, 0.6616827344307112, 0.655042660467295, 0.6548906028414532, 0.6621188009900102, 0.5, 0.6301434884223575, 0.6561405513887378, 0.670966000510233, 0.671121508225418, 0.676486907895448, 0.6710962156903744, 0.6712796671762614, 0.6723735384779475, 0.673512427213038, 0.6739762962059205]}, {\"categories\": [\"0\", \"1\", \"2\", \"3\", \"4\", \"5\", \"6\", \"7\", \"8\", \"9\", \"10\", \"11\", \"12\", \"13\", \"14\", \"15\", \"16\", \"17\", \"18\", \"19\", \"20\", \"21\", \"22\", \"23\", \"24\", \"25\", \"26\", \"27\", \"28\", \"29\", \"30\", \"31\", \"32\", \"33\", \"38\", \"39\"], \"mode\": \"lines\", \"name\": \"average_precision_score_macro_max\", \"stepped\": true, \"type\": \"scatter\", \"data\": [0.679797631382502, 0.679797631382502, 0.679797631382502, 0.679797631382502, 0.679797631382502, 0.679797631382502, 0.679797631382502, 0.679797631382502, 0.679797631382502, 0.679797631382502, 0.679797631382502, 0.679797631382502, 0.679797631382502, 0.679797631382502, 0.679797631382502, 0.679797631382502, 0.679797631382502, 0.679797631382502, 0.679797631382502, 0.679797631382502, 0.679797631382502, 0.679797631382502, 0.679797631382502, 0.679797631382502, 0.679797631382502, 0.679797631382502, 0.679797631382502, 0.679797631382502, 0.679797631382502, 0.679797631382502, 0.679797631382502, 0.679797631382502, 0.679797631382502, 0.679797631382502, 0.679797631382502, 0.679797631382502]}], \"f1_score_macro\": [{\"categories\": [\"0\", \"1\", \"2\", \"3\", \"4\", \"5\", \"6\", \"7\", \"8\", \"9\", \"10\", \"11\", \"12\", \"13\", \"14\", \"15\", \"16\", \"17\", \"18\", \"19\", \"20\", \"21\", \"22\", \"23\", \"24\", \"25\", \"26\", \"27\", \"28\", \"29\", \"30\", \"31\", \"32\", \"33\", \"38\", \"39\"], \"mode\": \"markers\", \"name\": \"f1_score_macro\", \"stepped\": false, \"type\": \"scatter\", \"data\": [0.6363534654867524, 0.6349072474864866, 0.6349611513138289, 0.6210702107572144, 0.6361786565262288, 0.6323603201811251, 0.6351168003002554, 0.6298927598432088, 0.6338618254978305, 0.6340147150433451, 0.6349383134463218, 0.6323452256310005, 0.6247807644790087, 0.6292324733596584, 0.6262878158606004, 0.6168254199083836, 0.6295562412284457, 0.6247807644790087, 0.628380575281344, 0.6207663912825405, 0.6139783446901218, 0.6186884082113087, 0.6147626982707264, 0.624724887600671, 0.6277894461127247, 0.3338642396662875, 0.6139783446901218, 0.6171742745627112, 0.6333928654601022, 0.6333928654601022, 0.6312877001569257, 0.6333928654601022, 0.6333694380996051, 0.6327667203218758, 0.6352841829251554, 0.6353136156411998]}, {\"categories\": [\"0\", \"1\", \"2\", \"3\", \"4\", \"5\", \"6\", \"7\", \"8\", \"9\", \"10\", \"11\", \"12\", \"13\", \"14\", \"15\", \"16\", \"17\", \"18\", \"19\", \"20\", \"21\", \"22\", \"23\", \"24\", \"25\", \"26\", \"27\", \"28\", \"29\", \"30\", \"31\", \"32\", \"33\", \"38\", \"39\"], \"mode\": \"lines\", \"name\": \"f1_score_macro_max\", \"stepped\": true, \"type\": \"scatter\", \"data\": [0.6363534654867524, 0.6363534654867524, 0.6363534654867524, 0.6363534654867524, 0.6363534654867524, 0.6363534654867524, 0.6363534654867524, 0.6363534654867524, 0.6363534654867524, 0.6363534654867524, 0.6363534654867524, 0.6363534654867524, 0.6363534654867524, 0.6363534654867524, 0.6363534654867524, 0.6363534654867524, 0.6363534654867524, 0.6363534654867524, 0.6363534654867524, 0.6363534654867524, 0.6363534654867524, 0.6363534654867524, 0.6363534654867524, 0.6363534654867524, 0.6363534654867524, 0.6363534654867524, 0.6363534654867524, 0.6363534654867524, 0.6363534654867524, 0.6363534654867524, 0.6363534654867524, 0.6363534654867524, 0.6363534654867524, 0.6363534654867524, 0.6363534654867524, 0.6363534654867524]}], \"accuracy\": [{\"categories\": [\"0\", \"1\", \"2\", \"3\", \"4\", \"5\", \"6\", \"7\", \"8\", \"9\", \"10\", \"11\", \"12\", \"13\", \"14\", \"15\", \"16\", \"17\", \"18\", \"19\", \"20\", \"21\", \"22\", \"23\", \"24\", \"25\", \"26\", \"27\", \"28\", \"29\", \"30\", \"31\", \"32\", \"33\", \"38\", \"39\"], \"mode\": \"markers\", \"name\": \"accuracy\", \"stepped\": false, \"type\": \"scatter\", \"data\": [0.6398724809290676, 0.6408971877490607, 0.6379369236024137, 0.6234771718091768, 0.6402140498690653, 0.636798360469088, 0.6371399294090857, 0.638392348855744, 0.638392348855744, 0.6382784925424114, 0.6390754867357396, 0.6381646362290789, 0.6309916884891267, 0.6364567915290903, 0.63600136627576, 0.6280314243424798, 0.6380507799157463, 0.6309916884891267, 0.6387339177957417, 0.6297392690424684, 0.6279175680291472, 0.633041102129113, 0.6281452806558123, 0.6317886826824547, 0.6282591369691449, 0.5011954912899921, 0.6279175680291472, 0.6321302516224525, 0.6403279061823978, 0.6403279061823978, 0.6358875099624274, 0.6403279061823978, 0.6403279061823978, 0.6396447683024024, 0.6420357508823864, 0.6398724809290676]}, {\"categories\": [\"0\", \"1\", \"2\", \"3\", \"4\", \"5\", \"6\", \"7\", \"8\", \"9\", \"10\", \"11\", \"12\", \"13\", \"14\", \"15\", \"16\", \"17\", \"18\", \"19\", \"20\", \"21\", \"22\", \"23\", \"24\", \"25\", \"26\", \"27\", \"28\", \"29\", \"30\", \"31\", \"32\", \"33\", \"38\", \"39\"], \"mode\": \"lines\", \"name\": \"accuracy_max\", \"stepped\": true, \"type\": \"scatter\", \"data\": [0.6398724809290676, 0.6408971877490607, 0.6408971877490607, 0.6408971877490607, 0.6408971877490607, 0.6408971877490607, 0.6408971877490607, 0.6408971877490607, 0.6408971877490607, 0.6408971877490607, 0.6408971877490607, 0.6408971877490607, 0.6408971877490607, 0.6408971877490607, 0.6408971877490607, 0.6408971877490607, 0.6408971877490607, 0.6408971877490607, 0.6408971877490607, 0.6408971877490607, 0.6408971877490607, 0.6408971877490607, 0.6408971877490607, 0.6408971877490607, 0.6408971877490607, 0.6408971877490607, 0.6408971877490607, 0.6408971877490607, 0.6408971877490607, 0.6408971877490607, 0.6408971877490607, 0.6408971877490607, 0.6408971877490607, 0.6408971877490607, 0.6420357508823864, 0.6420357508823864]}], \"recall_score_weighted\": [{\"categories\": [\"0\", \"1\", \"2\", \"3\", \"4\", \"5\", \"6\", \"7\", \"8\", \"9\", \"10\", \"11\", \"12\", \"13\", \"14\", \"15\", \"16\", \"17\", \"18\", \"19\", \"20\", \"21\", \"22\", \"23\", \"24\", \"25\", \"26\", \"27\", \"28\", \"29\", \"30\", \"31\", \"32\", \"33\", \"38\", \"39\"], \"mode\": \"markers\", \"name\": \"recall_score_weighted\", \"stepped\": false, \"type\": \"scatter\", \"data\": [0.6398724809290676, 0.6408971877490607, 0.6379369236024137, 0.6234771718091768, 0.6402140498690653, 0.636798360469088, 0.6371399294090857, 0.638392348855744, 0.638392348855744, 0.6382784925424114, 0.6390754867357396, 0.6381646362290789, 0.6309916884891267, 0.6364567915290903, 0.63600136627576, 0.6280314243424798, 0.6380507799157463, 0.6309916884891267, 0.6387339177957417, 0.6297392690424684, 0.6279175680291472, 0.633041102129113, 0.6281452806558123, 0.6317886826824547, 0.6282591369691449, 0.5011954912899921, 0.6279175680291472, 0.6321302516224525, 0.6403279061823978, 0.6403279061823978, 0.6358875099624274, 0.6403279061823978, 0.6403279061823978, 0.6396447683024024, 0.6420357508823864, 0.6398724809290676]}, {\"categories\": [\"0\", \"1\", \"2\", \"3\", \"4\", \"5\", \"6\", \"7\", \"8\", \"9\", \"10\", \"11\", \"12\", \"13\", \"14\", \"15\", \"16\", \"17\", \"18\", \"19\", \"20\", \"21\", \"22\", \"23\", \"24\", \"25\", \"26\", \"27\", \"28\", \"29\", \"30\", \"31\", \"32\", \"33\", \"38\", \"39\"], \"mode\": \"lines\", \"name\": \"recall_score_weighted_max\", \"stepped\": true, \"type\": \"scatter\", \"data\": [0.6398724809290676, 0.6408971877490607, 0.6408971877490607, 0.6408971877490607, 0.6408971877490607, 0.6408971877490607, 0.6408971877490607, 0.6408971877490607, 0.6408971877490607, 0.6408971877490607, 0.6408971877490607, 0.6408971877490607, 0.6408971877490607, 0.6408971877490607, 0.6408971877490607, 0.6408971877490607, 0.6408971877490607, 0.6408971877490607, 0.6408971877490607, 0.6408971877490607, 0.6408971877490607, 0.6408971877490607, 0.6408971877490607, 0.6408971877490607, 0.6408971877490607, 0.6408971877490607, 0.6408971877490607, 0.6408971877490607, 0.6408971877490607, 0.6408971877490607, 0.6408971877490607, 0.6408971877490607, 0.6408971877490607, 0.6408971877490607, 0.6420357508823864, 0.6420357508823864]}], \"f1_score_weighted\": [{\"categories\": [\"0\", \"1\", \"2\", \"3\", \"4\", \"5\", \"6\", \"7\", \"8\", \"9\", \"10\", \"11\", \"12\", \"13\", \"14\", \"15\", \"16\", \"17\", \"18\", \"19\", \"20\", \"21\", \"22\", \"23\", \"24\", \"25\", \"26\", \"27\", \"28\", \"29\", \"30\", \"31\", \"32\", \"33\", \"38\", \"39\"], \"mode\": \"markers\", \"name\": \"f1_score_weighted\", \"stepped\": false, \"type\": \"scatter\", \"data\": [0.6362679338614183, 0.634795435268252, 0.634882347760159, 0.6209980019256556, 0.6360870421908781, 0.6322637410660503, 0.6350518374389627, 0.6297586566356481, 0.633764444750117, 0.6339202642759606, 0.63484539297672, 0.6322346304974624, 0.6246653402274931, 0.6291087289211934, 0.6261437589688501, 0.6166687447465221, 0.629422116933383, 0.6246653402274931, 0.6282322668278635, 0.6206269164987075, 0.613802956020188, 0.6185115264200681, 0.6145910218931534, 0.6246017841179179, 0.627757832305081, 0.3346625032474092, 0.613802956020188, 0.6169933554853756, 0.633272305977347, 0.633272305977347, 0.6311892332803555, 0.633272305977347, 0.6332486712981682, 0.6326465547581561, 0.6351655361242334, 0.6352161246319888]}, {\"categories\": [\"0\", \"1\", \"2\", \"3\", \"4\", \"5\", \"6\", \"7\", \"8\", \"9\", \"10\", \"11\", \"12\", \"13\", \"14\", \"15\", \"16\", \"17\", \"18\", \"19\", \"20\", \"21\", \"22\", \"23\", \"24\", \"25\", \"26\", \"27\", \"28\", \"29\", \"30\", \"31\", \"32\", \"33\", \"38\", \"39\"], \"mode\": \"lines\", \"name\": \"f1_score_weighted_max\", \"stepped\": true, \"type\": \"scatter\", \"data\": [0.6362679338614183, 0.6362679338614183, 0.6362679338614183, 0.6362679338614183, 0.6362679338614183, 0.6362679338614183, 0.6362679338614183, 0.6362679338614183, 0.6362679338614183, 0.6362679338614183, 0.6362679338614183, 0.6362679338614183, 0.6362679338614183, 0.6362679338614183, 0.6362679338614183, 0.6362679338614183, 0.6362679338614183, 0.6362679338614183, 0.6362679338614183, 0.6362679338614183, 0.6362679338614183, 0.6362679338614183, 0.6362679338614183, 0.6362679338614183, 0.6362679338614183, 0.6362679338614183, 0.6362679338614183, 0.6362679338614183, 0.6362679338614183, 0.6362679338614183, 0.6362679338614183, 0.6362679338614183, 0.6362679338614183, 0.6362679338614183, 0.6362679338614183, 0.6362679338614183]}], \"balanced_accuracy\": [{\"categories\": [\"0\", \"1\", \"2\", \"3\", \"4\", \"5\", \"6\", \"7\", \"8\", \"9\", \"10\", \"11\", \"12\", \"13\", \"14\", \"15\", \"16\", \"17\", \"18\", \"19\", \"20\", \"21\", \"22\", \"23\", \"24\", \"25\", \"26\", \"27\", \"28\", \"29\", \"30\", \"31\", \"32\", \"33\", \"38\", \"39\"], \"mode\": \"markers\", \"name\": \"balanced_accuracy\", \"stepped\": false, \"type\": \"scatter\", \"data\": [0.6401113457071297, 0.6412071104199176, 0.6381564489839391, 0.623671297135072, 0.6404695226309222, 0.6370647029047514, 0.6373216102618169, 0.6387583365905871, 0.6386619671641856, 0.6385402155294314, 0.6393336752888049, 0.6384690986780406, 0.631302915682015, 0.6367941840467817, 0.6363904798932982, 0.628443904178767, 0.6384164934678795, 0.631302915682015, 0.6391366585357178, 0.6301106519094836, 0.6283755096275572, 0.6335086010685314, 0.6285945121954382, 0.6321203316829799, 0.6283476643857075, 0.5, 0.6283755096275572, 0.6326064567152716, 0.6406604206902695, 0.6406604206902695, 0.6361582028712023, 0.6406604206902695, 0.6406609651503057, 0.6399756455247823, 0.6423647361634816, 0.6401434688492635]}, {\"categories\": [\"0\", \"1\", \"2\", \"3\", \"4\", \"5\", \"6\", \"7\", \"8\", \"9\", \"10\", \"11\", \"12\", \"13\", \"14\", \"15\", \"16\", \"17\", \"18\", \"19\", \"20\", \"21\", \"22\", \"23\", \"24\", \"25\", \"26\", \"27\", \"28\", \"29\", \"30\", \"31\", \"32\", \"33\", \"38\", \"39\"], \"mode\": \"lines\", \"name\": \"balanced_accuracy_max\", \"stepped\": true, \"type\": \"scatter\", \"data\": [0.6401113457071297, 0.6412071104199176, 0.6412071104199176, 0.6412071104199176, 0.6412071104199176, 0.6412071104199176, 0.6412071104199176, 0.6412071104199176, 0.6412071104199176, 0.6412071104199176, 0.6412071104199176, 0.6412071104199176, 0.6412071104199176, 0.6412071104199176, 0.6412071104199176, 0.6412071104199176, 0.6412071104199176, 0.6412071104199176, 0.6412071104199176, 0.6412071104199176, 0.6412071104199176, 0.6412071104199176, 0.6412071104199176, 0.6412071104199176, 0.6412071104199176, 0.6412071104199176, 0.6412071104199176, 0.6412071104199176, 0.6412071104199176, 0.6412071104199176, 0.6412071104199176, 0.6412071104199176, 0.6412071104199176, 0.6412071104199176, 0.6423647361634816, 0.6423647361634816]}], \"precision_score_weighted\": [{\"categories\": [\"0\", \"1\", \"2\", \"3\", \"4\", \"5\", \"6\", \"7\", \"8\", \"9\", \"10\", \"11\", \"12\", \"13\", \"14\", \"15\", \"16\", \"17\", \"18\", \"19\", \"20\", \"21\", \"22\", \"23\", \"24\", \"25\", \"26\", \"27\", \"28\", \"29\", \"30\", \"31\", \"32\", \"33\", \"38\", \"39\"], \"mode\": \"markers\", \"name\": \"precision_score_weighted\", \"stepped\": false, \"type\": \"scatter\", \"data\": [0.645968319310223, 0.6514197783888493, 0.6430062760983946, 0.6270467838102699, 0.6472239773749531, 0.6442575887910886, 0.6405923357655047, 0.6531530989713219, 0.6461273418839727, 0.6455481456407747, 0.6461836868136601, 0.6481116614620016, 0.6408889474142324, 0.6486750522708294, 0.6525998971305788, 0.6458528021846027, 0.652752287882001, 0.6408889474142324, 0.6569976271343523, 0.644055410043227, 0.6505084024960291, 0.6576668719500995, 0.6497939461390747, 0.6431785245396467, 0.6290683807055573, 0.2511969204894165, 0.6505084024960291, 0.6576725337764999, 0.652495993957128, 0.652495993957128, 0.643551202363341, 0.652495993957128, 0.6525385505515451, 0.6516288738987976, 0.6540698467413734, 0.6477688717494855]}, {\"categories\": [\"0\", \"1\", \"2\", \"3\", \"4\", \"5\", \"6\", \"7\", \"8\", \"9\", \"10\", \"11\", \"12\", \"13\", \"14\", \"15\", \"16\", \"17\", \"18\", \"19\", \"20\", \"21\", \"22\", \"23\", \"24\", \"25\", \"26\", \"27\", \"28\", \"29\", \"30\", \"31\", \"32\", \"33\", \"38\", \"39\"], \"mode\": \"lines\", \"name\": \"precision_score_weighted_max\", \"stepped\": true, \"type\": \"scatter\", \"data\": [0.645968319310223, 0.6514197783888493, 0.6514197783888493, 0.6514197783888493, 0.6514197783888493, 0.6514197783888493, 0.6514197783888493, 0.6531530989713219, 0.6531530989713219, 0.6531530989713219, 0.6531530989713219, 0.6531530989713219, 0.6531530989713219, 0.6531530989713219, 0.6531530989713219, 0.6531530989713219, 0.6531530989713219, 0.6531530989713219, 0.6569976271343523, 0.6569976271343523, 0.6569976271343523, 0.6576668719500995, 0.6576668719500995, 0.6576668719500995, 0.6576668719500995, 0.6576668719500995, 0.6576668719500995, 0.6576725337764999, 0.6576725337764999, 0.6576725337764999, 0.6576725337764999, 0.6576725337764999, 0.6576725337764999, 0.6576725337764999, 0.6576725337764999, 0.6576725337764999]}], \"recall_score_micro\": [{\"categories\": [\"0\", \"1\", \"2\", \"3\", \"4\", \"5\", \"6\", \"7\", \"8\", \"9\", \"10\", \"11\", \"12\", \"13\", \"14\", \"15\", \"16\", \"17\", \"18\", \"19\", \"20\", \"21\", \"22\", \"23\", \"24\", \"25\", \"26\", \"27\", \"28\", \"29\", \"30\", \"31\", \"32\", \"33\", \"38\", \"39\"], \"mode\": \"markers\", \"name\": \"recall_score_micro\", \"stepped\": false, \"type\": \"scatter\", \"data\": [0.6398724809290676, 0.6408971877490607, 0.6379369236024137, 0.6234771718091768, 0.6402140498690653, 0.636798360469088, 0.6371399294090857, 0.638392348855744, 0.638392348855744, 0.6382784925424114, 0.6390754867357396, 0.6381646362290789, 0.6309916884891267, 0.6364567915290903, 0.63600136627576, 0.6280314243424798, 0.6380507799157463, 0.6309916884891267, 0.6387339177957417, 0.6297392690424684, 0.6279175680291472, 0.633041102129113, 0.6281452806558123, 0.6317886826824547, 0.6282591369691449, 0.5011954912899921, 0.6279175680291472, 0.6321302516224525, 0.6403279061823978, 0.6403279061823978, 0.6358875099624274, 0.6403279061823978, 0.6403279061823978, 0.6396447683024024, 0.6420357508823864, 0.6398724809290676]}, {\"categories\": [\"0\", \"1\", \"2\", \"3\", \"4\", \"5\", \"6\", \"7\", \"8\", \"9\", \"10\", \"11\", \"12\", \"13\", \"14\", \"15\", \"16\", \"17\", \"18\", \"19\", \"20\", \"21\", \"22\", \"23\", \"24\", \"25\", \"26\", \"27\", \"28\", \"29\", \"30\", \"31\", \"32\", \"33\", \"38\", \"39\"], \"mode\": \"lines\", \"name\": \"recall_score_micro_max\", \"stepped\": true, \"type\": \"scatter\", \"data\": [0.6398724809290676, 0.6408971877490607, 0.6408971877490607, 0.6408971877490607, 0.6408971877490607, 0.6408971877490607, 0.6408971877490607, 0.6408971877490607, 0.6408971877490607, 0.6408971877490607, 0.6408971877490607, 0.6408971877490607, 0.6408971877490607, 0.6408971877490607, 0.6408971877490607, 0.6408971877490607, 0.6408971877490607, 0.6408971877490607, 0.6408971877490607, 0.6408971877490607, 0.6408971877490607, 0.6408971877490607, 0.6408971877490607, 0.6408971877490607, 0.6408971877490607, 0.6408971877490607, 0.6408971877490607, 0.6408971877490607, 0.6408971877490607, 0.6408971877490607, 0.6408971877490607, 0.6408971877490607, 0.6408971877490607, 0.6408971877490607, 0.6420357508823864, 0.6420357508823864]}], \"AUC_micro\": [{\"categories\": [\"0\", \"1\", \"2\", \"3\", \"4\", \"5\", \"6\", \"7\", \"8\", \"9\", \"10\", \"11\", \"12\", \"13\", \"14\", \"15\", \"16\", \"17\", \"18\", \"19\", \"20\", \"21\", \"22\", \"23\", \"24\", \"25\", \"26\", \"27\", \"28\", \"29\", \"30\", \"31\", \"32\", \"33\", \"38\", \"39\"], \"mode\": \"markers\", \"name\": \"AUC_micro\", \"stepped\": false, \"type\": \"scatter\", \"data\": [0.6946059706261082, 0.6937961103971452, 0.6850141433704677, 0.6666184476602346, 0.6849849889985349, 0.684378632508027, 0.6897076861333913, 0.6864702285963321, 0.69329456186443, 0.692014355669778, 0.6918601317645385, 0.6945747291693017, 0.6735147594299582, 0.6828964522396099, 0.6882435247964934, 0.6713263537153331, 0.6856071477030873, 0.67450595622263, 0.6929279025345364, 0.6760392376623047, 0.6733982586115683, 0.6835895329400912, 0.6788816657747727, 0.6815769479220082, 0.6789378096542038, 0.5011954912899921, 0.6652588350159278, 0.6807072039130793, 0.690203284529727, 0.6902519486080887, 0.6925209858004467, 0.6902503930168784, 0.6903318282167367, 0.6900471031722147, 0.6915708695789867, 0.6909369013444961]}, {\"categories\": [\"0\", \"1\", \"2\", \"3\", \"4\", \"5\", \"6\", \"7\", \"8\", \"9\", \"10\", \"11\", \"12\", \"13\", \"14\", \"15\", \"16\", \"17\", \"18\", \"19\", \"20\", \"21\", \"22\", \"23\", \"24\", \"25\", \"26\", \"27\", \"28\", \"29\", \"30\", \"31\", \"32\", \"33\", \"38\", \"39\"], \"mode\": \"lines\", \"name\": \"AUC_micro_max\", \"stepped\": true, \"type\": \"scatter\", \"data\": [0.6946059706261082, 0.6946059706261082, 0.6946059706261082, 0.6946059706261082, 0.6946059706261082, 0.6946059706261082, 0.6946059706261082, 0.6946059706261082, 0.6946059706261082, 0.6946059706261082, 0.6946059706261082, 0.6946059706261082, 0.6946059706261082, 0.6946059706261082, 0.6946059706261082, 0.6946059706261082, 0.6946059706261082, 0.6946059706261082, 0.6946059706261082, 0.6946059706261082, 0.6946059706261082, 0.6946059706261082, 0.6946059706261082, 0.6946059706261082, 0.6946059706261082, 0.6946059706261082, 0.6946059706261082, 0.6946059706261082, 0.6946059706261082, 0.6946059706261082, 0.6946059706261082, 0.6946059706261082, 0.6946059706261082, 0.6946059706261082, 0.6946059706261082, 0.6946059706261082]}], \"recall_score_macro\": [{\"categories\": [\"0\", \"1\", \"2\", \"3\", \"4\", \"5\", \"6\", \"7\", \"8\", \"9\", \"10\", \"11\", \"12\", \"13\", \"14\", \"15\", \"16\", \"17\", \"18\", \"19\", \"20\", \"21\", \"22\", \"23\", \"24\", \"25\", \"26\", \"27\", \"28\", \"29\", \"30\", \"31\", \"32\", \"33\", \"38\", \"39\"], \"mode\": \"markers\", \"name\": \"recall_score_macro\", \"stepped\": false, \"type\": \"scatter\", \"data\": [0.6401113457071297, 0.6412071104199176, 0.6381564489839391, 0.623671297135072, 0.6404695226309222, 0.6370647029047514, 0.6373216102618169, 0.6387583365905871, 0.6386619671641856, 0.6385402155294314, 0.6393336752888049, 0.6384690986780406, 0.631302915682015, 0.6367941840467817, 0.6363904798932982, 0.628443904178767, 0.6384164934678795, 0.631302915682015, 0.6391366585357178, 0.6301106519094836, 0.6283755096275572, 0.6335086010685314, 0.6285945121954382, 0.6321203316829799, 0.6283476643857075, 0.5, 0.6283755096275572, 0.6326064567152716, 0.6406604206902695, 0.6406604206902695, 0.6361582028712023, 0.6406604206902695, 0.6406609651503057, 0.6399756455247823, 0.6423647361634816, 0.6401434688492635]}, {\"categories\": [\"0\", \"1\", \"2\", \"3\", \"4\", \"5\", \"6\", \"7\", \"8\", \"9\", \"10\", \"11\", \"12\", \"13\", \"14\", \"15\", \"16\", \"17\", \"18\", \"19\", \"20\", \"21\", \"22\", \"23\", \"24\", \"25\", \"26\", \"27\", \"28\", \"29\", \"30\", \"31\", \"32\", \"33\", \"38\", \"39\"], \"mode\": \"lines\", \"name\": \"recall_score_macro_max\", \"stepped\": true, \"type\": \"scatter\", \"data\": [0.6401113457071297, 0.6412071104199176, 0.6412071104199176, 0.6412071104199176, 0.6412071104199176, 0.6412071104199176, 0.6412071104199176, 0.6412071104199176, 0.6412071104199176, 0.6412071104199176, 0.6412071104199176, 0.6412071104199176, 0.6412071104199176, 0.6412071104199176, 0.6412071104199176, 0.6412071104199176, 0.6412071104199176, 0.6412071104199176, 0.6412071104199176, 0.6412071104199176, 0.6412071104199176, 0.6412071104199176, 0.6412071104199176, 0.6412071104199176, 0.6412071104199176, 0.6412071104199176, 0.6412071104199176, 0.6412071104199176, 0.6412071104199176, 0.6412071104199176, 0.6412071104199176, 0.6412071104199176, 0.6412071104199176, 0.6412071104199176, 0.6423647361634816, 0.6423647361634816]}], \"average_precision_score_weighted\": [{\"categories\": [\"0\", \"1\", \"2\", \"3\", \"4\", \"5\", \"6\", \"7\", \"8\", \"9\", \"10\", \"11\", \"12\", \"13\", \"14\", \"15\", \"16\", \"17\", \"18\", \"19\", \"20\", \"21\", \"22\", \"23\", \"24\", \"25\", \"26\", \"27\", \"28\", \"29\", \"30\", \"31\", \"32\", \"33\", \"38\", \"39\"], \"mode\": \"markers\", \"name\": \"average_precision_score_weighted\", \"stepped\": false, \"type\": \"scatter\", \"data\": [0.6798326036360132, 0.6774282153443337, 0.661587144540018, 0.6508649096906901, 0.6625643416221305, 0.6601625277136703, 0.6736010527398218, 0.6667356710989562, 0.6763279443895858, 0.6745766898720571, 0.6737699799948258, 0.6778258374840271, 0.6351860222335813, 0.6587115123085238, 0.6674945415641057, 0.6379408192365293, 0.664804536779435, 0.6438856290111603, 0.6738927956964469, 0.6554456457666185, 0.6484146740583698, 0.6617279987309668, 0.6550903851781347, 0.6549439191316082, 0.6621494885508241, 0.500002858398849, 0.6301950417074214, 0.6561852953201125, 0.6710014502533019, 0.6711568148731497, 0.6765206044740877, 0.671131495938314, 0.6713147564350314, 0.6724065067042497, 0.6735466258642014, 0.6740104548222592]}, {\"categories\": [\"0\", \"1\", \"2\", \"3\", \"4\", \"5\", \"6\", \"7\", \"8\", \"9\", \"10\", \"11\", \"12\", \"13\", \"14\", \"15\", \"16\", \"17\", \"18\", \"19\", \"20\", \"21\", \"22\", \"23\", \"24\", \"25\", \"26\", \"27\", \"28\", \"29\", \"30\", \"31\", \"32\", \"33\", \"38\", \"39\"], \"mode\": \"lines\", \"name\": \"average_precision_score_weighted_max\", \"stepped\": true, \"type\": \"scatter\", \"data\": [0.6798326036360132, 0.6798326036360132, 0.6798326036360132, 0.6798326036360132, 0.6798326036360132, 0.6798326036360132, 0.6798326036360132, 0.6798326036360132, 0.6798326036360132, 0.6798326036360132, 0.6798326036360132, 0.6798326036360132, 0.6798326036360132, 0.6798326036360132, 0.6798326036360132, 0.6798326036360132, 0.6798326036360132, 0.6798326036360132, 0.6798326036360132, 0.6798326036360132, 0.6798326036360132, 0.6798326036360132, 0.6798326036360132, 0.6798326036360132, 0.6798326036360132, 0.6798326036360132, 0.6798326036360132, 0.6798326036360132, 0.6798326036360132, 0.6798326036360132, 0.6798326036360132, 0.6798326036360132, 0.6798326036360132, 0.6798326036360132, 0.6798326036360132, 0.6798326036360132]}], \"matthews_correlation\": [{\"categories\": [\"0\", \"1\", \"2\", \"3\", \"4\", \"5\", \"6\", \"7\", \"8\", \"9\", \"10\", \"11\", \"12\", \"13\", \"14\", \"15\", \"16\", \"17\", \"18\", \"19\", \"20\", \"21\", \"22\", \"23\", \"24\", \"25\", \"26\", \"27\", \"28\", \"29\", \"30\", \"31\", \"32\", \"33\", \"38\", \"39\"], \"mode\": \"markers\", \"name\": \"matthews_correlation\", \"stepped\": false, \"type\": \"scatter\", \"data\": [0.285948836720005, 0.29235550566989627, 0.2810566143122779, 0.2506440627080341, 0.28753818866527686, 0.2811528833606096, 0.27784161822486986, 0.2914471654063449, 0.2846121595804639, 0.2839250478049216, 0.28535894868663175, 0.28632879257277793, 0.27193583460755705, 0.2851231946818999, 0.2884207431446652, 0.2736283757016416, 0.2907068663138607, 0.27193583460755705, 0.2954737326134387, 0.27370705572980086, 0.27787460797593116, 0.29003359188169714, 0.27745305324666225, 0.274982953164311, 0.2573895895445316, 0.0, 0.27787460797593116, 0.2890546976755562, 0.2928175392684974, 0.2928175392684974, 0.2795334621821268, 0.2928175392684974, 0.29285880248099866, 0.29127270772119573, 0.2961034924403513, 0.28773082865491234]}, {\"categories\": [\"0\", \"1\", \"2\", \"3\", \"4\", \"5\", \"6\", \"7\", \"8\", \"9\", \"10\", \"11\", \"12\", \"13\", \"14\", \"15\", \"16\", \"17\", \"18\", \"19\", \"20\", \"21\", \"22\", \"23\", \"24\", \"25\", \"26\", \"27\", \"28\", \"29\", \"30\", \"31\", \"32\", \"33\", \"38\", \"39\"], \"mode\": \"lines\", \"name\": \"matthews_correlation_max\", \"stepped\": true, \"type\": \"scatter\", \"data\": [0.285948836720005, 0.29235550566989627, 0.29235550566989627, 0.29235550566989627, 0.29235550566989627, 0.29235550566989627, 0.29235550566989627, 0.29235550566989627, 0.29235550566989627, 0.29235550566989627, 0.29235550566989627, 0.29235550566989627, 0.29235550566989627, 0.29235550566989627, 0.29235550566989627, 0.29235550566989627, 0.29235550566989627, 0.29235550566989627, 0.2954737326134387, 0.2954737326134387, 0.2954737326134387, 0.2954737326134387, 0.2954737326134387, 0.2954737326134387, 0.2954737326134387, 0.2954737326134387, 0.2954737326134387, 0.2954737326134387, 0.2954737326134387, 0.2954737326134387, 0.2954737326134387, 0.2954737326134387, 0.2954737326134387, 0.2954737326134387, 0.2961034924403513, 0.2961034924403513]}], \"log_loss\": [{\"categories\": [\"0\", \"1\", \"2\", \"3\", \"4\", \"5\", \"6\", \"7\", \"8\", \"9\", \"10\", \"11\", \"12\", \"13\", \"14\", \"15\", \"16\", \"17\", \"18\", \"19\", \"20\", \"21\", \"22\", \"23\", \"24\", \"25\", \"26\", \"27\", \"28\", \"29\", \"30\", \"31\", \"32\", \"33\", \"38\", \"39\"], \"mode\": \"markers\", \"name\": \"log_loss\", \"stepped\": false, \"type\": \"scatter\", \"data\": [0.6319136455192262, 0.6325631903205481, 0.6450944934168447, 0.6639608167214153, 0.647515510369471, 0.6496511420143312, 0.6514344249934007, 0.640484656880864, 0.6334016147291606, 0.634469134109981, 0.6467589128733334, 0.6323187455610102, 0.6458396422573648, 0.652737085930872, 0.6369084474687113, 0.6485728088867941, 0.6496551680629516, 0.6463442556263067, 0.6449342053726453, 0.6585333311249948, 0.6523220173580249, 0.6433680251764227, 0.6443704261031191, 0.6436034289893686, 0.6703562305229424, 0.693145216334977, 0.6501115450667031, 0.6417508157817557, 0.634946677389332, 0.6349203506543687, 0.6335679450768075, 0.6349222425189026, 0.6348896893115389, 0.6350043619639528, 0.6358452360325219, 0.6860821742706199]}, {\"categories\": [\"0\", \"1\", \"2\", \"3\", \"4\", \"5\", \"6\", \"7\", \"8\", \"9\", \"10\", \"11\", \"12\", \"13\", \"14\", \"15\", \"16\", \"17\", \"18\", \"19\", \"20\", \"21\", \"22\", \"23\", \"24\", \"25\", \"26\", \"27\", \"28\", \"29\", \"30\", \"31\", \"32\", \"33\", \"38\", \"39\"], \"mode\": \"lines\", \"name\": \"log_loss_min\", \"stepped\": true, \"type\": \"scatter\", \"data\": [0.6319136455192262, 0.6319136455192262, 0.6319136455192262, 0.6319136455192262, 0.6319136455192262, 0.6319136455192262, 0.6319136455192262, 0.6319136455192262, 0.6319136455192262, 0.6319136455192262, 0.6319136455192262, 0.6319136455192262, 0.6319136455192262, 0.6319136455192262, 0.6319136455192262, 0.6319136455192262, 0.6319136455192262, 0.6319136455192262, 0.6319136455192262, 0.6319136455192262, 0.6319136455192262, 0.6319136455192262, 0.6319136455192262, 0.6319136455192262, 0.6319136455192262, 0.6319136455192262, 0.6319136455192262, 0.6319136455192262, 0.6319136455192262, 0.6319136455192262, 0.6319136455192262, 0.6319136455192262, 0.6319136455192262, 0.6319136455192262, 0.6319136455192262, 0.6319136455192262]}], \"precision_score_macro\": [{\"categories\": [\"0\", \"1\", \"2\", \"3\", \"4\", \"5\", \"6\", \"7\", \"8\", \"9\", \"10\", \"11\", \"12\", \"13\", \"14\", \"15\", \"16\", \"17\", \"18\", \"19\", \"20\", \"21\", \"22\", \"23\", \"24\", \"25\", \"26\", \"27\", \"28\", \"29\", \"30\", \"31\", \"32\", \"33\", \"38\", \"39\"], \"mode\": \"markers\", \"name\": \"precision_score_macro\", \"stepped\": false, \"type\": \"scatter\", \"data\": [0.645895995804006, 0.651323367218066, 0.64294088518782, 0.6269947991694773, 0.6471461716256806, 0.6441781548180856, 0.6405386316666271, 0.6530384629682053, 0.646045961696802, 0.6454693723099875, 0.6461056155784947, 0.6480189050100073, 0.6407986596481909, 0.6485721719678718, 0.6524786135022032, 0.645729936480504, 0.6526380274573927, 0.6407986596481909, 0.6568686634840125, 0.6439458477396497, 0.6503680452404657, 0.6575169759598849, 0.6496568466290782, 0.6430809769544097, 0.6290428640111659, 0.25059774564499604, 0.6503680452404657, 0.6575198906560575, 0.6523920355180435, 0.6523920355180435, 0.6434708942094393, 0.6523920355180435, 0.6524343980203704, 0.6515259850118293, 0.6539659339070646, 0.647686207638205]}, {\"categories\": [\"0\", \"1\", \"2\", \"3\", \"4\", \"5\", \"6\", \"7\", \"8\", \"9\", \"10\", \"11\", \"12\", \"13\", \"14\", \"15\", \"16\", \"17\", \"18\", \"19\", \"20\", \"21\", \"22\", \"23\", \"24\", \"25\", \"26\", \"27\", \"28\", \"29\", \"30\", \"31\", \"32\", \"33\", \"38\", \"39\"], \"mode\": \"lines\", \"name\": \"precision_score_macro_max\", \"stepped\": true, \"type\": \"scatter\", \"data\": [0.645895995804006, 0.651323367218066, 0.651323367218066, 0.651323367218066, 0.651323367218066, 0.651323367218066, 0.651323367218066, 0.6530384629682053, 0.6530384629682053, 0.6530384629682053, 0.6530384629682053, 0.6530384629682053, 0.6530384629682053, 0.6530384629682053, 0.6530384629682053, 0.6530384629682053, 0.6530384629682053, 0.6530384629682053, 0.6568686634840125, 0.6568686634840125, 0.6568686634840125, 0.6575169759598849, 0.6575169759598849, 0.6575169759598849, 0.6575169759598849, 0.6575169759598849, 0.6575169759598849, 0.6575198906560575, 0.6575198906560575, 0.6575198906560575, 0.6575198906560575, 0.6575198906560575, 0.6575198906560575, 0.6575198906560575, 0.6575198906560575, 0.6575198906560575]}], \"weighted_accuracy\": [{\"categories\": [\"0\", \"1\", \"2\", \"3\", \"4\", \"5\", \"6\", \"7\", \"8\", \"9\", \"10\", \"11\", \"12\", \"13\", \"14\", \"15\", \"16\", \"17\", \"18\", \"19\", \"20\", \"21\", \"22\", \"23\", \"24\", \"25\", \"26\", \"27\", \"28\", \"29\", \"30\", \"31\", \"32\", \"33\", \"38\", \"39\"], \"mode\": \"markers\", \"name\": \"weighted_accuracy\", \"stepped\": false, \"type\": \"scatter\", \"data\": [0.6396336188820729, 0.6405872686217139, 0.6377174007308384, 0.6232830487028193, 0.6399585800281637, 0.6365320210786589, 0.636958250633608, 0.6380263653054328, 0.6381227336299914, 0.6380167725478091, 0.6388173011346806, 0.6378601772611977, 0.6306804648546639, 0.6361194028689863, 0.635612257107164, 0.6276189492222931, 0.63768507054501, 0.6306804648546639, 0.6383311816605141, 0.6293678904216703, 0.6274596316666262, 0.6325736085348579, 0.627696054252489, 0.6314570374738483, 0.6281706105647631, 0.5023909689112984, 0.6274596316666262, 0.6316540519743385, 0.6399953954763407, 0.6399953954763407, 0.635616820148628, 0.6399953954763407, 0.6399948510225296, 0.6393138948631172, 0.6417067693627544, 0.63960149610722]}, {\"categories\": [\"0\", \"1\", \"2\", \"3\", \"4\", \"5\", \"6\", \"7\", \"8\", \"9\", \"10\", \"11\", \"12\", \"13\", \"14\", \"15\", \"16\", \"17\", \"18\", \"19\", \"20\", \"21\", \"22\", \"23\", \"24\", \"25\", \"26\", \"27\", \"28\", \"29\", \"30\", \"31\", \"32\", \"33\", \"38\", \"39\"], \"mode\": \"lines\", \"name\": \"weighted_accuracy_max\", \"stepped\": true, \"type\": \"scatter\", \"data\": [0.6396336188820729, 0.6405872686217139, 0.6405872686217139, 0.6405872686217139, 0.6405872686217139, 0.6405872686217139, 0.6405872686217139, 0.6405872686217139, 0.6405872686217139, 0.6405872686217139, 0.6405872686217139, 0.6405872686217139, 0.6405872686217139, 0.6405872686217139, 0.6405872686217139, 0.6405872686217139, 0.6405872686217139, 0.6405872686217139, 0.6405872686217139, 0.6405872686217139, 0.6405872686217139, 0.6405872686217139, 0.6405872686217139, 0.6405872686217139, 0.6405872686217139, 0.6405872686217139, 0.6405872686217139, 0.6405872686217139, 0.6405872686217139, 0.6405872686217139, 0.6405872686217139, 0.6405872686217139, 0.6405872686217139, 0.6405872686217139, 0.6417067693627544, 0.6417067693627544]}], \"average_precision_score_micro\": [{\"categories\": [\"0\", \"1\", \"2\", \"3\", \"4\", \"5\", \"6\", \"7\", \"8\", \"9\", \"10\", \"11\", \"12\", \"13\", \"14\", \"15\", \"16\", \"17\", \"18\", \"19\", \"20\", \"21\", \"22\", \"23\", \"24\", \"25\", \"26\", \"27\", \"28\", \"29\", \"30\", \"31\", \"32\", \"33\", \"38\", \"39\"], \"mode\": \"markers\", \"name\": \"average_precision_score_micro\", \"stepped\": false, \"type\": \"scatter\", \"data\": [0.685476822642709, 0.6835967510059402, 0.6684666701092903, 0.6547328179388958, 0.668557054373127, 0.66798253527176, 0.6776960506700511, 0.6728971521834558, 0.6819419355296388, 0.6800191578763799, 0.6800892892935113, 0.6840444874986464, 0.6496818640986499, 0.6651329918004829, 0.6758986149247334, 0.6512213674278444, 0.6730312133378927, 0.656954149427063, 0.6803926824809258, 0.6636523197613213, 0.6610361505318415, 0.6713400583447987, 0.6662699712069663, 0.6668723577695045, 0.6651141623778349, 0.5005991748444205, 0.6464994375842295, 0.6678965310276033, 0.6790650851271738, 0.6791048536292934, 0.6816774164290644, 0.6790977628369802, 0.6791740824692984, 0.6793145425743199, 0.6808832612149752, 0.6799548316784587]}, {\"categories\": [\"0\", \"1\", \"2\", \"3\", \"4\", \"5\", \"6\", \"7\", \"8\", \"9\", \"10\", \"11\", \"12\", \"13\", \"14\", \"15\", \"16\", \"17\", \"18\", \"19\", \"20\", \"21\", \"22\", \"23\", \"24\", \"25\", \"26\", \"27\", \"28\", \"29\", \"30\", \"31\", \"32\", \"33\", \"38\", \"39\"], \"mode\": \"lines\", \"name\": \"average_precision_score_micro_max\", \"stepped\": true, \"type\": \"scatter\", \"data\": [0.685476822642709, 0.685476822642709, 0.685476822642709, 0.685476822642709, 0.685476822642709, 0.685476822642709, 0.685476822642709, 0.685476822642709, 0.685476822642709, 0.685476822642709, 0.685476822642709, 0.685476822642709, 0.685476822642709, 0.685476822642709, 0.685476822642709, 0.685476822642709, 0.685476822642709, 0.685476822642709, 0.685476822642709, 0.685476822642709, 0.685476822642709, 0.685476822642709, 0.685476822642709, 0.685476822642709, 0.685476822642709, 0.685476822642709, 0.685476822642709, 0.685476822642709, 0.685476822642709, 0.685476822642709, 0.685476822642709, 0.685476822642709, 0.685476822642709, 0.685476822642709, 0.685476822642709, 0.685476822642709]}], \"AUC_macro\": [{\"categories\": [\"0\", \"1\", \"2\", \"3\", \"4\", \"5\", \"6\", \"7\", \"8\", \"9\", \"10\", \"11\", \"12\", \"13\", \"14\", \"15\", \"16\", \"17\", \"18\", \"19\", \"20\", \"21\", \"22\", \"23\", \"24\", \"25\", \"26\", \"27\", \"28\", \"29\", \"30\", \"31\", \"32\", \"33\", \"38\", \"39\"], \"mode\": \"markers\", \"name\": \"AUC_macro\", \"stepped\": false, \"type\": \"scatter\", \"data\": [0.6888059586950839, 0.68760979295896, 0.6789726733952247, 0.6627052186546321, 0.6789021269305386, 0.6762606401750735, 0.6851503762322557, 0.68015264792694, 0.6871235123666579, 0.6861720684534567, 0.6854637000197353, 0.6884073880219415, 0.6646300922958283, 0.6761280511929326, 0.679994521176436, 0.6623187816622955, 0.6783982421304006, 0.665597571853428, 0.6871635042526476, 0.6678602959104, 0.6655328070357927, 0.6738447672879284, 0.6668900681259509, 0.6737677132294766, 0.6770584556147363, 0.5, 0.652941468679392, 0.6675770989115881, 0.6828607143668277, 0.6829468946125524, 0.6874404269977095, 0.6829439908256929, 0.6830879875419247, 0.6830158595504667, 0.6848524528857989, 0.6852106038829231]}, {\"categories\": [\"0\", \"1\", \"2\", \"3\", \"4\", \"5\", \"6\", \"7\", \"8\", \"9\", \"10\", \"11\", \"12\", \"13\", \"14\", \"15\", \"16\", \"17\", \"18\", \"19\", \"20\", \"21\", \"22\", \"23\", \"24\", \"25\", \"26\", \"27\", \"28\", \"29\", \"30\", \"31\", \"32\", \"33\", \"38\", \"39\"], \"mode\": \"lines\", \"name\": \"AUC_macro_max\", \"stepped\": true, \"type\": \"scatter\", \"data\": [0.6888059586950839, 0.6888059586950839, 0.6888059586950839, 0.6888059586950839, 0.6888059586950839, 0.6888059586950839, 0.6888059586950839, 0.6888059586950839, 0.6888059586950839, 0.6888059586950839, 0.6888059586950839, 0.6888059586950839, 0.6888059586950839, 0.6888059586950839, 0.6888059586950839, 0.6888059586950839, 0.6888059586950839, 0.6888059586950839, 0.6888059586950839, 0.6888059586950839, 0.6888059586950839, 0.6888059586950839, 0.6888059586950839, 0.6888059586950839, 0.6888059586950839, 0.6888059586950839, 0.6888059586950839, 0.6888059586950839, 0.6888059586950839, 0.6888059586950839, 0.6888059586950839, 0.6888059586950839, 0.6888059586950839, 0.6888059586950839, 0.6888059586950839, 0.6888059586950839]}], \"norm_macro_recall\": [{\"categories\": [\"0\", \"1\", \"2\", \"3\", \"4\", \"5\", \"6\", \"7\", \"8\", \"9\", \"10\", \"11\", \"12\", \"13\", \"14\", \"15\", \"16\", \"17\", \"18\", \"19\", \"20\", \"21\", \"22\", \"23\", \"24\", \"25\", \"26\", \"27\", \"28\", \"29\", \"30\", \"31\", \"32\", \"33\", \"38\", \"39\"], \"mode\": \"markers\", \"name\": \"norm_macro_recall\", \"stepped\": false, \"type\": \"scatter\", \"data\": [0.2802226914142594, 0.28241422083983525, 0.27631289796787817, 0.24734259427014393, 0.2809390452618443, 0.27412940580950274, 0.27464322052363377, 0.27751667318117423, 0.2773239343283711, 0.2770804310588628, 0.27866735057760983, 0.27693819735608116, 0.26260583136403004, 0.27358836809356335, 0.27278095978659644, 0.2568878083575341, 0.2768329869357591, 0.26260583136403004, 0.27827331707143554, 0.26022130381896713, 0.25675101925511434, 0.2670172021370627, 0.2571890243908763, 0.26424066336595975, 0.2566953287714151, 0.0, 0.25675101925511434, 0.2652129134305432, 0.28132084138053903, 0.28132084138053903, 0.27231640574240457, 0.28132084138053903, 0.28132193030061137, 0.2799512910495645, 0.2847294723269631, 0.2802869376985271]}, {\"categories\": [\"0\", \"1\", \"2\", \"3\", \"4\", \"5\", \"6\", \"7\", \"8\", \"9\", \"10\", \"11\", \"12\", \"13\", \"14\", \"15\", \"16\", \"17\", \"18\", \"19\", \"20\", \"21\", \"22\", \"23\", \"24\", \"25\", \"26\", \"27\", \"28\", \"29\", \"30\", \"31\", \"32\", \"33\", \"38\", \"39\"], \"mode\": \"lines\", \"name\": \"norm_macro_recall_max\", \"stepped\": true, \"type\": \"scatter\", \"data\": [0.2802226914142594, 0.28241422083983525, 0.28241422083983525, 0.28241422083983525, 0.28241422083983525, 0.28241422083983525, 0.28241422083983525, 0.28241422083983525, 0.28241422083983525, 0.28241422083983525, 0.28241422083983525, 0.28241422083983525, 0.28241422083983525, 0.28241422083983525, 0.28241422083983525, 0.28241422083983525, 0.28241422083983525, 0.28241422083983525, 0.28241422083983525, 0.28241422083983525, 0.28241422083983525, 0.28241422083983525, 0.28241422083983525, 0.28241422083983525, 0.28241422083983525, 0.28241422083983525, 0.28241422083983525, 0.28241422083983525, 0.28241422083983525, 0.28241422083983525, 0.28241422083983525, 0.28241422083983525, 0.28241422083983525, 0.28241422083983525, 0.2847294723269631, 0.2847294723269631]}], \"f1_score_micro\": [{\"categories\": [\"0\", \"1\", \"2\", \"3\", \"4\", \"5\", \"6\", \"7\", \"8\", \"9\", \"10\", \"11\", \"12\", \"13\", \"14\", \"15\", \"16\", \"17\", \"18\", \"19\", \"20\", \"21\", \"22\", \"23\", \"24\", \"25\", \"26\", \"27\", \"28\", \"29\", \"30\", \"31\", \"32\", \"33\", \"38\", \"39\"], \"mode\": \"markers\", \"name\": \"f1_score_micro\", \"stepped\": false, \"type\": \"scatter\", \"data\": [0.6398724809290676, 0.6408971877490607, 0.6379369236024137, 0.6234771718091768, 0.6402140498690653, 0.636798360469088, 0.6371399294090857, 0.638392348855744, 0.638392348855744, 0.6382784925424114, 0.6390754867357396, 0.6381646362290789, 0.6309916884891267, 0.6364567915290903, 0.63600136627576, 0.6280314243424798, 0.6380507799157463, 0.6309916884891267, 0.6387339177957417, 0.6297392690424684, 0.6279175680291472, 0.633041102129113, 0.6281452806558123, 0.6317886826824547, 0.6282591369691449, 0.5011954912899921, 0.6279175680291472, 0.6321302516224525, 0.6403279061823978, 0.6403279061823978, 0.6358875099624274, 0.6403279061823978, 0.6403279061823978, 0.6396447683024024, 0.6420357508823864, 0.6398724809290676]}, {\"categories\": [\"0\", \"1\", \"2\", \"3\", \"4\", \"5\", \"6\", \"7\", \"8\", \"9\", \"10\", \"11\", \"12\", \"13\", \"14\", \"15\", \"16\", \"17\", \"18\", \"19\", \"20\", \"21\", \"22\", \"23\", \"24\", \"25\", \"26\", \"27\", \"28\", \"29\", \"30\", \"31\", \"32\", \"33\", \"38\", \"39\"], \"mode\": \"lines\", \"name\": \"f1_score_micro_max\", \"stepped\": true, \"type\": \"scatter\", \"data\": [0.6398724809290676, 0.6408971877490607, 0.6408971877490607, 0.6408971877490607, 0.6408971877490607, 0.6408971877490607, 0.6408971877490607, 0.6408971877490607, 0.6408971877490607, 0.6408971877490607, 0.6408971877490607, 0.6408971877490607, 0.6408971877490607, 0.6408971877490607, 0.6408971877490607, 0.6408971877490607, 0.6408971877490607, 0.6408971877490607, 0.6408971877490607, 0.6408971877490607, 0.6408971877490607, 0.6408971877490607, 0.6408971877490607, 0.6408971877490607, 0.6408971877490607, 0.6408971877490607, 0.6408971877490607, 0.6408971877490607, 0.6408971877490607, 0.6408971877490607, 0.6408971877490607, 0.6408971877490607, 0.6408971877490607, 0.6408971877490607, 0.6420357508823864, 0.6420357508823864]}], \"precision_score_micro\": [{\"categories\": [\"0\", \"1\", \"2\", \"3\", \"4\", \"5\", \"6\", \"7\", \"8\", \"9\", \"10\", \"11\", \"12\", \"13\", \"14\", \"15\", \"16\", \"17\", \"18\", \"19\", \"20\", \"21\", \"22\", \"23\", \"24\", \"25\", \"26\", \"27\", \"28\", \"29\", \"30\", \"31\", \"32\", \"33\", \"38\", \"39\"], \"mode\": \"markers\", \"name\": \"precision_score_micro\", \"stepped\": false, \"type\": \"scatter\", \"data\": [0.6398724809290676, 0.6408971877490607, 0.6379369236024137, 0.6234771718091768, 0.6402140498690653, 0.636798360469088, 0.6371399294090857, 0.638392348855744, 0.638392348855744, 0.6382784925424114, 0.6390754867357396, 0.6381646362290789, 0.6309916884891267, 0.6364567915290903, 0.63600136627576, 0.6280314243424798, 0.6380507799157463, 0.6309916884891267, 0.6387339177957417, 0.6297392690424684, 0.6279175680291472, 0.633041102129113, 0.6281452806558123, 0.6317886826824547, 0.6282591369691449, 0.5011954912899921, 0.6279175680291472, 0.6321302516224525, 0.6403279061823978, 0.6403279061823978, 0.6358875099624274, 0.6403279061823978, 0.6403279061823978, 0.6396447683024024, 0.6420357508823864, 0.6398724809290676]}, {\"categories\": [\"0\", \"1\", \"2\", \"3\", \"4\", \"5\", \"6\", \"7\", \"8\", \"9\", \"10\", \"11\", \"12\", \"13\", \"14\", \"15\", \"16\", \"17\", \"18\", \"19\", \"20\", \"21\", \"22\", \"23\", \"24\", \"25\", \"26\", \"27\", \"28\", \"29\", \"30\", \"31\", \"32\", \"33\", \"38\", \"39\"], \"mode\": \"lines\", \"name\": \"precision_score_micro_max\", \"stepped\": true, \"type\": \"scatter\", \"data\": [0.6398724809290676, 0.6408971877490607, 0.6408971877490607, 0.6408971877490607, 0.6408971877490607, 0.6408971877490607, 0.6408971877490607, 0.6408971877490607, 0.6408971877490607, 0.6408971877490607, 0.6408971877490607, 0.6408971877490607, 0.6408971877490607, 0.6408971877490607, 0.6408971877490607, 0.6408971877490607, 0.6408971877490607, 0.6408971877490607, 0.6408971877490607, 0.6408971877490607, 0.6408971877490607, 0.6408971877490607, 0.6408971877490607, 0.6408971877490607, 0.6408971877490607, 0.6408971877490607, 0.6408971877490607, 0.6408971877490607, 0.6408971877490607, 0.6408971877490607, 0.6408971877490607, 0.6408971877490607, 0.6408971877490607, 0.6408971877490607, 0.6420357508823864, 0.6420357508823864]}], \"AUC_weighted\": [{\"categories\": [\"0\", \"1\", \"2\", \"3\", \"4\", \"5\", \"6\", \"7\", \"8\", \"9\", \"10\", \"11\", \"12\", \"13\", \"14\", \"15\", \"16\", \"17\", \"18\", \"19\", \"20\", \"21\", \"22\", \"23\", \"24\", \"25\", \"26\", \"27\", \"28\", \"29\", \"30\", \"31\", \"32\", \"33\", \"38\", \"39\"], \"mode\": \"markers\", \"name\": \"AUC_weighted\", \"stepped\": false, \"type\": \"scatter\", \"data\": [0.6888059586950839, 0.6876097927419941, 0.6789726733952246, 0.662705218654632, 0.6789021269305388, 0.6762606401750735, 0.6851503762322556, 0.6801526479269399, 0.687123512397653, 0.6861720684534567, 0.6854637000197353, 0.6884073880219415, 0.6646300922958283, 0.6761280511929326, 0.679994521176436, 0.6623187816622956, 0.6783982421304005, 0.665597571853428, 0.6871635042526476, 0.6678602959104001, 0.6655328070357925, 0.6738447672879284, 0.6668900681259509, 0.6737677132294766, 0.6770584556147363, 0.5, 0.652941468679392, 0.667577098911588, 0.6828607143668277, 0.6829468946125524, 0.6874404269977095, 0.6829439908256928, 0.6830879875419248, 0.6830158595504667, 0.684852452885799, 0.685210603882923]}, {\"categories\": [\"0\", \"1\", \"2\", \"3\", \"4\", \"5\", \"6\", \"7\", \"8\", \"9\", \"10\", \"11\", \"12\", \"13\", \"14\", \"15\", \"16\", \"17\", \"18\", \"19\", \"20\", \"21\", \"22\", \"23\", \"24\", \"25\", \"26\", \"27\", \"28\", \"29\", \"30\", \"31\", \"32\", \"33\", \"38\", \"39\"], \"mode\": \"lines\", \"name\": \"AUC_weighted_max\", \"stepped\": true, \"type\": \"scatter\", \"data\": [0.6888059586950839, 0.6888059586950839, 0.6888059586950839, 0.6888059586950839, 0.6888059586950839, 0.6888059586950839, 0.6888059586950839, 0.6888059586950839, 0.6888059586950839, 0.6888059586950839, 0.6888059586950839, 0.6888059586950839, 0.6888059586950839, 0.6888059586950839, 0.6888059586950839, 0.6888059586950839, 0.6888059586950839, 0.6888059586950839, 0.6888059586950839, 0.6888059586950839, 0.6888059586950839, 0.6888059586950839, 0.6888059586950839, 0.6888059586950839, 0.6888059586950839, 0.6888059586950839, 0.6888059586950839, 0.6888059586950839, 0.6888059586950839, 0.6888059586950839, 0.6888059586950839, 0.6888059586950839, 0.6888059586950839, 0.6888059586950839, 0.6888059586950839, 0.6888059586950839]}]}, \"metricName\": null, \"primaryMetricName\": \"accuracy\", \"showLegend\": false}, \"run_metrics\": [{\"name\": \"experiment_status\", \"run_id\": \"AutoML_de361d0a-2f6f-4000-90b9-4cd588c5c22f\", \"categories\": [0, 1, 2, 3, 4, 5, 6, 7, 8, 9, 10, 11, 12], \"series\": [{\"data\": [\"DatasetEvaluation\", \"FeaturesGeneration\", \"DatasetFeaturization\", \"DatasetFeaturizationCompleted\", \"ModelSelection\", \"BestRunExplainModel\", \"ModelExplanationDataSetSetup\", \"PickSurrogateModel\", \"EngineeredFeatureExplanations\", \"EngineeredFeatureExplanations\", \"RawFeaturesExplanations\", \"RawFeaturesExplanations\", \"BestRunExplainModel\"]}]}, {\"name\": \"experiment_status_description\", \"run_id\": \"AutoML_de361d0a-2f6f-4000-90b9-4cd588c5c22f\", \"categories\": [0, 1, 2, 3, 4, 5, 6, 7, 8, 9, 10, 11, 12], \"series\": [{\"data\": [\"Gathering dataset statistics.\", \"Generating features for the dataset.\", \"Beginning to fit featurizers and featurize the dataset.\", \"Completed fit featurizers and featurizing the dataset.\", \"Beginning model selection.\", \"Best run model explanations started\", \"Model explanations data setup completed\", \"Choosing LightGBM as the surrogate model for explanations\", \"Computation of engineered features started\", \"Computation of engineered features completed\", \"Computation of raw features started\", \"Computation of raw features completed\", \"Best run model explanations completed\"]}]}, {\"name\": \"precision_score_weighted\", \"run_id\": \"AutoML_de361d0a-2f6f-4000-90b9-4cd588c5c22f\", \"categories\": [0], \"series\": [{\"data\": [0.6540698467413734]}]}, {\"name\": \"f1_score_macro\", \"run_id\": \"AutoML_de361d0a-2f6f-4000-90b9-4cd588c5c22f\", \"categories\": [0], \"series\": [{\"data\": [0.6352841829251554]}]}, {\"name\": \"average_precision_score_macro\", \"run_id\": \"AutoML_de361d0a-2f6f-4000-90b9-4cd588c5c22f\", \"categories\": [0], \"series\": [{\"data\": [0.673512427213038]}]}, {\"name\": \"balanced_accuracy\", \"run_id\": \"AutoML_de361d0a-2f6f-4000-90b9-4cd588c5c22f\", \"categories\": [0], \"series\": [{\"data\": [0.6423647361634816]}]}, {\"name\": \"log_loss\", \"run_id\": \"AutoML_de361d0a-2f6f-4000-90b9-4cd588c5c22f\", \"categories\": [0], \"series\": [{\"data\": [0.6358452360325219]}]}, {\"name\": \"AUC_micro\", \"run_id\": \"AutoML_de361d0a-2f6f-4000-90b9-4cd588c5c22f\", \"categories\": [0], \"series\": [{\"data\": [0.6915708695789867]}]}, {\"name\": \"weighted_accuracy\", \"run_id\": \"AutoML_de361d0a-2f6f-4000-90b9-4cd588c5c22f\", \"categories\": [0], \"series\": [{\"data\": [0.6417067693627544]}]}, {\"name\": \"accuracy\", \"run_id\": \"AutoML_de361d0a-2f6f-4000-90b9-4cd588c5c22f\", \"categories\": [0], \"series\": [{\"data\": [0.6420357508823864]}]}, {\"name\": \"precision_score_macro\", \"run_id\": \"AutoML_de361d0a-2f6f-4000-90b9-4cd588c5c22f\", \"categories\": [0], \"series\": [{\"data\": [0.6539659339070646]}]}, {\"name\": \"norm_macro_recall\", \"run_id\": \"AutoML_de361d0a-2f6f-4000-90b9-4cd588c5c22f\", \"categories\": [0], \"series\": [{\"data\": [0.2847294723269631]}]}, {\"name\": \"recall_score_weighted\", \"run_id\": \"AutoML_de361d0a-2f6f-4000-90b9-4cd588c5c22f\", \"categories\": [0], \"series\": [{\"data\": [0.6420357508823864]}]}, {\"name\": \"recall_score_micro\", \"run_id\": \"AutoML_de361d0a-2f6f-4000-90b9-4cd588c5c22f\", \"categories\": [0], \"series\": [{\"data\": [0.6420357508823864]}]}, {\"name\": \"average_precision_score_weighted\", \"run_id\": \"AutoML_de361d0a-2f6f-4000-90b9-4cd588c5c22f\", \"categories\": [0], \"series\": [{\"data\": [0.6735466258642014]}]}, {\"name\": \"precision_score_micro\", \"run_id\": \"AutoML_de361d0a-2f6f-4000-90b9-4cd588c5c22f\", \"categories\": [0], \"series\": [{\"data\": [0.6420357508823864]}]}, {\"name\": \"matthews_correlation\", \"run_id\": \"AutoML_de361d0a-2f6f-4000-90b9-4cd588c5c22f\", \"categories\": [0], \"series\": [{\"data\": [0.2961034924403513]}]}, {\"name\": \"AUC_macro\", \"run_id\": \"AutoML_de361d0a-2f6f-4000-90b9-4cd588c5c22f\", \"categories\": [0], \"series\": [{\"data\": [0.6848524528857989]}]}, {\"name\": \"f1_score_micro\", \"run_id\": \"AutoML_de361d0a-2f6f-4000-90b9-4cd588c5c22f\", \"categories\": [0], \"series\": [{\"data\": [0.6420357508823864]}]}, {\"name\": \"average_precision_score_micro\", \"run_id\": \"AutoML_de361d0a-2f6f-4000-90b9-4cd588c5c22f\", \"categories\": [0], \"series\": [{\"data\": [0.6808832612149752]}]}, {\"name\": \"f1_score_weighted\", \"run_id\": \"AutoML_de361d0a-2f6f-4000-90b9-4cd588c5c22f\", \"categories\": [0], \"series\": [{\"data\": [0.6351655361242334]}]}, {\"name\": \"recall_score_macro\", \"run_id\": \"AutoML_de361d0a-2f6f-4000-90b9-4cd588c5c22f\", \"categories\": [0], \"series\": [{\"data\": [0.6423647361634816]}]}, {\"name\": \"AUC_weighted\", \"run_id\": \"AutoML_de361d0a-2f6f-4000-90b9-4cd588c5c22f\", \"categories\": [0], \"series\": [{\"data\": [0.684852452885799]}]}], \"run_logs\": \"\\nRun is completed.\", \"graph\": {}, \"widget_settings\": {\"childWidgetDisplay\": \"popup\", \"send_telemetry\": false, \"log_level\": \"INFO\", \"sdk_version\": \"1.27.0\"}, \"loading\": false}"
          },
          "metadata": {}
        }
      ],
      "execution_count": 18,
      "metadata": {
        "gather": {
          "logged": 1620621295149
        },
        "jupyter": {
          "outputs_hidden": false,
          "source_hidden": false
        },
        "nteract": {
          "transient": {
            "deleting": false
          }
        }
      }
    },
    {
      "cell_type": "markdown",
      "source": [
        "## Best Model\n",
        "\n",
        "In the cell below we get the best model from the automl experiments and display all the properties of the model.\n",
        "\n"
      ],
      "metadata": {}
    },
    {
      "cell_type": "code",
      "source": [
        "best_run_automl, fitted_model_automl = remote_run.get_output()\r\n",
        "\r\n",
        "#Displaying properties of the AutoML Model\r\n",
        "print(\"AutoML:\")\r\n",
        "automl_best_run_metrics = best_run_automl.get_metrics()\r\n",
        "print(\"Best run Id: \",best_run_automl.id)\r\n",
        "print(\"Accuracy: \", automl_best_run_metrics['accuracy'])\r\n",
        "print(\"All metrics:\")\r\n",
        "for metric in automl_best_run_metrics:\r\n",
        "    value = automl_best_run_metrics[metric]\r\n",
        "    print(metric,value)\r\n",
        "#Saving the best model\r\n",
        "model_automl = best_run_automl.register_model(model_path='./outputs/', model_name='model_automl.pkl')\r\n",
        "print(\"\\nModel saved successfully\")"
      ],
      "outputs": [
        {
          "output_type": "stream",
          "name": "stderr",
          "text": [
            "WARNING:root:The model you attempted to retrieve requires 'azureml-train-automl-runtime' to be installed at '==1.27.0.post1'. Please install 'azureml-train-automl-runtime==1.27.0.post1' (e.g. `pip install azureml-train-automl-runtime==1.27.0.post1`) and then rerun the previous command.\n"
          ]
        },
        {
          "output_type": "stream",
          "name": "stdout",
          "text": [
            "AutoML:\n",
            "Best run Id:  AutoML_de361d0a-2f6f-4000-90b9-4cd588c5c22f_38\n",
            "Accuracy:  0.6420357508823864\n",
            "All metrics:\n",
            "AUC_weighted 0.684852452885799\n",
            "f1_score_weighted 0.6351655361242334\n",
            "log_loss 0.6358452360325219\n",
            "AUC_micro 0.6915708695789867\n",
            "average_precision_score_macro 0.673512427213038\n",
            "average_precision_score_micro 0.6808832612149752\n",
            "weighted_accuracy 0.6417067693627544\n",
            "balanced_accuracy 0.6423647361634816\n",
            "accuracy 0.6420357508823864\n",
            "norm_macro_recall 0.2847294723269631\n",
            "average_precision_score_weighted 0.6735466258642014\n",
            "precision_score_weighted 0.6540698467413734\n",
            "f1_score_micro 0.6420357508823864\n",
            "recall_score_micro 0.6420357508823864\n",
            "AUC_macro 0.6848524528857989\n",
            "precision_score_micro 0.6420357508823864\n",
            "matthews_correlation 0.2961034924403513\n",
            "f1_score_macro 0.6352841829251554\n",
            "precision_score_macro 0.6539659339070646\n",
            "recall_score_weighted 0.6420357508823864\n",
            "recall_score_macro 0.6423647361634816\n",
            "accuracy_table aml://artifactId/ExperimentRun/dcid.AutoML_de361d0a-2f6f-4000-90b9-4cd588c5c22f_38/accuracy_table\n",
            "confusion_matrix aml://artifactId/ExperimentRun/dcid.AutoML_de361d0a-2f6f-4000-90b9-4cd588c5c22f_38/confusion_matrix\n",
            "\n",
            "Model saved successfully\n"
          ]
        }
      ],
      "execution_count": 21,
      "metadata": {
        "gather": {
          "logged": 1620622256129
        },
        "jupyter": {
          "outputs_hidden": false,
          "source_hidden": false
        },
        "nteract": {
          "transient": {
            "deleting": false
          }
        }
      }
    },
    {
      "cell_type": "markdown",
      "source": [
        "## Model Deployment\n",
        "\n",
        "Remember you have to deploy only one of the two models you trained.. Perform the steps in the rest of this notebook only if you wish to deploy this model.\n",
        "\n",
        "TODO: In the cell below, register the model, create an inference config and deploy the model as a web service.\n",
        "\n",
        "Before this step we have to run the `hyperparameter_tuning.ipynb`  notebook, in this case we determined that the model with the most accuracy was the one from AutoML. The next step is to deploy the model and test it.\n",
        "\n",
        "First we have to download the scoring file and the environment file, this can be obtained from the best run."
      ],
      "metadata": {}
    },
    {
      "cell_type": "code",
      "source": [
        "# Download scoring file \r\n",
        "best_run_automl.download_file('outputs/scoring_file_v_1_0_0.py', 'scoring.py')"
      ],
      "outputs": [],
      "execution_count": 25,
      "metadata": {
        "gather": {
          "logged": 1620626604700
        },
        "jupyter": {
          "outputs_hidden": false,
          "source_hidden": false
        },
        "nteract": {
          "transient": {
            "deleting": false
          }
        }
      }
    },
    {
      "cell_type": "markdown",
      "source": [
        "Now we have to deploy the model with inference configuration"
      ],
      "metadata": {
        "nteract": {
          "transient": {
            "deleting": false
          }
        }
      }
    },
    {
      "cell_type": "code",
      "source": [
        "from azureml.core.environment import Environment\r\n",
        "from azureml.core.model import InferenceConfig\r\n",
        "from azureml.core.webservice import AciWebservice\r\n",
        "\r\n",
        "#Configuration for inference\r\n",
        "inference_config = InferenceConfig(entry_script='scoring.py',\r\n",
        "                                    environment=best_run_automl.get_environment())\r\n",
        "\r\n",
        "#Deployment configuration\r\n",
        "deployment_config = AciWebservice.deploy_configuration(cpu_cores = 1, memory_gb = 1)\r\n",
        "service = model_automl.deploy(ws, \"automlcovid\", [model_automl], inference_config, deployment_config)\r\n",
        "service.wait_for_deployment(show_output = True)\r\n",
        "print(\"Service state:\")\r\n",
        "print(service.state)\r\n",
        "print(\"Scoring URI:\")\r\n",
        "print(service.scoring_uri)\r\n",
        "print(\"Swagger URI:\")\r\n",
        "print(service.swagger_uri)"
      ],
      "outputs": [
        {
          "output_type": "stream",
          "name": "stdout",
          "text": [
            "Tips: You can try get_logs(): https://aka.ms/debugimage#dockerlog or local deployment: https://aka.ms/debugimage#debug-locally to debug if deployment takes longer than 10 minutes.\n",
            "Running\n",
            "2021-05-10 06:07:27+00:00 Creating Container Registry if not exists..\n",
            "2021-05-10 06:07:38+00:00 Registering the environment..\n",
            "2021-05-10 06:07:39+00:00 Use the existing image.\n",
            "2021-05-10 06:07:39+00:00 Generating deployment configuration.\n",
            "2021-05-10 06:07:41+00:00 Submitting deployment to compute..\n",
            "2021-05-10 06:07:44+00:00 Checking the status of deployment automlcovid..\n",
            "2021-05-10 06:10:59+00:00 Checking the status of inference endpoint automlcovid.\n",
            "Failed\n"
          ]
        },
        {
          "output_type": "stream",
          "name": "stderr",
          "text": [
            "ERROR:azureml.core.webservice.webservice:Service deployment polling reached non-successful terminal state, current service state: Failed\n",
            "Operation ID: 060a8f2c-2942-456c-a6ed-00c6f6ac6be6\n",
            "More information can be found using '.get_logs()'\n",
            "Error:\n",
            "{\n",
            "  \"code\": \"AciDeploymentFailed\",\n",
            "  \"statusCode\": 400,\n",
            "  \"message\": \"Aci Deployment failed with exception: Error in entry script, FileNotFoundError: [Errno 2] No such file or directory: 'azureml-models/model_automl.pkl/6/model.pkl', please run print(service.get_logs()) to get details.\",\n",
            "  \"details\": [\n",
            "    {\n",
            "      \"code\": \"CrashLoopBackOff\",\n",
            "      \"message\": \"Error in entry script, FileNotFoundError: [Errno 2] No such file or directory: 'azureml-models/model_automl.pkl/6/model.pkl', please run print(service.get_logs()) to get details.\"\n",
            "    }\n",
            "  ]\n",
            "}\n",
            "\n"
          ]
        },
        {
          "output_type": "error",
          "ename": "WebserviceException",
          "evalue": "WebserviceException:\n\tMessage: Service deployment polling reached non-successful terminal state, current service state: Failed\nOperation ID: 060a8f2c-2942-456c-a6ed-00c6f6ac6be6\nMore information can be found using '.get_logs()'\nError:\n{\n  \"code\": \"AciDeploymentFailed\",\n  \"statusCode\": 400,\n  \"message\": \"Aci Deployment failed with exception: Error in entry script, FileNotFoundError: [Errno 2] No such file or directory: 'azureml-models/model_automl.pkl/6/model.pkl', please run print(service.get_logs()) to get details.\",\n  \"details\": [\n    {\n      \"code\": \"CrashLoopBackOff\",\n      \"message\": \"Error in entry script, FileNotFoundError: [Errno 2] No such file or directory: 'azureml-models/model_automl.pkl/6/model.pkl', please run print(service.get_logs()) to get details.\"\n    }\n  ]\n}\n\tInnerException None\n\tErrorResponse \n{\n    \"error\": {\n        \"message\": \"Service deployment polling reached non-successful terminal state, current service state: Failed\\nOperation ID: 060a8f2c-2942-456c-a6ed-00c6f6ac6be6\\nMore information can be found using '.get_logs()'\\nError:\\n{\\n  \\\"code\\\": \\\"AciDeploymentFailed\\\",\\n  \\\"statusCode\\\": 400,\\n  \\\"message\\\": \\\"Aci Deployment failed with exception: Error in entry script, FileNotFoundError: [Errno 2] No such file or directory: 'azureml-models/model_automl.pkl/6/model.pkl', please run print(service.get_logs()) to get details.\\\",\\n  \\\"details\\\": [\\n    {\\n      \\\"code\\\": \\\"CrashLoopBackOff\\\",\\n      \\\"message\\\": \\\"Error in entry script, FileNotFoundError: [Errno 2] No such file or directory: 'azureml-models/model_automl.pkl/6/model.pkl', please run print(service.get_logs()) to get details.\\\"\\n    }\\n  ]\\n}\"\n    }\n}",
          "traceback": [
            "\u001b[0;31m---------------------------------------------------------------------------\u001b[0m",
            "\u001b[0;31mWebserviceException\u001b[0m                       Traceback (most recent call last)",
            "\u001b[0;32m<ipython-input-27-ebf4d70cd76c>\u001b[0m in \u001b[0;36m<module>\u001b[0;34m\u001b[0m\n\u001b[1;32m     10\u001b[0m \u001b[0mdeployment_config\u001b[0m \u001b[0;34m=\u001b[0m \u001b[0mAciWebservice\u001b[0m\u001b[0;34m.\u001b[0m\u001b[0mdeploy_configuration\u001b[0m\u001b[0;34m(\u001b[0m\u001b[0mcpu_cores\u001b[0m \u001b[0;34m=\u001b[0m \u001b[0;36m1\u001b[0m\u001b[0;34m,\u001b[0m \u001b[0mmemory_gb\u001b[0m \u001b[0;34m=\u001b[0m \u001b[0;36m1\u001b[0m\u001b[0;34m)\u001b[0m\u001b[0;34m\u001b[0m\u001b[0;34m\u001b[0m\u001b[0m\n\u001b[1;32m     11\u001b[0m \u001b[0mservice\u001b[0m \u001b[0;34m=\u001b[0m \u001b[0mmodel_automl\u001b[0m\u001b[0;34m.\u001b[0m\u001b[0mdeploy\u001b[0m\u001b[0;34m(\u001b[0m\u001b[0mws\u001b[0m\u001b[0;34m,\u001b[0m \u001b[0;34m\"automlcovid\"\u001b[0m\u001b[0;34m,\u001b[0m \u001b[0;34m[\u001b[0m\u001b[0mmodel_automl\u001b[0m\u001b[0;34m]\u001b[0m\u001b[0;34m,\u001b[0m \u001b[0minference_config\u001b[0m\u001b[0;34m,\u001b[0m \u001b[0mdeployment_config\u001b[0m\u001b[0;34m)\u001b[0m\u001b[0;34m\u001b[0m\u001b[0;34m\u001b[0m\u001b[0m\n\u001b[0;32m---> 12\u001b[0;31m \u001b[0mservice\u001b[0m\u001b[0;34m.\u001b[0m\u001b[0mwait_for_deployment\u001b[0m\u001b[0;34m(\u001b[0m\u001b[0mshow_output\u001b[0m \u001b[0;34m=\u001b[0m \u001b[0;32mTrue\u001b[0m\u001b[0;34m)\u001b[0m\u001b[0;34m\u001b[0m\u001b[0;34m\u001b[0m\u001b[0m\n\u001b[0m\u001b[1;32m     13\u001b[0m \u001b[0mprint\u001b[0m\u001b[0;34m(\u001b[0m\u001b[0;34m\"Service state:\"\u001b[0m\u001b[0;34m)\u001b[0m\u001b[0;34m\u001b[0m\u001b[0;34m\u001b[0m\u001b[0m\n\u001b[1;32m     14\u001b[0m \u001b[0mprint\u001b[0m\u001b[0;34m(\u001b[0m\u001b[0mservice\u001b[0m\u001b[0;34m.\u001b[0m\u001b[0mstate\u001b[0m\u001b[0;34m)\u001b[0m\u001b[0;34m\u001b[0m\u001b[0;34m\u001b[0m\u001b[0m\n",
            "\u001b[0;32m/anaconda/envs/azureml_py38/lib/python3.8/site-packages/azureml/core/webservice/webservice.py\u001b[0m in \u001b[0;36mwait_for_deployment\u001b[0;34m(self, show_output, timeout_sec)\u001b[0m\n\u001b[1;32m    915\u001b[0m                     \u001b[0mlogs_response\u001b[0m \u001b[0;34m=\u001b[0m \u001b[0;34m'Current sub-operation type not known, more logs unavailable.'\u001b[0m\u001b[0;34m\u001b[0m\u001b[0;34m\u001b[0m\u001b[0m\n\u001b[1;32m    916\u001b[0m \u001b[0;34m\u001b[0m\u001b[0m\n\u001b[0;32m--> 917\u001b[0;31m                 raise WebserviceException('Service deployment polling reached non-successful terminal state, current '\n\u001b[0m\u001b[1;32m    918\u001b[0m                                           \u001b[0;34m'service state: {}\\n'\u001b[0m\u001b[0;34m\u001b[0m\u001b[0;34m\u001b[0m\u001b[0m\n\u001b[1;32m    919\u001b[0m                                           \u001b[0;34m'Operation ID: {}\\n'\u001b[0m\u001b[0;34m\u001b[0m\u001b[0;34m\u001b[0m\u001b[0m\n",
            "\u001b[0;31mWebserviceException\u001b[0m: WebserviceException:\n\tMessage: Service deployment polling reached non-successful terminal state, current service state: Failed\nOperation ID: 060a8f2c-2942-456c-a6ed-00c6f6ac6be6\nMore information can be found using '.get_logs()'\nError:\n{\n  \"code\": \"AciDeploymentFailed\",\n  \"statusCode\": 400,\n  \"message\": \"Aci Deployment failed with exception: Error in entry script, FileNotFoundError: [Errno 2] No such file or directory: 'azureml-models/model_automl.pkl/6/model.pkl', please run print(service.get_logs()) to get details.\",\n  \"details\": [\n    {\n      \"code\": \"CrashLoopBackOff\",\n      \"message\": \"Error in entry script, FileNotFoundError: [Errno 2] No such file or directory: 'azureml-models/model_automl.pkl/6/model.pkl', please run print(service.get_logs()) to get details.\"\n    }\n  ]\n}\n\tInnerException None\n\tErrorResponse \n{\n    \"error\": {\n        \"message\": \"Service deployment polling reached non-successful terminal state, current service state: Failed\\nOperation ID: 060a8f2c-2942-456c-a6ed-00c6f6ac6be6\\nMore information can be found using '.get_logs()'\\nError:\\n{\\n  \\\"code\\\": \\\"AciDeploymentFailed\\\",\\n  \\\"statusCode\\\": 400,\\n  \\\"message\\\": \\\"Aci Deployment failed with exception: Error in entry script, FileNotFoundError: [Errno 2] No such file or directory: 'azureml-models/model_automl.pkl/6/model.pkl', please run print(service.get_logs()) to get details.\\\",\\n  \\\"details\\\": [\\n    {\\n      \\\"code\\\": \\\"CrashLoopBackOff\\\",\\n      \\\"message\\\": \\\"Error in entry script, FileNotFoundError: [Errno 2] No such file or directory: 'azureml-models/model_automl.pkl/6/model.pkl', please run print(service.get_logs()) to get details.\\\"\\n    }\\n  ]\\n}\"\n    }\n}"
          ]
        }
      ],
      "execution_count": 27,
      "metadata": {
        "collapsed": true,
        "jupyter": {
          "source_hidden": false,
          "outputs_hidden": false
        },
        "nteract": {
          "transient": {
            "deleting": false
          }
        }
      }
    },
    {
      "cell_type": "markdown",
      "source": [
        "In the cell below we send a request to the web service we deployed to test it."
      ],
      "metadata": {
        "collapsed": true,
        "gather": {
          "logged": 1598431657736
        },
        "jupyter": {
          "outputs_hidden": false,
          "source_hidden": false
        },
        "nteract": {
          "transient": {
            "deleting": false
          }
        }
      }
    },
    {
      "cell_type": "code",
      "source": [],
      "outputs": [],
      "execution_count": null,
      "metadata": {
        "gather": {
          "logged": 1598432707604
        },
        "jupyter": {
          "outputs_hidden": false,
          "source_hidden": false
        },
        "nteract": {
          "transient": {
            "deleting": false
          }
        }
      }
    },
    {
      "cell_type": "markdown",
      "source": [
        "TODO: In the cell below, print the logs of the web service and delete the service"
      ],
      "metadata": {
        "collapsed": true,
        "gather": {
          "logged": 1598432765711
        },
        "jupyter": {
          "outputs_hidden": false,
          "source_hidden": false
        },
        "nteract": {
          "transient": {
            "deleting": false
          }
        }
      }
    },
    {
      "cell_type": "code",
      "source": [],
      "outputs": [],
      "execution_count": null,
      "metadata": {
        "jupyter": {
          "outputs_hidden": false,
          "source_hidden": false
        },
        "nteract": {
          "transient": {
            "deleting": false
          }
        }
      }
    }
  ],
  "metadata": {
    "kernel_info": {
      "name": "python38-azureml"
    },
    "kernelspec": {
      "name": "python38-azureml",
      "language": "python",
      "display_name": "Python 3.8 - AzureML"
    },
    "language_info": {
      "name": "python",
      "version": "3.8.1",
      "mimetype": "text/x-python",
      "codemirror_mode": {
        "name": "ipython",
        "version": 3
      },
      "pygments_lexer": "ipython3",
      "nbconvert_exporter": "python",
      "file_extension": ".py"
    },
    "nteract": {
      "version": "nteract-front-end@1.0.0"
    },
    "microsoft": {
      "host": {
        "AzureML": {
          "notebookHasBeenCompleted": true
        }
      }
    },
    "metadata": {
      "interpreter": {
        "hash": "31f2aee4e71d21fbe5cf8b01ff0e069b9275f58929596ceb00d14d90e3e16cd6"
      }
    }
  },
  "nbformat": 4,
  "nbformat_minor": 2
}