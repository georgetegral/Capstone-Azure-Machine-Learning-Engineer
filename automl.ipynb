{
  "cells": [
    {
      "cell_type": "markdown",
      "source": [
        "# Automated ML\n",
        "\n",
        "## Overview\n",
        "\n",
        "For this notebook we will be importing the dataset, creating an experiment, creating a compute cluster, cleanning and preprocessing the data before doing our train and test split, running the AutoML Experiment and selecting the best AutoML Model."
      ],
      "metadata": {}
    },
    {
      "cell_type": "markdown",
      "source": [
        "## Dependencies\n",
        "\n",
        "First we will be importing all the needed dependencies to complete the project.\n",
        "\n",
        "Warning: Install the `imblearn` library before running the rest of the notebook"
      ],
      "metadata": {
        "nteract": {
          "transient": {
            "deleting": false
          }
        }
      }
    },
    {
      "cell_type": "code",
      "source": [
        "pip install imblearn"
      ],
      "outputs": [
        {
          "output_type": "stream",
          "name": "stdout",
          "text": [
            "Requirement already satisfied: imblearn in /anaconda/envs/azureml_py36/lib/python3.6/site-packages (0.0)\n",
            "Requirement already satisfied: imbalanced-learn in /anaconda/envs/azureml_py36/lib/python3.6/site-packages (from imblearn) (0.8.0)\n",
            "Requirement already satisfied: scipy>=0.19.1 in /anaconda/envs/azureml_py36/lib/python3.6/site-packages (from imbalanced-learn->imblearn) (1.5.2)\n",
            "Requirement already satisfied: scikit-learn>=0.24 in /anaconda/envs/azureml_py36/lib/python3.6/site-packages (from imbalanced-learn->imblearn) (0.24.2)\n",
            "Requirement already satisfied: numpy>=1.13.3 in /anaconda/envs/azureml_py36/lib/python3.6/site-packages (from imbalanced-learn->imblearn) (1.18.5)\n",
            "Requirement already satisfied: joblib>=0.11 in /anaconda/envs/azureml_py36/lib/python3.6/site-packages (from imbalanced-learn->imblearn) (0.14.1)\n",
            "Requirement already satisfied: threadpoolctl>=2.0.0 in /anaconda/envs/azureml_py36/lib/python3.6/site-packages (from scikit-learn>=0.24->imbalanced-learn->imblearn) (2.1.0)\n",
            "Note: you may need to restart the kernel to use updated packages.\n"
          ]
        }
      ],
      "execution_count": 3,
      "metadata": {
        "collapsed": true,
        "jupyter": {
          "source_hidden": false,
          "outputs_hidden": false
        },
        "nteract": {
          "transient": {
            "deleting": false
          }
        },
        "gather": {
          "logged": 1620356825796
        }
      }
    },
    {
      "cell_type": "code",
      "source": [
        "import logging\n",
        "import os\n",
        "import csv\n",
        "\n",
        "from matplotlib import pyplot as plt\n",
        "import numpy as np\n",
        "import pandas as pd\n",
        "from sklearn import datasets\n",
        "import pkg_resources\n",
        "from imblearn.under_sampling import RandomUnderSampler\n",
        "from sklearn.model_selection import train_test_split\n",
        "\n",
        "import azureml.core\n",
        "from azureml.core.experiment import Experiment\n",
        "from azureml.core.workspace import Workspace\n",
        "\n",
        "from azureml.core.dataset import Dataset\n",
        "from azureml.core import Datastore\n",
        "from azureml.core.compute import ComputeTarget, AmlCompute\n",
        "from azureml.core.compute_target import ComputeTargetException\n",
        "\n",
        "from azureml.train.automl import AutoMLConfig\n",
        "\n",
        "from azureml.pipeline.steps import AutoMLStep\n",
        "\n",
        "from azureml.data.dataset_factory import TabularDatasetFactory\n",
        "\n",
        "\n",
        "# Check core SDK version number\n",
        "print(\"SDK version:\", azureml.core.VERSION)"
      ],
      "outputs": [
        {
          "output_type": "stream",
          "name": "stdout",
          "text": [
            "SDK version: 1.27.0\n"
          ]
        }
      ],
      "execution_count": 1,
      "metadata": {
        "gather": {
          "logged": 1620356832768
        },
        "jupyter": {
          "outputs_hidden": false,
          "source_hidden": false
        },
        "nteract": {
          "transient": {
            "deleting": false
          }
        }
      }
    },
    {
      "cell_type": "markdown",
      "source": [
        "## Workspace Configuration\n",
        "\n",
        "In this cell we import the workspace configuration and create an experiment that we will use later."
      ],
      "metadata": {}
    },
    {
      "cell_type": "code",
      "source": [
        "ws = Workspace.from_config()\n",
        "\n",
        "print('Workspace name: ' + ws.name, \n",
        "      'Azure region: ' + ws.location, \n",
        "      'Subscription id: ' + ws.subscription_id, \n",
        "      'Resource group: ' + ws.resource_group, sep = '\\n')\n",
        "\n",
        "# choose a name for experiment\n",
        "experiment_name = 'automlcovid'\n",
        "\n",
        "experiment=Experiment(ws, experiment_name)\n",
        "experiment"
      ],
      "outputs": [
        {
          "output_type": "stream",
          "name": "stdout",
          "text": [
            "Workspace name: quick-starts-ws-144117\n",
            "Azure region: southcentralus\n",
            "Subscription id: 48a74bb7-9950-4cc1-9caa-5d50f995cc55\n",
            "Resource group: aml-quickstarts-144117\n"
          ]
        },
        {
          "output_type": "execute_result",
          "execution_count": 2,
          "data": {
            "text/plain": "Experiment(Name: automlcovid,\nWorkspace: quick-starts-ws-144117)",
            "text/html": "<table style=\"width:100%\"><tr><th>Name</th><th>Workspace</th><th>Report Page</th><th>Docs Page</th></tr><tr><td>automlcovid</td><td>quick-starts-ws-144117</td><td><a href=\"https://ml.azure.com/experiments/id/ffa0e2bc-ee92-490e-9fcb-c29e721b6c95?wsid=/subscriptions/48a74bb7-9950-4cc1-9caa-5d50f995cc55/resourcegroups/aml-quickstarts-144117/workspaces/quick-starts-ws-144117&amp;tid=660b3398-b80e-49d2-bc5b-ac1dc93b5254\" target=\"_blank\" rel=\"noopener\">Link to Azure Machine Learning studio</a></td><td><a href=\"https://docs.microsoft.com/en-us/python/api/azureml-core/azureml.core.experiment.Experiment?view=azure-ml-py\" target=\"_blank\" rel=\"noopener\">Link to Documentation</a></td></tr></table>"
          },
          "metadata": {}
        }
      ],
      "execution_count": 2,
      "metadata": {
        "gather": {
          "logged": 1620356835920
        },
        "jupyter": {
          "outputs_hidden": false,
          "source_hidden": false
        },
        "nteract": {
          "transient": {
            "deleting": false
          }
        }
      }
    },
    {
      "cell_type": "markdown",
      "source": [
        "## Compute Cluster creation\n",
        "In this cell a cpu cluster is created for running our experiments, it checks if a compute cluster with the same name exists, if it exists then uses it, if not it creates it.\n",
        "\n",
        "If the cluster does not exists we define the configuration for it. For this project we will be using `min_nodes = 1`, in your own project this will incurr in extra costs, so consider leaving it to 0."
      ],
      "metadata": {
        "nteract": {
          "transient": {
            "deleting": false
          }
        }
      }
    },
    {
      "cell_type": "code",
      "source": [
        "compute_cluster_name = \"cpu-cluster\"\n",
        "\n",
        "try:\n",
        "    compute_target = ComputeTarget(workspace=ws, name=compute_cluster_name)\n",
        "    print(\"Found existing compute cluster...\")\n",
        "except:\n",
        "    print(\"Creating new compute cluster...\")\n",
        "    compute_config = AmlCompute.provisioning_configuration(vm_size='STANDARD_D2_V2', max_nodes=4, min_nodes=1)\n",
        "    compute_target = ComputeTarget.create(ws, compute_cluster_name, compute_config)\n",
        "    \n",
        "compute_target.wait_for_completion(show_output=True)\n",
        "print(\"Cluster details: \", compute_target.get_status().serialize())"
      ],
      "outputs": [
        {
          "output_type": "stream",
          "name": "stdout",
          "text": [
            "Found existing compute cluster...\n",
            "Succeeded\n",
            "AmlCompute wait for completion finished\n",
            "\n",
            "Minimum number of nodes requested have been provisioned\n",
            "Cluster details:  {'currentNodeCount': 1, 'targetNodeCount': 1, 'nodeStateCounts': {'preparingNodeCount': 0, 'runningNodeCount': 0, 'idleNodeCount': 1, 'unusableNodeCount': 0, 'leavingNodeCount': 0, 'preemptedNodeCount': 0}, 'allocationState': 'Steady', 'allocationStateTransitionTime': '2021-05-07T03:05:59.335000+00:00', 'errors': None, 'creationTime': '2021-05-07T01:24:52.529435+00:00', 'modifiedTime': '2021-05-07T01:25:07.935240+00:00', 'provisioningState': 'Succeeded', 'provisioningStateTransitionTime': None, 'scaleSettings': {'minNodeCount': 1, 'maxNodeCount': 4, 'nodeIdleTimeBeforeScaleDown': 'PT1800S'}, 'vmPriority': 'Dedicated', 'vmSize': 'STANDARD_D64S_V3'}\n"
          ]
        }
      ],
      "execution_count": 3,
      "metadata": {
        "collapsed": true,
        "jupyter": {
          "source_hidden": false,
          "outputs_hidden": false
        },
        "nteract": {
          "transient": {
            "deleting": false
          }
        },
        "gather": {
          "logged": 1620356838235
        }
      }
    },
    {
      "cell_type": "markdown",
      "source": [
        "## Dataset\n",
        "\n",
        "### Overview\n",
        "We are going to use the Mexican Government's COVID-19 data, once it is uploaded to ML Studio we will consume it using TabularDataset.\n",
        "\n",
        "To consume the dataset we will import it from the Datastore tab in ML Studio, this is a blob storage, then we have to specify the location of the csv to import it.\n",
        "\n",
        "Once it's imported we will we creating a Pandas Dataframe that we will need later on."
      ],
      "metadata": {
        "nteract": {
          "transient": {
            "deleting": false
          }
        }
      }
    },
    {
      "cell_type": "code",
      "source": [
        "datastore = Datastore.get(ws,'workspaceblobstore')\n",
        "ds = TabularDatasetFactory.from_delimited_files(path=(datastore, 'UI/05-07-2021_012019_UTC/210506COVID19MEXICO.csv'))\n",
        "df = ds.to_pandas_dataframe()\n",
        "\n",
        "print(df)"
      ],
      "outputs": [
        {
          "output_type": "stream",
          "name": "stdout",
          "text": [
            "        FECHA_ACTUALIZACION ID_REGISTRO  ORIGEN  SECTOR  ENTIDAD_UM  SEXO  \\\n",
            "0                2021-05-06      z482b8       1      12           9     2   \n",
            "1                2021-05-06      z49a69       1      12          23     1   \n",
            "2                2021-05-06      z23d9d       1      12          22     2   \n",
            "3                2021-05-06      z24953       1      12           9     1   \n",
            "4                2021-05-06      zz8e77       1      12           9     2   \n",
            "...                     ...         ...     ...     ...         ...   ...   \n",
            "6714847          2021-05-06      9f2664       2       4           9     1   \n",
            "6714848          2021-05-06      79560e       2      12          17     1   \n",
            "6714849          2021-05-06      bb7733       2       4          15     1   \n",
            "6714850          2021-05-06      659996       2      12          21     1   \n",
            "6714851          2021-05-06      d0ecac       2       4           8     2   \n",
            "\n",
            "         ENTIDAD_NAC  ENTIDAD_RES  MUNICIPIO_RES  TIPO_PACIENTE  ...  \\\n",
            "0                  9            9             12              1  ...   \n",
            "1                 23           23              4              2  ...   \n",
            "2                 24           22              9              1  ...   \n",
            "3                  9            9             10              1  ...   \n",
            "4                  9            9              2              1  ...   \n",
            "...              ...          ...            ...            ...  ...   \n",
            "6714847            9            9              3              1  ...   \n",
            "6714848           17           17             29              1  ...   \n",
            "6714849            9           15             39              1  ...   \n",
            "6714850           21           21            114              1  ...   \n",
            "6714851            8            8             19              1  ...   \n",
            "\n",
            "        OTRO_CASO TOMA_MUESTRA_LAB RESULTADO_LAB  TOMA_MUESTRA_ANTIGENO  \\\n",
            "0               2                2            97                      2   \n",
            "1               1                2            97                      2   \n",
            "2               2                2            97                      2   \n",
            "3               1                1             2                      2   \n",
            "4               2                2            97                      2   \n",
            "...           ...              ...           ...                    ...   \n",
            "6714847         1                2            97                      1   \n",
            "6714848         1                2            97                      1   \n",
            "6714849         2                2            97                      1   \n",
            "6714850         1                1             2                      2   \n",
            "6714851         2                2            97                      1   \n",
            "\n",
            "         RESULTADO_ANTIGENO  CLASIFICACION_FINAL  MIGRANTE  PAIS_NACIONALIDAD  \\\n",
            "0                        97                    1        99             México   \n",
            "1                        97                    2        99             México   \n",
            "2                        97                    6        99             México   \n",
            "3                        97                    7        99             México   \n",
            "4                        97                    6        99             México   \n",
            "...                     ...                  ...       ...                ...   \n",
            "6714847                   1                    3        99             México   \n",
            "6714848                   2                    7        99             México   \n",
            "6714849                   1                    3        99             México   \n",
            "6714850                  97                    7        99             México   \n",
            "6714851                   2                    7        99             México   \n",
            "\n",
            "         PAIS_ORIGEN  UCI  \n",
            "0               97.0   97  \n",
            "1               97.0    1  \n",
            "2               97.0   97  \n",
            "3               97.0   97  \n",
            "4               97.0   97  \n",
            "...              ...  ...  \n",
            "6714847         97.0   97  \n",
            "6714848         97.0   97  \n",
            "6714849         97.0   97  \n",
            "6714850         97.0   97  \n",
            "6714851         97.0   97  \n",
            "\n",
            "[6714852 rows x 40 columns]\n"
          ]
        }
      ],
      "execution_count": 4,
      "metadata": {
        "collapsed": true,
        "jupyter": {
          "source_hidden": false,
          "outputs_hidden": false
        },
        "nteract": {
          "transient": {
            "deleting": false
          }
        },
        "gather": {
          "logged": 1620356859876
        }
      }
    },
    {
      "cell_type": "markdown",
      "source": [
        "### Data Preprocessing\n",
        "\n",
        "#### Cleaning\n",
        "The objective of our project is to create a model that can get if a patient with COVID-19 will enter into an Intensive Care Unit or not.\n",
        "\n",
        "The objective variable `UCI` has a lot of values that are 97, 98, or 99, which means that we don't know if the person is or was in a Intensive Care Unit, we only need the values 1 and 2, which means that the patient was or wasn't in an Intensive Care Unit, respectively.\n",
        "\n",
        "So the next step is to trim our dataset by removing the rows that have 97, 98 or 99, leaving only 'Yes'/'No' for our objective variable."
      ],
      "metadata": {
        "nteract": {
          "transient": {
            "deleting": false
          }
        }
      }
    },
    {
      "cell_type": "code",
      "source": [
        "arr_drop = [97,98,99]\r\n",
        "for element in arr_drop:\r\n",
        "    df.drop(df.loc[df['UCI']==element].index,inplace=True)\r\n",
        "\r\n",
        "print(df)\r\n",
        "print(\"--------------------------------------\")\r\n",
        "print(\"Classes count\")\r\n",
        "classes = pd.crosstab(index=df['UCI'],columns=\"count\")\r\n",
        "print(classes)\r\n"
      ],
      "outputs": [
        {
          "output_type": "stream",
          "name": "stdout",
          "text": [
            "        FECHA_ACTUALIZACION ID_REGISTRO  ORIGEN  SECTOR  ENTIDAD_UM  SEXO  \\\n",
            "1                2021-05-06      z49a69       1      12          23     1   \n",
            "16               2021-05-06      z166d5       1      12           1     1   \n",
            "21               2021-05-06      z388cd       1      12          29     2   \n",
            "22               2021-05-06      z4533d       1      12          29     1   \n",
            "27               2021-05-06      z4494e       1      12           8     1   \n",
            "...                     ...         ...     ...     ...         ...   ...   \n",
            "6714797          2021-05-06      9049b2       2       4           9     1   \n",
            "6714818          2021-05-06      974d9b       1      12           9     1   \n",
            "6714825          2021-05-06      e48121       2       4          26     2   \n",
            "6714832          2021-05-06      a74bfa       1       4           9     2   \n",
            "6714842          2021-05-06      e20865       1       4           5     1   \n",
            "\n",
            "         ENTIDAD_NAC  ENTIDAD_RES  MUNICIPIO_RES  TIPO_PACIENTE  ...  \\\n",
            "1                 23           23              4              2  ...   \n",
            "16                 1            1              1              2  ...   \n",
            "21                15           21            117              2  ...   \n",
            "22                21           21            117              2  ...   \n",
            "27                 8            8             37              2  ...   \n",
            "...              ...          ...            ...            ...  ...   \n",
            "6714797            9           15             81              2  ...   \n",
            "6714818           20            9             11              2  ...   \n",
            "6714825           26           26             33              2  ...   \n",
            "6714832            9            9              7              2  ...   \n",
            "6714842            5            5             30              2  ...   \n",
            "\n",
            "        OTRO_CASO TOMA_MUESTRA_LAB RESULTADO_LAB  TOMA_MUESTRA_ANTIGENO  \\\n",
            "1               1                2            97                      2   \n",
            "16              2                1             1                      2   \n",
            "21              1                2            97                      2   \n",
            "22              2                2            97                      2   \n",
            "27              1                1             1                      2   \n",
            "...           ...              ...           ...                    ...   \n",
            "6714797         2                2            97                      2   \n",
            "6714818         1                1             4                      2   \n",
            "6714825         2                1             3                      1   \n",
            "6714832         2                1             3                      2   \n",
            "6714842         2                1             2                      1   \n",
            "\n",
            "         RESULTADO_ANTIGENO  CLASIFICACION_FINAL  MIGRANTE  PAIS_NACIONALIDAD  \\\n",
            "1                        97                    2        99             México   \n",
            "16                       97                    3        99             México   \n",
            "21                       97                    1        99             México   \n",
            "22                       97                    6        99             México   \n",
            "27                       97                    3        99             México   \n",
            "...                     ...                  ...       ...                ...   \n",
            "6714797                  97                    6        99             México   \n",
            "6714818                  97                    6        99             México   \n",
            "6714825                   2                    6        99             México   \n",
            "6714832                  97                    6        99             México   \n",
            "6714842                   2                    7        99             México   \n",
            "\n",
            "         PAIS_ORIGEN  UCI  \n",
            "1               97.0    1  \n",
            "16              97.0    2  \n",
            "21              97.0    2  \n",
            "22              97.0    2  \n",
            "27              97.0    2  \n",
            "...              ...  ...  \n",
            "6714797         97.0    2  \n",
            "6714818         97.0    2  \n",
            "6714825         97.0    2  \n",
            "6714832         97.0    2  \n",
            "6714842         97.0    2  \n",
            "\n",
            "[737786 rows x 40 columns]\n",
            "--------------------------------------\n",
            "Classes count\n",
            "col_0   count\n",
            "UCI          \n",
            "1       54686\n",
            "2      683100\n"
          ]
        }
      ],
      "execution_count": 5,
      "metadata": {
        "collapsed": true,
        "jupyter": {
          "source_hidden": false,
          "outputs_hidden": false
        },
        "nteract": {
          "transient": {
            "deleting": false
          }
        },
        "gather": {
          "logged": 1620356868121
        }
      }
    },
    {
      "cell_type": "markdown",
      "source": [
        "#### Handling dataset class imbalance\n",
        "\n",
        "As we can see, the rows with 1 (Yes) in the `UCI` column are a lot less than the 2 (No). we can send the dataset to training like this, but we will get a \"Class balancing warning\" alert in Azure ML, so we are going to fix it.\n",
        "\n",
        "The next step in our data preprocessing is to balance the dataset. We will need the `imblearn` library that we installed before, and we will need to divide our dataframe in X and y to use the \"RandomUnderSampler\" method.\n",
        "\n",
        "`X` has all the columns except `UCI` and `y` has only `UCI`\n"
      ],
      "metadata": {
        "nteract": {
          "transient": {
            "deleting": false
          }
        }
      }
    },
    {
      "cell_type": "code",
      "source": [
        "y = df['UCI']\n",
        "X = df.drop('UCI',1)\n",
        "\n",
        "rus = RandomUnderSampler(random_state = 42)\n",
        "X_resampled, y_resampled = rus.fit_resample(X,y)"
      ],
      "outputs": [],
      "execution_count": 14,
      "metadata": {
        "collapsed": true,
        "jupyter": {
          "source_hidden": false,
          "outputs_hidden": false
        },
        "nteract": {
          "transient": {
            "deleting": false
          }
        },
        "gather": {
          "logged": 1620357987701
        }
      }
    },
    {
      "cell_type": "markdown",
      "source": [
        "### Train/test split\r\n",
        "\r\n",
        "Now that we have our balanced data, we will divide X and y between train and test"
      ],
      "metadata": {
        "nteract": {
          "transient": {
            "deleting": false
          }
        }
      }
    },
    {
      "cell_type": "code",
      "source": [
        "x_train, x_test, y_train, y_test = train_test_split(X_resampled,y_resampled,test_size = 0.2, random_state = 42)\n",
        "train_data = pd.concat([x_train,y_train],axis=1)\n",
        "\n",
        "print(train_data)\n",
        "\n",
        "print(\"Validating that we have balanced data for training.\")\n",
        "classes = pd.crosstab(index=train_data['UCI'],columns=\"count\")\n",
        "print(classes)"
      ],
      "outputs": [
        {
          "output_type": "stream",
          "name": "stdout",
          "text": [
            "       FECHA_ACTUALIZACION ID_REGISTRO  ORIGEN  SECTOR  ENTIDAD_UM  SEXO  \\\n",
            "40588           2021-05-06      2d79b8       2      12          13     2   \n",
            "34614           2021-05-06      318c56       2      12           8     2   \n",
            "60846           2021-05-06      0f5dbb       1      12           8     1   \n",
            "103582          2021-05-06      1c4c4b       2       4          15     2   \n",
            "7096            2021-05-06      1ba463       2       9          25     1   \n",
            "...                    ...         ...     ...     ...         ...   ...   \n",
            "54886           2021-05-06      05613c       1      12          31     2   \n",
            "76820           2021-05-06      146527       1      12          22     2   \n",
            "103694          2021-05-06      07b674       1       4           9     1   \n",
            "860             2021-05-06      0f79f4       1       4          31     1   \n",
            "15795           2021-05-06      1d5e74       2       9          25     2   \n",
            "\n",
            "        ENTIDAD_NAC  ENTIDAD_RES  MUNICIPIO_RES  TIPO_PACIENTE  ... OTRO_CASO  \\\n",
            "40588            13           13             77              2  ...         1   \n",
            "34614             8            8             37              2  ...        99   \n",
            "60846             8            8             26              2  ...         2   \n",
            "103582           15           15             72              2  ...        99   \n",
            "7096             25           25              6              2  ...         2   \n",
            "...             ...          ...            ...            ...  ...       ...   \n",
            "54886            31           31             92              2  ...         2   \n",
            "76820             9           22              7              2  ...         2   \n",
            "103694            9            9             10              2  ...        99   \n",
            "860              31           31            101              2  ...         2   \n",
            "15795            25           25             12              2  ...         2   \n",
            "\n",
            "       TOMA_MUESTRA_LAB RESULTADO_LAB  TOMA_MUESTRA_ANTIGENO  \\\n",
            "40588                 1             1                      2   \n",
            "34614                 1             2                      2   \n",
            "60846                 1             2                      2   \n",
            "103582                1             1                      2   \n",
            "7096                  1             1                      2   \n",
            "...                 ...           ...                    ...   \n",
            "54886                 1             2                      2   \n",
            "76820                 1             2                      2   \n",
            "103694                1             1                      2   \n",
            "860                   1             2                      2   \n",
            "15795                 2            97                      2   \n",
            "\n",
            "        RESULTADO_ANTIGENO  CLASIFICACION_FINAL  MIGRANTE  PAIS_NACIONALIDAD  \\\n",
            "40588                   97                    3        99             México   \n",
            "34614                   97                    7        99             México   \n",
            "60846                   97                    7        99             México   \n",
            "103582                  97                    3        99             México   \n",
            "7096                    97                    3        99             México   \n",
            "...                    ...                  ...       ...                ...   \n",
            "54886                   97                    7        99             México   \n",
            "76820                   97                    7        99             México   \n",
            "103694                  97                    3        99             México   \n",
            "860                     97                    7        99             México   \n",
            "15795                   97                    1        99             México   \n",
            "\n",
            "        PAIS_ORIGEN  UCI  \n",
            "40588          97.0    1  \n",
            "34614          97.0    1  \n",
            "60846          97.0    2  \n",
            "103582         97.0    2  \n",
            "7096           97.0    1  \n",
            "...             ...  ...  \n",
            "54886          97.0    2  \n",
            "76820          97.0    2  \n",
            "103694         97.0    2  \n",
            "860            97.0    1  \n",
            "15795          97.0    1  \n",
            "\n",
            "[87497 rows x 40 columns]\n",
            "Validating that we have balanced data for training.\n",
            "col_0  count\n",
            "UCI         \n",
            "1      43635\n",
            "2      43862\n"
          ]
        }
      ],
      "execution_count": 21,
      "metadata": {
        "collapsed": true,
        "jupyter": {
          "source_hidden": false,
          "outputs_hidden": false
        },
        "nteract": {
          "transient": {
            "deleting": false
          }
        },
        "gather": {
          "logged": 1620358597138
        }
      }
    },
    {
      "cell_type": "markdown",
      "source": [
        "### Converting Train Data to Tabular Dataset\r\n",
        "Since the train data is in the pandas Dataframe format, we have to convert it to Tabular Dataset to be used in AutoML"
      ],
      "metadata": {
        "nteract": {
          "transient": {
            "deleting": false
          }
        }
      }
    },
    {
      "cell_type": "code",
      "source": [
        "#Convert train_data (Which are in pandas DataFrame format) to TabularDataset format.\r\n",
        "try:\r\n",
        "    os.makedirs('./data', exist_ok=True)\r\n",
        "except OSError as error:\r\n",
        "    print('New directory cannot be created')\r\n",
        "    \r\n",
        "path = 'data/trainBalanced.csv'\r\n",
        "train_data.to_csv(path)\r\n",
        "\r\n",
        "datastore = ws.get_default_datastore()\r\n",
        "datastore.upload(src_dir='data', target_path='data')\r\n",
        "\r\n",
        "train_data = TabularDatasetFactory.from_delimited_files(path=[(datastore, ('data/trainBalanced.csv'))])\r\n",
        "print(\"Successfully converted the dataset to TabularDataset format.\")\r\n",
        "print(type(train_data))"
      ],
      "outputs": [
        {
          "output_type": "stream",
          "name": "stdout",
          "text": [
            "Uploading an estimated of 2 files\n",
            "Target already exists. Skipping upload for data/train.csv\n",
            "Uploading data/trainBalanced.csv\n",
            "Uploaded data/trainBalanced.csv, 1 files out of an estimated total of 1\n",
            "Uploaded 1 files\n",
            "Successfully converted the dataset to TabularDataset format.\n",
            "<class 'azureml.data.tabular_dataset.TabularDataset'>\n"
          ]
        }
      ],
      "execution_count": 22,
      "metadata": {
        "collapsed": true,
        "jupyter": {
          "source_hidden": false,
          "outputs_hidden": false
        },
        "nteract": {
          "transient": {
            "deleting": false
          }
        },
        "gather": {
          "logged": 1620358635883
        }
      }
    },
    {
      "cell_type": "markdown",
      "source": [
        "## AutoML Configuration\n",
        "\n",
        "TODO: Explain why you chose the automl settings and cofiguration you used below.\n",
        "\n",
        "Since I was dealing with a large dataset, I needed to give more time to the experiment_timeout_minutes, that's why it's set to 5 hours."
      ],
      "metadata": {}
    },
    {
      "cell_type": "code",
      "source": [
        "# TODO: Put your automl settings here\n",
        "automl_settings = {\n",
        "    \"experiment_timeout_minutes\": 60,\n",
        "    \"max_concurrent_iterations\": 5,\n",
        "    \"primary_metric\" : 'accuracy'\n",
        "}\n",
        "\n",
        "# TODO: Put your automl config here\n",
        "automl_config = AutoMLConfig(\n",
        "    compute_target=compute_target,\n",
        "    task = \"classification\",\n",
        "    training_data=train_data,\n",
        "    label_column_name='UCI',   \n",
        "    enable_early_stopping= True,\n",
        "    featurization= 'auto',\n",
        "    debug_log = \"automl_errors.log\",\n",
        "    **automl_settings\n",
        ")"
      ],
      "outputs": [],
      "execution_count": 23,
      "metadata": {
        "gather": {
          "logged": 1620358713213
        },
        "jupyter": {
          "outputs_hidden": false,
          "source_hidden": false
        },
        "nteract": {
          "transient": {
            "deleting": false
          }
        }
      }
    },
    {
      "cell_type": "code",
      "source": [
        "# TODO: Submit your experiment\n",
        "#remote_run = experiment.submit(automl_config, show_output = True)\n",
        "remote_run = experiment.submit(automl_config)"
      ],
      "outputs": [
        {
          "output_type": "stream",
          "name": "stdout",
          "text": [
            "Submitting remote run.\n",
            "No run_configuration provided, running on cpu-cluster with default configuration\n",
            "Running on remote compute: cpu-cluster\n"
          ]
        },
        {
          "output_type": "display_data",
          "data": {
            "text/plain": "<IPython.core.display.HTML object>",
            "text/html": "<table style=\"width:100%\"><tr><th>Experiment</th><th>Id</th><th>Type</th><th>Status</th><th>Details Page</th><th>Docs Page</th></tr><tr><td>automlcovid</td><td>AutoML_aa037dcb-346c-4c3f-9d94-cfbc7acb121e</td><td>automl</td><td>NotStarted</td><td><a href=\"https://ml.azure.com/runs/AutoML_aa037dcb-346c-4c3f-9d94-cfbc7acb121e?wsid=/subscriptions/48a74bb7-9950-4cc1-9caa-5d50f995cc55/resourcegroups/aml-quickstarts-144117/workspaces/quick-starts-ws-144117&amp;tid=660b3398-b80e-49d2-bc5b-ac1dc93b5254\" target=\"_blank\" rel=\"noopener\">Link to Azure Machine Learning studio</a></td><td><a href=\"https://docs.microsoft.com/en-us/python/api/overview/azure/ml/intro?view=azure-ml-py\" target=\"_blank\" rel=\"noopener\">Link to Documentation</a></td></tr></table>"
          },
          "metadata": {}
        },
        {
          "output_type": "stream",
          "name": "stdout",
          "text": [
            "\n",
            "Current status: FeaturesGeneration. Generating features for the dataset.\n",
            "Current status: DatasetFeaturization. Beginning to fit featurizers and featurize the dataset.\n",
            "Current status: ModelSelection. Beginning model selection.\n",
            "\n",
            "****************************************************************************************************\n",
            "DATA GUARDRAILS: \n",
            "\n",
            "TYPE:         Train-Test data split\n",
            "STATUS:       DONE\n",
            "DESCRIPTION:  Your input data has been split into a training dataset and a holdout test dataset for validation of the model. The test holdout dataset reflects the original distribution of your input data.\n",
            "              \n",
            "DETAILS:      \n",
            "+---------------------------------+---------------------------------+---------------------------------+\n",
            "|Dataset                          |Row counts                       |Percentage                       |\n",
            "+=================================+=================================+=================================+\n",
            "|train                            |78747                            |89.99965713110164                |\n",
            "|test                             |8750                             |10.000342868898363               |\n",
            "+---------------------------------+---------------------------------+---------------------------------+\n",
            "\n",
            "****************************************************************************************************\n",
            "\n",
            "TYPE:         Class balancing detection\n",
            "STATUS:       PASSED\n",
            "DESCRIPTION:  Your inputs were analyzed, and all classes are balanced in your training data.\n",
            "              Learn more about imbalanced data: https://aka.ms/AutomatedMLImbalancedData\n",
            "\n",
            "****************************************************************************************************\n",
            "\n",
            "TYPE:         Missing feature values imputation\n",
            "STATUS:       PASSED\n",
            "DESCRIPTION:  No feature missing values were detected in the training data.\n",
            "              Learn more about missing value imputation: https://aka.ms/AutomatedMLFeaturization\n",
            "\n",
            "****************************************************************************************************\n",
            "\n",
            "TYPE:         High cardinality feature detection\n",
            "STATUS:       DONE\n",
            "DESCRIPTION:  High cardinality features were detected in your inputs and handled.\n",
            "              Learn more about high cardinality feature handling: https://aka.ms/AutomatedMLFeaturization\n",
            "DETAILS:      High cardinality features refer to columns that contain a large percentage of unique values.\n",
            "+---------------------------------+---------------------------------+\n",
            "|Column name                      |Column Content Type              |\n",
            "+=================================+=================================+\n",
            "|FECHA_DEF                        |categorical_hash                 |\n",
            "+---------------------------------+---------------------------------+\n",
            "\n",
            "****************************************************************************************************\n",
            "\n",
            "****************************************************************************************************\n",
            "ITERATION: The iteration being evaluated.\n",
            "PIPELINE: A summary description of the pipeline being evaluated.\n",
            "DURATION: Time taken for the current iteration.\n",
            "METRIC: The result of computing score on the fitted pipeline.\n",
            "BEST: The best observed score thus far.\n",
            "****************************************************************************************************\n",
            "\n",
            " ITERATION   PIPELINE                                       DURATION      METRIC      BEST\n",
            "         3   MaxAbsScaler RandomForest                      0:00:43       0.9959    0.9959\n",
            "         1   MaxAbsScaler XGBoostClassifier                 0:00:53       1.0000    1.0000\n",
            "         4   MaxAbsScaler RandomForest                      0:00:45       0.9715    1.0000\n",
            "         6   SparseNormalizer XGBoostClassifier             0:00:48       0.9993    1.0000\n",
            "         0   MaxAbsScaler LightGBM                          0:01:31       0.9999    1.0000\n",
            "         5   MaxAbsScaler RandomForest                      0:01:28       0.9467    1.0000\n",
            "         2   MaxAbsScaler RandomForest                      0:01:32       0.9926    1.0000\n",
            "         7   StandardScalerWrapper LightGBM                 0:00:46       1.0000    1.0000\n",
            "        10   StandardScalerWrapper LightGBM                 0:00:45       0.9999    1.0000\n",
            "         9   MaxAbsScaler LightGBM                          0:00:43       0.9992    1.0000\n",
            "         8   MaxAbsScaler GradientBoosting                  0:01:12       1.0000    1.0000\n",
            "        11   MaxAbsScaler LightGBM                          0:01:02       0.9991    1.0000\n",
            "        12   MaxAbsScaler LightGBM                          0:00:51       0.9998    1.0000\n",
            "        13   SparseNormalizer XGBoostClassifier             0:00:55       1.0000    1.0000\n",
            "        14   MaxAbsScaler LightGBM                          0:00:48       0.9999    1.0000\n",
            "        16   MaxAbsScaler LightGBM                          0:00:47       1.0000    1.0000\n",
            "        15   SparseNormalizer XGBoostClassifier             0:01:04       1.0000    1.0000\n",
            "        17   MaxAbsScaler LightGBM                          0:00:43       1.0000    1.0000\n",
            "        18   MaxAbsScaler LightGBM                          0:00:50       0.9999    1.0000\n",
            "        20   MaxAbsScaler LightGBM                          0:00:45       0.9992    1.0000\n",
            "        19   SparseNormalizer XGBoostClassifier             0:01:01       1.0000    1.0000\n",
            "        21   StandardScalerWrapper XGBoostClassifier        0:00:51       1.0000    1.0000\n",
            "        22   SparseNormalizer XGBoostClassifier             0:01:12       1.0000    1.0000\n",
            "        23   SparseNormalizer XGBoostClassifier             0:01:04       1.0000    1.0000\n",
            "        24   MaxAbsScaler LightGBM                          0:00:52       0.9986    1.0000\n",
            "        25   StandardScalerWrapper XGBoostClassifier        0:00:43       0.5013    1.0000\n",
            "        26   TruncatedSVDWrapper XGBoostClassifier          0:00:57       0.9994    1.0000\n",
            "        27   StandardScalerWrapper XGBoostClassifier        0:00:46       0.9992    1.0000\n",
            "        28   MaxAbsScaler LightGBM                          0:00:45       0.9993    1.0000\n",
            "        29   SparseNormalizer LightGBM                      0:00:46       0.9981    1.0000\n",
            "        30   TruncatedSVDWrapper XGBoostClassifier          0:00:52       0.5013    1.0000\n",
            "        31   StandardScalerWrapper ExtremeRandomTrees       0:00:53       0.9827    1.0000\n",
            "        32   StandardScalerWrapper ExtremeRandomTrees       0:00:48       0.9962    1.0000\n",
            "        33   SparseNormalizer XGBoostClassifier             0:01:14       1.0000    1.0000\n",
            "        34   SparseNormalizer XGBoostClassifier             0:00:28          nan    1.0000\n",
            "        35                                                  0:00:16          nan    1.0000\n",
            "        36                                                  0:00:16          nan    1.0000\n",
            "        37                                                  0:00:27          nan    1.0000\n",
            "        38    VotingEnsemble                                0:00:59       1.0000    1.0000\n",
            "        39    StackEnsemble                                 0:02:26       1.0000    1.0000\n"
          ]
        }
      ],
      "execution_count": 24,
      "metadata": {
        "gather": {
          "logged": 1620359821581
        },
        "jupyter": {
          "outputs_hidden": false,
          "source_hidden": false
        },
        "nteract": {
          "transient": {
            "deleting": false
          }
        }
      }
    },
    {
      "cell_type": "markdown",
      "source": [
        "## Run Details\n",
        "\n",
        "OPTIONAL: Write about the different models trained and their performance. Why do you think some models did better than others?\n",
        "\n",
        "TODO: In the cell below, use the `RunDetails` widget to show the different experiments.\n",
        "\n",
        "With the RunDetails widget we can see the different experiments and the details of each run"
      ],
      "metadata": {}
    },
    {
      "cell_type": "code",
      "source": [
        "from azureml.widgets import RunDetails\r\n",
        "RunDetails(remote_run).show()"
      ],
      "outputs": [
        {
          "output_type": "display_data",
          "data": {
            "text/plain": "_AutoMLWidget(widget_settings={'childWidgetDisplay': 'popup', 'send_telemetry': False, 'log_level': 'INFO', 's…",
            "application/vnd.jupyter.widget-view+json": {
              "version_major": 2,
              "version_minor": 0,
              "model_id": "8abf8ec727304d59ac4c6bf66c6877bf"
            }
          },
          "metadata": {}
        },
        {
          "output_type": "display_data",
          "data": {
            "application/aml.mini.widget.v1": "{\"status\": \"Completed\", \"workbench_run_details_uri\": \"https://ml.azure.com/runs/AutoML_aa037dcb-346c-4c3f-9d94-cfbc7acb121e?wsid=/subscriptions/48a74bb7-9950-4cc1-9caa-5d50f995cc55/resourcegroups/aml-quickstarts-144117/workspaces/quick-starts-ws-144117&tid=660b3398-b80e-49d2-bc5b-ac1dc93b5254\", \"run_id\": \"AutoML_aa037dcb-346c-4c3f-9d94-cfbc7acb121e\", \"run_properties\": {\"run_id\": \"AutoML_aa037dcb-346c-4c3f-9d94-cfbc7acb121e\", \"created_utc\": \"2021-05-07T03:38:41.884658Z\", \"properties\": {\"num_iterations\": \"1000\", \"training_type\": \"TrainFull\", \"acquisition_function\": \"EI\", \"primary_metric\": \"accuracy\", \"train_split\": \"0\", \"acquisition_parameter\": \"0\", \"num_cross_validation\": null, \"target\": \"cpu-cluster\", \"AMLSettingsJsonString\": \"{\\\"path\\\":null,\\\"name\\\":\\\"automlcovid\\\",\\\"subscription_id\\\":\\\"48a74bb7-9950-4cc1-9caa-5d50f995cc55\\\",\\\"resource_group\\\":\\\"aml-quickstarts-144117\\\",\\\"workspace_name\\\":\\\"quick-starts-ws-144117\\\",\\\"region\\\":\\\"southcentralus\\\",\\\"compute_target\\\":\\\"cpu-cluster\\\",\\\"spark_service\\\":null,\\\"azure_service\\\":\\\"remote\\\",\\\"many_models\\\":false,\\\"pipeline_fetch_max_batch_size\\\":1,\\\"enable_batch_run\\\":false,\\\"enable_run_restructure\\\":false,\\\"start_auxiliary_runs_before_parent_complete\\\":false,\\\"iterations\\\":1000,\\\"primary_metric\\\":\\\"accuracy\\\",\\\"task_type\\\":\\\"classification\\\",\\\"data_script\\\":null,\\\"test_size\\\":0.0,\\\"validation_size\\\":0.0,\\\"n_cross_validations\\\":null,\\\"y_min\\\":null,\\\"y_max\\\":null,\\\"num_classes\\\":null,\\\"featurization\\\":\\\"auto\\\",\\\"_ignore_package_version_incompatibilities\\\":false,\\\"is_timeseries\\\":false,\\\"max_cores_per_iteration\\\":1,\\\"max_concurrent_iterations\\\":5,\\\"iteration_timeout_minutes\\\":null,\\\"mem_in_mb\\\":null,\\\"enforce_time_on_windows\\\":false,\\\"experiment_timeout_minutes\\\":30,\\\"experiment_exit_score\\\":null,\\\"whitelist_models\\\":null,\\\"blacklist_algos\\\":[\\\"TensorFlowLinearClassifier\\\",\\\"TensorFlowDNN\\\"],\\\"supported_models\\\":[\\\"BernoulliNaiveBayes\\\",\\\"AveragedPerceptronClassifier\\\",\\\"DecisionTree\\\",\\\"XGBoostClassifier\\\",\\\"SGD\\\",\\\"ExtremeRandomTrees\\\",\\\"RandomForest\\\",\\\"SVM\\\",\\\"LogisticRegression\\\",\\\"GradientBoosting\\\",\\\"KNN\\\",\\\"LightGBM\\\",\\\"MultinomialNaiveBayes\\\",\\\"LinearSVM\\\",\\\"TensorFlowLinearClassifier\\\",\\\"TensorFlowDNN\\\"],\\\"private_models\\\":[],\\\"auto_blacklist\\\":true,\\\"blacklist_samples_reached\\\":false,\\\"exclude_nan_labels\\\":true,\\\"verbosity\\\":20,\\\"_debug_log\\\":\\\"azureml_automl.log\\\",\\\"show_warnings\\\":false,\\\"model_explainability\\\":true,\\\"service_url\\\":null,\\\"sdk_url\\\":null,\\\"sdk_packages\\\":null,\\\"enable_onnx_compatible_models\\\":false,\\\"enable_split_onnx_featurizer_estimator_models\\\":false,\\\"vm_type\\\":\\\"STANDARD_D64S_V3\\\",\\\"telemetry_verbosity\\\":20,\\\"send_telemetry\\\":true,\\\"enable_dnn\\\":false,\\\"scenario\\\":\\\"SDK-1.13.0\\\",\\\"environment_label\\\":null,\\\"save_mlflow\\\":false,\\\"force_text_dnn\\\":false,\\\"enable_feature_sweeping\\\":true,\\\"enable_early_stopping\\\":true,\\\"early_stopping_n_iters\\\":10,\\\"metrics\\\":null,\\\"enable_metric_confidence\\\":false,\\\"enable_ensembling\\\":true,\\\"enable_stack_ensembling\\\":true,\\\"ensemble_iterations\\\":15,\\\"enable_tf\\\":false,\\\"enable_subsampling\\\":null,\\\"subsample_seed\\\":null,\\\"enable_nimbusml\\\":false,\\\"enable_streaming\\\":false,\\\"force_streaming\\\":false,\\\"track_child_runs\\\":true,\\\"allowed_private_models\\\":[],\\\"label_column_name\\\":\\\"UCI\\\",\\\"weight_column_name\\\":null,\\\"cv_split_column_names\\\":null,\\\"enable_local_managed\\\":false,\\\"_local_managed_run_id\\\":null,\\\"cost_mode\\\":1,\\\"lag_length\\\":0,\\\"metric_operation\\\":\\\"maximize\\\",\\\"preprocess\\\":true}\", \"DataPrepJsonString\": \"{\\\\\\\"training_data\\\\\\\": {\\\\\\\"datasetId\\\\\\\": \\\\\\\"648b487e-24c0-45f8-b222-56617c51d5a8\\\\\\\"}, \\\\\\\"datasets\\\\\\\": 0}\", \"EnableSubsampling\": null, \"runTemplate\": \"AutoML\", \"azureml.runsource\": \"automl\", \"display_task_type\": \"classification\", \"dependencies_versions\": \"{\\\"azureml-widgets\\\": \\\"1.27.0\\\", \\\"azureml-train\\\": \\\"1.27.0\\\", \\\"azureml-train-restclients-hyperdrive\\\": \\\"1.27.0\\\", \\\"azureml-train-core\\\": \\\"1.27.0\\\", \\\"azureml-train-automl\\\": \\\"1.27.0\\\", \\\"azureml-train-automl-runtime\\\": \\\"1.27.0\\\", \\\"azureml-train-automl-client\\\": \\\"1.27.0\\\", \\\"azureml-tensorboard\\\": \\\"1.27.0\\\", \\\"azureml-telemetry\\\": \\\"1.27.0\\\", \\\"azureml-sdk\\\": \\\"1.27.0\\\", \\\"azureml-samples\\\": \\\"0+unknown\\\", \\\"azureml-pipeline\\\": \\\"1.27.0\\\", \\\"azureml-pipeline-steps\\\": \\\"1.27.0\\\", \\\"azureml-pipeline-core\\\": \\\"1.27.0\\\", \\\"azureml-opendatasets\\\": \\\"1.27.0\\\", \\\"azureml-model-management-sdk\\\": \\\"1.0.1b6.post1\\\", \\\"azureml-mlflow\\\": \\\"1.27.0\\\", \\\"azureml-interpret\\\": \\\"1.27.0\\\", \\\"azureml-explain-model\\\": \\\"1.27.0\\\", \\\"azureml-defaults\\\": \\\"1.27.0\\\", \\\"azureml-dataset-runtime\\\": \\\"1.27.0\\\", \\\"azureml-dataprep\\\": \\\"2.14.2\\\", \\\"azureml-dataprep-rslex\\\": \\\"1.12.1\\\", \\\"azureml-dataprep-native\\\": \\\"33.0.0\\\", \\\"azureml-datadrift\\\": \\\"1.27.0\\\", \\\"azureml-core\\\": \\\"1.27.0\\\", \\\"azureml-contrib-services\\\": \\\"1.27.0\\\", \\\"azureml-contrib-server\\\": \\\"1.27.0\\\", \\\"azureml-contrib-reinforcementlearning\\\": \\\"1.27.0\\\", \\\"azureml-contrib-pipeline-steps\\\": \\\"1.27.0\\\", \\\"azureml-contrib-notebook\\\": \\\"1.27.0\\\", \\\"azureml-contrib-gbdt\\\": \\\"1.27.0\\\", \\\"azureml-contrib-fairness\\\": \\\"1.27.0\\\", \\\"azureml-contrib-dataset\\\": \\\"1.27.0\\\", \\\"azureml-cli-common\\\": \\\"1.27.0\\\", \\\"azureml-automl-runtime\\\": \\\"1.27.0\\\", \\\"azureml-automl-dnn-nlp\\\": \\\"1.27.0\\\", \\\"azureml-automl-core\\\": \\\"1.27.0\\\", \\\"azureml-accel-models\\\": \\\"1.27.0\\\"}\", \"_aml_system_scenario_identification\": \"Remote.Parent\", \"ClientType\": \"SDK\", \"environment_cpu_name\": \"AzureML-AutoML\", \"environment_cpu_label\": \"prod\", \"environment_gpu_name\": \"AzureML-AutoML-GPU\", \"environment_gpu_label\": \"prod\", \"root_attribution\": \"automl\", \"attribution\": \"AutoML\", \"Orchestrator\": \"AutoML\", \"CancelUri\": \"https://southcentralus.api.azureml.ms/jasmine/v1.0/subscriptions/48a74bb7-9950-4cc1-9caa-5d50f995cc55/resourceGroups/aml-quickstarts-144117/providers/Microsoft.MachineLearningServices/workspaces/quick-starts-ws-144117/experimentids/ffa0e2bc-ee92-490e-9fcb-c29e721b6c95/cancel/AutoML_aa037dcb-346c-4c3f-9d94-cfbc7acb121e\", \"ClientSdkVersion\": \"1.27.0.post1\", \"snapshotId\": \"00000000-0000-0000-0000-000000000000\", \"SetupRunId\": \"AutoML_aa037dcb-346c-4c3f-9d94-cfbc7acb121e_setup\", \"SetupRunContainerId\": \"dcid.AutoML_aa037dcb-346c-4c3f-9d94-cfbc7acb121e_setup\", \"FeaturizationRunJsonPath\": \"featurizer_container.json\", \"FeaturizationRunId\": \"AutoML_aa037dcb-346c-4c3f-9d94-cfbc7acb121e_featurize\", \"ProblemInfoJsonString\": \"{\\\"dataset_num_categorical\\\": 0, \\\"is_sparse\\\": true, \\\"subsampling\\\": false, \\\"dataset_classes\\\": 2, \\\"dataset_features\\\": 517, \\\"dataset_samples\\\": 78747, \\\"single_frequency_class_detected\\\": false}\", \"ModelExplainRunId\": \"AutoML_aa037dcb-346c-4c3f-9d94-cfbc7acb121e_ModelExplain\"}, \"tags\": {\"model_explain_run\": \"best_run\", \"_aml_system_azureml.automlComponent\": \"AutoML\", \"pipeline_id\": \"\", \"score\": \"\", \"predicted_cost\": \"\", \"fit_time\": \"\", \"training_percent\": \"\", \"iteration\": \"\", \"run_preprocessor\": \"\", \"run_algorithm\": \"\", \"dynamic_whitelisting_iterations\": \"<25>;<30>;<35>;\", \"automl_best_child_run_id\": \"AutoML_aa037dcb-346c-4c3f-9d94-cfbc7acb121e_1\", \"model_explain_best_run_child_id\": \"AutoML_aa037dcb-346c-4c3f-9d94-cfbc7acb121e_1\"}, \"end_time_utc\": \"2021-05-07T03:56:44.10178Z\", \"status\": \"Completed\", \"log_files\": {}, \"log_groups\": [], \"run_duration\": \"0:18:02\", \"run_number\": \"17\", \"run_queued_details\": {\"status\": \"Completed\", \"details\": null}}, \"child_runs\": [{\"run_id\": \"AutoML_aa037dcb-346c-4c3f-9d94-cfbc7acb121e_0\", \"run_number\": 21, \"metric\": null, \"status\": \"Completed\", \"run_type\": \"azureml.scriptrun\", \"training_percent\": \"100\", \"start_time\": \"2021-05-07T03:44:31.784552Z\", \"end_time\": \"2021-05-07T03:46:03.160694Z\", \"created_time\": \"2021-05-07T03:41:38.324429Z\", \"created_time_dt\": \"2021-05-07T03:41:38.324429Z\", \"duration\": \"0:04:24\", \"iteration\": \"0\", \"goal\": \"accuracy_max\", \"run_name\": \"MaxAbsScaler, LightGBM\", \"run_properties\": \"copy=True\", \"primary_metric\": 0.99988571, \"best_metric\": 0.99988571}, {\"run_id\": \"AutoML_aa037dcb-346c-4c3f-9d94-cfbc7acb121e_4\", \"run_number\": 22, \"metric\": null, \"status\": \"Completed\", \"run_type\": \"azureml.scriptrun\", \"training_percent\": \"100\", \"start_time\": \"2021-05-07T03:43:56.609976Z\", \"end_time\": \"2021-05-07T03:44:41.326485Z\", \"created_time\": \"2021-05-07T03:41:38.405801Z\", \"created_time_dt\": \"2021-05-07T03:41:38.405801Z\", \"duration\": \"0:03:02\", \"iteration\": \"4\", \"goal\": \"accuracy_max\", \"run_name\": \"MaxAbsScaler, RandomForest\", \"run_properties\": \"copy=True\", \"primary_metric\": 0.97154286, \"best_metric\": 1.0}, {\"run_id\": \"AutoML_aa037dcb-346c-4c3f-9d94-cfbc7acb121e_3\", \"run_number\": 23, \"metric\": null, \"status\": \"Completed\", \"run_type\": \"azureml.scriptrun\", \"training_percent\": \"100\", \"start_time\": \"2021-05-07T03:41:52.478703Z\", \"end_time\": \"2021-05-07T03:42:35.795268Z\", \"created_time\": \"2021-05-07T03:41:38.40946Z\", \"created_time_dt\": \"2021-05-07T03:41:38.40946Z\", \"duration\": \"0:00:57\", \"iteration\": \"3\", \"goal\": \"accuracy_max\", \"run_name\": \"MaxAbsScaler, RandomForest\", \"run_properties\": \"copy=True\", \"primary_metric\": 0.99588571, \"best_metric\": 1.0}, {\"run_id\": \"AutoML_aa037dcb-346c-4c3f-9d94-cfbc7acb121e_1\", \"run_number\": 24, \"metric\": null, \"status\": \"Completed\", \"run_type\": \"azureml.scriptrun\", \"training_percent\": \"100\", \"start_time\": \"2021-05-07T03:42:50.707225Z\", \"end_time\": \"2021-05-07T03:43:43.360428Z\", \"created_time\": \"2021-05-07T03:41:38.441876Z\", \"created_time_dt\": \"2021-05-07T03:41:38.441876Z\", \"duration\": \"0:02:04\", \"iteration\": \"1\", \"goal\": \"accuracy_max\", \"run_name\": \"MaxAbsScaler, XGBoostClassifier\", \"run_properties\": \"copy=True\", \"primary_metric\": 1.0, \"best_metric\": 1.0}, {\"run_id\": \"AutoML_aa037dcb-346c-4c3f-9d94-cfbc7acb121e_2\", \"run_number\": 25, \"metric\": null, \"status\": \"Completed\", \"run_type\": \"azureml.scriptrun\", \"training_percent\": \"100\", \"start_time\": \"2021-05-07T03:44:36.14438Z\", \"end_time\": \"2021-05-07T03:46:08.196336Z\", \"created_time\": \"2021-05-07T03:41:38.43705Z\", \"created_time_dt\": \"2021-05-07T03:41:38.43705Z\", \"duration\": \"0:04:29\", \"iteration\": \"2\", \"goal\": \"accuracy_max\", \"run_name\": \"MaxAbsScaler, RandomForest\", \"run_properties\": \"copy=True\", \"primary_metric\": 0.99257143, \"best_metric\": 1.0}, {\"run_id\": \"AutoML_aa037dcb-346c-4c3f-9d94-cfbc7acb121e_5\", \"run_number\": 26, \"metric\": null, \"status\": \"Completed\", \"run_type\": \"azureml.scriptrun\", \"training_percent\": \"100\", \"start_time\": \"2021-05-07T03:44:32.95493Z\", \"end_time\": \"2021-05-07T03:46:01.362313Z\", \"created_time\": \"2021-05-07T03:42:38.887951Z\", \"created_time_dt\": \"2021-05-07T03:42:38.887951Z\", \"duration\": \"0:03:22\", \"iteration\": \"5\", \"goal\": \"accuracy_max\", \"run_name\": \"MaxAbsScaler, RandomForest\", \"run_properties\": \"copy=True\", \"primary_metric\": 0.94674286, \"best_metric\": 1.0}, {\"run_id\": \"AutoML_aa037dcb-346c-4c3f-9d94-cfbc7acb121e_6\", \"run_number\": 27, \"metric\": null, \"status\": \"Completed\", \"run_type\": \"azureml.scriptrun\", \"training_percent\": \"100\", \"start_time\": \"2021-05-07T03:44:56.495788Z\", \"end_time\": \"2021-05-07T03:45:44.48482Z\", \"created_time\": \"2021-05-07T03:43:47.411929Z\", \"created_time_dt\": \"2021-05-07T03:43:47.411929Z\", \"duration\": \"0:01:57\", \"iteration\": \"6\", \"goal\": \"accuracy_max\", \"run_name\": \"SparseNormalizer, XGBoostClassifier\", \"run_properties\": \"<azureml.automl.runtime.shared.model_wrappers.SparseNormalizer object at 0x7f54e435df60\", \"primary_metric\": 0.99931429, \"best_metric\": 1.0}, {\"run_id\": \"AutoML_aa037dcb-346c-4c3f-9d94-cfbc7acb121e_7\", \"run_number\": 28, \"metric\": null, \"status\": \"Completed\", \"run_type\": \"azureml.scriptrun\", \"training_percent\": \"100\", \"start_time\": \"2021-05-07T03:45:59.477248Z\", \"end_time\": \"2021-05-07T03:46:45.103062Z\", \"created_time\": \"2021-05-07T03:44:43.832598Z\", \"created_time_dt\": \"2021-05-07T03:44:43.832598Z\", \"duration\": \"0:02:01\", \"iteration\": \"7\", \"goal\": \"accuracy_max\", \"run_name\": \"StandardScalerWrapper, LightGBM\", \"run_properties\": \"<azureml.automl.runtime.shared.model_wrappers.StandardScalerWrapper object at 0x7f175879fb00\", \"primary_metric\": 1.0, \"best_metric\": 1.0}, {\"run_id\": \"AutoML_aa037dcb-346c-4c3f-9d94-cfbc7acb121e_8\", \"run_number\": 29, \"metric\": null, \"status\": \"Completed\", \"run_type\": \"azureml.scriptrun\", \"training_percent\": \"100\", \"start_time\": \"2021-05-07T03:46:16.949244Z\", \"end_time\": \"2021-05-07T03:47:28.861271Z\", \"created_time\": \"2021-05-07T03:45:46.876725Z\", \"created_time_dt\": \"2021-05-07T03:45:46.876725Z\", \"duration\": \"0:01:41\", \"iteration\": \"8\", \"goal\": \"accuracy_max\", \"run_name\": \"MaxAbsScaler, GradientBoosting\", \"run_properties\": \"copy=True\", \"primary_metric\": 1.0, \"best_metric\": 1.0}, {\"run_id\": \"AutoML_aa037dcb-346c-4c3f-9d94-cfbc7acb121e_9\", \"run_number\": 30, \"metric\": null, \"status\": \"Completed\", \"run_type\": \"azureml.scriptrun\", \"training_percent\": \"100\", \"start_time\": \"2021-05-07T03:46:17.712296Z\", \"end_time\": \"2021-05-07T03:47:00.959498Z\", \"created_time\": \"2021-05-07T03:46:03.948175Z\", \"created_time_dt\": \"2021-05-07T03:46:03.948175Z\", \"duration\": \"0:00:57\", \"iteration\": \"9\", \"goal\": \"accuracy_max\", \"run_name\": \"MaxAbsScaler, LightGBM\", \"run_properties\": \"copy=True\", \"primary_metric\": 0.9992, \"best_metric\": 1.0}, {\"run_id\": \"AutoML_aa037dcb-346c-4c3f-9d94-cfbc7acb121e_10\", \"run_number\": 31, \"metric\": null, \"status\": \"Completed\", \"run_type\": \"azureml.scriptrun\", \"training_percent\": \"100\", \"start_time\": \"2021-05-07T03:46:18.642324Z\", \"end_time\": \"2021-05-07T03:47:03.962801Z\", \"created_time\": \"2021-05-07T03:46:07.146635Z\", \"created_time_dt\": \"2021-05-07T03:46:07.146635Z\", \"duration\": \"0:00:56\", \"iteration\": \"10\", \"goal\": \"accuracy_max\", \"run_name\": \"StandardScalerWrapper, LightGBM\", \"run_properties\": \"<azureml.automl.runtime.shared.model_wrappers.StandardScalerWrapper object at 0x7f2bf0f27358\", \"primary_metric\": 0.99988571, \"best_metric\": 1.0}, {\"run_id\": \"AutoML_aa037dcb-346c-4c3f-9d94-cfbc7acb121e_11\", \"run_number\": 32, \"metric\": null, \"status\": \"Completed\", \"run_type\": \"azureml.scriptrun\", \"training_percent\": \"100\", \"start_time\": \"2021-05-07T03:47:00.922642Z\", \"end_time\": \"2021-05-07T03:48:02.680372Z\", \"created_time\": \"2021-05-07T03:46:09.968383Z\", \"created_time_dt\": \"2021-05-07T03:46:09.968383Z\", \"duration\": \"0:01:52\", \"iteration\": \"11\", \"goal\": \"accuracy_max\", \"run_name\": \"MaxAbsScaler, LightGBM\", \"run_properties\": \"copy=True\", \"primary_metric\": 0.99908571, \"best_metric\": 1.0}, {\"run_id\": \"AutoML_aa037dcb-346c-4c3f-9d94-cfbc7acb121e_12\", \"run_number\": 33, \"metric\": null, \"status\": \"Completed\", \"run_type\": \"azureml.scriptrun\", \"training_percent\": \"100\", \"start_time\": \"2021-05-07T03:47:15.600808Z\", \"end_time\": \"2021-05-07T03:48:06.40859Z\", \"created_time\": \"2021-05-07T03:46:46.942928Z\", \"created_time_dt\": \"2021-05-07T03:46:46.942928Z\", \"duration\": \"0:01:19\", \"iteration\": \"12\", \"goal\": \"accuracy_max\", \"run_name\": \"MaxAbsScaler, LightGBM\", \"run_properties\": \"copy=True\", \"primary_metric\": 0.99977143, \"best_metric\": 1.0}, {\"run_id\": \"AutoML_aa037dcb-346c-4c3f-9d94-cfbc7acb121e_13\", \"run_number\": 34, \"metric\": null, \"status\": \"Completed\", \"run_type\": \"azureml.scriptrun\", \"training_percent\": \"100\", \"start_time\": \"2021-05-07T03:47:16.907357Z\", \"end_time\": \"2021-05-07T03:48:11.950037Z\", \"created_time\": \"2021-05-07T03:47:03.056454Z\", \"created_time_dt\": \"2021-05-07T03:47:03.056454Z\", \"duration\": \"0:01:08\", \"iteration\": \"13\", \"goal\": \"accuracy_max\", \"run_name\": \"SparseNormalizer, XGBoostClassifier\", \"run_properties\": \"<azureml.automl.runtime.shared.model_wrappers.SparseNormalizer object at 0x7f9ddf56acc0\", \"primary_metric\": 1.0, \"best_metric\": 1.0}, {\"run_id\": \"AutoML_aa037dcb-346c-4c3f-9d94-cfbc7acb121e_14\", \"run_number\": 35, \"metric\": null, \"status\": \"Completed\", \"run_type\": \"azureml.scriptrun\", \"training_percent\": \"100\", \"start_time\": \"2021-05-07T03:47:45.14594Z\", \"end_time\": \"2021-05-07T03:48:32.690641Z\", \"created_time\": \"2021-05-07T03:47:26.985523Z\", \"created_time_dt\": \"2021-05-07T03:47:26.985523Z\", \"duration\": \"0:01:05\", \"iteration\": \"14\", \"goal\": \"accuracy_max\", \"run_name\": \"MaxAbsScaler, LightGBM\", \"run_properties\": \"copy=True\", \"primary_metric\": 0.99988571, \"best_metric\": 1.0}, {\"run_id\": \"AutoML_aa037dcb-346c-4c3f-9d94-cfbc7acb121e_15\", \"run_number\": 36, \"metric\": null, \"status\": \"Completed\", \"run_type\": \"azureml.scriptrun\", \"training_percent\": \"100\", \"start_time\": \"2021-05-07T03:48:16.401581Z\", \"end_time\": \"2021-05-07T03:49:20.029661Z\", \"created_time\": \"2021-05-07T03:47:30.732814Z\", \"created_time_dt\": \"2021-05-07T03:47:30.732814Z\", \"duration\": \"0:01:49\", \"iteration\": \"15\", \"goal\": \"accuracy_max\", \"run_name\": \"SparseNormalizer, XGBoostClassifier\", \"run_properties\": \"<azureml.automl.runtime.shared.model_wrappers.SparseNormalizer object at 0x7f8094e0dac8\", \"primary_metric\": 1.0, \"best_metric\": 1.0}, {\"run_id\": \"AutoML_aa037dcb-346c-4c3f-9d94-cfbc7acb121e_16\", \"run_number\": 37, \"metric\": null, \"status\": \"Completed\", \"run_type\": \"azureml.scriptrun\", \"training_percent\": \"100\", \"start_time\": \"2021-05-07T03:48:20.54231Z\", \"end_time\": \"2021-05-07T03:49:07.436872Z\", \"created_time\": \"2021-05-07T03:48:04.42236Z\", \"created_time_dt\": \"2021-05-07T03:48:04.42236Z\", \"duration\": \"0:01:03\", \"iteration\": \"16\", \"goal\": \"accuracy_max\", \"run_name\": \"MaxAbsScaler, LightGBM\", \"run_properties\": \"copy=True\", \"primary_metric\": 1.0, \"best_metric\": 1.0}, {\"run_id\": \"AutoML_aa037dcb-346c-4c3f-9d94-cfbc7acb121e_17\", \"run_number\": 38, \"metric\": null, \"status\": \"Completed\", \"run_type\": \"azureml.scriptrun\", \"training_percent\": \"100\", \"start_time\": \"2021-05-07T03:48:28.928965Z\", \"end_time\": \"2021-05-07T03:49:11.481124Z\", \"created_time\": \"2021-05-07T03:48:08.232065Z\", \"created_time_dt\": \"2021-05-07T03:48:08.232065Z\", \"duration\": \"0:01:03\", \"iteration\": \"17\", \"goal\": \"accuracy_max\", \"run_name\": \"MaxAbsScaler, LightGBM\", \"run_properties\": \"copy=True\", \"primary_metric\": 1.0, \"best_metric\": 1.0}, {\"run_id\": \"AutoML_aa037dcb-346c-4c3f-9d94-cfbc7acb121e_18\", \"run_number\": 39, \"metric\": null, \"status\": \"Completed\", \"run_type\": \"azureml.scriptrun\", \"training_percent\": \"100\", \"start_time\": \"2021-05-07T03:48:48.594911Z\", \"end_time\": \"2021-05-07T03:49:38.213438Z\", \"created_time\": \"2021-05-07T03:48:13.698376Z\", \"created_time_dt\": \"2021-05-07T03:48:13.698376Z\", \"duration\": \"0:01:24\", \"iteration\": \"18\", \"goal\": \"accuracy_max\", \"run_name\": \"MaxAbsScaler, LightGBM\", \"run_properties\": \"copy=True\", \"primary_metric\": 0.99988571, \"best_metric\": 1.0}, {\"run_id\": \"AutoML_aa037dcb-346c-4c3f-9d94-cfbc7acb121e_19\", \"run_number\": 40, \"metric\": null, \"status\": \"Completed\", \"run_type\": \"azureml.scriptrun\", \"training_percent\": \"100\", \"start_time\": \"2021-05-07T03:49:23.304759Z\", \"end_time\": \"2021-05-07T03:50:24.264884Z\", \"created_time\": \"2021-05-07T03:48:34.611827Z\", \"created_time_dt\": \"2021-05-07T03:48:34.611827Z\", \"duration\": \"0:01:49\", \"iteration\": \"19\", \"goal\": \"accuracy_max\", \"run_name\": \"SparseNormalizer, XGBoostClassifier\", \"run_properties\": \"<azureml.automl.runtime.shared.model_wrappers.SparseNormalizer object at 0x7fd1c6ae6eb8\", \"primary_metric\": 1.0, \"best_metric\": 1.0}, {\"run_id\": \"AutoML_aa037dcb-346c-4c3f-9d94-cfbc7acb121e_20\", \"run_number\": 41, \"metric\": null, \"status\": \"Completed\", \"run_type\": \"azureml.scriptrun\", \"training_percent\": \"100\", \"start_time\": \"2021-05-07T03:49:27.542522Z\", \"end_time\": \"2021-05-07T03:50:12.079999Z\", \"created_time\": \"2021-05-07T03:49:09.439442Z\", \"created_time_dt\": \"2021-05-07T03:49:09.439442Z\", \"duration\": \"0:01:02\", \"iteration\": \"20\", \"goal\": \"accuracy_max\", \"run_name\": \"MaxAbsScaler, LightGBM\", \"run_properties\": \"copy=True\", \"primary_metric\": 0.9992, \"best_metric\": 1.0}, {\"run_id\": \"AutoML_aa037dcb-346c-4c3f-9d94-cfbc7acb121e_21\", \"run_number\": 42, \"metric\": null, \"status\": \"Completed\", \"run_type\": \"azureml.scriptrun\", \"training_percent\": \"100\", \"start_time\": \"2021-05-07T03:49:33.883304Z\", \"end_time\": \"2021-05-07T03:50:25.209216Z\", \"created_time\": \"2021-05-07T03:49:13.291946Z\", \"created_time_dt\": \"2021-05-07T03:49:13.291946Z\", \"duration\": \"0:01:11\", \"iteration\": \"21\", \"goal\": \"accuracy_max\", \"run_name\": \"StandardScalerWrapper, XGBoostClassifier\", \"run_properties\": \"<azureml.automl.runtime.shared.model_wrappers.StandardScalerWrapper object at 0x7fa4d12e8ac8\", \"primary_metric\": 1.0, \"best_metric\": 1.0}, {\"run_id\": \"AutoML_aa037dcb-346c-4c3f-9d94-cfbc7acb121e_22\", \"run_number\": 43, \"metric\": null, \"status\": \"Completed\", \"run_type\": \"azureml.scriptrun\", \"training_percent\": \"100\", \"start_time\": \"2021-05-07T03:49:51.963407Z\", \"end_time\": \"2021-05-07T03:51:03.867194Z\", \"created_time\": \"2021-05-07T03:49:21.83369Z\", \"created_time_dt\": \"2021-05-07T03:49:21.83369Z\", \"duration\": \"0:01:42\", \"iteration\": \"22\", \"goal\": \"accuracy_max\", \"run_name\": \"SparseNormalizer, XGBoostClassifier\", \"run_properties\": \"<azureml.automl.runtime.shared.model_wrappers.SparseNormalizer object at 0x7f6bae2ed6a0\", \"primary_metric\": 1.0, \"best_metric\": 1.0}, {\"run_id\": \"AutoML_aa037dcb-346c-4c3f-9d94-cfbc7acb121e_23\", \"run_number\": 44, \"metric\": null, \"status\": \"Completed\", \"run_type\": \"azureml.scriptrun\", \"training_percent\": \"100\", \"start_time\": \"2021-05-07T03:50:25.761063Z\", \"end_time\": \"2021-05-07T03:51:29.353486Z\", \"created_time\": \"2021-05-07T03:49:40.050738Z\", \"created_time_dt\": \"2021-05-07T03:49:40.050738Z\", \"duration\": \"0:01:49\", \"iteration\": \"23\", \"goal\": \"accuracy_max\", \"run_name\": \"SparseNormalizer, XGBoostClassifier\", \"run_properties\": \"<azureml.automl.runtime.shared.model_wrappers.SparseNormalizer object at 0x7fd2ede09a58\", \"primary_metric\": 1.0, \"best_metric\": 1.0}, {\"run_id\": \"AutoML_aa037dcb-346c-4c3f-9d94-cfbc7acb121e_24\", \"run_number\": 45, \"metric\": null, \"status\": \"Completed\", \"run_type\": \"azureml.scriptrun\", \"training_percent\": \"100\", \"start_time\": \"2021-05-07T03:50:37.670623Z\", \"end_time\": \"2021-05-07T03:51:29.913037Z\", \"created_time\": \"2021-05-07T03:50:14.022768Z\", \"created_time_dt\": \"2021-05-07T03:50:14.022768Z\", \"duration\": \"0:01:15\", \"iteration\": \"24\", \"goal\": \"accuracy_max\", \"run_name\": \"MaxAbsScaler, LightGBM\", \"run_properties\": \"copy=True\", \"primary_metric\": 0.99862857, \"best_metric\": 1.0}, {\"run_id\": \"AutoML_aa037dcb-346c-4c3f-9d94-cfbc7acb121e_25\", \"run_number\": 46, \"metric\": null, \"status\": \"Completed\", \"run_type\": \"azureml.scriptrun\", \"training_percent\": \"100\", \"start_time\": \"2021-05-07T03:50:41.884761Z\", \"end_time\": \"2021-05-07T03:51:25.186133Z\", \"created_time\": \"2021-05-07T03:50:27.912858Z\", \"created_time_dt\": \"2021-05-07T03:50:27.912858Z\", \"duration\": \"0:00:57\", \"iteration\": \"25\", \"goal\": \"accuracy_max\", \"run_name\": \"StandardScalerWrapper, XGBoostClassifier\", \"run_properties\": \"<azureml.automl.runtime.shared.model_wrappers.StandardScalerWrapper object at 0x7f0030210e48\", \"primary_metric\": 0.50125714, \"best_metric\": 1.0}, {\"run_id\": \"AutoML_aa037dcb-346c-4c3f-9d94-cfbc7acb121e_26\", \"run_number\": 47, \"metric\": null, \"status\": \"Completed\", \"run_type\": \"azureml.scriptrun\", \"training_percent\": \"100\", \"start_time\": \"2021-05-07T03:51:17.116022Z\", \"end_time\": \"2021-05-07T03:52:13.773705Z\", \"created_time\": \"2021-05-07T03:50:30.913159Z\", \"created_time_dt\": \"2021-05-07T03:50:30.913159Z\", \"duration\": \"0:01:42\", \"iteration\": \"26\", \"goal\": \"accuracy_max\", \"run_name\": \"TruncatedSVDWrapper, XGBoostClassifier\", \"run_properties\": \"n_components=0.8510526315789474, random_state=None\", \"primary_metric\": 0.99942857, \"best_metric\": 1.0}, {\"run_id\": \"AutoML_aa037dcb-346c-4c3f-9d94-cfbc7acb121e_27\", \"run_number\": 48, \"metric\": null, \"status\": \"Completed\", \"run_type\": \"azureml.scriptrun\", \"training_percent\": \"100\", \"start_time\": \"2021-05-07T03:51:38.552421Z\", \"end_time\": \"2021-05-07T03:52:24.156394Z\", \"created_time\": \"2021-05-07T03:51:05.821436Z\", \"created_time_dt\": \"2021-05-07T03:51:05.821436Z\", \"duration\": \"0:01:18\", \"iteration\": \"27\", \"goal\": \"accuracy_max\", \"run_name\": \"StandardScalerWrapper, XGBoostClassifier\", \"run_properties\": \"<azureml.automl.runtime.shared.model_wrappers.StandardScalerWrapper object at 0x7f0aadb19748\", \"primary_metric\": 0.9992, \"best_metric\": 1.0}, {\"run_id\": \"AutoML_aa037dcb-346c-4c3f-9d94-cfbc7acb121e_28\", \"run_number\": 49, \"metric\": null, \"status\": \"Completed\", \"run_type\": \"azureml.scriptrun\", \"training_percent\": \"100\", \"start_time\": \"2021-05-07T03:51:45.268741Z\", \"end_time\": \"2021-05-07T03:52:29.831356Z\", \"created_time\": \"2021-05-07T03:51:27.177219Z\", \"created_time_dt\": \"2021-05-07T03:51:27.177219Z\", \"duration\": \"0:01:02\", \"iteration\": \"28\", \"goal\": \"accuracy_max\", \"run_name\": \"MaxAbsScaler, LightGBM\", \"run_properties\": \"copy=True\", \"primary_metric\": 0.99931429, \"best_metric\": 1.0}, {\"run_id\": \"AutoML_aa037dcb-346c-4c3f-9d94-cfbc7acb121e_29\", \"run_number\": 50, \"metric\": null, \"status\": \"Completed\", \"run_type\": \"azureml.scriptrun\", \"training_percent\": \"100\", \"start_time\": \"2021-05-07T03:51:44.878928Z\", \"end_time\": \"2021-05-07T03:52:31.045701Z\", \"created_time\": \"2021-05-07T03:51:31.304941Z\", \"created_time_dt\": \"2021-05-07T03:51:31.304941Z\", \"duration\": \"0:00:59\", \"iteration\": \"29\", \"goal\": \"accuracy_max\", \"run_name\": \"SparseNormalizer, LightGBM\", \"run_properties\": \"<azureml.automl.runtime.shared.model_wrappers.SparseNormalizer object at 0x7fa7a91092b0\", \"primary_metric\": 0.99805714, \"best_metric\": 1.0}, {\"run_id\": \"AutoML_aa037dcb-346c-4c3f-9d94-cfbc7acb121e_30\", \"run_number\": 51, \"metric\": null, \"status\": \"Completed\", \"run_type\": \"azureml.scriptrun\", \"training_percent\": \"100\", \"start_time\": \"2021-05-07T03:52:29.149968Z\", \"end_time\": \"2021-05-07T03:53:20.753631Z\", \"created_time\": \"2021-05-07T03:51:35.229831Z\", \"created_time_dt\": \"2021-05-07T03:51:35.229831Z\", \"duration\": \"0:01:45\", \"iteration\": \"30\", \"goal\": \"accuracy_max\", \"run_name\": \"TruncatedSVDWrapper, XGBoostClassifier\", \"run_properties\": \"n_components=0.8015789473684211, random_state=None\", \"primary_metric\": 0.50125714, \"best_metric\": 1.0}, {\"run_id\": \"AutoML_aa037dcb-346c-4c3f-9d94-cfbc7acb121e_31\", \"run_number\": 52, \"metric\": null, \"status\": \"Completed\", \"run_type\": \"azureml.scriptrun\", \"training_percent\": \"100\", \"start_time\": \"2021-05-07T03:52:40.65008Z\", \"end_time\": \"2021-05-07T03:53:33.628383Z\", \"created_time\": \"2021-05-07T03:52:15.563307Z\", \"created_time_dt\": \"2021-05-07T03:52:15.563307Z\", \"duration\": \"0:01:18\", \"iteration\": \"31\", \"goal\": \"accuracy_max\", \"run_name\": \"StandardScalerWrapper, ExtremeRandomTrees\", \"run_properties\": \"<azureml.automl.runtime.shared.model_wrappers.StandardScalerWrapper object at 0x7f1d14705438\", \"primary_metric\": 0.98274286, \"best_metric\": 1.0}, {\"run_id\": \"AutoML_aa037dcb-346c-4c3f-9d94-cfbc7acb121e_32\", \"run_number\": 53, \"metric\": null, \"status\": \"Completed\", \"run_type\": \"azureml.scriptrun\", \"training_percent\": \"100\", \"start_time\": \"2021-05-07T03:52:46.688705Z\", \"end_time\": \"2021-05-07T03:53:35.040456Z\", \"created_time\": \"2021-05-07T03:52:26.061332Z\", \"created_time_dt\": \"2021-05-07T03:52:26.061332Z\", \"duration\": \"0:01:08\", \"iteration\": \"32\", \"goal\": \"accuracy_max\", \"run_name\": \"StandardScalerWrapper, ExtremeRandomTrees\", \"run_properties\": \"<azureml.automl.runtime.shared.model_wrappers.StandardScalerWrapper object at 0x7f9f6b29e198\", \"primary_metric\": 0.99622857, \"best_metric\": 1.0}, {\"run_id\": \"AutoML_aa037dcb-346c-4c3f-9d94-cfbc7acb121e_33\", \"run_number\": 54, \"metric\": null, \"status\": \"Completed\", \"run_type\": \"azureml.scriptrun\", \"training_percent\": \"100\", \"start_time\": \"2021-05-07T03:52:45.448929Z\", \"end_time\": \"2021-05-07T03:53:59.939702Z\", \"created_time\": \"2021-05-07T03:52:31.800771Z\", \"created_time_dt\": \"2021-05-07T03:52:31.800771Z\", \"duration\": \"0:01:28\", \"iteration\": \"33\", \"goal\": \"accuracy_max\", \"run_name\": \"SparseNormalizer, XGBoostClassifier\", \"run_properties\": \"<azureml.automl.runtime.shared.model_wrappers.SparseNormalizer object at 0x7fdceb6766d8\", \"primary_metric\": 1.0, \"best_metric\": 1.0}, {\"run_id\": \"AutoML_aa037dcb-346c-4c3f-9d94-cfbc7acb121e_34\", \"run_number\": 55, \"metric\": null, \"status\": \"Canceled\", \"run_type\": \"azureml.scriptrun\", \"training_percent\": \"100\", \"start_time\": \"2021-05-07T03:53:37.63731Z\", \"end_time\": \"2021-05-07T03:54:05.862591Z\", \"created_time\": \"2021-05-07T03:52:34.91811Z\", \"created_time_dt\": \"2021-05-07T03:52:34.91811Z\", \"duration\": \"0:01:30\", \"iteration\": \"34\", \"goal\": null, \"run_name\": \"SparseNormalizer, XGBoostClassifier\", \"run_properties\": null}, {\"run_id\": \"AutoML_aa037dcb-346c-4c3f-9d94-cfbc7acb121e_35\", \"run_number\": 56, \"metric\": null, \"status\": \"Canceled\", \"run_type\": \"azureml.scriptrun\", \"training_percent\": \"100\", \"start_time\": \"2021-05-07T03:53:49.64746Z\", \"end_time\": \"2021-05-07T03:54:05.876897Z\", \"created_time\": \"2021-05-07T03:53:23.908772Z\", \"created_time_dt\": \"2021-05-07T03:53:23.908772Z\", \"duration\": \"0:00:41\", \"iteration\": \"35\", \"goal\": null, \"run_name\": \"Canceled\", \"run_properties\": null}, {\"run_id\": \"AutoML_aa037dcb-346c-4c3f-9d94-cfbc7acb121e_36\", \"run_number\": 57, \"metric\": null, \"status\": \"Canceled\", \"run_type\": \"azureml.scriptrun\", \"training_percent\": \"100\", \"start_time\": \"2021-05-07T03:53:49.589645Z\", \"end_time\": \"2021-05-07T03:54:05.84943Z\", \"created_time\": \"2021-05-07T03:53:35.892874Z\", \"created_time_dt\": \"2021-05-07T03:53:35.892874Z\", \"duration\": \"0:00:29\", \"iteration\": \"36\", \"goal\": null, \"run_name\": \"Canceled\", \"run_properties\": null}, {\"run_id\": \"AutoML_aa037dcb-346c-4c3f-9d94-cfbc7acb121e_37\", \"run_number\": 58, \"metric\": null, \"status\": \"Canceled\", \"run_type\": \"azureml.scriptrun\", \"training_percent\": \"100\", \"start_time\": \"2021-05-07T03:53:38.80159Z\", \"end_time\": \"2021-05-07T03:54:05.879953Z\", \"created_time\": \"2021-05-07T03:53:38.80159Z\", \"created_time_dt\": \"2021-05-07T03:53:38.80159Z\", \"duration\": \"0:00:27\", \"iteration\": \"37\", \"goal\": null, \"run_name\": \"Canceled\", \"run_properties\": null}, {\"run_id\": \"AutoML_aa037dcb-346c-4c3f-9d94-cfbc7acb121e_38\", \"run_number\": 59, \"metric\": null, \"status\": \"Completed\", \"run_type\": \"azureml.scriptrun\", \"training_percent\": \"100\", \"start_time\": \"2021-05-07T03:54:13.936434Z\", \"end_time\": \"2021-05-07T03:55:12.505375Z\", \"created_time\": \"2021-05-07T03:54:06.912074Z\", \"created_time_dt\": \"2021-05-07T03:54:06.912074Z\", \"duration\": \"0:01:05\", \"iteration\": \"38\", \"goal\": \"accuracy_max\", \"run_name\": \"VotingEnsemble\", \"run_properties\": \"classification_labels=None,\\n                              estimators=[('33',\\n                                           Pipeline(memory=None,\\n                                                    steps=[('sparsenormalizer',\\n                                                            <azureml.automl.runtime.shared.model_wrappers.SparseNormalizer object at 0x7f7afc449320>\", \"primary_metric\": 1.0, \"best_metric\": 1.0}, {\"run_id\": \"AutoML_aa037dcb-346c-4c3f-9d94-cfbc7acb121e_39\", \"run_number\": 60, \"metric\": null, \"status\": \"Completed\", \"run_type\": \"azureml.scriptrun\", \"training_percent\": \"100\", \"start_time\": \"2021-05-07T03:54:14.898681Z\", \"end_time\": \"2021-05-07T03:56:41.296828Z\", \"created_time\": \"2021-05-07T03:54:06.930157Z\", \"created_time_dt\": \"2021-05-07T03:54:06.930157Z\", \"duration\": \"0:02:34\", \"iteration\": \"39\", \"goal\": \"accuracy_max\", \"run_name\": \"StackEnsemble\", \"run_properties\": \"base_learners=[('33',\\n                                        Pipeline(memory=None,\\n                                                 steps=[('sparsenormalizer',\\n                                                         <azureml.automl.runtime.shared.model_wrappers.SparseNormalizer object at 0x7fbec03e58d0>\", \"primary_metric\": 1.0, \"best_metric\": 1.0}], \"children_metrics\": {\"categories\": [0], \"series\": {\"AUC_micro\": [{\"categories\": [\"0\", \"1\", \"2\", \"3\", \"4\", \"5\", \"6\", \"7\", \"8\", \"9\", \"10\", \"11\", \"12\", \"13\", \"14\", \"15\", \"16\", \"17\", \"18\", \"19\", \"20\", \"21\", \"22\", \"23\", \"24\", \"25\", \"26\", \"27\", \"28\", \"29\", \"30\", \"31\", \"32\", \"33\", \"38\", \"39\"], \"mode\": \"markers\", \"name\": \"AUC_micro\", \"stepped\": false, \"type\": \"scatter\", \"data\": [0.9999999869387755, 1.0, 0.9997510399999999, 0.9999397093877551, 0.996841626122449, 0.9906659787755102, 0.9999986416326532, 1.0, 1.0, 0.9999886759183673, 0.9999928946938775, 0.9998878302040817, 0.9999998693877551, 1.0, 0.9999998302040816, 1.0, 1.0, 1.0, 0.9999998563265307, 1.0, 0.9999933257142856, 0.9999999999999999, 1.0, 1.0, 0.9999921371428571, 0.5012571428571428, 0.9999987330612244, 0.9999918367346938, 0.9999275363265306, 0.9999849665306122, 0.5012571428571428, 0.9989261453061226, 0.9999467755102041, 1.0, 1.0, 1.0]}, {\"categories\": [\"0\", \"1\", \"2\", \"3\", \"4\", \"5\", \"6\", \"7\", \"8\", \"9\", \"10\", \"11\", \"12\", \"13\", \"14\", \"15\", \"16\", \"17\", \"18\", \"19\", \"20\", \"21\", \"22\", \"23\", \"24\", \"25\", \"26\", \"27\", \"28\", \"29\", \"30\", \"31\", \"32\", \"33\", \"38\", \"39\"], \"mode\": \"lines\", \"name\": \"AUC_micro_max\", \"stepped\": true, \"type\": \"scatter\", \"data\": [0.9999999869387755, 1.0, 1.0, 1.0, 1.0, 1.0, 1.0, 1.0, 1.0, 1.0, 1.0, 1.0, 1.0, 1.0, 1.0, 1.0, 1.0, 1.0, 1.0, 1.0, 1.0, 1.0, 1.0, 1.0, 1.0, 1.0, 1.0, 1.0, 1.0, 1.0, 1.0, 1.0, 1.0, 1.0, 1.0, 1.0]}], \"recall_score_micro\": [{\"categories\": [\"0\", \"1\", \"2\", \"3\", \"4\", \"5\", \"6\", \"7\", \"8\", \"9\", \"10\", \"11\", \"12\", \"13\", \"14\", \"15\", \"16\", \"17\", \"18\", \"19\", \"20\", \"21\", \"22\", \"23\", \"24\", \"25\", \"26\", \"27\", \"28\", \"29\", \"30\", \"31\", \"32\", \"33\", \"38\", \"39\"], \"mode\": \"markers\", \"name\": \"recall_score_micro\", \"stepped\": false, \"type\": \"scatter\", \"data\": [0.9998857142857143, 1.0, 0.9925714285714285, 0.9958857142857143, 0.9715428571428572, 0.9467428571428571, 0.9993142857142857, 1.0, 1.0, 0.9992, 0.9998857142857143, 0.9990857142857142, 0.9997714285714285, 1.0, 0.9998857142857143, 1.0, 1.0, 1.0, 0.9998857142857143, 1.0, 0.9992, 1.0, 1.0, 1.0, 0.9986285714285714, 0.5012571428571428, 0.9994285714285714, 0.9992, 0.9993142857142857, 0.9980571428571429, 0.5012571428571428, 0.9827428571428571, 0.9962285714285715, 1.0, 1.0, 1.0]}, {\"categories\": [\"0\", \"1\", \"2\", \"3\", \"4\", \"5\", \"6\", \"7\", \"8\", \"9\", \"10\", \"11\", \"12\", \"13\", \"14\", \"15\", \"16\", \"17\", \"18\", \"19\", \"20\", \"21\", \"22\", \"23\", \"24\", \"25\", \"26\", \"27\", \"28\", \"29\", \"30\", \"31\", \"32\", \"33\", \"38\", \"39\"], \"mode\": \"lines\", \"name\": \"recall_score_micro_max\", \"stepped\": true, \"type\": \"scatter\", \"data\": [0.9998857142857143, 1.0, 1.0, 1.0, 1.0, 1.0, 1.0, 1.0, 1.0, 1.0, 1.0, 1.0, 1.0, 1.0, 1.0, 1.0, 1.0, 1.0, 1.0, 1.0, 1.0, 1.0, 1.0, 1.0, 1.0, 1.0, 1.0, 1.0, 1.0, 1.0, 1.0, 1.0, 1.0, 1.0, 1.0, 1.0]}], \"recall_score_weighted\": [{\"categories\": [\"0\", \"1\", \"2\", \"3\", \"4\", \"5\", \"6\", \"7\", \"8\", \"9\", \"10\", \"11\", \"12\", \"13\", \"14\", \"15\", \"16\", \"17\", \"18\", \"19\", \"20\", \"21\", \"22\", \"23\", \"24\", \"25\", \"26\", \"27\", \"28\", \"29\", \"30\", \"31\", \"32\", \"33\", \"38\", \"39\"], \"mode\": \"markers\", \"name\": \"recall_score_weighted\", \"stepped\": false, \"type\": \"scatter\", \"data\": [0.9998857142857143, 1.0, 0.9925714285714285, 0.9958857142857143, 0.9715428571428572, 0.9467428571428571, 0.9993142857142857, 1.0, 1.0, 0.9992, 0.9998857142857143, 0.9990857142857142, 0.9997714285714285, 1.0, 0.9998857142857143, 1.0, 1.0, 1.0, 0.9998857142857143, 1.0, 0.9992, 1.0, 1.0, 1.0, 0.9986285714285714, 0.5012571428571428, 0.9994285714285714, 0.9992, 0.9993142857142857, 0.9980571428571429, 0.5012571428571428, 0.9827428571428571, 0.9962285714285715, 1.0, 1.0, 1.0]}, {\"categories\": [\"0\", \"1\", \"2\", \"3\", \"4\", \"5\", \"6\", \"7\", \"8\", \"9\", \"10\", \"11\", \"12\", \"13\", \"14\", \"15\", \"16\", \"17\", \"18\", \"19\", \"20\", \"21\", \"22\", \"23\", \"24\", \"25\", \"26\", \"27\", \"28\", \"29\", \"30\", \"31\", \"32\", \"33\", \"38\", \"39\"], \"mode\": \"lines\", \"name\": \"recall_score_weighted_max\", \"stepped\": true, \"type\": \"scatter\", \"data\": [0.9998857142857143, 1.0, 1.0, 1.0, 1.0, 1.0, 1.0, 1.0, 1.0, 1.0, 1.0, 1.0, 1.0, 1.0, 1.0, 1.0, 1.0, 1.0, 1.0, 1.0, 1.0, 1.0, 1.0, 1.0, 1.0, 1.0, 1.0, 1.0, 1.0, 1.0, 1.0, 1.0, 1.0, 1.0, 1.0, 1.0]}], \"average_precision_score_weighted\": [{\"categories\": [\"0\", \"1\", \"2\", \"3\", \"4\", \"5\", \"6\", \"7\", \"8\", \"9\", \"10\", \"11\", \"12\", \"13\", \"14\", \"15\", \"16\", \"17\", \"18\", \"19\", \"20\", \"21\", \"22\", \"23\", \"24\", \"25\", \"26\", \"27\", \"28\", \"29\", \"30\", \"31\", \"32\", \"33\", \"38\", \"39\"], \"mode\": \"markers\", \"name\": \"average_precision_score_weighted\", \"stepped\": false, \"type\": \"scatter\", \"data\": [1.0, 1.0, 0.9998194428134239, 0.999940777775469, 0.9969745287532652, 0.9912604666906846, 0.9999987992404478, 1.0, 1.0, 0.9999859519673607, 0.999993982899981, 0.9998966203350752, 0.999999895539296, 1.0, 0.999999895539296, 1.0, 1.0, 1.0, 0.9999999477667111, 1.0, 0.9999914049675823, 1.0, 1.0, 1.0, 0.9999923892740075, 0.5000031608163265, 0.9999987995392088, 0.9999931823873344, 0.9999096888923664, 0.9999853035404521, 0.5000031608163265, 0.9990200783831531, 0.9999627432266953, 1.0, 1.0, 1.0]}, {\"categories\": [\"0\", \"1\", \"2\", \"3\", \"4\", \"5\", \"6\", \"7\", \"8\", \"9\", \"10\", \"11\", \"12\", \"13\", \"14\", \"15\", \"16\", \"17\", \"18\", \"19\", \"20\", \"21\", \"22\", \"23\", \"24\", \"25\", \"26\", \"27\", \"28\", \"29\", \"30\", \"31\", \"32\", \"33\", \"38\", \"39\"], \"mode\": \"lines\", \"name\": \"average_precision_score_weighted_max\", \"stepped\": true, \"type\": \"scatter\", \"data\": [1.0, 1.0, 1.0, 1.0, 1.0, 1.0, 1.0, 1.0, 1.0, 1.0, 1.0, 1.0, 1.0, 1.0, 1.0, 1.0, 1.0, 1.0, 1.0, 1.0, 1.0, 1.0, 1.0, 1.0, 1.0, 1.0, 1.0, 1.0, 1.0, 1.0, 1.0, 1.0, 1.0, 1.0, 1.0, 1.0]}], \"balanced_accuracy\": [{\"categories\": [\"0\", \"1\", \"2\", \"3\", \"4\", \"5\", \"6\", \"7\", \"8\", \"9\", \"10\", \"11\", \"12\", \"13\", \"14\", \"15\", \"16\", \"17\", \"18\", \"19\", \"20\", \"21\", \"22\", \"23\", \"24\", \"25\", \"26\", \"27\", \"28\", \"29\", \"30\", \"31\", \"32\", \"33\", \"38\", \"39\"], \"mode\": \"markers\", \"name\": \"balanced_accuracy\", \"stepped\": false, \"type\": \"scatter\", \"data\": [0.9998860009119928, 1.0, 0.9925590256139546, 0.9958874123690786, 0.9715251489720438, 0.9467057398279586, 0.999314856076935, 1.0, 1.0, 0.9991979835013749, 0.9998854262144821, 0.9990880072959416, 0.9997714271264748, 1.0, 0.9998860009119928, 1.0, 1.0, 1.0, 0.9998860009119928, 1.0, 0.9992020063839488, 1.0, 1.0, 1.0, 0.9986302868513808, 0.5, 0.9994277057699212, 0.9992020063839488, 0.9993160054719562, 0.998057992621302, 0.5, 0.9827246450772665, 0.9962340072131852, 1.0, 1.0, 1.0]}, {\"categories\": [\"0\", \"1\", \"2\", \"3\", \"4\", \"5\", \"6\", \"7\", \"8\", \"9\", \"10\", \"11\", \"12\", \"13\", \"14\", \"15\", \"16\", \"17\", \"18\", \"19\", \"20\", \"21\", \"22\", \"23\", \"24\", \"25\", \"26\", \"27\", \"28\", \"29\", \"30\", \"31\", \"32\", \"33\", \"38\", \"39\"], \"mode\": \"lines\", \"name\": \"balanced_accuracy_max\", \"stepped\": true, \"type\": \"scatter\", \"data\": [0.9998860009119928, 1.0, 1.0, 1.0, 1.0, 1.0, 1.0, 1.0, 1.0, 1.0, 1.0, 1.0, 1.0, 1.0, 1.0, 1.0, 1.0, 1.0, 1.0, 1.0, 1.0, 1.0, 1.0, 1.0, 1.0, 1.0, 1.0, 1.0, 1.0, 1.0, 1.0, 1.0, 1.0, 1.0, 1.0, 1.0]}], \"AUC_weighted\": [{\"categories\": [\"0\", \"1\", \"2\", \"3\", \"4\", \"5\", \"6\", \"7\", \"8\", \"9\", \"10\", \"11\", \"12\", \"13\", \"14\", \"15\", \"16\", \"17\", \"18\", \"19\", \"20\", \"21\", \"22\", \"23\", \"24\", \"25\", \"26\", \"27\", \"28\", \"29\", \"30\", \"31\", \"32\", \"33\", \"38\", \"39\"], \"mode\": \"markers\", \"name\": \"AUC_weighted\", \"stepped\": false, \"type\": \"scatter\", \"data\": [1.0, 1.0, 0.9998181866057446, 0.9999404404398129, 0.9969056196221373, 0.9909667477930572, 0.9999987983597505, 1.0, 1.0, 0.9999858937883767, 0.9999940701665956, 0.9999029283659407, 0.9999998955095436, 1.0, 0.9999998955095436, 1.0, 1.0, 1.0, 0.9999999477547719, 1.0, 0.9999916407634825, 1.0, 1.0, 1.0, 0.9999923721966778, 0.5, 0.9999987983597505, 0.9999932081203294, 0.9999341187671966, 0.9999852668456379, 0.5, 0.9990044671759949, 0.9999625924165843, 1.0, 1.0, 1.0]}, {\"categories\": [\"0\", \"1\", \"2\", \"3\", \"4\", \"5\", \"6\", \"7\", \"8\", \"9\", \"10\", \"11\", \"12\", \"13\", \"14\", \"15\", \"16\", \"17\", \"18\", \"19\", \"20\", \"21\", \"22\", \"23\", \"24\", \"25\", \"26\", \"27\", \"28\", \"29\", \"30\", \"31\", \"32\", \"33\", \"38\", \"39\"], \"mode\": \"lines\", \"name\": \"AUC_weighted_max\", \"stepped\": true, \"type\": \"scatter\", \"data\": [1.0, 1.0, 1.0, 1.0, 1.0, 1.0, 1.0, 1.0, 1.0, 1.0, 1.0, 1.0, 1.0, 1.0, 1.0, 1.0, 1.0, 1.0, 1.0, 1.0, 1.0, 1.0, 1.0, 1.0, 1.0, 1.0, 1.0, 1.0, 1.0, 1.0, 1.0, 1.0, 1.0, 1.0, 1.0, 1.0]}], \"norm_macro_recall\": [{\"categories\": [\"0\", \"1\", \"2\", \"3\", \"4\", \"5\", \"6\", \"7\", \"8\", \"9\", \"10\", \"11\", \"12\", \"13\", \"14\", \"15\", \"16\", \"17\", \"18\", \"19\", \"20\", \"21\", \"22\", \"23\", \"24\", \"25\", \"26\", \"27\", \"28\", \"29\", \"30\", \"31\", \"32\", \"33\", \"38\", \"39\"], \"mode\": \"markers\", \"name\": \"norm_macro_recall\", \"stepped\": false, \"type\": \"scatter\", \"data\": [0.9997720018239855, 1.0, 0.9851180512279092, 0.9917748247381573, 0.9430502979440876, 0.8934114796559172, 0.9986297121538701, 1.0, 1.0, 0.9983959670027498, 0.9997708524289641, 0.9981760145918832, 0.9995428542529496, 1.0, 0.9997720018239855, 1.0, 1.0, 1.0, 0.9997720018239855, 1.0, 0.9984040127678977, 1.0, 1.0, 1.0, 0.9972605737027616, 0.0, 0.9988554115398425, 0.9984040127678977, 0.9986320109439124, 0.996115985242604, 0.0, 0.9654492901545331, 0.9924680144263704, 1.0, 1.0, 1.0]}, {\"categories\": [\"0\", \"1\", \"2\", \"3\", \"4\", \"5\", \"6\", \"7\", \"8\", \"9\", \"10\", \"11\", \"12\", \"13\", \"14\", \"15\", \"16\", \"17\", \"18\", \"19\", \"20\", \"21\", \"22\", \"23\", \"24\", \"25\", \"26\", \"27\", \"28\", \"29\", \"30\", \"31\", \"32\", \"33\", \"38\", \"39\"], \"mode\": \"lines\", \"name\": \"norm_macro_recall_max\", \"stepped\": true, \"type\": \"scatter\", \"data\": [0.9997720018239855, 1.0, 1.0, 1.0, 1.0, 1.0, 1.0, 1.0, 1.0, 1.0, 1.0, 1.0, 1.0, 1.0, 1.0, 1.0, 1.0, 1.0, 1.0, 1.0, 1.0, 1.0, 1.0, 1.0, 1.0, 1.0, 1.0, 1.0, 1.0, 1.0, 1.0, 1.0, 1.0, 1.0, 1.0, 1.0]}], \"precision_score_macro\": [{\"categories\": [\"0\", \"1\", \"2\", \"3\", \"4\", \"5\", \"6\", \"7\", \"8\", \"9\", \"10\", \"11\", \"12\", \"13\", \"14\", \"15\", \"16\", \"17\", \"18\", \"19\", \"20\", \"21\", \"22\", \"23\", \"24\", \"25\", \"26\", \"27\", \"28\", \"29\", \"30\", \"31\", \"32\", \"33\", \"38\", \"39\"], \"mode\": \"markers\", \"name\": \"precision_score_macro\", \"stepped\": false, \"type\": \"scatter\", \"data\": [0.999885452462772, 1.0, 0.9926309622536323, 0.9958849252374533, 0.9716499086694683, 0.9471542840383689, 0.999313812606371, 1.0, 1.0, 0.9992032779421807, 0.9998860268976522, 0.9990850869167429, 0.9997714271264748, 1.0, 0.999885452462772, 1.0, 1.0, 1.0, 0.999885452462772, 1.0, 0.9991992679020819, 1.0, 1.0, 1.0, 0.9986277859628225, 0.2506285714285714, 0.999429662731175, 0.9991992679020819, 0.9993135011441647, 0.9980565094199694, 0.2506285714285714, 0.9828597362894849, 0.996232529443625, 1.0, 1.0, 1.0]}, {\"categories\": [\"0\", \"1\", \"2\", \"3\", \"4\", \"5\", \"6\", \"7\", \"8\", \"9\", \"10\", \"11\", \"12\", \"13\", \"14\", \"15\", \"16\", \"17\", \"18\", \"19\", \"20\", \"21\", \"22\", \"23\", \"24\", \"25\", \"26\", \"27\", \"28\", \"29\", \"30\", \"31\", \"32\", \"33\", \"38\", \"39\"], \"mode\": \"lines\", \"name\": \"precision_score_macro_max\", \"stepped\": true, \"type\": \"scatter\", \"data\": [0.999885452462772, 1.0, 1.0, 1.0, 1.0, 1.0, 1.0, 1.0, 1.0, 1.0, 1.0, 1.0, 1.0, 1.0, 1.0, 1.0, 1.0, 1.0, 1.0, 1.0, 1.0, 1.0, 1.0, 1.0, 1.0, 1.0, 1.0, 1.0, 1.0, 1.0, 1.0, 1.0, 1.0, 1.0, 1.0, 1.0]}], \"precision_score_weighted\": [{\"categories\": [\"0\", \"1\", \"2\", \"3\", \"4\", \"5\", \"6\", \"7\", \"8\", \"9\", \"10\", \"11\", \"12\", \"13\", \"14\", \"15\", \"16\", \"17\", \"18\", \"19\", \"20\", \"21\", \"22\", \"23\", \"24\", \"25\", \"26\", \"27\", \"28\", \"29\", \"30\", \"31\", \"32\", \"33\", \"38\", \"39\"], \"mode\": \"markers\", \"name\": \"precision_score_weighted\", \"stepped\": false, \"type\": \"scatter\", \"data\": [0.9998857404680085, 1.0, 0.9926188350220723, 0.9958866611436276, 0.971633553575125, 0.9471217250754148, 0.9993143908493778, 1.0, 1.0, 0.9992012747552923, 0.9998857403367093, 0.9990873872696381, 0.9997714285714285, 1.0, 0.9998857404680085, 1.0, 1.0, 1.0, 0.9998857404680085, 1.0, 0.9992012811713568, 1.0, 1.0, 1.0, 0.9986295139874701, 0.25125872326530607, 0.9994288052791293, 0.9992012811713568, 0.9993152271984309, 0.9980573803960828, 0.25125872326530607, 0.9828423623622834, 0.9962379717143236, 1.0, 1.0, 1.0]}, {\"categories\": [\"0\", \"1\", \"2\", \"3\", \"4\", \"5\", \"6\", \"7\", \"8\", \"9\", \"10\", \"11\", \"12\", \"13\", \"14\", \"15\", \"16\", \"17\", \"18\", \"19\", \"20\", \"21\", \"22\", \"23\", \"24\", \"25\", \"26\", \"27\", \"28\", \"29\", \"30\", \"31\", \"32\", \"33\", \"38\", \"39\"], \"mode\": \"lines\", \"name\": \"precision_score_weighted_max\", \"stepped\": true, \"type\": \"scatter\", \"data\": [0.9998857404680085, 1.0, 1.0, 1.0, 1.0, 1.0, 1.0, 1.0, 1.0, 1.0, 1.0, 1.0, 1.0, 1.0, 1.0, 1.0, 1.0, 1.0, 1.0, 1.0, 1.0, 1.0, 1.0, 1.0, 1.0, 1.0, 1.0, 1.0, 1.0, 1.0, 1.0, 1.0, 1.0, 1.0, 1.0, 1.0]}], \"f1_score_macro\": [{\"categories\": [\"0\", \"1\", \"2\", \"3\", \"4\", \"5\", \"6\", \"7\", \"8\", \"9\", \"10\", \"11\", \"12\", \"13\", \"14\", \"15\", \"16\", \"17\", \"18\", \"19\", \"20\", \"21\", \"22\", \"23\", \"24\", \"25\", \"26\", \"27\", \"28\", \"29\", \"30\", \"31\", \"32\", \"33\", \"38\", \"39\"], \"mode\": \"markers\", \"name\": \"f1_score_macro\", \"stepped\": false, \"type\": \"scatter\", \"data\": [0.9998857136274248, 1.0, 0.9925710186129455, 0.9958857005288403, 0.9715402963735735, 0.9467272014632873, 0.9993142821317597, 1.0, 1.0, 0.9991999912123117, 0.9998857134960646, 0.9990857119451368, 0.9997714271264748, 1.0, 0.9998857136274248, 1.0, 1.0, 1.0, 0.9998857136274248, 1.0, 0.9991999976489727, 1.0, 1.0, 1.0, 0.9986285668429468, 0.3338915956151035, 0.9994285667638103, 0.9991999976489727, 0.9993142834214734, 0.99805713369633, 0.3338915956151035, 0.9827412284783773, 0.9962285709852361, 1.0, 1.0, 1.0]}, {\"categories\": [\"0\", \"1\", \"2\", \"3\", \"4\", \"5\", \"6\", \"7\", \"8\", \"9\", \"10\", \"11\", \"12\", \"13\", \"14\", \"15\", \"16\", \"17\", \"18\", \"19\", \"20\", \"21\", \"22\", \"23\", \"24\", \"25\", \"26\", \"27\", \"28\", \"29\", \"30\", \"31\", \"32\", \"33\", \"38\", \"39\"], \"mode\": \"lines\", \"name\": \"f1_score_macro_max\", \"stepped\": true, \"type\": \"scatter\", \"data\": [0.9998857136274248, 1.0, 1.0, 1.0, 1.0, 1.0, 1.0, 1.0, 1.0, 1.0, 1.0, 1.0, 1.0, 1.0, 1.0, 1.0, 1.0, 1.0, 1.0, 1.0, 1.0, 1.0, 1.0, 1.0, 1.0, 1.0, 1.0, 1.0, 1.0, 1.0, 1.0, 1.0, 1.0, 1.0, 1.0, 1.0]}], \"precision_score_micro\": [{\"categories\": [\"0\", \"1\", \"2\", \"3\", \"4\", \"5\", \"6\", \"7\", \"8\", \"9\", \"10\", \"11\", \"12\", \"13\", \"14\", \"15\", \"16\", \"17\", \"18\", \"19\", \"20\", \"21\", \"22\", \"23\", \"24\", \"25\", \"26\", \"27\", \"28\", \"29\", \"30\", \"31\", \"32\", \"33\", \"38\", \"39\"], \"mode\": \"markers\", \"name\": \"precision_score_micro\", \"stepped\": false, \"type\": \"scatter\", \"data\": [0.9998857142857143, 1.0, 0.9925714285714285, 0.9958857142857143, 0.9715428571428572, 0.9467428571428571, 0.9993142857142857, 1.0, 1.0, 0.9992, 0.9998857142857143, 0.9990857142857142, 0.9997714285714285, 1.0, 0.9998857142857143, 1.0, 1.0, 1.0, 0.9998857142857143, 1.0, 0.9992, 1.0, 1.0, 1.0, 0.9986285714285714, 0.5012571428571428, 0.9994285714285714, 0.9992, 0.9993142857142857, 0.9980571428571429, 0.5012571428571428, 0.9827428571428571, 0.9962285714285715, 1.0, 1.0, 1.0]}, {\"categories\": [\"0\", \"1\", \"2\", \"3\", \"4\", \"5\", \"6\", \"7\", \"8\", \"9\", \"10\", \"11\", \"12\", \"13\", \"14\", \"15\", \"16\", \"17\", \"18\", \"19\", \"20\", \"21\", \"22\", \"23\", \"24\", \"25\", \"26\", \"27\", \"28\", \"29\", \"30\", \"31\", \"32\", \"33\", \"38\", \"39\"], \"mode\": \"lines\", \"name\": \"precision_score_micro_max\", \"stepped\": true, \"type\": \"scatter\", \"data\": [0.9998857142857143, 1.0, 1.0, 1.0, 1.0, 1.0, 1.0, 1.0, 1.0, 1.0, 1.0, 1.0, 1.0, 1.0, 1.0, 1.0, 1.0, 1.0, 1.0, 1.0, 1.0, 1.0, 1.0, 1.0, 1.0, 1.0, 1.0, 1.0, 1.0, 1.0, 1.0, 1.0, 1.0, 1.0, 1.0, 1.0]}], \"f1_score_micro\": [{\"categories\": [\"0\", \"1\", \"2\", \"3\", \"4\", \"5\", \"6\", \"7\", \"8\", \"9\", \"10\", \"11\", \"12\", \"13\", \"14\", \"15\", \"16\", \"17\", \"18\", \"19\", \"20\", \"21\", \"22\", \"23\", \"24\", \"25\", \"26\", \"27\", \"28\", \"29\", \"30\", \"31\", \"32\", \"33\", \"38\", \"39\"], \"mode\": \"markers\", \"name\": \"f1_score_micro\", \"stepped\": false, \"type\": \"scatter\", \"data\": [0.9998857142857143, 1.0, 0.9925714285714285, 0.9958857142857143, 0.9715428571428572, 0.9467428571428571, 0.9993142857142857, 1.0, 1.0, 0.9992, 0.9998857142857143, 0.9990857142857142, 0.9997714285714285, 1.0, 0.9998857142857143, 1.0, 1.0, 1.0, 0.9998857142857143, 1.0, 0.9992, 1.0, 1.0, 1.0, 0.9986285714285714, 0.5012571428571428, 0.9994285714285714, 0.9992, 0.9993142857142857, 0.9980571428571429, 0.5012571428571428, 0.9827428571428571, 0.9962285714285715, 1.0, 1.0, 1.0]}, {\"categories\": [\"0\", \"1\", \"2\", \"3\", \"4\", \"5\", \"6\", \"7\", \"8\", \"9\", \"10\", \"11\", \"12\", \"13\", \"14\", \"15\", \"16\", \"17\", \"18\", \"19\", \"20\", \"21\", \"22\", \"23\", \"24\", \"25\", \"26\", \"27\", \"28\", \"29\", \"30\", \"31\", \"32\", \"33\", \"38\", \"39\"], \"mode\": \"lines\", \"name\": \"f1_score_micro_max\", \"stepped\": true, \"type\": \"scatter\", \"data\": [0.9998857142857143, 1.0, 1.0, 1.0, 1.0, 1.0, 1.0, 1.0, 1.0, 1.0, 1.0, 1.0, 1.0, 1.0, 1.0, 1.0, 1.0, 1.0, 1.0, 1.0, 1.0, 1.0, 1.0, 1.0, 1.0, 1.0, 1.0, 1.0, 1.0, 1.0, 1.0, 1.0, 1.0, 1.0, 1.0, 1.0]}], \"recall_score_macro\": [{\"categories\": [\"0\", \"1\", \"2\", \"3\", \"4\", \"5\", \"6\", \"7\", \"8\", \"9\", \"10\", \"11\", \"12\", \"13\", \"14\", \"15\", \"16\", \"17\", \"18\", \"19\", \"20\", \"21\", \"22\", \"23\", \"24\", \"25\", \"26\", \"27\", \"28\", \"29\", \"30\", \"31\", \"32\", \"33\", \"38\", \"39\"], \"mode\": \"markers\", \"name\": \"recall_score_macro\", \"stepped\": false, \"type\": \"scatter\", \"data\": [0.9998860009119928, 1.0, 0.9925590256139546, 0.9958874123690786, 0.9715251489720438, 0.9467057398279586, 0.999314856076935, 1.0, 1.0, 0.9991979835013749, 0.9998854262144821, 0.9990880072959416, 0.9997714271264748, 1.0, 0.9998860009119928, 1.0, 1.0, 1.0, 0.9998860009119928, 1.0, 0.9992020063839488, 1.0, 1.0, 1.0, 0.9986302868513808, 0.5, 0.9994277057699212, 0.9992020063839488, 0.9993160054719562, 0.998057992621302, 0.5, 0.9827246450772665, 0.9962340072131852, 1.0, 1.0, 1.0]}, {\"categories\": [\"0\", \"1\", \"2\", \"3\", \"4\", \"5\", \"6\", \"7\", \"8\", \"9\", \"10\", \"11\", \"12\", \"13\", \"14\", \"15\", \"16\", \"17\", \"18\", \"19\", \"20\", \"21\", \"22\", \"23\", \"24\", \"25\", \"26\", \"27\", \"28\", \"29\", \"30\", \"31\", \"32\", \"33\", \"38\", \"39\"], \"mode\": \"lines\", \"name\": \"recall_score_macro_max\", \"stepped\": true, \"type\": \"scatter\", \"data\": [0.9998860009119928, 1.0, 1.0, 1.0, 1.0, 1.0, 1.0, 1.0, 1.0, 1.0, 1.0, 1.0, 1.0, 1.0, 1.0, 1.0, 1.0, 1.0, 1.0, 1.0, 1.0, 1.0, 1.0, 1.0, 1.0, 1.0, 1.0, 1.0, 1.0, 1.0, 1.0, 1.0, 1.0, 1.0, 1.0, 1.0]}], \"log_loss\": [{\"categories\": [\"0\", \"1\", \"2\", \"3\", \"4\", \"5\", \"6\", \"7\", \"8\", \"9\", \"10\", \"11\", \"12\", \"13\", \"14\", \"15\", \"16\", \"17\", \"18\", \"19\", \"20\", \"21\", \"22\", \"23\", \"24\", \"25\", \"26\", \"27\", \"28\", \"29\", \"30\", \"31\", \"32\", \"33\", \"38\", \"39\"], \"mode\": \"markers\", \"name\": \"log_loss\", \"stepped\": false, \"type\": \"scatter\", \"data\": [0.00016772773466662802, 4.021174837958184e-05, 0.14485251969960625, 0.17771583659777657, 0.41875871400860193, 0.32997707548752686, 0.001783896439256305, 0.0002416928818660394, 0.0004130794882700671, 0.2559587765973703, 0.11835623643448684, 0.24265110538190124, 0.0007889004042236352, 6.909961737026422e-05, 0.0005907685241553954, 0.00024229882091687444, 0.00013091518576823283, 0.0004126552838022683, 0.0005320371760380953, 9.690508589485383e-05, 0.12519608312363728, 7.802936137066733e-05, 7.071000319555403e-05, 6.206773765834454e-05, 0.004112382783136106, 0.6931440200667781, 0.19946346672628215, 0.20181608054808706, 0.3979286078825144, 0.005908758588019551, 0.693144020489155, 0.24144798982867172, 0.10161705936490002, 2.994788728004056e-05, 6.753054120667076e-05, 0.4141268664149176]}, {\"categories\": [\"0\", \"1\", \"2\", \"3\", \"4\", \"5\", \"6\", \"7\", \"8\", \"9\", \"10\", \"11\", \"12\", \"13\", \"14\", \"15\", \"16\", \"17\", \"18\", \"19\", \"20\", \"21\", \"22\", \"23\", \"24\", \"25\", \"26\", \"27\", \"28\", \"29\", \"30\", \"31\", \"32\", \"33\", \"38\", \"39\"], \"mode\": \"lines\", \"name\": \"log_loss_min\", \"stepped\": true, \"type\": \"scatter\", \"data\": [0.00016772773466662802, 4.021174837958184e-05, 4.021174837958184e-05, 4.021174837958184e-05, 4.021174837958184e-05, 4.021174837958184e-05, 4.021174837958184e-05, 4.021174837958184e-05, 4.021174837958184e-05, 4.021174837958184e-05, 4.021174837958184e-05, 4.021174837958184e-05, 4.021174837958184e-05, 4.021174837958184e-05, 4.021174837958184e-05, 4.021174837958184e-05, 4.021174837958184e-05, 4.021174837958184e-05, 4.021174837958184e-05, 4.021174837958184e-05, 4.021174837958184e-05, 4.021174837958184e-05, 4.021174837958184e-05, 4.021174837958184e-05, 4.021174837958184e-05, 4.021174837958184e-05, 4.021174837958184e-05, 4.021174837958184e-05, 4.021174837958184e-05, 4.021174837958184e-05, 4.021174837958184e-05, 4.021174837958184e-05, 4.021174837958184e-05, 2.994788728004056e-05, 2.994788728004056e-05, 2.994788728004056e-05]}], \"matthews_correlation\": [{\"categories\": [\"0\", \"1\", \"2\", \"3\", \"4\", \"5\", \"6\", \"7\", \"8\", \"9\", \"10\", \"11\", \"12\", \"13\", \"14\", \"15\", \"16\", \"17\", \"18\", \"19\", \"20\", \"21\", \"22\", \"23\", \"24\", \"25\", \"26\", \"27\", \"28\", \"29\", \"30\", \"31\", \"32\", \"33\", \"38\", \"39\"], \"mode\": \"markers\", \"name\": \"matthews_correlation\", \"stepped\": false, \"type\": \"scatter\", \"data\": [0.9997714533746143, 1.0, 0.9851899852412507, 0.9917723376034134, 0.9431750493901371, 0.8938599113252607, 0.998628668682761, 1.0, 1.0, 0.9984012614295176, 0.9997714531119538, 0.9981730942084124, 0.9995428542529496, 1.0, 0.9997714533746143, 1.0, 1.0, 1.0, 0.9997714533746143, 1.0, 0.9984012742822751, 1.0, 1.0, 1.0, 0.9972580728110674, 0.0, 0.9988573684991792, 0.9984012742822751, 0.9986295066129808, 0.9961145020401672, 0.0, 0.9655843719167043, 0.99246653665571, 1.0, 1.0, 1.0]}, {\"categories\": [\"0\", \"1\", \"2\", \"3\", \"4\", \"5\", \"6\", \"7\", \"8\", \"9\", \"10\", \"11\", \"12\", \"13\", \"14\", \"15\", \"16\", \"17\", \"18\", \"19\", \"20\", \"21\", \"22\", \"23\", \"24\", \"25\", \"26\", \"27\", \"28\", \"29\", \"30\", \"31\", \"32\", \"33\", \"38\", \"39\"], \"mode\": \"lines\", \"name\": \"matthews_correlation_max\", \"stepped\": true, \"type\": \"scatter\", \"data\": [0.9997714533746143, 1.0, 1.0, 1.0, 1.0, 1.0, 1.0, 1.0, 1.0, 1.0, 1.0, 1.0, 1.0, 1.0, 1.0, 1.0, 1.0, 1.0, 1.0, 1.0, 1.0, 1.0, 1.0, 1.0, 1.0, 1.0, 1.0, 1.0, 1.0, 1.0, 1.0, 1.0, 1.0, 1.0, 1.0, 1.0]}], \"accuracy\": [{\"categories\": [\"0\", \"1\", \"2\", \"3\", \"4\", \"5\", \"6\", \"7\", \"8\", \"9\", \"10\", \"11\", \"12\", \"13\", \"14\", \"15\", \"16\", \"17\", \"18\", \"19\", \"20\", \"21\", \"22\", \"23\", \"24\", \"25\", \"26\", \"27\", \"28\", \"29\", \"30\", \"31\", \"32\", \"33\", \"38\", \"39\"], \"mode\": \"markers\", \"name\": \"accuracy\", \"stepped\": false, \"type\": \"scatter\", \"data\": [0.9998857142857143, 1.0, 0.9925714285714285, 0.9958857142857143, 0.9715428571428572, 0.9467428571428571, 0.9993142857142857, 1.0, 1.0, 0.9992, 0.9998857142857143, 0.9990857142857142, 0.9997714285714285, 1.0, 0.9998857142857143, 1.0, 1.0, 1.0, 0.9998857142857143, 1.0, 0.9992, 1.0, 1.0, 1.0, 0.9986285714285714, 0.5012571428571428, 0.9994285714285714, 0.9992, 0.9993142857142857, 0.9980571428571429, 0.5012571428571428, 0.9827428571428571, 0.9962285714285715, 1.0, 1.0, 1.0]}, {\"categories\": [\"0\", \"1\", \"2\", \"3\", \"4\", \"5\", \"6\", \"7\", \"8\", \"9\", \"10\", \"11\", \"12\", \"13\", \"14\", \"15\", \"16\", \"17\", \"18\", \"19\", \"20\", \"21\", \"22\", \"23\", \"24\", \"25\", \"26\", \"27\", \"28\", \"29\", \"30\", \"31\", \"32\", \"33\", \"38\", \"39\"], \"mode\": \"lines\", \"name\": \"accuracy_max\", \"stepped\": true, \"type\": \"scatter\", \"data\": [0.9998857142857143, 1.0, 1.0, 1.0, 1.0, 1.0, 1.0, 1.0, 1.0, 1.0, 1.0, 1.0, 1.0, 1.0, 1.0, 1.0, 1.0, 1.0, 1.0, 1.0, 1.0, 1.0, 1.0, 1.0, 1.0, 1.0, 1.0, 1.0, 1.0, 1.0, 1.0, 1.0, 1.0, 1.0, 1.0, 1.0]}], \"f1_score_weighted\": [{\"categories\": [\"0\", \"1\", \"2\", \"3\", \"4\", \"5\", \"6\", \"7\", \"8\", \"9\", \"10\", \"11\", \"12\", \"13\", \"14\", \"15\", \"16\", \"17\", \"18\", \"19\", \"20\", \"21\", \"22\", \"23\", \"24\", \"25\", \"26\", \"27\", \"28\", \"29\", \"30\", \"31\", \"32\", \"33\", \"38\", \"39\"], \"mode\": \"markers\", \"name\": \"f1_score_weighted\", \"stepped\": false, \"type\": \"scatter\", \"data\": [0.9998857143170614, 1.0, 0.9925711573681245, 0.9958857194445421, 0.9715409751316969, 0.9467294976296242, 0.9993142860725382, 1.0, 1.0, 0.9991999978788338, 0.9998857142513817, 0.999085715623187, 0.9997714285714285, 1.0, 0.9998857143170614, 1.0, 1.0, 1.0, 0.9998857143170614, 1.0, 0.999200001097146, 1.0, 1.0, 1.0, 0.9986285731481808, 0.3347310944840787, 0.9994285708688002, 0.999200001097146, 0.9993142865740902, 0.998057144303587, 0.3347310944840787, 0.9827416500150663, 0.9962285742363618, 1.0, 1.0, 1.0]}, {\"categories\": [\"0\", \"1\", \"2\", \"3\", \"4\", \"5\", \"6\", \"7\", \"8\", \"9\", \"10\", \"11\", \"12\", \"13\", \"14\", \"15\", \"16\", \"17\", \"18\", \"19\", \"20\", \"21\", \"22\", \"23\", \"24\", \"25\", \"26\", \"27\", \"28\", \"29\", \"30\", \"31\", \"32\", \"33\", \"38\", \"39\"], \"mode\": \"lines\", \"name\": \"f1_score_weighted_max\", \"stepped\": true, \"type\": \"scatter\", \"data\": [0.9998857143170614, 1.0, 1.0, 1.0, 1.0, 1.0, 1.0, 1.0, 1.0, 1.0, 1.0, 1.0, 1.0, 1.0, 1.0, 1.0, 1.0, 1.0, 1.0, 1.0, 1.0, 1.0, 1.0, 1.0, 1.0, 1.0, 1.0, 1.0, 1.0, 1.0, 1.0, 1.0, 1.0, 1.0, 1.0, 1.0]}], \"weighted_accuracy\": [{\"categories\": [\"0\", \"1\", \"2\", \"3\", \"4\", \"5\", \"6\", \"7\", \"8\", \"9\", \"10\", \"11\", \"12\", \"13\", \"14\", \"15\", \"16\", \"17\", \"18\", \"19\", \"20\", \"21\", \"22\", \"23\", \"24\", \"25\", \"26\", \"27\", \"28\", \"29\", \"30\", \"31\", \"32\", \"33\", \"38\", \"39\"], \"mode\": \"markers\", \"name\": \"weighted_accuracy\", \"stepped\": false, \"type\": \"scatter\", \"data\": [0.9998854276630598, 1.0, 0.9925838313720897, 0.9958840162238192, 0.971560565089783, 0.9467799739884746, 0.9993137153588476, 1.0, 1.0, 0.9992020164731302, 0.9998860023533043, 0.999083421304478, 0.9997714300163643, 1.0, 0.9998854276630598, 1.0, 1.0, 1.0, 0.9998854276630598, 1.0, 0.9991979936414183, 1.0, 1.0, 1.0, 0.9986268560274506, 0.5025142698199955, 0.9994294370762771, 0.9991979936414183, 0.9993125659783585, 0.9980562931037277, 0.5025142698199955, 0.9827610689781893, 0.9962231357126833, 1.0, 1.0, 1.0]}, {\"categories\": [\"0\", \"1\", \"2\", \"3\", \"4\", \"5\", \"6\", \"7\", \"8\", \"9\", \"10\", \"11\", \"12\", \"13\", \"14\", \"15\", \"16\", \"17\", \"18\", \"19\", \"20\", \"21\", \"22\", \"23\", \"24\", \"25\", \"26\", \"27\", \"28\", \"29\", \"30\", \"31\", \"32\", \"33\", \"38\", \"39\"], \"mode\": \"lines\", \"name\": \"weighted_accuracy_max\", \"stepped\": true, \"type\": \"scatter\", \"data\": [0.9998854276630598, 1.0, 1.0, 1.0, 1.0, 1.0, 1.0, 1.0, 1.0, 1.0, 1.0, 1.0, 1.0, 1.0, 1.0, 1.0, 1.0, 1.0, 1.0, 1.0, 1.0, 1.0, 1.0, 1.0, 1.0, 1.0, 1.0, 1.0, 1.0, 1.0, 1.0, 1.0, 1.0, 1.0, 1.0, 1.0]}], \"average_precision_score_macro\": [{\"categories\": [\"0\", \"1\", \"2\", \"3\", \"4\", \"5\", \"6\", \"7\", \"8\", \"9\", \"10\", \"11\", \"12\", \"13\", \"14\", \"15\", \"16\", \"17\", \"18\", \"19\", \"20\", \"21\", \"22\", \"23\", \"24\", \"25\", \"26\", \"27\", \"28\", \"29\", \"30\", \"31\", \"32\", \"33\", \"38\", \"39\"], \"mode\": \"markers\", \"name\": \"average_precision_score_macro\", \"stepped\": false, \"type\": \"scatter\", \"data\": [1.0, 1.0, 0.9998194414113368, 0.9999407788770993, 0.9969749414698306, 0.9912610768142825, 0.9999987992224391, 1.0, 1.0, 0.9999859521825675, 0.9999939831101866, 0.9998965932367845, 0.9999998955379304, 1.0, 0.9999998955379304, 1.0, 1.0, 1.0, 0.9999999477660506, 1.0, 0.9999914047092223, 1.0, 1.0, 1.0, 0.9999923891451743, 0.5, 0.9999987995298658, 0.9999931821117445, 0.9999096683281967, 0.9999853033199672, 0.5, 0.9990200981942612, 0.9999627432049286, 1.0, 1.0, 1.0]}, {\"categories\": [\"0\", \"1\", \"2\", \"3\", \"4\", \"5\", \"6\", \"7\", \"8\", \"9\", \"10\", \"11\", \"12\", \"13\", \"14\", \"15\", \"16\", \"17\", \"18\", \"19\", \"20\", \"21\", \"22\", \"23\", \"24\", \"25\", \"26\", \"27\", \"28\", \"29\", \"30\", \"31\", \"32\", \"33\", \"38\", \"39\"], \"mode\": \"lines\", \"name\": \"average_precision_score_macro_max\", \"stepped\": true, \"type\": \"scatter\", \"data\": [1.0, 1.0, 1.0, 1.0, 1.0, 1.0, 1.0, 1.0, 1.0, 1.0, 1.0, 1.0, 1.0, 1.0, 1.0, 1.0, 1.0, 1.0, 1.0, 1.0, 1.0, 1.0, 1.0, 1.0, 1.0, 1.0, 1.0, 1.0, 1.0, 1.0, 1.0, 1.0, 1.0, 1.0, 1.0, 1.0]}], \"average_precision_score_micro\": [{\"categories\": [\"0\", \"1\", \"2\", \"3\", \"4\", \"5\", \"6\", \"7\", \"8\", \"9\", \"10\", \"11\", \"12\", \"13\", \"14\", \"15\", \"16\", \"17\", \"18\", \"19\", \"20\", \"21\", \"22\", \"23\", \"24\", \"25\", \"26\", \"27\", \"28\", \"29\", \"30\", \"31\", \"32\", \"33\", \"38\", \"39\"], \"mode\": \"markers\", \"name\": \"average_precision_score_micro\", \"stepped\": false, \"type\": \"scatter\", \"data\": [0.999999986940268, 1.0, 0.999753092519636, 0.99993997090145, 0.9969098744725873, 0.9909674210693638, 0.9999986426935099, 1.0, 1.0, 0.9999887176126105, 0.9999928847390482, 0.999885800906217, 0.9999998694175958, 1.0, 0.9999998302547659, 0.9999999999999999, 1.0, 1.0, 0.9999998563652992, 1.0, 0.9999932093449948, 0.9999999999999999, 1.0, 1.0, 0.99999215308904, 0.5006301518367346, 0.9999987343343046, 0.99999184690919, 0.9999161393347633, 0.9999850066947108, 0.5006301518367346, 0.9989435138275746, 0.9999469897196052, 1.0, 1.0, 1.0]}, {\"categories\": [\"0\", \"1\", \"2\", \"3\", \"4\", \"5\", \"6\", \"7\", \"8\", \"9\", \"10\", \"11\", \"12\", \"13\", \"14\", \"15\", \"16\", \"17\", \"18\", \"19\", \"20\", \"21\", \"22\", \"23\", \"24\", \"25\", \"26\", \"27\", \"28\", \"29\", \"30\", \"31\", \"32\", \"33\", \"38\", \"39\"], \"mode\": \"lines\", \"name\": \"average_precision_score_micro_max\", \"stepped\": true, \"type\": \"scatter\", \"data\": [0.999999986940268, 1.0, 1.0, 1.0, 1.0, 1.0, 1.0, 1.0, 1.0, 1.0, 1.0, 1.0, 1.0, 1.0, 1.0, 1.0, 1.0, 1.0, 1.0, 1.0, 1.0, 1.0, 1.0, 1.0, 1.0, 1.0, 1.0, 1.0, 1.0, 1.0, 1.0, 1.0, 1.0, 1.0, 1.0, 1.0]}], \"AUC_macro\": [{\"categories\": [\"0\", \"1\", \"2\", \"3\", \"4\", \"5\", \"6\", \"7\", \"8\", \"9\", \"10\", \"11\", \"12\", \"13\", \"14\", \"15\", \"16\", \"17\", \"18\", \"19\", \"20\", \"21\", \"22\", \"23\", \"24\", \"25\", \"26\", \"27\", \"28\", \"29\", \"30\", \"31\", \"32\", \"33\", \"38\", \"39\"], \"mode\": \"markers\", \"name\": \"AUC_macro\", \"stepped\": false, \"type\": \"scatter\", \"data\": [1.0, 1.0, 0.9998181866057445, 0.9999404404398129, 0.9969056196221373, 0.990966747793057, 0.9999987983597506, 1.0, 1.0, 0.9999858937883768, 0.9999940701665954, 0.9999029283659406, 0.9999998955095435, 1.0, 0.9999998955095436, 1.0, 1.0, 1.0, 0.9999999477547717, 1.0, 0.9999916407634826, 1.0, 1.0, 1.0, 0.9999923721966778, 0.5, 0.9999987983597506, 0.9999932081203294, 0.9999341187671965, 0.9999852668456379, 0.5, 0.999004467175995, 0.9999625924165843, 1.0, 1.0, 1.0]}, {\"categories\": [\"0\", \"1\", \"2\", \"3\", \"4\", \"5\", \"6\", \"7\", \"8\", \"9\", \"10\", \"11\", \"12\", \"13\", \"14\", \"15\", \"16\", \"17\", \"18\", \"19\", \"20\", \"21\", \"22\", \"23\", \"24\", \"25\", \"26\", \"27\", \"28\", \"29\", \"30\", \"31\", \"32\", \"33\", \"38\", \"39\"], \"mode\": \"lines\", \"name\": \"AUC_macro_max\", \"stepped\": true, \"type\": \"scatter\", \"data\": [1.0, 1.0, 1.0, 1.0, 1.0, 1.0, 1.0, 1.0, 1.0, 1.0, 1.0, 1.0, 1.0, 1.0, 1.0, 1.0, 1.0, 1.0, 1.0, 1.0, 1.0, 1.0, 1.0, 1.0, 1.0, 1.0, 1.0, 1.0, 1.0, 1.0, 1.0, 1.0, 1.0, 1.0, 1.0, 1.0]}]}, \"metricName\": null, \"primaryMetricName\": \"accuracy\", \"showLegend\": false}, \"run_metrics\": [{\"name\": \"experiment_status\", \"run_id\": \"AutoML_aa037dcb-346c-4c3f-9d94-cfbc7acb121e\", \"categories\": [0, 1, 2, 3, 4, 5, 6, 7, 8, 9, 10, 11, 12], \"series\": [{\"data\": [\"DatasetEvaluation\", \"FeaturesGeneration\", \"DatasetFeaturization\", \"DatasetFeaturizationCompleted\", \"ModelSelection\", \"BestRunExplainModel\", \"ModelExplanationDataSetSetup\", \"PickSurrogateModel\", \"EngineeredFeatureExplanations\", \"EngineeredFeatureExplanations\", \"RawFeaturesExplanations\", \"RawFeaturesExplanations\", \"BestRunExplainModel\"]}]}, {\"name\": \"experiment_status_description\", \"run_id\": \"AutoML_aa037dcb-346c-4c3f-9d94-cfbc7acb121e\", \"categories\": [0, 1, 2, 3, 4, 5, 6, 7, 8, 9, 10, 11, 12], \"series\": [{\"data\": [\"Gathering dataset statistics.\", \"Generating features for the dataset.\", \"Beginning to fit featurizers and featurize the dataset.\", \"Completed fit featurizers and featurizing the dataset.\", \"Beginning model selection.\", \"Best run model explanations started\", \"Model explanations data setup completed\", \"Choosing LightGBM as the surrogate model for explanations\", \"Computation of engineered features started\", \"Computation of engineered features completed\", \"Computation of raw features started\", \"Computation of raw features completed\", \"Best run model explanations completed\"]}]}, {\"name\": \"accuracy\", \"run_id\": \"AutoML_aa037dcb-346c-4c3f-9d94-cfbc7acb121e\", \"categories\": [0], \"series\": [{\"data\": [1.0]}]}, {\"name\": \"matthews_correlation\", \"run_id\": \"AutoML_aa037dcb-346c-4c3f-9d94-cfbc7acb121e\", \"categories\": [0], \"series\": [{\"data\": [1.0]}]}, {\"name\": \"balanced_accuracy\", \"run_id\": \"AutoML_aa037dcb-346c-4c3f-9d94-cfbc7acb121e\", \"categories\": [0], \"series\": [{\"data\": [1.0]}]}, {\"name\": \"average_precision_score_micro\", \"run_id\": \"AutoML_aa037dcb-346c-4c3f-9d94-cfbc7acb121e\", \"categories\": [0], \"series\": [{\"data\": [1.0]}]}, {\"name\": \"weighted_accuracy\", \"run_id\": \"AutoML_aa037dcb-346c-4c3f-9d94-cfbc7acb121e\", \"categories\": [0], \"series\": [{\"data\": [1.0]}]}, {\"name\": \"average_precision_score_weighted\", \"run_id\": \"AutoML_aa037dcb-346c-4c3f-9d94-cfbc7acb121e\", \"categories\": [0], \"series\": [{\"data\": [1.0]}]}, {\"name\": \"AUC_weighted\", \"run_id\": \"AutoML_aa037dcb-346c-4c3f-9d94-cfbc7acb121e\", \"categories\": [0], \"series\": [{\"data\": [1.0]}]}, {\"name\": \"AUC_macro\", \"run_id\": \"AutoML_aa037dcb-346c-4c3f-9d94-cfbc7acb121e\", \"categories\": [0], \"series\": [{\"data\": [1.0]}]}, {\"name\": \"f1_score_macro\", \"run_id\": \"AutoML_aa037dcb-346c-4c3f-9d94-cfbc7acb121e\", \"categories\": [0], \"series\": [{\"data\": [1.0]}]}, {\"name\": \"recall_score_macro\", \"run_id\": \"AutoML_aa037dcb-346c-4c3f-9d94-cfbc7acb121e\", \"categories\": [0], \"series\": [{\"data\": [1.0]}]}, {\"name\": \"recall_score_micro\", \"run_id\": \"AutoML_aa037dcb-346c-4c3f-9d94-cfbc7acb121e\", \"categories\": [0], \"series\": [{\"data\": [1.0]}]}, {\"name\": \"f1_score_weighted\", \"run_id\": \"AutoML_aa037dcb-346c-4c3f-9d94-cfbc7acb121e\", \"categories\": [0], \"series\": [{\"data\": [1.0]}]}, {\"name\": \"precision_score_micro\", \"run_id\": \"AutoML_aa037dcb-346c-4c3f-9d94-cfbc7acb121e\", \"categories\": [0], \"series\": [{\"data\": [1.0]}]}, {\"name\": \"f1_score_micro\", \"run_id\": \"AutoML_aa037dcb-346c-4c3f-9d94-cfbc7acb121e\", \"categories\": [0], \"series\": [{\"data\": [1.0]}]}, {\"name\": \"average_precision_score_macro\", \"run_id\": \"AutoML_aa037dcb-346c-4c3f-9d94-cfbc7acb121e\", \"categories\": [0], \"series\": [{\"data\": [1.0]}]}, {\"name\": \"norm_macro_recall\", \"run_id\": \"AutoML_aa037dcb-346c-4c3f-9d94-cfbc7acb121e\", \"categories\": [0], \"series\": [{\"data\": [1.0]}]}, {\"name\": \"log_loss\", \"run_id\": \"AutoML_aa037dcb-346c-4c3f-9d94-cfbc7acb121e\", \"categories\": [0], \"series\": [{\"data\": [4.021174837958184e-05]}]}, {\"name\": \"recall_score_weighted\", \"run_id\": \"AutoML_aa037dcb-346c-4c3f-9d94-cfbc7acb121e\", \"categories\": [0], \"series\": [{\"data\": [1.0]}]}, {\"name\": \"AUC_micro\", \"run_id\": \"AutoML_aa037dcb-346c-4c3f-9d94-cfbc7acb121e\", \"categories\": [0], \"series\": [{\"data\": [1.0]}]}, {\"name\": \"precision_score_macro\", \"run_id\": \"AutoML_aa037dcb-346c-4c3f-9d94-cfbc7acb121e\", \"categories\": [0], \"series\": [{\"data\": [1.0]}]}, {\"name\": \"precision_score_weighted\", \"run_id\": \"AutoML_aa037dcb-346c-4c3f-9d94-cfbc7acb121e\", \"categories\": [0], \"series\": [{\"data\": [1.0]}]}], \"run_logs\": \"\\nRun is completed.\", \"graph\": {}, \"widget_settings\": {\"childWidgetDisplay\": \"popup\", \"send_telemetry\": false, \"log_level\": \"INFO\", \"sdk_version\": \"1.27.0\"}, \"loading\": false}"
          },
          "metadata": {}
        }
      ],
      "execution_count": 25,
      "metadata": {
        "gather": {
          "logged": 1620360305839
        },
        "jupyter": {
          "outputs_hidden": false,
          "source_hidden": false
        },
        "nteract": {
          "transient": {
            "deleting": false
          }
        }
      }
    },
    {
      "cell_type": "markdown",
      "source": [
        "## Best Model\n",
        "\n",
        "TODO: In the cell below, get the best model from the automl experiments and display all the properties of the model.\n",
        "\n"
      ],
      "metadata": {}
    },
    {
      "cell_type": "code",
      "source": [
        "best_run_automl, fitted_model_automl = remote_run.get_output()\r\n",
        "\r\n",
        "#Displaying properties of the AutoML Model\r\n",
        "print(\"AutoML:\")\r\n",
        "automl_best_run_metrics = best_run_automl.get_metrics()\r\n",
        "print(\"Best run Id: \",best_run_automl.id)\r\n",
        "print(\"Accuracy: \", automl_best_run_metrics['accuracy'])\r\n",
        "\r\n",
        "#Saving the best model\r\n",
        "model_automl = best_run_automl.register_model(model_path='./outputs/', model_name='model_automl.pkl')\r\n",
        "print(\"\\nModel saved successfully\")"
      ],
      "outputs": [
        {
          "output_type": "stream",
          "name": "stdout",
          "text": [
            "AutoML:\n",
            "Best run Id:  AutoML_aa037dcb-346c-4c3f-9d94-cfbc7acb121e_1\n",
            "Accuracy:  1.0\n",
            "\n",
            "Model saved successfully\n"
          ]
        }
      ],
      "execution_count": 34,
      "metadata": {
        "gather": {
          "logged": 1620362378392
        },
        "jupyter": {
          "outputs_hidden": false,
          "source_hidden": false
        },
        "nteract": {
          "transient": {
            "deleting": false
          }
        }
      }
    },
    {
      "cell_type": "markdown",
      "source": [
        "## Model Deployment\n",
        "\n",
        "Remember you have to deploy only one of the two models you trained.. Perform the steps in the rest of this notebook only if you wish to deploy this model.\n",
        "\n",
        "TODO: In the cell below, register the model, create an inference config and deploy the model as a web service."
      ],
      "metadata": {}
    },
    {
      "cell_type": "code",
      "source": [],
      "outputs": [],
      "execution_count": null,
      "metadata": {
        "gather": {
          "logged": 1598431435189
        },
        "jupyter": {
          "outputs_hidden": false,
          "source_hidden": false
        },
        "nteract": {
          "transient": {
            "deleting": false
          }
        }
      }
    },
    {
      "cell_type": "markdown",
      "source": [
        "TODO: In the cell below, send a request to the web service you deployed to test it."
      ],
      "metadata": {
        "collapsed": true,
        "gather": {
          "logged": 1598431657736
        },
        "jupyter": {
          "outputs_hidden": false,
          "source_hidden": false
        },
        "nteract": {
          "transient": {
            "deleting": false
          }
        }
      }
    },
    {
      "cell_type": "code",
      "source": [],
      "outputs": [],
      "execution_count": null,
      "metadata": {
        "gather": {
          "logged": 1598432707604
        },
        "jupyter": {
          "outputs_hidden": false,
          "source_hidden": false
        },
        "nteract": {
          "transient": {
            "deleting": false
          }
        }
      }
    },
    {
      "cell_type": "markdown",
      "source": [
        "TODO: In the cell below, print the logs of the web service and delete the service"
      ],
      "metadata": {
        "collapsed": true,
        "gather": {
          "logged": 1598432765711
        },
        "jupyter": {
          "outputs_hidden": false,
          "source_hidden": false
        },
        "nteract": {
          "transient": {
            "deleting": false
          }
        }
      }
    },
    {
      "cell_type": "code",
      "source": [],
      "outputs": [],
      "execution_count": null,
      "metadata": {
        "jupyter": {
          "outputs_hidden": false,
          "source_hidden": false
        },
        "nteract": {
          "transient": {
            "deleting": false
          }
        }
      }
    }
  ],
  "metadata": {
    "kernel_info": {
      "name": "python3"
    },
    "kernelspec": {
      "name": "python382jvsc74a57bd031f2aee4e71d21fbe5cf8b01ff0e069b9275f58929596ceb00d14d90e3e16cd6",
      "display_name": "Python 3.8.2 64-bit"
    },
    "language_info": {
      "name": "python",
      "version": "3.8.2",
      "mimetype": "text/x-python",
      "codemirror_mode": {
        "name": "ipython",
        "version": 3
      },
      "pygments_lexer": "ipython3",
      "nbconvert_exporter": "python",
      "file_extension": ".py"
    },
    "nteract": {
      "version": "nteract-front-end@1.0.0"
    },
    "microsoft": {
      "host": {
        "AzureML": {
          "notebookHasBeenCompleted": true
        }
      }
    },
    "metadata": {
      "interpreter": {
        "hash": "31f2aee4e71d21fbe5cf8b01ff0e069b9275f58929596ceb00d14d90e3e16cd6"
      }
    }
  },
  "nbformat": 4,
  "nbformat_minor": 2
}